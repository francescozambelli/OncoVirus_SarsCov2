{
 "cells": [
  {
   "cell_type": "code",
   "execution_count": 191,
   "metadata": {
    "tags": []
   },
   "outputs": [],
   "source": [
    "import numpy as np \n",
    "import pandas as pd\n",
    "import os\n",
    "from tqdm import tqdm\n",
    "import graph_tool as gt\n",
    "import scipy as sp\n",
    "import matplotlib.pyplot as plt"
   ]
  },
  {
   "cell_type": "markdown",
   "metadata": {},
   "source": [
    "In BIOGRID_data/VIRUS_from_BIOGRID I have all the viruses interaction data downloaded from BIOGRID. With this script I wanto to create a list of file in which from each of this files, I exctract the human proteins directly targeted by the viruses and unifrom the nomenclature with the NCBI one.\n",
    "I will save all this file in the BIOGRID_to_VIRPROT."
   ]
  },
  {
   "cell_type": "markdown",
   "metadata": {},
   "source": [
    "# From BIOGRID interaction file for human viruses, exctract list of human proteins directly targeted by the viruses"
   ]
  },
  {
   "cell_type": "code",
   "execution_count": 198,
   "metadata": {
    "tags": []
   },
   "outputs": [
    {
     "data": {
      "text/plain": [
       "['BIOGRID-ORGANISM-Human_papillomavirus_6b-4.4.220.mitab.txt',\n",
       " 'BIOGRID-ORGANISM-Human_papillomavirus_9-4.4.220.mitab.txt',\n",
       " 'BIOGRID-ORGANISM-Human_Herpesvirus_6B-4.4.220.mitab.txt',\n",
       " 'BIOGRID-ORGANISM-Human_Herpesvirus_5-4.4.220.mitab.txt',\n",
       " 'BIOGRID-ORGANISM-Human_papillomavirus_32-4.4.220.mitab.txt',\n",
       " 'BIOGRID-ORGANISM-Severe_acute_respiratory_syndrome_coronavirus_2-4.4.220.mitab.txt',\n",
       " 'BIOGRID-ORGANISM-Human_Immunodeficiency_Virus_2-4.4.220.mitab.txt',\n",
       " 'BIOGRID-ORGANISM-Vaccinia_Virus-4.4.220.mitab.txt',\n",
       " 'BIOGRID-ORGANISM-Human_Herpesvirus_4-4.4.220.mitab.txt',\n",
       " 'BIOGRID-ORGANISM-Severe_acute_respiratory_syndrome_coronavirus-4.4.220.mitab.txt',\n",
       " 'BIOGRID-ORGANISM-Human_Herpesvirus_2-4.4.220.mitab.txt',\n",
       " 'BIOGRID-ORGANISM-Human_Immunodeficiency_Virus_1-4.4.220.mitab.txt',\n",
       " 'BIOGRID-ORGANISM-Human_Herpesvirus_3-4.4.220.mitab.txt',\n",
       " 'BIOGRID-ORGANISM-Human_papillomavirus_10-4.4.220.mitab.txt',\n",
       " 'BIOGRID-ORGANISM-Human_papillomavirus_7-4.4.220.mitab.txt',\n",
       " 'BIOGRID-ORGANISM-Human_Herpesvirus_1-4.4.220.mitab.txt',\n",
       " 'BIOGRID-ORGANISM-Human_papillomavirus_5-4.4.220.mitab.txt',\n",
       " 'BIOGRID-ORGANISM-Hepatitus_C_Virus-4.4.220.mitab.txt',\n",
       " 'BIOGRID-ORGANISM-Human_Herpesvirus_8-4.4.220.mitab.txt',\n",
       " 'BIOGRID-ORGANISM-Human_papillomavirus_16-4.4.220.mitab.txt',\n",
       " 'BIOGRID-ORGANISM-Human_Herpesvirus_6A-4.4.220.mitab.txt',\n",
       " 'BIOGRID-ORGANISM-Human_Herpesvirus_7-4.4.220.mitab.txt',\n",
       " 'BIOGRID-ORGANISM-Simian_Virus_40-4.4.220.mitab.txt']"
      ]
     },
     "execution_count": 198,
     "metadata": {},
     "output_type": "execute_result"
    }
   ],
   "source": [
    "dir_list = os.listdir(\"../Data/data_BIOGRID/VIRUS_from_BIOGRID\")\n",
    "names_list = [vn[17:-18] for vn in dir_list]\n",
    "dir_list"
   ]
  },
  {
   "cell_type": "code",
   "execution_count": 176,
   "metadata": {
    "tags": []
   },
   "outputs": [
    {
     "data": {
      "text/html": [
       "<div>\n",
       "<style scoped>\n",
       "    .dataframe tbody tr th:only-of-type {\n",
       "        vertical-align: middle;\n",
       "    }\n",
       "\n",
       "    .dataframe tbody tr th {\n",
       "        vertical-align: top;\n",
       "    }\n",
       "\n",
       "    .dataframe thead th {\n",
       "        text-align: right;\n",
       "    }\n",
       "</style>\n",
       "<table border=\"1\" class=\"dataframe\">\n",
       "  <thead>\n",
       "    <tr style=\"text-align: right;\">\n",
       "      <th></th>\n",
       "      <th>#ID Interactor A</th>\n",
       "      <th>ID Interactor B</th>\n",
       "      <th>Alt IDs Interactor A</th>\n",
       "      <th>Alt IDs Interactor B</th>\n",
       "      <th>Aliases Interactor A</th>\n",
       "      <th>Aliases Interactor B</th>\n",
       "      <th>Interaction Detection Method</th>\n",
       "      <th>Publication 1st Author</th>\n",
       "      <th>Publication Identifiers</th>\n",
       "      <th>Taxid Interactor A</th>\n",
       "      <th>Taxid Interactor B</th>\n",
       "      <th>Interaction Types</th>\n",
       "      <th>Source Database</th>\n",
       "      <th>Interaction Identifiers</th>\n",
       "      <th>Confidence Values</th>\n",
       "    </tr>\n",
       "  </thead>\n",
       "  <tbody>\n",
       "    <tr>\n",
       "      <th>0</th>\n",
       "      <td>entrez gene/locuslink:1489368</td>\n",
       "      <td>entrez gene/locuslink:7337</td>\n",
       "      <td>biogrid:3509162|entrez gene/locuslink:E6|entre...</td>\n",
       "      <td>biogrid:113185|entrez gene/locuslink:UBE3A|uni...</td>\n",
       "      <td>-</td>\n",
       "      <td>entrez gene/locuslink:ANCR(gene name synonym)|...</td>\n",
       "      <td>psi-mi:\"MI:0090\"(protein complementation assay)</td>\n",
       "      <td>Poirson J (2017)</td>\n",
       "      <td>pubmed:28786561</td>\n",
       "      <td>taxid:10600</td>\n",
       "      <td>taxid:9606</td>\n",
       "      <td>psi-mi:\"MI:0407\"(direct interaction)</td>\n",
       "      <td>psi-mi:\"MI:0463\"(biogrid)</td>\n",
       "      <td>biogrid:2484839</td>\n",
       "      <td>-</td>\n",
       "    </tr>\n",
       "    <tr>\n",
       "      <th>1</th>\n",
       "      <td>entrez gene/locuslink:1489368</td>\n",
       "      <td>entrez gene/locuslink:23024</td>\n",
       "      <td>biogrid:3509162|entrez gene/locuslink:E6|entre...</td>\n",
       "      <td>biogrid:116664|entrez gene/locuslink:PDZRN3|un...</td>\n",
       "      <td>-</td>\n",
       "      <td>entrez gene/locuslink:LNX3(gene name synonym)|...</td>\n",
       "      <td>psi-mi:\"MI:0090\"(protein complementation assay)</td>\n",
       "      <td>Poirson J (2017)</td>\n",
       "      <td>pubmed:28786561</td>\n",
       "      <td>taxid:10600</td>\n",
       "      <td>taxid:9606</td>\n",
       "      <td>psi-mi:\"MI:0407\"(direct interaction)</td>\n",
       "      <td>psi-mi:\"MI:0463\"(biogrid)</td>\n",
       "      <td>biogrid:2484840</td>\n",
       "      <td>-</td>\n",
       "    </tr>\n",
       "    <tr>\n",
       "      <th>2</th>\n",
       "      <td>entrez gene/locuslink:1489368</td>\n",
       "      <td>entrez gene/locuslink:23295</td>\n",
       "      <td>biogrid:3509162|entrez gene/locuslink:E6|entre...</td>\n",
       "      <td>biogrid:116890|entrez gene/locuslink:MGRN1|uni...</td>\n",
       "      <td>-</td>\n",
       "      <td>entrez gene/locuslink:RNF156(gene name synonym)</td>\n",
       "      <td>psi-mi:\"MI:0090\"(protein complementation assay)</td>\n",
       "      <td>Poirson J (2017)</td>\n",
       "      <td>pubmed:28786561</td>\n",
       "      <td>taxid:10600</td>\n",
       "      <td>taxid:9606</td>\n",
       "      <td>psi-mi:\"MI:0407\"(direct interaction)</td>\n",
       "      <td>psi-mi:\"MI:0463\"(biogrid)</td>\n",
       "      <td>biogrid:2484841</td>\n",
       "      <td>-</td>\n",
       "    </tr>\n",
       "    <tr>\n",
       "      <th>3</th>\n",
       "      <td>entrez gene/locuslink:1489369</td>\n",
       "      <td>entrez gene/locuslink:5784</td>\n",
       "      <td>biogrid:3509163|entrez gene/locuslink:E7|entre...</td>\n",
       "      <td>biogrid:111748|entrez gene/locuslink:PTPN14|en...</td>\n",
       "      <td>-</td>\n",
       "      <td>entrez gene/locuslink:PEZ(gene name synonym)|e...</td>\n",
       "      <td>psi-mi:\"MI:0090\"(protein complementation assay)</td>\n",
       "      <td>Poirson J (2017)</td>\n",
       "      <td>pubmed:28786561</td>\n",
       "      <td>taxid:10600</td>\n",
       "      <td>taxid:9606</td>\n",
       "      <td>psi-mi:\"MI:0407\"(direct interaction)</td>\n",
       "      <td>psi-mi:\"MI:0463\"(biogrid)</td>\n",
       "      <td>biogrid:2484842</td>\n",
       "      <td>-</td>\n",
       "    </tr>\n",
       "    <tr>\n",
       "      <th>4</th>\n",
       "      <td>entrez gene/locuslink:1489369</td>\n",
       "      <td>entrez gene/locuslink:5933</td>\n",
       "      <td>biogrid:3509163|entrez gene/locuslink:E7|entre...</td>\n",
       "      <td>biogrid:111868|entrez gene/locuslink:RBL1|entr...</td>\n",
       "      <td>-</td>\n",
       "      <td>entrez gene/locuslink:CP107(gene name synonym)...</td>\n",
       "      <td>psi-mi:\"MI:0090\"(protein complementation assay)</td>\n",
       "      <td>Poirson J (2017)</td>\n",
       "      <td>pubmed:28786561</td>\n",
       "      <td>taxid:10600</td>\n",
       "      <td>taxid:9606</td>\n",
       "      <td>psi-mi:\"MI:0407\"(direct interaction)</td>\n",
       "      <td>psi-mi:\"MI:0463\"(biogrid)</td>\n",
       "      <td>biogrid:2484843</td>\n",
       "      <td>-</td>\n",
       "    </tr>\n",
       "    <tr>\n",
       "      <th>...</th>\n",
       "      <td>...</td>\n",
       "      <td>...</td>\n",
       "      <td>...</td>\n",
       "      <td>...</td>\n",
       "      <td>...</td>\n",
       "      <td>...</td>\n",
       "      <td>...</td>\n",
       "      <td>...</td>\n",
       "      <td>...</td>\n",
       "      <td>...</td>\n",
       "      <td>...</td>\n",
       "      <td>...</td>\n",
       "      <td>...</td>\n",
       "      <td>...</td>\n",
       "      <td>...</td>\n",
       "    </tr>\n",
       "    <tr>\n",
       "      <th>587</th>\n",
       "      <td>entrez gene/locuslink:1489369</td>\n",
       "      <td>entrez gene/locuslink:9859</td>\n",
       "      <td>biogrid:3509163|entrez gene/locuslink:E7|entre...</td>\n",
       "      <td>biogrid:115193|entrez gene/locuslink:CEP170|un...</td>\n",
       "      <td>-</td>\n",
       "      <td>entrez gene/locuslink:FAM68A(gene name synonym...</td>\n",
       "      <td>psi-mi:\"MI:0004\"(affinity chromatography techn...</td>\n",
       "      <td>Rozenblatt-Rosen O (2012)</td>\n",
       "      <td>pubmed:22810586</td>\n",
       "      <td>taxid:10600</td>\n",
       "      <td>taxid:9606</td>\n",
       "      <td>psi-mi:\"MI:0915\"(physical association)</td>\n",
       "      <td>psi-mi:\"MI:0463\"(biogrid)</td>\n",
       "      <td>biogrid:2888590</td>\n",
       "      <td>-</td>\n",
       "    </tr>\n",
       "    <tr>\n",
       "      <th>588</th>\n",
       "      <td>entrez gene/locuslink:1489369</td>\n",
       "      <td>entrez gene/locuslink:160</td>\n",
       "      <td>biogrid:3509163|entrez gene/locuslink:E7|entre...</td>\n",
       "      <td>biogrid:106669|entrez gene/locuslink:AP2A1|uni...</td>\n",
       "      <td>-</td>\n",
       "      <td>entrez gene/locuslink:ADTAA(gene name synonym)...</td>\n",
       "      <td>psi-mi:\"MI:0004\"(affinity chromatography techn...</td>\n",
       "      <td>Rozenblatt-Rosen O (2012)</td>\n",
       "      <td>pubmed:22810586</td>\n",
       "      <td>taxid:10600</td>\n",
       "      <td>taxid:9606</td>\n",
       "      <td>psi-mi:\"MI:0915\"(physical association)</td>\n",
       "      <td>psi-mi:\"MI:0463\"(biogrid)</td>\n",
       "      <td>biogrid:2888591</td>\n",
       "      <td>-</td>\n",
       "    </tr>\n",
       "    <tr>\n",
       "      <th>589</th>\n",
       "      <td>entrez gene/locuslink:1489369</td>\n",
       "      <td>entrez gene/locuslink:1267</td>\n",
       "      <td>biogrid:3509163|entrez gene/locuslink:E7|entre...</td>\n",
       "      <td>biogrid:107667|entrez gene/locuslink:CNP|unipr...</td>\n",
       "      <td>-</td>\n",
       "      <td>entrez gene/locuslink:CNP1(gene name synonym)</td>\n",
       "      <td>psi-mi:\"MI:0004\"(affinity chromatography techn...</td>\n",
       "      <td>Rozenblatt-Rosen O (2012)</td>\n",
       "      <td>pubmed:22810586</td>\n",
       "      <td>taxid:10600</td>\n",
       "      <td>taxid:9606</td>\n",
       "      <td>psi-mi:\"MI:0915\"(physical association)</td>\n",
       "      <td>psi-mi:\"MI:0463\"(biogrid)</td>\n",
       "      <td>biogrid:2888592</td>\n",
       "      <td>-</td>\n",
       "    </tr>\n",
       "    <tr>\n",
       "      <th>590</th>\n",
       "      <td>entrez gene/locuslink:1489369</td>\n",
       "      <td>entrez gene/locuslink:1173</td>\n",
       "      <td>biogrid:3509163|entrez gene/locuslink:E7|entre...</td>\n",
       "      <td>biogrid:107587|entrez gene/locuslink:AP2M1|uni...</td>\n",
       "      <td>-</td>\n",
       "      <td>entrez gene/locuslink:AP50(gene name synonym)|...</td>\n",
       "      <td>psi-mi:\"MI:0004\"(affinity chromatography techn...</td>\n",
       "      <td>Rozenblatt-Rosen O (2012)</td>\n",
       "      <td>pubmed:22810586</td>\n",
       "      <td>taxid:10600</td>\n",
       "      <td>taxid:9606</td>\n",
       "      <td>psi-mi:\"MI:0915\"(physical association)</td>\n",
       "      <td>psi-mi:\"MI:0463\"(biogrid)</td>\n",
       "      <td>biogrid:2888593</td>\n",
       "      <td>-</td>\n",
       "    </tr>\n",
       "    <tr>\n",
       "      <th>591</th>\n",
       "      <td>entrez gene/locuslink:1489368</td>\n",
       "      <td>entrez gene/locuslink:7337</td>\n",
       "      <td>biogrid:3509162|entrez gene/locuslink:E6|entre...</td>\n",
       "      <td>biogrid:113185|entrez gene/locuslink:UBE3A|uni...</td>\n",
       "      <td>-</td>\n",
       "      <td>entrez gene/locuslink:ANCR(gene name synonym)|...</td>\n",
       "      <td>psi-mi:\"MI:0004\"(affinity chromatography techn...</td>\n",
       "      <td>Rozenblatt-Rosen O (2012)</td>\n",
       "      <td>pubmed:22810586</td>\n",
       "      <td>taxid:10600</td>\n",
       "      <td>taxid:9606</td>\n",
       "      <td>psi-mi:\"MI:0915\"(physical association)</td>\n",
       "      <td>psi-mi:\"MI:0463\"(biogrid)</td>\n",
       "      <td>biogrid:2888597</td>\n",
       "      <td>-</td>\n",
       "    </tr>\n",
       "  </tbody>\n",
       "</table>\n",
       "<p>592 rows × 15 columns</p>\n",
       "</div>"
      ],
      "text/plain": [
       "                  #ID Interactor A              ID Interactor B  \\\n",
       "0    entrez gene/locuslink:1489368   entrez gene/locuslink:7337   \n",
       "1    entrez gene/locuslink:1489368  entrez gene/locuslink:23024   \n",
       "2    entrez gene/locuslink:1489368  entrez gene/locuslink:23295   \n",
       "3    entrez gene/locuslink:1489369   entrez gene/locuslink:5784   \n",
       "4    entrez gene/locuslink:1489369   entrez gene/locuslink:5933   \n",
       "..                             ...                          ...   \n",
       "587  entrez gene/locuslink:1489369   entrez gene/locuslink:9859   \n",
       "588  entrez gene/locuslink:1489369    entrez gene/locuslink:160   \n",
       "589  entrez gene/locuslink:1489369   entrez gene/locuslink:1267   \n",
       "590  entrez gene/locuslink:1489369   entrez gene/locuslink:1173   \n",
       "591  entrez gene/locuslink:1489368   entrez gene/locuslink:7337   \n",
       "\n",
       "                                  Alt IDs Interactor A  \\\n",
       "0    biogrid:3509162|entrez gene/locuslink:E6|entre...   \n",
       "1    biogrid:3509162|entrez gene/locuslink:E6|entre...   \n",
       "2    biogrid:3509162|entrez gene/locuslink:E6|entre...   \n",
       "3    biogrid:3509163|entrez gene/locuslink:E7|entre...   \n",
       "4    biogrid:3509163|entrez gene/locuslink:E7|entre...   \n",
       "..                                                 ...   \n",
       "587  biogrid:3509163|entrez gene/locuslink:E7|entre...   \n",
       "588  biogrid:3509163|entrez gene/locuslink:E7|entre...   \n",
       "589  biogrid:3509163|entrez gene/locuslink:E7|entre...   \n",
       "590  biogrid:3509163|entrez gene/locuslink:E7|entre...   \n",
       "591  biogrid:3509162|entrez gene/locuslink:E6|entre...   \n",
       "\n",
       "                                  Alt IDs Interactor B Aliases Interactor A  \\\n",
       "0    biogrid:113185|entrez gene/locuslink:UBE3A|uni...                    -   \n",
       "1    biogrid:116664|entrez gene/locuslink:PDZRN3|un...                    -   \n",
       "2    biogrid:116890|entrez gene/locuslink:MGRN1|uni...                    -   \n",
       "3    biogrid:111748|entrez gene/locuslink:PTPN14|en...                    -   \n",
       "4    biogrid:111868|entrez gene/locuslink:RBL1|entr...                    -   \n",
       "..                                                 ...                  ...   \n",
       "587  biogrid:115193|entrez gene/locuslink:CEP170|un...                    -   \n",
       "588  biogrid:106669|entrez gene/locuslink:AP2A1|uni...                    -   \n",
       "589  biogrid:107667|entrez gene/locuslink:CNP|unipr...                    -   \n",
       "590  biogrid:107587|entrez gene/locuslink:AP2M1|uni...                    -   \n",
       "591  biogrid:113185|entrez gene/locuslink:UBE3A|uni...                    -   \n",
       "\n",
       "                                  Aliases Interactor B  \\\n",
       "0    entrez gene/locuslink:ANCR(gene name synonym)|...   \n",
       "1    entrez gene/locuslink:LNX3(gene name synonym)|...   \n",
       "2      entrez gene/locuslink:RNF156(gene name synonym)   \n",
       "3    entrez gene/locuslink:PEZ(gene name synonym)|e...   \n",
       "4    entrez gene/locuslink:CP107(gene name synonym)...   \n",
       "..                                                 ...   \n",
       "587  entrez gene/locuslink:FAM68A(gene name synonym...   \n",
       "588  entrez gene/locuslink:ADTAA(gene name synonym)...   \n",
       "589      entrez gene/locuslink:CNP1(gene name synonym)   \n",
       "590  entrez gene/locuslink:AP50(gene name synonym)|...   \n",
       "591  entrez gene/locuslink:ANCR(gene name synonym)|...   \n",
       "\n",
       "                          Interaction Detection Method  \\\n",
       "0      psi-mi:\"MI:0090\"(protein complementation assay)   \n",
       "1      psi-mi:\"MI:0090\"(protein complementation assay)   \n",
       "2      psi-mi:\"MI:0090\"(protein complementation assay)   \n",
       "3      psi-mi:\"MI:0090\"(protein complementation assay)   \n",
       "4      psi-mi:\"MI:0090\"(protein complementation assay)   \n",
       "..                                                 ...   \n",
       "587  psi-mi:\"MI:0004\"(affinity chromatography techn...   \n",
       "588  psi-mi:\"MI:0004\"(affinity chromatography techn...   \n",
       "589  psi-mi:\"MI:0004\"(affinity chromatography techn...   \n",
       "590  psi-mi:\"MI:0004\"(affinity chromatography techn...   \n",
       "591  psi-mi:\"MI:0004\"(affinity chromatography techn...   \n",
       "\n",
       "        Publication 1st Author Publication Identifiers Taxid Interactor A  \\\n",
       "0             Poirson J (2017)         pubmed:28786561        taxid:10600   \n",
       "1             Poirson J (2017)         pubmed:28786561        taxid:10600   \n",
       "2             Poirson J (2017)         pubmed:28786561        taxid:10600   \n",
       "3             Poirson J (2017)         pubmed:28786561        taxid:10600   \n",
       "4             Poirson J (2017)         pubmed:28786561        taxid:10600   \n",
       "..                         ...                     ...                ...   \n",
       "587  Rozenblatt-Rosen O (2012)         pubmed:22810586        taxid:10600   \n",
       "588  Rozenblatt-Rosen O (2012)         pubmed:22810586        taxid:10600   \n",
       "589  Rozenblatt-Rosen O (2012)         pubmed:22810586        taxid:10600   \n",
       "590  Rozenblatt-Rosen O (2012)         pubmed:22810586        taxid:10600   \n",
       "591  Rozenblatt-Rosen O (2012)         pubmed:22810586        taxid:10600   \n",
       "\n",
       "    Taxid Interactor B                       Interaction Types  \\\n",
       "0           taxid:9606    psi-mi:\"MI:0407\"(direct interaction)   \n",
       "1           taxid:9606    psi-mi:\"MI:0407\"(direct interaction)   \n",
       "2           taxid:9606    psi-mi:\"MI:0407\"(direct interaction)   \n",
       "3           taxid:9606    psi-mi:\"MI:0407\"(direct interaction)   \n",
       "4           taxid:9606    psi-mi:\"MI:0407\"(direct interaction)   \n",
       "..                 ...                                     ...   \n",
       "587         taxid:9606  psi-mi:\"MI:0915\"(physical association)   \n",
       "588         taxid:9606  psi-mi:\"MI:0915\"(physical association)   \n",
       "589         taxid:9606  psi-mi:\"MI:0915\"(physical association)   \n",
       "590         taxid:9606  psi-mi:\"MI:0915\"(physical association)   \n",
       "591         taxid:9606  psi-mi:\"MI:0915\"(physical association)   \n",
       "\n",
       "               Source Database Interaction Identifiers Confidence Values  \n",
       "0    psi-mi:\"MI:0463\"(biogrid)         biogrid:2484839                 -  \n",
       "1    psi-mi:\"MI:0463\"(biogrid)         biogrid:2484840                 -  \n",
       "2    psi-mi:\"MI:0463\"(biogrid)         biogrid:2484841                 -  \n",
       "3    psi-mi:\"MI:0463\"(biogrid)         biogrid:2484842                 -  \n",
       "4    psi-mi:\"MI:0463\"(biogrid)         biogrid:2484843                 -  \n",
       "..                         ...                     ...               ...  \n",
       "587  psi-mi:\"MI:0463\"(biogrid)         biogrid:2888590                 -  \n",
       "588  psi-mi:\"MI:0463\"(biogrid)         biogrid:2888591                 -  \n",
       "589  psi-mi:\"MI:0463\"(biogrid)         biogrid:2888592                 -  \n",
       "590  psi-mi:\"MI:0463\"(biogrid)         biogrid:2888593                 -  \n",
       "591  psi-mi:\"MI:0463\"(biogrid)         biogrid:2888597                 -  \n",
       "\n",
       "[592 rows x 15 columns]"
      ]
     },
     "execution_count": 176,
     "metadata": {},
     "output_type": "execute_result"
    }
   ],
   "source": [
    "virus_ppi_all"
   ]
  },
  {
   "cell_type": "code",
   "execution_count": 186,
   "metadata": {
    "tags": []
   },
   "outputs": [],
   "source": [
    "human_prot_in_vir[[\"source\", \"target\"]].to_csv(\"../Data/data_BIOGRID/edgg.csv\", index=False)"
   ]
  },
  {
   "cell_type": "code",
   "execution_count": 187,
   "metadata": {
    "tags": []
   },
   "outputs": [
    {
     "name": "stderr",
     "output_type": "stream",
     "text": [
      "100%|███████████████████████████████████████████| 23/23 [00:05<00:00,  3.96it/s]\n"
     ]
    }
   ],
   "source": [
    "#load ncbi database\n",
    "ncbi = pd.read_csv(\"../Data/data_BIOGRID/Homo_sapiens.gene_info\", sep=\"\\t\")\n",
    "symbols = ncbi[\"Symbol\"]\n",
    "synonyms = [ncbi[\"Synonyms\"][i].split(\"|\") for i in range(len(ncbi))]\n",
    "unique_synonims = np.unique(np.concatenate(synonyms))\n",
    "\n",
    "\n",
    "for vn in tqdm(dir_list):\n",
    "    #load all the annotations on interactions between virus and human\n",
    "    if not os.path.isdir(\"../Data/data_BIOGRID/BIOGRID_to_VIRPROT/\"+vn[17:-18]):\n",
    "        os.mkdir(\"../Data/data_BIOGRID/BIOGRID_to_VIRPROT/\"+vn[17:-18])\n",
    "    \n",
    "    virus_ppi_all = pd.read_csv(\"../Data/data_BIOGRID/VIRUS_from_BIOGRID/\"+vn, sep=\"\\t\")\n",
    "\n",
    "    #create processed edge list\n",
    "    virus_ppi = pd.DataFrame()\n",
    "    virus_ppi[\"source\"] = [int(virus_ppi_all.iloc[i,2].split(\"|\")[0].replace(\"biogrid:\", \"\")) for i in range(len(virus_ppi_all))]\n",
    "    virus_ppi[\"target\"] = [int(virus_ppi_all.iloc[i,3].split(\"|\")[0].replace(\"biogrid:\", \"\")) for i in range(len(virus_ppi_all))]\n",
    "    virus_ppi[\"inhum\"] = np.any([virus_ppi_all[\"Taxid Interactor A\"]==\"taxid:9606\", virus_ppi_all[\"Taxid Interactor B\"]==\"taxid:9606\"], axis=0)\n",
    "    virus_ppi[\"type\"] = virus_ppi_all[\"Interaction Types\"]\n",
    "\n",
    "    #select human proteins only which appear at leat once\n",
    "    human_prot_in_vir = virus_ppi[virus_ppi[\"inhum\"]]\n",
    "    human_prot_in_vir[[\"source\", \"target\"]].to_csv(\"../Data/data_BIOGRID/BIOGRID_to_VIRPROT/\"+vn[17:-18]+\"/edges_biogrid.csv\", index=False)\n",
    "    \n",
    "    un_bio_nodes = np.unique(human_prot_in_vir[[\"source\", \"target\"]].to_numpy())\n",
    "    map_biogrid_nodes = dict(zip(un_bio_nodes, np.arange(len(un_bio_nodes))))\n",
    "    \n",
    "    pd.DataFrame({\"source\": human_prot_in_vir[\"source\"].map(map_biogrid_nodes),\n",
    "                  \"target\": human_prot_in_vir[\"target\"].map(map_biogrid_nodes)}).to_csv(\"../Data/data_BIOGRID/BIOGRID_to_VIRPROT/\"+vn[17:-18]+\"/edges_mapped.csv\", index=False)\n",
    "    np.savetxt(X=un_bio_nodes, fname = \"../Data/data_BIOGRID/BIOGRID_to_VIRPROT/\"+vn[17:-18]+\"/nodes_bio.txt\", fmt=\"%s\")\n",
    "    '''\n",
    "    #select proteins that are in ncbi index, and check if the others are related to some synonim, if true, pick the standard name\n",
    "    ncbi_prots = human_prot_in_vir[np.isin(human_prot_in_vir, symbols)]\n",
    "    not_ncbi_prots = human_prot_in_vir[np.logical_not(np.isin(human_prot_in_vir, symbols))]\n",
    "    but_synon = np.isin(human_prot_in_vir[np.logical_not(np.isin(human_prot_in_vir, symbols))], unique_synonims)\n",
    "\n",
    "    new_names = []\n",
    "    for i in range(len(not_ncbi_prots)):\n",
    "        if but_synon[i]:\n",
    "            new_names.append(symbols[([not_ncbi_prots[i] in s for s in synonyms])].values[0])\n",
    "\n",
    "    def_names = np.concatenate([ncbi_prots, new_names])\n",
    "    np.savetxt(X=def_names, fname = \"../Data/data_BIOGRID/BIOGRID_to_VIRPROT/\"+vn[17:-18]+\"/nodes.txt\", fmt=\"%s\")\n",
    "    '''"
   ]
  },
  {
   "cell_type": "code",
   "execution_count": 189,
   "metadata": {
    "tags": []
   },
   "outputs": [
    {
     "name": "stderr",
     "output_type": "stream",
     "text": [
      "100%|█████████████████████████████████████████| 23/23 [00:00<00:00, 3153.20it/s]\n"
     ]
    }
   ],
   "source": [
    "t1_nodes = []\n",
    "for vn in tqdm(dir_list):\n",
    "    nodes = np.loadtxt(\"../Data/data_BIOGRID/BIOGRID_to_VIRPROT/\"+vn[17:-18]+\"/nodes_bio.txt\")\n",
    "    t1_nodes.append(len(nodes))"
   ]
  },
  {
   "cell_type": "code",
   "execution_count": 215,
   "metadata": {
    "tags": []
   },
   "outputs": [
    {
     "data": {
      "image/png": "[encoded data removed]",
      "text/plain": [
       "<Figure size 700x700 with 1 Axes>"
      ]
     },
     "metadata": {},
     "output_type": "display_data"
    }
   ],
   "source": [
    "plt.figure(figsize=(7,7))\n",
    "plt.plot(t1_nodes, np.arange(len(t1_nodes)), \".\")\n",
    "plt.xscale(\"log\")\n",
    "plt.yticks(np.arange(len(t1_nodes)), labels=names_list)\n",
    "plt.grid(axis=\"x\", ls=\"--\", which=\"major\", lw=2)\n",
    "plt.grid(axis=\"x\", ls=\"--\", which=\"minor\", lw=0.5)\n",
    "plt.tight_layout()"
   ]
  },
  {
   "cell_type": "markdown",
   "metadata": {},
   "source": [
    "# Take data from the Covid19 project of BIOGRID, in which I have PPI for Sars-Cov, Sars-Cov2, MERS"
   ]
  },
  {
   "cell_type": "code",
   "execution_count": 196,
   "metadata": {},
   "outputs": [
    {
     "data": {
      "text/plain": [
       "Index(['#BIOGRID ID', 'ENTREZ GENE ID', 'SYSTEMATIC NAME', 'OFFICIAL SYMBOL',\n",
       "       'SYNONYMS', 'ORGANISM ID', 'ORGANISM NAME', 'INTERACTION COUNT',\n",
       "       'PTM COUNT', 'CHEMICAL INTERACTION COUNT', 'SOURCE', 'VIRUS VALUES',\n",
       "       'VIRUS IDS', 'VIRUS TAGS', 'VIRUS EVIDENCE VALUES',\n",
       "       'VIRUS EVIDENCE IDS', 'VIRUS EVIDENCE CLASSES',\n",
       "       'VIRUS EVIDENCE METHODS'],\n",
       "      dtype='object')"
      ]
     },
     "execution_count": 196,
     "metadata": {},
     "output_type": "execute_result"
    }
   ],
   "source": [
    "nodes_covid = pd.read_csv(\"data_BIOGRID/Covid_project/BIOGRID-PROJECT-covid19_coronavirus_project-GENES-4.4.220.projectindex.txt\", sep=\"\\t\")\n",
    "nodes_covid.columns"
   ]
  },
  {
   "cell_type": "code",
   "execution_count": 197,
   "metadata": {},
   "outputs": [
    {
     "data": {
      "text/plain": [
       "Index(['#BioGRID Interaction ID', 'Entrez Gene Interactor A',\n",
       "       'Entrez Gene Interactor B', 'BioGRID ID Interactor A',\n",
       "       'BioGRID ID Interactor B', 'Systematic Name Interactor A',\n",
       "       'Systematic Name Interactor B', 'Official Symbol Interactor A',\n",
       "       'Official Symbol Interactor B', 'Synonyms Interactor A',\n",
       "       'Synonyms Interactor B', 'Experimental System',\n",
       "       'Experimental System Type', 'Author', 'Publication Source',\n",
       "       'Organism ID Interactor A', 'Organism ID Interactor B', 'Throughput',\n",
       "       'Score', 'Modification', 'Qualifications', 'Tags', 'Source Database',\n",
       "       'SWISS-PROT Accessions Interactor A', 'TREMBL Accessions Interactor A',\n",
       "       'REFSEQ Accessions Interactor A', 'SWISS-PROT Accessions Interactor B',\n",
       "       'TREMBL Accessions Interactor B', 'REFSEQ Accessions Interactor B',\n",
       "       'Ontology Term IDs', 'Ontology Term Names', 'Ontology Term Categories',\n",
       "       'Ontology Term Qualifier IDs', 'Ontology Term Qualifier Names',\n",
       "       'Ontology Term Types', 'Organism Name Interactor A',\n",
       "       'Organism Name Interactor B'],\n",
       "      dtype='object')"
      ]
     },
     "execution_count": 197,
     "metadata": {},
     "output_type": "execute_result"
    }
   ],
   "source": [
    "interactions_covid = pd.read_csv(\"data_BIOGRID/Covid_project/BIOGRID-PROJECT-covid19_coronavirus_project-INTERACTIONS-4.4.220.tab3.txt\", sep=\"\\t\")\n",
    "interactions_covid.columns"
   ]
  },
  {
   "cell_type": "code",
   "execution_count": 32,
   "metadata": {},
   "outputs": [],
   "source": [
    "interactions_sarscov2 = interactions_covid[(interactions_covid[\"Organism ID Interactor A\"]==2697049)|(interactions_covid[\"Organism ID Interactor B\"]==2697049)]\n",
    "interactions_sarscov = interactions_covid[(interactions_covid[\"Organism ID Interactor A\"]==694009)|(interactions_covid[\"Organism ID Interactor B\"]==694009)]\n",
    "interactions_mers = interactions_covid[(interactions_covid[\"Organism ID Interactor A\"]==1335626)|(interactions_covid[\"Organism ID Interactor B\"]==1335626)]"
   ]
  },
  {
   "cell_type": "code",
   "execution_count": 200,
   "metadata": {},
   "outputs": [],
   "source": [
    "virus_ppi.to_csv(\"data_BIOGRID/Covid_project/sarscov2net.txt\", sep=\" \", index=False)"
   ]
  },
  {
   "cell_type": "code",
   "execution_count": 198,
   "metadata": {},
   "outputs": [],
   "source": [
    "#do the same things for sarscov2, sarscov and mers\n",
    "\n",
    "virus_ppi = pd.DataFrame()\n",
    "virus_ppi[\"source\"] = interactions_sarscov2[\"Official Symbol Interactor A\"]\n",
    "virus_ppi[\"target\"] = interactions_sarscov2[\"Official Symbol Interactor B\"]\n",
    "virus_ppi[\"source ishum\"] = interactions_sarscov2[\"Organism ID Interactor A\"]==9606\n",
    "virus_ppi[\"target ishum\"] = interactions_sarscov2[\"Organism ID Interactor B\"]==9606\n",
    "\n",
    "#select human proteins only which appear at leat once\n",
    "human_prot_in_vir = np.unique(np.concatenate([virus_ppi[virus_ppi[\"source ishum\"]][\"source\"], virus_ppi[virus_ppi[\"target ishum\"]][\"target\"]]))\n",
    "\n",
    "#load ncbi database\n",
    "ncbi = pd.read_csv(\"data_BIOGRID/Homo_sapiens.gene_info\", sep=\"\\t\")\n",
    "symbols = ncbi[\"Symbol\"]\n",
    "synonyms = [ncbi[\"Synonyms\"][i].split(\"|\") for i in range(len(ncbi))]\n",
    "unique_synonims = np.unique(np.concatenate(synonyms))\n",
    "\n",
    "#select proteins that are in ncbi index, and check if the others are related to some synonim, if true, pick the standard name\n",
    "ncbi_prots = human_prot_in_vir[np.isin(human_prot_in_vir, symbols)]\n",
    "not_ncbi_prots = human_prot_in_vir[np.logical_not(np.isin(human_prot_in_vir, symbols))]\n",
    "but_synon = np.isin(human_prot_in_vir[np.logical_not(np.isin(human_prot_in_vir, symbols))], unique_synonims)\n",
    "\n",
    "new_names = []\n",
    "for i in range(len(not_ncbi_prots)):\n",
    "    if but_synon[i]:\n",
    "        new_names.append(symbols[([not_ncbi_prots[i] in s for s in synonyms])].values[0])\n",
    "\n",
    "def_names = np.concatenate([ncbi_prots, new_names])\n",
    "#np.savetxt(X=def_names, fname=\"BIOGRID_data/Covid_project/mers_humanprots.txt\", fmt=\"%s\")"
   ]
  },
  {
   "cell_type": "markdown",
   "metadata": {},
   "source": [
    "# Create human PPI from data in BIOGRID"
   ]
  },
  {
   "cell_type": "code",
   "execution_count": 6,
   "metadata": {
    "tags": []
   },
   "outputs": [],
   "source": [
    "human_ppi_all = pd.read_csv(\"../Data/data_BIOGRID/BIOGRID-ORGANISM-Homo_sapiens-4.4.220.mitab.txt\", sep=\"\\t\")"
   ]
  },
  {
   "cell_type": "code",
   "execution_count": 89,
   "metadata": {
    "tags": []
   },
   "outputs": [],
   "source": [
    "human_ppi_all = human_ppi_all[(human_ppi_all[\"Taxid Interactor A\"].map(lambda x: \"9606\" in x)) & (human_ppi_all[\"Taxid Interactor B\"].map(lambda x: \"9606\" in x))]"
   ]
  },
  {
   "cell_type": "code",
   "execution_count": 90,
   "metadata": {
    "tags": []
   },
   "outputs": [
    {
     "data": {
      "text/plain": [
       "psi-mi:\"MI:0004\"(affinity chromatography technology)       680458\n",
       "psi-mi:\"MI:1313\"(bioid)                                    120286\n",
       "psi-mi:\"MI:0018\"(two hybrid)                               112458\n",
       "psi-mi:\"MI:0401\"(biochemical)                               72649\n",
       "psi-mi:\"MI:0096\"(pull down)                                 38044\n",
       "psi-mi:\"MI:0254\"(genetic interference)                      16290\n",
       "psi-mi:\"MI:0415\"(enzymatic study)                           13265\n",
       "psi-mi:\"MI:0686\"(unspecified method)                         9892\n",
       "psi-mi:\"MI:0428\"(imaging technique)                          4462\n",
       "psi-mi:\"MI:0055\"(fluorescent resonance energy transfer)      2243\n",
       "psi-mi:\"MI:0114\"(x-ray crystallography)                      1826\n",
       "psi-mi:\"MI:0090\"(protein complementation assay)               890\n",
       "psi-mi:\"MI:0047\"(far western blotting)                        742\n",
       "Name: Interaction Detection Method, dtype: int64"
      ]
     },
     "execution_count": 90,
     "metadata": {},
     "output_type": "execute_result"
    }
   ],
   "source": [
    "human_ppi_all[\"Interaction Detection Method\"].value_counts()"
   ]
  },
  {
   "cell_type": "code",
   "execution_count": 91,
   "metadata": {
    "tags": []
   },
   "outputs": [],
   "source": [
    "human_ppi = pd.DataFrame()\n",
    "#take gene IDs\n",
    "human_ppi[\"source\"] = (human_ppi_all[\"Alt IDs Interactor A\"].map(lambda x: x.split(\"|\")[0].replace(\"biogrid:\", \"\")))\n",
    "human_ppi[\"target\"] = (human_ppi_all[\"Alt IDs Interactor B\"].map(lambda x: x.split(\"|\")[0].replace(\"biogrid:\", \"\")))\n",
    "\n",
    "#take only values for which the gene ID is a number\n",
    "#human_ppi = human_ppi[human_ppi[\"source\"].map(lambda x: x.isnumeric()) & human_ppi[\"target\"].map(lambda x: x.isnumeric())]\n",
    "human_ppi = human_ppi.astype(int)"
   ]
  },
  {
   "cell_type": "code",
   "execution_count": 107,
   "metadata": {
    "tags": []
   },
   "outputs": [
    {
     "data": {
      "text/html": [
       "<div>\n",
       "<style scoped>\n",
       "    .dataframe tbody tr th:only-of-type {\n",
       "        vertical-align: middle;\n",
       "    }\n",
       "\n",
       "    .dataframe tbody tr th {\n",
       "        vertical-align: top;\n",
       "    }\n",
       "\n",
       "    .dataframe thead th {\n",
       "        text-align: right;\n",
       "    }\n",
       "</style>\n",
       "<table border=\"1\" class=\"dataframe\">\n",
       "  <thead>\n",
       "    <tr style=\"text-align: right;\">\n",
       "      <th></th>\n",
       "      <th>#ID Interactor A</th>\n",
       "      <th>ID Interactor B</th>\n",
       "      <th>Alt IDs Interactor A</th>\n",
       "      <th>Alt IDs Interactor B</th>\n",
       "      <th>Aliases Interactor A</th>\n",
       "      <th>Aliases Interactor B</th>\n",
       "      <th>Interaction Detection Method</th>\n",
       "      <th>Publication 1st Author</th>\n",
       "      <th>Publication Identifiers</th>\n",
       "      <th>Taxid Interactor A</th>\n",
       "      <th>Taxid Interactor B</th>\n",
       "      <th>Interaction Types</th>\n",
       "      <th>Source Database</th>\n",
       "      <th>Interaction Identifiers</th>\n",
       "      <th>Confidence Values</th>\n",
       "    </tr>\n",
       "  </thead>\n",
       "  <tbody>\n",
       "    <tr>\n",
       "      <th>0</th>\n",
       "      <td>entrez gene/locuslink:6416</td>\n",
       "      <td>entrez gene/locuslink:2318</td>\n",
       "      <td>biogrid:112315|entrez gene/locuslink:MAP2K4|un...</td>\n",
       "      <td>biogrid:108607|entrez gene/locuslink:FLNC|unip...</td>\n",
       "      <td>entrez gene/locuslink:JNKK(gene name synonym)|...</td>\n",
       "      <td>entrez gene/locuslink:ABP-280(gene name synony...</td>\n",
       "      <td>psi-mi:\"MI:0018\"(two hybrid)</td>\n",
       "      <td>Marti A (1997)</td>\n",
       "      <td>pubmed:9006895</td>\n",
       "      <td>taxid:9606</td>\n",
       "      <td>taxid:9606</td>\n",
       "      <td>psi-mi:\"MI:0407\"(direct interaction)</td>\n",
       "      <td>psi-mi:\"MI:0463\"(biogrid)</td>\n",
       "      <td>biogrid:103</td>\n",
       "      <td>-</td>\n",
       "    </tr>\n",
       "    <tr>\n",
       "      <th>1</th>\n",
       "      <td>entrez gene/locuslink:84665</td>\n",
       "      <td>entrez gene/locuslink:88</td>\n",
       "      <td>biogrid:124185|entrez gene/locuslink:MYPN|unip...</td>\n",
       "      <td>biogrid:106603|entrez gene/locuslink:ACTN2|uni...</td>\n",
       "      <td>entrez gene/locuslink:CMD1DD(gene name synonym...</td>\n",
       "      <td>entrez gene/locuslink:CMD1AA(gene name synonym)</td>\n",
       "      <td>psi-mi:\"MI:0018\"(two hybrid)</td>\n",
       "      <td>Bang ML (2001)</td>\n",
       "      <td>pubmed:11309420</td>\n",
       "      <td>taxid:9606</td>\n",
       "      <td>taxid:9606</td>\n",
       "      <td>psi-mi:\"MI:0407\"(direct interaction)</td>\n",
       "      <td>psi-mi:\"MI:0463\"(biogrid)</td>\n",
       "      <td>biogrid:117</td>\n",
       "      <td>-</td>\n",
       "    </tr>\n",
       "    <tr>\n",
       "      <th>2</th>\n",
       "      <td>entrez gene/locuslink:90</td>\n",
       "      <td>entrez gene/locuslink:2339</td>\n",
       "      <td>biogrid:106605|entrez gene/locuslink:ACVR1|uni...</td>\n",
       "      <td>biogrid:108625|entrez gene/locuslink:FNTA|unip...</td>\n",
       "      <td>entrez gene/locuslink:ACTRI(gene name synonym)...</td>\n",
       "      <td>entrez gene/locuslink:FPTA(gene name synonym)|...</td>\n",
       "      <td>psi-mi:\"MI:0018\"(two hybrid)</td>\n",
       "      <td>Wang T (1996)</td>\n",
       "      <td>pubmed:8599089</td>\n",
       "      <td>taxid:9606</td>\n",
       "      <td>taxid:9606</td>\n",
       "      <td>psi-mi:\"MI:0407\"(direct interaction)</td>\n",
       "      <td>psi-mi:\"MI:0463\"(biogrid)</td>\n",
       "      <td>biogrid:183</td>\n",
       "      <td>-</td>\n",
       "    </tr>\n",
       "    <tr>\n",
       "      <th>3</th>\n",
       "      <td>entrez gene/locuslink:2624</td>\n",
       "      <td>entrez gene/locuslink:5371</td>\n",
       "      <td>biogrid:108894|entrez gene/locuslink:GATA2|uni...</td>\n",
       "      <td>biogrid:111384|entrez gene/locuslink:PML|unipr...</td>\n",
       "      <td>entrez gene/locuslink:DCML(gene name synonym)|...</td>\n",
       "      <td>entrez gene/locuslink:MYL(gene name synonym)|e...</td>\n",
       "      <td>psi-mi:\"MI:0018\"(two hybrid)</td>\n",
       "      <td>Tsuzuki S (2000)</td>\n",
       "      <td>pubmed:10938104</td>\n",
       "      <td>taxid:9606</td>\n",
       "      <td>taxid:9606</td>\n",
       "      <td>psi-mi:\"MI:0407\"(direct interaction)</td>\n",
       "      <td>psi-mi:\"MI:0463\"(biogrid)</td>\n",
       "      <td>biogrid:278</td>\n",
       "      <td>-</td>\n",
       "    </tr>\n",
       "    <tr>\n",
       "      <th>4</th>\n",
       "      <td>entrez gene/locuslink:6118</td>\n",
       "      <td>entrez gene/locuslink:6774</td>\n",
       "      <td>biogrid:112038|entrez gene/locuslink:RPA2|entr...</td>\n",
       "      <td>biogrid:112651|entrez gene/locuslink:STAT3|uni...</td>\n",
       "      <td>entrez gene/locuslink:REPA2(gene name synonym)...</td>\n",
       "      <td>entrez gene/locuslink:ADMIO(gene name synonym)...</td>\n",
       "      <td>psi-mi:\"MI:0018\"(two hybrid)</td>\n",
       "      <td>Kim J (2000)</td>\n",
       "      <td>pubmed:10875894</td>\n",
       "      <td>taxid:9606</td>\n",
       "      <td>taxid:9606</td>\n",
       "      <td>psi-mi:\"MI:0407\"(direct interaction)</td>\n",
       "      <td>psi-mi:\"MI:0463\"(biogrid)</td>\n",
       "      <td>biogrid:418</td>\n",
       "      <td>-</td>\n",
       "    </tr>\n",
       "    <tr>\n",
       "      <th>...</th>\n",
       "      <td>...</td>\n",
       "      <td>...</td>\n",
       "      <td>...</td>\n",
       "      <td>...</td>\n",
       "      <td>...</td>\n",
       "      <td>...</td>\n",
       "      <td>...</td>\n",
       "      <td>...</td>\n",
       "      <td>...</td>\n",
       "      <td>...</td>\n",
       "      <td>...</td>\n",
       "      <td>...</td>\n",
       "      <td>...</td>\n",
       "      <td>...</td>\n",
       "      <td>...</td>\n",
       "    </tr>\n",
       "    <tr>\n",
       "      <th>1151364</th>\n",
       "      <td>entrez gene/locuslink:55072</td>\n",
       "      <td>entrez gene/locuslink:2879</td>\n",
       "      <td>biogrid:120389|entrez gene/locuslink:RNF31|uni...</td>\n",
       "      <td>biogrid:109137|entrez gene/locuslink:GPX4|unip...</td>\n",
       "      <td>entrez gene/locuslink:HOIP(gene name synonym)|...</td>\n",
       "      <td>entrez gene/locuslink:GPx-4(gene name synonym)...</td>\n",
       "      <td>psi-mi:\"MI:0415\"(enzymatic study)</td>\n",
       "      <td>Dong K (2022)</td>\n",
       "      <td>pubmed:36279464</td>\n",
       "      <td>taxid:9606</td>\n",
       "      <td>taxid:9606</td>\n",
       "      <td>psi-mi:\"MI:0407\"(direct interaction)</td>\n",
       "      <td>psi-mi:\"MI:0463\"(biogrid)</td>\n",
       "      <td>biogrid:3533744</td>\n",
       "      <td>-</td>\n",
       "    </tr>\n",
       "    <tr>\n",
       "      <th>1151365</th>\n",
       "      <td>entrez gene/locuslink:55072</td>\n",
       "      <td>entrez gene/locuslink:7332</td>\n",
       "      <td>biogrid:120389|entrez gene/locuslink:RNF31|uni...</td>\n",
       "      <td>biogrid:113180|entrez gene/locuslink:UBE2L3|un...</td>\n",
       "      <td>entrez gene/locuslink:HOIP(gene name synonym)|...</td>\n",
       "      <td>entrez gene/locuslink:E2-F1(gene name synonym)...</td>\n",
       "      <td>psi-mi:\"MI:0096\"(pull down)</td>\n",
       "      <td>Dong K (2022)</td>\n",
       "      <td>pubmed:36279464</td>\n",
       "      <td>taxid:9606</td>\n",
       "      <td>taxid:9606</td>\n",
       "      <td>psi-mi:\"MI:0407\"(direct interaction)</td>\n",
       "      <td>psi-mi:\"MI:0463\"(biogrid)</td>\n",
       "      <td>biogrid:3533745</td>\n",
       "      <td>-</td>\n",
       "    </tr>\n",
       "    <tr>\n",
       "      <th>1151366</th>\n",
       "      <td>entrez gene/locuslink:2879</td>\n",
       "      <td>entrez gene/locuslink:81858</td>\n",
       "      <td>biogrid:109137|entrez gene/locuslink:GPX4|unip...</td>\n",
       "      <td>biogrid:123608|entrez gene/locuslink:SHARPIN|e...</td>\n",
       "      <td>entrez gene/locuslink:GPx-4(gene name synonym)...</td>\n",
       "      <td>entrez gene/locuslink:SIPL1(gene name synonym)</td>\n",
       "      <td>psi-mi:\"MI:0004\"(affinity chromatography techn...</td>\n",
       "      <td>Dong K (2022)</td>\n",
       "      <td>pubmed:36279464</td>\n",
       "      <td>taxid:9606</td>\n",
       "      <td>taxid:9606</td>\n",
       "      <td>psi-mi:\"MI:0915\"(physical association)</td>\n",
       "      <td>psi-mi:\"MI:0463\"(biogrid)</td>\n",
       "      <td>biogrid:3533746</td>\n",
       "      <td>-</td>\n",
       "    </tr>\n",
       "    <tr>\n",
       "      <th>1151367</th>\n",
       "      <td>entrez gene/locuslink:27005</td>\n",
       "      <td>entrez gene/locuslink:7528</td>\n",
       "      <td>biogrid:117950|entrez gene/locuslink:USP21|ent...</td>\n",
       "      <td>biogrid:113360|entrez gene/locuslink:YY1|unipr...</td>\n",
       "      <td>entrez gene/locuslink:USP16(gene name synonym)...</td>\n",
       "      <td>entrez gene/locuslink:DELTA(gene name synonym)...</td>\n",
       "      <td>psi-mi:\"MI:0004\"(affinity chromatography techn...</td>\n",
       "      <td>Wang QD (2023)</td>\n",
       "      <td>pubmed:36285444</td>\n",
       "      <td>taxid:9606</td>\n",
       "      <td>taxid:9606</td>\n",
       "      <td>psi-mi:\"MI:0915\"(physical association)</td>\n",
       "      <td>psi-mi:\"MI:0463\"(biogrid)</td>\n",
       "      <td>biogrid:3533747</td>\n",
       "      <td>-</td>\n",
       "    </tr>\n",
       "    <tr>\n",
       "      <th>1151368</th>\n",
       "      <td>entrez gene/locuslink:27005</td>\n",
       "      <td>entrez gene/locuslink:7528</td>\n",
       "      <td>biogrid:117950|entrez gene/locuslink:USP21|ent...</td>\n",
       "      <td>biogrid:113360|entrez gene/locuslink:YY1|unipr...</td>\n",
       "      <td>entrez gene/locuslink:USP16(gene name synonym)...</td>\n",
       "      <td>entrez gene/locuslink:DELTA(gene name synonym)...</td>\n",
       "      <td>psi-mi:\"MI:0096\"(pull down)</td>\n",
       "      <td>Wang QD (2023)</td>\n",
       "      <td>pubmed:36285444</td>\n",
       "      <td>taxid:9606</td>\n",
       "      <td>taxid:9606</td>\n",
       "      <td>psi-mi:\"MI:0407\"(direct interaction)</td>\n",
       "      <td>psi-mi:\"MI:0463\"(biogrid)</td>\n",
       "      <td>biogrid:3533748</td>\n",
       "      <td>-</td>\n",
       "    </tr>\n",
       "  </tbody>\n",
       "</table>\n",
       "<p>1073505 rows × 15 columns</p>\n",
       "</div>"
      ],
      "text/plain": [
       "                    #ID Interactor A              ID Interactor B  \\\n",
       "0         entrez gene/locuslink:6416   entrez gene/locuslink:2318   \n",
       "1        entrez gene/locuslink:84665     entrez gene/locuslink:88   \n",
       "2           entrez gene/locuslink:90   entrez gene/locuslink:2339   \n",
       "3         entrez gene/locuslink:2624   entrez gene/locuslink:5371   \n",
       "4         entrez gene/locuslink:6118   entrez gene/locuslink:6774   \n",
       "...                              ...                          ...   \n",
       "1151364  entrez gene/locuslink:55072   entrez gene/locuslink:2879   \n",
       "1151365  entrez gene/locuslink:55072   entrez gene/locuslink:7332   \n",
       "1151366   entrez gene/locuslink:2879  entrez gene/locuslink:81858   \n",
       "1151367  entrez gene/locuslink:27005   entrez gene/locuslink:7528   \n",
       "1151368  entrez gene/locuslink:27005   entrez gene/locuslink:7528   \n",
       "\n",
       "                                      Alt IDs Interactor A  \\\n",
       "0        biogrid:112315|entrez gene/locuslink:MAP2K4|un...   \n",
       "1        biogrid:124185|entrez gene/locuslink:MYPN|unip...   \n",
       "2        biogrid:106605|entrez gene/locuslink:ACVR1|uni...   \n",
       "3        biogrid:108894|entrez gene/locuslink:GATA2|uni...   \n",
       "4        biogrid:112038|entrez gene/locuslink:RPA2|entr...   \n",
       "...                                                    ...   \n",
       "1151364  biogrid:120389|entrez gene/locuslink:RNF31|uni...   \n",
       "1151365  biogrid:120389|entrez gene/locuslink:RNF31|uni...   \n",
       "1151366  biogrid:109137|entrez gene/locuslink:GPX4|unip...   \n",
       "1151367  biogrid:117950|entrez gene/locuslink:USP21|ent...   \n",
       "1151368  biogrid:117950|entrez gene/locuslink:USP21|ent...   \n",
       "\n",
       "                                      Alt IDs Interactor B  \\\n",
       "0        biogrid:108607|entrez gene/locuslink:FLNC|unip...   \n",
       "1        biogrid:106603|entrez gene/locuslink:ACTN2|uni...   \n",
       "2        biogrid:108625|entrez gene/locuslink:FNTA|unip...   \n",
       "3        biogrid:111384|entrez gene/locuslink:PML|unipr...   \n",
       "4        biogrid:112651|entrez gene/locuslink:STAT3|uni...   \n",
       "...                                                    ...   \n",
       "1151364  biogrid:109137|entrez gene/locuslink:GPX4|unip...   \n",
       "1151365  biogrid:113180|entrez gene/locuslink:UBE2L3|un...   \n",
       "1151366  biogrid:123608|entrez gene/locuslink:SHARPIN|e...   \n",
       "1151367  biogrid:113360|entrez gene/locuslink:YY1|unipr...   \n",
       "1151368  biogrid:113360|entrez gene/locuslink:YY1|unipr...   \n",
       "\n",
       "                                      Aliases Interactor A  \\\n",
       "0        entrez gene/locuslink:JNKK(gene name synonym)|...   \n",
       "1        entrez gene/locuslink:CMD1DD(gene name synonym...   \n",
       "2        entrez gene/locuslink:ACTRI(gene name synonym)...   \n",
       "3        entrez gene/locuslink:DCML(gene name synonym)|...   \n",
       "4        entrez gene/locuslink:REPA2(gene name synonym)...   \n",
       "...                                                    ...   \n",
       "1151364  entrez gene/locuslink:HOIP(gene name synonym)|...   \n",
       "1151365  entrez gene/locuslink:HOIP(gene name synonym)|...   \n",
       "1151366  entrez gene/locuslink:GPx-4(gene name synonym)...   \n",
       "1151367  entrez gene/locuslink:USP16(gene name synonym)...   \n",
       "1151368  entrez gene/locuslink:USP16(gene name synonym)...   \n",
       "\n",
       "                                      Aliases Interactor B  \\\n",
       "0        entrez gene/locuslink:ABP-280(gene name synony...   \n",
       "1          entrez gene/locuslink:CMD1AA(gene name synonym)   \n",
       "2        entrez gene/locuslink:FPTA(gene name synonym)|...   \n",
       "3        entrez gene/locuslink:MYL(gene name synonym)|e...   \n",
       "4        entrez gene/locuslink:ADMIO(gene name synonym)...   \n",
       "...                                                    ...   \n",
       "1151364  entrez gene/locuslink:GPx-4(gene name synonym)...   \n",
       "1151365  entrez gene/locuslink:E2-F1(gene name synonym)...   \n",
       "1151366     entrez gene/locuslink:SIPL1(gene name synonym)   \n",
       "1151367  entrez gene/locuslink:DELTA(gene name synonym)...   \n",
       "1151368  entrez gene/locuslink:DELTA(gene name synonym)...   \n",
       "\n",
       "                              Interaction Detection Method  \\\n",
       "0                             psi-mi:\"MI:0018\"(two hybrid)   \n",
       "1                             psi-mi:\"MI:0018\"(two hybrid)   \n",
       "2                             psi-mi:\"MI:0018\"(two hybrid)   \n",
       "3                             psi-mi:\"MI:0018\"(two hybrid)   \n",
       "4                             psi-mi:\"MI:0018\"(two hybrid)   \n",
       "...                                                    ...   \n",
       "1151364                  psi-mi:\"MI:0415\"(enzymatic study)   \n",
       "1151365                        psi-mi:\"MI:0096\"(pull down)   \n",
       "1151366  psi-mi:\"MI:0004\"(affinity chromatography techn...   \n",
       "1151367  psi-mi:\"MI:0004\"(affinity chromatography techn...   \n",
       "1151368                        psi-mi:\"MI:0096\"(pull down)   \n",
       "\n",
       "        Publication 1st Author Publication Identifiers Taxid Interactor A  \\\n",
       "0               Marti A (1997)          pubmed:9006895         taxid:9606   \n",
       "1               Bang ML (2001)         pubmed:11309420         taxid:9606   \n",
       "2                Wang T (1996)          pubmed:8599089         taxid:9606   \n",
       "3             Tsuzuki S (2000)         pubmed:10938104         taxid:9606   \n",
       "4                 Kim J (2000)         pubmed:10875894         taxid:9606   \n",
       "...                        ...                     ...                ...   \n",
       "1151364          Dong K (2022)         pubmed:36279464         taxid:9606   \n",
       "1151365          Dong K (2022)         pubmed:36279464         taxid:9606   \n",
       "1151366          Dong K (2022)         pubmed:36279464         taxid:9606   \n",
       "1151367         Wang QD (2023)         pubmed:36285444         taxid:9606   \n",
       "1151368         Wang QD (2023)         pubmed:36285444         taxid:9606   \n",
       "\n",
       "        Taxid Interactor B                       Interaction Types  \\\n",
       "0               taxid:9606    psi-mi:\"MI:0407\"(direct interaction)   \n",
       "1               taxid:9606    psi-mi:\"MI:0407\"(direct interaction)   \n",
       "2               taxid:9606    psi-mi:\"MI:0407\"(direct interaction)   \n",
       "3               taxid:9606    psi-mi:\"MI:0407\"(direct interaction)   \n",
       "4               taxid:9606    psi-mi:\"MI:0407\"(direct interaction)   \n",
       "...                    ...                                     ...   \n",
       "1151364         taxid:9606    psi-mi:\"MI:0407\"(direct interaction)   \n",
       "1151365         taxid:9606    psi-mi:\"MI:0407\"(direct interaction)   \n",
       "1151366         taxid:9606  psi-mi:\"MI:0915\"(physical association)   \n",
       "1151367         taxid:9606  psi-mi:\"MI:0915\"(physical association)   \n",
       "1151368         taxid:9606    psi-mi:\"MI:0407\"(direct interaction)   \n",
       "\n",
       "                   Source Database Interaction Identifiers Confidence Values  \n",
       "0        psi-mi:\"MI:0463\"(biogrid)             biogrid:103                 -  \n",
       "1        psi-mi:\"MI:0463\"(biogrid)             biogrid:117                 -  \n",
       "2        psi-mi:\"MI:0463\"(biogrid)             biogrid:183                 -  \n",
       "3        psi-mi:\"MI:0463\"(biogrid)             biogrid:278                 -  \n",
       "4        psi-mi:\"MI:0463\"(biogrid)             biogrid:418                 -  \n",
       "...                            ...                     ...               ...  \n",
       "1151364  psi-mi:\"MI:0463\"(biogrid)         biogrid:3533744                 -  \n",
       "1151365  psi-mi:\"MI:0463\"(biogrid)         biogrid:3533745                 -  \n",
       "1151366  psi-mi:\"MI:0463\"(biogrid)         biogrid:3533746                 -  \n",
       "1151367  psi-mi:\"MI:0463\"(biogrid)         biogrid:3533747                 -  \n",
       "1151368  psi-mi:\"MI:0463\"(biogrid)         biogrid:3533748                 -  \n",
       "\n",
       "[1073505 rows x 15 columns]"
      ]
     },
     "execution_count": 107,
     "metadata": {},
     "output_type": "execute_result"
    }
   ],
   "source": [
    "human_ppi_all"
   ]
  },
  {
   "cell_type": "code",
   "execution_count": 95,
   "metadata": {
    "tags": []
   },
   "outputs": [],
   "source": [
    "unp_bio_to_unip = pd.read_csv(\"../Data/data_BIOGRID/uniprot_biogrid_to_uniprot.tsv\", sep=\"\\t\")"
   ]
  },
  {
   "cell_type": "code",
   "execution_count": 127,
   "metadata": {
    "tags": []
   },
   "outputs": [],
   "source": [
    "unp_bio_to_unip[unp_bio_to_unip[\"Organism (ID)\"]==9606]\n",
    "unp_mapper = dict(zip(unp_bio_to_unip[\"From\"], unp_bio_to_unip[\"Entry\"]))"
   ]
  },
  {
   "cell_type": "code",
   "execution_count": 159,
   "metadata": {
    "tags": []
   },
   "outputs": [
    {
     "data": {
      "text/html": [
       "<div>\n",
       "<style scoped>\n",
       "    .dataframe tbody tr th:only-of-type {\n",
       "        vertical-align: middle;\n",
       "    }\n",
       "\n",
       "    .dataframe tbody tr th {\n",
       "        vertical-align: top;\n",
       "    }\n",
       "\n",
       "    .dataframe thead th {\n",
       "        text-align: right;\n",
       "    }\n",
       "</style>\n",
       "<table border=\"1\" class=\"dataframe\">\n",
       "  <thead>\n",
       "    <tr style=\"text-align: right;\">\n",
       "      <th></th>\n",
       "      <th>BioGRID</th>\n",
       "      <th>UniProtKB_Name</th>\n",
       "      <th>UniProtKB_ID</th>\n",
       "      <th>Gene_ID</th>\n",
       "    </tr>\n",
       "  </thead>\n",
       "  <tbody>\n",
       "    <tr>\n",
       "      <th>0</th>\n",
       "      <td>110631.0</td>\n",
       "      <td>MT-ND1</td>\n",
       "      <td>P03886</td>\n",
       "      <td>ENSG00000198888</td>\n",
       "    </tr>\n",
       "    <tr>\n",
       "      <th>1</th>\n",
       "      <td>110631.0</td>\n",
       "      <td>ND1</td>\n",
       "      <td>U5Z754</td>\n",
       "      <td>ENSG00000198888</td>\n",
       "    </tr>\n",
       "    <tr>\n",
       "      <th>2</th>\n",
       "      <td>110632.0</td>\n",
       "      <td>MT-ND2</td>\n",
       "      <td>P03891</td>\n",
       "      <td>ENSG00000198763</td>\n",
       "    </tr>\n",
       "    <tr>\n",
       "      <th>3</th>\n",
       "      <td>110632.0</td>\n",
       "      <td>ND2</td>\n",
       "      <td>A0A1X7RBG6</td>\n",
       "      <td>ENSG00000198763</td>\n",
       "    </tr>\n",
       "    <tr>\n",
       "      <th>4</th>\n",
       "      <td>110632.0</td>\n",
       "      <td>ND2</td>\n",
       "      <td>Q7GXY9</td>\n",
       "      <td>ENSG00000198763</td>\n",
       "    </tr>\n",
       "    <tr>\n",
       "      <th>...</th>\n",
       "      <td>...</td>\n",
       "      <td>...</td>\n",
       "      <td>...</td>\n",
       "      <td>...</td>\n",
       "    </tr>\n",
       "    <tr>\n",
       "      <th>903614</th>\n",
       "      <td>107231.0</td>\n",
       "      <td>CACNA1E</td>\n",
       "      <td>A0A2R8Y7W1</td>\n",
       "      <td>ENSG00000198216</td>\n",
       "    </tr>\n",
       "    <tr>\n",
       "      <th>903631</th>\n",
       "      <td>126074.0</td>\n",
       "      <td>ZNF648</td>\n",
       "      <td>Q5T619</td>\n",
       "      <td>ENSG00000179930</td>\n",
       "    </tr>\n",
       "    <tr>\n",
       "      <th>903632</th>\n",
       "      <td>126074.0</td>\n",
       "      <td>ZNF648</td>\n",
       "      <td>A0A669KBK7</td>\n",
       "      <td>ENSG00000179930</td>\n",
       "    </tr>\n",
       "    <tr>\n",
       "      <th>903635</th>\n",
       "      <td>120520.0</td>\n",
       "      <td>RAVER2</td>\n",
       "      <td>Q9HCJ3</td>\n",
       "      <td>ENSG00000162437</td>\n",
       "    </tr>\n",
       "    <tr>\n",
       "      <th>903636</th>\n",
       "      <td>120520.0</td>\n",
       "      <td>RAVER2</td>\n",
       "      <td>Q9HCJ3</td>\n",
       "      <td>ENSG00000162437</td>\n",
       "    </tr>\n",
       "  </tbody>\n",
       "</table>\n",
       "<p>246481 rows × 4 columns</p>\n",
       "</div>"
      ],
      "text/plain": [
       "         BioGRID UniProtKB_Name UniProtKB_ID          Gene_ID\n",
       "0       110631.0         MT-ND1       P03886  ENSG00000198888\n",
       "1       110631.0            ND1       U5Z754  ENSG00000198888\n",
       "2       110632.0         MT-ND2       P03891  ENSG00000198763\n",
       "3       110632.0            ND2   A0A1X7RBG6  ENSG00000198763\n",
       "4       110632.0            ND2       Q7GXY9  ENSG00000198763\n",
       "...          ...            ...          ...              ...\n",
       "903614  107231.0        CACNA1E   A0A2R8Y7W1  ENSG00000198216\n",
       "903631  126074.0         ZNF648       Q5T619  ENSG00000179930\n",
       "903632  126074.0         ZNF648   A0A669KBK7  ENSG00000179930\n",
       "903635  120520.0         RAVER2       Q9HCJ3  ENSG00000162437\n",
       "903636  120520.0         RAVER2       Q9HCJ3  ENSG00000162437\n",
       "\n",
       "[246481 rows x 4 columns]"
      ]
     },
     "execution_count": 159,
     "metadata": {},
     "output_type": "execute_result"
    }
   ],
   "source": [
    "ens_bio_unip.dropna()"
   ]
  },
  {
   "cell_type": "code",
   "execution_count": 172,
   "metadata": {
    "tags": []
   },
   "outputs": [
    {
     "data": {
      "text/plain": [
       "(17419,)"
      ]
     },
     "execution_count": 172,
     "metadata": {},
     "output_type": "execute_result"
    }
   ],
   "source": [
    "np.unique(human_ppi[(human_ppi[\"source\"].isin(agg_ebu[\"BioGRID\"])) & (human_ppi[\"target\"].isin(agg_ebu[\"BioGRID\"]))][[\"source\",\"target\"]].to_numpy()).shape"
   ]
  },
  {
   "cell_type": "code",
   "execution_count": 132,
   "metadata": {
    "tags": []
   },
   "outputs": [],
   "source": [
    "human_ppi[\"source_unip\"] = human_ppi[\"source\"].map(unp_mapper)\n",
    "human_ppi[\"target_unip\"] = human_ppi[\"target\"].map(unp_mapper)"
   ]
  },
  {
   "cell_type": "code",
   "execution_count": 135,
   "metadata": {
    "tags": []
   },
   "outputs": [
    {
     "data": {
      "text/html": [
       "<div>\n",
       "<style scoped>\n",
       "    .dataframe tbody tr th:only-of-type {\n",
       "        vertical-align: middle;\n",
       "    }\n",
       "\n",
       "    .dataframe tbody tr th {\n",
       "        vertical-align: top;\n",
       "    }\n",
       "\n",
       "    .dataframe thead th {\n",
       "        text-align: right;\n",
       "    }\n",
       "</style>\n",
       "<table border=\"1\" class=\"dataframe\">\n",
       "  <thead>\n",
       "    <tr style=\"text-align: right;\">\n",
       "      <th></th>\n",
       "      <th>source</th>\n",
       "      <th>target</th>\n",
       "      <th>source_unip</th>\n",
       "      <th>target_unip</th>\n",
       "    </tr>\n",
       "  </thead>\n",
       "  <tbody>\n",
       "    <tr>\n",
       "      <th>0</th>\n",
       "      <td>112315</td>\n",
       "      <td>108607</td>\n",
       "      <td>P45985</td>\n",
       "      <td>Q14315</td>\n",
       "    </tr>\n",
       "    <tr>\n",
       "      <th>1</th>\n",
       "      <td>124185</td>\n",
       "      <td>106603</td>\n",
       "      <td>Q86TC9</td>\n",
       "      <td>P35609</td>\n",
       "    </tr>\n",
       "    <tr>\n",
       "      <th>2</th>\n",
       "      <td>106605</td>\n",
       "      <td>108625</td>\n",
       "      <td>Q04771</td>\n",
       "      <td>P49354</td>\n",
       "    </tr>\n",
       "    <tr>\n",
       "      <th>3</th>\n",
       "      <td>108894</td>\n",
       "      <td>111384</td>\n",
       "      <td>P23769</td>\n",
       "      <td>P29590</td>\n",
       "    </tr>\n",
       "    <tr>\n",
       "      <th>4</th>\n",
       "      <td>112038</td>\n",
       "      <td>112651</td>\n",
       "      <td>P15927</td>\n",
       "      <td>P40763</td>\n",
       "    </tr>\n",
       "    <tr>\n",
       "      <th>...</th>\n",
       "      <td>...</td>\n",
       "      <td>...</td>\n",
       "      <td>...</td>\n",
       "      <td>...</td>\n",
       "    </tr>\n",
       "    <tr>\n",
       "      <th>1151364</th>\n",
       "      <td>120389</td>\n",
       "      <td>109137</td>\n",
       "      <td>Q96EP0</td>\n",
       "      <td>P36969</td>\n",
       "    </tr>\n",
       "    <tr>\n",
       "      <th>1151365</th>\n",
       "      <td>120389</td>\n",
       "      <td>113180</td>\n",
       "      <td>Q96EP0</td>\n",
       "      <td>P68036</td>\n",
       "    </tr>\n",
       "    <tr>\n",
       "      <th>1151366</th>\n",
       "      <td>109137</td>\n",
       "      <td>123608</td>\n",
       "      <td>P36969</td>\n",
       "      <td>Q9H0F6</td>\n",
       "    </tr>\n",
       "    <tr>\n",
       "      <th>1151367</th>\n",
       "      <td>117950</td>\n",
       "      <td>113360</td>\n",
       "      <td>Q9UK80</td>\n",
       "      <td>P25490</td>\n",
       "    </tr>\n",
       "    <tr>\n",
       "      <th>1151368</th>\n",
       "      <td>117950</td>\n",
       "      <td>113360</td>\n",
       "      <td>Q9UK80</td>\n",
       "      <td>P25490</td>\n",
       "    </tr>\n",
       "  </tbody>\n",
       "</table>\n",
       "<p>1073505 rows × 4 columns</p>\n",
       "</div>"
      ],
      "text/plain": [
       "         source  target source_unip target_unip\n",
       "0        112315  108607      P45985      Q14315\n",
       "1        124185  106603      Q86TC9      P35609\n",
       "2        106605  108625      Q04771      P49354\n",
       "3        108894  111384      P23769      P29590\n",
       "4        112038  112651      P15927      P40763\n",
       "...         ...     ...         ...         ...\n",
       "1151364  120389  109137      Q96EP0      P36969\n",
       "1151365  120389  113180      Q96EP0      P68036\n",
       "1151366  109137  123608      P36969      Q9H0F6\n",
       "1151367  117950  113360      Q9UK80      P25490\n",
       "1151368  117950  113360      Q9UK80      P25490\n",
       "\n",
       "[1073505 rows x 4 columns]"
      ]
     },
     "execution_count": 135,
     "metadata": {},
     "output_type": "execute_result"
    }
   ],
   "source": [
    "human_ppi"
   ]
  },
  {
   "cell_type": "code",
   "execution_count": 143,
   "metadata": {
    "tags": []
   },
   "outputs": [
    {
     "data": {
      "text/plain": [
       "array(['P45985', 'Q14315', 'Q86TC9', ..., 'P25490', 'Q9UK80', 'P25490'],\n",
       "      dtype='<U6')"
      ]
     },
     "execution_count": 143,
     "metadata": {},
     "output_type": "execute_result"
    }
   ],
   "source": [
    "human_ppi[[\"source_unip\", \"target_unip\"]].to_numpy().flatten().astype(str)"
   ]
  },
  {
   "cell_type": "code",
   "execution_count": 146,
   "metadata": {
    "tags": []
   },
   "outputs": [
    {
     "data": {
      "text/plain": [
       "0.9750425009664603"
      ]
     },
     "execution_count": 146,
     "metadata": {},
     "output_type": "execute_result"
    }
   ],
   "source": [
    "1046713/1073505"
   ]
  },
  {
   "cell_type": "code",
   "execution_count": 145,
   "metadata": {
    "tags": []
   },
   "outputs": [
    {
     "data": {
      "text/plain": [
       "0.8945308580030106"
      ]
     },
     "execution_count": 145,
     "metadata": {},
     "output_type": "execute_result"
    }
   ],
   "source": [
    "np.unique(human_ppi[[\"source_unip\", \"target_unip\"]].to_numpy().flatten().astype(str)).shape[0]/19930"
   ]
  },
  {
   "cell_type": "code",
   "execution_count": 94,
   "metadata": {
    "tags": []
   },
   "outputs": [],
   "source": [
    "np.savetxt(X=np.unique(human_ppi.to_numpy()), fname=\"../Data/data_BIOGRID/hum_nodes.txt\", fmt=\"%s\")"
   ]
  },
  {
   "cell_type": "code",
   "execution_count": 19,
   "metadata": {
    "tags": []
   },
   "outputs": [],
   "source": [
    "ens_bio_unip = pd.read_csv(\"../Data/data_BIOGRID/ensembl_biogrid_to_uniprot.txt\", sep=\"\\t\")"
   ]
  },
  {
   "cell_type": "code",
   "execution_count": 147,
   "metadata": {
    "tags": []
   },
   "outputs": [],
   "source": [
    "agg_ebu = ens_bio_unip.dropna().groupby(\"BioGRID\").aggregate(lambda x: \" \".join(np.unique(x))).reset_index()"
   ]
  },
  {
   "cell_type": "code",
   "execution_count": 153,
   "metadata": {
    "tags": []
   },
   "outputs": [
    {
     "data": {
      "text/plain": [
       "17425"
      ]
     },
     "execution_count": 153,
     "metadata": {},
     "output_type": "execute_result"
    }
   ],
   "source": [
    "np.isin(np.unique(human_ppi[[\"source\",\"target\"]].to_numpy()), agg_ebu[\"BioGRID\"]).sum()"
   ]
  },
  {
   "cell_type": "code",
   "execution_count": 120,
   "metadata": {
    "tags": []
   },
   "outputs": [
    {
     "data": {
      "text/plain": [
       "(19930,)"
      ]
     },
     "execution_count": 120,
     "metadata": {},
     "output_type": "execute_result"
    }
   ],
   "source": [
    "np.unique(human_ppi.to_numpy()).shape"
   ]
  },
  {
   "cell_type": "code",
   "execution_count": 126,
   "metadata": {
    "tags": []
   },
   "outputs": [
    {
     "data": {
      "text/plain": [
       "18010"
      ]
     },
     "execution_count": 126,
     "metadata": {},
     "output_type": "execute_result"
    }
   ],
   "source": [
    "np.isin(np.unique(human_ppi.to_numpy()), unp_bio_to_unip[\"From\"]).sum()"
   ]
  },
  {
   "cell_type": "code",
   "execution_count": 141,
   "metadata": {},
   "outputs": [],
   "source": [
    "hnodes = np.unique(np.concatenate([human_ppi[\"source\"], human_ppi[\"target\"]]))\n",
    "\n",
    "#check if there are the same connections but with source and target switched to see if links are directed\n",
    "hm = np.isin([str(h[0])+str(h[1]) for h in human_ppi.to_numpy()[:,[1,0]]], [h[0]+h[1] for h in human_ppi.to_numpy()])\n",
    "hm.sum() < len(hm)"
   ]
  },
  {
   "cell_type": "code",
   "execution_count": 154,
   "metadata": {},
   "outputs": [],
   "source": [
    "#map gene ID to the index which will be used in the graph\n",
    "nodeMap = dict(zip(hnodes, np.arange(len(hnodes))))"
   ]
  },
  {
   "cell_type": "code",
   "execution_count": 83,
   "metadata": {},
   "outputs": [],
   "source": [
    "human_g = gt.Graph(directed=True)\n",
    "human_net = human_ppi\n",
    "human_net[\"target\"] =human_net[\"target\"].map(lambda x: nodeMap[x])\n",
    "human_net[\"source\"] =human_net[\"source\"].map(lambda x: nodeMap[x])\n",
    "human_g.add_edge_list(human_net.values)\n",
    "nm = human_g.new_vertex_property(\"int\", np.array(list(nodeMap.keys())))\n",
    "human_g.vp[\"nodemap\"] = nm"
   ]
  },
  {
   "cell_type": "code",
   "execution_count": 227,
   "metadata": {},
   "outputs": [
    {
     "data": {
      "text/plain": [
       "<Graph object, directed, with 27887 vertices and 1148242 edges, 1 internal vertex property, at 0x7f3a4d292860>"
      ]
     },
     "execution_count": 227,
     "metadata": {},
     "output_type": "execute_result"
    }
   ],
   "source": [
    "human_g"
   ]
  },
  {
   "cell_type": "markdown",
   "metadata": {},
   "source": [
    "# Form the node and edges files I created, create new one with only proteins in NCBI"
   ]
  },
  {
   "cell_type": "code",
   "execution_count": 101,
   "metadata": {
    "tags": []
   },
   "outputs": [],
   "source": [
    "ncbi = pd.read_csv(\"../Data/data_BIOGRID/Homo_sapiens.gene_info\", sep=\"\\t\")\n",
    "symbols = ncbi[\"Symbol\"]\n",
    "synonyms = [ncbi[\"Synonyms\"][i].split(\"|\") for i in range(len(ncbi))]\n",
    "unique_synonims = np.unique(np.concatenate(synonyms))"
   ]
  },
  {
   "cell_type": "code",
   "execution_count": 102,
   "metadata": {
    "tags": []
   },
   "outputs": [
    {
     "data": {
      "text/html": [
       "<div>\n",
       "<style scoped>\n",
       "    .dataframe tbody tr th:only-of-type {\n",
       "        vertical-align: middle;\n",
       "    }\n",
       "\n",
       "    .dataframe tbody tr th {\n",
       "        vertical-align: top;\n",
       "    }\n",
       "\n",
       "    .dataframe thead th {\n",
       "        text-align: right;\n",
       "    }\n",
       "</style>\n",
       "<table border=\"1\" class=\"dataframe\">\n",
       "  <thead>\n",
       "    <tr style=\"text-align: right;\">\n",
       "      <th></th>\n",
       "      <th>#tax_id</th>\n",
       "      <th>GeneID</th>\n",
       "      <th>Symbol</th>\n",
       "      <th>LocusTag</th>\n",
       "      <th>Synonyms</th>\n",
       "      <th>dbXrefs</th>\n",
       "      <th>chromosome</th>\n",
       "      <th>map_location</th>\n",
       "      <th>description</th>\n",
       "      <th>type_of_gene</th>\n",
       "      <th>Symbol_from_nomenclature_authority</th>\n",
       "      <th>Full_name_from_nomenclature_authority</th>\n",
       "      <th>Nomenclature_status</th>\n",
       "      <th>Other_designations</th>\n",
       "      <th>Modification_date</th>\n",
       "      <th>Feature_type</th>\n",
       "    </tr>\n",
       "  </thead>\n",
       "  <tbody>\n",
       "    <tr>\n",
       "      <th>0</th>\n",
       "      <td>9606</td>\n",
       "      <td>1</td>\n",
       "      <td>A1BG</td>\n",
       "      <td>-</td>\n",
       "      <td>A1B|ABG|GAB|HYST2477</td>\n",
       "      <td>MIM:138670|HGNC:HGNC:5|Ensembl:ENSG00000121410...</td>\n",
       "      <td>19</td>\n",
       "      <td>19q13.43</td>\n",
       "      <td>alpha-1-B glycoprotein</td>\n",
       "      <td>protein-coding</td>\n",
       "      <td>A1BG</td>\n",
       "      <td>alpha-1-B glycoprotein</td>\n",
       "      <td>O</td>\n",
       "      <td>alpha-1B-glycoprotein|HEL-S-163pA|epididymis s...</td>\n",
       "      <td>20230329</td>\n",
       "      <td>-</td>\n",
       "    </tr>\n",
       "    <tr>\n",
       "      <th>1</th>\n",
       "      <td>9606</td>\n",
       "      <td>2</td>\n",
       "      <td>A2M</td>\n",
       "      <td>-</td>\n",
       "      <td>A2MD|CPAMD5|FWP007|S863-7</td>\n",
       "      <td>MIM:103950|HGNC:HGNC:7|Ensembl:ENSG00000175899...</td>\n",
       "      <td>12</td>\n",
       "      <td>12p13.31</td>\n",
       "      <td>alpha-2-macroglobulin</td>\n",
       "      <td>protein-coding</td>\n",
       "      <td>A2M</td>\n",
       "      <td>alpha-2-macroglobulin</td>\n",
       "      <td>O</td>\n",
       "      <td>alpha-2-macroglobulin|C3 and PZP-like alpha-2-...</td>\n",
       "      <td>20230405</td>\n",
       "      <td>-</td>\n",
       "    </tr>\n",
       "    <tr>\n",
       "      <th>2</th>\n",
       "      <td>9606</td>\n",
       "      <td>3</td>\n",
       "      <td>A2MP1</td>\n",
       "      <td>-</td>\n",
       "      <td>A2MP</td>\n",
       "      <td>HGNC:HGNC:8|Ensembl:ENSG00000291190|AllianceGe...</td>\n",
       "      <td>12</td>\n",
       "      <td>12p13.31</td>\n",
       "      <td>alpha-2-macroglobulin pseudogene 1</td>\n",
       "      <td>pseudo</td>\n",
       "      <td>A2MP1</td>\n",
       "      <td>alpha-2-macroglobulin pseudogene 1</td>\n",
       "      <td>O</td>\n",
       "      <td>pregnancy-zone protein pseudogene</td>\n",
       "      <td>20230329</td>\n",
       "      <td>-</td>\n",
       "    </tr>\n",
       "    <tr>\n",
       "      <th>3</th>\n",
       "      <td>9606</td>\n",
       "      <td>9</td>\n",
       "      <td>NAT1</td>\n",
       "      <td>-</td>\n",
       "      <td>AAC1|MNAT|NAT-1|NATI</td>\n",
       "      <td>MIM:108345|HGNC:HGNC:7645|Ensembl:ENSG00000171...</td>\n",
       "      <td>8</td>\n",
       "      <td>8p22</td>\n",
       "      <td>N-acetyltransferase 1</td>\n",
       "      <td>protein-coding</td>\n",
       "      <td>NAT1</td>\n",
       "      <td>N-acetyltransferase 1</td>\n",
       "      <td>O</td>\n",
       "      <td>arylamine N-acetyltransferase 1|N-acetyltransf...</td>\n",
       "      <td>20230329</td>\n",
       "      <td>-</td>\n",
       "    </tr>\n",
       "    <tr>\n",
       "      <th>4</th>\n",
       "      <td>9606</td>\n",
       "      <td>10</td>\n",
       "      <td>NAT2</td>\n",
       "      <td>-</td>\n",
       "      <td>AAC2|NAT-2|PNAT</td>\n",
       "      <td>MIM:612182|HGNC:HGNC:7646|Ensembl:ENSG00000156...</td>\n",
       "      <td>8</td>\n",
       "      <td>8p22</td>\n",
       "      <td>N-acetyltransferase 2</td>\n",
       "      <td>protein-coding</td>\n",
       "      <td>NAT2</td>\n",
       "      <td>N-acetyltransferase 2</td>\n",
       "      <td>O</td>\n",
       "      <td>arylamine N-acetyltransferase 2|N-acetyltransf...</td>\n",
       "      <td>20230417</td>\n",
       "      <td>-</td>\n",
       "    </tr>\n",
       "    <tr>\n",
       "      <th>...</th>\n",
       "      <td>...</td>\n",
       "      <td>...</td>\n",
       "      <td>...</td>\n",
       "      <td>...</td>\n",
       "      <td>...</td>\n",
       "      <td>...</td>\n",
       "      <td>...</td>\n",
       "      <td>...</td>\n",
       "      <td>...</td>\n",
       "      <td>...</td>\n",
       "      <td>...</td>\n",
       "      <td>...</td>\n",
       "      <td>...</td>\n",
       "      <td>...</td>\n",
       "      <td>...</td>\n",
       "      <td>...</td>\n",
       "    </tr>\n",
       "    <tr>\n",
       "      <th>150212</th>\n",
       "      <td>741158</td>\n",
       "      <td>8923215</td>\n",
       "      <td>trnD</td>\n",
       "      <td>-</td>\n",
       "      <td>-</td>\n",
       "      <td>-</td>\n",
       "      <td>MT</td>\n",
       "      <td>-</td>\n",
       "      <td>tRNA-Asp</td>\n",
       "      <td>tRNA</td>\n",
       "      <td>-</td>\n",
       "      <td>-</td>\n",
       "      <td>-</td>\n",
       "      <td>-</td>\n",
       "      <td>20200909</td>\n",
       "      <td>-</td>\n",
       "    </tr>\n",
       "    <tr>\n",
       "      <th>150213</th>\n",
       "      <td>741158</td>\n",
       "      <td>8923216</td>\n",
       "      <td>trnP</td>\n",
       "      <td>-</td>\n",
       "      <td>-</td>\n",
       "      <td>-</td>\n",
       "      <td>MT</td>\n",
       "      <td>-</td>\n",
       "      <td>tRNA-Pro</td>\n",
       "      <td>tRNA</td>\n",
       "      <td>-</td>\n",
       "      <td>-</td>\n",
       "      <td>-</td>\n",
       "      <td>-</td>\n",
       "      <td>20200909</td>\n",
       "      <td>-</td>\n",
       "    </tr>\n",
       "    <tr>\n",
       "      <th>150214</th>\n",
       "      <td>741158</td>\n",
       "      <td>8923217</td>\n",
       "      <td>trnA</td>\n",
       "      <td>-</td>\n",
       "      <td>-</td>\n",
       "      <td>-</td>\n",
       "      <td>MT</td>\n",
       "      <td>-</td>\n",
       "      <td>tRNA-Ala</td>\n",
       "      <td>tRNA</td>\n",
       "      <td>-</td>\n",
       "      <td>-</td>\n",
       "      <td>-</td>\n",
       "      <td>-</td>\n",
       "      <td>20200909</td>\n",
       "      <td>-</td>\n",
       "    </tr>\n",
       "    <tr>\n",
       "      <th>150215</th>\n",
       "      <td>741158</td>\n",
       "      <td>8923218</td>\n",
       "      <td>COX1</td>\n",
       "      <td>-</td>\n",
       "      <td>-</td>\n",
       "      <td>-</td>\n",
       "      <td>MT</td>\n",
       "      <td>-</td>\n",
       "      <td>cytochrome c oxidase subunit I</td>\n",
       "      <td>protein-coding</td>\n",
       "      <td>-</td>\n",
       "      <td>-</td>\n",
       "      <td>-</td>\n",
       "      <td>cytochrome c oxidase subunit I</td>\n",
       "      <td>20200909</td>\n",
       "      <td>-</td>\n",
       "    </tr>\n",
       "    <tr>\n",
       "      <th>150216</th>\n",
       "      <td>741158</td>\n",
       "      <td>8923219</td>\n",
       "      <td>16S rRNA</td>\n",
       "      <td>-</td>\n",
       "      <td>-</td>\n",
       "      <td>-</td>\n",
       "      <td>MT</td>\n",
       "      <td>-</td>\n",
       "      <td>l-rRNA</td>\n",
       "      <td>rRNA</td>\n",
       "      <td>-</td>\n",
       "      <td>-</td>\n",
       "      <td>-</td>\n",
       "      <td>-</td>\n",
       "      <td>20200909</td>\n",
       "      <td>-</td>\n",
       "    </tr>\n",
       "  </tbody>\n",
       "</table>\n",
       "<p>150217 rows × 16 columns</p>\n",
       "</div>"
      ],
      "text/plain": [
       "        #tax_id   GeneID    Symbol LocusTag                   Synonyms  \\\n",
       "0          9606        1      A1BG        -       A1B|ABG|GAB|HYST2477   \n",
       "1          9606        2       A2M        -  A2MD|CPAMD5|FWP007|S863-7   \n",
       "2          9606        3     A2MP1        -                       A2MP   \n",
       "3          9606        9      NAT1        -       AAC1|MNAT|NAT-1|NATI   \n",
       "4          9606       10      NAT2        -            AAC2|NAT-2|PNAT   \n",
       "...         ...      ...       ...      ...                        ...   \n",
       "150212   741158  8923215      trnD        -                          -   \n",
       "150213   741158  8923216      trnP        -                          -   \n",
       "150214   741158  8923217      trnA        -                          -   \n",
       "150215   741158  8923218      COX1        -                          -   \n",
       "150216   741158  8923219  16S rRNA        -                          -   \n",
       "\n",
       "                                                  dbXrefs chromosome  \\\n",
       "0       MIM:138670|HGNC:HGNC:5|Ensembl:ENSG00000121410...         19   \n",
       "1       MIM:103950|HGNC:HGNC:7|Ensembl:ENSG00000175899...         12   \n",
       "2       HGNC:HGNC:8|Ensembl:ENSG00000291190|AllianceGe...         12   \n",
       "3       MIM:108345|HGNC:HGNC:7645|Ensembl:ENSG00000171...          8   \n",
       "4       MIM:612182|HGNC:HGNC:7646|Ensembl:ENSG00000156...          8   \n",
       "...                                                   ...        ...   \n",
       "150212                                                  -         MT   \n",
       "150213                                                  -         MT   \n",
       "150214                                                  -         MT   \n",
       "150215                                                  -         MT   \n",
       "150216                                                  -         MT   \n",
       "\n",
       "       map_location                         description    type_of_gene  \\\n",
       "0          19q13.43              alpha-1-B glycoprotein  protein-coding   \n",
       "1          12p13.31               alpha-2-macroglobulin  protein-coding   \n",
       "2          12p13.31  alpha-2-macroglobulin pseudogene 1          pseudo   \n",
       "3              8p22               N-acetyltransferase 1  protein-coding   \n",
       "4              8p22               N-acetyltransferase 2  protein-coding   \n",
       "...             ...                                 ...             ...   \n",
       "150212            -                            tRNA-Asp            tRNA   \n",
       "150213            -                            tRNA-Pro            tRNA   \n",
       "150214            -                            tRNA-Ala            tRNA   \n",
       "150215            -      cytochrome c oxidase subunit I  protein-coding   \n",
       "150216            -                              l-rRNA            rRNA   \n",
       "\n",
       "       Symbol_from_nomenclature_authority  \\\n",
       "0                                    A1BG   \n",
       "1                                     A2M   \n",
       "2                                   A2MP1   \n",
       "3                                    NAT1   \n",
       "4                                    NAT2   \n",
       "...                                   ...   \n",
       "150212                                  -   \n",
       "150213                                  -   \n",
       "150214                                  -   \n",
       "150215                                  -   \n",
       "150216                                  -   \n",
       "\n",
       "       Full_name_from_nomenclature_authority Nomenclature_status  \\\n",
       "0                     alpha-1-B glycoprotein                   O   \n",
       "1                      alpha-2-macroglobulin                   O   \n",
       "2         alpha-2-macroglobulin pseudogene 1                   O   \n",
       "3                      N-acetyltransferase 1                   O   \n",
       "4                      N-acetyltransferase 2                   O   \n",
       "...                                      ...                 ...   \n",
       "150212                                     -                   -   \n",
       "150213                                     -                   -   \n",
       "150214                                     -                   -   \n",
       "150215                                     -                   -   \n",
       "150216                                     -                   -   \n",
       "\n",
       "                                       Other_designations  Modification_date  \\\n",
       "0       alpha-1B-glycoprotein|HEL-S-163pA|epididymis s...           20230329   \n",
       "1       alpha-2-macroglobulin|C3 and PZP-like alpha-2-...           20230405   \n",
       "2                       pregnancy-zone protein pseudogene           20230329   \n",
       "3       arylamine N-acetyltransferase 1|N-acetyltransf...           20230329   \n",
       "4       arylamine N-acetyltransferase 2|N-acetyltransf...           20230417   \n",
       "...                                                   ...                ...   \n",
       "150212                                                  -           20200909   \n",
       "150213                                                  -           20200909   \n",
       "150214                                                  -           20200909   \n",
       "150215                     cytochrome c oxidase subunit I           20200909   \n",
       "150216                                                  -           20200909   \n",
       "\n",
       "       Feature_type  \n",
       "0                 -  \n",
       "1                 -  \n",
       "2                 -  \n",
       "3                 -  \n",
       "4                 -  \n",
       "...             ...  \n",
       "150212            -  \n",
       "150213            -  \n",
       "150214            -  \n",
       "150215            -  \n",
       "150216            -  \n",
       "\n",
       "[150217 rows x 16 columns]"
      ]
     },
     "execution_count": 102,
     "metadata": {},
     "output_type": "execute_result"
    }
   ],
   "source": [
    "ncbi"
   ]
  },
  {
   "cell_type": "code",
   "execution_count": 15,
   "metadata": {
    "tags": []
   },
   "outputs": [],
   "source": [
    "not_ncbi = np.where(np.logical_not(np.isin(human_nodes[\"nodeSymbol\"], symbols)))[0]"
   ]
  },
  {
   "cell_type": "code",
   "execution_count": 22,
   "metadata": {
    "tags": []
   },
   "outputs": [],
   "source": [
    "isnotin_syn = np.where(np.logical_not(np.isin(human_nodes[\"nodeSymbol\"][not_ncbi], unique_synonims)))[0]\n",
    "isin_syn = np.where(np.isin(human_nodes[\"nodeSymbol\"][not_ncbi], unique_synonims))[0]"
   ]
  },
  {
   "cell_type": "code",
   "execution_count": 24,
   "metadata": {
    "tags": []
   },
   "outputs": [
    {
     "name": "stderr",
     "output_type": "stream",
     "text": [
      "100%|███████████████████████████████████████| 1201/1201 [00:22<00:00, 52.59it/s]\n"
     ]
    }
   ],
   "source": [
    "new_names = []\n",
    "for n in tqdm(human_nodes[\"nodeSymbol\"][not_ncbi[isin_syn]]):\n",
    "    new_names.append(symbols[([n in s for s in synonyms])].values[0])"
   ]
  },
  {
   "cell_type": "code",
   "execution_count": 39,
   "metadata": {
    "tags": []
   },
   "outputs": [],
   "source": [
    "human_nodes_symb = human_nodes[\"nodeSymbol\"].to_numpy()\n",
    "human_nodes_label = human_nodes[\"nodeLabel\"].to_numpy()"
   ]
  },
  {
   "cell_type": "code",
   "execution_count": 40,
   "metadata": {
    "tags": []
   },
   "outputs": [],
   "source": [
    "human_nodes_symb[not_ncbi[isin_syn]] = new_names"
   ]
  },
  {
   "cell_type": "code",
   "execution_count": 41,
   "metadata": {
    "tags": []
   },
   "outputs": [],
   "source": [
    "human_nodes_symb = np.delete(human_nodes_symb, not_ncbi[isnotin_syn])\n",
    "human_nodes_label = np.delete(human_nodes_label, not_ncbi[isnotin_syn])"
   ]
  },
  {
   "cell_type": "code",
   "execution_count": 43,
   "metadata": {
    "tags": []
   },
   "outputs": [],
   "source": [
    "pd.DataFrame({\"nodeSymbol\": human_nodes_symb, \"nodeCode\": human_nodes_label}).to_csv(\"data_BIOGRID/BIOGRID_homo_sapiens_ncbi.nodes\")"
   ]
  },
  {
   "cell_type": "code",
   "execution_count": 78,
   "metadata": {
    "tags": []
   },
   "outputs": [],
   "source": [
    "map_node_dict = dict(zip(np.delete(np.arange(len(human_nodes)), not_ncbi[isnotin_syn]), np.arange(len(human_nodes_symb))))"
   ]
  },
  {
   "cell_type": "code",
   "execution_count": 112,
   "metadata": {
    "tags": []
   },
   "outputs": [],
   "source": [
    "pul_ppi = human_ppi[np.logical_not(human_ppi[\"source\"].isin(not_ncbi[isnotin_syn]))]\n",
    "pul_ppi = pul_ppi[np.logical_not(pul_ppi[\"target\"].isin(not_ncbi[isnotin_syn]))]"
   ]
  },
  {
   "cell_type": "code",
   "execution_count": 125,
   "metadata": {
    "tags": []
   },
   "outputs": [],
   "source": [
    "pul_ppi_new = pd.DataFrame()\n",
    "pul_ppi_new[\"source\"]= pul_ppi[\"source\"].map(map_node_dict)\n",
    "pul_ppi_new[\"target\"]= pul_ppi[\"target\"].map(map_node_dict)"
   ]
  },
  {
   "cell_type": "code",
   "execution_count": 127,
   "metadata": {
    "tags": []
   },
   "outputs": [],
   "source": [
    "pul_ppi_new.to_csv(\"data_BIOGRID/BIOGRID_homo_sapiens_ncbi.edges\")"
   ]
  }
 ],
 "metadata": {
  "kernelspec": {
   "display_name": "Python 3 (ipykernel)",
   "language": "python",
   "name": "python3"
  },
  "language_info": {
   "codemirror_mode": {
    "name": "ipython",
    "version": 3
   },
   "file_extension": ".py",
   "mimetype": "text/x-python",
   "name": "python",
   "nbconvert_exporter": "python",
   "pygments_lexer": "ipython3",
   "version": "3.10.9"
  }
 },
 "nbformat": 4,
 "nbformat_minor": 4
}
