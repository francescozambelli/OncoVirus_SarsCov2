{
 "cells": [
  {
   "cell_type": "code",
   "execution_count": 1,
   "metadata": {
    "tags": []
   },
   "outputs": [],
   "source": [
    "import numpy as np\n",
    "from sklearn.ensemble import RandomForestClassifier\n",
    "from sklearn.metrics import f1_score, accuracy_score, confusion_matrix\n",
    "from sklearn.model_selection import train_test_split\n",
    "from sklearn.decomposition import PCA\n",
    "from scipy.stats import gaussian_kde\n",
    "import pandas as pd\n",
    "import seaborn as sns\n",
    "import matplotlib.pyplot as plt\n",
    "from operator import itemgetter\n",
    "import os\n",
    "\n",
    "from __future__ import print_function, division\n",
    "\n",
    "import torch\n",
    "import torch.nn as nn\n",
    "import torch.nn.functional as F\n",
    "import torch.optim as optim\n",
    "from torch.utils.data import Dataset, DataLoader, random_split\n",
    "\n",
    "import torchbearer\n",
    "from torchbearer import Trial, metrics, Metric\n",
    "from torchbearer.callbacks import Best, ModelCheckpoint\n",
    "\n",
    "import optuna\n",
    "from optuna.samplers import TPESampler, RandomSampler\n",
    "\n",
    "import ipywidgets\n",
    "from tqdm import tqdm\n",
    "\n",
    "import gseapy as gp\n",
    "\n",
    "import warnings\n",
    "warnings.filterwarnings(\"ignore\")"
   ]
  },
  {
   "cell_type": "code",
   "execution_count": 2,
   "metadata": {
    "tags": []
   },
   "outputs": [],
   "source": [
    "virus_metadata = pd.read_csv(\"../Data/Files/viruses_metadata.csv\", header=0, sep=\";\")\n",
    "\n",
    "virus_metadata_onco = virus_metadata[virus_metadata[\"isOncogenic\"] == True].reset_index()\n",
    "virus_metadata_nonco = virus_metadata[virus_metadata[\"isOncogenic\"] == False].reset_index()\n",
    "\n",
    "#dictionary containing a unquie mapping between name of the protein and a corresponding index\n",
    "node_map_df = pd.read_csv(\"../Data/Files/node_map.csv\")\n",
    "node_map_dict = {k:(v-1) for k,v in zip(node_map_df[\"Prot\"], node_map_df[\"Index\"])}\n",
    "\n",
    "biostr_df = pd.read_csv(\"../Data/data_BIOGRID/BIOGRID_homo_sapiens.nodes\", sep=\" \")\n",
    "biostr_map = dict(zip(biostr_df[\"nodeID\"], biostr_df[\"nodeSymbol\"]))"
   ]
  },
  {
   "cell_type": "markdown",
   "metadata": {},
   "source": [
    "# Dataset Loading"
   ]
  },
  {
   "cell_type": "code",
   "execution_count": 3,
   "metadata": {
    "tags": []
   },
   "outputs": [],
   "source": [
    "def normalize_fix_nEntr(Xi, nentr=2000):\n",
    "    for i in tqdm(range(len(Xi))):\n",
    "        empty_provv = np.zeros(len(Xi[0]))\n",
    "        empty_provv[np.argsort(Xi[i])[-nentr:]] = Xi[i][np.argsort(Xi[i])[-nentr:]]\n",
    "        n_nz = empty_provv.nonzero()[0].shape[0]\n",
    "        if n_nz==nentr:\n",
    "            Xi[i]=empty_provv/sum(empty_provv)\n",
    "        else:\n",
    "            ind_provv = np.random.choice(np.where(empty_provv==0)[0], nentr-n_nz, replace=False)\n",
    "            vals = np.random.rand(nentr-n_nz)\n",
    "            vals = vals/sum(vals)*0.1\n",
    "            Xi[i]=empty_provv/sum(empty_provv)*0.9\n",
    "            Xi[i][ind_provv] = vals\n",
    "    return Xi"
   ]
  },
  {
   "cell_type": "code",
   "execution_count": null,
   "metadata": {
    "tags": []
   },
   "outputs": [],
   "source": [
    "# paths with the indexes of the N1O samples with a specific onco virus\n",
    "index_paths = np.loadtxt(\"../Data/ClassificationDataALL_4vir/topology_exp/names.txt\", dtype=str)"
   ]
  },
  {
   "cell_type": "code",
   "execution_count": 5,
   "metadata": {
    "tags": []
   },
   "outputs": [
    {
     "name": "stdout",
     "output_type": "stream",
     "text": [
      "Loading Train and Val\n"
     ]
    },
    {
     "name": "stderr",
     "output_type": "stream",
     "text": [
      "100%|███████████████████████████████████████| 3000/3000 [01:21<00:00, 36.62it/s]\n",
      "100%|███████████████████████████████████████| 3000/3000 [01:19<00:00, 37.67it/s]\n"
     ]
    }
   ],
   "source": [
    "\n",
    "#training samples\n",
    "print(\"Loading Train and Val\")\n",
    "X = []\n",
    "for t in [\"n\",\"n1o\"]:\n",
    "    for i in tqdm(range(3000)):#os.listdir(\"../Data/ClassificationData_4vir/topology/\"+t):\n",
    "        X.append(np.loadtxt(\"../Data/ClassificationDataALL_4vir/topology_exp/\"+t+\"/\"+str(i)+\".txt\"))\n",
    "X=np.array(X)\n",
    "\n",
    "#training samples labels\n",
    "label_dict = dict(zip([\"n\",\"n1o\"], [0,1]))\n",
    "\n",
    "y = []\n",
    "for t in [\"n\",\"n1o\"]:\n",
    "    y.append([label_dict[t]]*3000)#len(os.listdir(\"../Data/ClassificationData_4vir/topology/\"+t)))\n",
    "\n",
    "y = np.concatenate(y)\n",
    "\n"
   ]
  },
  {
   "cell_type": "code",
   "execution_count": 6,
   "metadata": {
    "tags": []
   },
   "outputs": [
    {
     "name": "stderr",
     "output_type": "stream",
     "text": [
      "100%|██████████████████████████████████████| 6000/6000 [00:13<00:00, 437.63it/s]\n"
     ]
    }
   ],
   "source": [
    "X = normalize_fix_nEntr(X, nentr=700)"
   ]
  },
  {
   "cell_type": "markdown",
   "metadata": {},
   "source": [
    "# Dataset and Dataloaders Definition"
   ]
  },
  {
   "cell_type": "code",
   "execution_count": 7,
   "metadata": {
    "tags": []
   },
   "outputs": [],
   "source": [
    "class AdjacencyDataset(Dataset):\n",
    "    \"\"\"Apples Dataset\"\"\"\n",
    "\n",
    "    def __init__(self, X, y=None, test=False):\n",
    "        \"\"\"\n",
    "        Args:\n",
    "        \"\"\"\n",
    "        self.test = test\n",
    "        self.data = X\n",
    "        self.labels = y\n",
    "        \n",
    "    def __len__(self):\n",
    "        return len(self.data)\n",
    "\n",
    "    def __getitem__(self, idx):\n",
    "        dat = self.data[idx]#np.array([self.data[idx].nonzero()[0], self.data[idx][self.data[idx].nonzero()[0]]])\n",
    "        if self.test:\n",
    "            return torch.from_numpy(dat).type(torch.FloatTensor)\n",
    "        else:\n",
    "            return [torch.from_numpy(dat).type(torch.FloatTensor), int(self.labels[idx])]\n",
    "        "
   ]
  },
  {
   "cell_type": "markdown",
   "metadata": {},
   "source": [
    "# Model"
   ]
  },
  {
   "cell_type": "code",
   "execution_count": 8,
   "metadata": {
    "tags": []
   },
   "outputs": [],
   "source": [
    "class Model(nn.Module):\n",
    "    def __init__(self):\n",
    "        super().__init__()\n",
    "        self.lin1 = nn.Linear(in_features=12984, out_features=2)\n",
    "\n",
    "    def forward(self, x):\n",
    "        x=self.lin1(x)\n",
    "        return x\n",
    "\n",
    "model1 = Model()\n",
    "model1=model1.cpu()\n"
   ]
  },
  {
   "cell_type": "code",
   "execution_count": 10,
   "metadata": {
    "tags": []
   },
   "outputs": [],
   "source": [
    "def set_up_trial(X, ind):\n",
    "    index_rem = np.loadtxt(index_paths[ind], dtype=int)\n",
    "    index_rem = (index_rem[index_rem<(len(X)//2)])+(len(X)//2)\n",
    "\n",
    "    X_test = X[index_rem]\n",
    "    y_test = y[index_rem]\n",
    "    X_train, X_val, y_train, y_val = train_test_split(X[np.delete(np.arange(len(X)), index_rem)], y[np.delete(np.arange(len(X)), index_rem)], test_size=0.1, random_state=42)\n",
    "    \n",
    "    mydat_train = AdjacencyDataset(X_train, y_train)\n",
    "    mydat_val = AdjacencyDataset(X_val, y_val)\n",
    "    mydat_test = AdjacencyDataset(X_test, y_test)\n",
    "\n",
    "    train_dataloader = DataLoader(mydat_train, batch_size=20, shuffle=True, num_workers=0)\n",
    "    val_dataloader = DataLoader(mydat_val, batch_size=20, shuffle=False, num_workers=0)\n",
    "    test_dataloader = DataLoader(mydat_test, batch_size=20, shuffle=False, num_workers=0)\n",
    "     \n",
    "    check_last = ModelCheckpoint('checkpoints/check_last_exp_'+str(i)+'.pth')\n",
    "    \n",
    "    model = Model()\n",
    "    model = model1.cpu()\n",
    "    \n",
    "    trial_now = Trial(model,\n",
    "                      optim.Adam(model1.parameters(), lr=5e-04), \n",
    "                      nn.CrossEntropyLoss(), \n",
    "                      metrics=[\"loss\", \"acc\"],\n",
    "                      callbacks=[check_last])\n",
    "    \n",
    "    trial_now = trial_now.load_state_dict(state_dict=torch.load(\"checkpoints/check_last_exp_\"+str(ind)+\".pth\"))\n",
    "   \n",
    "    trial_now.with_generators(train_generator=train_dataloader, \n",
    "                              val_generator=val_dataloader, \n",
    "                              test_generator=test_dataloader)\n",
    "    \n",
    "    my_trial_now = trial_now.run(epochs=200, verbose=1)\n",
    "    \n",
    "    return trial_now, my_trial_now"
   ]
  },
  {
   "cell_type": "code",
   "execution_count": 38,
   "metadata": {
    "tags": []
   },
   "outputs": [
    {
     "data": {
      "application/vnd.jupyter.widget-view+json": {
       "model_id": "c7df46440fca4fb7b810b23c0815a869",
       "version_major": 2,
       "version_minor": 0
      },
      "text/plain": [
       "100%|##########| 200/200 [00:00<?, ?it/s]"
      ]
     },
     "metadata": {},
     "output_type": "display_data"
    }
   ],
   "source": [
    "trial, mytrial = set_up_trial(X, 0)"
   ]
  },
  {
   "cell_type": "code",
   "execution_count": 39,
   "metadata": {
    "tags": []
   },
   "outputs": [
    {
     "data": {
      "image/png": "[encoded data removed]",
      "text/plain": [
       "<Figure size 900x400 with 2 Axes>"
      ]
     },
     "metadata": {},
     "output_type": "display_data"
    }
   ],
   "source": [
    "__, ax = plt.subplots(1,2,figsize=(9,4))\n",
    "\n",
    "ax[0].semilogy([mt[\"loss\"] for mt in mytrial], label=\"Train loss\", color=\"C0\")\n",
    "ax[0].semilogy([mt[\"val_loss\"] for mt in mytrial], label=\"Val loss\", color=\"navy\")\n",
    "\n",
    "ax[1].plot([mt[\"acc\"] for mt in mytrial], label=\"Train Acc\", color=\"orange\")\n",
    "ax[1].plot([mt[\"val_acc\"] for mt in mytrial], label=\"Val Acc\", color=\"red\")\n",
    "\n",
    "[axi.set_xlabel(\"Epochs\") for axi in ax]\n",
    "[axi.legend() for axi in ax]\n",
    "[axi.grid(ls=\"--\") for axi in ax]\n",
    "ax[0].grid(which=\"minor\", ls=\":\")\n",
    "plt.tight_layout()"
   ]
  },
  {
   "cell_type": "code",
   "execution_count": 11,
   "metadata": {
    "tags": []
   },
   "outputs": [],
   "source": [
    "def plot_confusion_matrix(trial, which=\"val\"):\n",
    "    if which==\"val\":\n",
    "        val_pred=np.argmax(trial.predict(data_key=torchbearer.VALIDATION_DATA).detach().numpy(),axis=1)\n",
    "        val_true=[v[1] for v in trial.state.data[\"validation_generator\"].dataset]\n",
    "        title=\"VALIDATION CONFUSION MATRIX\"\n",
    "    elif which==\"test\":\n",
    "        val_pred=np.argmax(trial.predict(data_key=torchbearer.TEST_DATA).detach().numpy(),axis=1)\n",
    "        val_true=[v[1] for v in trial.state.data[\"test_generator\"].dataset]\n",
    "        title=\"TEST CONFUSION MATRIX\"\n",
    "    else:\n",
    "        raise ValueError(\"which should be either val or test\")\n",
    "    \n",
    "    confM_val = confusion_matrix(y_true = val_true, y_pred = val_pred, labels=np.arange(2))\n",
    "\n",
    "    plt.figure(figsize=(6,6))\n",
    "    sns.heatmap(confM_val, annot=True, fmt=\"g\", cbar=False, cmap=\"magma\")\n",
    "    plt.title(title, weight=\"bold\")\n",
    "    plt.ylabel(\"True labels\")\n",
    "    plt.xlabel(\"Predicted labels\")\n",
    "    plt.tight_layout()\n",
    "    \n",
    "    return {\"pred\": val_pred, \"true\": np.array(val_true)}"
   ]
  },
  {
   "cell_type": "code",
   "execution_count": 22,
   "metadata": {
    "tags": []
   },
   "outputs": [],
   "source": [
    "coex_df = pd.read_csv(\"../Data/data_STRING/coexpr.nodes\", sep=\" \")\n",
    "coex_map = dict(zip(coex_df[\"ID\"], coex_df[\"Prot\"]))\n",
    "\n",
    "def plot_weights(trial, ref_df):\n",
    "    weights = trial.state[\"model\"].lin1.weight.data.detach().numpy()\n",
    "    weights = np.array([weights[i]/max(weights[i]) for i in range(len(weights))])\n",
    "    \n",
    "    weigh_df = ref_df.copy()\n",
    "\n",
    "    for i in range(2):\n",
    "        weigh_df[\"W\"+str(i)] = weights[i]\n",
    "    weigh_df[\"std\"] = np.abs(weigh_df[\"W0\"]-weigh_df[\"W1\"])\n",
    "    \n",
    "    plt.figure(figsize=(16,3))\n",
    "    sns.heatmap(weights)\n",
    "    plt.title(\"PERCEPTRON WEIGHTS HEATMAP\", fontweight=\"bold\")\n",
    "    plt.xlabel(\"Node ID\")\n",
    "    plt.ylabel(\"Label\")\n",
    "    plt.tight_layout()\n",
    "    \n",
    "    return weigh_df"
   ]
  },
  {
   "cell_type": "code",
   "execution_count": 153,
   "metadata": {
    "tags": []
   },
   "outputs": [],
   "source": [
    "def plot_weights_heatmap(weigh_df):\n",
    "    gauss = gaussian_kde(weigh_df[[\"nodeID\",\"W1\"]].T.to_numpy())\n",
    "    kde = gaussian_kde(weigh_df[[\"nodeID\",\"W1\"]].T.to_numpy())\n",
    "    density_1 = kde(weigh_df[[\"nodeID\",\"W1\"]].T.to_numpy())\n",
    "    gauss = gaussian_kde(weigh_df[[\"nodeID\",\"W0\"]].T.to_numpy())\n",
    "    kde = gaussian_kde(weigh_df[[\"nodeID\",\"W0\"]].T.to_numpy())\n",
    "    density_0 = kde(weigh_df[[\"nodeID\",\"W0\"]].T.to_numpy())\n",
    "\n",
    "    _, ax = plt.subplots(1,2, figsize=(12,4))\n",
    "\n",
    "    ax[0].scatter(weigh_df[\"nodeID\"], weights[0], c=density, cmap='viridis', s=0.1)\n",
    "    ax[0].set_title(\"WEIGHTS LABEL 0\", fontweight=\"bold\")\n",
    "    ax[0].set_xlabel(\"Entry position\")\n",
    "    ax[0].set_ylabel(\"Weight value\")\n",
    "    ax[1].scatter(weigh_df[\"nodeID\"], weights[1], c=density, cmap='viridis', s=0.1)\n",
    "    ax[1].set_title(\"WEIGHTS LABEL 1\", fontweight=\"bold\")\n",
    "    ax[1].set_xlabel(\"Entry position\")\n",
    "    ax[1].set_ylabel(\"Weight value\")\n",
    "    plt.tight_layout()"
   ]
  },
  {
   "cell_type": "code",
   "execution_count": 27,
   "metadata": {
    "tags": []
   },
   "outputs": [
    {
     "data": {
      "application/vnd.jupyter.widget-view+json": {
       "model_id": "b1c428fefc8742c3b9172184748fcec9",
       "version_major": 2,
       "version_minor": 0
      },
      "text/plain": [
       "0/1(p):   0%|          | 0/19 [00:00<?, ?it/s]"
      ]
     },
     "metadata": {},
     "output_type": "display_data"
    },
    {
     "data": {
      "text/plain": [
       "0.696"
      ]
     },
     "execution_count": 27,
     "metadata": {},
     "output_type": "execute_result"
    },
    {
     "data": {
      "image/png": "[encoded data removed]",
      "text/plain": [
       "<Figure size 600x600 with 1 Axes>"
      ]
     },
     "metadata": {},
     "output_type": "display_data"
    }
   ],
   "source": [
    "res_pred = plot_confusion_matrix(trial, \"test\")"
   ]
  },
  {
   "cell_type": "code",
   "execution_count": 75,
   "metadata": {
    "tags": []
   },
   "outputs": [
    {
     "data": {
      "image/png": "[encoded data removed]",
      "text/plain": [
       "<Figure size 1600x300 with 2 Axes>"
      ]
     },
     "metadata": {},
     "output_type": "display_data"
    }
   ],
   "source": [
    "weigh_df = plot_weights(trial, ref_df=coex_df)"
   ]
  },
  {
   "cell_type": "markdown",
   "metadata": {},
   "source": [
    "# Intersection analysis"
   ]
  },
  {
   "cell_type": "code",
   "execution_count": 3,
   "metadata": {
    "tags": []
   },
   "outputs": [],
   "source": [
    "def custom_intersection(arr):\n",
    "    inters = np.intersect1d(arr[0],arr[1])\n",
    "    for i in range(2,len(arr)):\n",
    "        inters = np.intersect1d(inters, arr[i])\n",
    "    return inters"
   ]
  },
  {
   "cell_type": "code",
   "execution_count": 6,
   "metadata": {
    "tags": []
   },
   "outputs": [],
   "source": [
    "top_50=[]\n",
    "\n",
    "for a in [0,1,2,3,4,5,6,7]:\n",
    "    top_50.append(pd.read_csv(\"../Data/MLRes_exp/to_100_\"+index_paths[a].split(\"/\")[-1][:-10]+\".csv\").to_numpy())"
   ]
  },
  {
   "cell_type": "code",
   "execution_count": 9,
   "metadata": {
    "tags": []
   },
   "outputs": [
    {
     "name": "stdout",
     "output_type": "stream",
     "text": [
      "9606.ENSP00000215727, 9606.ENSP00000229264, 9606.ENSP00000232564, 9606.ENSP00000248923, 9606.ENSP00000284154, 9606.ENSP00000295101, 9606.ENSP00000305260, 9606.ENSP00000311005, 9606.ENSP00000321684, 9606.ENSP00000321746, 9606.ENSP00000339007, 9606.ENSP00000342026, 9606.ENSP00000342056, 9606.ENSP00000356480, 9606.ENSP00000364403, 9606.ENSP00000381340, 9606.ENSP00000383234, 9606.ENSP00000391249, 9606.ENSP00000401437, 9606.ENSP00000421689\n"
     ]
    }
   ],
   "source": [
    "print((\", \").join(custom_intersection([top_50[i][:50] for i in [0,1,3,5,6]])))"
   ]
  },
  {
   "cell_type": "markdown",
   "metadata": {},
   "source": [
    "# TOP 50 production"
   ]
  },
  {
   "cell_type": "code",
   "execution_count": 37,
   "metadata": {
    "tags": []
   },
   "outputs": [
    {
     "data": {
      "application/vnd.jupyter.widget-view+json": {
       "model_id": "05e6a33c502f4707bb69d6d0c5272c22",
       "version_major": 2,
       "version_minor": 0
      },
      "text/plain": [
       "100%|##########| 200/200 [00:00<?, ?it/s]"
      ]
     },
     "metadata": {},
     "output_type": "display_data"
    },
    {
     "data": {
      "application/vnd.jupyter.widget-view+json": {
       "model_id": "9d0c4fdced2d4b5fb00bf0ec3481cf9e",
       "version_major": 2,
       "version_minor": 0
      },
      "text/plain": [
       "100%|##########| 200/200 [00:00<?, ?it/s]"
      ]
     },
     "metadata": {},
     "output_type": "display_data"
    },
    {
     "data": {
      "application/vnd.jupyter.widget-view+json": {
       "model_id": "1098c69f0046480897d4482fdf3cda43",
       "version_major": 2,
       "version_minor": 0
      },
      "text/plain": [
       "100%|##########| 200/200 [00:00<?, ?it/s]"
      ]
     },
     "metadata": {},
     "output_type": "display_data"
    },
    {
     "data": {
      "application/vnd.jupyter.widget-view+json": {
       "model_id": "d3573c88c455459a850cf0f12ceee308",
       "version_major": 2,
       "version_minor": 0
      },
      "text/plain": [
       "100%|##########| 200/200 [00:00<?, ?it/s]"
      ]
     },
     "metadata": {},
     "output_type": "display_data"
    },
    {
     "data": {
      "application/vnd.jupyter.widget-view+json": {
       "model_id": "03b9074b0f3d4182ae3a166fd69b85ad",
       "version_major": 2,
       "version_minor": 0
      },
      "text/plain": [
       "100%|##########| 200/200 [00:00<?, ?it/s]"
      ]
     },
     "metadata": {},
     "output_type": "display_data"
    },
    {
     "data": {
      "application/vnd.jupyter.widget-view+json": {
       "model_id": "0631cf9eeb0d41c78520a77f1b475af9",
       "version_major": 2,
       "version_minor": 0
      },
      "text/plain": [
       "100%|##########| 200/200 [00:00<?, ?it/s]"
      ]
     },
     "metadata": {},
     "output_type": "display_data"
    },
    {
     "data": {
      "application/vnd.jupyter.widget-view+json": {
       "model_id": "cf64c5bc70d94ab887997cfb8b46732b",
       "version_major": 2,
       "version_minor": 0
      },
      "text/plain": [
       "100%|##########| 200/200 [00:00<?, ?it/s]"
      ]
     },
     "metadata": {},
     "output_type": "display_data"
    },
    {
     "data": {
      "application/vnd.jupyter.widget-view+json": {
       "model_id": "00842ebc12c6482aa89d415ffa132513",
       "version_major": 2,
       "version_minor": 0
      },
      "text/plain": [
       "100%|##########| 200/200 [00:00<?, ?it/s]"
      ]
     },
     "metadata": {},
     "output_type": "display_data"
    }
   ],
   "source": [
    "coex_df = pd.read_csv(\"../Data/data_STRING/coexpr.nodes\", sep=\" \")\n",
    "coex_map = dict(zip(coex_df[\"ID\"], coex_df[\"Prot\"]))\n",
    "\n",
    "for i in [0,1,2,3,4,5,6,7]:\n",
    "    tr_now, mt_now = set_up_trial(X, i)\n",
    "    weights = tr_now.state[\"model\"].lin1.weight.detach().numpy()\n",
    "    weights = np.array([weights[i]/max(weights[i]) for i in range(len(weights))])\n",
    "\n",
    "    weigh_df = coex_df.copy()\n",
    "\n",
    "    for j in range(2):\n",
    "        weigh_df[\"W\"+str(j)] = weights[j]\n",
    "    weigh_df[\"std\"] = np.abs(weigh_df[\"W0\"]-weigh_df[\"W1\"])\n",
    "\n",
    "    weigh_df.sort_values(\"W0\", ascending=False).head(50)[\"Prot\"].to_csv(\"../Data/MLRes_coex/w0_100_\"+index_paths[i].split(\"/\")[-1]+\".csv\", index=False)\n",
    "    weigh_df.sort_values(\"W1\", ascending=False).head(50)[\"Prot\"].to_csv(\"../Data/MLRes_coex/w1_100_\"+index_paths[i].split(\"/\")[-1]+\".csv\", index=False)"
   ]
  },
  {
   "cell_type": "markdown",
   "metadata": {},
   "source": [
    "# Trials production"
   ]
  },
  {
   "cell_type": "code",
   "execution_count": null,
   "metadata": {
    "tags": []
   },
   "outputs": [],
   "source": [
    "coex_df = pd.read_csv(\"../Data/data_STRING/exp.nodes\", sep=\" \")\n",
    "coex_map = dict(zip(coex_df[\"ID\"], coex_df[\"Prot\"]))\n",
    "\n",
    "synt_pred_list, syntbstr_pred_list, test_pred_list, sars_pred_list = [],[],[],[]\n",
    "top_50 = []\n",
    "\n",
    "for i in range(8):\n",
    "    print(index_paths[i])\n",
    "    index_rem = np.loadtxt(index_paths[i], dtype=int)\n",
    "    index_rem = (index_rem[index_rem<(len(X)//2)])+(len(X)//2)\n",
    "\n",
    "    X_test = X[index_rem]\n",
    "    y_test = y[index_rem]\n",
    "\n",
    "    X_train, X_val, y_train, y_val = train_test_split(X[np.delete(np.arange(len(X)), index_rem)], y[np.delete(np.arange(len(X)), index_rem)], test_size=0.1, random_state=42)\n",
    "\n",
    "    \n",
    "    mydat_train = AdjacencyDataset(X_train, y_train)\n",
    "    mydat_val = AdjacencyDataset(X_val, y_val)\n",
    "    mydat_test = AdjacencyDataset(X_test, y_test)\n",
    "\n",
    "    train_dataloader = DataLoader(mydat_train, batch_size=20, shuffle=True, num_workers=0)\n",
    "    val_dataloader = DataLoader(mydat_val, batch_size=20, shuffle=False, num_workers=0)\n",
    "    test_dataloader = DataLoader(mydat_test, batch_size=20, shuffle=False, num_workers=0)\n",
    "    \n",
    "    model1 = Model()\n",
    "    model1 = model1.cpu()\n",
    "    \n",
    "    check_last = ModelCheckpoint('checkpoints/check_last_exp_2_'+str(i)+'.pth')\n",
    "\n",
    "    trial_2 = Trial(model1,\n",
    "                     optim.Adam(model1.parameters(), lr=5e-04), \n",
    "                     nn.CrossEntropyLoss(), \n",
    "                     metrics=[\"loss\", \"acc\"],\n",
    "                     callbacks=[check_last])\n",
    "\n",
    "    trial_2.with_generators(train_generator=train_dataloader, \n",
    "                      val_generator=val_dataloader, \n",
    "                      test_generator=test_dataloader)#val67_dataloader)\n",
    "\n",
    "    mytrial = trial_2.run(epochs=500, verbose=1)\n",
    "    \n",
    "    weights = model1.lin1.weight.data.detach().numpy()\n",
    "    weights = np.array([weights[i]/max(weights[i]) for i in range(len(weights))])\n",
    "    \n",
    "    weigh_df = coex_df.copy()\n",
    "\n",
    "    for j in range(2):\n",
    "        weigh_df[\"W\"+str(j)] = weights[j]\n",
    "    weigh_df[\"std\"] = np.abs(weigh_df[\"W0\"]-weigh_df[\"W1\"])\n",
    "    \n",
    "    weigh_df.sort_values(\"std\", ascending=False).head(100)[\"Prot\"].to_csv(\"../Data/MLRes_exp/to_100_2_\"+index_paths[i].split(\"/\")[-1][:-10]+\".csv\", index=False)"
   ]
  },
  {
   "cell_type": "markdown",
   "metadata": {},
   "source": [
    "# Random Forest"
   ]
  },
  {
   "cell_type": "code",
   "execution_count": 100,
   "metadata": {
    "tags": []
   },
   "outputs": [],
   "source": [
    "def random_tree_MINE(X, ind, max_depth, n_estimators, min_samples_split, min_samples_leaf, max_features, criterion, what_return=\"score\"):\n",
    "    num_features = X.shape[1]\n",
    "    \n",
    "    index_rem = np.loadtxt(index_paths[ind], dtype=int)\n",
    "    index_rem = (index_rem[index_rem<(len(X)//2)])+(len(X)//2)\n",
    "\n",
    "    X_test = X[index_rem]\n",
    "    y_test = y[index_rem]\n",
    "    \n",
    "    X_train, X_val, y_train, y_val = train_test_split(X[np.delete(np.arange(len(X)), index_rem)], y[np.delete(np.arange(len(X)), index_rem)], test_size=0.1, random_state=42)\n",
    "\n",
    "    # Create a Random Forest classifier\n",
    "    rf_classifier = RandomForestClassifier(n_estimators=n_estimators,\n",
    "                                           max_depth=max_depth, \n",
    "                                           min_samples_leaf=min_samples_leaf, \n",
    "                                           min_samples_split=min_samples_split,\n",
    "                                           max_features=max_features,\n",
    "                                           criterion=criterion\n",
    "    )\n",
    "\n",
    "    # Fit the classifier to the input data\n",
    "    rf_classifier.fit(X_train, y_train)\n",
    "\n",
    "    y_val_pred = rf_classifier.predict(X_val)\n",
    "    y_train_pred = rf_classifier.predict(X_train)\n",
    "    if what_return==\"score\":\n",
    "        return accuracy_score(y_val, y_val_pred)\n",
    "    else:\n",
    "        \n",
    "        # Calculate the accuracy of the model on the training data\n",
    "        train_accuracy = accuracy_score(y_train, y_train_pred)\n",
    "        val_accuracy = accuracy_score(y_val, y_val_pred)\n",
    "        # Classify the new sample\n",
    "        predicted_class = rf_classifier.predict(X_test)\n",
    "        \n",
    "        importance_scores = rf_classifier.feature_importances_\n",
    "\n",
    "        return {\"Model\": rf_classifier,\n",
    "                \"train_pred\": y_train_pred,\n",
    "                \"train_true\": y_train,\n",
    "                \"train_accuracy\": train_accuracy,\n",
    "                \"val_pred\": y_val_pred,\n",
    "                \"val_true\": y_val,\n",
    "                \"val_accuracy\": val_accuracy,\n",
    "                \"test_pred\": predicted_class,\n",
    "                \"scores\": importance_scores}"
   ]
  },
  {
   "cell_type": "code",
   "execution_count": 165,
   "metadata": {
    "tags": []
   },
   "outputs": [
    {
     "name": "stdout",
     "output_type": "stream",
     "text": [
      "Random forest for 28\n",
      "1.000 & 0.949 & 0.974 & 0.720 & 0.820\n",
      "Random forest for 43\n",
      "1.000 & 0.947 & 0.838 & 0.920 & 0.780\n",
      "Random forest for 44\n",
      "1.000 & 0.939 & 0.906 & 0.660 & 0.490\n",
      "Random forest for 67\n",
      "1.000 & 0.945 & 0.978 & 0.740 & 0.660\n",
      "Random forest for 75\n",
      "1.000 & 0.959 & 0.873 & 0.800 & 0.580\n",
      "Random forest for 77\n",
      "1.000 & 0.964 & 0.890 & 0.850 & 0.700\n",
      "Random forest for 78\n",
      "1.000 & 0.956 & 0.442 & 0.920 & 0.830\n",
      "Random forest for 90\n",
      "1.000 & 0.963 & 0.890 & 0.740 & 0.830\n"
     ]
    }
   ],
   "source": [
    "scores_list = []\n",
    "\n",
    "for i in [28,43,44,67,75,77,78,90]:\n",
    "    print(\"Random forest for\", i)\n",
    "    result = random_tree_MINE(X=X,\n",
    "                              ind=i,\n",
    "                              n_estimators=100,\n",
    "                              max_depth=None, \n",
    "                              min_samples_split=2, \n",
    "                              min_samples_leaf=1,\n",
    "                              max_features=\"sqrt\",\n",
    "                              criterion=\"entropy\",\n",
    "                              what_return=\"all\")\n",
    "    sars_pred = result['Model'].predict(X_pred)\n",
    "    synt_pred = result['Model'].predict(X_synt)\n",
    "    scores_list.append(biostr_df[\"nodeSymbol\"][result['scores'].argsort()[::-1]][:50].to_numpy())\n",
    "    print(\"%.3f & %.3f & %.3f & %.3f & %.3f\" %(result['train_accuracy'], result['val_accuracy'], result['test_pred'].mean(), sars_pred.mean(), synt_pred.mean()))"
   ]
  },
  {
   "cell_type": "code",
   "execution_count": 167,
   "metadata": {
    "tags": []
   },
   "outputs": [
    {
     "name": "stdout",
     "output_type": "stream",
     "text": [
      "CBX4, CREB1, CTBP1, DYRK1B, H2AFY, HIPK2, HIST1H2BG, HIST1H2BH, HIST1H3A, HIST2H2BE, MECP2, MYB, NKX2-1, NLK, NTRK1, SENP1, SKI\n"
     ]
    }
   ],
   "source": [
    "scores_df = pd.DataFrame(np.unique(np.concatenate(scores_list), return_counts=True)).T\n",
    "print((\", \").join(scores_df[scores_df[1]>6][0].to_numpy()))"
   ]
  },
  {
   "cell_type": "code",
   "execution_count": 101,
   "metadata": {
    "tags": []
   },
   "outputs": [],
   "source": [
    "result = random_tree_MINE(X=X,\n",
    "                          ind=0,\n",
    "                            n_estimators=100,\n",
    "                            max_depth=None, \n",
    "                            min_samples_split=2, \n",
    "                            min_samples_leaf=1,\n",
    "                            max_features=\"sqrt\",\n",
    "                            criterion=\"entropy\",\n",
    "                            what_return=\"all\")"
   ]
  },
  {
   "cell_type": "code",
   "execution_count": 102,
   "metadata": {
    "tags": []
   },
   "outputs": [],
   "source": [
    "y_val_pred = result[\"val_pred\"]\n",
    "y_test_pred = result[\"test_pred\"]"
   ]
  },
  {
   "cell_type": "code",
   "execution_count": 103,
   "metadata": {
    "tags": []
   },
   "outputs": [
    {
     "data": {
      "image/png": "[encoded data removed]",
      "text/plain": [
       "<Figure size 640x480 with 2 Axes>"
      ]
     },
     "metadata": {},
     "output_type": "display_data"
    }
   ],
   "source": [
    "sns.heatmap(confusion_matrix(y_pred=result[\"val_pred\"], y_true=result[\"val_true\"]), annot=True, fmt=\"d\")\n",
    "plt.xlabel(\"y pred\")\n",
    "plt.ylabel(\"y true\")\n",
    "plt.show()"
   ]
  },
  {
   "cell_type": "code",
   "execution_count": 160,
   "metadata": {
    "tags": []
   },
   "outputs": [
    {
     "name": "stderr",
     "output_type": "stream",
     "text": [
      "\u001b[32m[I 2023-06-05 15:18:03,019]\u001b[0m A new study created in memory with name: random tree\u001b[0m\n",
      "\u001b[32m[I 2023-06-05 15:18:06,862]\u001b[0m Trial 0 finished with value: 0.9411764705882353 and parameters: {'max_depth': 93, 'min_samples_split': 4, 'min_samples_leaf': 2, 'max_features': 'log2', 'criterion': 'entropy'}. Best is trial 0 with value: 0.9411764705882353.\u001b[0m\n",
      "\u001b[32m[I 2023-06-05 15:18:10,717]\u001b[0m Trial 1 finished with value: 0.946524064171123 and parameters: {'max_depth': 75, 'min_samples_split': 7, 'min_samples_leaf': 8, 'max_features': 'sqrt', 'criterion': 'log_loss'}. Best is trial 1 with value: 0.946524064171123.\u001b[0m\n",
      "\u001b[32m[I 2023-06-05 15:18:14,532]\u001b[0m Trial 2 finished with value: 0.9429590017825312 and parameters: {'max_depth': 81, 'min_samples_split': 9, 'min_samples_leaf': 10, 'max_features': 'sqrt', 'criterion': 'gini'}. Best is trial 1 with value: 0.946524064171123.\u001b[0m\n",
      "\u001b[32m[I 2023-06-05 15:18:18,339]\u001b[0m Trial 3 finished with value: 0.9358288770053476 and parameters: {'max_depth': 44, 'min_samples_split': 8, 'min_samples_leaf': 10, 'max_features': 'log2', 'criterion': 'log_loss'}. Best is trial 1 with value: 0.946524064171123.\u001b[0m\n",
      "\u001b[32m[I 2023-06-05 15:18:22,215]\u001b[0m Trial 4 finished with value: 0.948306595365419 and parameters: {'max_depth': 91, 'min_samples_split': 2, 'min_samples_leaf': 5, 'max_features': 'log2', 'criterion': 'entropy'}. Best is trial 4 with value: 0.948306595365419.\u001b[0m\n",
      "\u001b[32m[I 2023-06-05 15:18:26,133]\u001b[0m Trial 5 finished with value: 0.9572192513368984 and parameters: {'max_depth': 82, 'min_samples_split': 6, 'min_samples_leaf': 9, 'max_features': 'log2', 'criterion': 'entropy'}. Best is trial 5 with value: 0.9572192513368984.\u001b[0m\n",
      "\u001b[32m[I 2023-06-05 15:18:29,971]\u001b[0m Trial 6 finished with value: 0.946524064171123 and parameters: {'max_depth': 71, 'min_samples_split': 3, 'min_samples_leaf': 6, 'max_features': 'log2', 'criterion': 'gini'}. Best is trial 5 with value: 0.9572192513368984.\u001b[0m\n",
      "\u001b[32m[I 2023-06-05 15:18:33,783]\u001b[0m Trial 7 finished with value: 0.9411764705882353 and parameters: {'max_depth': 49, 'min_samples_split': 5, 'min_samples_leaf': 9, 'max_features': 'sqrt', 'criterion': 'entropy'}. Best is trial 5 with value: 0.9572192513368984.\u001b[0m\n",
      "\u001b[32m[I 2023-06-05 15:18:37,709]\u001b[0m Trial 8 finished with value: 0.9340463458110517 and parameters: {'max_depth': 13, 'min_samples_split': 8, 'min_samples_leaf': 8, 'max_features': 'log2', 'criterion': 'entropy'}. Best is trial 5 with value: 0.9572192513368984.\u001b[0m\n",
      "\u001b[32m[I 2023-06-05 15:18:41,573]\u001b[0m Trial 9 finished with value: 0.9376114081996435 and parameters: {'max_depth': 36, 'min_samples_split': 8, 'min_samples_leaf': 6, 'max_features': 'log2', 'criterion': 'log_loss'}. Best is trial 5 with value: 0.9572192513368984.\u001b[0m\n"
     ]
    },
    {
     "name": "stdout",
     "output_type": "stream",
     "text": [
      "Number of finished trials: 10\n",
      "Best trial:\n",
      "   Max IoU: 0.9572192513368984\n",
      "   Params: \n",
      "    max_depth: 82\n",
      "    min_samples_split: 6\n",
      "    min_samples_leaf: 9\n",
      "    max_features: log2\n",
      "    criterion: entropy\n"
     ]
    }
   ],
   "source": [
    "def objective(trial):\n",
    "\n",
    "    # set the range of the transformations to apply to the image\n",
    "    hyperparameters = [\n",
    "        #trial.suggest_int(\"n_estimators\", 50,150),\n",
    "        trial.suggest_int(\"max_depth\", 1, 100),\n",
    "        trial.suggest_int(\"min_samples_split\", 2,10),\n",
    "        trial.suggest_int(\"min_samples_leaf\", 1,10),\n",
    "        trial.suggest_categorical(\"max_features\", [\"sqrt\", \"log2\"]),\n",
    "        trial.suggest_categorical(\"criterion\", [\"gini\", \"entropy\", \"log_loss\"])\n",
    "    ]\n",
    "    \n",
    "    return random_tree_MINE(X=X,\n",
    "                            ind=77,\n",
    "                            n_estimators = 100,\n",
    "                            max_depth=hyperparameters[0], \n",
    "                            min_samples_split=hyperparameters[1], \n",
    "                            min_samples_leaf=hyperparameters[2],\n",
    "                            max_features=hyperparameters[3],\n",
    "                            criterion = hyperparameters[4])\n",
    "\n",
    "pruner: optuna.pruners.BasePruner = optuna.pruners.NopPruner()\n",
    "sampler = TPESampler(seed=12345)\n",
    "study = optuna.create_study(study_name=\"random tree\", direction=\"maximize\", pruner=pruner, sampler=sampler)\n",
    "optuna.logging.set_verbosity(optuna.logging.INFO)\n",
    "study.optimize(objective, n_trials=10)\n",
    "\n",
    "\n",
    "print(\"Number of finished trials: {}\".format(len(study.trials)))\n",
    "\n",
    "print(\"Best trial:\")\n",
    "trial = study.best_trial\n",
    "\n",
    "print(\"   Max IoU: {}\".format(trial.value))\n",
    "\n",
    "print(\"   Params: \")\n",
    "for key, value in trial.params.items():\n",
    "    print(\"    {}: {}\".format(key, value))"
   ]
  }
 ],
 "metadata": {
  "kernelspec": {
   "display_name": "base",
   "language": "python",
   "name": "base"
  },
  "language_info": {
   "codemirror_mode": {
    "name": "ipython",
    "version": 3
   },
   "file_extension": ".py",
   "mimetype": "text/x-python",
   "name": "python",
   "nbconvert_exporter": "python",
   "pygments_lexer": "ipython3",
   "version": "3.10.9"
  }
 },
 "nbformat": 4,
 "nbformat_minor": 4
}
