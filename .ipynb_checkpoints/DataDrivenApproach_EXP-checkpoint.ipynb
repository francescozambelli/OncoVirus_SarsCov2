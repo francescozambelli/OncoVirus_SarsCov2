{
 "cells": [
  {
   "cell_type": "code",
   "execution_count": 76,
   "metadata": {
    "tags": []
   },
   "outputs": [],
   "source": [
    "import numpy as np\n",
    "from sklearn.ensemble import RandomForestClassifier\n",
    "from sklearn.metrics import f1_score, accuracy_score, confusion_matrix\n",
    "from sklearn.model_selection import train_test_split\n",
    "from sklearn.decomposition import PCA\n",
    "from scipy.stats import gaussian_kde\n",
    "import pandas as pd\n",
    "import seaborn as sns\n",
    "import matplotlib.pyplot as plt\n",
    "from operator import itemgetter\n",
    "import os\n",
    "\n",
    "from __future__ import print_function, division\n",
    "\n",
    "import torch\n",
    "import torch.nn as nn\n",
    "import torch.nn.functional as F\n",
    "import torch.optim as optim\n",
    "from torch.utils.data import Dataset, DataLoader, random_split\n",
    "\n",
    "import torchbearer\n",
    "from torchbearer import Trial, metrics, Metric\n",
    "from torchbearer.callbacks import Best, ModelCheckpoint\n",
    "\n",
    "import optuna\n",
    "from optuna.samplers import TPESampler, RandomSampler\n",
    "\n",
    "import ipywidgets\n",
    "from tqdm import tqdm\n",
    "\n",
    "import gseapy as gp\n",
    "\n",
    "import warnings\n",
    "warnings.filterwarnings(\"ignore\")"
   ]
  },
  {
   "cell_type": "code",
   "execution_count": 93,
   "metadata": {
    "tags": []
   },
   "outputs": [
    {
     "data": {
      "text/html": [
       "<div>\n",
       "<style scoped>\n",
       "    .dataframe tbody tr th:only-of-type {\n",
       "        vertical-align: middle;\n",
       "    }\n",
       "\n",
       "    .dataframe tbody tr th {\n",
       "        vertical-align: top;\n",
       "    }\n",
       "\n",
       "    .dataframe thead th {\n",
       "        text-align: right;\n",
       "    }\n",
       "</style>\n",
       "<table border=\"1\" class=\"dataframe\">\n",
       "  <thead>\n",
       "    <tr style=\"text-align: right;\">\n",
       "      <th></th>\n",
       "      <th>#queryIndex</th>\n",
       "      <th>queryItem</th>\n",
       "      <th>stringId</th>\n",
       "      <th>preferredName</th>\n",
       "      <th>annotation</th>\n",
       "    </tr>\n",
       "  </thead>\n",
       "  <tbody>\n",
       "    <tr>\n",
       "      <th>0</th>\n",
       "      <td>1</td>\n",
       "      <td>CBX3</td>\n",
       "      <td>9606.ENSP00000336687</td>\n",
       "      <td>CBX3</td>\n",
       "      <td>Chromobox protein homolog 3; Seems to be invol...</td>\n",
       "    </tr>\n",
       "    <tr>\n",
       "      <th>1</th>\n",
       "      <td>2</td>\n",
       "      <td>CTBP1</td>\n",
       "      <td>9606.ENSP00000290921</td>\n",
       "      <td>CTBP1</td>\n",
       "      <td>C-terminal-binding protein 1; Corepressor targ...</td>\n",
       "    </tr>\n",
       "    <tr>\n",
       "      <th>2</th>\n",
       "      <td>3</td>\n",
       "      <td>DYRK1B</td>\n",
       "      <td>9606.ENSP00000469863</td>\n",
       "      <td>DYRK1B</td>\n",
       "      <td>Dual specificity tyrosine-phosphorylation-regu...</td>\n",
       "    </tr>\n",
       "    <tr>\n",
       "      <th>3</th>\n",
       "      <td>4</td>\n",
       "      <td>FBXO3</td>\n",
       "      <td>9606.ENSP00000265651</td>\n",
       "      <td>FBXO3</td>\n",
       "      <td>F-box only protein 3; Substrate recognition co...</td>\n",
       "    </tr>\n",
       "    <tr>\n",
       "      <th>4</th>\n",
       "      <td>5</td>\n",
       "      <td>GATA4</td>\n",
       "      <td>9606.ENSP00000334458</td>\n",
       "      <td>GATA4</td>\n",
       "      <td>Transcription factor GATA-4; Transcriptional a...</td>\n",
       "    </tr>\n",
       "    <tr>\n",
       "      <th>5</th>\n",
       "      <td>6</td>\n",
       "      <td>HIPK2</td>\n",
       "      <td>9606.ENSP00000385571</td>\n",
       "      <td>HIPK2</td>\n",
       "      <td>Homeodomain-interacting protein kinase 2; Seri...</td>\n",
       "    </tr>\n",
       "    <tr>\n",
       "      <th>6</th>\n",
       "      <td>7</td>\n",
       "      <td>HIST1H2BG</td>\n",
       "      <td>9606.ENSP00000445633</td>\n",
       "      <td>HIST1H2BG</td>\n",
       "      <td>Histone cluster 1 H2B family member g; Core co...</td>\n",
       "    </tr>\n",
       "    <tr>\n",
       "      <th>7</th>\n",
       "      <td>8</td>\n",
       "      <td>HIST2H3A</td>\n",
       "      <td>9606.ENSP00000385479</td>\n",
       "      <td>HIST2H3A</td>\n",
       "      <td>Histone cluster 2 h3 family member a; Histone ...</td>\n",
       "    </tr>\n",
       "    <tr>\n",
       "      <th>8</th>\n",
       "      <td>9</td>\n",
       "      <td>LZTS2</td>\n",
       "      <td>9606.ENSP00000359240</td>\n",
       "      <td>LZTS2</td>\n",
       "      <td>Leucine zipper putative tumor suppressor 2; Ne...</td>\n",
       "    </tr>\n",
       "    <tr>\n",
       "      <th>9</th>\n",
       "      <td>10</td>\n",
       "      <td>MECP2</td>\n",
       "      <td>9606.ENSP00000395535</td>\n",
       "      <td>MECP2</td>\n",
       "      <td>Methyl-CpG-binding protein 2; Chromosomal prot...</td>\n",
       "    </tr>\n",
       "    <tr>\n",
       "      <th>10</th>\n",
       "      <td>11</td>\n",
       "      <td>MYB</td>\n",
       "      <td>9606.ENSP00000339992</td>\n",
       "      <td>MYB</td>\n",
       "      <td>Transcriptional activator Myb; Transcriptional...</td>\n",
       "    </tr>\n",
       "    <tr>\n",
       "      <th>11</th>\n",
       "      <td>12</td>\n",
       "      <td>MYBL1</td>\n",
       "      <td>9606.ENSP00000429633</td>\n",
       "      <td>MYBL1</td>\n",
       "      <td>Myb proto-oncogene like 1; Myb-related protein...</td>\n",
       "    </tr>\n",
       "    <tr>\n",
       "      <th>12</th>\n",
       "      <td>13</td>\n",
       "      <td>NCK2</td>\n",
       "      <td>9606.ENSP00000233154</td>\n",
       "      <td>NCK2</td>\n",
       "      <td>Cytoplasmic protein NCK2; Adapter protein whic...</td>\n",
       "    </tr>\n",
       "    <tr>\n",
       "      <th>13</th>\n",
       "      <td>14</td>\n",
       "      <td>NKX2-1</td>\n",
       "      <td>9606.ENSP00000346879</td>\n",
       "      <td>NKX2-1</td>\n",
       "      <td>Homeobox protein Nkx-2.1; Transcription factor...</td>\n",
       "    </tr>\n",
       "    <tr>\n",
       "      <th>14</th>\n",
       "      <td>15</td>\n",
       "      <td>NKX2-5</td>\n",
       "      <td>9606.ENSP00000327758</td>\n",
       "      <td>NKX2-5</td>\n",
       "      <td>Homeobox protein Nkx-2.5; Implicated in commit...</td>\n",
       "    </tr>\n",
       "    <tr>\n",
       "      <th>15</th>\n",
       "      <td>16</td>\n",
       "      <td>NLK</td>\n",
       "      <td>9606.ENSP00000384625</td>\n",
       "      <td>NLK</td>\n",
       "      <td>Serine/threonine-protein kinase NLK; Serine/th...</td>\n",
       "    </tr>\n",
       "    <tr>\n",
       "      <th>16</th>\n",
       "      <td>17</td>\n",
       "      <td>NPPA</td>\n",
       "      <td>9606.ENSP00000365663</td>\n",
       "      <td>NPPA</td>\n",
       "      <td>Natriuretic peptides A; Hormone playing a key ...</td>\n",
       "    </tr>\n",
       "    <tr>\n",
       "      <th>17</th>\n",
       "      <td>18</td>\n",
       "      <td>NPSR1</td>\n",
       "      <td>9606.ENSP00000370950</td>\n",
       "      <td>NPSR1</td>\n",
       "      <td>Neuropeptide s receptor 1; Neuropeptide S rece...</td>\n",
       "    </tr>\n",
       "    <tr>\n",
       "      <th>18</th>\n",
       "      <td>19</td>\n",
       "      <td>PPM1D</td>\n",
       "      <td>9606.ENSP00000306682</td>\n",
       "      <td>PPM1D</td>\n",
       "      <td>Protein phosphatase, mg2+/mn2+ dependent 1d; P...</td>\n",
       "    </tr>\n",
       "    <tr>\n",
       "      <th>19</th>\n",
       "      <td>20</td>\n",
       "      <td>RASSF5</td>\n",
       "      <td>9606.ENSP00000462099</td>\n",
       "      <td>RASSF5</td>\n",
       "      <td>Ras association domain-containing protein 5; P...</td>\n",
       "    </tr>\n",
       "    <tr>\n",
       "      <th>20</th>\n",
       "      <td>21</td>\n",
       "      <td>RGMA</td>\n",
       "      <td>9606.ENSP00000452126</td>\n",
       "      <td>RGMA</td>\n",
       "      <td>Repulsive guidance molecule A; Member of the r...</td>\n",
       "    </tr>\n",
       "    <tr>\n",
       "      <th>21</th>\n",
       "      <td>22</td>\n",
       "      <td>SENP1</td>\n",
       "      <td>9606.ENSP00000394791</td>\n",
       "      <td>SENP1</td>\n",
       "      <td>Sentrin-specific protease 1; Protease that cat...</td>\n",
       "    </tr>\n",
       "    <tr>\n",
       "      <th>22</th>\n",
       "      <td>23</td>\n",
       "      <td>SENP2</td>\n",
       "      <td>9606.ENSP00000296257</td>\n",
       "      <td>SENP2</td>\n",
       "      <td>Sentrin-specific protease 2; Protease that cat...</td>\n",
       "    </tr>\n",
       "    <tr>\n",
       "      <th>23</th>\n",
       "      <td>24</td>\n",
       "      <td>SKI</td>\n",
       "      <td>9606.ENSP00000367797</td>\n",
       "      <td>SKI</td>\n",
       "      <td>Ski oncogene; May play a role in terminal diff...</td>\n",
       "    </tr>\n",
       "    <tr>\n",
       "      <th>24</th>\n",
       "      <td>25</td>\n",
       "      <td>SP100</td>\n",
       "      <td>9606.ENSP00000343023</td>\n",
       "      <td>SP100</td>\n",
       "      <td>Nuclear autoantigen Sp-100; Together with PML,...</td>\n",
       "    </tr>\n",
       "    <tr>\n",
       "      <th>25</th>\n",
       "      <td>26</td>\n",
       "      <td>TP53INP1</td>\n",
       "      <td>9606.ENSP00000344215</td>\n",
       "      <td>TP53INP1</td>\n",
       "      <td>Tumor protein p53-inducible nuclear protein 1;...</td>\n",
       "    </tr>\n",
       "    <tr>\n",
       "      <th>26</th>\n",
       "      <td>27</td>\n",
       "      <td>TRIM29</td>\n",
       "      <td>9606.ENSP00000343129</td>\n",
       "      <td>TRIM29</td>\n",
       "      <td>Tripartite motif-containing protein 29; It is ...</td>\n",
       "    </tr>\n",
       "    <tr>\n",
       "      <th>27</th>\n",
       "      <td>28</td>\n",
       "      <td>ZBTB4</td>\n",
       "      <td>9606.ENSP00000307858</td>\n",
       "      <td>ZBTB4</td>\n",
       "      <td>Zinc finger and BTB domain-containing protein ...</td>\n",
       "    </tr>\n",
       "  </tbody>\n",
       "</table>\n",
       "</div>"
      ],
      "text/plain": [
       "    #queryIndex  queryItem              stringId preferredName  \\\n",
       "0             1       CBX3  9606.ENSP00000336687          CBX3   \n",
       "1             2      CTBP1  9606.ENSP00000290921         CTBP1   \n",
       "2             3     DYRK1B  9606.ENSP00000469863        DYRK1B   \n",
       "3             4      FBXO3  9606.ENSP00000265651         FBXO3   \n",
       "4             5      GATA4  9606.ENSP00000334458         GATA4   \n",
       "5             6      HIPK2  9606.ENSP00000385571         HIPK2   \n",
       "6             7  HIST1H2BG  9606.ENSP00000445633     HIST1H2BG   \n",
       "7             8   HIST2H3A  9606.ENSP00000385479      HIST2H3A   \n",
       "8             9      LZTS2  9606.ENSP00000359240         LZTS2   \n",
       "9            10      MECP2  9606.ENSP00000395535         MECP2   \n",
       "10           11        MYB  9606.ENSP00000339992           MYB   \n",
       "11           12      MYBL1  9606.ENSP00000429633         MYBL1   \n",
       "12           13       NCK2  9606.ENSP00000233154          NCK2   \n",
       "13           14     NKX2-1  9606.ENSP00000346879        NKX2-1   \n",
       "14           15     NKX2-5  9606.ENSP00000327758        NKX2-5   \n",
       "15           16        NLK  9606.ENSP00000384625           NLK   \n",
       "16           17       NPPA  9606.ENSP00000365663          NPPA   \n",
       "17           18      NPSR1  9606.ENSP00000370950         NPSR1   \n",
       "18           19      PPM1D  9606.ENSP00000306682         PPM1D   \n",
       "19           20     RASSF5  9606.ENSP00000462099        RASSF5   \n",
       "20           21       RGMA  9606.ENSP00000452126          RGMA   \n",
       "21           22      SENP1  9606.ENSP00000394791         SENP1   \n",
       "22           23      SENP2  9606.ENSP00000296257         SENP2   \n",
       "23           24        SKI  9606.ENSP00000367797           SKI   \n",
       "24           25      SP100  9606.ENSP00000343023         SP100   \n",
       "25           26   TP53INP1  9606.ENSP00000344215      TP53INP1   \n",
       "26           27     TRIM29  9606.ENSP00000343129        TRIM29   \n",
       "27           28      ZBTB4  9606.ENSP00000307858         ZBTB4   \n",
       "\n",
       "                                           annotation  \n",
       "0   Chromobox protein homolog 3; Seems to be invol...  \n",
       "1   C-terminal-binding protein 1; Corepressor targ...  \n",
       "2   Dual specificity tyrosine-phosphorylation-regu...  \n",
       "3   F-box only protein 3; Substrate recognition co...  \n",
       "4   Transcription factor GATA-4; Transcriptional a...  \n",
       "5   Homeodomain-interacting protein kinase 2; Seri...  \n",
       "6   Histone cluster 1 H2B family member g; Core co...  \n",
       "7   Histone cluster 2 h3 family member a; Histone ...  \n",
       "8   Leucine zipper putative tumor suppressor 2; Ne...  \n",
       "9   Methyl-CpG-binding protein 2; Chromosomal prot...  \n",
       "10  Transcriptional activator Myb; Transcriptional...  \n",
       "11  Myb proto-oncogene like 1; Myb-related protein...  \n",
       "12  Cytoplasmic protein NCK2; Adapter protein whic...  \n",
       "13  Homeobox protein Nkx-2.1; Transcription factor...  \n",
       "14  Homeobox protein Nkx-2.5; Implicated in commit...  \n",
       "15  Serine/threonine-protein kinase NLK; Serine/th...  \n",
       "16  Natriuretic peptides A; Hormone playing a key ...  \n",
       "17  Neuropeptide s receptor 1; Neuropeptide S rece...  \n",
       "18  Protein phosphatase, mg2+/mn2+ dependent 1d; P...  \n",
       "19  Ras association domain-containing protein 5; P...  \n",
       "20  Repulsive guidance molecule A; Member of the r...  \n",
       "21  Sentrin-specific protease 1; Protease that cat...  \n",
       "22  Sentrin-specific protease 2; Protease that cat...  \n",
       "23  Ski oncogene; May play a role in terminal diff...  \n",
       "24  Nuclear autoantigen Sp-100; Together with PML,...  \n",
       "25  Tumor protein p53-inducible nuclear protein 1;...  \n",
       "26  Tripartite motif-containing protein 29; It is ...  \n",
       "27  Zinc finger and BTB domain-containing protein ...  "
      ]
     },
     "execution_count": 93,
     "metadata": {},
     "output_type": "execute_result"
    }
   ],
   "source": [
    "pd.read_csv(\"string_mapping(3).tsv\", sep=\"\\t\")"
   ]
  },
  {
   "cell_type": "code",
   "execution_count": 92,
   "metadata": {
    "tags": []
   },
   "outputs": [
    {
     "data": {
      "text/plain": [
       "0      True\n",
       "1      True\n",
       "2     False\n",
       "3     False\n",
       "4     False\n",
       "5      True\n",
       "6     False\n",
       "7      True\n",
       "8      True\n",
       "9     False\n",
       "10    False\n",
       "11    False\n",
       "12    False\n",
       "13    False\n",
       "14    False\n",
       "15    False\n",
       "16    False\n",
       "17    False\n",
       "18    False\n",
       "19    False\n",
       "20    False\n",
       "21    False\n",
       "22    False\n",
       "23    False\n",
       "24     True\n",
       "25    False\n",
       "26     True\n",
       "27    False\n",
       "Name: stringId, dtype: bool"
      ]
     },
     "execution_count": 92,
     "metadata": {},
     "output_type": "execute_result"
    }
   ],
   "source": [
    "pd.read_csv(\"string_mapping(3).tsv\", sep=\"\\t\")[\"stringId\"].isin(coex_df[\"Prot\"])"
   ]
  },
  {
   "cell_type": "code",
   "execution_count": 3,
   "metadata": {
    "tags": []
   },
   "outputs": [],
   "source": [
    "virus_metadata = pd.read_csv(\"../Data/Files/viruses_metadata.csv\", header=0, sep=\";\")\n",
    "\n",
    "virus_metadata_onco = virus_metadata[virus_metadata[\"isOncogenic\"] == True].reset_index()\n",
    "virus_metadata_nonco = virus_metadata[virus_metadata[\"isOncogenic\"] == False].reset_index()\n",
    "\n",
    "#dictionary containing a unquie mapping between name of the protein and a corresponding index\n",
    "node_map_df = pd.read_csv(\"../Data/Files/node_map.csv\")\n",
    "node_map_dict = {k:(v-1) for k,v in zip(node_map_df[\"Prot\"], node_map_df[\"Index\"])}\n",
    "\n",
    "biostr_df = pd.read_csv(\"../Data/data_BIOGRID/BIOGRID_homo_sapiens.nodes\", sep=\" \")\n",
    "biostr_map = dict(zip(biostr_df[\"nodeID\"], biostr_df[\"nodeSymbol\"]))"
   ]
  },
  {
   "cell_type": "markdown",
   "metadata": {},
   "source": [
    "# Dataset Loading"
   ]
  },
  {
   "cell_type": "code",
   "execution_count": 6,
   "metadata": {
    "tags": []
   },
   "outputs": [],
   "source": [
    "def normalize_fix_nEntr(Xi, nentr=2000):\n",
    "    for i in tqdm(range(len(Xi))):\n",
    "        empty_provv = np.zeros(len(Xi[0]))\n",
    "        empty_provv[np.argsort(Xi[i])[-nentr:]] = Xi[i][np.argsort(Xi[i])[-nentr:]]\n",
    "        n_nz = empty_provv.nonzero()[0].shape[0]\n",
    "        if n_nz==nentr:\n",
    "            Xi[i]=empty_provv/sum(empty_provv)\n",
    "        else:\n",
    "            ind_provv = np.random.choice(np.where(empty_provv==0)[0], nentr-n_nz, replace=False)\n",
    "            vals = np.random.rand(nentr-n_nz)\n",
    "            vals = vals/sum(vals)*0.1\n",
    "            Xi[i]=empty_provv/sum(empty_provv)*0.9\n",
    "            Xi[i][ind_provv] = vals\n",
    "    return Xi"
   ]
  },
  {
   "cell_type": "code",
   "execution_count": 7,
   "metadata": {
    "tags": []
   },
   "outputs": [
    {
     "name": "stdout",
     "output_type": "stream",
     "text": [
      "Loading Train and Val\n"
     ]
    },
    {
     "name": "stderr",
     "output_type": "stream",
     "text": [
      "100%|███████████████████████████████████████| 3000/3000 [00:33<00:00, 90.41it/s]\n",
      "100%|███████████████████████████████████████| 3000/3000 [00:31<00:00, 94.79it/s]\n"
     ]
    }
   ],
   "source": [
    "index_paths = np.loadtxt(\"../Data/ClassificationDataALL_4vir/topology_coex/names.txt\", dtype=str)\n",
    "\n",
    "#training samples\n",
    "print(\"Loading Train and Val\")\n",
    "X = []\n",
    "for t in [\"n\",\"n1o\"]:\n",
    "    for i in tqdm(range(3000)):#os.listdir(\"../Data/ClassificationData_4vir/topology/\"+t):\n",
    "        X.append(np.loadtxt(\"../Data/ClassificationDataALL_4vir/topology_coex/\"+t+\"/\"+str(i)+\".txt\"))\n",
    "X=np.array(X)\n",
    "\n",
    "#training samples labels\n",
    "label_dict = dict(zip(top_dir_train, [0,1]))\n",
    "\n",
    "y = []\n",
    "for t in top_dir_train:\n",
    "    y.append([label_dict[t]]*3000)#len(os.listdir(\"../Data/ClassificationData_4vir/topology/\"+t)))\n",
    "\n",
    "y = np.concatenate(y)\n",
    "\n"
   ]
  },
  {
   "cell_type": "code",
   "execution_count": 9,
   "metadata": {
    "tags": []
   },
   "outputs": [
    {
     "name": "stderr",
     "output_type": "stream",
     "text": [
      "100%|█████████████████████████████████████| 6000/6000 [00:05<00:00, 1166.97it/s]\n"
     ]
    }
   ],
   "source": [
    "X = normalize_fix_nEntr(X, nentr=500)"
   ]
  },
  {
   "cell_type": "markdown",
   "metadata": {},
   "source": [
    "# Dataset and Dataloaders Definition"
   ]
  },
  {
   "cell_type": "code",
   "execution_count": 11,
   "metadata": {
    "tags": []
   },
   "outputs": [],
   "source": [
    "class AdjacencyDataset(Dataset):\n",
    "    \"\"\"Apples Dataset\"\"\"\n",
    "\n",
    "    def __init__(self, X, y=None, test=False):\n",
    "        \"\"\"\n",
    "        Args:\n",
    "        \"\"\"\n",
    "        self.test = test\n",
    "        self.data = X\n",
    "        self.labels = y\n",
    "        \n",
    "    def __len__(self):\n",
    "        return len(self.data)\n",
    "\n",
    "    def __getitem__(self, idx):\n",
    "        dat = self.data[idx]#np.array([self.data[idx].nonzero()[0], self.data[idx][self.data[idx].nonzero()[0]]])\n",
    "        if self.test:\n",
    "            return torch.from_numpy(dat).type(torch.FloatTensor)\n",
    "        else:\n",
    "            return [torch.from_numpy(dat).type(torch.FloatTensor), int(self.labels[idx])]\n",
    "        "
   ]
  },
  {
   "cell_type": "markdown",
   "metadata": {},
   "source": [
    "# Model"
   ]
  },
  {
   "cell_type": "code",
   "execution_count": 12,
   "metadata": {
    "tags": []
   },
   "outputs": [],
   "source": [
    "class Model(nn.Module):\n",
    "    def __init__(self):\n",
    "        super().__init__()\n",
    "        self.lin1 = nn.Linear(in_features=4499, out_features=2)\n",
    "        self.drop = nn.Dropout(p=0.3)\n",
    "        #self.lin2 = nn.Linear(in_features=200, out_features=50)\n",
    "        #self.lin3 = nn.Linear(in_features=50, out_features=8)\n",
    "\n",
    "    def forward(self, x):\n",
    "        #x = self.lin1(torch.flatten(x, start_dim=1))\n",
    "        x=self.lin1(x)\n",
    "        return x\n",
    "\n",
    "model1 = Model()\n",
    "model1=model1.cpu()\n"
   ]
  },
  {
   "cell_type": "code",
   "execution_count": 30,
   "metadata": {
    "tags": []
   },
   "outputs": [],
   "source": [
    "def set_up_trial(X, ind):\n",
    "    index_rem = np.loadtxt(index_paths[ind], dtype=int)\n",
    "    index_rem = (index_rem[index_rem<(len(X)//2)])+(len(X)//2)\n",
    "\n",
    "    X_test = X[index_rem]\n",
    "    y_test = y[index_rem]\n",
    "    X_train, X_val, y_train, y_val = train_test_split(X[np.delete(np.arange(len(X)), index_rem)], y[np.delete(np.arange(len(X)), index_rem)], test_size=0.1, random_state=42)\n",
    "    \n",
    "    mydat_train = AdjacencyDataset(X_train, y_train)\n",
    "    mydat_val = AdjacencyDataset(X_val, y_val)\n",
    "    mydat_test = AdjacencyDataset(X_test, y_test)\n",
    "\n",
    "    train_dataloader = DataLoader(mydat_train, batch_size=20, shuffle=True, num_workers=0)\n",
    "    val_dataloader = DataLoader(mydat_val, batch_size=20, shuffle=False, num_workers=0)\n",
    "    test_dataloader = DataLoader(mydat_test, batch_size=20, shuffle=False, num_workers=0)\n",
    "     \n",
    "    check_last = ModelCheckpoint('checkpoints/check_last_coex_'+str(i)+'.pth')\n",
    "    \n",
    "    model = Model()\n",
    "    model = model1.cpu()\n",
    "    \n",
    "    trial_now = Trial(model,\n",
    "                      optim.Adam(model1.parameters(), lr=5e-04), \n",
    "                      nn.CrossEntropyLoss(), \n",
    "                      metrics=[\"loss\", \"acc\"],\n",
    "                      callbacks=[check_last])\n",
    "    \n",
    "    trial_now = trial_now.load_state_dict(state_dict=torch.load(\"checkpoints/check_last_coex_\"+str(ind)+\".pth\"))\n",
    "   \n",
    "    trial_now.with_generators(train_generator=train_dataloader, \n",
    "                              val_generator=val_dataloader, \n",
    "                              test_generator=test_dataloader)\n",
    "    \n",
    "    my_trial_now = trial_now.run(epochs=200, verbose=1)\n",
    "    \n",
    "    return trial_now, my_trial_now"
   ]
  },
  {
   "cell_type": "code",
   "execution_count": 38,
   "metadata": {
    "tags": []
   },
   "outputs": [
    {
     "data": {
      "application/vnd.jupyter.widget-view+json": {
       "model_id": "c7df46440fca4fb7b810b23c0815a869",
       "version_major": 2,
       "version_minor": 0
      },
      "text/plain": [
       "100%|##########| 200/200 [00:00<?, ?it/s]"
      ]
     },
     "metadata": {},
     "output_type": "display_data"
    }
   ],
   "source": [
    "trial, mytrial = set_up_trial(X, 0)"
   ]
  },
  {
   "cell_type": "code",
   "execution_count": 39,
   "metadata": {
    "tags": []
   },
   "outputs": [
    {
     "data": {
      "image/png": "[encoded data removed]",
      "text/plain": [
       "<Figure size 900x400 with 2 Axes>"
      ]
     },
     "metadata": {},
     "output_type": "display_data"
    }
   ],
   "source": [
    "__, ax = plt.subplots(1,2,figsize=(9,4))\n",
    "\n",
    "ax[0].semilogy([mt[\"loss\"] for mt in mytrial], label=\"Train loss\", color=\"C0\")\n",
    "ax[0].semilogy([mt[\"val_loss\"] for mt in mytrial], label=\"Val loss\", color=\"navy\")\n",
    "\n",
    "ax[1].plot([mt[\"acc\"] for mt in mytrial], label=\"Train Acc\", color=\"orange\")\n",
    "ax[1].plot([mt[\"val_acc\"] for mt in mytrial], label=\"Val Acc\", color=\"red\")\n",
    "\n",
    "[axi.set_xlabel(\"Epochs\") for axi in ax]\n",
    "[axi.legend() for axi in ax]\n",
    "[axi.grid(ls=\"--\") for axi in ax]\n",
    "ax[0].grid(which=\"minor\", ls=\":\")\n",
    "plt.tight_layout()"
   ]
  },
  {
   "cell_type": "code",
   "execution_count": 62,
   "metadata": {
    "tags": []
   },
   "outputs": [],
   "source": [
    "def plot_confusion_matrix(trial, which=\"val\"):\n",
    "    if which==\"val\":\n",
    "        val_pred=np.argmax(trial.predict(data_key=torchbearer.VALIDATION_DATA).detach().numpy(),axis=1)\n",
    "        val_true=[v[1] for v in trial.state.data[\"validation_generator\"].dataset]\n",
    "        title=\"VALIDATION CONFUSION MATRIX\"\n",
    "    elif which==\"test\":\n",
    "        val_pred=np.argmax(trial.predict(data_key=torchbearer.TEST_DATA).detach().numpy(),axis=1)\n",
    "        val_true=[v[1] for v in trial.state.data[\"test_generator\"].dataset]\n",
    "        title=\"TEST CONFUSION MATRIX\"\n",
    "    else:\n",
    "        raise ValueError(\"which should be either val or test\")\n",
    "    \n",
    "    confM_val = confusion_matrix(y_true = val_true, y_pred = val_pred, labels=np.arange(2))\n",
    "\n",
    "    plt.figure(figsize=(6,6))\n",
    "    sns.heatmap(confM_val, annot=True, fmt=\"g\", cbar=False, cmap=\"magma\")\n",
    "    plt.title(title, weight=\"bold\")\n",
    "    plt.ylabel(\"True labels\")\n",
    "    plt.xlabel(\"Predicted labels\")\n",
    "    plt.tight_layout()"
   ]
  },
  {
   "cell_type": "code",
   "execution_count": 73,
   "metadata": {
    "tags": []
   },
   "outputs": [],
   "source": [
    "coex_df = pd.read_csv(\"../Data/data_STRING/coexpr.nodes\", sep=\" \")\n",
    "coex_map = dict(zip(coex_df[\"ID\"], coex_df[\"Prot\"]))\n",
    "\n",
    "def plot_weights(trial, ref_df):\n",
    "    weights = trial.state[\"model\"].lin1.weight.data.detach().numpy()\n",
    "    weights = np.array([weights[i]/max(weights[i]) for i in range(len(weights))])\n",
    "    \n",
    "    weigh_df = ref_df.copy()\n",
    "\n",
    "    for i in range(2):\n",
    "        weigh_df[\"W\"+str(i)] = weights[i]\n",
    "    weigh_df[\"std\"] = np.abs(weigh_df[\"W0\"]-weigh_df[\"W1\"])\n",
    "    \n",
    "    plt.figure(figsize=(16,3))\n",
    "    sns.heatmap(weights)\n",
    "    plt.title(\"PERCEPTRON WEIGHTS HEATMAP\", fontweight=\"bold\")\n",
    "    plt.xlabel(\"Node ID\")\n",
    "    plt.ylabel(\"Label\")\n",
    "    plt.tight_layout()\n",
    "    \n",
    "    return weigh_df"
   ]
  },
  {
   "cell_type": "code",
   "execution_count": 153,
   "metadata": {
    "tags": []
   },
   "outputs": [],
   "source": [
    "def plot_weights_heatmap(weigh_df):\n",
    "    gauss = gaussian_kde(weigh_df[[\"nodeID\",\"W1\"]].T.to_numpy())\n",
    "    kde = gaussian_kde(weigh_df[[\"nodeID\",\"W1\"]].T.to_numpy())\n",
    "    density_1 = kde(weigh_df[[\"nodeID\",\"W1\"]].T.to_numpy())\n",
    "    gauss = gaussian_kde(weigh_df[[\"nodeID\",\"W0\"]].T.to_numpy())\n",
    "    kde = gaussian_kde(weigh_df[[\"nodeID\",\"W0\"]].T.to_numpy())\n",
    "    density_0 = kde(weigh_df[[\"nodeID\",\"W0\"]].T.to_numpy())\n",
    "\n",
    "    _, ax = plt.subplots(1,2, figsize=(12,4))\n",
    "\n",
    "    ax[0].scatter(weigh_df[\"nodeID\"], weights[0], c=density, cmap='viridis', s=0.1)\n",
    "    ax[0].set_title(\"WEIGHTS LABEL 0\", fontweight=\"bold\")\n",
    "    ax[0].set_xlabel(\"Entry position\")\n",
    "    ax[0].set_ylabel(\"Weight value\")\n",
    "    ax[1].scatter(weigh_df[\"nodeID\"], weights[1], c=density, cmap='viridis', s=0.1)\n",
    "    ax[1].set_title(\"WEIGHTS LABEL 1\", fontweight=\"bold\")\n",
    "    ax[1].set_xlabel(\"Entry position\")\n",
    "    ax[1].set_ylabel(\"Weight value\")\n",
    "    plt.tight_layout()"
   ]
  },
  {
   "cell_type": "code",
   "execution_count": 64,
   "metadata": {
    "tags": []
   },
   "outputs": [
    {
     "data": {
      "application/vnd.jupyter.widget-view+json": {
       "model_id": "e8e8875e4f774bef943b2c8135098a4f",
       "version_major": 2,
       "version_minor": 0
      },
      "text/plain": [
       "0/1(p):   0%|          | 0/17 [00:00<?, ?it/s]"
      ]
     },
     "metadata": {},
     "output_type": "display_data"
    },
    {
     "data": {
      "image/png": "[encoded data removed]",
      "text/plain": [
       "<Figure size 600x600 with 1 Axes>"
      ]
     },
     "metadata": {},
     "output_type": "display_data"
    }
   ],
   "source": [
    "weights_df = plot_confusion_matrix(trial, \"test\")"
   ]
  },
  {
   "cell_type": "code",
   "execution_count": 75,
   "metadata": {
    "tags": []
   },
   "outputs": [
    {
     "data": {
      "image/png": "[encoded data removed]",
      "text/plain": [
       "<Figure size 1600x300 with 2 Axes>"
      ]
     },
     "metadata": {},
     "output_type": "display_data"
    }
   ],
   "source": [
    "weigh_df = plot_weights(trial, ref_df=coex_df)"
   ]
  },
  {
   "cell_type": "code",
   "execution_count": 89,
   "metadata": {
    "tags": []
   },
   "outputs": [
    {
     "data": {
      "application/vnd.jupyter.widget-view+json": {
       "model_id": "ab60c8e4fbad4d509c80a24f9fb0b3cb",
       "version_major": 2,
       "version_minor": 0
      },
      "text/plain": [
       "0/1(p):   0%|          | 0/20 [00:00<?, ?it/s]"
      ]
     },
     "metadata": {},
     "output_type": "display_data"
    },
    {
     "data": {
      "application/vnd.jupyter.widget-view+json": {
       "model_id": "e6c3bab66896458da84eb887383b9672",
       "version_major": 2,
       "version_minor": 0
      },
      "text/plain": [
       "0/1(p):   0%|          | 0/20 [00:00<?, ?it/s]"
      ]
     },
     "metadata": {},
     "output_type": "display_data"
    },
    {
     "data": {
      "application/vnd.jupyter.widget-view+json": {
       "model_id": "16822b0aeb024bf095921be1d1482072",
       "version_major": 2,
       "version_minor": 0
      },
      "text/plain": [
       "0/1(p):   0%|          | 0/20 [00:00<?, ?it/s]"
      ]
     },
     "metadata": {},
     "output_type": "display_data"
    },
    {
     "data": {
      "application/vnd.jupyter.widget-view+json": {
       "model_id": "e39971e4e3574170a4e41a5fa3a431d2",
       "version_major": 2,
       "version_minor": 0
      },
      "text/plain": [
       "0/1(p):   0%|          | 0/20 [00:00<?, ?it/s]"
      ]
     },
     "metadata": {},
     "output_type": "display_data"
    }
   ],
   "source": [
    "trial_2.with_test_generator(synt_dataloader)\n",
    "synt_pred = np.argmax(trial_2.predict().detach().numpy(),axis=1)\n",
    "\n",
    "trial_2.with_test_generator(syntbstr_dataloader)\n",
    "syntbstr_pred = np.argmax(trial_2.predict().detach().numpy(),axis=1)\n",
    "\n",
    "trial_2.with_test_generator(test_dataloader)\n",
    "test_pred = np.argmax(trial_2.predict().detach().numpy(),axis=1)\n",
    "\n",
    "trial_2.with_test_generator(sars_dataloader)\n",
    "sars_pred = np.argmax(trial_2.predict().detach().numpy(),axis=1)"
   ]
  },
  {
   "cell_type": "code",
   "execution_count": 90,
   "metadata": {
    "tags": []
   },
   "outputs": [
    {
     "data": {
      "text/plain": [
       "0.97"
      ]
     },
     "execution_count": 90,
     "metadata": {},
     "output_type": "execute_result"
    }
   ],
   "source": [
    "accuracy_score(sars_pred, [1]*len(sars_pred))"
   ]
  },
  {
   "cell_type": "markdown",
   "metadata": {},
   "source": [
    "# Intersection analysis"
   ]
  },
  {
   "cell_type": "code",
   "execution_count": 79,
   "metadata": {
    "tags": []
   },
   "outputs": [],
   "source": [
    "def custom_intersection(arr):\n",
    "    inters = np.intersect1d(arr[0],arr[1])\n",
    "    for i in range(2,len(arr)):\n",
    "        inters = np.intersect1d(inters, arr[i])\n",
    "    return inters"
   ]
  },
  {
   "cell_type": "code",
   "execution_count": 77,
   "metadata": {
    "tags": []
   },
   "outputs": [],
   "source": [
    "top_50=[]\n",
    "w0_50=[]\n",
    "w1_50=[]\n",
    "for a in [0,1,2,3,4,5,6,7]:\n",
    "    top_50.append(pd.read_csv(\"../Data/MLRes_coex/to_100_\"+index_paths[a].split(\"/\")[-1]+\".csv\").to_numpy())\n",
    "    w0_50.append(pd.read_csv(\"../Data/MLRes_coex/w0_100_\"+index_paths[a].split(\"/\")[-1]+\".csv\").to_numpy())\n",
    "    w1_50.append(pd.read_csv(\"../Data/MLRes_coex/w1_100_\"+index_paths[a].split(\"/\")[-1]+\".csv\").to_numpy())"
   ]
  },
  {
   "cell_type": "code",
   "execution_count": 81,
   "metadata": {
    "tags": []
   },
   "outputs": [
    {
     "data": {
      "text/plain": [
       "(24,)"
      ]
     },
     "execution_count": 81,
     "metadata": {},
     "output_type": "execute_result"
    }
   ],
   "source": [
    "custom_intersection([w0_50[i] for i in [0,1,2,3,4,5,7]]).shape"
   ]
  },
  {
   "cell_type": "code",
   "execution_count": 97,
   "metadata": {
    "tags": []
   },
   "outputs": [
    {
     "name": "stdout",
     "output_type": "stream",
     "text": [
      "False\n",
      "False\n",
      "False\n",
      "False\n",
      "False\n",
      "False\n",
      "False\n",
      "False\n"
     ]
    }
   ],
   "source": [
    "for i in range(8):\n",
    "    print(\"9606.ENSP00000445633\" in top_50[i])"
   ]
  },
  {
   "cell_type": "code",
   "execution_count": 87,
   "metadata": {
    "tags": []
   },
   "outputs": [
    {
     "name": "stdout",
     "output_type": "stream",
     "text": [
      "9606.ENSP00000046087, 9606.ENSP00000216410, 9606.ENSP00000228318, 9606.ENSP00000230771, 9606.ENSP00000250498, 9606.ENSP00000260118, 9606.ENSP00000261475, 9606.ENSP00000262213, 9606.ENSP00000262854, 9606.ENSP00000265132, 9606.ENSP00000297431, 9606.ENSP00000298556, 9606.ENSP00000301327, 9606.ENSP00000303145, 9606.ENSP00000317331, 9606.ENSP00000319104, 9606.ENSP00000327821, 9606.ENSP00000330877, 9606.ENSP00000331556, 9606.ENSP00000333024, 9606.ENSP00000341692, 9606.ENSP00000355518, 9606.ENSP00000363985, 9606.ENSP00000381237, 9606.ENSP00000382982, 9606.ENSP00000396308, 9606.ENSP00000403954\n"
     ]
    }
   ],
   "source": [
    "print((\", \").join(custom_intersection([top_50[i] for i in [0,1,2,3,4,5,7]])))"
   ]
  },
  {
   "cell_type": "markdown",
   "metadata": {},
   "source": [
    "# TOP 50 production"
   ]
  },
  {
   "cell_type": "code",
   "execution_count": 37,
   "metadata": {
    "tags": []
   },
   "outputs": [
    {
     "data": {
      "application/vnd.jupyter.widget-view+json": {
       "model_id": "05e6a33c502f4707bb69d6d0c5272c22",
       "version_major": 2,
       "version_minor": 0
      },
      "text/plain": [
       "100%|##########| 200/200 [00:00<?, ?it/s]"
      ]
     },
     "metadata": {},
     "output_type": "display_data"
    },
    {
     "data": {
      "application/vnd.jupyter.widget-view+json": {
       "model_id": "9d0c4fdced2d4b5fb00bf0ec3481cf9e",
       "version_major": 2,
       "version_minor": 0
      },
      "text/plain": [
       "100%|##########| 200/200 [00:00<?, ?it/s]"
      ]
     },
     "metadata": {},
     "output_type": "display_data"
    },
    {
     "data": {
      "application/vnd.jupyter.widget-view+json": {
       "model_id": "1098c69f0046480897d4482fdf3cda43",
       "version_major": 2,
       "version_minor": 0
      },
      "text/plain": [
       "100%|##########| 200/200 [00:00<?, ?it/s]"
      ]
     },
     "metadata": {},
     "output_type": "display_data"
    },
    {
     "data": {
      "application/vnd.jupyter.widget-view+json": {
       "model_id": "d3573c88c455459a850cf0f12ceee308",
       "version_major": 2,
       "version_minor": 0
      },
      "text/plain": [
       "100%|##########| 200/200 [00:00<?, ?it/s]"
      ]
     },
     "metadata": {},
     "output_type": "display_data"
    },
    {
     "data": {
      "application/vnd.jupyter.widget-view+json": {
       "model_id": "03b9074b0f3d4182ae3a166fd69b85ad",
       "version_major": 2,
       "version_minor": 0
      },
      "text/plain": [
       "100%|##########| 200/200 [00:00<?, ?it/s]"
      ]
     },
     "metadata": {},
     "output_type": "display_data"
    },
    {
     "data": {
      "application/vnd.jupyter.widget-view+json": {
       "model_id": "0631cf9eeb0d41c78520a77f1b475af9",
       "version_major": 2,
       "version_minor": 0
      },
      "text/plain": [
       "100%|##########| 200/200 [00:00<?, ?it/s]"
      ]
     },
     "metadata": {},
     "output_type": "display_data"
    },
    {
     "data": {
      "application/vnd.jupyter.widget-view+json": {
       "model_id": "cf64c5bc70d94ab887997cfb8b46732b",
       "version_major": 2,
       "version_minor": 0
      },
      "text/plain": [
       "100%|##########| 200/200 [00:00<?, ?it/s]"
      ]
     },
     "metadata": {},
     "output_type": "display_data"
    },
    {
     "data": {
      "application/vnd.jupyter.widget-view+json": {
       "model_id": "00842ebc12c6482aa89d415ffa132513",
       "version_major": 2,
       "version_minor": 0
      },
      "text/plain": [
       "100%|##########| 200/200 [00:00<?, ?it/s]"
      ]
     },
     "metadata": {},
     "output_type": "display_data"
    }
   ],
   "source": [
    "coex_df = pd.read_csv(\"../Data/data_STRING/coexpr.nodes\", sep=\" \")\n",
    "coex_map = dict(zip(coex_df[\"ID\"], coex_df[\"Prot\"]))\n",
    "\n",
    "for i in [0,1,2,3,4,5,6,7]:\n",
    "    tr_now, mt_now = set_up_trial(X, i)\n",
    "    weights = tr_now.state[\"model\"].lin1.weight.detach().numpy()\n",
    "    weights = np.array([weights[i]/max(weights[i]) for i in range(len(weights))])\n",
    "\n",
    "    weigh_df = coex_df.copy()\n",
    "\n",
    "    for j in range(2):\n",
    "        weigh_df[\"W\"+str(j)] = weights[j]\n",
    "    weigh_df[\"std\"] = np.abs(weigh_df[\"W0\"]-weigh_df[\"W1\"])\n",
    "\n",
    "    weigh_df.sort_values(\"W0\", ascending=False).head(50)[\"Prot\"].to_csv(\"../Data/MLRes_coex/w0_100_\"+index_paths[i].split(\"/\")[-1]+\".csv\", index=False)\n",
    "    weigh_df.sort_values(\"W1\", ascending=False).head(50)[\"Prot\"].to_csv(\"../Data/MLRes_coex/w1_100_\"+index_paths[i].split(\"/\")[-1]+\".csv\", index=False)"
   ]
  },
  {
   "cell_type": "markdown",
   "metadata": {},
   "source": [
    "# Trials production"
   ]
  },
  {
   "cell_type": "code",
   "execution_count": 45,
   "metadata": {
    "tags": []
   },
   "outputs": [
    {
     "name": "stdout",
     "output_type": "stream",
     "text": [
      "../Data/ClassificationDataALL_4vir/topology_coex/Human_T-cell_leukemia_virus_1_isolate_Caribbea_HS-35_subtype_A_index.txt\n"
     ]
    },
    {
     "data": {
      "application/vnd.jupyter.widget-view+json": {
       "model_id": "9bc49902bfac4a79b59fe698c9226031",
       "version_major": 2,
       "version_minor": 0
      },
      "text/plain": [
       "  0%|          | 0/200 [00:00<?, ?it/s]"
      ]
     },
     "metadata": {},
     "output_type": "display_data"
    },
    {
     "name": "stdout",
     "output_type": "stream",
     "text": [
      "../Data/ClassificationDataALL_4vir/topology_coex/Human_herpesvirus_8_type_P_isolate_GK18_index.txt\n"
     ]
    },
    {
     "data": {
      "application/vnd.jupyter.widget-view+json": {
       "model_id": "cddcde9f373042299dc55bff09f15133",
       "version_major": 2,
       "version_minor": 0
      },
      "text/plain": [
       "  0%|          | 0/200 [00:00<?, ?it/s]"
      ]
     },
     "metadata": {},
     "output_type": "display_data"
    },
    {
     "name": "stdout",
     "output_type": "stream",
     "text": [
      "../Data/ClassificationDataALL_4vir/topology_coex/Human_papillomavirus_type_16_index.txt\n"
     ]
    },
    {
     "data": {
      "application/vnd.jupyter.widget-view+json": {
       "model_id": "d54c933fe7e044fa9983ea0666486740",
       "version_major": 2,
       "version_minor": 0
      },
      "text/plain": [
       "  0%|          | 0/200 [00:00<?, ?it/s]"
      ]
     },
     "metadata": {},
     "output_type": "display_data"
    },
    {
     "name": "stdout",
     "output_type": "stream",
     "text": [
      "../Data/ClassificationDataALL_4vir/topology_coex/Human_papillomavirus_type_18_index.txt\n"
     ]
    },
    {
     "data": {
      "application/vnd.jupyter.widget-view+json": {
       "model_id": "790ace9cb8294b689399342dd890bac8",
       "version_major": 2,
       "version_minor": 0
      },
      "text/plain": [
       "  0%|          | 0/200 [00:00<?, ?it/s]"
      ]
     },
     "metadata": {},
     "output_type": "display_data"
    },
    {
     "name": "stdout",
     "output_type": "stream",
     "text": [
      "../Data/ClassificationDataALL_4vir/topology_coex/Human_papillomavirus_type_5_index.txt\n"
     ]
    },
    {
     "data": {
      "application/vnd.jupyter.widget-view+json": {
       "model_id": "3edb13ba2c454f5d801f694d7f3bf1e7",
       "version_major": 2,
       "version_minor": 0
      },
      "text/plain": [
       "  0%|          | 0/200 [00:00<?, ?it/s]"
      ]
     },
     "metadata": {},
     "output_type": "display_data"
    }
   ],
   "source": [
    "coex_df = pd.read_csv(\"../Data/data_STRING/coexpr.nodes\", sep=\" \")\n",
    "coex_map = dict(zip(coex_df[\"ID\"], coex_df[\"Prot\"]))\n",
    "\n",
    "synt_pred_list, syntbstr_pred_list, test_pred_list, sars_pred_list = [],[],[],[]\n",
    "top_50 = []\n",
    "\n",
    "for i in range(3,len(index_paths)):\n",
    "    print(index_paths[i])\n",
    "    index_rem = np.loadtxt(index_paths[i], dtype=int)\n",
    "    index_rem = (index_rem[index_rem<(len(X)//2)])+(len(X)//2)\n",
    "\n",
    "    X_test = X[index_rem]\n",
    "    y_test = y[index_rem]\n",
    "\n",
    "    X_train, X_val, y_train, y_val = train_test_split(X[np.delete(np.arange(len(X)), index_rem)], y[np.delete(np.arange(len(X)), index_rem)], test_size=0.1, random_state=42)\n",
    "\n",
    "    \n",
    "    mydat_train = AdjacencyDataset(X_train, y_train)\n",
    "    mydat_val = AdjacencyDataset(X_val, y_val)\n",
    "    mydat_test = AdjacencyDataset(X_test, y_test)\n",
    "\n",
    "    train_dataloader = DataLoader(mydat_train, batch_size=20, shuffle=True, num_workers=0)\n",
    "    val_dataloader = DataLoader(mydat_val, batch_size=20, shuffle=False, num_workers=0)\n",
    "    test_dataloader = DataLoader(mydat_test, batch_size=20, shuffle=False, num_workers=0)\n",
    "    \n",
    "    model1 = Model()\n",
    "    model1 = model1.cpu()\n",
    "    \n",
    "    check_last = ModelCheckpoint('checkpoints/check_last_coex_'+str(i)+'.pth')\n",
    "\n",
    "    trial_2 = Trial(model1,\n",
    "                     optim.Adam(model1.parameters(), lr=5e-04), \n",
    "                     nn.CrossEntropyLoss(), \n",
    "                     metrics=[\"loss\", \"acc\"],\n",
    "                     callbacks=[check_last])\n",
    "\n",
    "    trial_2.with_generators(train_generator=train_dataloader, \n",
    "                      val_generator=val_dataloader, \n",
    "                      test_generator=test_dataloader)#val67_dataloader)\n",
    "\n",
    "    mytrial = trial_2.run(epochs=200, verbose=1)\n",
    "    \n",
    "    weights = model1.lin1.weight.data.detach().numpy()\n",
    "    weights = np.array([weights[i]/max(weights[i]) for i in range(len(weights))])\n",
    "    \n",
    "    weigh_df = coex_df.copy()\n",
    "\n",
    "    for j in range(2):\n",
    "        weigh_df[\"W\"+str(j)] = weights[j]\n",
    "    weigh_df[\"std\"] = np.abs(weigh_df[\"W0\"]-weigh_df[\"W1\"])\n",
    "    \n",
    "    weigh_df.sort_values(\"std\", ascending=False).head(100)[\"Prot\"].to_csv(\"../Data/MLRes_coex/to_100_\"+index_paths[i].split(\"/\")[-1]+\".csv\", index=False)"
   ]
  },
  {
   "cell_type": "markdown",
   "metadata": {},
   "source": [
    "# Random Forest"
   ]
  },
  {
   "cell_type": "code",
   "execution_count": 100,
   "metadata": {
    "tags": []
   },
   "outputs": [],
   "source": [
    "def random_tree_MINE(X, ind, max_depth, n_estimators, min_samples_split, min_samples_leaf, max_features, criterion, what_return=\"score\"):\n",
    "    num_features = X.shape[1]\n",
    "    \n",
    "    index_rem = np.loadtxt(index_paths[ind], dtype=int)\n",
    "    index_rem = (index_rem[index_rem<(len(X)//2)])+(len(X)//2)\n",
    "\n",
    "    X_test = X[index_rem]\n",
    "    y_test = y[index_rem]\n",
    "    \n",
    "    X_train, X_val, y_train, y_val = train_test_split(X[np.delete(np.arange(len(X)), index_rem)], y[np.delete(np.arange(len(X)), index_rem)], test_size=0.1, random_state=42)\n",
    "\n",
    "    # Create a Random Forest classifier\n",
    "    rf_classifier = RandomForestClassifier(n_estimators=n_estimators,\n",
    "                                           max_depth=max_depth, \n",
    "                                           min_samples_leaf=min_samples_leaf, \n",
    "                                           min_samples_split=min_samples_split,\n",
    "                                           max_features=max_features,\n",
    "                                           criterion=criterion\n",
    "    )\n",
    "\n",
    "    # Fit the classifier to the input data\n",
    "    rf_classifier.fit(X_train, y_train)\n",
    "\n",
    "    y_val_pred = rf_classifier.predict(X_val)\n",
    "    y_train_pred = rf_classifier.predict(X_train)\n",
    "    if what_return==\"score\":\n",
    "        return accuracy_score(y_val, y_val_pred)\n",
    "    else:\n",
    "        \n",
    "        # Calculate the accuracy of the model on the training data\n",
    "        train_accuracy = accuracy_score(y_train, y_train_pred)\n",
    "        val_accuracy = accuracy_score(y_val, y_val_pred)\n",
    "        # Classify the new sample\n",
    "        predicted_class = rf_classifier.predict(X_test)\n",
    "        \n",
    "        importance_scores = rf_classifier.feature_importances_\n",
    "\n",
    "        return {\"Model\": rf_classifier,\n",
    "                \"train_pred\": y_train_pred,\n",
    "                \"train_true\": y_train,\n",
    "                \"train_accuracy\": train_accuracy,\n",
    "                \"val_pred\": y_val_pred,\n",
    "                \"val_true\": y_val,\n",
    "                \"val_accuracy\": val_accuracy,\n",
    "                \"test_pred\": predicted_class,\n",
    "                \"scores\": importance_scores}"
   ]
  },
  {
   "cell_type": "code",
   "execution_count": 165,
   "metadata": {
    "tags": []
   },
   "outputs": [
    {
     "name": "stdout",
     "output_type": "stream",
     "text": [
      "Random forest for 28\n",
      "1.000 & 0.949 & 0.974 & 0.720 & 0.820\n",
      "Random forest for 43\n",
      "1.000 & 0.947 & 0.838 & 0.920 & 0.780\n",
      "Random forest for 44\n",
      "1.000 & 0.939 & 0.906 & 0.660 & 0.490\n",
      "Random forest for 67\n",
      "1.000 & 0.945 & 0.978 & 0.740 & 0.660\n",
      "Random forest for 75\n",
      "1.000 & 0.959 & 0.873 & 0.800 & 0.580\n",
      "Random forest for 77\n",
      "1.000 & 0.964 & 0.890 & 0.850 & 0.700\n",
      "Random forest for 78\n",
      "1.000 & 0.956 & 0.442 & 0.920 & 0.830\n",
      "Random forest for 90\n",
      "1.000 & 0.963 & 0.890 & 0.740 & 0.830\n"
     ]
    }
   ],
   "source": [
    "scores_list = []\n",
    "\n",
    "for i in [28,43,44,67,75,77,78,90]:\n",
    "    print(\"Random forest for\", i)\n",
    "    result = random_tree_MINE(X=X,\n",
    "                              ind=i,\n",
    "                              n_estimators=100,\n",
    "                              max_depth=None, \n",
    "                              min_samples_split=2, \n",
    "                              min_samples_leaf=1,\n",
    "                              max_features=\"sqrt\",\n",
    "                              criterion=\"entropy\",\n",
    "                              what_return=\"all\")\n",
    "    sars_pred = result['Model'].predict(X_pred)\n",
    "    synt_pred = result['Model'].predict(X_synt)\n",
    "    scores_list.append(biostr_df[\"nodeSymbol\"][result['scores'].argsort()[::-1]][:50].to_numpy())\n",
    "    print(\"%.3f & %.3f & %.3f & %.3f & %.3f\" %(result['train_accuracy'], result['val_accuracy'], result['test_pred'].mean(), sars_pred.mean(), synt_pred.mean()))"
   ]
  },
  {
   "cell_type": "code",
   "execution_count": 167,
   "metadata": {
    "tags": []
   },
   "outputs": [
    {
     "name": "stdout",
     "output_type": "stream",
     "text": [
      "CBX4, CREB1, CTBP1, DYRK1B, H2AFY, HIPK2, HIST1H2BG, HIST1H2BH, HIST1H3A, HIST2H2BE, MECP2, MYB, NKX2-1, NLK, NTRK1, SENP1, SKI\n"
     ]
    }
   ],
   "source": [
    "scores_df = pd.DataFrame(np.unique(np.concatenate(scores_list), return_counts=True)).T\n",
    "print((\", \").join(scores_df[scores_df[1]>6][0].to_numpy()))"
   ]
  },
  {
   "cell_type": "code",
   "execution_count": 101,
   "metadata": {
    "tags": []
   },
   "outputs": [],
   "source": [
    "result = random_tree_MINE(X=X,\n",
    "                          ind=0,\n",
    "                            n_estimators=100,\n",
    "                            max_depth=None, \n",
    "                            min_samples_split=2, \n",
    "                            min_samples_leaf=1,\n",
    "                            max_features=\"sqrt\",\n",
    "                            criterion=\"entropy\",\n",
    "                            what_return=\"all\")"
   ]
  },
  {
   "cell_type": "code",
   "execution_count": 102,
   "metadata": {
    "tags": []
   },
   "outputs": [],
   "source": [
    "y_val_pred = result[\"val_pred\"]\n",
    "y_test_pred = result[\"test_pred\"]"
   ]
  },
  {
   "cell_type": "code",
   "execution_count": 103,
   "metadata": {
    "tags": []
   },
   "outputs": [
    {
     "data": {
      "image/png": "[encoded data removed]",
      "text/plain": [
       "<Figure size 640x480 with 2 Axes>"
      ]
     },
     "metadata": {},
     "output_type": "display_data"
    }
   ],
   "source": [
    "sns.heatmap(confusion_matrix(y_pred=result[\"val_pred\"], y_true=result[\"val_true\"]), annot=True, fmt=\"d\")\n",
    "plt.xlabel(\"y pred\")\n",
    "plt.ylabel(\"y true\")\n",
    "plt.show()"
   ]
  },
  {
   "cell_type": "code",
   "execution_count": 146,
   "metadata": {
    "tags": []
   },
   "outputs": [],
   "source": [
    "num_onco_sure = np.concatenate([[0]*1000,[1]*1000,[2]*1000])"
   ]
  },
  {
   "cell_type": "code",
   "execution_count": 148,
   "metadata": {
    "tags": []
   },
   "outputs": [
    {
     "data": {
      "text/plain": [
       "(array([-1,  0,  1,  2]), array([  72, 1219, 1618,   91]))"
      ]
     },
     "execution_count": 148,
     "metadata": {},
     "output_type": "execute_result"
    }
   ],
   "source": [
    "np.unique(y_test_pred-num_onco_sure, return_counts=True)"
   ]
  },
  {
   "cell_type": "code",
   "execution_count": 107,
   "metadata": {
    "tags": []
   },
   "outputs": [
    {
     "name": "stdout",
     "output_type": "stream",
     "text": [
      "9606.ENSP00000265132, 9606.ENSP00000364320, 9606.ENSP00000216367, 9606.ENSP00000356969, 9606.ENSP00000393887, 9606.ENSP00000302530, 9606.ENSP00000240488, 9606.ENSP00000339027, 9606.ENSP00000298852, 9606.ENSP00000196551, 9606.ENSP00000379138, 9606.ENSP00000253099, 9606.ENSP00000355922, 9606.ENSP00000264995, 9606.ENSP00000230340, 9606.ENSP00000311873, 9606.ENSP00000450607, 9606.ENSP00000361043, 9606.ENSP00000301905, 9606.ENSP00000251496\n"
     ]
    }
   ],
   "source": [
    "scores_df = coex_df.copy()\n",
    "scores_df[\"scores\"] = result[\"scores\"]\n",
    "print((\", \").join(scores_df.sort_values(\"scores\", ascending=False).head(20)[\"Prot\"].to_numpy()))"
   ]
  },
  {
   "cell_type": "code",
   "execution_count": 54,
   "metadata": {
    "tags": []
   },
   "outputs": [
    {
     "data": {
      "text/plain": [
       "array(['CTBP1', 'AXIN1', 'MYC', 'HIPK2', 'NTRK1', 'HIST1H2BN',\n",
       "       'HIST1H2BK', 'CDH1', 'HIST1H3A', 'MECP2', 'HIST1H2BG', 'HIST2H2BE',\n",
       "       'DAXX', 'NLK', 'DYRK1B', 'PIAS1', 'CREB1', 'H2BFS', 'TP73', 'RPN2',\n",
       "       'SENP1', 'CBX4', 'KAT5', 'H2AFZ', 'H2AFY', 'NKX2-1', 'RBBP5',\n",
       "       'CDH2', 'HMGA1', 'PML', 'MAPK1', 'TMEM17', 'HIST1H2BH', 'RBPJ',\n",
       "       'SKI', 'SUMO2', 'SP100', 'UBE2I', 'RPS5', 'HDAC8', 'MLH1',\n",
       "       'H2AFB1', 'SMARCA5', 'UBE2G2', 'HIST1H2BD', 'TP53INP1', 'POLR2L',\n",
       "       'MYB', 'HIST2H3PS2', 'TPT1'], dtype=object)"
      ]
     },
     "execution_count": 54,
     "metadata": {},
     "output_type": "execute_result"
    }
   ],
   "source": [
    "most_imp_RF"
   ]
  },
  {
   "cell_type": "code",
   "execution_count": 179,
   "metadata": {
    "tags": []
   },
   "outputs": [],
   "source": [
    "np.savetxt(X=np.intersect1d(most_imp_PERC, most_imp_RF), fname=\"../Data/ClassificationData_4vir/inters.txt\", fmt=\"%s\")"
   ]
  },
  {
   "cell_type": "code",
   "execution_count": 180,
   "metadata": {
    "tags": []
   },
   "outputs": [],
   "source": [
    "np.savetxt(X=most_imp_PERC, fname=\"../Data/ClassificationData_4vir/PERC.txt\", fmt=\"%s\")"
   ]
  },
  {
   "cell_type": "code",
   "execution_count": 181,
   "metadata": {
    "tags": []
   },
   "outputs": [],
   "source": [
    "np.savetxt(X=most_imp_RF, fname=\"../Data/ClassificationData_4vir/RF.txt\", fmt=\"%s\")"
   ]
  },
  {
   "cell_type": "code",
   "execution_count": 184,
   "metadata": {
    "tags": []
   },
   "outputs": [],
   "source": [
    "enr_inters = gp.enrichr(gene_list=\"../Data/ClassificationData_4vir/RF.txt\", # or \"./tests/data/gene_list.txt\",\n",
    "                          gene_sets=['KEGG_2021_Human'],\n",
    "                          organism='human', # don't forget to set organism to the one you desired! e.g. Yeast\n",
    "                          outdir=None # don't write to disk\n",
    "                          )"
   ]
  },
  {
   "cell_type": "code",
   "execution_count": 185,
   "metadata": {
    "tags": []
   },
   "outputs": [
    {
     "data": {
      "text/html": [
       "<div>\n",
       "<style scoped>\n",
       "    .dataframe tbody tr th:only-of-type {\n",
       "        vertical-align: middle;\n",
       "    }\n",
       "\n",
       "    .dataframe tbody tr th {\n",
       "        vertical-align: top;\n",
       "    }\n",
       "\n",
       "    .dataframe thead th {\n",
       "        text-align: right;\n",
       "    }\n",
       "</style>\n",
       "<table border=\"1\" class=\"dataframe\">\n",
       "  <thead>\n",
       "    <tr style=\"text-align: right;\">\n",
       "      <th></th>\n",
       "      <th>Gene_set</th>\n",
       "      <th>Term</th>\n",
       "      <th>Overlap</th>\n",
       "      <th>P-value</th>\n",
       "      <th>Adjusted P-value</th>\n",
       "      <th>Old P-value</th>\n",
       "      <th>Old Adjusted P-value</th>\n",
       "      <th>Odds Ratio</th>\n",
       "      <th>Combined Score</th>\n",
       "      <th>Genes</th>\n",
       "    </tr>\n",
       "  </thead>\n",
       "  <tbody>\n",
       "    <tr>\n",
       "      <th>0</th>\n",
       "      <td>KEGG_2021_Human</td>\n",
       "      <td>Cell adhesion molecules</td>\n",
       "      <td>3/148</td>\n",
       "      <td>0.006035</td>\n",
       "      <td>0.295731</td>\n",
       "      <td>0</td>\n",
       "      <td>0</td>\n",
       "      <td>8.718269</td>\n",
       "      <td>44.551440</td>\n",
       "      <td>CDH4;CLDN7;CDH15</td>\n",
       "    </tr>\n",
       "    <tr>\n",
       "      <th>20</th>\n",
       "      <td>KEGG_2021_Human</td>\n",
       "      <td>TNF signaling pathway</td>\n",
       "      <td>1/112</td>\n",
       "      <td>0.245071</td>\n",
       "      <td>0.482241</td>\n",
       "      <td>0</td>\n",
       "      <td>0</td>\n",
       "      <td>3.647546</td>\n",
       "      <td>5.129202</td>\n",
       "      <td>RPS6KA4</td>\n",
       "    </tr>\n",
       "    <tr>\n",
       "      <th>21</th>\n",
       "      <td>KEGG_2021_Human</td>\n",
       "      <td>Leukocyte transendothelial migration</td>\n",
       "      <td>1/114</td>\n",
       "      <td>0.248862</td>\n",
       "      <td>0.482241</td>\n",
       "      <td>0</td>\n",
       "      <td>0</td>\n",
       "      <td>3.582626</td>\n",
       "      <td>4.982914</td>\n",
       "      <td>CLDN7</td>\n",
       "    </tr>\n",
       "    <tr>\n",
       "      <th>22</th>\n",
       "      <td>KEGG_2021_Human</td>\n",
       "      <td>FoxO signaling pathway</td>\n",
       "      <td>1/131</td>\n",
       "      <td>0.280343</td>\n",
       "      <td>0.482241</td>\n",
       "      <td>0</td>\n",
       "      <td>0</td>\n",
       "      <td>3.111460</td>\n",
       "      <td>3.956968</td>\n",
       "      <td>NLK</td>\n",
       "    </tr>\n",
       "    <tr>\n",
       "      <th>23</th>\n",
       "      <td>KEGG_2021_Human</td>\n",
       "      <td>Dopaminergic synapse</td>\n",
       "      <td>1/132</td>\n",
       "      <td>0.282154</td>\n",
       "      <td>0.482241</td>\n",
       "      <td>0</td>\n",
       "      <td>0</td>\n",
       "      <td>3.087553</td>\n",
       "      <td>3.906683</td>\n",
       "      <td>SLC6A3</td>\n",
       "    </tr>\n",
       "    <tr>\n",
       "      <th>25</th>\n",
       "      <td>KEGG_2021_Human</td>\n",
       "      <td>Apelin signaling pathway</td>\n",
       "      <td>1/137</td>\n",
       "      <td>0.291143</td>\n",
       "      <td>0.482241</td>\n",
       "      <td>0</td>\n",
       "      <td>0</td>\n",
       "      <td>2.973289</td>\n",
       "      <td>3.668867</td>\n",
       "      <td>MEF2B</td>\n",
       "    </tr>\n",
       "    <tr>\n",
       "      <th>26</th>\n",
       "      <td>KEGG_2021_Human</td>\n",
       "      <td>Breast cancer</td>\n",
       "      <td>1/147</td>\n",
       "      <td>0.308789</td>\n",
       "      <td>0.482241</td>\n",
       "      <td>0</td>\n",
       "      <td>0</td>\n",
       "      <td>2.768242</td>\n",
       "      <td>3.252949</td>\n",
       "      <td>WNT7A</td>\n",
       "    </tr>\n",
       "    <tr>\n",
       "      <th>19</th>\n",
       "      <td>KEGG_2021_Human</td>\n",
       "      <td>Alzheimer disease</td>\n",
       "      <td>2/369</td>\n",
       "      <td>0.235437</td>\n",
       "      <td>0.482241</td>\n",
       "      <td>0</td>\n",
       "      <td>0</td>\n",
       "      <td>2.223320</td>\n",
       "      <td>3.215609</td>\n",
       "      <td>WNT7A;ND4</td>\n",
       "    </tr>\n",
       "    <tr>\n",
       "      <th>27</th>\n",
       "      <td>KEGG_2021_Human</td>\n",
       "      <td>Retrograde endocannabinoid signaling</td>\n",
       "      <td>1/148</td>\n",
       "      <td>0.310530</td>\n",
       "      <td>0.482241</td>\n",
       "      <td>0</td>\n",
       "      <td>0</td>\n",
       "      <td>2.749271</td>\n",
       "      <td>3.215201</td>\n",
       "      <td>ND4</td>\n",
       "    </tr>\n",
       "    <tr>\n",
       "      <th>29</th>\n",
       "      <td>KEGG_2021_Human</td>\n",
       "      <td>mTOR signaling pathway</td>\n",
       "      <td>1/154</td>\n",
       "      <td>0.320885</td>\n",
       "      <td>0.482241</td>\n",
       "      <td>0</td>\n",
       "      <td>0</td>\n",
       "      <td>2.640656</td>\n",
       "      <td>3.001559</td>\n",
       "      <td>WNT7A</td>\n",
       "    </tr>\n",
       "    <tr>\n",
       "      <th>30</th>\n",
       "      <td>KEGG_2021_Human</td>\n",
       "      <td>Cushing syndrome</td>\n",
       "      <td>1/155</td>\n",
       "      <td>0.322596</td>\n",
       "      <td>0.482241</td>\n",
       "      <td>0</td>\n",
       "      <td>0</td>\n",
       "      <td>2.623377</td>\n",
       "      <td>2.967967</td>\n",
       "      <td>WNT7A</td>\n",
       "    </tr>\n",
       "    <tr>\n",
       "      <th>31</th>\n",
       "      <td>KEGG_2021_Human</td>\n",
       "      <td>Cellular senescence</td>\n",
       "      <td>1/156</td>\n",
       "      <td>0.324303</td>\n",
       "      <td>0.482241</td>\n",
       "      <td>0</td>\n",
       "      <td>0</td>\n",
       "      <td>2.606320</td>\n",
       "      <td>2.934917</td>\n",
       "      <td>HIPK2</td>\n",
       "    </tr>\n",
       "    <tr>\n",
       "      <th>32</th>\n",
       "      <td>KEGG_2021_Human</td>\n",
       "      <td>Hepatitis C</td>\n",
       "      <td>1/157</td>\n",
       "      <td>0.326005</td>\n",
       "      <td>0.482241</td>\n",
       "      <td>0</td>\n",
       "      <td>0</td>\n",
       "      <td>2.589482</td>\n",
       "      <td>2.902398</td>\n",
       "      <td>CLDN7</td>\n",
       "    </tr>\n",
       "    <tr>\n",
       "      <th>33</th>\n",
       "      <td>KEGG_2021_Human</td>\n",
       "      <td>cGMP-PKG signaling pathway</td>\n",
       "      <td>1/167</td>\n",
       "      <td>0.342801</td>\n",
       "      <td>0.482241</td>\n",
       "      <td>0</td>\n",
       "      <td>0</td>\n",
       "      <td>2.432260</td>\n",
       "      <td>2.603989</td>\n",
       "      <td>MEF2B</td>\n",
       "    </tr>\n",
       "    <tr>\n",
       "      <th>34</th>\n",
       "      <td>KEGG_2021_Human</td>\n",
       "      <td>Hepatocellular carcinoma</td>\n",
       "      <td>1/168</td>\n",
       "      <td>0.344458</td>\n",
       "      <td>0.482241</td>\n",
       "      <td>0</td>\n",
       "      <td>0</td>\n",
       "      <td>2.417573</td>\n",
       "      <td>2.576609</td>\n",
       "      <td>WNT7A</td>\n",
       "    </tr>\n",
       "    <tr>\n",
       "      <th>28</th>\n",
       "      <td>KEGG_2021_Human</td>\n",
       "      <td>Gastric cancer</td>\n",
       "      <td>1/149</td>\n",
       "      <td>0.312267</td>\n",
       "      <td>0.482241</td>\n",
       "      <td>0</td>\n",
       "      <td>0</td>\n",
       "      <td>2.730557</td>\n",
       "      <td>3.178089</td>\n",
       "      <td>WNT7A</td>\n",
       "    </tr>\n",
       "    <tr>\n",
       "      <th>18</th>\n",
       "      <td>KEGG_2021_Human</td>\n",
       "      <td>Melanogenesis</td>\n",
       "      <td>1/101</td>\n",
       "      <td>0.223882</td>\n",
       "      <td>0.482241</td>\n",
       "      <td>0</td>\n",
       "      <td>0</td>\n",
       "      <td>4.051020</td>\n",
       "      <td>6.062906</td>\n",
       "      <td>WNT7A</td>\n",
       "    </tr>\n",
       "    <tr>\n",
       "      <th>24</th>\n",
       "      <td>KEGG_2021_Human</td>\n",
       "      <td>Oxidative phosphorylation</td>\n",
       "      <td>1/133</td>\n",
       "      <td>0.283961</td>\n",
       "      <td>0.482241</td>\n",
       "      <td>0</td>\n",
       "      <td>0</td>\n",
       "      <td>3.064007</td>\n",
       "      <td>3.857336</td>\n",
       "      <td>ND4</td>\n",
       "    </tr>\n",
       "    <tr>\n",
       "      <th>16</th>\n",
       "      <td>KEGG_2021_Human</td>\n",
       "      <td>Circadian entrainment</td>\n",
       "      <td>1/97</td>\n",
       "      <td>0.216033</td>\n",
       "      <td>0.482241</td>\n",
       "      <td>0</td>\n",
       "      <td>0</td>\n",
       "      <td>4.220663</td>\n",
       "      <td>6.467423</td>\n",
       "      <td>PER3</td>\n",
       "    </tr>\n",
       "    <tr>\n",
       "      <th>1</th>\n",
       "      <td>KEGG_2021_Human</td>\n",
       "      <td>Signaling pathways regulating pluripotency of ...</td>\n",
       "      <td>2/143</td>\n",
       "      <td>0.049751</td>\n",
       "      <td>0.482241</td>\n",
       "      <td>0</td>\n",
       "      <td>0</td>\n",
       "      <td>5.853723</td>\n",
       "      <td>17.565381</td>\n",
       "      <td>WNT7A;PAX6</td>\n",
       "    </tr>\n",
       "    <tr>\n",
       "      <th>17</th>\n",
       "      <td>KEGG_2021_Human</td>\n",
       "      <td>Glycerophospholipid metabolism</td>\n",
       "      <td>1/98</td>\n",
       "      <td>0.218003</td>\n",
       "      <td>0.482241</td>\n",
       "      <td>0</td>\n",
       "      <td>0</td>\n",
       "      <td>4.176941</td>\n",
       "      <td>6.362520</td>\n",
       "      <td>LYPLA2</td>\n",
       "    </tr>\n",
       "    <tr>\n",
       "      <th>3</th>\n",
       "      <td>KEGG_2021_Human</td>\n",
       "      <td>Maturity onset diabetes of the young</td>\n",
       "      <td>1/26</td>\n",
       "      <td>0.063047</td>\n",
       "      <td>0.482241</td>\n",
       "      <td>0</td>\n",
       "      <td>0</td>\n",
       "      <td>16.265306</td>\n",
       "      <td>44.955341</td>\n",
       "      <td>PAX6</td>\n",
       "    </tr>\n",
       "    <tr>\n",
       "      <th>4</th>\n",
       "      <td>KEGG_2021_Human</td>\n",
       "      <td>Wnt signaling pathway</td>\n",
       "      <td>2/166</td>\n",
       "      <td>0.064743</td>\n",
       "      <td>0.482241</td>\n",
       "      <td>0</td>\n",
       "      <td>0</td>\n",
       "      <td>5.026931</td>\n",
       "      <td>13.760404</td>\n",
       "      <td>WNT7A;NLK</td>\n",
       "    </tr>\n",
       "    <tr>\n",
       "      <th>5</th>\n",
       "      <td>KEGG_2021_Human</td>\n",
       "      <td>Tight junction</td>\n",
       "      <td>2/169</td>\n",
       "      <td>0.066798</td>\n",
       "      <td>0.482241</td>\n",
       "      <td>0</td>\n",
       "      <td>0</td>\n",
       "      <td>4.935878</td>\n",
       "      <td>13.356863</td>\n",
       "      <td>PARD6A;CLDN7</td>\n",
       "    </tr>\n",
       "    <tr>\n",
       "      <th>6</th>\n",
       "      <td>KEGG_2021_Human</td>\n",
       "      <td>Circadian rhythm</td>\n",
       "      <td>1/31</td>\n",
       "      <td>0.074716</td>\n",
       "      <td>0.482241</td>\n",
       "      <td>0</td>\n",
       "      <td>0</td>\n",
       "      <td>13.551020</td>\n",
       "      <td>35.152090</td>\n",
       "      <td>PER3</td>\n",
       "    </tr>\n",
       "    <tr>\n",
       "      <th>7</th>\n",
       "      <td>KEGG_2021_Human</td>\n",
       "      <td>Pathways of neurodegeneration</td>\n",
       "      <td>3/475</td>\n",
       "      <td>0.115463</td>\n",
       "      <td>0.482241</td>\n",
       "      <td>0</td>\n",
       "      <td>0</td>\n",
       "      <td>2.634061</td>\n",
       "      <td>5.686431</td>\n",
       "      <td>WNT7A;SLC6A3;ND4</td>\n",
       "    </tr>\n",
       "    <tr>\n",
       "      <th>8</th>\n",
       "      <td>KEGG_2021_Human</td>\n",
       "      <td>Cocaine addiction</td>\n",
       "      <td>1/49</td>\n",
       "      <td>0.115560</td>\n",
       "      <td>0.482241</td>\n",
       "      <td>0</td>\n",
       "      <td>0</td>\n",
       "      <td>8.461735</td>\n",
       "      <td>18.260131</td>\n",
       "      <td>SLC6A3</td>\n",
       "    </tr>\n",
       "    <tr>\n",
       "      <th>2</th>\n",
       "      <td>KEGG_2021_Human</td>\n",
       "      <td>Hippo signaling pathway</td>\n",
       "      <td>2/163</td>\n",
       "      <td>0.062709</td>\n",
       "      <td>0.482241</td>\n",
       "      <td>0</td>\n",
       "      <td>0</td>\n",
       "      <td>5.121377</td>\n",
       "      <td>14.182385</td>\n",
       "      <td>PARD6A;WNT7A</td>\n",
       "    </tr>\n",
       "    <tr>\n",
       "      <th>10</th>\n",
       "      <td>KEGG_2021_Human</td>\n",
       "      <td>Basal cell carcinoma</td>\n",
       "      <td>1/63</td>\n",
       "      <td>0.146101</td>\n",
       "      <td>0.482241</td>\n",
       "      <td>0</td>\n",
       "      <td>0</td>\n",
       "      <td>6.546412</td>\n",
       "      <td>12.591756</td>\n",
       "      <td>WNT7A</td>\n",
       "    </tr>\n",
       "    <tr>\n",
       "      <th>11</th>\n",
       "      <td>KEGG_2021_Human</td>\n",
       "      <td>Amphetamine addiction</td>\n",
       "      <td>1/69</td>\n",
       "      <td>0.158871</td>\n",
       "      <td>0.482241</td>\n",
       "      <td>0</td>\n",
       "      <td>0</td>\n",
       "      <td>5.966987</td>\n",
       "      <td>10.977245</td>\n",
       "      <td>SLC6A3</td>\n",
       "    </tr>\n",
       "    <tr>\n",
       "      <th>12</th>\n",
       "      <td>KEGG_2021_Human</td>\n",
       "      <td>Adherens junction</td>\n",
       "      <td>1/71</td>\n",
       "      <td>0.163086</td>\n",
       "      <td>0.482241</td>\n",
       "      <td>0</td>\n",
       "      <td>0</td>\n",
       "      <td>5.795918</td>\n",
       "      <td>10.510770</td>\n",
       "      <td>NLK</td>\n",
       "    </tr>\n",
       "    <tr>\n",
       "      <th>13</th>\n",
       "      <td>KEGG_2021_Human</td>\n",
       "      <td>MAPK signaling pathway</td>\n",
       "      <td>2/294</td>\n",
       "      <td>0.167230</td>\n",
       "      <td>0.482241</td>\n",
       "      <td>0</td>\n",
       "      <td>0</td>\n",
       "      <td>2.805080</td>\n",
       "      <td>5.016557</td>\n",
       "      <td>RPS6KA4;NLK</td>\n",
       "    </tr>\n",
       "    <tr>\n",
       "      <th>14</th>\n",
       "      <td>KEGG_2021_Human</td>\n",
       "      <td>Synaptic vesicle cycle</td>\n",
       "      <td>1/78</td>\n",
       "      <td>0.177676</td>\n",
       "      <td>0.482241</td>\n",
       "      <td>0</td>\n",
       "      <td>0</td>\n",
       "      <td>5.267161</td>\n",
       "      <td>9.100564</td>\n",
       "      <td>SLC6A3</td>\n",
       "    </tr>\n",
       "    <tr>\n",
       "      <th>15</th>\n",
       "      <td>KEGG_2021_Human</td>\n",
       "      <td>Human papillomavirus infection</td>\n",
       "      <td>2/331</td>\n",
       "      <td>0.200505</td>\n",
       "      <td>0.482241</td>\n",
       "      <td>0</td>\n",
       "      <td>0</td>\n",
       "      <td>2.484929</td>\n",
       "      <td>3.993070</td>\n",
       "      <td>PARD6A;WNT7A</td>\n",
       "    </tr>\n",
       "    <tr>\n",
       "      <th>9</th>\n",
       "      <td>KEGG_2021_Human</td>\n",
       "      <td>Parkinson disease</td>\n",
       "      <td>2/249</td>\n",
       "      <td>0.128401</td>\n",
       "      <td>0.482241</td>\n",
       "      <td>0</td>\n",
       "      <td>0</td>\n",
       "      <td>3.323718</td>\n",
       "      <td>6.822251</td>\n",
       "      <td>SLC6A3;ND4</td>\n",
       "    </tr>\n",
       "    <tr>\n",
       "      <th>40</th>\n",
       "      <td>KEGG_2021_Human</td>\n",
       "      <td>Rap1 signaling pathway</td>\n",
       "      <td>1/210</td>\n",
       "      <td>0.410468</td>\n",
       "      <td>0.490559</td>\n",
       "      <td>0</td>\n",
       "      <td>0</td>\n",
       "      <td>1.927644</td>\n",
       "      <td>1.716486</td>\n",
       "      <td>PARD6A</td>\n",
       "    </tr>\n",
       "    <tr>\n",
       "      <th>39</th>\n",
       "      <td>KEGG_2021_Human</td>\n",
       "      <td>Proteoglycans in cancer</td>\n",
       "      <td>1/205</td>\n",
       "      <td>0.402965</td>\n",
       "      <td>0.490559</td>\n",
       "      <td>0</td>\n",
       "      <td>0</td>\n",
       "      <td>1.975390</td>\n",
       "      <td>1.795445</td>\n",
       "      <td>WNT7A</td>\n",
       "    </tr>\n",
       "    <tr>\n",
       "      <th>38</th>\n",
       "      <td>KEGG_2021_Human</td>\n",
       "      <td>Diabetic cardiomyopathy</td>\n",
       "      <td>1/203</td>\n",
       "      <td>0.399937</td>\n",
       "      <td>0.490559</td>\n",
       "      <td>0</td>\n",
       "      <td>0</td>\n",
       "      <td>1.995151</td>\n",
       "      <td>1.828450</td>\n",
       "      <td>ND4</td>\n",
       "    </tr>\n",
       "    <tr>\n",
       "      <th>36</th>\n",
       "      <td>KEGG_2021_Human</td>\n",
       "      <td>Alcoholism</td>\n",
       "      <td>1/186</td>\n",
       "      <td>0.373590</td>\n",
       "      <td>0.490559</td>\n",
       "      <td>0</td>\n",
       "      <td>0</td>\n",
       "      <td>2.180364</td>\n",
       "      <td>2.146776</td>\n",
       "      <td>SLC6A3</td>\n",
       "    </tr>\n",
       "    <tr>\n",
       "      <th>35</th>\n",
       "      <td>KEGG_2021_Human</td>\n",
       "      <td>Axon guidance</td>\n",
       "      <td>1/182</td>\n",
       "      <td>0.367228</td>\n",
       "      <td>0.490559</td>\n",
       "      <td>0</td>\n",
       "      <td>0</td>\n",
       "      <td>2.229000</td>\n",
       "      <td>2.232949</td>\n",
       "      <td>PARD6A</td>\n",
       "    </tr>\n",
       "    <tr>\n",
       "      <th>37</th>\n",
       "      <td>KEGG_2021_Human</td>\n",
       "      <td>Pathogenic Escherichia coli infection</td>\n",
       "      <td>1/197</td>\n",
       "      <td>0.390765</td>\n",
       "      <td>0.490559</td>\n",
       "      <td>0</td>\n",
       "      <td>0</td>\n",
       "      <td>2.056851</td>\n",
       "      <td>1.932719</td>\n",
       "      <td>CLDN7</td>\n",
       "    </tr>\n",
       "    <tr>\n",
       "      <th>41</th>\n",
       "      <td>KEGG_2021_Human</td>\n",
       "      <td>Regulation of actin cytoskeleton</td>\n",
       "      <td>1/218</td>\n",
       "      <td>0.422281</td>\n",
       "      <td>0.492661</td>\n",
       "      <td>0</td>\n",
       "      <td>0</td>\n",
       "      <td>1.855826</td>\n",
       "      <td>1.599880</td>\n",
       "      <td>ITGAE</td>\n",
       "    </tr>\n",
       "    <tr>\n",
       "      <th>42</th>\n",
       "      <td>KEGG_2021_Human</td>\n",
       "      <td>Thermogenesis</td>\n",
       "      <td>1/232</td>\n",
       "      <td>0.442398</td>\n",
       "      <td>0.504128</td>\n",
       "      <td>0</td>\n",
       "      <td>0</td>\n",
       "      <td>1.742115</td>\n",
       "      <td>1.420775</td>\n",
       "      <td>ND4</td>\n",
       "    </tr>\n",
       "    <tr>\n",
       "      <th>43</th>\n",
       "      <td>KEGG_2021_Human</td>\n",
       "      <td>Endocytosis</td>\n",
       "      <td>1/252</td>\n",
       "      <td>0.469950</td>\n",
       "      <td>0.523354</td>\n",
       "      <td>0</td>\n",
       "      <td>0</td>\n",
       "      <td>1.601675</td>\n",
       "      <td>1.209470</td>\n",
       "      <td>PARD6A</td>\n",
       "    </tr>\n",
       "    <tr>\n",
       "      <th>44</th>\n",
       "      <td>KEGG_2021_Human</td>\n",
       "      <td>Prion disease</td>\n",
       "      <td>1/273</td>\n",
       "      <td>0.497444</td>\n",
       "      <td>0.541661</td>\n",
       "      <td>0</td>\n",
       "      <td>0</td>\n",
       "      <td>1.476441</td>\n",
       "      <td>1.030957</td>\n",
       "      <td>ND4</td>\n",
       "    </tr>\n",
       "    <tr>\n",
       "      <th>45</th>\n",
       "      <td>KEGG_2021_Human</td>\n",
       "      <td>Huntington disease</td>\n",
       "      <td>1/306</td>\n",
       "      <td>0.537849</td>\n",
       "      <td>0.572926</td>\n",
       "      <td>0</td>\n",
       "      <td>0</td>\n",
       "      <td>1.314486</td>\n",
       "      <td>0.815214</td>\n",
       "      <td>ND4</td>\n",
       "    </tr>\n",
       "    <tr>\n",
       "      <th>47</th>\n",
       "      <td>KEGG_2021_Human</td>\n",
       "      <td>Amyotrophic lateral sclerosis</td>\n",
       "      <td>1/364</td>\n",
       "      <td>0.601289</td>\n",
       "      <td>0.613816</td>\n",
       "      <td>0</td>\n",
       "      <td>0</td>\n",
       "      <td>1.101198</td>\n",
       "      <td>0.560157</td>\n",
       "      <td>ND4</td>\n",
       "    </tr>\n",
       "    <tr>\n",
       "      <th>46</th>\n",
       "      <td>KEGG_2021_Human</td>\n",
       "      <td>PI3K-Akt signaling pathway</td>\n",
       "      <td>1/354</td>\n",
       "      <td>0.590996</td>\n",
       "      <td>0.613816</td>\n",
       "      <td>0</td>\n",
       "      <td>0</td>\n",
       "      <td>1.132971</td>\n",
       "      <td>0.595882</td>\n",
       "      <td>MYB</td>\n",
       "    </tr>\n",
       "    <tr>\n",
       "      <th>48</th>\n",
       "      <td>KEGG_2021_Human</td>\n",
       "      <td>Pathways in cancer</td>\n",
       "      <td>1/531</td>\n",
       "      <td>0.740010</td>\n",
       "      <td>0.740010</td>\n",
       "      <td>0</td>\n",
       "      <td>0</td>\n",
       "      <td>0.747786</td>\n",
       "      <td>0.225152</td>\n",
       "      <td>WNT7A</td>\n",
       "    </tr>\n",
       "  </tbody>\n",
       "</table>\n",
       "</div>"
      ],
      "text/plain": [
       "           Gene_set                                               Term  \\\n",
       "0   KEGG_2021_Human                            Cell adhesion molecules   \n",
       "20  KEGG_2021_Human                              TNF signaling pathway   \n",
       "21  KEGG_2021_Human               Leukocyte transendothelial migration   \n",
       "22  KEGG_2021_Human                             FoxO signaling pathway   \n",
       "23  KEGG_2021_Human                               Dopaminergic synapse   \n",
       "25  KEGG_2021_Human                           Apelin signaling pathway   \n",
       "26  KEGG_2021_Human                                      Breast cancer   \n",
       "19  KEGG_2021_Human                                  Alzheimer disease   \n",
       "27  KEGG_2021_Human               Retrograde endocannabinoid signaling   \n",
       "29  KEGG_2021_Human                             mTOR signaling pathway   \n",
       "30  KEGG_2021_Human                                   Cushing syndrome   \n",
       "31  KEGG_2021_Human                                Cellular senescence   \n",
       "32  KEGG_2021_Human                                        Hepatitis C   \n",
       "33  KEGG_2021_Human                         cGMP-PKG signaling pathway   \n",
       "34  KEGG_2021_Human                           Hepatocellular carcinoma   \n",
       "28  KEGG_2021_Human                                     Gastric cancer   \n",
       "18  KEGG_2021_Human                                      Melanogenesis   \n",
       "24  KEGG_2021_Human                          Oxidative phosphorylation   \n",
       "16  KEGG_2021_Human                              Circadian entrainment   \n",
       "1   KEGG_2021_Human  Signaling pathways regulating pluripotency of ...   \n",
       "17  KEGG_2021_Human                     Glycerophospholipid metabolism   \n",
       "3   KEGG_2021_Human               Maturity onset diabetes of the young   \n",
       "4   KEGG_2021_Human                              Wnt signaling pathway   \n",
       "5   KEGG_2021_Human                                     Tight junction   \n",
       "6   KEGG_2021_Human                                   Circadian rhythm   \n",
       "7   KEGG_2021_Human                      Pathways of neurodegeneration   \n",
       "8   KEGG_2021_Human                                  Cocaine addiction   \n",
       "2   KEGG_2021_Human                            Hippo signaling pathway   \n",
       "10  KEGG_2021_Human                               Basal cell carcinoma   \n",
       "11  KEGG_2021_Human                              Amphetamine addiction   \n",
       "12  KEGG_2021_Human                                  Adherens junction   \n",
       "13  KEGG_2021_Human                             MAPK signaling pathway   \n",
       "14  KEGG_2021_Human                             Synaptic vesicle cycle   \n",
       "15  KEGG_2021_Human                     Human papillomavirus infection   \n",
       "9   KEGG_2021_Human                                  Parkinson disease   \n",
       "40  KEGG_2021_Human                             Rap1 signaling pathway   \n",
       "39  KEGG_2021_Human                            Proteoglycans in cancer   \n",
       "38  KEGG_2021_Human                            Diabetic cardiomyopathy   \n",
       "36  KEGG_2021_Human                                         Alcoholism   \n",
       "35  KEGG_2021_Human                                      Axon guidance   \n",
       "37  KEGG_2021_Human              Pathogenic Escherichia coli infection   \n",
       "41  KEGG_2021_Human                   Regulation of actin cytoskeleton   \n",
       "42  KEGG_2021_Human                                      Thermogenesis   \n",
       "43  KEGG_2021_Human                                        Endocytosis   \n",
       "44  KEGG_2021_Human                                      Prion disease   \n",
       "45  KEGG_2021_Human                                 Huntington disease   \n",
       "47  KEGG_2021_Human                      Amyotrophic lateral sclerosis   \n",
       "46  KEGG_2021_Human                         PI3K-Akt signaling pathway   \n",
       "48  KEGG_2021_Human                                 Pathways in cancer   \n",
       "\n",
       "   Overlap   P-value  Adjusted P-value  Old P-value  Old Adjusted P-value  \\\n",
       "0    3/148  0.006035          0.295731            0                     0   \n",
       "20   1/112  0.245071          0.482241            0                     0   \n",
       "21   1/114  0.248862          0.482241            0                     0   \n",
       "22   1/131  0.280343          0.482241            0                     0   \n",
       "23   1/132  0.282154          0.482241            0                     0   \n",
       "25   1/137  0.291143          0.482241            0                     0   \n",
       "26   1/147  0.308789          0.482241            0                     0   \n",
       "19   2/369  0.235437          0.482241            0                     0   \n",
       "27   1/148  0.310530          0.482241            0                     0   \n",
       "29   1/154  0.320885          0.482241            0                     0   \n",
       "30   1/155  0.322596          0.482241            0                     0   \n",
       "31   1/156  0.324303          0.482241            0                     0   \n",
       "32   1/157  0.326005          0.482241            0                     0   \n",
       "33   1/167  0.342801          0.482241            0                     0   \n",
       "34   1/168  0.344458          0.482241            0                     0   \n",
       "28   1/149  0.312267          0.482241            0                     0   \n",
       "18   1/101  0.223882          0.482241            0                     0   \n",
       "24   1/133  0.283961          0.482241            0                     0   \n",
       "16    1/97  0.216033          0.482241            0                     0   \n",
       "1    2/143  0.049751          0.482241            0                     0   \n",
       "17    1/98  0.218003          0.482241            0                     0   \n",
       "3     1/26  0.063047          0.482241            0                     0   \n",
       "4    2/166  0.064743          0.482241            0                     0   \n",
       "5    2/169  0.066798          0.482241            0                     0   \n",
       "6     1/31  0.074716          0.482241            0                     0   \n",
       "7    3/475  0.115463          0.482241            0                     0   \n",
       "8     1/49  0.115560          0.482241            0                     0   \n",
       "2    2/163  0.062709          0.482241            0                     0   \n",
       "10    1/63  0.146101          0.482241            0                     0   \n",
       "11    1/69  0.158871          0.482241            0                     0   \n",
       "12    1/71  0.163086          0.482241            0                     0   \n",
       "13   2/294  0.167230          0.482241            0                     0   \n",
       "14    1/78  0.177676          0.482241            0                     0   \n",
       "15   2/331  0.200505          0.482241            0                     0   \n",
       "9    2/249  0.128401          0.482241            0                     0   \n",
       "40   1/210  0.410468          0.490559            0                     0   \n",
       "39   1/205  0.402965          0.490559            0                     0   \n",
       "38   1/203  0.399937          0.490559            0                     0   \n",
       "36   1/186  0.373590          0.490559            0                     0   \n",
       "35   1/182  0.367228          0.490559            0                     0   \n",
       "37   1/197  0.390765          0.490559            0                     0   \n",
       "41   1/218  0.422281          0.492661            0                     0   \n",
       "42   1/232  0.442398          0.504128            0                     0   \n",
       "43   1/252  0.469950          0.523354            0                     0   \n",
       "44   1/273  0.497444          0.541661            0                     0   \n",
       "45   1/306  0.537849          0.572926            0                     0   \n",
       "47   1/364  0.601289          0.613816            0                     0   \n",
       "46   1/354  0.590996          0.613816            0                     0   \n",
       "48   1/531  0.740010          0.740010            0                     0   \n",
       "\n",
       "    Odds Ratio  Combined Score             Genes  \n",
       "0     8.718269       44.551440  CDH4;CLDN7;CDH15  \n",
       "20    3.647546        5.129202           RPS6KA4  \n",
       "21    3.582626        4.982914             CLDN7  \n",
       "22    3.111460        3.956968               NLK  \n",
       "23    3.087553        3.906683            SLC6A3  \n",
       "25    2.973289        3.668867             MEF2B  \n",
       "26    2.768242        3.252949             WNT7A  \n",
       "19    2.223320        3.215609         WNT7A;ND4  \n",
       "27    2.749271        3.215201               ND4  \n",
       "29    2.640656        3.001559             WNT7A  \n",
       "30    2.623377        2.967967             WNT7A  \n",
       "31    2.606320        2.934917             HIPK2  \n",
       "32    2.589482        2.902398             CLDN7  \n",
       "33    2.432260        2.603989             MEF2B  \n",
       "34    2.417573        2.576609             WNT7A  \n",
       "28    2.730557        3.178089             WNT7A  \n",
       "18    4.051020        6.062906             WNT7A  \n",
       "24    3.064007        3.857336               ND4  \n",
       "16    4.220663        6.467423              PER3  \n",
       "1     5.853723       17.565381        WNT7A;PAX6  \n",
       "17    4.176941        6.362520            LYPLA2  \n",
       "3    16.265306       44.955341              PAX6  \n",
       "4     5.026931       13.760404         WNT7A;NLK  \n",
       "5     4.935878       13.356863      PARD6A;CLDN7  \n",
       "6    13.551020       35.152090              PER3  \n",
       "7     2.634061        5.686431  WNT7A;SLC6A3;ND4  \n",
       "8     8.461735       18.260131            SLC6A3  \n",
       "2     5.121377       14.182385      PARD6A;WNT7A  \n",
       "10    6.546412       12.591756             WNT7A  \n",
       "11    5.966987       10.977245            SLC6A3  \n",
       "12    5.795918       10.510770               NLK  \n",
       "13    2.805080        5.016557       RPS6KA4;NLK  \n",
       "14    5.267161        9.100564            SLC6A3  \n",
       "15    2.484929        3.993070      PARD6A;WNT7A  \n",
       "9     3.323718        6.822251        SLC6A3;ND4  \n",
       "40    1.927644        1.716486            PARD6A  \n",
       "39    1.975390        1.795445             WNT7A  \n",
       "38    1.995151        1.828450               ND4  \n",
       "36    2.180364        2.146776            SLC6A3  \n",
       "35    2.229000        2.232949            PARD6A  \n",
       "37    2.056851        1.932719             CLDN7  \n",
       "41    1.855826        1.599880             ITGAE  \n",
       "42    1.742115        1.420775               ND4  \n",
       "43    1.601675        1.209470            PARD6A  \n",
       "44    1.476441        1.030957               ND4  \n",
       "45    1.314486        0.815214               ND4  \n",
       "47    1.101198        0.560157               ND4  \n",
       "46    1.132971        0.595882               MYB  \n",
       "48    0.747786        0.225152             WNT7A  "
      ]
     },
     "execution_count": 185,
     "metadata": {},
     "output_type": "execute_result"
    }
   ],
   "source": [
    "enr_inters.results.sort_values(\"Adjusted P-value\")"
   ]
  },
  {
   "cell_type": "code",
   "execution_count": 160,
   "metadata": {
    "tags": []
   },
   "outputs": [
    {
     "name": "stderr",
     "output_type": "stream",
     "text": [
      "\u001b[32m[I 2023-06-05 15:18:03,019]\u001b[0m A new study created in memory with name: random tree\u001b[0m\n",
      "\u001b[32m[I 2023-06-05 15:18:06,862]\u001b[0m Trial 0 finished with value: 0.9411764705882353 and parameters: {'max_depth': 93, 'min_samples_split': 4, 'min_samples_leaf': 2, 'max_features': 'log2', 'criterion': 'entropy'}. Best is trial 0 with value: 0.9411764705882353.\u001b[0m\n",
      "\u001b[32m[I 2023-06-05 15:18:10,717]\u001b[0m Trial 1 finished with value: 0.946524064171123 and parameters: {'max_depth': 75, 'min_samples_split': 7, 'min_samples_leaf': 8, 'max_features': 'sqrt', 'criterion': 'log_loss'}. Best is trial 1 with value: 0.946524064171123.\u001b[0m\n",
      "\u001b[32m[I 2023-06-05 15:18:14,532]\u001b[0m Trial 2 finished with value: 0.9429590017825312 and parameters: {'max_depth': 81, 'min_samples_split': 9, 'min_samples_leaf': 10, 'max_features': 'sqrt', 'criterion': 'gini'}. Best is trial 1 with value: 0.946524064171123.\u001b[0m\n",
      "\u001b[32m[I 2023-06-05 15:18:18,339]\u001b[0m Trial 3 finished with value: 0.9358288770053476 and parameters: {'max_depth': 44, 'min_samples_split': 8, 'min_samples_leaf': 10, 'max_features': 'log2', 'criterion': 'log_loss'}. Best is trial 1 with value: 0.946524064171123.\u001b[0m\n",
      "\u001b[32m[I 2023-06-05 15:18:22,215]\u001b[0m Trial 4 finished with value: 0.948306595365419 and parameters: {'max_depth': 91, 'min_samples_split': 2, 'min_samples_leaf': 5, 'max_features': 'log2', 'criterion': 'entropy'}. Best is trial 4 with value: 0.948306595365419.\u001b[0m\n",
      "\u001b[32m[I 2023-06-05 15:18:26,133]\u001b[0m Trial 5 finished with value: 0.9572192513368984 and parameters: {'max_depth': 82, 'min_samples_split': 6, 'min_samples_leaf': 9, 'max_features': 'log2', 'criterion': 'entropy'}. Best is trial 5 with value: 0.9572192513368984.\u001b[0m\n",
      "\u001b[32m[I 2023-06-05 15:18:29,971]\u001b[0m Trial 6 finished with value: 0.946524064171123 and parameters: {'max_depth': 71, 'min_samples_split': 3, 'min_samples_leaf': 6, 'max_features': 'log2', 'criterion': 'gini'}. Best is trial 5 with value: 0.9572192513368984.\u001b[0m\n",
      "\u001b[32m[I 2023-06-05 15:18:33,783]\u001b[0m Trial 7 finished with value: 0.9411764705882353 and parameters: {'max_depth': 49, 'min_samples_split': 5, 'min_samples_leaf': 9, 'max_features': 'sqrt', 'criterion': 'entropy'}. Best is trial 5 with value: 0.9572192513368984.\u001b[0m\n",
      "\u001b[32m[I 2023-06-05 15:18:37,709]\u001b[0m Trial 8 finished with value: 0.9340463458110517 and parameters: {'max_depth': 13, 'min_samples_split': 8, 'min_samples_leaf': 8, 'max_features': 'log2', 'criterion': 'entropy'}. Best is trial 5 with value: 0.9572192513368984.\u001b[0m\n",
      "\u001b[32m[I 2023-06-05 15:18:41,573]\u001b[0m Trial 9 finished with value: 0.9376114081996435 and parameters: {'max_depth': 36, 'min_samples_split': 8, 'min_samples_leaf': 6, 'max_features': 'log2', 'criterion': 'log_loss'}. Best is trial 5 with value: 0.9572192513368984.\u001b[0m\n"
     ]
    },
    {
     "name": "stdout",
     "output_type": "stream",
     "text": [
      "Number of finished trials: 10\n",
      "Best trial:\n",
      "   Max IoU: 0.9572192513368984\n",
      "   Params: \n",
      "    max_depth: 82\n",
      "    min_samples_split: 6\n",
      "    min_samples_leaf: 9\n",
      "    max_features: log2\n",
      "    criterion: entropy\n"
     ]
    }
   ],
   "source": [
    "def objective(trial):\n",
    "\n",
    "    # set the range of the transformations to apply to the image\n",
    "    hyperparameters = [\n",
    "        #trial.suggest_int(\"n_estimators\", 50,150),\n",
    "        trial.suggest_int(\"max_depth\", 1, 100),\n",
    "        trial.suggest_int(\"min_samples_split\", 2,10),\n",
    "        trial.suggest_int(\"min_samples_leaf\", 1,10),\n",
    "        trial.suggest_categorical(\"max_features\", [\"sqrt\", \"log2\"]),\n",
    "        trial.suggest_categorical(\"criterion\", [\"gini\", \"entropy\", \"log_loss\"])\n",
    "    ]\n",
    "    \n",
    "    return random_tree_MINE(X=X,\n",
    "                            ind=77,\n",
    "                            n_estimators = 100,\n",
    "                            max_depth=hyperparameters[0], \n",
    "                            min_samples_split=hyperparameters[1], \n",
    "                            min_samples_leaf=hyperparameters[2],\n",
    "                            max_features=hyperparameters[3],\n",
    "                            criterion = hyperparameters[4])\n",
    "\n",
    "pruner: optuna.pruners.BasePruner = optuna.pruners.NopPruner()\n",
    "sampler = TPESampler(seed=12345)\n",
    "study = optuna.create_study(study_name=\"random tree\", direction=\"maximize\", pruner=pruner, sampler=sampler)\n",
    "optuna.logging.set_verbosity(optuna.logging.INFO)\n",
    "study.optimize(objective, n_trials=10)\n",
    "\n",
    "\n",
    "print(\"Number of finished trials: {}\".format(len(study.trials)))\n",
    "\n",
    "print(\"Best trial:\")\n",
    "trial = study.best_trial\n",
    "\n",
    "print(\"   Max IoU: {}\".format(trial.value))\n",
    "\n",
    "print(\"   Params: \")\n",
    "for key, value in trial.params.items():\n",
    "    print(\"    {}: {}\".format(key, value))"
   ]
  },
  {
   "cell_type": "code",
   "execution_count": 38,
   "metadata": {},
   "outputs": [
    {
     "data": {
      "text/html": [
       "<div>\n",
       "<style scoped>\n",
       "    .dataframe tbody tr th:only-of-type {\n",
       "        vertical-align: middle;\n",
       "    }\n",
       "\n",
       "    .dataframe tbody tr th {\n",
       "        vertical-align: top;\n",
       "    }\n",
       "\n",
       "    .dataframe thead th {\n",
       "        text-align: right;\n",
       "    }\n",
       "</style>\n",
       "<table border=\"1\" class=\"dataframe\">\n",
       "  <thead>\n",
       "    <tr style=\"text-align: right;\">\n",
       "      <th></th>\n",
       "      <th>Prot</th>\n",
       "      <th>Score</th>\n",
       "    </tr>\n",
       "  </thead>\n",
       "  <tbody>\n",
       "    <tr>\n",
       "      <th>9317</th>\n",
       "      <td>CDH6</td>\n",
       "      <td>0.002634</td>\n",
       "    </tr>\n",
       "    <tr>\n",
       "      <th>2194</th>\n",
       "      <td>ATRX</td>\n",
       "      <td>0.002410</td>\n",
       "    </tr>\n",
       "    <tr>\n",
       "      <th>9010</th>\n",
       "      <td>APC2</td>\n",
       "      <td>0.002408</td>\n",
       "    </tr>\n",
       "    <tr>\n",
       "      <th>9318</th>\n",
       "      <td>CDH9</td>\n",
       "      <td>0.002311</td>\n",
       "    </tr>\n",
       "    <tr>\n",
       "      <th>8946</th>\n",
       "      <td>FAM171B</td>\n",
       "      <td>0.002292</td>\n",
       "    </tr>\n",
       "    <tr>\n",
       "      <th>...</th>\n",
       "      <td>...</td>\n",
       "      <td>...</td>\n",
       "    </tr>\n",
       "    <tr>\n",
       "      <th>7950</th>\n",
       "      <td>SCEL</td>\n",
       "      <td>0.001016</td>\n",
       "    </tr>\n",
       "    <tr>\n",
       "      <th>8658</th>\n",
       "      <td>SBSN</td>\n",
       "      <td>0.001010</td>\n",
       "    </tr>\n",
       "    <tr>\n",
       "      <th>8767</th>\n",
       "      <td>EPS8L1</td>\n",
       "      <td>0.001008</td>\n",
       "    </tr>\n",
       "    <tr>\n",
       "      <th>1206</th>\n",
       "      <td>HIST2H3PS2</td>\n",
       "      <td>0.001004</td>\n",
       "    </tr>\n",
       "    <tr>\n",
       "      <th>9454</th>\n",
       "      <td>KIAA1462</td>\n",
       "      <td>0.001001</td>\n",
       "    </tr>\n",
       "  </tbody>\n",
       "</table>\n",
       "<p>73 rows × 2 columns</p>\n",
       "</div>"
      ],
      "text/plain": [
       "            Prot     Score\n",
       "9317        CDH6  0.002634\n",
       "2194        ATRX  0.002410\n",
       "9010        APC2  0.002408\n",
       "9318        CDH9  0.002311\n",
       "8946     FAM171B  0.002292\n",
       "...          ...       ...\n",
       "7950        SCEL  0.001016\n",
       "8658        SBSN  0.001010\n",
       "8767      EPS8L1  0.001008\n",
       "1206  HIST2H3PS2  0.001004\n",
       "9454    KIAA1462  0.001001\n",
       "\n",
       "[73 rows x 2 columns]"
      ]
     },
     "execution_count": 38,
     "metadata": {},
     "output_type": "execute_result"
    }
   ],
   "source": [
    "res_df = pd.DataFrame({\"Prot\": node_map_df.loc[sorted_indices][\"Prot\"], \"Score\": np.sort(importance_scores)[::-1]})\n",
    "res_df[res_df[\"Score\"]>1e-3]"
   ]
  },
  {
   "cell_type": "code",
   "execution_count": 39,
   "metadata": {},
   "outputs": [
    {
     "data": {
      "image/png": "[encoded data removed]",
      "text/plain": [
       "<Figure size 1000x700 with 1 Axes>"
      ]
     },
     "metadata": {},
     "output_type": "display_data"
    }
   ],
   "source": [
    "plt.figure(figsize=(10,7))\n",
    "sns.scatterplot(data=res_df[res_df[\"Score\"]>1e-3], x=\"Prot\", y=\"Score\")\n",
    "plt.xticks(rotation=90)\n",
    "plt.tight_layout()"
   ]
  },
  {
   "cell_type": "markdown",
   "metadata": {},
   "source": [
    "## Enrichment"
   ]
  },
  {
   "cell_type": "code",
   "execution_count": 48,
   "metadata": {},
   "outputs": [
    {
     "name": "stdout",
     "output_type": "stream",
     "text": [
      "['n4o', 'o1n', 'n6o', 'n3o', 'n5o', 'n1o', 'n2o', 'n']\n"
     ]
    },
    {
     "data": {
      "text/plain": [
       "['n1s']"
      ]
     },
     "execution_count": 48,
     "metadata": {},
     "output_type": "execute_result"
    }
   ],
   "source": [
    "enr_dir = os.listdir(\"../Data/pathways/\")\n",
    "enr_dir_train = enr_dir[:-2]\n",
    "print(enr_dir_train)\n",
    "enr_dir_pred = enr_dir[-2:-1]\n",
    "enr_dir_pred"
   ]
  },
  {
   "cell_type": "code",
   "execution_count": 110,
   "metadata": {},
   "outputs": [
    {
     "name": "stdout",
     "output_type": "stream",
     "text": [
      "(1089, 203)\n",
      "(1089,)\n",
      "(135, 203)\n"
     ]
    }
   ],
   "source": [
    "path_list = []\n",
    "for t in enr_dir:\n",
    "    for i in os.listdir(\"../Data/pathways/\"+t):\n",
    "        path_list= np.concatenate([path_list, pd.read_csv(\"../Data/pathways/\"+t+\"/\"+i)[\"Term\"].to_numpy()])\n",
    "        path_list = np.unique(path_list)\n",
    "\n",
    "path_dict = dict(zip(path_list, np.arange(len(path_list))))\n",
    "\n",
    "#training samples\n",
    "X = []\n",
    "for t in enr_dir_train:\n",
    "    for i in os.listdir(\"../Data/pathways/\"+t):\n",
    "        ex_df = pd.read_csv(\"../Data/pathways/\"+t+\"/\"+i)\n",
    "        path_arr = np.zeros(len(path_list))\n",
    "        path_arr[np.array(itemgetter(*ex_df[\"Term\"])(path_dict))]= ex_df[\"Adjusted P-value\"].map(lambda x: -np.log10(x))\n",
    "        X.append(path_arr)\n",
    "X=np.array(X)\n",
    "print(X.shape)\n",
    "\n",
    "#training samples labels\n",
    "label_dict = dict(zip(top_dir_train, [4,7,6,3,5,1,2,0]))\n",
    "\n",
    "y = []\n",
    "for t in enr_dir_train:\n",
    "    y.append([label_dict[t]]*len(os.listdir(\"../Data/pathways/\"+t)))\n",
    "\n",
    "y = np.concatenate(y)\n",
    "print(y.shape)\n",
    "\n",
    "# samples with sarscov2\n",
    "X_pred = []\n",
    "for t in enr_dir_pred:\n",
    "    for i in os.listdir(\"../Data/pathways/\"+t):\n",
    "        ex_df = pd.read_csv(\"../Data/pathways/\"+t+\"/\"+i)\n",
    "        path_arr = np.zeros(len(path_list))\n",
    "        path_arr[np.array(itemgetter(*ex_df[\"Term\"])(path_dict))]= ex_df[\"Adjusted P-value\"].map(lambda x: -np.log10(x))\n",
    "        X_pred.append(path_arr)\n",
    "\n",
    "X_pred = np.array(X_pred)\n",
    "print(X_pred.shape)"
   ]
  },
  {
   "cell_type": "code",
   "execution_count": 111,
   "metadata": {},
   "outputs": [
    {
     "name": "stderr",
     "output_type": "stream",
     "text": [
      "100%|██████████| 10/10 [00:07<00:00,  1.39it/s]\n"
     ]
    }
   ],
   "source": [
    "importance_scores_list = []\n",
    "predicted_class_list = []\n",
    "acc_list = []\n",
    "\n",
    "\n",
    "def random_tree_MINE(X,y)\n",
    "    num_features = X.shape[1]\n",
    "\n",
    "\n",
    "    # Create a Random Forest classifier\n",
    "    rf_classifier = RandomForestClassifier()\n",
    "\n",
    "    # Fit the classifier to the input data\n",
    "    rf_classifier.fit(X_train, y)\n",
    "\n",
    "    y_pred = rf_classifier.predict(X_train)\n",
    "\n",
    "    # Calculate the accuracy of the model on the training data\n",
    "    accuracy = accuracy_score(y, y_pred)\n",
    "    acc_list.append(accuracy)\n",
    "    # Classify the new sample\n",
    "    predicted_class = rf_classifier.predict(X_pred)\n",
    "    predicted_class_list.append(predicted_class)\n",
    "\n",
    "    #print(\"Mean predicted class:\", np.mean(predicted_class))\n",
    "\n",
    "    importance_scores = rf_classifier.feature_importances_\n",
    "    importance_scores_list.append(importance_scores)\n",
    "\n",
    "    # Sort the features by importance in descending order\n",
    "    sorted_indices = np.argsort(importance_scores)[::-1]\n",
    "\n",
    "    # Print the top 10 most important features\n",
    "    top_features = 3\n",
    "    #print(\"Top\", top_features, \"features:\")\n",
    "    #for i in range(top_features):\n",
    "    #    feature_index = sorted_indices[i]\n",
    "    #    print(\"Feature\", node_map_df.loc[feature_index][\"Prot\"], \"- Importance:\", importance_scores[feature_index])"
   ]
  },
  {
   "cell_type": "code",
   "execution_count": 112,
   "metadata": {},
   "outputs": [
    {
     "data": {
      "text/plain": [
       "[0.9954086317722681,\n",
       " 0.9954086317722681,\n",
       " 0.9954086317722681,\n",
       " 0.9954086317722681,\n",
       " 0.9954086317722681,\n",
       " 0.9954086317722681,\n",
       " 0.9954086317722681,\n",
       " 0.9954086317722681,\n",
       " 0.9954086317722681,\n",
       " 0.9954086317722681]"
      ]
     },
     "execution_count": 112,
     "metadata": {},
     "output_type": "execute_result"
    }
   ],
   "source": [
    "acc_list"
   ]
  },
  {
   "cell_type": "code",
   "execution_count": 118,
   "metadata": {},
   "outputs": [
    {
     "data": {
      "text/plain": [
       "0.0"
      ]
     },
     "execution_count": 118,
     "metadata": {},
     "output_type": "execute_result"
    }
   ],
   "source": [
    "rf_classifier"
   ]
  },
  {
   "cell_type": "code",
   "execution_count": 113,
   "metadata": {},
   "outputs": [
    {
     "data": {
      "image/png": "[encoded data removed]",
      "text/plain": [
       "<Figure size 1000x1000 with 1 Axes>"
      ]
     },
     "metadata": {},
     "output_type": "display_data"
    }
   ],
   "source": [
    "from sklearn import tree\n",
    "# Extract the individual decision tree\n",
    "decision_tree = rf_classifier.estimators_[0]\n",
    "\n",
    "# Create a figure and axis for plotting\n",
    "fig, ax = plt.subplots(figsize=(10, 10))\n",
    "\n",
    "# Plot the decision tree\n",
    "tree.plot_tree(decision_tree, ax=ax)\n",
    "\n",
    "# Show the plot\n",
    "plt.show()"
   ]
  }
 ],
 "metadata": {
  "kernelspec": {
   "display_name": "base",
   "language": "python",
   "name": "base"
  },
  "language_info": {
   "codemirror_mode": {
    "name": "ipython",
    "version": 3
   },
   "file_extension": ".py",
   "mimetype": "text/x-python",
   "name": "python",
   "nbconvert_exporter": "python",
   "pygments_lexer": "ipython3",
   "version": "3.10.9"
  }
 },
 "nbformat": 4,
 "nbformat_minor": 4
}
