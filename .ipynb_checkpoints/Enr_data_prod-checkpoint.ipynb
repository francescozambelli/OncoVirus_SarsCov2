{
 "cells": [
  {
   "cell_type": "code",
   "execution_count": 34,
   "id": "70cc1f0b-62b0-4820-98bb-cea5eb2d71a5",
   "metadata": {
    "tags": []
   },
   "outputs": [],
   "source": [
    "import sys\n",
    "sys.path.append('..')\n",
    "\n",
    "import numpy as np\n",
    "import networkx as nx\n",
    "import matplotlib.pyplot as plt\n",
    "import seaborn as sns\n",
    "import scipy as sp\n",
    "import pandas as pd\n",
    "import graph_tool as gt\n",
    "from tqdm import tqdm\n",
    "from operator import itemgetter\n",
    "from functools import reduce\n",
    "import itertools\n",
    "import scipy.sparse as sps\n",
    "import random\n",
    "import os\n",
    "#from pymnet import *\n",
    "\n",
    "import MuxVizPy as mxp\n",
    "\n",
    "import gseapy as gp\n",
    "\n",
    "import warnings\n",
    "warnings.filterwarnings(\"ignore\")\n",
    "\n",
    "\n",
    "#set.seed(1)\n",
    "\n",
    "# input data settings\n",
    "NEIGH_ORDER = 1 # or 0, order of nerighbors, 0 only connected proteins, 1 also first neighbors\n",
    "CUT_THR = 0.7   # don't change this one\n",
    "\n",
    "target_folder = \"../Data/Virus_data_Enriched_\"+str(CUT_THR)+\"_Neigh_\"+str(NEIGH_ORDER)+\"/\"\n",
    "\n",
    "# multilayer settings\n",
    "layerCouplingStrength = 1\n",
    "networkOfLayersType = \"categorical\" ## = all to all\n",
    "\n",
    "#virus metadata\n",
    "virus_metadata = pd.read_csv(\"../Data/Files/viruses_metadata.csv\", header=0, sep=\";\")\n",
    "\n",
    "virus_metadata_onco = virus_metadata[virus_metadata[\"isOncogenic\"] == True].reset_index()\n",
    "virus_metadata_nonco = virus_metadata[virus_metadata[\"isOncogenic\"] == False].reset_index()\n",
    "\n",
    "#dictionary containing a unquie mapping between name of the protein and a corresponding index\n",
    "node_map_df = pd.read_csv(\"../Data/Files/node_map.csv\")\n",
    "node_map_dict = {k:(v-1) for k,v in zip(node_map_df[\"Prot\"], node_map_df[\"Index\"])}\n",
    "\n",
    "#function to create list of n_iter combination of nonco virus indexes with a fixed random seed for repitibility\n",
    "def SamplingForNoco(n_iter, start=0, group_dim=8, random_seed=1234):\n",
    "    np.random.seed(random_seed)\n",
    "    nonco_cond = np.where(np.all([np.array(virus_metadata[\"virus\"]!=\"Human_SARS_coronavirus_2\"),\n",
    "                                  np.array(virus_metadata[\"virus_short\"]!=\"Lymphocytic_choriomeningitis_virus\"),\n",
    "                                  np.array(virus_metadata[\"neigh_order\"]==NEIGH_ORDER), \n",
    "                                  np.array(virus_metadata[\"isOncogenic\"]==False)],\n",
    "                                  axis=0))\n",
    "    \n",
    "    nonco_sampling = np.array([np.random.choice(nonco_cond[0], group_dim, replace=False) for i in range(n_iter+start)])\n",
    "    return nonco_sampling[start:(n_iter+start)]"
   ]
  },
  {
   "cell_type": "code",
   "execution_count": 2,
   "id": "f05e5ae0-da2a-4d4b-982c-64e29dad0cc4",
   "metadata": {
    "tags": []
   },
   "outputs": [
    {
     "name": "stdout",
     "output_type": "stream",
     "text": [
      "Epstein-Barr_virus\n",
      "Hepatitis_B_virus_genotype_C_subtype_ayr\n",
      "Hepatitis_C_virus_genotype_1a\n",
      "Human_herpesvirus_8_type_P\n",
      "Human_papillomavirus_type_16\n",
      "Human_papillomavirus_type_18\n",
      "Human_papillomavirus_type_5\n",
      "Human_T-cell_leukemia_virus_1\n",
      "\n",
      "Multiplex with 8 layers, 11873 nodes and 2208041 edges\n"
     ]
    }
   ],
   "source": [
    "onco_virus_indexes = np.where(np.array(np.all([virus_metadata[\"neigh_order\"]==NEIGH_ORDER, virus_metadata[\"isOncogenic\"] == True], axis=0)))[0]\n",
    "net_onco = mxp.VirusMultiplex(onco_virus_indexes, target_folder=target_folder, virus_metadata=virus_metadata)\n",
    "\n",
    "for v in net_onco.virus_list:\n",
    "    print(v)\n",
    "    \n",
    "print(\"\\n\"+net_onco.net_description)"
   ]
  },
  {
   "cell_type": "code",
   "execution_count": 3,
   "id": "81f1dd40-201d-4567-8878-7f392278ac7a",
   "metadata": {
    "tags": []
   },
   "outputs": [],
   "source": [
    "tensor_onco = mxp.build.get_node_tensor_from_network_list(net_onco.g_list)\n",
    "layer_tensor_onco = mxp.build.build_layers_tensor(Layers=net_onco.Layers,\n",
    "                                                  OmegaParameter=layerCouplingStrength, \n",
    "                                                  MultisliceType=networkOfLayersType\n",
    "                                                  )\n",
    "\n",
    "supra_onco = mxp.build.build_supra_adjacency_matrix_from_edge_colored_matrices(nodes_tensor=tensor_onco,\n",
    "                                                                               layer_tensor=layer_tensor_onco,\n",
    "                                                                               layers=net_onco.Layers,\n",
    "                                                                               nodes=net_onco.Nodes)\n"
   ]
  },
  {
   "cell_type": "code",
   "execution_count": 4,
   "id": "b1024edb-4018-4c13-bdd6-e774cc0bed96",
   "metadata": {
    "tags": []
   },
   "outputs": [],
   "source": [
    "def supra_transition_matrix_virus(supra, node_tensor, nodes, layers, p_intra = 1):\n",
    "    \n",
    "    supra_sum = np.array(supra.sum(axis=0).tolist()[0])\n",
    "    supra_nonz = supra.nonzero()\n",
    "    \n",
    "    blocks = []\n",
    "    norms=[]\n",
    "\n",
    "    #create the non_diagonal blocks: the diagonal entries are the number of non non-itrelayer connections of the nodes he can reach\n",
    "    for l in range(layers):\n",
    "        # i subtract (layers-1) to delete the contributions of the interlayer connections given by the categorical coupling\n",
    "        block = sps.identity(nodes).multiply(supra_sum[l*nodes:(l+1)*nodes]-(layers-1))\n",
    "        blocks.append(block)\n",
    "    \n",
    "    #the blocks are combined together and the rows are normalized to create a transition matrix without diagonal blocks\n",
    "    mat =[]\n",
    "    for la in range(layers):\n",
    "        norm_fac = np.sum(supra_sum.reshape(layers, nodes)[np.delete(np.arange(layers),la)]-(layers-1), axis=0)\n",
    "        norm_fac = np.where(norm_fac != 0, 1 / norm_fac, 0)\n",
    "        mat.append([blocks[i].multiply(norm_fac) for i in np.delete(np.arange(layers), la)])\n",
    "    \n",
    "    #creating diagonal blocks by applying the standard prodecure for trans matr to each adj matrix\n",
    "    diag_blocks = []\n",
    "    for la in range(layers):\n",
    "        t0_sum = np.array(list(node_tensor[la].sum(axis=0)))[0][0]\n",
    "        t0_sum = np.where(t0_sum != 0, 1 / t0_sum, 0)\n",
    "\n",
    "        diag_blocks.append(node_tensor[la].dot(sps.diags(t0_sum)).T)\n",
    "    \n",
    "    #combine the results in the unnormalized final matrix\n",
    "    #the sum of each row can be 2, if there are contribution both from intra e inter connections, 1 for only intra, and 0 for nodes that becomes disconnected\n",
    "    #if I want to give an exctra contribution to the intra connections, i should choose p_intra>1\n",
    "    for i in range(layers):\n",
    "        mat[i].insert(i, diag_blocks[i].multiply(np.array([p_intra]*nodes)))\n",
    "\n",
    "    comb_mat =sps.vstack([sps.hstack(mat[i]) for i in range(layers)])\n",
    "    \n",
    "    valss = np.where(comb_mat.sum(axis=1) != 0, 1 / comb_mat.sum(axis=1), 0).flatten()\n",
    "\n",
    "    return comb_mat.T.multiply(valss).T"
   ]
  },
  {
   "cell_type": "markdown",
   "id": "0ed8d76a-ac28-4505-9b47-6a67257f7d43",
   "metadata": {},
   "source": [
    "# Enr Data"
   ]
  },
  {
   "cell_type": "code",
   "execution_count": 5,
   "id": "b339d4a3-8fb4-4c9d-835b-12d02514e1c1",
   "metadata": {
    "tags": []
   },
   "outputs": [],
   "source": [
    "#O1S\n",
    "comb = list(itertools.combinations(range(8), 7))\n",
    "Sars_onco_cond = np.where(np.array(np.all([virus_metadata[\"neigh_order\"]==NEIGH_ORDER, virus_metadata[\"isOncogenic\"] == True], axis=0)))[0]\n",
    "Sars_pos = np.where(np.array(np.all([virus_metadata[\"neigh_order\"]==NEIGH_ORDER, virus_metadata[\"virus\"]==\"Human_SARS_coronavirus_2\"], axis=0)))[0][0]\n",
    "o1s_virus_indexes = np.array([list(Sars_onco_cond[list(comb[i])])+[Sars_pos] for i in range(len(comb))])\n",
    "\n",
    "#N1S\n",
    "Snonco_nonco_samples = SamplingForNoco(200, group_dim=7, random_seed=4563)\n",
    "Sars_pos = np.where(np.array(np.all([virus_metadata[\"neigh_order\"]==NEIGH_ORDER, virus_metadata[\"virus\"]==\"Human_SARS_coronavirus_2\"], axis=0)))[0][0]\n",
    "n1s_virus_indexes = np.concatenate([Snonco_nonco_samples, np.repeat(Sars_pos,200).reshape([200,1])], axis=1)\n",
    "\n",
    "#N1O\n",
    "n1o_virus_indexes = []\n",
    "n1o_sampling = SamplingForNoco(200, group_dim=7, random_seed=456)\n",
    "for i in range(len(n1o_sampling)):\n",
    "    onco_pick = np.random.choice(onco_virus_indexes)\n",
    "    n1o_virus_indexes.append(np.concatenate([n1o_sampling[i], [onco_pick]]))\n",
    "\n",
    "#N2O\n",
    "n2o_virus_indexes = []\n",
    "n2o_sampling = SamplingForNoco(200, group_dim=6, random_seed=17521)\n",
    "for i in range(len(n2o_sampling)):\n",
    "    onco_pick = np.random.choice(onco_virus_indexes, 2)\n",
    "    n2o_virus_indexes.append(np.concatenate([n2o_sampling[i], onco_pick]))\n",
    "    \n",
    "#N3O\n",
    "n3o_virus_indexes = []\n",
    "n3o_sampling = SamplingForNoco(200, group_dim=5, random_seed=27521)\n",
    "for i in range(len(n3o_sampling)):\n",
    "    onco_pick = np.random.choice(onco_virus_indexes, 3)\n",
    "    n3o_virus_indexes.append(np.concatenate([n3o_sampling[i], onco_pick]))\n",
    "\n",
    "#N4O\n",
    "n4o_virus_indexes = []\n",
    "n4o_sampling = SamplingForNoco(200, group_dim=4, random_seed=796581)\n",
    "for i in range(len(n4o_sampling)):\n",
    "    onco_pick = np.random.choice(onco_virus_indexes, 4)\n",
    "    n4o_virus_indexes.append(np.concatenate([n4o_sampling[i], onco_pick]))    \n",
    "\n",
    "#N5O\n",
    "n5o_virus_indexes = []\n",
    "n5o_sampling = SamplingForNoco(200, group_dim=3, random_seed=37521)\n",
    "for i in range(len(n5o_sampling)):\n",
    "    onco_pick = np.random.choice(onco_virus_indexes, 5)\n",
    "    n5o_virus_indexes.append(np.concatenate([n5o_sampling[i], onco_pick]))\n",
    "    \n",
    "#N6O\n",
    "n6o_virus_indexes = []\n",
    "n6o_sampling = SamplingForNoco(200, group_dim=2, random_seed=47521)\n",
    "for i in range(len(n6o_sampling)):\n",
    "    onco_pick = np.random.choice(onco_virus_indexes, 6)\n",
    "    n6o_virus_indexes.append(np.concatenate([n6o_sampling[i], onco_pick]))\n",
    "    \n",
    "#O1N\n",
    "comb = list(itertools.combinations(range(8), 7))\n",
    "o1n_sampling = SamplingForNoco(200, group_dim=1, random_seed=12541).flatten()\n",
    "o1n_virus_indexes = []\n",
    "for i in range(len(onco_virus_indexes)):\n",
    "    onco_samp = onco_virus_indexes[list(comb[i])]\n",
    "    for j in range(len(o1n_sampling)):\n",
    "        o1n_virus_indexes.append(np.concatenate([onco_samp, [o1n_sampling[j]]]))\n",
    "        \n",
    "o1n_virus_indexes = random.sample(o1n_virus_indexes, 200)\n",
    "        \n",
    "#N\n",
    "n_virus_indexes = SamplingForNoco(200, random_seed=41252145)"
   ]
  },
  {
   "cell_type": "code",
   "execution_count": 22,
   "id": "afb7985c-078f-4579-a8aa-c769a5c976dc",
   "metadata": {
    "tags": []
   },
   "outputs": [],
   "source": [
    "index_lists = [o1s_virus_indexes, \n",
    "               n1s_virus_indexes, \n",
    "               n1o_virus_indexes, \n",
    "               n2o_virus_indexes, \n",
    "               n3o_virus_indexes,\n",
    "               n4o_virus_indexes, \n",
    "               n5o_virus_indexes, \n",
    "               n6o_virus_indexes, \n",
    "               o1n_virus_indexes, \n",
    "               n_virus_indexes]\n",
    "\n",
    "folder_data = \"../Data/EnrData/\"\n",
    "index_names = [\"o1s\", \"n1s\", \"n1o\", \"n2o\", \"n3o\", \"n4o\", \"n5o\", \"n6o\", \"o1n\", \"n\"]"
   ]
  },
  {
   "cell_type": "code",
   "execution_count": 28,
   "id": "95157cd1-d07c-407b-bfbf-e0cd5f51b2bd",
   "metadata": {
    "tags": []
   },
   "outputs": [],
   "source": [
    "if not os.path.isdir(\"../Data/EnrData/n\"):\n",
    "    os.mkdir(\"../Data/EnrData/n\")"
   ]
  },
  {
   "cell_type": "code",
   "execution_count": null,
   "id": "7abe6e55-6870-4080-af1b-9832b428e453",
   "metadata": {
    "tags": []
   },
   "outputs": [
    {
     "name": "stdout",
     "output_type": "stream",
     "text": [
      "Iteration : 1\n"
     ]
    },
    {
     "name": "stderr",
     "output_type": "stream",
     "text": [
      "100%|███████████████████████████████████████████| 10/10 [01:14<00:00,  7.40s/it]\n"
     ]
    },
    {
     "name": "stdout",
     "output_type": "stream",
     "text": [
      "Iteration : 2\n"
     ]
    },
    {
     "name": "stderr",
     "output_type": "stream",
     "text": [
      "100%|███████████████████████████████████████████| 10/10 [01:15<00:00,  7.52s/it]\n"
     ]
    },
    {
     "name": "stdout",
     "output_type": "stream",
     "text": [
      "Iteration : 3\n"
     ]
    },
    {
     "name": "stderr",
     "output_type": "stream",
     "text": [
      "100%|███████████████████████████████████████████| 10/10 [01:19<00:00,  7.90s/it]\n"
     ]
    },
    {
     "name": "stdout",
     "output_type": "stream",
     "text": [
      "Iteration : 4\n"
     ]
    },
    {
     "name": "stderr",
     "output_type": "stream",
     "text": [
      "100%|███████████████████████████████████████████| 10/10 [01:16<00:00,  7.64s/it]\n"
     ]
    },
    {
     "name": "stdout",
     "output_type": "stream",
     "text": [
      "Iteration : 5\n"
     ]
    },
    {
     "name": "stderr",
     "output_type": "stream",
     "text": [
      " 90%|███████████████████████████████████████▌    | 9/10 [01:13<00:08,  8.79s/it]"
     ]
    }
   ],
   "source": [
    "for i in range(100):\n",
    "    print(\"Iteration :\", i+1)\n",
    "    for j in tqdm(range(len(index_lists))):\n",
    "        net = mxp.VirusMultiplex(index_lists[j][i], target_folder=target_folder, virus_metadata=virus_metadata)\n",
    "        tensor = mxp.build.get_node_tensor_from_network_list(net.g_list)\n",
    "        layer_tensor = mxp.build.build_layers_tensor(Layers=net.Layers,\n",
    "                                                     OmegaParameter=layerCouplingStrength, \n",
    "                                                     MultisliceType=networkOfLayersType\n",
    "                                                     )\n",
    "        \n",
    "\n",
    "        supra = mxp.build.build_supra_adjacency_matrix_from_edge_colored_matrices(nodes_tensor=tensor,\n",
    "                                                                               layer_tensor=layer_tensor,\n",
    "                                                                               layers=net.Layers,\n",
    "                                                                               nodes=net.Nodes)\n",
    "\n",
    "\n",
    "        def_mat = supra_transition_matrix_virus(supra=supra,\n",
    "                                                node_tensor = tensor,\n",
    "                                                nodes=net.Nodes,\n",
    "                                                layers=net.Layers,\n",
    "                                                p_intra=1)\n",
    "        \n",
    "        \n",
    "\n",
    "        l_eig = mxp.leading_eigenv_approx.leading_eigenv_approx(def_mat.T)[1]\n",
    "\n",
    "        res_df = pd.DataFrame({\"rep_node\": np.arange(def_mat.shape[0]),\n",
    "                      \"phy_node\": np.arange(def_mat.shape[0])-((np.arange(def_mat.shape[0])//net.Nodes)*net.Nodes),\n",
    "                      \"layer\": np.arange(def_mat.shape[0])//net.Nodes,\n",
    "                      \"prob\": l_eig})\n",
    "\n",
    "        agg_res = res_df.groupby(\"phy_node\").aggregate(sum).sort_values(\"prob\", ascending=False)\n",
    "\n",
    "        list_res = np.array(list(net.node_map.keys()))[agg_res.index[:50]]\n",
    "\n",
    "        np.savetxt(X=list_res, fname=\"list_res.txt\", fmt=\"%s\")\n",
    "\n",
    "        enr_lvc = gp.enrichr(gene_list=\"list_res.txt\", # or \"./tests/data/gene_list.txt\",\n",
    "                             gene_sets=['KEGG_2021_Human'],\n",
    "                             organism='human', # don't forget to set organism to the one you desired! e.g. Yeast\n",
    "                             outdir=None, # don't write to disk\n",
    "                            )\n",
    "        if not os.path.isdir(folder_data+index_names[j]):\n",
    "            os.mkdir(folder_data+index_names[j])\n",
    "        enr_lvc.results.sort_values(\"Adjusted P-value\")[[\"Term\", \"Adjusted P-value\", \"Combined Score\"]].to_csv(folder_data+index_names[j]+\"/\"+str(i)+\".csv\", index=False)"
   ]
  },
  {
   "cell_type": "code",
   "execution_count": 21,
   "id": "ef1360e5-75af-4fc5-b6ce-4b82696ae2bd",
   "metadata": {
    "tags": []
   },
   "outputs": [],
   "source": [
    "enr_lvc.results.sort_values(\"Adjusted P-value\")"
   ]
  }
 ],
 "metadata": {
  "kernelspec": {
   "display_name": "base",
   "language": "python",
   "name": "base"
  },
  "language_info": {
   "codemirror_mode": {
    "name": "ipython",
    "version": 3
   },
   "file_extension": ".py",
   "mimetype": "text/x-python",
   "name": "python",
   "nbconvert_exporter": "python",
   "pygments_lexer": "ipython3",
   "version": "3.10.9"
  }
 },
 "nbformat": 4,
 "nbformat_minor": 5
}
