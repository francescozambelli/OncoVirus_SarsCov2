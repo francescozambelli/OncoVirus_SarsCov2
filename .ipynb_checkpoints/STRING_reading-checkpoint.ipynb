{
 "cells": [
  {
   "cell_type": "code",
   "execution_count": 1,
   "id": "fea59ec0-1804-46a2-8eb6-d7d4b0b25b3c",
   "metadata": {
    "tags": []
   },
   "outputs": [],
   "source": [
    "import sys\n",
    "sys.path.append('..')\n",
    "\n",
    "import numpy as np\n",
    "import pandas as pd\n",
    "import matplotlib.pyplot as plt\n",
    "import scipy as sp\n",
    "import MuxVizPy as mxp\n",
    "import graph_tool as gt\n",
    "from operator import itemgetter\n",
    "from tqdm import tqdm\n",
    "import os\n",
    "\n",
    "import optuna\n",
    "from optuna.samplers import TPESampler, RandomSampler"
   ]
  },
  {
   "cell_type": "code",
   "execution_count": 2,
   "id": "ff67f0f2-5a4d-441c-a36d-c5117eb2b7e8",
   "metadata": {
    "tags": []
   },
   "outputs": [],
   "source": [
    "#dataset with all links from Virus STRING\n",
    "full_links = pd.read_csv(\"../Data/data_STRING/9606.protein.links.full.v10.5.txt\", sep=\" \")"
   ]
  },
  {
   "cell_type": "markdown",
   "id": "eed59706-5a32-46f1-b793-394e8df6d2f3",
   "metadata": {},
   "source": [
    "# HUMAN PPI"
   ]
  },
  {
   "cell_type": "code",
   "execution_count": 3,
   "id": "23d28203-5fe6-474e-94a0-f1730108c1a5",
   "metadata": {
    "tags": []
   },
   "outputs": [
    {
     "name": "stdout",
     "output_type": "stream",
     "text": [
      "Human net edges: 11353056\n",
      "Human net nodes: 19576\n"
     ]
    }
   ],
   "source": [
    "full_links = full_links[(full_links[\"protein2\"].map(lambda x: \"9606\"in x))]\n",
    "print(\"Human net edges:\", len(full_links))\n",
    "print(\"Human net nodes:\", np.unique(np.concatenate([full_links[\"protein1\"].unique(), full_links[\"protein2\"].unique()])).shape[0])"
   ]
  },
  {
   "cell_type": "code",
   "execution_count": 125,
   "id": "874f56bb-051e-4161-a29b-c15057174117",
   "metadata": {
    "tags": []
   },
   "outputs": [
    {
     "data": {
      "text/plain": [
       "0.7788618716796076"
      ]
     },
     "execution_count": 125,
     "metadata": {},
     "output_type": "execute_result"
    }
   ],
   "source": [
    "15247/19576full_links"
   ]
  },
  {
   "cell_type": "code",
   "execution_count": 124,
   "id": "959b41b8-4c06-446e-b4e5-7e70a1dc152d",
   "metadata": {
    "tags": []
   },
   "outputs": [],
   "source": [
    "np.savetxt(X=np.unique(np.concatenate([hum_links[\"protein1\"].unique(), hum_links[\"protein2\"].unique()])),\n",
    "           fname=\"../Data/data_STRING/human_prots.txt\",\n",
    "           fmt=\"%s\")"
   ]
  },
  {
   "cell_type": "code",
   "execution_count": 16,
   "id": "f6652fd2-5f17-4e44-93d7-11ddd59e7cc8",
   "metadata": {
    "tags": []
   },
   "outputs": [
    {
     "name": "stdout",
     "output_type": "stream",
     "text": [
      "Coexpression net edges: 112776\n",
      "Coexpression net nodes: 4499\n"
     ]
    }
   ],
   "source": [
    "coexpr_hum_links = hum_links[(hum_links[\"coexpression\"]>400) | (hum_links[\"coexpression_transferred\"]>400)]\n",
    "print(\"Coexpression net edges:\", len(coexpr_hum_links))\n",
    "print(\"Coexpression net nodes:\", np.unique(np.concatenate([coexpr_hum_links[\"protein1\"], coexpr_hum_links[\"protein2\"]])).shape[0])"
   ]
  },
  {
   "cell_type": "code",
   "execution_count": 4,
   "id": "5b795188-2554-4e85-9d47-26d6cf3d474d",
   "metadata": {
    "tags": []
   },
   "outputs": [
    {
     "name": "stdout",
     "output_type": "stream",
     "text": [
      "HighConfidence links net edges: 719552\n",
      "HighConfidence links net nodes: 15131\n"
     ]
    }
   ],
   "source": [
    "highConf_hum_links = hum_links[hum_links[\"combined_score\"]>700]\n",
    "print(\"HighConfidence links net edges:\", len(highConf_hum_links))\n",
    "print(\"HighConfidence links net nodes:\", np.unique(np.concatenate([highConf_hum_links[\"protein1\"], highConf_hum_links[\"protein2\"]])).shape[0])"
   ]
  },
  {
   "cell_type": "code",
   "execution_count": 11,
   "id": "a5e9f912-78c0-40ea-8134-334d37b8c4eb",
   "metadata": {
    "tags": []
   },
   "outputs": [
    {
     "data": {
      "text/html": [
       "<div>\n",
       "<style scoped>\n",
       "    .dataframe tbody tr th:only-of-type {\n",
       "        vertical-align: middle;\n",
       "    }\n",
       "\n",
       "    .dataframe tbody tr th {\n",
       "        vertical-align: top;\n",
       "    }\n",
       "\n",
       "    .dataframe thead th {\n",
       "        text-align: right;\n",
       "    }\n",
       "</style>\n",
       "<table border=\"1\" class=\"dataframe\">\n",
       "  <thead>\n",
       "    <tr style=\"text-align: right;\">\n",
       "      <th></th>\n",
       "      <th>protein1</th>\n",
       "      <th>protein2</th>\n",
       "      <th>neighborhood_x</th>\n",
       "      <th>neighborhood_transferred_x</th>\n",
       "      <th>fusion_x</th>\n",
       "      <th>cooccurence_x</th>\n",
       "      <th>homology_x</th>\n",
       "      <th>coexpression_x</th>\n",
       "      <th>coexpression_transferred_x</th>\n",
       "      <th>experiments_x</th>\n",
       "      <th>...</th>\n",
       "      <th>homology_y</th>\n",
       "      <th>coexpression_y</th>\n",
       "      <th>coexpression_transferred_y</th>\n",
       "      <th>experiments_y</th>\n",
       "      <th>experiments_transferred_y</th>\n",
       "      <th>database_y</th>\n",
       "      <th>database_transferred_y</th>\n",
       "      <th>textmining_y</th>\n",
       "      <th>textmining_transferred_y</th>\n",
       "      <th>combined_score_y</th>\n",
       "    </tr>\n",
       "  </thead>\n",
       "  <tbody>\n",
       "    <tr>\n",
       "      <th>0</th>\n",
       "      <td>9606.ENSP00000003100</td>\n",
       "      <td>9606.ENSP00000261507</td>\n",
       "      <td>0</td>\n",
       "      <td>0</td>\n",
       "      <td>0</td>\n",
       "      <td>0</td>\n",
       "      <td>0</td>\n",
       "      <td>331</td>\n",
       "      <td>729</td>\n",
       "      <td>0</td>\n",
       "      <td>...</td>\n",
       "      <td>0</td>\n",
       "      <td>331</td>\n",
       "      <td>729</td>\n",
       "      <td>0</td>\n",
       "      <td>717</td>\n",
       "      <td>0</td>\n",
       "      <td>0</td>\n",
       "      <td>493</td>\n",
       "      <td>503</td>\n",
       "      <td>984</td>\n",
       "    </tr>\n",
       "    <tr>\n",
       "      <th>1</th>\n",
       "      <td>9606.ENSP00000003100</td>\n",
       "      <td>9606.ENSP00000322706</td>\n",
       "      <td>0</td>\n",
       "      <td>0</td>\n",
       "      <td>0</td>\n",
       "      <td>0</td>\n",
       "      <td>0</td>\n",
       "      <td>174</td>\n",
       "      <td>464</td>\n",
       "      <td>0</td>\n",
       "      <td>...</td>\n",
       "      <td>0</td>\n",
       "      <td>174</td>\n",
       "      <td>464</td>\n",
       "      <td>0</td>\n",
       "      <td>99</td>\n",
       "      <td>0</td>\n",
       "      <td>0</td>\n",
       "      <td>439</td>\n",
       "      <td>287</td>\n",
       "      <td>811</td>\n",
       "    </tr>\n",
       "    <tr>\n",
       "      <th>2</th>\n",
       "      <td>9606.ENSP00000003100</td>\n",
       "      <td>9606.ENSP00000320604</td>\n",
       "      <td>0</td>\n",
       "      <td>0</td>\n",
       "      <td>0</td>\n",
       "      <td>0</td>\n",
       "      <td>0</td>\n",
       "      <td>0</td>\n",
       "      <td>417</td>\n",
       "      <td>0</td>\n",
       "      <td>...</td>\n",
       "      <td>0</td>\n",
       "      <td>0</td>\n",
       "      <td>417</td>\n",
       "      <td>0</td>\n",
       "      <td>507</td>\n",
       "      <td>0</td>\n",
       "      <td>0</td>\n",
       "      <td>0</td>\n",
       "      <td>469</td>\n",
       "      <td>834</td>\n",
       "    </tr>\n",
       "    <tr>\n",
       "      <th>3</th>\n",
       "      <td>9606.ENSP00000003100</td>\n",
       "      <td>9606.ENSP00000265896</td>\n",
       "      <td>0</td>\n",
       "      <td>0</td>\n",
       "      <td>0</td>\n",
       "      <td>0</td>\n",
       "      <td>0</td>\n",
       "      <td>172</td>\n",
       "      <td>918</td>\n",
       "      <td>0</td>\n",
       "      <td>...</td>\n",
       "      <td>0</td>\n",
       "      <td>172</td>\n",
       "      <td>918</td>\n",
       "      <td>0</td>\n",
       "      <td>276</td>\n",
       "      <td>0</td>\n",
       "      <td>0</td>\n",
       "      <td>504</td>\n",
       "      <td>504</td>\n",
       "      <td>985</td>\n",
       "    </tr>\n",
       "    <tr>\n",
       "      <th>4</th>\n",
       "      <td>9606.ENSP00000003100</td>\n",
       "      <td>9606.ENSP00000360918</td>\n",
       "      <td>0</td>\n",
       "      <td>0</td>\n",
       "      <td>0</td>\n",
       "      <td>0</td>\n",
       "      <td>0</td>\n",
       "      <td>0</td>\n",
       "      <td>417</td>\n",
       "      <td>0</td>\n",
       "      <td>...</td>\n",
       "      <td>0</td>\n",
       "      <td>0</td>\n",
       "      <td>417</td>\n",
       "      <td>0</td>\n",
       "      <td>507</td>\n",
       "      <td>0</td>\n",
       "      <td>0</td>\n",
       "      <td>112</td>\n",
       "      <td>469</td>\n",
       "      <td>846</td>\n",
       "    </tr>\n",
       "    <tr>\n",
       "      <th>...</th>\n",
       "      <td>...</td>\n",
       "      <td>...</td>\n",
       "      <td>...</td>\n",
       "      <td>...</td>\n",
       "      <td>...</td>\n",
       "      <td>...</td>\n",
       "      <td>...</td>\n",
       "      <td>...</td>\n",
       "      <td>...</td>\n",
       "      <td>...</td>\n",
       "      <td>...</td>\n",
       "      <td>...</td>\n",
       "      <td>...</td>\n",
       "      <td>...</td>\n",
       "      <td>...</td>\n",
       "      <td>...</td>\n",
       "      <td>...</td>\n",
       "      <td>...</td>\n",
       "      <td>...</td>\n",
       "      <td>...</td>\n",
       "      <td>...</td>\n",
       "    </tr>\n",
       "    <tr>\n",
       "      <th>61769</th>\n",
       "      <td>9606.ENSP00000473233</td>\n",
       "      <td>9606.ENSP00000262105</td>\n",
       "      <td>0</td>\n",
       "      <td>0</td>\n",
       "      <td>0</td>\n",
       "      <td>0</td>\n",
       "      <td>0</td>\n",
       "      <td>0</td>\n",
       "      <td>720</td>\n",
       "      <td>0</td>\n",
       "      <td>...</td>\n",
       "      <td>0</td>\n",
       "      <td>0</td>\n",
       "      <td>720</td>\n",
       "      <td>0</td>\n",
       "      <td>0</td>\n",
       "      <td>0</td>\n",
       "      <td>0</td>\n",
       "      <td>0</td>\n",
       "      <td>504</td>\n",
       "      <td>855</td>\n",
       "    </tr>\n",
       "    <tr>\n",
       "      <th>61770</th>\n",
       "      <td>9606.ENSP00000473233</td>\n",
       "      <td>9606.ENSP00000229854</td>\n",
       "      <td>0</td>\n",
       "      <td>0</td>\n",
       "      <td>0</td>\n",
       "      <td>0</td>\n",
       "      <td>0</td>\n",
       "      <td>0</td>\n",
       "      <td>667</td>\n",
       "      <td>0</td>\n",
       "      <td>...</td>\n",
       "      <td>0</td>\n",
       "      <td>0</td>\n",
       "      <td>667</td>\n",
       "      <td>0</td>\n",
       "      <td>0</td>\n",
       "      <td>0</td>\n",
       "      <td>0</td>\n",
       "      <td>0</td>\n",
       "      <td>498</td>\n",
       "      <td>825</td>\n",
       "    </tr>\n",
       "    <tr>\n",
       "      <th>61771</th>\n",
       "      <td>9606.ENSP00000473233</td>\n",
       "      <td>9606.ENSP00000307288</td>\n",
       "      <td>0</td>\n",
       "      <td>0</td>\n",
       "      <td>0</td>\n",
       "      <td>0</td>\n",
       "      <td>0</td>\n",
       "      <td>0</td>\n",
       "      <td>667</td>\n",
       "      <td>0</td>\n",
       "      <td>...</td>\n",
       "      <td>0</td>\n",
       "      <td>0</td>\n",
       "      <td>667</td>\n",
       "      <td>0</td>\n",
       "      <td>53</td>\n",
       "      <td>0</td>\n",
       "      <td>0</td>\n",
       "      <td>0</td>\n",
       "      <td>503</td>\n",
       "      <td>829</td>\n",
       "    </tr>\n",
       "    <tr>\n",
       "      <th>61772</th>\n",
       "      <td>9606.ENSP00000473233</td>\n",
       "      <td>9606.ENSP00000233146</td>\n",
       "      <td>0</td>\n",
       "      <td>0</td>\n",
       "      <td>0</td>\n",
       "      <td>0</td>\n",
       "      <td>0</td>\n",
       "      <td>0</td>\n",
       "      <td>595</td>\n",
       "      <td>0</td>\n",
       "      <td>...</td>\n",
       "      <td>0</td>\n",
       "      <td>0</td>\n",
       "      <td>595</td>\n",
       "      <td>0</td>\n",
       "      <td>295</td>\n",
       "      <td>0</td>\n",
       "      <td>0</td>\n",
       "      <td>0</td>\n",
       "      <td>321</td>\n",
       "      <td>789</td>\n",
       "    </tr>\n",
       "    <tr>\n",
       "      <th>61773</th>\n",
       "      <td>9606.ENSP00000473233</td>\n",
       "      <td>9606.ENSP00000322570</td>\n",
       "      <td>0</td>\n",
       "      <td>0</td>\n",
       "      <td>0</td>\n",
       "      <td>0</td>\n",
       "      <td>0</td>\n",
       "      <td>0</td>\n",
       "      <td>733</td>\n",
       "      <td>0</td>\n",
       "      <td>...</td>\n",
       "      <td>0</td>\n",
       "      <td>0</td>\n",
       "      <td>733</td>\n",
       "      <td>0</td>\n",
       "      <td>672</td>\n",
       "      <td>0</td>\n",
       "      <td>0</td>\n",
       "      <td>0</td>\n",
       "      <td>539</td>\n",
       "      <td>956</td>\n",
       "    </tr>\n",
       "  </tbody>\n",
       "</table>\n",
       "<p>61774 rows × 30 columns</p>\n",
       "</div>"
      ],
      "text/plain": [
       "                   protein1              protein2  neighborhood_x  \\\n",
       "0      9606.ENSP00000003100  9606.ENSP00000261507               0   \n",
       "1      9606.ENSP00000003100  9606.ENSP00000322706               0   \n",
       "2      9606.ENSP00000003100  9606.ENSP00000320604               0   \n",
       "3      9606.ENSP00000003100  9606.ENSP00000265896               0   \n",
       "4      9606.ENSP00000003100  9606.ENSP00000360918               0   \n",
       "...                     ...                   ...             ...   \n",
       "61769  9606.ENSP00000473233  9606.ENSP00000262105               0   \n",
       "61770  9606.ENSP00000473233  9606.ENSP00000229854               0   \n",
       "61771  9606.ENSP00000473233  9606.ENSP00000307288               0   \n",
       "61772  9606.ENSP00000473233  9606.ENSP00000233146               0   \n",
       "61773  9606.ENSP00000473233  9606.ENSP00000322570               0   \n",
       "\n",
       "       neighborhood_transferred_x  fusion_x  cooccurence_x  homology_x  \\\n",
       "0                               0         0              0           0   \n",
       "1                               0         0              0           0   \n",
       "2                               0         0              0           0   \n",
       "3                               0         0              0           0   \n",
       "4                               0         0              0           0   \n",
       "...                           ...       ...            ...         ...   \n",
       "61769                           0         0              0           0   \n",
       "61770                           0         0              0           0   \n",
       "61771                           0         0              0           0   \n",
       "61772                           0         0              0           0   \n",
       "61773                           0         0              0           0   \n",
       "\n",
       "       coexpression_x  coexpression_transferred_x  experiments_x  ...  \\\n",
       "0                 331                         729              0  ...   \n",
       "1                 174                         464              0  ...   \n",
       "2                   0                         417              0  ...   \n",
       "3                 172                         918              0  ...   \n",
       "4                   0                         417              0  ...   \n",
       "...               ...                         ...            ...  ...   \n",
       "61769               0                         720              0  ...   \n",
       "61770               0                         667              0  ...   \n",
       "61771               0                         667              0  ...   \n",
       "61772               0                         595              0  ...   \n",
       "61773               0                         733              0  ...   \n",
       "\n",
       "       homology_y  coexpression_y  coexpression_transferred_y  experiments_y  \\\n",
       "0               0             331                         729              0   \n",
       "1               0             174                         464              0   \n",
       "2               0               0                         417              0   \n",
       "3               0             172                         918              0   \n",
       "4               0               0                         417              0   \n",
       "...           ...             ...                         ...            ...   \n",
       "61769           0               0                         720              0   \n",
       "61770           0               0                         667              0   \n",
       "61771           0               0                         667              0   \n",
       "61772           0               0                         595              0   \n",
       "61773           0               0                         733              0   \n",
       "\n",
       "       experiments_transferred_y  database_y  database_transferred_y  \\\n",
       "0                            717           0                       0   \n",
       "1                             99           0                       0   \n",
       "2                            507           0                       0   \n",
       "3                            276           0                       0   \n",
       "4                            507           0                       0   \n",
       "...                          ...         ...                     ...   \n",
       "61769                          0           0                       0   \n",
       "61770                          0           0                       0   \n",
       "61771                         53           0                       0   \n",
       "61772                        295           0                       0   \n",
       "61773                        672           0                       0   \n",
       "\n",
       "       textmining_y  textmining_transferred_y  combined_score_y  \n",
       "0               493                       503               984  \n",
       "1               439                       287               811  \n",
       "2                 0                       469               834  \n",
       "3               504                       504               985  \n",
       "4               112                       469               846  \n",
       "...             ...                       ...               ...  \n",
       "61769             0                       504               855  \n",
       "61770             0                       498               825  \n",
       "61771             0                       503               829  \n",
       "61772             0                       321               789  \n",
       "61773             0                       539               956  \n",
       "\n",
       "[61774 rows x 30 columns]"
      ]
     },
     "execution_count": 11,
     "metadata": {},
     "output_type": "execute_result"
    }
   ],
   "source": [
    "pd.merge(coexpr_hum_links, highConf_hum_links, how='inner', on=['protein1', 'protein2'])"
   ]
  },
  {
   "cell_type": "code",
   "execution_count": 7,
   "id": "fa51d0a4-b142-4223-aac2-7bf1d2336752",
   "metadata": {
    "tags": []
   },
   "outputs": [],
   "source": [
    "def create_human_g(filt_df, mapper_pos):\n",
    "    un_p = np.unique(np.concatenate([filt_df[\"protein1\"].to_numpy(), \n",
    "                                     filt_df[\"protein2\"].to_numpy()]))\n",
    "    pd.DataFrame({\"ProgNumber\": np.arange(len(un_p)), \"Prot\": un_p}).to_csv(\"../Data/data_STRING/\"+mapper_pos, index=False)\n",
    "    number_mapper = pd.read_csv(\"../Data/data_STRING/\"+mapper_pos)\n",
    "    number_dict = dict(zip(number_mapper[\"Prot\"], number_mapper[\"ProgNumber\"]))\n",
    "    edge_df = pd.DataFrame({\"source\": filt_df[\"protein1\"].map(number_dict).values, \n",
    "                            \"target\": filt_df[\"protein2\"].map(number_dict).values})\n",
    "    human_g = gt.Graph(directed=False)\n",
    "    human_g.add_edge_list(edge_df.values)\n",
    "    \n",
    "    return human_g"
   ]
  },
  {
   "cell_type": "code",
   "execution_count": 118,
   "id": "6e550c80-4aa2-41e3-b8fe-1dbb1e58385c",
   "metadata": {
    "tags": []
   },
   "outputs": [],
   "source": [
    "def node_mapper(df):\n",
    "    #mapping between node ID and name\n",
    "    mapper = pd.read_csv(\"../Data/data_STRING/9606.protein.info.v11.5.txt\", sep=\"\\t\")\n",
    "    mapper_dict = dict(zip(mapper[\"#string_protein_id\"], mapper[\"preferred_name\"]))\n",
    "\n",
    "    #load ncbi database\n",
    "    ncbi = pd.read_csv(\"../Data/data_BIOGRID/Homo_sapiens.gene_info\", sep=\"\\t\")\n",
    "    symbols = ncbi[\"Symbol\"]\n",
    "    synonyms = [ncbi[\"Synonyms\"][i].split(\"|\") for i in range(len(ncbi))]\n",
    "    unique_synonims = np.unique(np.concatenate(synonyms))\n",
    "\n",
    "    df[\"p1name\"] = df[\"protein1\"].map(mapper_dict)\n",
    "    df[\"p2name\"] = df[\"protein2\"].map(mapper_dict)\n",
    "\n",
    "    df_conv1 = df[[\"p1name\", \"p2name\"]].dropna().reset_index(drop=True)\n",
    "    df_conv1_nodes = np.unique(df_conv1.to_numpy()) #pd.concat([df_conv1[\"p1name\"], df_conv1[\"p2name\"]]).unique()\n",
    "\n",
    "    chg_idx = np.where(np.logical_not(np.isin(df_conv1_nodes, symbols)))[0]\n",
    "    but_synon = np.isin(df_conv1_nodes[chg_idx], unique_synonims)\n",
    "\n",
    "    new_names = []\n",
    "    for i in tqdm(range(len(chg_idx))):\n",
    "        if but_synon[i]:\n",
    "            new_names.append(symbols[([df_conv1_nodes[chg_idx[i]] in s for s in synonyms])].values[0])\n",
    "        else:\n",
    "            new_names.append(df_conv1_nodes[chg_idx[i]])\n",
    "\n",
    "    df_conv2_nodes = np.copy(df_conv1_nodes)\n",
    "    df_conv2_nodes[chg_idx] = new_names\n",
    "    df_conv2_nodes[chg_idx[np.logical_not(but_synon)]] = np.nan\n",
    "\n",
    "    mapper2_dict= dict(zip(df_conv1_nodes, df_conv2_nodes))\n",
    "\n",
    "    df_conv2 = df_conv1.copy()\n",
    "    df_conv2[\"p1name\"] = df_conv2[\"p1name\"].map(mapper2_dict)\n",
    "    df_conv2[\"p2name\"] = df_conv2[\"p2name\"].map(mapper2_dict)\n",
    "    df_conv2 = df_conv2.dropna().reset_index(drop=True)\n",
    "\n",
    "    df_conv2_nodes = np.unique(df_conv1.to_numpy())\n",
    "    \n",
    "    return {\"mapping_1\": [df_conv1, df_conv1_nodes, mapper_dict], \"mapping_2\": [df_conv2, df_conv2_nodes, mapper2_dict]}"
   ]
  },
  {
   "cell_type": "code",
   "execution_count": 119,
   "id": "866def9a-dc54-4d3f-82d2-397c40808254",
   "metadata": {
    "tags": []
   },
   "outputs": [
    {
     "name": "stderr",
     "output_type": "stream",
     "text": [
      "100%|█████████████████████████████████████████| 240/240 [00:10<00:00, 22.58it/s]\n"
     ]
    }
   ],
   "source": [
    "maps = node_mapper(coexpr_hum_links)"
   ]
  },
  {
   "cell_type": "code",
   "execution_count": 122,
   "id": "0e332ce9-bad8-47ef-86b2-93e9a745ff61",
   "metadata": {
    "tags": []
   },
   "outputs": [
    {
     "data": {
      "text/html": [
       "<div>\n",
       "<style scoped>\n",
       "    .dataframe tbody tr th:only-of-type {\n",
       "        vertical-align: middle;\n",
       "    }\n",
       "\n",
       "    .dataframe tbody tr th {\n",
       "        vertical-align: top;\n",
       "    }\n",
       "\n",
       "    .dataframe thead th {\n",
       "        text-align: right;\n",
       "    }\n",
       "</style>\n",
       "<table border=\"1\" class=\"dataframe\">\n",
       "  <thead>\n",
       "    <tr style=\"text-align: right;\">\n",
       "      <th></th>\n",
       "      <th>p1name</th>\n",
       "      <th>p2name</th>\n",
       "    </tr>\n",
       "  </thead>\n",
       "  <tbody>\n",
       "    <tr>\n",
       "      <th>0</th>\n",
       "      <td>FKBP4</td>\n",
       "      <td>RRP1</td>\n",
       "    </tr>\n",
       "    <tr>\n",
       "      <th>1</th>\n",
       "      <td>FKBP4</td>\n",
       "      <td>PES1</td>\n",
       "    </tr>\n",
       "    <tr>\n",
       "      <th>2</th>\n",
       "      <td>FKBP4</td>\n",
       "      <td>GMPS</td>\n",
       "    </tr>\n",
       "    <tr>\n",
       "      <th>3</th>\n",
       "      <td>FKBP4</td>\n",
       "      <td>RRS1</td>\n",
       "    </tr>\n",
       "    <tr>\n",
       "      <th>4</th>\n",
       "      <td>FKBP4</td>\n",
       "      <td>RRP1B</td>\n",
       "    </tr>\n",
       "    <tr>\n",
       "      <th>...</th>\n",
       "      <td>...</td>\n",
       "      <td>...</td>\n",
       "    </tr>\n",
       "    <tr>\n",
       "      <th>73565</th>\n",
       "      <td>ENSG00000142539</td>\n",
       "      <td>TTK</td>\n",
       "    </tr>\n",
       "    <tr>\n",
       "      <th>73566</th>\n",
       "      <td>ENSG00000142539</td>\n",
       "      <td>MCM7</td>\n",
       "    </tr>\n",
       "    <tr>\n",
       "      <th>73567</th>\n",
       "      <td>ENSG00000142539</td>\n",
       "      <td>MSH2</td>\n",
       "    </tr>\n",
       "    <tr>\n",
       "      <th>73568</th>\n",
       "      <td>ENSG00000142539</td>\n",
       "      <td>TUBGCP6</td>\n",
       "    </tr>\n",
       "    <tr>\n",
       "      <th>73569</th>\n",
       "      <td>ENSG00000142539</td>\n",
       "      <td>POLE</td>\n",
       "    </tr>\n",
       "  </tbody>\n",
       "</table>\n",
       "<p>73570 rows × 2 columns</p>\n",
       "</div>"
      ],
      "text/plain": [
       "                p1name   p2name\n",
       "0                FKBP4     RRP1\n",
       "1                FKBP4     PES1\n",
       "2                FKBP4     GMPS\n",
       "3                FKBP4     RRS1\n",
       "4                FKBP4    RRP1B\n",
       "...                ...      ...\n",
       "73565  ENSG00000142539      TTK\n",
       "73566  ENSG00000142539     MCM7\n",
       "73567  ENSG00000142539     MSH2\n",
       "73568  ENSG00000142539  TUBGCP6\n",
       "73569  ENSG00000142539     POLE\n",
       "\n",
       "[73570 rows x 2 columns]"
      ]
     },
     "execution_count": 122,
     "metadata": {},
     "output_type": "execute_result"
    }
   ],
   "source": [
    "maps[\"mapping_1\"][0]"
   ]
  },
  {
   "cell_type": "code",
   "execution_count": 5,
   "id": "9ed42be5-d75b-4f35-979e-62ac897104eb",
   "metadata": {
    "tags": []
   },
   "outputs": [],
   "source": [
    "unip_su = pd.read_csv(\"../Data/data_STRING/uniprot_string_to_uniprot.tsv\", sep=\"\\t\")"
   ]
  },
  {
   "cell_type": "code",
   "execution_count": 7,
   "id": "48ab2af3-d4d3-4068-805a-53e4c74c831b",
   "metadata": {
    "tags": []
   },
   "outputs": [],
   "source": [
    "unip_su_dict = dict(zip(unip_su[\"From\"], unip_su[\"Entry\"]))"
   ]
  },
  {
   "cell_type": "code",
   "execution_count": 10,
   "id": "77c81763-459f-402b-8548-304e50feb09f",
   "metadata": {
    "tags": []
   },
   "outputs": [],
   "source": [
    "full_links[\"p1\"] = full_links[\"protein1\"].map(unip_su_dict)\n",
    "full_links[\"p2\"] = full_links[\"protein2\"].map(unip_su_dict)"
   ]
  },
  {
   "cell_type": "code",
   "execution_count": 14,
   "id": "d2ef9532-1bc9-44e4-bc79-9dbfe562d21e",
   "metadata": {
    "tags": []
   },
   "outputs": [
    {
     "data": {
      "text/plain": [
       "(15245,)"
      ]
     },
     "execution_count": 14,
     "metadata": {},
     "output_type": "execute_result"
    }
   ],
   "source": [
    "np.unique(full_links.dropna()[[\"p1\",\"p2\"]].to_numpy()).shape"
   ]
  },
  {
   "cell_type": "code",
   "execution_count": 16,
   "id": "5edd2a01-8a19-4ba6-8ee6-50b02ffbbc0f",
   "metadata": {
    "tags": []
   },
   "outputs": [
    {
     "data": {
      "text/plain": [
       "0.6218190062658019"
      ]
     },
     "execution_count": 16,
     "metadata": {},
     "output_type": "execute_result"
    }
   ],
   "source": [
    "7059546/11353056"
   ]
  },
  {
   "cell_type": "code",
   "execution_count": 60,
   "id": "9f24d05e-fd35-4a75-b15d-457701e75cd6",
   "metadata": {
    "tags": []
   },
   "outputs": [
    {
     "data": {
      "text/plain": [
       "<Graph object, undirected, with 4499 vertices and 112776 edges, at 0x7ff442b4e050>"
      ]
     },
     "execution_count": 60,
     "metadata": {},
     "output_type": "execute_result"
    }
   ],
   "source": [
    "human_g_coex = create_human_g(filt_df=coexpr_hum_links, mapper_pos=\"unique_prot_coex.csv\")\n",
    "human_g_coex"
   ]
  },
  {
   "cell_type": "code",
   "execution_count": 8,
   "id": "a392385d-14b8-433c-bebc-a19d07bfbd4a",
   "metadata": {
    "tags": []
   },
   "outputs": [
    {
     "data": {
      "text/plain": [
       "<Graph object, undirected, with 15131 vertices and 719552 edges, at 0x7fb2cf95bee0>"
      ]
     },
     "execution_count": 8,
     "metadata": {},
     "output_type": "execute_result"
    }
   ],
   "source": [
    "human_highConf = create_human_g(filt_df=highConf_hum_links, mapper_pos=\"unique_prot_highConf.csv\")\n",
    "human_highConf"
   ]
  },
  {
   "cell_type": "code",
   "execution_count": null,
   "id": "d8c430ed-643f-4ed5-991a-4c28b1653b83",
   "metadata": {},
   "outputs": [],
   "source": [
    "#mapping between node ID and name\n",
    "mapper = pd.read_csv(\"../Data/data_STRING/9606.protein.info.v11.5.txt\", sep=\"\\t\")\n",
    "mapper_dict = dict(zip(mapper[\"#string_protein_id\"], mapper[\"preferred_name\"]))\n",
    "\n",
    "co_res = coexpr_hum_links[(coexpr_hum_links[\"protein1\"].isin(mapper[\"#string_protein_id\"])) & coexpr_hum_links[\"protein2\"].isin(mapper[\"#string_protein_id\"])]\n",
    "co_res[\"protein1_name\"]=itemgetter(*co_res[\"protein1\"].to_list())(mapper_dict)\n",
    "co_res[\"protein2_name\"]=itemgetter(*co_res[\"protein2\"].to_list())(mapper_dict)"
   ]
  },
  {
   "cell_type": "markdown",
   "id": "5631f2e5-213c-4847-b436-08cb86f8c819",
   "metadata": {},
   "source": [
    "# From STRING.viruses dataset exctract human proteins directly targeted by viruses and uniform names to NCBI"
   ]
  },
  {
   "cell_type": "code",
   "execution_count": 2,
   "id": "b07e1f18-9fff-4d65-986f-fd5b29aad895",
   "metadata": {
    "tags": []
   },
   "outputs": [
    {
     "ename": "NameError",
     "evalue": "name 'full_links' is not defined",
     "output_type": "error",
     "traceback": [
      "\u001b[0;31m---------------------------------------------------------------------------\u001b[0m",
      "\u001b[0;31mNameError\u001b[0m                                 Traceback (most recent call last)",
      "Cell \u001b[0;32mIn[2], line 3\u001b[0m\n\u001b[1;32m      1\u001b[0m \u001b[38;5;66;03m#only interactions between virus and human\u001b[39;00m\n\u001b[1;32m      2\u001b[0m links \u001b[38;5;241m=\u001b[39m pd\u001b[38;5;241m.\u001b[39mread_csv(\u001b[38;5;124m\"\u001b[39m\u001b[38;5;124m../Data/data_STRING/9606.protein.links.full.v10.5.txt\u001b[39m\u001b[38;5;124m\"\u001b[39m, sep\u001b[38;5;241m=\u001b[39m\u001b[38;5;124m\"\u001b[39m\u001b[38;5;124m \u001b[39m\u001b[38;5;124m\"\u001b[39m)\n\u001b[0;32m----> 3\u001b[0m links \u001b[38;5;241m=\u001b[39m \u001b[43mfull_links\u001b[49m[(full_links[\u001b[38;5;124m\"\u001b[39m\u001b[38;5;124mprotein2\u001b[39m\u001b[38;5;124m\"\u001b[39m]\u001b[38;5;241m.\u001b[39mmap(\u001b[38;5;28;01mlambda\u001b[39;00m x: \u001b[38;5;129;01mnot\u001b[39;00m(\u001b[38;5;124m\"\u001b[39m\u001b[38;5;124m9606\u001b[39m\u001b[38;5;124m\"\u001b[39m\u001b[38;5;129;01min\u001b[39;00m x)))]\n\u001b[1;32m      4\u001b[0m links \u001b[38;5;241m=\u001b[39m links\u001b[38;5;241m.\u001b[39mreset_index(drop\u001b[38;5;241m=\u001b[39m\u001b[38;5;28;01mTrue\u001b[39;00m)\n\u001b[1;32m      5\u001b[0m viruses_code \u001b[38;5;241m=\u001b[39m np\u001b[38;5;241m.\u001b[39munique(links[\u001b[38;5;124m\"\u001b[39m\u001b[38;5;124mprotein2\u001b[39m\u001b[38;5;124m\"\u001b[39m]\u001b[38;5;241m.\u001b[39mmap(\u001b[38;5;28;01mlambda\u001b[39;00m x: x\u001b[38;5;241m.\u001b[39msplit(\u001b[38;5;124m\"\u001b[39m\u001b[38;5;124m.\u001b[39m\u001b[38;5;124m\"\u001b[39m)[\u001b[38;5;241m0\u001b[39m])\u001b[38;5;241m.\u001b[39mto_numpy())\n",
      "\u001b[0;31mNameError\u001b[0m: name 'full_links' is not defined"
     ]
    }
   ],
   "source": [
    "#only interactions between virus and human\n",
    "links = pd.read_csv(\"../Data/data_STRING/9606.protein.links.full.v10.5.txt\", sep=\" \")\n"
   ]
  },
  {
   "cell_type": "code",
   "execution_count": 3,
   "id": "f562add2-fd45-4ecb-a663-6e11b66be1fa",
   "metadata": {
    "tags": []
   },
   "outputs": [],
   "source": [
    "links = links[(links[\"protein2\"].map(lambda x: not(\"9606\"in x)))]\n",
    "links = links.reset_index(drop=True)\n",
    "viruses_code = np.unique(links[\"protein2\"].map(lambda x: x.split(\".\")[0]).to_numpy())"
   ]
  },
  {
   "cell_type": "code",
   "execution_count": 4,
   "id": "c05dec40-719f-4ba1-8ced-9ed734c24a35",
   "metadata": {
    "tags": []
   },
   "outputs": [
    {
     "data": {
      "text/html": [
       "<div>\n",
       "<style scoped>\n",
       "    .dataframe tbody tr th:only-of-type {\n",
       "        vertical-align: middle;\n",
       "    }\n",
       "\n",
       "    .dataframe tbody tr th {\n",
       "        vertical-align: top;\n",
       "    }\n",
       "\n",
       "    .dataframe thead th {\n",
       "        text-align: right;\n",
       "    }\n",
       "</style>\n",
       "<table border=\"1\" class=\"dataframe\">\n",
       "  <thead>\n",
       "    <tr style=\"text-align: right;\">\n",
       "      <th></th>\n",
       "      <th>protein1</th>\n",
       "      <th>protein2</th>\n",
       "      <th>neighborhood</th>\n",
       "      <th>neighborhood_transferred</th>\n",
       "      <th>fusion</th>\n",
       "      <th>cooccurence</th>\n",
       "      <th>homology</th>\n",
       "      <th>coexpression</th>\n",
       "      <th>coexpression_transferred</th>\n",
       "      <th>experiments</th>\n",
       "      <th>experiments_transferred</th>\n",
       "      <th>database</th>\n",
       "      <th>database_transferred</th>\n",
       "      <th>textmining</th>\n",
       "      <th>textmining_transferred</th>\n",
       "      <th>combined_score</th>\n",
       "    </tr>\n",
       "  </thead>\n",
       "  <tbody>\n",
       "    <tr>\n",
       "      <th>0</th>\n",
       "      <td>9606.ENSP00000000233</td>\n",
       "      <td>10258.Q6TVW1_ORFSA</td>\n",
       "      <td>0</td>\n",
       "      <td>0</td>\n",
       "      <td>0</td>\n",
       "      <td>0</td>\n",
       "      <td>0</td>\n",
       "      <td>0</td>\n",
       "      <td>0</td>\n",
       "      <td>0</td>\n",
       "      <td>0</td>\n",
       "      <td>0</td>\n",
       "      <td>0</td>\n",
       "      <td>0</td>\n",
       "      <td>188</td>\n",
       "      <td>188</td>\n",
       "    </tr>\n",
       "    <tr>\n",
       "      <th>1</th>\n",
       "      <td>9606.ENSP00000000233</td>\n",
       "      <td>10279.Q98187_MCV1</td>\n",
       "      <td>0</td>\n",
       "      <td>0</td>\n",
       "      <td>0</td>\n",
       "      <td>0</td>\n",
       "      <td>0</td>\n",
       "      <td>0</td>\n",
       "      <td>0</td>\n",
       "      <td>0</td>\n",
       "      <td>0</td>\n",
       "      <td>0</td>\n",
       "      <td>0</td>\n",
       "      <td>0</td>\n",
       "      <td>188</td>\n",
       "      <td>188</td>\n",
       "    </tr>\n",
       "    <tr>\n",
       "      <th>2</th>\n",
       "      <td>9606.ENSP00000000233</td>\n",
       "      <td>10298.GM_HHV11</td>\n",
       "      <td>0</td>\n",
       "      <td>0</td>\n",
       "      <td>0</td>\n",
       "      <td>0</td>\n",
       "      <td>0</td>\n",
       "      <td>0</td>\n",
       "      <td>0</td>\n",
       "      <td>0</td>\n",
       "      <td>0</td>\n",
       "      <td>0</td>\n",
       "      <td>0</td>\n",
       "      <td>17</td>\n",
       "      <td>336</td>\n",
       "      <td>336</td>\n",
       "    </tr>\n",
       "    <tr>\n",
       "      <th>3</th>\n",
       "      <td>9606.ENSP00000000233</td>\n",
       "      <td>37296.ORF4_HHV8P</td>\n",
       "      <td>0</td>\n",
       "      <td>0</td>\n",
       "      <td>0</td>\n",
       "      <td>0</td>\n",
       "      <td>0</td>\n",
       "      <td>0</td>\n",
       "      <td>0</td>\n",
       "      <td>0</td>\n",
       "      <td>0</td>\n",
       "      <td>0</td>\n",
       "      <td>0</td>\n",
       "      <td>91</td>\n",
       "      <td>109</td>\n",
       "      <td>155</td>\n",
       "    </tr>\n",
       "    <tr>\n",
       "      <th>4</th>\n",
       "      <td>9606.ENSP00000000233</td>\n",
       "      <td>195054.PRO_0000039759</td>\n",
       "      <td>0</td>\n",
       "      <td>0</td>\n",
       "      <td>0</td>\n",
       "      <td>0</td>\n",
       "      <td>0</td>\n",
       "      <td>0</td>\n",
       "      <td>0</td>\n",
       "      <td>0</td>\n",
       "      <td>0</td>\n",
       "      <td>0</td>\n",
       "      <td>0</td>\n",
       "      <td>0</td>\n",
       "      <td>329</td>\n",
       "      <td>329</td>\n",
       "    </tr>\n",
       "    <tr>\n",
       "      <th>...</th>\n",
       "      <td>...</td>\n",
       "      <td>...</td>\n",
       "      <td>...</td>\n",
       "      <td>...</td>\n",
       "      <td>...</td>\n",
       "      <td>...</td>\n",
       "      <td>...</td>\n",
       "      <td>...</td>\n",
       "      <td>...</td>\n",
       "      <td>...</td>\n",
       "      <td>...</td>\n",
       "      <td>...</td>\n",
       "      <td>...</td>\n",
       "      <td>...</td>\n",
       "      <td>...</td>\n",
       "      <td>...</td>\n",
       "    </tr>\n",
       "    <tr>\n",
       "      <th>84004</th>\n",
       "      <td>9606.ENSP00000473243</td>\n",
       "      <td>10310.GB_HHV2H</td>\n",
       "      <td>0</td>\n",
       "      <td>0</td>\n",
       "      <td>0</td>\n",
       "      <td>0</td>\n",
       "      <td>0</td>\n",
       "      <td>0</td>\n",
       "      <td>0</td>\n",
       "      <td>0</td>\n",
       "      <td>0</td>\n",
       "      <td>0</td>\n",
       "      <td>0</td>\n",
       "      <td>0</td>\n",
       "      <td>227</td>\n",
       "      <td>227</td>\n",
       "    </tr>\n",
       "    <tr>\n",
       "      <th>84005</th>\n",
       "      <td>9606.ENSP00000473243</td>\n",
       "      <td>10298.GB_HHV11</td>\n",
       "      <td>0</td>\n",
       "      <td>0</td>\n",
       "      <td>0</td>\n",
       "      <td>0</td>\n",
       "      <td>0</td>\n",
       "      <td>0</td>\n",
       "      <td>0</td>\n",
       "      <td>0</td>\n",
       "      <td>0</td>\n",
       "      <td>0</td>\n",
       "      <td>0</td>\n",
       "      <td>0</td>\n",
       "      <td>227</td>\n",
       "      <td>227</td>\n",
       "    </tr>\n",
       "    <tr>\n",
       "      <th>84006</th>\n",
       "      <td>9606.ENSP00000473243</td>\n",
       "      <td>10335.GB_VZVD</td>\n",
       "      <td>0</td>\n",
       "      <td>0</td>\n",
       "      <td>0</td>\n",
       "      <td>0</td>\n",
       "      <td>0</td>\n",
       "      <td>0</td>\n",
       "      <td>0</td>\n",
       "      <td>0</td>\n",
       "      <td>0</td>\n",
       "      <td>0</td>\n",
       "      <td>0</td>\n",
       "      <td>0</td>\n",
       "      <td>227</td>\n",
       "      <td>227</td>\n",
       "    </tr>\n",
       "    <tr>\n",
       "      <th>84007</th>\n",
       "      <td>9606.ENSP00000473243</td>\n",
       "      <td>10359.GB_HCMVM</td>\n",
       "      <td>0</td>\n",
       "      <td>0</td>\n",
       "      <td>0</td>\n",
       "      <td>0</td>\n",
       "      <td>0</td>\n",
       "      <td>0</td>\n",
       "      <td>0</td>\n",
       "      <td>0</td>\n",
       "      <td>0</td>\n",
       "      <td>0</td>\n",
       "      <td>0</td>\n",
       "      <td>0</td>\n",
       "      <td>227</td>\n",
       "      <td>227</td>\n",
       "    </tr>\n",
       "    <tr>\n",
       "      <th>84008</th>\n",
       "      <td>9606.ENSP00000473243</td>\n",
       "      <td>10376.GB_EBVB9</td>\n",
       "      <td>0</td>\n",
       "      <td>0</td>\n",
       "      <td>0</td>\n",
       "      <td>0</td>\n",
       "      <td>0</td>\n",
       "      <td>0</td>\n",
       "      <td>0</td>\n",
       "      <td>0</td>\n",
       "      <td>0</td>\n",
       "      <td>0</td>\n",
       "      <td>0</td>\n",
       "      <td>0</td>\n",
       "      <td>227</td>\n",
       "      <td>227</td>\n",
       "    </tr>\n",
       "  </tbody>\n",
       "</table>\n",
       "<p>84009 rows × 16 columns</p>\n",
       "</div>"
      ],
      "text/plain": [
       "                   protein1               protein2  neighborhood  \\\n",
       "0      9606.ENSP00000000233     10258.Q6TVW1_ORFSA             0   \n",
       "1      9606.ENSP00000000233      10279.Q98187_MCV1             0   \n",
       "2      9606.ENSP00000000233         10298.GM_HHV11             0   \n",
       "3      9606.ENSP00000000233       37296.ORF4_HHV8P             0   \n",
       "4      9606.ENSP00000000233  195054.PRO_0000039759             0   \n",
       "...                     ...                    ...           ...   \n",
       "84004  9606.ENSP00000473243         10310.GB_HHV2H             0   \n",
       "84005  9606.ENSP00000473243         10298.GB_HHV11             0   \n",
       "84006  9606.ENSP00000473243          10335.GB_VZVD             0   \n",
       "84007  9606.ENSP00000473243         10359.GB_HCMVM             0   \n",
       "84008  9606.ENSP00000473243         10376.GB_EBVB9             0   \n",
       "\n",
       "       neighborhood_transferred  fusion  cooccurence  homology  coexpression  \\\n",
       "0                             0       0            0         0             0   \n",
       "1                             0       0            0         0             0   \n",
       "2                             0       0            0         0             0   \n",
       "3                             0       0            0         0             0   \n",
       "4                             0       0            0         0             0   \n",
       "...                         ...     ...          ...       ...           ...   \n",
       "84004                         0       0            0         0             0   \n",
       "84005                         0       0            0         0             0   \n",
       "84006                         0       0            0         0             0   \n",
       "84007                         0       0            0         0             0   \n",
       "84008                         0       0            0         0             0   \n",
       "\n",
       "       coexpression_transferred  experiments  experiments_transferred  \\\n",
       "0                             0            0                        0   \n",
       "1                             0            0                        0   \n",
       "2                             0            0                        0   \n",
       "3                             0            0                        0   \n",
       "4                             0            0                        0   \n",
       "...                         ...          ...                      ...   \n",
       "84004                         0            0                        0   \n",
       "84005                         0            0                        0   \n",
       "84006                         0            0                        0   \n",
       "84007                         0            0                        0   \n",
       "84008                         0            0                        0   \n",
       "\n",
       "       database  database_transferred  textmining  textmining_transferred  \\\n",
       "0             0                     0           0                     188   \n",
       "1             0                     0           0                     188   \n",
       "2             0                     0          17                     336   \n",
       "3             0                     0          91                     109   \n",
       "4             0                     0           0                     329   \n",
       "...         ...                   ...         ...                     ...   \n",
       "84004         0                     0           0                     227   \n",
       "84005         0                     0           0                     227   \n",
       "84006         0                     0           0                     227   \n",
       "84007         0                     0           0                     227   \n",
       "84008         0                     0           0                     227   \n",
       "\n",
       "       combined_score  \n",
       "0                 188  \n",
       "1                 188  \n",
       "2                 336  \n",
       "3                 155  \n",
       "4                 329  \n",
       "...               ...  \n",
       "84004             227  \n",
       "84005             227  \n",
       "84006             227  \n",
       "84007             227  \n",
       "84008             227  \n",
       "\n",
       "[84009 rows x 16 columns]"
      ]
     },
     "execution_count": 4,
     "metadata": {},
     "output_type": "execute_result"
    }
   ],
   "source": [
    "links"
   ]
  },
  {
   "cell_type": "code",
   "execution_count": 19,
   "id": "b311ccd6-8453-4347-a8d7-026b55e74cac",
   "metadata": {
    "tags": []
   },
   "outputs": [],
   "source": [
    "np.savetxt(X=links[\"protein1\"].unique(), fname=\"string_prot.txt\", fmt=\"%s\")"
   ]
  },
  {
   "cell_type": "code",
   "execution_count": 6,
   "id": "b949cc90-c7b5-4ec5-834c-2235a5c7c66d",
   "metadata": {
    "tags": []
   },
   "outputs": [],
   "source": [
    "#correspondance between name of virus and taxonomic code\n",
    "codevir = pd.read_csv(\"../Data/data_STRING/viruses_codes.txt\", sep=\"\\t\")\n",
    "\n",
    "virus_name = []\n",
    "virus_name_len = []\n",
    "for s in viruses_code:\n",
    "    if len(codevir[codevir[\"## taxon_id\"]==int(s)][\"official_name_NCBI\"].to_list())==0:\n",
    "        virus_name.append(\"\")\n",
    "        virus_name_len.append(0)\n",
    "    else:\n",
    "        virus_name.append(codevir[codevir[\"## taxon_id\"]==int(s)][\"official_name_NCBI\"].to_list()[0])\n",
    "        virus_name_len.append(1)\n",
    "\n",
    "virus_names_df = pd.DataFrame({\"name\": virus_name, \"ID\": viruses_code})\n",
    "virus_names_dict = dict(zip(viruses_code, virus_name))\n",
    "ID_nonzeronames = np.array(virus_names_df[virus_names_df[\"name\"]!=\"\"].ID)"
   ]
  },
  {
   "cell_type": "code",
   "execution_count": 7,
   "id": "5c427c5c-5385-44a3-8383-92e7f28905d1",
   "metadata": {
    "tags": []
   },
   "outputs": [],
   "source": [
    "#filter only links with protein2 corresponding to known virus\n",
    "links_pul = links[(links[\"protein2\"].map(lambda x: np.any(x.split(\".\")[0] in ID_nonzeronames)))].reset_index(drop=True)\n",
    "\n",
    "#links_pul[\"protein1\"]=links_pul[\"protein1\"].map(lambda x: x.split(\".\")[1])\n",
    "links_pul[\"virus\"]=links_pul[\"protein2\"].map(lambda x: x.split(\".\")[0])\n",
    "#links_pul[\"protein2\"]=links_pul[\"protein2\"].map(lambda x: x.split(\".\")[1])\n",
    "links_pul[\"virus_name\"]=itemgetter(*links_pul[\"virus\"].to_list())(virus_names_dict)"
   ]
  },
  {
   "cell_type": "code",
   "execution_count": 8,
   "id": "cbc52116-3765-4e28-b76c-bcd7cf97f679",
   "metadata": {
    "tags": []
   },
   "outputs": [
    {
     "data": {
      "text/html": [
       "<div>\n",
       "<style scoped>\n",
       "    .dataframe tbody tr th:only-of-type {\n",
       "        vertical-align: middle;\n",
       "    }\n",
       "\n",
       "    .dataframe tbody tr th {\n",
       "        vertical-align: top;\n",
       "    }\n",
       "\n",
       "    .dataframe thead th {\n",
       "        text-align: right;\n",
       "    }\n",
       "</style>\n",
       "<table border=\"1\" class=\"dataframe\">\n",
       "  <thead>\n",
       "    <tr style=\"text-align: right;\">\n",
       "      <th></th>\n",
       "      <th>protein1</th>\n",
       "      <th>protein2</th>\n",
       "      <th>neighborhood</th>\n",
       "      <th>neighborhood_transferred</th>\n",
       "      <th>fusion</th>\n",
       "      <th>cooccurence</th>\n",
       "      <th>homology</th>\n",
       "      <th>coexpression</th>\n",
       "      <th>coexpression_transferred</th>\n",
       "      <th>experiments</th>\n",
       "      <th>experiments_transferred</th>\n",
       "      <th>database</th>\n",
       "      <th>database_transferred</th>\n",
       "      <th>textmining</th>\n",
       "      <th>textmining_transferred</th>\n",
       "      <th>combined_score</th>\n",
       "      <th>virus</th>\n",
       "      <th>virus_name</th>\n",
       "    </tr>\n",
       "  </thead>\n",
       "  <tbody>\n",
       "    <tr>\n",
       "      <th>0</th>\n",
       "      <td>9606.ENSP00000000233</td>\n",
       "      <td>10258.Q6TVW1_ORFSA</td>\n",
       "      <td>0</td>\n",
       "      <td>0</td>\n",
       "      <td>0</td>\n",
       "      <td>0</td>\n",
       "      <td>0</td>\n",
       "      <td>0</td>\n",
       "      <td>0</td>\n",
       "      <td>0</td>\n",
       "      <td>0</td>\n",
       "      <td>0</td>\n",
       "      <td>0</td>\n",
       "      <td>0</td>\n",
       "      <td>188</td>\n",
       "      <td>188</td>\n",
       "      <td>10258</td>\n",
       "      <td>Orf virus (strain Goat/Texas/SA00/2000)</td>\n",
       "    </tr>\n",
       "    <tr>\n",
       "      <th>1</th>\n",
       "      <td>9606.ENSP00000000233</td>\n",
       "      <td>10279.Q98187_MCV1</td>\n",
       "      <td>0</td>\n",
       "      <td>0</td>\n",
       "      <td>0</td>\n",
       "      <td>0</td>\n",
       "      <td>0</td>\n",
       "      <td>0</td>\n",
       "      <td>0</td>\n",
       "      <td>0</td>\n",
       "      <td>0</td>\n",
       "      <td>0</td>\n",
       "      <td>0</td>\n",
       "      <td>0</td>\n",
       "      <td>188</td>\n",
       "      <td>188</td>\n",
       "      <td>10279</td>\n",
       "      <td>Molluscum contagiosum virus subtype 1</td>\n",
       "    </tr>\n",
       "    <tr>\n",
       "      <th>2</th>\n",
       "      <td>9606.ENSP00000000233</td>\n",
       "      <td>10298.GM_HHV11</td>\n",
       "      <td>0</td>\n",
       "      <td>0</td>\n",
       "      <td>0</td>\n",
       "      <td>0</td>\n",
       "      <td>0</td>\n",
       "      <td>0</td>\n",
       "      <td>0</td>\n",
       "      <td>0</td>\n",
       "      <td>0</td>\n",
       "      <td>0</td>\n",
       "      <td>0</td>\n",
       "      <td>17</td>\n",
       "      <td>336</td>\n",
       "      <td>336</td>\n",
       "      <td>10298</td>\n",
       "      <td>Human herpesvirus 1 (strain 17)</td>\n",
       "    </tr>\n",
       "    <tr>\n",
       "      <th>3</th>\n",
       "      <td>9606.ENSP00000000233</td>\n",
       "      <td>37296.ORF4_HHV8P</td>\n",
       "      <td>0</td>\n",
       "      <td>0</td>\n",
       "      <td>0</td>\n",
       "      <td>0</td>\n",
       "      <td>0</td>\n",
       "      <td>0</td>\n",
       "      <td>0</td>\n",
       "      <td>0</td>\n",
       "      <td>0</td>\n",
       "      <td>0</td>\n",
       "      <td>0</td>\n",
       "      <td>91</td>\n",
       "      <td>109</td>\n",
       "      <td>155</td>\n",
       "      <td>37296</td>\n",
       "      <td>Human herpesvirus 8 type P (isolate GK18)</td>\n",
       "    </tr>\n",
       "    <tr>\n",
       "      <th>4</th>\n",
       "      <td>9606.ENSP00000000233</td>\n",
       "      <td>195054.PRO_0000039759</td>\n",
       "      <td>0</td>\n",
       "      <td>0</td>\n",
       "      <td>0</td>\n",
       "      <td>0</td>\n",
       "      <td>0</td>\n",
       "      <td>0</td>\n",
       "      <td>0</td>\n",
       "      <td>0</td>\n",
       "      <td>0</td>\n",
       "      <td>0</td>\n",
       "      <td>0</td>\n",
       "      <td>0</td>\n",
       "      <td>329</td>\n",
       "      <td>329</td>\n",
       "      <td>195054</td>\n",
       "      <td>Human parechovirus 2 (strain Williamson)</td>\n",
       "    </tr>\n",
       "    <tr>\n",
       "      <th>...</th>\n",
       "      <td>...</td>\n",
       "      <td>...</td>\n",
       "      <td>...</td>\n",
       "      <td>...</td>\n",
       "      <td>...</td>\n",
       "      <td>...</td>\n",
       "      <td>...</td>\n",
       "      <td>...</td>\n",
       "      <td>...</td>\n",
       "      <td>...</td>\n",
       "      <td>...</td>\n",
       "      <td>...</td>\n",
       "      <td>...</td>\n",
       "      <td>...</td>\n",
       "      <td>...</td>\n",
       "      <td>...</td>\n",
       "      <td>...</td>\n",
       "      <td>...</td>\n",
       "    </tr>\n",
       "    <tr>\n",
       "      <th>80770</th>\n",
       "      <td>9606.ENSP00000473243</td>\n",
       "      <td>10310.GB_HHV2H</td>\n",
       "      <td>0</td>\n",
       "      <td>0</td>\n",
       "      <td>0</td>\n",
       "      <td>0</td>\n",
       "      <td>0</td>\n",
       "      <td>0</td>\n",
       "      <td>0</td>\n",
       "      <td>0</td>\n",
       "      <td>0</td>\n",
       "      <td>0</td>\n",
       "      <td>0</td>\n",
       "      <td>0</td>\n",
       "      <td>227</td>\n",
       "      <td>227</td>\n",
       "      <td>10310</td>\n",
       "      <td>Human herpesvirus 2 (strain HG52)</td>\n",
       "    </tr>\n",
       "    <tr>\n",
       "      <th>80771</th>\n",
       "      <td>9606.ENSP00000473243</td>\n",
       "      <td>10298.GB_HHV11</td>\n",
       "      <td>0</td>\n",
       "      <td>0</td>\n",
       "      <td>0</td>\n",
       "      <td>0</td>\n",
       "      <td>0</td>\n",
       "      <td>0</td>\n",
       "      <td>0</td>\n",
       "      <td>0</td>\n",
       "      <td>0</td>\n",
       "      <td>0</td>\n",
       "      <td>0</td>\n",
       "      <td>0</td>\n",
       "      <td>227</td>\n",
       "      <td>227</td>\n",
       "      <td>10298</td>\n",
       "      <td>Human herpesvirus 1 (strain 17)</td>\n",
       "    </tr>\n",
       "    <tr>\n",
       "      <th>80772</th>\n",
       "      <td>9606.ENSP00000473243</td>\n",
       "      <td>10335.GB_VZVD</td>\n",
       "      <td>0</td>\n",
       "      <td>0</td>\n",
       "      <td>0</td>\n",
       "      <td>0</td>\n",
       "      <td>0</td>\n",
       "      <td>0</td>\n",
       "      <td>0</td>\n",
       "      <td>0</td>\n",
       "      <td>0</td>\n",
       "      <td>0</td>\n",
       "      <td>0</td>\n",
       "      <td>0</td>\n",
       "      <td>227</td>\n",
       "      <td>227</td>\n",
       "      <td>10335</td>\n",
       "      <td>Varicella-zoster virus (strain Dumas)</td>\n",
       "    </tr>\n",
       "    <tr>\n",
       "      <th>80773</th>\n",
       "      <td>9606.ENSP00000473243</td>\n",
       "      <td>10359.GB_HCMVM</td>\n",
       "      <td>0</td>\n",
       "      <td>0</td>\n",
       "      <td>0</td>\n",
       "      <td>0</td>\n",
       "      <td>0</td>\n",
       "      <td>0</td>\n",
       "      <td>0</td>\n",
       "      <td>0</td>\n",
       "      <td>0</td>\n",
       "      <td>0</td>\n",
       "      <td>0</td>\n",
       "      <td>0</td>\n",
       "      <td>227</td>\n",
       "      <td>227</td>\n",
       "      <td>10359</td>\n",
       "      <td>Human cytomegalovirus (strain Merlin)</td>\n",
       "    </tr>\n",
       "    <tr>\n",
       "      <th>80774</th>\n",
       "      <td>9606.ENSP00000473243</td>\n",
       "      <td>10376.GB_EBVB9</td>\n",
       "      <td>0</td>\n",
       "      <td>0</td>\n",
       "      <td>0</td>\n",
       "      <td>0</td>\n",
       "      <td>0</td>\n",
       "      <td>0</td>\n",
       "      <td>0</td>\n",
       "      <td>0</td>\n",
       "      <td>0</td>\n",
       "      <td>0</td>\n",
       "      <td>0</td>\n",
       "      <td>0</td>\n",
       "      <td>227</td>\n",
       "      <td>227</td>\n",
       "      <td>10376</td>\n",
       "      <td>Epstein-Barr virus (strain B95-8)</td>\n",
       "    </tr>\n",
       "  </tbody>\n",
       "</table>\n",
       "<p>80775 rows × 18 columns</p>\n",
       "</div>"
      ],
      "text/plain": [
       "                   protein1               protein2  neighborhood  \\\n",
       "0      9606.ENSP00000000233     10258.Q6TVW1_ORFSA             0   \n",
       "1      9606.ENSP00000000233      10279.Q98187_MCV1             0   \n",
       "2      9606.ENSP00000000233         10298.GM_HHV11             0   \n",
       "3      9606.ENSP00000000233       37296.ORF4_HHV8P             0   \n",
       "4      9606.ENSP00000000233  195054.PRO_0000039759             0   \n",
       "...                     ...                    ...           ...   \n",
       "80770  9606.ENSP00000473243         10310.GB_HHV2H             0   \n",
       "80771  9606.ENSP00000473243         10298.GB_HHV11             0   \n",
       "80772  9606.ENSP00000473243          10335.GB_VZVD             0   \n",
       "80773  9606.ENSP00000473243         10359.GB_HCMVM             0   \n",
       "80774  9606.ENSP00000473243         10376.GB_EBVB9             0   \n",
       "\n",
       "       neighborhood_transferred  fusion  cooccurence  homology  coexpression  \\\n",
       "0                             0       0            0         0             0   \n",
       "1                             0       0            0         0             0   \n",
       "2                             0       0            0         0             0   \n",
       "3                             0       0            0         0             0   \n",
       "4                             0       0            0         0             0   \n",
       "...                         ...     ...          ...       ...           ...   \n",
       "80770                         0       0            0         0             0   \n",
       "80771                         0       0            0         0             0   \n",
       "80772                         0       0            0         0             0   \n",
       "80773                         0       0            0         0             0   \n",
       "80774                         0       0            0         0             0   \n",
       "\n",
       "       coexpression_transferred  experiments  experiments_transferred  \\\n",
       "0                             0            0                        0   \n",
       "1                             0            0                        0   \n",
       "2                             0            0                        0   \n",
       "3                             0            0                        0   \n",
       "4                             0            0                        0   \n",
       "...                         ...          ...                      ...   \n",
       "80770                         0            0                        0   \n",
       "80771                         0            0                        0   \n",
       "80772                         0            0                        0   \n",
       "80773                         0            0                        0   \n",
       "80774                         0            0                        0   \n",
       "\n",
       "       database  database_transferred  textmining  textmining_transferred  \\\n",
       "0             0                     0           0                     188   \n",
       "1             0                     0           0                     188   \n",
       "2             0                     0          17                     336   \n",
       "3             0                     0          91                     109   \n",
       "4             0                     0           0                     329   \n",
       "...         ...                   ...         ...                     ...   \n",
       "80770         0                     0           0                     227   \n",
       "80771         0                     0           0                     227   \n",
       "80772         0                     0           0                     227   \n",
       "80773         0                     0           0                     227   \n",
       "80774         0                     0           0                     227   \n",
       "\n",
       "       combined_score   virus                                 virus_name  \n",
       "0                 188   10258    Orf virus (strain Goat/Texas/SA00/2000)  \n",
       "1                 188   10279      Molluscum contagiosum virus subtype 1  \n",
       "2                 336   10298            Human herpesvirus 1 (strain 17)  \n",
       "3                 155   37296  Human herpesvirus 8 type P (isolate GK18)  \n",
       "4                 329  195054   Human parechovirus 2 (strain Williamson)  \n",
       "...               ...     ...                                        ...  \n",
       "80770             227   10310          Human herpesvirus 2 (strain HG52)  \n",
       "80771             227   10298            Human herpesvirus 1 (strain 17)  \n",
       "80772             227   10335      Varicella-zoster virus (strain Dumas)  \n",
       "80773             227   10359      Human cytomegalovirus (strain Merlin)  \n",
       "80774             227   10376          Epstein-Barr virus (strain B95-8)  \n",
       "\n",
       "[80775 rows x 18 columns]"
      ]
     },
     "execution_count": 8,
     "metadata": {},
     "output_type": "execute_result"
    }
   ],
   "source": [
    "links_pul"
   ]
  },
  {
   "cell_type": "code",
   "execution_count": 27,
   "id": "b643cd15-d6c4-4b94-bcbc-ad7195355e54",
   "metadata": {
    "tags": []
   },
   "outputs": [],
   "source": [
    "#list of unique viruses names\n",
    "unique_viruses_df = links_pul[\"virus_name\"].unique()\n",
    "unique_viruses = pd.Series(links_pul[\"virus_name\"].unique())\n",
    "\n",
    "unique_viruses = unique_viruses.map(lambda x: x.replace(\"(\", \"\"))\n",
    "unique_viruses = unique_viruses.map(lambda x: x.replace(\")\", \"\"))\n",
    "unique_viruses = unique_viruses.map(lambda x: x.replace(\"/\", \"_\"))\n",
    "unique_viruses = unique_viruses.map(lambda x: x.replace(\" \", \"_\"))\n",
    "\n",
    "unique_viruses = unique_viruses.to_numpy()"
   ]
  },
  {
   "cell_type": "code",
   "execution_count": 36,
   "id": "db7ae585-b9bd-4cce-a79b-36c89b35d2f4",
   "metadata": {
    "tags": []
   },
   "outputs": [],
   "source": [
    "#proteins for each virus which are in a link with text mining of high confidence \n",
    "##r experiment with mean confidence\n",
    "type0_list = []\n",
    "type1_list = []\n",
    "\n",
    "for nv, un in zip(unique_viruses, unique_viruses_df):\n",
    "    if not os.path.isdir(\"../Data/data_STRING/STRING_to_VIRPROT/\"+nv):\n",
    "        os.mkdir(\"../Data/data_STRING/STRING_to_VIRPROT/\"+nv)\n",
    "    provv_link = links_pul[links_pul[\"virus_name\"]==un]\n",
    "    type0_list.append(provv_link[\"protein2\"].unique())\n",
    "    type1_list.append(provv_link[(provv_link[\"textmining\"]>700) | (provv_link[\"experiments\"]>400)][\"protein1\"].unique())\n",
    "    np.savetxt(X=type0_list[-1], fname=\"../Data/data_STRING/STRING_to_VIRPROT/\"+nv+\"/type0_bio.txt\", fmt=\"%s\")\n",
    "    np.savetxt(X=type1_list[-1], fname=\"../Data/data_STRING/STRING_to_VIRPROT/\"+nv+\"/type1_bio.txt\", fmt=\"%s\")\n",
    "    provv_link[[\"protein1\",\"protein2\"]].to_csv(\"../Data/data_STRING/STRING_to_VIRPROT/\"+nv+\"/edges_bio.txt\", index=False)\n",
    "res_df = pd.DataFrame({\"name\":unique_viruses, \n",
    "                       \"len_vir\":[len(l) for l in type0_list],\n",
    "                       \"len_hum\":[len(l) for l in type1_list], \n",
    "                       \"virus\": type0_list, \n",
    "                       \"human\": type1_list})"
   ]
  },
  {
   "cell_type": "code",
   "execution_count": 30,
   "id": "51359e02-dcad-4a89-b6e2-56920352c518",
   "metadata": {
    "collapsed": true,
    "jupyter": {
     "outputs_hidden": true
    },
    "tags": []
   },
   "outputs": [
    {
     "data": {
      "text/html": [
       "<div>\n",
       "<style scoped>\n",
       "    .dataframe tbody tr th:only-of-type {\n",
       "        vertical-align: middle;\n",
       "    }\n",
       "\n",
       "    .dataframe tbody tr th {\n",
       "        vertical-align: top;\n",
       "    }\n",
       "\n",
       "    .dataframe thead th {\n",
       "        text-align: right;\n",
       "    }\n",
       "</style>\n",
       "<table border=\"1\" class=\"dataframe\">\n",
       "  <thead>\n",
       "    <tr style=\"text-align: right;\">\n",
       "      <th></th>\n",
       "      <th>name</th>\n",
       "      <th>len_vir</th>\n",
       "      <th>len_hum</th>\n",
       "      <th>virus</th>\n",
       "      <th>human</th>\n",
       "    </tr>\n",
       "  </thead>\n",
       "  <tbody>\n",
       "    <tr>\n",
       "      <th>2</th>\n",
       "      <td>Human_herpesvirus_1_strain_17</td>\n",
       "      <td>73</td>\n",
       "      <td>377</td>\n",
       "      <td>[10298.GM_HHV11, 10298.NP04_HHV11, 10298.UL07_...</td>\n",
       "      <td>[9606.ENSP00000000412, 9606.ENSP00000002596, 9...</td>\n",
       "    </tr>\n",
       "    <tr>\n",
       "      <th>3</th>\n",
       "      <td>Human_herpesvirus_8_type_P_isolate_GK18</td>\n",
       "      <td>69</td>\n",
       "      <td>200</td>\n",
       "      <td>[37296.ORF4_HHV8P, 37296.GM_HHV8P, 37296.VMI2_...</td>\n",
       "      <td>[9606.ENSP00000012443, 9606.ENSP00000071281, 9...</td>\n",
       "    </tr>\n",
       "    <tr>\n",
       "      <th>5</th>\n",
       "      <td>Varicella-zoster_virus_strain_Dumas</td>\n",
       "      <td>68</td>\n",
       "      <td>16</td>\n",
       "      <td>[10335.NP04_VZVD, 10335.GM_VZVD, 10335.GI_VZVD...</td>\n",
       "      <td>[9606.ENSP00000078445, 9606.ENSP00000217244, 9...</td>\n",
       "    </tr>\n",
       "    <tr>\n",
       "      <th>10</th>\n",
       "      <td>Human_herpesvirus_2_strain_HG52</td>\n",
       "      <td>56</td>\n",
       "      <td>20</td>\n",
       "      <td>[10310.NP04_HHV2H, 10310.GM_HHV2H, 10310.GN_HH...</td>\n",
       "      <td>[9606.ENSP00000216274, 9606.ENSP00000245907, 9...</td>\n",
       "    </tr>\n",
       "    <tr>\n",
       "      <th>15</th>\n",
       "      <td>Epstein-Barr_virus_strain_B95-8</td>\n",
       "      <td>86</td>\n",
       "      <td>1110</td>\n",
       "      <td>[10376.GM_EBVB9, 10376.EBNA5_EBVB9, 10376.GL_E...</td>\n",
       "      <td>[9606.ENSP00000000442, 9606.ENSP00000005340, 9...</td>\n",
       "    </tr>\n",
       "    <tr>\n",
       "      <th>18</th>\n",
       "      <td>Human_cytomegalovirus_strain_Merlin</td>\n",
       "      <td>163</td>\n",
       "      <td>160</td>\n",
       "      <td>[10359.GM_HCMVM, 10359.GL_HCMVM, 10359.VP26_HC...</td>\n",
       "      <td>[9606.ENSP00000011653, 9606.ENSP00000046087, 9...</td>\n",
       "    </tr>\n",
       "    <tr>\n",
       "      <th>20</th>\n",
       "      <td>Human_immunodeficiency_virus_type_1_group_M_su...</td>\n",
       "      <td>18</td>\n",
       "      <td>913</td>\n",
       "      <td>[11676.PRO_0000038428, 11676.VPU_HV1H2, 11676....</td>\n",
       "      <td>[9606.ENSP00000009530, 9606.ENSP00000011653, 9...</td>\n",
       "    </tr>\n",
       "    <tr>\n",
       "      <th>21</th>\n",
       "      <td>Measles_virus_strain_Ichinose-B95a</td>\n",
       "      <td>8</td>\n",
       "      <td>459</td>\n",
       "      <td>[11234.PHOSP_MEASC, 11234.L_MEASC, 11234.FUS_M...</td>\n",
       "      <td>[9606.ENSP00000000412, 9606.ENSP00000006777, 9...</td>\n",
       "    </tr>\n",
       "    <tr>\n",
       "      <th>22</th>\n",
       "      <td>Influenza_A_virus_strain_A_Puerto_Rico_8_1934_...</td>\n",
       "      <td>12</td>\n",
       "      <td>486</td>\n",
       "      <td>[11320.HEMA_I34A1, 11320.M2_I34A1, 11320.NRAM_...</td>\n",
       "      <td>[9606.ENSP00000005340, 9606.ENSP00000009530, 9...</td>\n",
       "    </tr>\n",
       "    <tr>\n",
       "      <th>23</th>\n",
       "      <td>Hepatitis_C_virus_genotype_1a_isolate_H</td>\n",
       "      <td>11</td>\n",
       "      <td>129</td>\n",
       "      <td>[11103.PRO_0000037576, 11103.PRO_0000037575, 1...</td>\n",
       "      <td>[9606.ENSP00000001008, 9606.ENSP00000169298, 9...</td>\n",
       "    </tr>\n",
       "    <tr>\n",
       "      <th>25</th>\n",
       "      <td>Lymphocytic_choriomeningitis_virus_strain_Arms...</td>\n",
       "      <td>5</td>\n",
       "      <td>11</td>\n",
       "      <td>[11623.L_LYCVA, 11623.Z_LYCVA, 11623.PRO_00000...</td>\n",
       "      <td>[9606.ENSP00000258091, 9606.ENSP00000275603, 9...</td>\n",
       "    </tr>\n",
       "    <tr>\n",
       "      <th>26</th>\n",
       "      <td>Human_respiratory_syncytial_virus_B_strain_B1</td>\n",
       "      <td>11</td>\n",
       "      <td>238</td>\n",
       "      <td>[11250.L_HRSVB, 11250.NS1_HRSVB, 11250.FUS_HRS...</td>\n",
       "      <td>[9606.ENSP00000003100, 9606.ENSP00000162044, 9...</td>\n",
       "    </tr>\n",
       "    <tr>\n",
       "      <th>27</th>\n",
       "      <td>Human_papillomavirus_type_5</td>\n",
       "      <td>5</td>\n",
       "      <td>181</td>\n",
       "      <td>[337051.VE7_HPV05, 337051.VE6_HPV05, 337051.VE...</td>\n",
       "      <td>[9606.ENSP00000005226, 9606.ENSP00000080059, 9...</td>\n",
       "    </tr>\n",
       "    <tr>\n",
       "      <th>28</th>\n",
       "      <td>Human_T-cell_leukemia_virus_1_isolate_Caribbea...</td>\n",
       "      <td>9</td>\n",
       "      <td>101</td>\n",
       "      <td>[194440.REX_HTL1C, 194440.TAX_HTL1C, 194440.EN...</td>\n",
       "      <td>[9606.ENSP00000005340, 9606.ENSP00000200457, 9...</td>\n",
       "    </tr>\n",
       "    <tr>\n",
       "      <th>30</th>\n",
       "      <td>Human_SARS_coronavirus</td>\n",
       "      <td>26</td>\n",
       "      <td>11</td>\n",
       "      <td>[694009.SPIKE_CVHSA, 694009.NCAP_CVHSA, 694009...</td>\n",
       "      <td>[9606.ENSP00000221566, 9606.ENSP00000261503, 9...</td>\n",
       "    </tr>\n",
       "    <tr>\n",
       "      <th>32</th>\n",
       "      <td>Human_adenovirus_C_serotype_2</td>\n",
       "      <td>16</td>\n",
       "      <td>146</td>\n",
       "      <td>[129951.E1BS_ADE02, 129951.E1A_ADE02, 129951.D...</td>\n",
       "      <td>[9606.ENSP00000007722, 9606.ENSP00000184183, 9...</td>\n",
       "    </tr>\n",
       "    <tr>\n",
       "      <th>33</th>\n",
       "      <td>Hendra_virus_isolate_Horse_Autralia_Hendra_1994</td>\n",
       "      <td>8</td>\n",
       "      <td>62</td>\n",
       "      <td>[63330.FUS_HENDH, 63330.L_HENDH, 63330.NCAP_HE...</td>\n",
       "      <td>[9606.ENSP00000216336, 9606.ENSP00000225275, 9...</td>\n",
       "    </tr>\n",
       "    <tr>\n",
       "      <th>35</th>\n",
       "      <td>Human_papillomavirus_type_18</td>\n",
       "      <td>7</td>\n",
       "      <td>372</td>\n",
       "      <td>[337042.VE6_HPV18, 337042.VE5_HPV18, 337042.VE...</td>\n",
       "      <td>[9606.ENSP00000010404, 9606.ENSP00000016171, 9...</td>\n",
       "    </tr>\n",
       "    <tr>\n",
       "      <th>36</th>\n",
       "      <td>Human_papillomavirus_type_16</td>\n",
       "      <td>7</td>\n",
       "      <td>352</td>\n",
       "      <td>[337041.VE6_HPV16, 337041.VE7_HPV16, 337041.VE...</td>\n",
       "      <td>[9606.ENSP00000012049, 9606.ENSP00000158771, 9...</td>\n",
       "    </tr>\n",
       "    <tr>\n",
       "      <th>37</th>\n",
       "      <td>Hepatitis_B_virus_genotype_C_subtype_ayr_isola...</td>\n",
       "      <td>5</td>\n",
       "      <td>62</td>\n",
       "      <td>[10407.HBSAG_HBVCJ, 10407.CAPSD_HBVCJ, 10407.X...</td>\n",
       "      <td>[9606.ENSP00000212015, 9606.ENSP00000215587, 9...</td>\n",
       "    </tr>\n",
       "    <tr>\n",
       "      <th>38</th>\n",
       "      <td>Zaire_ebolavirus_strain_Mayinga-76</td>\n",
       "      <td>7</td>\n",
       "      <td>102</td>\n",
       "      <td>[186538.L_EBOZM, 186538.NCAP_EBOZM, 186538.VGP...</td>\n",
       "      <td>[9606.ENSP00000217182, 9606.ENSP00000221419, 9...</td>\n",
       "    </tr>\n",
       "    <tr>\n",
       "      <th>41</th>\n",
       "      <td>Human_immunodeficiency_virus_type_2_subtype_A_...</td>\n",
       "      <td>13</td>\n",
       "      <td>11</td>\n",
       "      <td>[11709.VIF_HV2BE, 11709.PRO_0000042461, 11709....</td>\n",
       "      <td>[9606.ENSP00000228434, 9606.ENSP00000254322, 9...</td>\n",
       "    </tr>\n",
       "    <tr>\n",
       "      <th>51</th>\n",
       "      <td>Marburg_virus_strain_Kenya_Musoke_1980</td>\n",
       "      <td>6</td>\n",
       "      <td>22</td>\n",
       "      <td>[11269.L_MABVM, 11269.VP24_MABVM, 11269.NCAP_M...</td>\n",
       "      <td>[9606.ENSP00000171111, 9606.ENSP00000217182, 9...</td>\n",
       "    </tr>\n",
       "    <tr>\n",
       "      <th>53</th>\n",
       "      <td>Bunyavirus_La_Crosse_isolate_Human_United_Stat...</td>\n",
       "      <td>2</td>\n",
       "      <td>81</td>\n",
       "      <td>[35305.L_BUNL8, 35305.NSS_BUNL8]</td>\n",
       "      <td>[9606.ENSP00000216181, 9606.ENSP00000217182, 9...</td>\n",
       "    </tr>\n",
       "    <tr>\n",
       "      <th>56</th>\n",
       "      <td>Enterobacteria_phage_T7</td>\n",
       "      <td>4</td>\n",
       "      <td>18</td>\n",
       "      <td>[10760.VRPI_BPT7, 10760.PRIM_BPT7, 10760.EXLYS...</td>\n",
       "      <td>[9606.ENSP00000199814, 9606.ENSP00000219476, 9...</td>\n",
       "    </tr>\n",
       "    <tr>\n",
       "      <th>61</th>\n",
       "      <td>Vaccinia_virus_strain_Western_Reserve</td>\n",
       "      <td>34</td>\n",
       "      <td>158</td>\n",
       "      <td>[10245.SPI2_VACCW, 10245.A52_VACCW, 10245.B14_...</td>\n",
       "      <td>[9606.ENSP00000217182, 9606.ENSP00000222005, 9...</td>\n",
       "    </tr>\n",
       "    <tr>\n",
       "      <th>62</th>\n",
       "      <td>Simian_virus_40</td>\n",
       "      <td>4</td>\n",
       "      <td>39</td>\n",
       "      <td>[10633.LT_SV40, 10633.VP1_SV40, 10633.AGNO_SV4...</td>\n",
       "      <td>[9606.ENSP00000217244, 9606.ENSP00000221996, 9...</td>\n",
       "    </tr>\n",
       "    <tr>\n",
       "      <th>68</th>\n",
       "      <td>Rift_valley_fever_virus_strain_ZH-548_M12</td>\n",
       "      <td>3</td>\n",
       "      <td>28</td>\n",
       "      <td>[11588.NSS_RVFVZ, 11588.L_RVFVZ, 11588.NCAP_RV...</td>\n",
       "      <td>[9606.ENSP00000220764, 9606.ENSP00000247207, 9...</td>\n",
       "    </tr>\n",
       "    <tr>\n",
       "      <th>69</th>\n",
       "      <td>Avian_infectious_bronchitis_virus_strain_Beaud...</td>\n",
       "      <td>6</td>\n",
       "      <td>13</td>\n",
       "      <td>[694014.PRO_0000037409, 694014.NS5A_IBVB, 6940...</td>\n",
       "      <td>[9606.ENSP00000221972, 9606.ENSP00000264658, 9...</td>\n",
       "    </tr>\n",
       "    <tr>\n",
       "      <th>71</th>\n",
       "      <td>Reovirus_type_1_strain_Lang</td>\n",
       "      <td>2</td>\n",
       "      <td>31</td>\n",
       "      <td>[351073.SIGM3_REOVL, 351073.MU2_REOVL]</td>\n",
       "      <td>[9606.ENSP00000228251, 9606.ENSP00000252050, 9...</td>\n",
       "    </tr>\n",
       "    <tr>\n",
       "      <th>72</th>\n",
       "      <td>Newcastle_disease_virus_strain_Chicken_United_...</td>\n",
       "      <td>2</td>\n",
       "      <td>13</td>\n",
       "      <td>[11176.V_NDVB1, 11176.PHOSP_NDVB1]</td>\n",
       "      <td>[9606.ENSP00000228318, 9606.ENSP00000244573, 9...</td>\n",
       "    </tr>\n",
       "    <tr>\n",
       "      <th>75</th>\n",
       "      <td>Rotavirus_C_isolate_Human_United_Kingdom_Brist...</td>\n",
       "      <td>2</td>\n",
       "      <td>19</td>\n",
       "      <td>[36427.NSP1_ROTHC, 36427.NSP3_ROTHC]</td>\n",
       "      <td>[9606.ENSP00000247207, 9606.ENSP00000262306, 9...</td>\n",
       "    </tr>\n",
       "    <tr>\n",
       "      <th>77</th>\n",
       "      <td>Simian_immunodeficiency_virus_isolate_Mm142-83</td>\n",
       "      <td>4</td>\n",
       "      <td>12</td>\n",
       "      <td>[11723.NEF_SIVM1, 11723.VPX_SIVM1, 11723.VIF_S...</td>\n",
       "      <td>[9606.ENSP00000249071, 9606.ENSP00000262878, 9...</td>\n",
       "    </tr>\n",
       "    <tr>\n",
       "      <th>78</th>\n",
       "      <td>Sendai_virus_strain_Ohita</td>\n",
       "      <td>4</td>\n",
       "      <td>15</td>\n",
       "      <td>[11191.HN_SENDO, 11191.V_SENDO, 11191.FUS_SEND...</td>\n",
       "      <td>[9606.ENSP00000252593, 9606.ENSP00000262746, 9...</td>\n",
       "    </tr>\n",
       "  </tbody>\n",
       "</table>\n",
       "</div>"
      ],
      "text/plain": [
       "                                                 name  len_vir  len_hum  \\\n",
       "2                       Human_herpesvirus_1_strain_17       73      377   \n",
       "3             Human_herpesvirus_8_type_P_isolate_GK18       69      200   \n",
       "5                 Varicella-zoster_virus_strain_Dumas       68       16   \n",
       "10                    Human_herpesvirus_2_strain_HG52       56       20   \n",
       "15                    Epstein-Barr_virus_strain_B95-8       86     1110   \n",
       "18                Human_cytomegalovirus_strain_Merlin      163      160   \n",
       "20  Human_immunodeficiency_virus_type_1_group_M_su...       18      913   \n",
       "21                 Measles_virus_strain_Ichinose-B95a        8      459   \n",
       "22  Influenza_A_virus_strain_A_Puerto_Rico_8_1934_...       12      486   \n",
       "23            Hepatitis_C_virus_genotype_1a_isolate_H       11      129   \n",
       "25  Lymphocytic_choriomeningitis_virus_strain_Arms...        5       11   \n",
       "26      Human_respiratory_syncytial_virus_B_strain_B1       11      238   \n",
       "27                        Human_papillomavirus_type_5        5      181   \n",
       "28  Human_T-cell_leukemia_virus_1_isolate_Caribbea...        9      101   \n",
       "30                             Human_SARS_coronavirus       26       11   \n",
       "32                      Human_adenovirus_C_serotype_2       16      146   \n",
       "33    Hendra_virus_isolate_Horse_Autralia_Hendra_1994        8       62   \n",
       "35                       Human_papillomavirus_type_18        7      372   \n",
       "36                       Human_papillomavirus_type_16        7      352   \n",
       "37  Hepatitis_B_virus_genotype_C_subtype_ayr_isola...        5       62   \n",
       "38                 Zaire_ebolavirus_strain_Mayinga-76        7      102   \n",
       "41  Human_immunodeficiency_virus_type_2_subtype_A_...       13       11   \n",
       "51             Marburg_virus_strain_Kenya_Musoke_1980        6       22   \n",
       "53  Bunyavirus_La_Crosse_isolate_Human_United_Stat...        2       81   \n",
       "56                            Enterobacteria_phage_T7        4       18   \n",
       "61              Vaccinia_virus_strain_Western_Reserve       34      158   \n",
       "62                                    Simian_virus_40        4       39   \n",
       "68          Rift_valley_fever_virus_strain_ZH-548_M12        3       28   \n",
       "69  Avian_infectious_bronchitis_virus_strain_Beaud...        6       13   \n",
       "71                        Reovirus_type_1_strain_Lang        2       31   \n",
       "72  Newcastle_disease_virus_strain_Chicken_United_...        2       13   \n",
       "75  Rotavirus_C_isolate_Human_United_Kingdom_Brist...        2       19   \n",
       "77     Simian_immunodeficiency_virus_isolate_Mm142-83        4       12   \n",
       "78                          Sendai_virus_strain_Ohita        4       15   \n",
       "\n",
       "                                                virus  \\\n",
       "2   [10298.GM_HHV11, 10298.NP04_HHV11, 10298.UL07_...   \n",
       "3   [37296.ORF4_HHV8P, 37296.GM_HHV8P, 37296.VMI2_...   \n",
       "5   [10335.NP04_VZVD, 10335.GM_VZVD, 10335.GI_VZVD...   \n",
       "10  [10310.NP04_HHV2H, 10310.GM_HHV2H, 10310.GN_HH...   \n",
       "15  [10376.GM_EBVB9, 10376.EBNA5_EBVB9, 10376.GL_E...   \n",
       "18  [10359.GM_HCMVM, 10359.GL_HCMVM, 10359.VP26_HC...   \n",
       "20  [11676.PRO_0000038428, 11676.VPU_HV1H2, 11676....   \n",
       "21  [11234.PHOSP_MEASC, 11234.L_MEASC, 11234.FUS_M...   \n",
       "22  [11320.HEMA_I34A1, 11320.M2_I34A1, 11320.NRAM_...   \n",
       "23  [11103.PRO_0000037576, 11103.PRO_0000037575, 1...   \n",
       "25  [11623.L_LYCVA, 11623.Z_LYCVA, 11623.PRO_00000...   \n",
       "26  [11250.L_HRSVB, 11250.NS1_HRSVB, 11250.FUS_HRS...   \n",
       "27  [337051.VE7_HPV05, 337051.VE6_HPV05, 337051.VE...   \n",
       "28  [194440.REX_HTL1C, 194440.TAX_HTL1C, 194440.EN...   \n",
       "30  [694009.SPIKE_CVHSA, 694009.NCAP_CVHSA, 694009...   \n",
       "32  [129951.E1BS_ADE02, 129951.E1A_ADE02, 129951.D...   \n",
       "33  [63330.FUS_HENDH, 63330.L_HENDH, 63330.NCAP_HE...   \n",
       "35  [337042.VE6_HPV18, 337042.VE5_HPV18, 337042.VE...   \n",
       "36  [337041.VE6_HPV16, 337041.VE7_HPV16, 337041.VE...   \n",
       "37  [10407.HBSAG_HBVCJ, 10407.CAPSD_HBVCJ, 10407.X...   \n",
       "38  [186538.L_EBOZM, 186538.NCAP_EBOZM, 186538.VGP...   \n",
       "41  [11709.VIF_HV2BE, 11709.PRO_0000042461, 11709....   \n",
       "51  [11269.L_MABVM, 11269.VP24_MABVM, 11269.NCAP_M...   \n",
       "53                   [35305.L_BUNL8, 35305.NSS_BUNL8]   \n",
       "56  [10760.VRPI_BPT7, 10760.PRIM_BPT7, 10760.EXLYS...   \n",
       "61  [10245.SPI2_VACCW, 10245.A52_VACCW, 10245.B14_...   \n",
       "62  [10633.LT_SV40, 10633.VP1_SV40, 10633.AGNO_SV4...   \n",
       "68  [11588.NSS_RVFVZ, 11588.L_RVFVZ, 11588.NCAP_RV...   \n",
       "69  [694014.PRO_0000037409, 694014.NS5A_IBVB, 6940...   \n",
       "71             [351073.SIGM3_REOVL, 351073.MU2_REOVL]   \n",
       "72                 [11176.V_NDVB1, 11176.PHOSP_NDVB1]   \n",
       "75               [36427.NSP1_ROTHC, 36427.NSP3_ROTHC]   \n",
       "77  [11723.NEF_SIVM1, 11723.VPX_SIVM1, 11723.VIF_S...   \n",
       "78  [11191.HN_SENDO, 11191.V_SENDO, 11191.FUS_SEND...   \n",
       "\n",
       "                                                human  \n",
       "2   [9606.ENSP00000000412, 9606.ENSP00000002596, 9...  \n",
       "3   [9606.ENSP00000012443, 9606.ENSP00000071281, 9...  \n",
       "5   [9606.ENSP00000078445, 9606.ENSP00000217244, 9...  \n",
       "10  [9606.ENSP00000216274, 9606.ENSP00000245907, 9...  \n",
       "15  [9606.ENSP00000000442, 9606.ENSP00000005340, 9...  \n",
       "18  [9606.ENSP00000011653, 9606.ENSP00000046087, 9...  \n",
       "20  [9606.ENSP00000009530, 9606.ENSP00000011653, 9...  \n",
       "21  [9606.ENSP00000000412, 9606.ENSP00000006777, 9...  \n",
       "22  [9606.ENSP00000005340, 9606.ENSP00000009530, 9...  \n",
       "23  [9606.ENSP00000001008, 9606.ENSP00000169298, 9...  \n",
       "25  [9606.ENSP00000258091, 9606.ENSP00000275603, 9...  \n",
       "26  [9606.ENSP00000003100, 9606.ENSP00000162044, 9...  \n",
       "27  [9606.ENSP00000005226, 9606.ENSP00000080059, 9...  \n",
       "28  [9606.ENSP00000005340, 9606.ENSP00000200457, 9...  \n",
       "30  [9606.ENSP00000221566, 9606.ENSP00000261503, 9...  \n",
       "32  [9606.ENSP00000007722, 9606.ENSP00000184183, 9...  \n",
       "33  [9606.ENSP00000216336, 9606.ENSP00000225275, 9...  \n",
       "35  [9606.ENSP00000010404, 9606.ENSP00000016171, 9...  \n",
       "36  [9606.ENSP00000012049, 9606.ENSP00000158771, 9...  \n",
       "37  [9606.ENSP00000212015, 9606.ENSP00000215587, 9...  \n",
       "38  [9606.ENSP00000217182, 9606.ENSP00000221419, 9...  \n",
       "41  [9606.ENSP00000228434, 9606.ENSP00000254322, 9...  \n",
       "51  [9606.ENSP00000171111, 9606.ENSP00000217182, 9...  \n",
       "53  [9606.ENSP00000216181, 9606.ENSP00000217182, 9...  \n",
       "56  [9606.ENSP00000199814, 9606.ENSP00000219476, 9...  \n",
       "61  [9606.ENSP00000217182, 9606.ENSP00000222005, 9...  \n",
       "62  [9606.ENSP00000217244, 9606.ENSP00000221996, 9...  \n",
       "68  [9606.ENSP00000220764, 9606.ENSP00000247207, 9...  \n",
       "69  [9606.ENSP00000221972, 9606.ENSP00000264658, 9...  \n",
       "71  [9606.ENSP00000228251, 9606.ENSP00000252050, 9...  \n",
       "72  [9606.ENSP00000228318, 9606.ENSP00000244573, 9...  \n",
       "75  [9606.ENSP00000247207, 9606.ENSP00000262306, 9...  \n",
       "77  [9606.ENSP00000249071, 9606.ENSP00000262878, 9...  \n",
       "78  [9606.ENSP00000252593, 9606.ENSP00000262746, 9...  "
      ]
     },
     "execution_count": 30,
     "metadata": {},
     "output_type": "execute_result"
    }
   ],
   "source": [
    "res_df[res_df[\"len_hum\"]>10]"
   ]
  },
  {
   "cell_type": "code",
   "execution_count": 19,
   "id": "f707719f-2630-496c-999b-b5123a10ac1f",
   "metadata": {
    "tags": []
   },
   "outputs": [],
   "source": [
    "#mapping between node ID and name\n",
    "mapper = pd.read_csv(\"data_STRING/9606.protein.info.v11.5.txt\", sep=\"\\t\")\n",
    "mapper[\"ID\"] = mapper[\"#string_protein_id\"].map(lambda x: x.split(\".\")[1])\n",
    "mapper_dict = dict(zip(mapper[\"ID\"], mapper[\"preferred_name\"]))"
   ]
  },
  {
   "cell_type": "code",
   "execution_count": 29,
   "id": "e30efa3b-4438-45e4-8595-035d36964758",
   "metadata": {
    "tags": []
   },
   "outputs": [
    {
     "data": {
      "text/html": [
       "<div>\n",
       "<style scoped>\n",
       "    .dataframe tbody tr th:only-of-type {\n",
       "        vertical-align: middle;\n",
       "    }\n",
       "\n",
       "    .dataframe tbody tr th {\n",
       "        vertical-align: top;\n",
       "    }\n",
       "\n",
       "    .dataframe thead th {\n",
       "        text-align: right;\n",
       "    }\n",
       "</style>\n",
       "<table border=\"1\" class=\"dataframe\">\n",
       "  <thead>\n",
       "    <tr style=\"text-align: right;\">\n",
       "      <th></th>\n",
       "      <th>#string_protein_id</th>\n",
       "      <th>preferred_name</th>\n",
       "      <th>protein_size</th>\n",
       "      <th>annotation</th>\n",
       "      <th>ID</th>\n",
       "    </tr>\n",
       "  </thead>\n",
       "  <tbody>\n",
       "    <tr>\n",
       "      <th>0</th>\n",
       "      <td>9606.ENSP00000000233</td>\n",
       "      <td>ARF5</td>\n",
       "      <td>180</td>\n",
       "      <td>ADP-ribosylation factor 5; GTP-binding protein...</td>\n",
       "      <td>ENSP00000000233</td>\n",
       "    </tr>\n",
       "    <tr>\n",
       "      <th>1</th>\n",
       "      <td>9606.ENSP00000000412</td>\n",
       "      <td>M6PR</td>\n",
       "      <td>277</td>\n",
       "      <td>Cation-dependent mannose-6-phosphate receptor;...</td>\n",
       "      <td>ENSP00000000412</td>\n",
       "    </tr>\n",
       "    <tr>\n",
       "      <th>2</th>\n",
       "      <td>9606.ENSP00000001008</td>\n",
       "      <td>FKBP4</td>\n",
       "      <td>459</td>\n",
       "      <td>Peptidyl-prolyl cis-trans isomerase FKBP4; Imm...</td>\n",
       "      <td>ENSP00000001008</td>\n",
       "    </tr>\n",
       "    <tr>\n",
       "      <th>3</th>\n",
       "      <td>9606.ENSP00000001146</td>\n",
       "      <td>CYP26B1</td>\n",
       "      <td>512</td>\n",
       "      <td>Cytochrome P450 26B1; Involved in the metaboli...</td>\n",
       "      <td>ENSP00000001146</td>\n",
       "    </tr>\n",
       "    <tr>\n",
       "      <th>4</th>\n",
       "      <td>9606.ENSP00000002125</td>\n",
       "      <td>NDUFAF7</td>\n",
       "      <td>441</td>\n",
       "      <td>Protein arginine methyltransferase NDUFAF7, mi...</td>\n",
       "      <td>ENSP00000002125</td>\n",
       "    </tr>\n",
       "    <tr>\n",
       "      <th>...</th>\n",
       "      <td>...</td>\n",
       "      <td>...</td>\n",
       "      <td>...</td>\n",
       "      <td>...</td>\n",
       "      <td>...</td>\n",
       "    </tr>\n",
       "    <tr>\n",
       "      <th>19561</th>\n",
       "      <td>9606.ENSP00000485671</td>\n",
       "      <td>ENSG00000280273</td>\n",
       "      <td>120</td>\n",
       "      <td>HCG1991042</td>\n",
       "      <td>ENSP00000485671</td>\n",
       "    </tr>\n",
       "    <tr>\n",
       "      <th>19562</th>\n",
       "      <td>9606.ENSP00000485672</td>\n",
       "      <td>ENSG00000279458</td>\n",
       "      <td>86</td>\n",
       "      <td>annotation not available</td>\n",
       "      <td>ENSP00000485672</td>\n",
       "    </tr>\n",
       "    <tr>\n",
       "      <th>19563</th>\n",
       "      <td>9606.ENSP00000485673</td>\n",
       "      <td>ENSG00000279988</td>\n",
       "      <td>243</td>\n",
       "      <td>annotation not available</td>\n",
       "      <td>ENSP00000485673</td>\n",
       "    </tr>\n",
       "    <tr>\n",
       "      <th>19564</th>\n",
       "      <td>9606.ENSP00000485675</td>\n",
       "      <td>ENSG00000280116</td>\n",
       "      <td>84</td>\n",
       "      <td>annotation not available</td>\n",
       "      <td>ENSP00000485675</td>\n",
       "    </tr>\n",
       "    <tr>\n",
       "      <th>19565</th>\n",
       "      <td>9606.ENSP00000485678</td>\n",
       "      <td>OR6Q1</td>\n",
       "      <td>317</td>\n",
       "      <td>Olfactory receptor 6Q1; Odorant receptor; Olfa...</td>\n",
       "      <td>ENSP00000485678</td>\n",
       "    </tr>\n",
       "  </tbody>\n",
       "</table>\n",
       "<p>19566 rows × 5 columns</p>\n",
       "</div>"
      ],
      "text/plain": [
       "         #string_protein_id   preferred_name  protein_size  \\\n",
       "0      9606.ENSP00000000233             ARF5           180   \n",
       "1      9606.ENSP00000000412             M6PR           277   \n",
       "2      9606.ENSP00000001008            FKBP4           459   \n",
       "3      9606.ENSP00000001146          CYP26B1           512   \n",
       "4      9606.ENSP00000002125          NDUFAF7           441   \n",
       "...                     ...              ...           ...   \n",
       "19561  9606.ENSP00000485671  ENSG00000280273           120   \n",
       "19562  9606.ENSP00000485672  ENSG00000279458            86   \n",
       "19563  9606.ENSP00000485673  ENSG00000279988           243   \n",
       "19564  9606.ENSP00000485675  ENSG00000280116            84   \n",
       "19565  9606.ENSP00000485678            OR6Q1           317   \n",
       "\n",
       "                                              annotation               ID  \n",
       "0      ADP-ribosylation factor 5; GTP-binding protein...  ENSP00000000233  \n",
       "1      Cation-dependent mannose-6-phosphate receptor;...  ENSP00000000412  \n",
       "2      Peptidyl-prolyl cis-trans isomerase FKBP4; Imm...  ENSP00000001008  \n",
       "3      Cytochrome P450 26B1; Involved in the metaboli...  ENSP00000001146  \n",
       "4      Protein arginine methyltransferase NDUFAF7, mi...  ENSP00000002125  \n",
       "...                                                  ...              ...  \n",
       "19561                                        HCG1991042   ENSP00000485671  \n",
       "19562                           annotation not available  ENSP00000485672  \n",
       "19563                           annotation not available  ENSP00000485673  \n",
       "19564                           annotation not available  ENSP00000485675  \n",
       "19565  Olfactory receptor 6Q1; Odorant receptor; Olfa...  ENSP00000485678  \n",
       "\n",
       "[19566 rows x 5 columns]"
      ]
     },
     "execution_count": 29,
     "metadata": {},
     "output_type": "execute_result"
    }
   ],
   "source": [
    "mapper"
   ]
  },
  {
   "cell_type": "code",
   "execution_count": 25,
   "id": "67c65fa9-413d-46f3-9789-258835c2974c",
   "metadata": {
    "tags": []
   },
   "outputs": [],
   "source": [
    "uga=np.isin(links_pul[\"protein1\"].unique(),mapper[\"#string_protein_id\"])"
   ]
  },
  {
   "cell_type": "code",
   "execution_count": 28,
   "id": "5e21ce70-335b-4c98-80d9-d8c2becbc1d6",
   "metadata": {
    "tags": []
   },
   "outputs": [
    {
     "data": {
      "text/plain": [
       "(8575,)"
      ]
     },
     "execution_count": 28,
     "metadata": {},
     "output_type": "execute_result"
    }
   ],
   "source": [
    "links_pul[\"protein1\"].unique().shape"
   ]
  },
  {
   "cell_type": "code",
   "execution_count": 66,
   "id": "bd88eb0b-0015-4fd8-83ba-941afb257d9f",
   "metadata": {
    "tags": []
   },
   "outputs": [],
   "source": [
    "#filter again with proteins1 which code is mapped to a name\n",
    "links_res = links_pul[links_pul[\"protein1\"].isin(mapper[\"ID\"])]\n",
    "links_res[\"protein1_name\"]=itemgetter(*links_res[\"protein1\"].to_list())(mapper_dict)"
   ]
  },
  {
   "cell_type": "code",
   "execution_count": 74,
   "id": "96ce51ac-2326-4361-8cdb-17bb2cf5032e",
   "metadata": {
    "tags": []
   },
   "outputs": [],
   "source": [
    "#list of unique viruses names\n",
    "unique_viruses = links_res[\"virus_name\"].unique()"
   ]
  },
  {
   "cell_type": "code",
   "execution_count": 251,
   "id": "818433b1-44b9-43a1-b6e1-edf6f59e5c1b",
   "metadata": {
    "tags": []
   },
   "outputs": [],
   "source": [
    "#proteins for each virus which are in a link with text mining of high confidence \n",
    "##r experiment with mean confidence\n",
    "type0_list = []\n",
    "type1_list = []\n",
    "\n",
    "for un in unique_viruses:\n",
    "    provv_link = links_res[links_res[\"virus_name\"]==un]\n",
    "    type0_list.append(provv_link[\"protein2\"].unique())\n",
    "    type1_list.append(provv_link[(provv_link[\"textmining\"]>700) | (provv_link[\"experiments\"]>400)][\"protein1_name\"].unique())\n",
    "\n",
    "res_df = pd.DataFrame({\"name\":unique_viruses, \n",
    "                       \"len_vir\":[len(l) for l in type0_list],\n",
    "                       \"len_hum\":[len(l) for l in type1_list], \n",
    "                       \"virus\": type0_list, \n",
    "                       \"human\": type1_list})\n",
    "res_df[\"name\"] = res_df[\"name\"].map(lambda x: x.replace(\"(\", \"\"))\n",
    "res_df[\"name\"] = res_df[\"name\"].map(lambda x: x.replace(\")\", \"\"))\n",
    "res_df[\"name\"] = res_df[\"name\"].map(lambda x: x.replace(\"/\", \"_\"))\n",
    "res_df[\"name\"] = res_df[\"name\"].map(lambda x: x.replace(\" \", \"_\"))"
   ]
  },
  {
   "cell_type": "code",
   "execution_count": 121,
   "id": "21d0eeb2-80dc-4bd4-ab3a-ab9d4cad973d",
   "metadata": {
    "tags": []
   },
   "outputs": [],
   "source": [
    "#load ncbi database\n",
    "ncbi = pd.read_csv(\"BIOGRID_data/Homo_sapiens.gene_info\", sep=\"\\t\")\n",
    "symbols = ncbi[\"Symbol\"]\n",
    "synonyms = [ncbi[\"Synonyms\"][i].split(\"|\") for i in range(len(ncbi))]\n",
    "unique_synonims = np.unique(np.concatenate(synonyms))\n",
    "\n"
   ]
  },
  {
   "cell_type": "code",
   "execution_count": 252,
   "id": "62b210ae-6925-4394-b9ac-9694476dad44",
   "metadata": {
    "tags": []
   },
   "outputs": [],
   "source": [
    "resss = res_df[res_df[\"len_hum\"]>0].sort_values(\"name\").reset_index(drop=True)"
   ]
  },
  {
   "cell_type": "code",
   "execution_count": 255,
   "id": "9675ddf7-c9e2-4df8-986f-f741d6608eb5",
   "metadata": {
    "tags": []
   },
   "outputs": [
    {
     "data": {
      "text/plain": [
       "True"
      ]
     },
     "execution_count": 255,
     "metadata": {},
     "output_type": "execute_result"
    }
   ],
   "source": [
    "np.any(np.isin(resss.loc[18,\"human\"], symbols))"
   ]
  },
  {
   "cell_type": "code",
   "execution_count": 257,
   "id": "b182841d-9e2b-42bb-ac5b-c05f8a93f1d3",
   "metadata": {},
   "outputs": [
    {
     "name": "stdout",
     "output_type": "stream",
     "text": [
      "0/83\n",
      "1/83\n",
      "2/83\n",
      "3/83\n",
      "4/83\n",
      "5/83\n",
      "6/83\n",
      "7/83\n",
      "8/83\n",
      "9/83\n",
      "10/83\n",
      "11/83\n",
      "12/83\n"
     ]
    },
    {
     "name": "stderr",
     "output_type": "stream",
     "text": [
      "100%|█████████████████████████████████████████████| 1/1 [00:02<00:00,  2.16s/it]\n"
     ]
    },
    {
     "name": "stdout",
     "output_type": "stream",
     "text": [
      "13/83\n",
      "14/83\n",
      "15/83\n",
      "16/83\n",
      "17/83\n",
      "18/83\n"
     ]
    },
    {
     "name": "stderr",
     "output_type": "stream",
     "text": [
      "100%|███████████████████████████████████████████| 48/48 [01:37<00:00,  2.04s/it]\n"
     ]
    },
    {
     "name": "stdout",
     "output_type": "stream",
     "text": [
      "19/83\n",
      "20/83\n",
      "21/83\n",
      "22/83\n",
      "23/83\n",
      "24/83\n",
      "25/83\n"
     ]
    },
    {
     "name": "stderr",
     "output_type": "stream",
     "text": [
      "100%|███████████████████████████████████████████| 15/15 [00:30<00:00,  2.04s/it]\n"
     ]
    },
    {
     "name": "stdout",
     "output_type": "stream",
     "text": [
      "26/83\n"
     ]
    },
    {
     "name": "stderr",
     "output_type": "stream",
     "text": [
      "100%|█████████████████████████████████████████████| 1/1 [00:02<00:00,  2.09s/it]\n"
     ]
    },
    {
     "name": "stdout",
     "output_type": "stream",
     "text": [
      "27/83\n"
     ]
    },
    {
     "name": "stderr",
     "output_type": "stream",
     "text": [
      "100%|█████████████████████████████████████████████| 1/1 [00:02<00:00,  2.06s/it]\n"
     ]
    },
    {
     "name": "stdout",
     "output_type": "stream",
     "text": [
      "28/83\n",
      "29/83\n",
      "30/83\n",
      "31/83\n"
     ]
    },
    {
     "name": "stderr",
     "output_type": "stream",
     "text": [
      "100%|█████████████████████████████████████████████| 2/2 [00:04<00:00,  2.13s/it]\n"
     ]
    },
    {
     "name": "stdout",
     "output_type": "stream",
     "text": [
      "32/83\n"
     ]
    },
    {
     "name": "stderr",
     "output_type": "stream",
     "text": [
      "100%|█████████████████████████████████████████████| 6/6 [00:12<00:00,  2.12s/it]\n"
     ]
    },
    {
     "name": "stdout",
     "output_type": "stream",
     "text": [
      "33/83\n"
     ]
    },
    {
     "name": "stderr",
     "output_type": "stream",
     "text": [
      "100%|█████████████████████████████████████████████| 3/3 [00:06<00:00,  2.12s/it]\n"
     ]
    },
    {
     "name": "stdout",
     "output_type": "stream",
     "text": [
      "34/83\n"
     ]
    },
    {
     "name": "stderr",
     "output_type": "stream",
     "text": [
      "100%|███████████████████████████████████████████| 26/26 [00:54<00:00,  2.10s/it]\n"
     ]
    },
    {
     "name": "stdout",
     "output_type": "stream",
     "text": [
      "35/83\n",
      "36/83\n",
      "37/83\n"
     ]
    },
    {
     "name": "stderr",
     "output_type": "stream",
     "text": [
      "100%|█████████████████████████████████████████████| 5/5 [00:10<00:00,  2.11s/it]\n"
     ]
    },
    {
     "name": "stdout",
     "output_type": "stream",
     "text": [
      "38/83\n"
     ]
    },
    {
     "name": "stderr",
     "output_type": "stream",
     "text": [
      "100%|███████████████████████████████████████████| 48/48 [01:33<00:00,  1.96s/it]\n"
     ]
    },
    {
     "name": "stdout",
     "output_type": "stream",
     "text": [
      "39/83\n"
     ]
    },
    {
     "name": "stderr",
     "output_type": "stream",
     "text": [
      "100%|█████████████████████████████████████████████| 1/1 [00:01<00:00,  2.00s/it]\n"
     ]
    },
    {
     "name": "stdout",
     "output_type": "stream",
     "text": [
      "40/83\n",
      "41/83\n"
     ]
    },
    {
     "name": "stderr",
     "output_type": "stream",
     "text": [
      "100%|███████████████████████████████████████████| 16/16 [00:29<00:00,  1.85s/it]\n"
     ]
    },
    {
     "name": "stdout",
     "output_type": "stream",
     "text": [
      "42/83\n"
     ]
    },
    {
     "name": "stderr",
     "output_type": "stream",
     "text": [
      "100%|███████████████████████████████████████████| 20/20 [00:40<00:00,  2.00s/it]\n"
     ]
    },
    {
     "name": "stdout",
     "output_type": "stream",
     "text": [
      "43/83\n"
     ]
    },
    {
     "name": "stderr",
     "output_type": "stream",
     "text": [
      "100%|█████████████████████████████████████████████| 9/9 [00:19<00:00,  2.12s/it]\n"
     ]
    },
    {
     "name": "stdout",
     "output_type": "stream",
     "text": [
      "44/83\n"
     ]
    },
    {
     "name": "stderr",
     "output_type": "stream",
     "text": [
      "100%|███████████████████████████████████████████| 11/11 [00:23<00:00,  2.13s/it]\n"
     ]
    },
    {
     "name": "stdout",
     "output_type": "stream",
     "text": [
      "45/83\n"
     ]
    },
    {
     "name": "stderr",
     "output_type": "stream",
     "text": [
      "100%|███████████████████████████████████████████| 26/26 [00:52<00:00,  2.03s/it]\n"
     ]
    },
    {
     "name": "stdout",
     "output_type": "stream",
     "text": [
      "46/83\n",
      "47/83\n",
      "48/83\n"
     ]
    },
    {
     "name": "stderr",
     "output_type": "stream",
     "text": [
      "100%|█████████████████████████████████████████████| 4/4 [00:07<00:00,  1.96s/it]\n"
     ]
    },
    {
     "name": "stdout",
     "output_type": "stream",
     "text": [
      "49/83\n"
     ]
    },
    {
     "name": "stderr",
     "output_type": "stream",
     "text": [
      "100%|███████████████████████████████████████████| 29/29 [00:54<00:00,  1.89s/it]\n"
     ]
    },
    {
     "name": "stdout",
     "output_type": "stream",
     "text": [
      "50/83\n",
      "51/83\n",
      "52/83\n",
      "53/83\n",
      "54/83\n",
      "55/83\n",
      "56/83\n"
     ]
    },
    {
     "name": "stderr",
     "output_type": "stream",
     "text": [
      "100%|█████████████████████████████████████████████| 2/2 [00:04<00:00,  2.01s/it]\n"
     ]
    },
    {
     "name": "stdout",
     "output_type": "stream",
     "text": [
      "57/83\n",
      "58/83\n",
      "59/83\n",
      "60/83\n",
      "61/83\n",
      "62/83\n",
      "63/83\n",
      "64/83\n",
      "65/83\n",
      "66/83\n"
     ]
    },
    {
     "name": "stderr",
     "output_type": "stream",
     "text": [
      "100%|███████████████████████████████████████████| 1/1 [00:00<00:00, 6721.64it/s]\n"
     ]
    },
    {
     "name": "stdout",
     "output_type": "stream",
     "text": [
      "67/83\n",
      "68/83\n"
     ]
    },
    {
     "name": "stderr",
     "output_type": "stream",
     "text": [
      "100%|█████████████████████████████████████████████| 8/8 [00:16<00:00,  2.06s/it]\n"
     ]
    },
    {
     "name": "stdout",
     "output_type": "stream",
     "text": [
      "69/83\n",
      "70/83\n",
      "71/83\n"
     ]
    },
    {
     "name": "stderr",
     "output_type": "stream",
     "text": [
      "100%|█████████████████████████████████████████████| 1/1 [00:02<00:00,  2.08s/it]\n"
     ]
    },
    {
     "name": "stdout",
     "output_type": "stream",
     "text": [
      "72/83\n"
     ]
    },
    {
     "name": "stderr",
     "output_type": "stream",
     "text": [
      "100%|█████████████████████████████████████████████| 1/1 [00:02<00:00,  2.12s/it]\n"
     ]
    },
    {
     "name": "stdout",
     "output_type": "stream",
     "text": [
      "73/83\n",
      "74/83\n",
      "75/83\n",
      "76/83\n"
     ]
    },
    {
     "name": "stderr",
     "output_type": "stream",
     "text": [
      "100%|███████████████████████████████████████████| 21/21 [00:43<00:00,  2.08s/it]\n"
     ]
    },
    {
     "name": "stdout",
     "output_type": "stream",
     "text": [
      "77/83\n",
      "78/83\n",
      "79/83\n",
      "80/83\n",
      "81/83\n",
      "82/83\n"
     ]
    },
    {
     "name": "stderr",
     "output_type": "stream",
     "text": [
      "100%|███████████████████████████████████████████| 25/25 [00:52<00:00,  2.11s/it]\n"
     ]
    }
   ],
   "source": [
    "new_list_human = []\n",
    "for j in range(len(resss)):\n",
    "    print(f\"{j}/{len(resss)}\")\n",
    "    if not np.all(np.isin(resss.loc[j,\"human\"], symbols)):\n",
    "        chg_idx = np.where(np.logical_not(np.isin(resss.loc[j,\"human\"], symbols)))[0]\n",
    "        but_synon = np.isin(resss.loc[j,\"human\"][chg_idx], unique_synonims)\n",
    "\n",
    "        new_names = []\n",
    "        for i in tqdm(range(len(chg_idx))):\n",
    "            if but_synon[i]:\n",
    "                new_names.append(symbols[([resss.loc[j,\"human\"][chg_idx[i]] in s for s in synonyms])].values[0])\n",
    "            else:\n",
    "                new_names.append(resss.loc[j,\"human\"][chg_idx[i]])\n",
    "\n",
    "        new_list_human.append(np.delete(resss.loc[j,\"human\"], chg_idx[np.where(np.logical_not(but_synon))[0]]))\n",
    "    else:\n",
    "        new_list_human.append(resss.loc[j,\"human\"])"
   ]
  },
  {
   "cell_type": "code",
   "execution_count": 264,
   "id": "40780108-38af-46ed-af8f-781f0881da64",
   "metadata": {
    "tags": []
   },
   "outputs": [],
   "source": [
    "resss[\"human_new\"] = new_list_human"
   ]
  },
  {
   "cell_type": "code",
   "execution_count": 285,
   "id": "295c9bab-e33e-4fa2-860c-439bff3b02bf",
   "metadata": {
    "tags": []
   },
   "outputs": [],
   "source": [
    "for i in range(len(resss)):\n",
    "    if not os.path.isdir(os.path.isdir(\"STRING_data/STRING_to_VIRPROT/\"+resss.loc[i,\"name\"])):\n",
    "        os.mkdir(\"STRING_data/STRING_to_VIRPROT/\"+resss.loc[i,\"name\"])\n",
    "    np.savetxt(X=resss.loc[i,\"human_new\"], fname=\"STRING_data/STRING_to_VIRPROT/\"+resss.loc[i,\"name\"]+\"/type1.txt\", fmt=\"%s\")\n",
    "    np.savetxt(X=resss.loc[i,\"virus\"], fname=\"STRING_data/STRING_to_VIRPROT/\"+resss.loc[i,\"name\"]+\"/type0.txt\", fmt=\"%s\")"
   ]
  }
 ],
 "metadata": {
  "kernelspec": {
   "display_name": "base",
   "language": "python",
   "name": "base"
  },
  "language_info": {
   "codemirror_mode": {
    "name": "ipython",
    "version": 3
   },
   "file_extension": ".py",
   "mimetype": "text/x-python",
   "name": "python",
   "nbconvert_exporter": "python",
   "pygments_lexer": "ipython3",
   "version": "3.10.9"
  }
 },
 "nbformat": 4,
 "nbformat_minor": 5
}
