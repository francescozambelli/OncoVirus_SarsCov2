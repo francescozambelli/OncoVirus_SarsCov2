{
 "cells": [
  {
   "cell_type": "code",
   "execution_count": 1,
   "metadata": {
    "tags": []
   },
   "outputs": [],
   "source": [
    "import numpy as np\n",
    "from sklearn.ensemble import RandomForestClassifier\n",
    "from sklearn.metrics import f1_score, accuracy_score, confusion_matrix\n",
    "from sklearn.model_selection import train_test_split\n",
    "from sklearn.decomposition import PCA\n",
    "from scipy.stats import gaussian_kde\n",
    "import pandas as pd\n",
    "import seaborn as sns\n",
    "import matplotlib.pyplot as plt\n",
    "from operator import itemgetter\n",
    "import os\n",
    "\n",
    "from __future__ import print_function, division\n",
    "\n",
    "import torch\n",
    "import torch.nn as nn\n",
    "import torch.nn.functional as F\n",
    "import torch.optim as optim\n",
    "from torch.utils.data import Dataset, DataLoader, random_split\n",
    "\n",
    "import torchbearer\n",
    "from torchbearer import Trial, metrics, Metric\n",
    "from torchbearer.callbacks import Best, ModelCheckpoint\n",
    "\n",
    "import optuna\n",
    "from optuna.samplers import TPESampler, RandomSampler\n",
    "\n",
    "import ipywidgets\n",
    "from tqdm import tqdm\n",
    "\n",
    "import gseapy as gp\n",
    "\n",
    "import warnings\n",
    "warnings.filterwarnings(\"ignore\")"
   ]
  },
  {
   "cell_type": "code",
   "execution_count": 2,
   "metadata": {
    "tags": []
   },
   "outputs": [],
   "source": [
    "virus_metadata = pd.read_csv(\"../Data/Files/viruses_metadata.csv\", header=0, sep=\";\")\n",
    "\n",
    "virus_metadata_onco = virus_metadata[virus_metadata[\"isOncogenic\"] == True].reset_index()\n",
    "virus_metadata_nonco = virus_metadata[virus_metadata[\"isOncogenic\"] == False].reset_index()\n",
    "\n",
    "#dictionary containing a unquie mapping between name of the protein and a corresponding index\n",
    "node_map_df = pd.read_csv(\"../Data/Files/node_map.csv\")\n",
    "node_map_dict = {k:(v-1) for k,v in zip(node_map_df[\"Prot\"], node_map_df[\"Index\"])}\n",
    "\n",
    "biostr_df = pd.read_csv(\"../Data/data_BIOGRID/BIOGRID_homo_sapiens.nodes\", sep=\" \")\n",
    "biostr_map = dict(zip(biostr_df[\"nodeID\"], biostr_df[\"nodeSymbol\"]))"
   ]
  },
  {
   "cell_type": "code",
   "execution_count": 3,
   "metadata": {
    "tags": []
   },
   "outputs": [],
   "source": [
    "#assign to each virus genetic material type\n",
    "\n",
    "vm1 = virus_metadata[virus_metadata['neigh_order']==1]\n",
    "\n",
    "mapper = dict(zip(np.unique(vm1['family']),vt))\n",
    "\n",
    "vt = [\"dsDNA\",\"ssRNA+\",\"dsDNA\",\"ssRNA+\",\"ssRNA+\",\"ssRNA+\",\"ssRNA-\",\"ssRNA+\",\"ssDNA\",\"ssRNA\",\n",
    "     \"dsDNA\",\"ssRNA+\",\"dsDNA\",\"ssRNA-\",\"dsDNA\",\"ssRNA-\",\"ssDNA\",\"ssRNA-\",\"ssRNA+\",\"ssRNA-\",\"dsDNA\",\n",
    "     \"ssRNA+\",\"dsDNA\",\"dsRNA\",\"ssRNA(RT)\",\"ssRNA+\",\"ssRNA-0\",\"ssRNA+\",\"inc\"]\n",
    "\n",
    "vm1['VT']=vm1['family'].map(mapper)\n",
    "\n",
    "vm1[vm1['isOncogenic']==False][[\"RNA\" in v for v in vm1[vm1['isOncogenic']==False]['VT']]]['virus_short'].to_numpy().shape"
   ]
  },
  {
   "cell_type": "markdown",
   "metadata": {},
   "source": [
    "# Dataset Loading"
   ]
  },
  {
   "cell_type": "code",
   "execution_count": 3,
   "metadata": {
    "tags": []
   },
   "outputs": [
    {
     "name": "stdout",
     "output_type": "stream",
     "text": [
      "['n' 'n1o' 'n2o' 'n3o' 'o' 'n1s' 'n1o1s' 'n2o1s' 'o1s']\n",
      "['n' 'n1o']\n",
      "['n1s']\n",
      "['n1yn']\n",
      "['n1yn']\n"
     ]
    }
   ],
   "source": [
    "# files where all oncogenic viruses are used\n",
    "top_dir = np.array(os.listdir(\"../Data/ClassificationDataALL_4vir/topology\"))\n",
    "print(top_dir)\n",
    "top_dir_train = top_dir[[0,1]]\n",
    "print(top_dir_train)\n",
    "top_dir_pred = np.array(os.listdir(\"../Data/ClassificationDataALL_4vir/topology\"))[[5]]\n",
    "print(top_dir_pred)\n",
    "top_dir_synt = [np.array(os.listdir(\"../Data/ClassificationData_4vir/Test_Synt_330Nonco\"))[0]]\n",
    "print(top_dir_synt)\n",
    "top_dir_syntbstr = [np.array(os.listdir(\"../Data/ClassificationDataALL_4vir/Test_Synt_DistrSars/\"))[0]]\n",
    "print(top_dir_syntbstr)"
   ]
  },
  {
   "cell_type": "code",
   "execution_count": 4,
   "metadata": {
    "tags": []
   },
   "outputs": [],
   "source": [
    "def normalize_fix_nEntr(Xi, nentr=2000):\n",
    "    for i in tqdm(range(len(Xi))):\n",
    "        empty_provv = np.zeros(len(Xi[0]))\n",
    "        empty_provv[np.argsort(Xi[i])[-nentr:]] = Xi[i][np.argsort(Xi[i])[-nentr:]]\n",
    "        n_nz = empty_provv.nonzero()[0].shape[0]\n",
    "        if n_nz==nentr:\n",
    "            Xi[i]=empty_provv/sum(empty_provv)\n",
    "        else:\n",
    "            ind_provv = np.random.choice(np.where(empty_provv==0)[0], nentr-n_nz, replace=False)\n",
    "            vals = np.random.rand(nentr-n_nz)\n",
    "            vals = vals/sum(vals)*0.1\n",
    "            Xi[i]=empty_provv/sum(empty_provv)*0.9\n",
    "            Xi[i][ind_provv] = vals\n",
    "    return Xi"
   ]
  },
  {
   "cell_type": "code",
   "execution_count": 5,
   "metadata": {
    "tags": []
   },
   "outputs": [
    {
     "name": "stdout",
     "output_type": "stream",
     "text": [
      "Loading Train and Val\n"
     ]
    },
    {
     "name": "stderr",
     "output_type": "stream",
     "text": [
      "100%|███████████████████████████████████████| 3000/3000 [00:39<00:00, 75.30it/s]\n",
      "100%|███████████████████████████████████████| 3000/3000 [00:35<00:00, 83.48it/s]\n"
     ]
    }
   ],
   "source": [
    "#training samples\n",
    "print(\"Loading Train and Val\")\n",
    "X = []\n",
    "for t in top_dir_train:\n",
    "    for i in tqdm(range(3000)):#os.listdir(\"../Data/ClassificationData_4vir/topology/\"+t):\n",
    "        X.append(np.loadtxt(\"../Data/ClassificationDataALL_4vir/topology_p/\"+t+\"/\"+str(i)+\".txt\"))\n",
    "X=np.array(X)\n",
    "\n",
    "#training samples labels\n",
    "label_dict = dict(zip(top_dir_train, [0,1]))\n",
    "\n",
    "y = []\n",
    "for t in top_dir_train:\n",
    "    y.append([label_dict[t]]*3000)#len(os.listdir(\"../Data/ClassificationData_4vir/topology/\"+t)))\n",
    "\n",
    "y = np.concatenate(y)\n",
    "\n"
   ]
  },
  {
   "cell_type": "code",
   "execution_count": 6,
   "metadata": {
    "tags": []
   },
   "outputs": [
    {
     "name": "stderr",
     "output_type": "stream",
     "text": [
      "100%|██████████████████████████████████████| 6000/6000 [00:21<00:00, 273.67it/s]\n"
     ]
    }
   ],
   "source": [
    "X = normalize_fix_nEntr(X, nentr=2000)"
   ]
  },
  {
   "cell_type": "code",
   "execution_count": 8,
   "metadata": {
    "tags": []
   },
   "outputs": [
    {
     "name": "stdout",
     "output_type": "stream",
     "text": [
      "Loading Test\n"
     ]
    },
    {
     "name": "stderr",
     "output_type": "stream",
     "text": [
      "100%|█████████████████████████████████████████| 100/100 [00:04<00:00, 23.99it/s]\n",
      "100%|████████████████████████████████████████| 100/100 [00:00<00:00, 234.60it/s]\n"
     ]
    },
    {
     "name": "stdout",
     "output_type": "stream",
     "text": [
      "(100, 19945)\n",
      "Loading Synt Test\n"
     ]
    },
    {
     "name": "stderr",
     "output_type": "stream",
     "text": [
      "100%|█████████████████████████████████████████| 100/100 [00:02<00:00, 43.99it/s]\n",
      "100%|████████████████████████████████████████| 100/100 [00:00<00:00, 225.59it/s]\n"
     ]
    },
    {
     "name": "stdout",
     "output_type": "stream",
     "text": [
      "(100, 19945)\n",
      "Loading SyntBSTR Test\n"
     ]
    },
    {
     "name": "stderr",
     "output_type": "stream",
     "text": [
      "100%|█████████████████████████████████████████| 100/100 [00:02<00:00, 43.79it/s]\n",
      "100%|████████████████████████████████████████| 100/100 [00:00<00:00, 286.00it/s]"
     ]
    },
    {
     "name": "stdout",
     "output_type": "stream",
     "text": [
      "(100, 19945)\n"
     ]
    },
    {
     "name": "stderr",
     "output_type": "stream",
     "text": [
      "\n"
     ]
    }
   ],
   "source": [
    "print(\"Loading Test\")\n",
    "# samples with sarscov2\n",
    "X_pred = []\n",
    "pred_len = []\n",
    "for t in top_dir_pred:\n",
    "    #plen = np.minimum(len(os.listdir(\"../Data/ClassificationData_4vir/topology/\"+t)),200)\n",
    "    #pred_len.append(plen)\n",
    "    for i in tqdm(range(100)):#os.listdir(\"../Data/ClassificationData_4vir/topology/\"+t):\n",
    "        X_pred.append(np.loadtxt(\"../Data/ClassificationDataALL_4vir/topology/\"+t+\"/\"+str(i)+\".txt\"))\n",
    "\n",
    "X_pred = np.array(X_pred)\n",
    "X_pred = normalize_fix_nEntr(X_pred)\n",
    "print(X_pred.shape)\n",
    "\n",
    "print(\"Loading Synt Test\")\n",
    "# samples with sarscov2\n",
    "X_synt = []\n",
    "synt_len = []\n",
    "for t in top_dir_synt:\n",
    "    #plen = np.minimum(len(os.listdir(\"../Data/ClassificationData_4vir/topology/\"+t)),200)\n",
    "    #pred_len.append(plen)\n",
    "    for i in tqdm(range(100)):#os.listdir(\"../Data/ClassificationData_4vir/topology/\"+t):\n",
    "        X_synt.append(np.loadtxt(\"../Data/ClassificationData_4vir/Test_Synt_330Nonco/\"+t+\"/\"+str(i)+\".txt\"))\n",
    "\n",
    "X_synt = np.array(X_synt)\n",
    "X_synt = normalize_fix_nEntr(X_synt)\n",
    "print(X_synt.shape)\n",
    "\n",
    "print(\"Loading SyntBSTR Test\")\n",
    "# samples with sarscov2\n",
    "X_syntbstr = []\n",
    "syntbstr_len = []\n",
    "for t in top_dir_syntbstr:\n",
    "    #plen = np.minimum(len(os.listdir(\"../Data/ClassificationData_4vir/topology/\"+t)),200)\n",
    "    #pred_len.append(plen)\n",
    "    for i in tqdm(range(100)):#os.listdir(\"../Data/ClassificationData_4vir/topology/\"+t):\n",
    "        X_syntbstr.append(np.loadtxt(\"../Data/ClassificationDataALL_4vir/Test_Synt_DistrSars/\"+t+\"/\"+str(i)+\".txt\"))\n",
    "\n",
    "X_syntbstr = np.array(X_syntbstr)\n",
    "X_syntbstr = normalize_fix_nEntr(X_syntbstr)\n",
    "print(X_syntbstr.shape)"
   ]
  },
  {
   "cell_type": "markdown",
   "metadata": {},
   "source": [
    "# PERCEPTRON"
   ]
  },
  {
   "cell_type": "markdown",
   "metadata": {},
   "source": [
    "## Dataset and Dataloaders Definition"
   ]
  },
  {
   "cell_type": "code",
   "execution_count": 7,
   "metadata": {
    "tags": []
   },
   "outputs": [],
   "source": [
    "class AdjacencyDataset(Dataset):\n",
    "    \"\"\"Apples Dataset\"\"\"\n",
    "\n",
    "    def __init__(self, X, y=None, test=False):\n",
    "        \"\"\"\n",
    "        Args:\n",
    "        \"\"\"\n",
    "        self.test = test\n",
    "        self.data = X\n",
    "        self.labels = y\n",
    "        \n",
    "    def __len__(self):\n",
    "        return len(self.data)\n",
    "\n",
    "    def __getitem__(self, idx):\n",
    "        dat = self.data[idx]#np.array([self.data[idx].nonzero()[0], self.data[idx][self.data[idx].nonzero()[0]]])\n",
    "        if self.test:\n",
    "            return torch.from_numpy(dat).type(torch.FloatTensor)\n",
    "        else:\n",
    "            return [torch.from_numpy(dat).type(torch.FloatTensor), int(self.labels[idx])]\n",
    "        "
   ]
  },
  {
   "cell_type": "code",
   "execution_count": 10,
   "metadata": {
    "tags": []
   },
   "outputs": [],
   "source": [
    "mydat_sars = AdjacencyDataset(X_pred, test=True)\n",
    "mydat_synt = AdjacencyDataset(X_synt, test=True)\n",
    "mydat_syntbstr = AdjacencyDataset(X_syntbstr, test=True)\n",
    "\n",
    "sars_dataloader = DataLoader(mydat_sars, batch_size=10, shuffle=False, num_workers=0)\n",
    "synt_dataloader = DataLoader(mydat_synt, batch_size=10, shuffle=False, num_workers=0)\n",
    "syntbstr_dataloader = DataLoader(mydat_syntbstr, batch_size=10, shuffle=False, num_workers=0)"
   ]
  },
  {
   "cell_type": "markdown",
   "metadata": {},
   "source": [
    "## Model"
   ]
  },
  {
   "cell_type": "code",
   "execution_count": 8,
   "metadata": {
    "tags": []
   },
   "outputs": [],
   "source": [
    "class Model(nn.Module):\n",
    "    def __init__(self):\n",
    "        super().__init__()\n",
    "        self.lin1 = nn.Linear(in_features=19945, out_features=2)\n",
    "\n",
    "    def forward(self, x):\n",
    "        x=self.lin1(x)\n",
    "        return x\n",
    "\n",
    "model1 = Model()\n",
    "model1=model1.cpu()\n"
   ]
  },
  {
   "cell_type": "code",
   "execution_count": 9,
   "metadata": {
    "tags": []
   },
   "outputs": [],
   "source": [
    "def set_up_trial(X, ind):\n",
    "    index_rem = np.loadtxt(\"../Data/MLRes/indexes/\"+str(ind)+\"_index.txt\", dtype=int)\n",
    "    index_rem = (index_rem[index_rem<(len(X)//2)])+(len(X)//2)\n",
    "\n",
    "    X_test = X[index_rem]\n",
    "    y_test = y[index_rem]\n",
    "    X_train, X_val, y_train, y_val = train_test_split(X[np.delete(np.arange(len(X)), index_rem)], y[np.delete(np.arange(len(X)), index_rem)], test_size=0.1, random_state=42)\n",
    "    \n",
    "    mydat_train = AdjacencyDataset(X_train, y_train)\n",
    "    mydat_val = AdjacencyDataset(X_val, y_val)\n",
    "    mydat_test = AdjacencyDataset(X_test, y_test)\n",
    "\n",
    "    train_dataloader = DataLoader(mydat_train, batch_size=20, shuffle=True, num_workers=0)\n",
    "    val_dataloader = DataLoader(mydat_val, batch_size=20, shuffle=False, num_workers=0)\n",
    "    test_dataloader = DataLoader(mydat_test, batch_size=20, shuffle=False, num_workers=0)\n",
    "     \n",
    "    check_last = ModelCheckpoint('checkpoints/check_last_'+str(i)+'.pth')\n",
    "    \n",
    "    model = Model()\n",
    "    model = model1.cpu()\n",
    "    \n",
    "    trial_now = Trial(model,\n",
    "                      optim.Adam(model1.parameters(), lr=5e-04), \n",
    "                      nn.CrossEntropyLoss(), \n",
    "                      metrics=[\"loss\", \"acc\"],\n",
    "                      callbacks=[check_last])\n",
    "    \n",
    "    trial_now = trial_now.load_state_dict(state_dict=torch.load(\"checkpoints/check_last_\"+str(ind)+\".pth\"))\n",
    "   \n",
    "    trial_now.with_generators(train_generator=train_dataloader, \n",
    "                              val_generator=val_dataloader, \n",
    "                              test_generator=test_dataloader)\n",
    "    \n",
    "    my_trial_now = trial_now.run(epochs=600, verbose=1)\n",
    "    \n",
    "    return trial_now, my_trial_now"
   ]
  },
  {
   "cell_type": "code",
   "execution_count": 12,
   "metadata": {
    "tags": []
   },
   "outputs": [
    {
     "data": {
      "application/vnd.jupyter.widget-view+json": {
       "model_id": "54d105e71c1f46f29b4f5fecc213c1e4",
       "version_major": 2,
       "version_minor": 0
      },
      "text/plain": [
       "100%|##########| 600/600 [00:00<?, ?it/s]"
      ]
     },
     "metadata": {},
     "output_type": "display_data"
    }
   ],
   "source": [
    "trial, mytrial = set_up_trial(X, 78)"
   ]
  },
  {
   "cell_type": "code",
   "execution_count": 345,
   "metadata": {
    "tags": []
   },
   "outputs": [
    {
     "data": {
      "image/png": "[encoded data removed]",
      "text/plain": [
       "<Figure size 900x400 with 2 Axes>"
      ]
     },
     "metadata": {},
     "output_type": "display_data"
    }
   ],
   "source": [
    "__, ax = plt.subplots(1,2,figsize=(9,4))\n",
    "\n",
    "ax[0].semilogy([mt[\"loss\"] for mt in mt_now], label=\"Train loss\", color=\"C0\")\n",
    "ax[0].semilogy([mt[\"val_loss\"] for mt in mt_now], label=\"Val loss\", color=\"navy\")\n",
    "\n",
    "ax[1].plot([mt[\"acc\"] for mt in mt_now], label=\"Train Acc\", color=\"orange\")\n",
    "ax[1].plot([mt[\"val_acc\"] for mt in mt_now], label=\"Val Acc\", color=\"red\")\n",
    "\n",
    "[axi.set_xlabel(\"Epochs\") for axi in ax]\n",
    "[axi.legend() for axi in ax]\n",
    "[axi.grid(ls=\"--\") for axi in ax]\n",
    "ax[0].grid(which=\"minor\", ls=\":\")\n",
    "plt.tight_layout()"
   ]
  },
  {
   "cell_type": "code",
   "execution_count": 10,
   "metadata": {
    "tags": []
   },
   "outputs": [],
   "source": [
    "def plot_confusion_matrix(trial, which=\"val\"):\n",
    "    if which==\"val\":\n",
    "        val_pred=np.argmax(trial.predict(data_key=torchbearer.VALIDATION_DATA).detach().numpy(),axis=1)\n",
    "        val_true=[v[1] for v in trial.state.data[\"validation_generator\"].dataset]\n",
    "        title=\"VALIDATION CONFUSION MATRIX\"\n",
    "    elif which==\"test\":\n",
    "        val_pred=np.argmax(trial.predict(data_key=torchbearer.TEST_DATA).detach().numpy(),axis=1)\n",
    "        val_true=[v[1] for v in trial.state.data[\"test_generator\"].dataset]\n",
    "        title=\"TEST CONFUSION MATRIX\"\n",
    "    else:\n",
    "        raise ValueError(\"which should be either val or test\")\n",
    "    \n",
    "    confM_val = confusion_matrix(y_true = val_true, y_pred = val_pred, labels=np.arange(2))\n",
    "\n",
    "    plt.figure(figsize=(6,6))\n",
    "    sns.heatmap(confM_val, annot=True, fmt=\"g\", cbar=False, cmap=\"magma\")\n",
    "    plt.title(title, weight=\"bold\")\n",
    "    plt.ylabel(\"True labels\")\n",
    "    plt.xlabel(\"Predicted labels\")\n",
    "    plt.tight_layout()\n",
    "    \n",
    "    return confM_val"
   ]
  },
  {
   "cell_type": "code",
   "execution_count": 77,
   "metadata": {
    "tags": []
   },
   "outputs": [],
   "source": [
    "biostr_df = pd.read_csv(\"../Data/data_BIOGRID/BIOGRID_homo_sapiens.nodes\", sep=\" \")\n",
    "biostr_map = dict(zip(biostr_df[\"nodeID\"], biostr_df[\"nodeSymbol\"]))\n",
    "\n",
    "def plot_weights(trial, ref_df):\n",
    "    weights = trial.state[\"model\"].lin1.weight.data.detach().numpy()\n",
    "    weights = np.array([weights[i]/max(weights[i]) for i in range(len(weights))])\n",
    "    \n",
    "    weigh_df = ref_df.copy()\n",
    "\n",
    "    for i in range(2):\n",
    "        weigh_df[\"W\"+str(i)] = weights[i]\n",
    "    weigh_df[\"std\"] = np.abs(weigh_df[\"W0\"]-weigh_df[\"W1\"])\n",
    "    \n",
    "    plt.figure(figsize=(16,3))\n",
    "    sns.heatmap(weights)\n",
    "    plt.title(\"PERCEPTRON WEIGHTS HEATMAP\", fontweight=\"bold\")\n",
    "    plt.xlabel(\"Node ID\")\n",
    "    plt.ylabel(\"Label\")\n",
    "    plt.tight_layout()\n",
    "    \n",
    "    return weigh_df"
   ]
  },
  {
   "cell_type": "code",
   "execution_count": 73,
   "metadata": {
    "tags": []
   },
   "outputs": [],
   "source": [
    "def plot_weights_heatmap(weigh_df):\n",
    "    gauss = gaussian_kde(weigh_df[[\"nodeID\",\"W1\"]].T.to_numpy())\n",
    "    kde = gaussian_kde(weigh_df[[\"nodeID\",\"W1\"]].T.to_numpy())\n",
    "    density_1 = kde(weigh_df[[\"nodeID\",\"W1\"]].T.to_numpy())\n",
    "    gauss = gaussian_kde(weigh_df[[\"nodeID\",\"W0\"]].T.to_numpy())\n",
    "    kde = gaussian_kde(weigh_df[[\"nodeID\",\"W0\"]].T.to_numpy())\n",
    "    density_0 = kde(weigh_df[[\"nodeID\",\"W0\"]].T.to_numpy())\n",
    "\n",
    "    _, ax = plt.subplots(1,2, figsize=(12,4))\n",
    "\n",
    "    ax[0].scatter(weigh_df[\"nodeID\"], weights[0], c=density, cmap='viridis', s=0.1)\n",
    "    ax[0].set_title(\"WEIGHTS LABEL 0\", fontweight=\"bold\")\n",
    "    ax[0].set_xlabel(\"Entry position\")\n",
    "    ax[0].set_ylabel(\"Weight value\")\n",
    "    ax[1].scatter(weigh_df[\"nodeID\"], weights[1], c=density, cmap='viridis', s=0.1)\n",
    "    ax[1].set_title(\"WEIGHTS LABEL 1\", fontweight=\"bold\")\n",
    "    ax[1].set_xlabel(\"Entry position\")\n",
    "    ax[1].set_ylabel(\"Weight value\")\n",
    "    plt.tight_layout()"
   ]
  },
  {
   "cell_type": "code",
   "execution_count": 16,
   "metadata": {
    "tags": []
   },
   "outputs": [
    {
     "data": {
      "application/vnd.jupyter.widget-view+json": {
       "model_id": "002e14e9dd0949daab862b44b5f80421",
       "version_major": 2,
       "version_minor": 0
      },
      "text/plain": [
       "100%|##########| 600/600 [00:00<?, ?it/s]"
      ]
     },
     "metadata": {},
     "output_type": "display_data"
    }
   ],
   "source": [
    "trial, mytrial = set_up_trial(X, 90)"
   ]
  },
  {
   "cell_type": "code",
   "execution_count": 17,
   "metadata": {
    "tags": []
   },
   "outputs": [
    {
     "data": {
      "application/vnd.jupyter.widget-view+json": {
       "model_id": "4e75ba3875374775b730f13b248062ee",
       "version_major": 2,
       "version_minor": 0
      },
      "text/plain": [
       "0/1(p):   0%|          | 0/29 [00:00<?, ?it/s]"
      ]
     },
     "metadata": {},
     "output_type": "display_data"
    },
    {
     "name": "stdout",
     "output_type": "stream",
     "text": [
      " 0.928  &  0.918  //\n"
     ]
    },
    {
     "data": {
      "image/png": "[encoded data removed]",
      "text/plain": [
       "<Figure size 600x600 with 1 Axes>"
      ]
     },
     "metadata": {},
     "output_type": "display_data"
    }
   ],
   "source": [
    "conf_mat = plot_confusion_matrix(trial, \"val\")\n",
    "spec = conf_mat[0,0]/sum(conf_mat[0])\n",
    "sens = conf_mat[1,1]/sum(conf_mat[1])\n",
    "print(\" %.3f  &  %.3f  //\" % (sens, spec))"
   ]
  },
  {
   "cell_type": "code",
   "execution_count": 78,
   "metadata": {
    "tags": []
   },
   "outputs": [
    {
     "data": {
      "image/png": "[encoded data removed]",
      "text/plain": [
       "<Figure size 1600x300 with 2 Axes>"
      ]
     },
     "metadata": {},
     "output_type": "display_data"
    }
   ],
   "source": [
    "weigh_df = plot_weights(trial, ref_df=biostr_df)"
   ]
  },
  {
   "cell_type": "markdown",
   "metadata": {},
   "source": [
    "## Intersection analysis"
   ]
  },
  {
   "cell_type": "code",
   "execution_count": 12,
   "metadata": {
    "tags": []
   },
   "outputs": [],
   "source": [
    "def custom_intersection(arr):\n",
    "    inters = np.intersect1d(arr[0],arr[1])\n",
    "    for i in range(2,len(arr)):\n",
    "        inters = np.intersect1d(inters, arr[i])\n",
    "    return inters"
   ]
  },
  {
   "cell_type": "code",
   "execution_count": 80,
   "metadata": {
    "tags": []
   },
   "outputs": [],
   "source": [
    "top_50=[]\n",
    "w0_50=[]\n",
    "w1_50=[]\n",
    "for a in [28,43,44,67,75,77,78,90]:\n",
    "    top_50.append(pd.read_csv(\"../Data/MLRes/to_50_\"+str(a)+\".csv\").to_numpy())\n",
    "    w0_50.append(pd.read_csv(\"../Data/MLRes/w0_50_\"+str(a)+\".csv\").to_numpy())\n",
    "    w1_50.append(pd.read_csv(\"../Data/MLRes/w1_50_\"+str(a)+\".csv\").to_numpy())"
   ]
  },
  {
   "cell_type": "code",
   "execution_count": 82,
   "metadata": {
    "tags": []
   },
   "outputs": [
    {
     "name": "stdout",
     "output_type": "stream",
     "text": [
      "CBX3, CTBP1, DYRK1B, FBXO3, GATA4, HIPK2, HIST1H2BG, HIST2H3A, LZTS2, MECP2, MYB, MYBL1, NCK2, NKX2-1, NKX2-5, NLK, NPPA, NPSR1, PPM1D, RASSF5, RGMA, SENP1, SENP2, SKI, SP100, TP53INP1, TRIM29, ZBTB4\n"
     ]
    }
   ],
   "source": [
    "print((\", \").join(custom_intersection([top_50[i] for i in [0,1,2,3,4,5,7]])))"
   ]
  },
  {
   "cell_type": "markdown",
   "metadata": {},
   "source": [
    "## Top 50 production"
   ]
  },
  {
   "cell_type": "code",
   "execution_count": 38,
   "metadata": {
    "tags": []
   },
   "outputs": [
    {
     "data": {
      "application/vnd.jupyter.widget-view+json": {
       "model_id": "2d77ce059aae463ca670c07bf947e486",
       "version_major": 2,
       "version_minor": 0
      },
      "text/plain": [
       "100%|##########| 600/600 [00:00<?, ?it/s]"
      ]
     },
     "metadata": {},
     "output_type": "display_data"
    },
    {
     "data": {
      "application/vnd.jupyter.widget-view+json": {
       "model_id": "0245e7abff2e40a48a9a6cfbc44e83f2",
       "version_major": 2,
       "version_minor": 0
      },
      "text/plain": [
       "100%|##########| 600/600 [00:00<?, ?it/s]"
      ]
     },
     "metadata": {},
     "output_type": "display_data"
    }
   ],
   "source": [
    "for i in [67,75]:\n",
    "    tr_now, mt_now = set_up_trial(X, i)\n",
    "    weights = tr_now.state[\"model\"].lin1.weight.detach().numpy()\n",
    "    weights = np.array([weights[i]/max(weights[i]) for i in range(len(weights))])\n",
    "\n",
    "    weigh_df = biostr_df.copy()\n",
    "\n",
    "    for j in range(2):\n",
    "        weigh_df[\"W\"+str(j)] = weights[j]\n",
    "    weigh_df[\"std\"] = np.abs(weigh_df[\"W0\"]-weigh_df[\"W1\"])\n",
    "\n",
    "    weigh_df.sort_values(\"W1\", ascending=False).head(50)[\"nodeSymbol\"].to_csv(\"../Data/MLRes/w1_50_\"+str(i)+\".csv\", index=False)"
   ]
  },
  {
   "cell_type": "markdown",
   "metadata": {},
   "source": [
    "## Trials production"
   ]
  },
  {
   "cell_type": "code",
   "execution_count": null,
   "metadata": {
    "tags": []
   },
   "outputs": [],
   "source": [
    "biostr_df = pd.read_csv(\"../Data/data_BIOGRID/BIOGRID_homo_sapiens.nodes\", sep=\" \")\n",
    "biostr_map = dict(zip(biostr_df[\"nodeID\"], biostr_df[\"nodeSymbol\"]))\n",
    "\n",
    "synt_pred_list, syntbstr_pred_list, test_pred_list, sars_pred_list = [],[],[],[]\n",
    "top_50 = []\n",
    "\n",
    "for i in [75,77,78,90]:\n",
    "    index_rem = np.loadtxt(\"../Data/MLRes/indexes/\"+str(i)+\"_index.txt\", dtype=int)\n",
    "    index_rem = (index_rem[index_rem<(len(X)//2)])+(len(X)//2)\n",
    "\n",
    "    X_test = X[index_rem]\n",
    "    y_test = y[index_rem]\n",
    "    print(X_test.shape)\n",
    "    print(np.mean(y_test)==1)\n",
    "\n",
    "    X_train, X_val, y_train, y_val = train_test_split(X[np.delete(np.arange(len(X)), index_rem)], y[np.delete(np.arange(len(X)), index_rem)], test_size=0.1, random_state=42)\n",
    "\n",
    "    print(X_train.shape)\n",
    "    print(X_val.shape)\n",
    "    \n",
    "    mydat_train = AdjacencyDataset(X_train, y_train)\n",
    "    mydat_val = AdjacencyDataset(X_val, y_val)\n",
    "    mydat_test = AdjacencyDataset(X_test, y_test)\n",
    "\n",
    "    train_dataloader = DataLoader(mydat_train, batch_size=20, shuffle=True, num_workers=0)\n",
    "    val_dataloader = DataLoader(mydat_val, batch_size=20, shuffle=False, num_workers=0)\n",
    "    test_dataloader = DataLoader(mydat_test, batch_size=20, shuffle=False, num_workers=0)\n",
    "    \n",
    "    model1 = Model()\n",
    "    model1 = model1.cpu()\n",
    "    \n",
    "    check_last = ModelCheckpoint('checkpoints/check_last_'+str(i)+'.pth')\n",
    "\n",
    "    trial_2 = Trial(model1,\n",
    "                     optim.Adam(model1.parameters(), lr=5e-04), \n",
    "                     nn.CrossEntropyLoss(), \n",
    "                     metrics=[\"loss\", \"acc\"],\n",
    "                     callbacks=[check_last])\n",
    "\n",
    "    trial_2.with_generators(train_generator=train_dataloader, \n",
    "                      val_generator=val_dataloader, \n",
    "                      test_generator=test_dataloader)#val67_dataloader)\n",
    "\n",
    "    mytrial = trial_2.run(epochs=600, verbose=1)\n",
    "    \n",
    "    \n",
    "    weights = model1.lin1.weight.data.detach().numpy()\n",
    "    weights = np.array([weights[i]/max(weights[i]) for i in range(len(weights))])\n",
    "    \n",
    "    weigh_df = biostr_df.copy()\n",
    "\n",
    "    for j in range(2):\n",
    "        weigh_df[\"W\"+str(j)] = weights[j]\n",
    "    weigh_df[\"std\"] = np.abs(weigh_df[\"W0\"]-weigh_df[\"W1\"])\n",
    "    \n",
    "    weigh_df.sort_values(\"std\", ascending=False).head(50)[\"nodeSymbol\"].to_csv(\"to_50_\"+str(i)+\".csv\", index=False)"
   ]
  },
  {
   "cell_type": "markdown",
   "metadata": {},
   "source": [
    "## Combinations analysis"
   ]
  },
  {
   "cell_type": "code",
   "execution_count": 81,
   "metadata": {
    "tags": []
   },
   "outputs": [
    {
     "name": "stdout",
     "output_type": "stream",
     "text": [
      "(0, 1, 2, 3, 4, 5, 6) 24.457142857142856\n",
      "(0, 1, 2, 3, 4, 5, 7) 34.285714285714285\n",
      "(0, 1, 2, 3, 4, 6, 7) 26.82857142857143\n",
      "(0, 1, 2, 3, 5, 6, 7) 22.62857142857143\n",
      "(0, 1, 2, 4, 5, 6, 7) 22.571428571428573\n",
      "(0, 1, 3, 4, 5, 6, 7) 22.37142857142857\n",
      "(0, 2, 3, 4, 5, 6, 7) 22.857142857142858\n",
      "(1, 2, 3, 4, 5, 6, 7) 22.4\n"
     ]
    }
   ],
   "source": [
    "leen=[]\n",
    "for cc in combinations(np.arange(8), 7):\n",
    "    inter_len=[]\n",
    "    for c in list(combinations(cc, 4)):\n",
    "        inter_len.append(custom_intersection([top_50[i] for i in c]).shape[0])\n",
    "    print(cc, np.mean(inter_len))\n",
    "    leen.append(np.mean(inter_len))"
   ]
  },
  {
   "cell_type": "code",
   "execution_count": 83,
   "metadata": {
    "tags": []
   },
   "outputs": [],
   "source": [
    "inters_df=pd.DataFrame()\n",
    "\n",
    "inters_df[\"4 elements\"]=leen\n",
    "\n",
    "inters_df"
   ]
  },
  {
   "cell_type": "code",
   "execution_count": 84,
   "metadata": {
    "tags": []
   },
   "outputs": [],
   "source": [
    "_len=[]\n",
    "for cl in [4,5,6]:\n",
    "    inter_len=[]\n",
    "    for c in list(combinations(np.arange(8), cl)):\n",
    "        inter_len.append(custom_intersection([top_50[i] for i in c]).shape[0])\n",
    "    _len.append(np.mean(inter_len))"
   ]
  },
  {
   "cell_type": "code",
   "execution_count": 103,
   "metadata": {
    "tags": []
   },
   "outputs": [],
   "source": [
    "inters_df.index = [\"EB\",\"HBC\",\"HC1\",\"HV8P\",\"PV16\",\"PV18\",\"PV5\",\"TL1\"][::-1]+[\"None\"]"
   ]
  },
  {
   "cell_type": "code",
   "execution_count": 102,
   "metadata": {
    "tags": []
   },
   "outputs": [
    {
     "data": {
      "text/plain": [
       "['TL1', 'PV5', 'PV18', 'PV16', 'HV8P', 'HC1', 'HBC', 'EB', 'None']"
      ]
     },
     "execution_count": 102,
     "metadata": {},
     "output_type": "execute_result"
    }
   ],
   "source": [
    "[\"EB\",\"HBC\",\"HC1\",\"HV8P\",\"PV16\",\"PV18\",\"PV5\",\"TL1\"][::-1]+[\"None\"]"
   ]
  },
  {
   "cell_type": "code",
   "execution_count": 106,
   "metadata": {
    "tags": []
   },
   "outputs": [
    {
     "name": "stdout",
     "output_type": "stream",
     "text": [
      "\\begin{tabular}{lrrrrrrrrr}\n",
      "\\toprule\n",
      "{} &  TL1 &  PV5 &  PV18 &  PV16 &  HV8P &  HC1 &  HBC &   EB &  None \\\\\n",
      "\\midrule\n",
      "6 elements & 15.1 & 29.9 &  18.0 &  12.0 &  11.9 & 11.9 & 12.6 & 11.9 &  24.8 \\\\\n",
      "5 elements & 19.6 & 31.9 &  22.2 &  17.1 &  17.0 & 16.9 & 17.5 & 16.9 &  19.9 \\\\\n",
      "4 elements & 24.5 & 34.3 &  26.8 &  22.6 &  22.6 & 22.4 & 22.9 & 22.4 &  15.4 \\\\\n",
      "\\bottomrule\n",
      "\\end{tabular}\n",
      "\n"
     ]
    }
   ],
   "source": [
    "print(inters_df.T.to_latex(float_format=\"%.1f\" ))"
   ]
  },
  {
   "cell_type": "markdown",
   "metadata": {},
   "source": [
    "# Random Forest"
   ]
  },
  {
   "cell_type": "code",
   "execution_count": 13,
   "metadata": {
    "tags": []
   },
   "outputs": [],
   "source": [
    "def random_tree_MINE(X, ind, max_depth, n_estimators, min_samples_split, min_samples_leaf, max_features, criterion, what_return=\"score\"):\n",
    "    num_features = X.shape[1]\n",
    "    \n",
    "    index_rem = np.loadtxt(\"../Data/MLRes/indexes/\"+str(ind)+\"_index.txt\", dtype=int)\n",
    "    index_rem = (index_rem[index_rem<(len(X)//2)])+(len(X)//2)\n",
    "\n",
    "    X_test = X[index_rem]\n",
    "    y_test = y[index_rem]\n",
    "    \n",
    "    X_train, X_val, y_train, y_val = train_test_split(X[np.delete(np.arange(len(X)), index_rem)], y[np.delete(np.arange(len(X)), index_rem)], test_size=0.1, random_state=42)\n",
    "\n",
    "    # Create a Random Forest classifier\n",
    "    rf_classifier = RandomForestClassifier(n_estimators=n_estimators,\n",
    "                                           max_depth=max_depth, \n",
    "                                           min_samples_leaf=min_samples_leaf, \n",
    "                                           min_samples_split=min_samples_split,\n",
    "                                           max_features=max_features,\n",
    "                                           criterion=criterion\n",
    "    )\n",
    "\n",
    "    # Fit the classifier to the input data\n",
    "    rf_classifier.fit(X_train, y_train)\n",
    "\n",
    "    y_val_pred = rf_classifier.predict(X_val)\n",
    "    y_train_pred = rf_classifier.predict(X_train)\n",
    "    if what_return==\"score\":\n",
    "        return accuracy_score(y_val, y_val_pred)\n",
    "    else:\n",
    "        \n",
    "        # Calculate the accuracy of the model on the training data\n",
    "        train_accuracy = accuracy_score(y_train, y_train_pred)\n",
    "        val_accuracy = accuracy_score(y_val, y_val_pred)\n",
    "        # Classify the new sample\n",
    "        predicted_class = rf_classifier.predict(X_test)\n",
    "        \n",
    "        importance_scores = rf_classifier.feature_importances_\n",
    "\n",
    "        return {\"Model\": rf_classifier,\n",
    "                \"train_pred\": y_train_pred,\n",
    "                \"train_true\": y_train,\n",
    "                \"train_accuracy\": train_accuracy,\n",
    "                \"val_pred\": y_val_pred,\n",
    "                \"val_true\": y_val,\n",
    "                \"val_accuracy\": val_accuracy,\n",
    "                \"test_pred\": predicted_class,\n",
    "                \"scores\": importance_scores}"
   ]
  },
  {
   "cell_type": "code",
   "execution_count": 26,
   "metadata": {
    "tags": []
   },
   "outputs": [
    {
     "name": "stdout",
     "output_type": "stream",
     "text": [
      "& 0.939  &  0.947  \n",
      "& 0.903  &  0.952  \n",
      "& 0.953  &  0.945  \n",
      "& 0.956  &  0.968  \n",
      "& 0.952  &  0.949  \n",
      "& 0.936  &  0.972  \n"
     ]
    }
   ],
   "source": [
    "for i in [44,67,75,77,78,90]:\n",
    "    result = random_tree_MINE(X=X,\n",
    "                                  ind=i,\n",
    "                                  n_estimators=100,\n",
    "                                  max_depth=None, \n",
    "                                  min_samples_split=2, \n",
    "                                  min_samples_leaf=1,\n",
    "                                  max_features=\"sqrt\",\n",
    "                                  criterion=\"entropy\",\n",
    "                                  what_return=\"all\")\n",
    "\n",
    "    conf_mat = confusion_matrix(result['val_true'], result['val_pred'])\n",
    "    spec = conf_mat[0,0]/sum(conf_mat[0])\n",
    "    sens = conf_mat[1,1]/sum(conf_mat[1])\n",
    "    print(\"& %.3f  &  %.3f  \" % (sens, spec))"
   ]
  },
  {
   "cell_type": "code",
   "execution_count": 103,
   "metadata": {
    "tags": []
   },
   "outputs": [],
   "source": [
    "y_val_pred = result[\"val_pred\"]\n",
    "y_test_pred = result[\"test_pred\"]"
   ]
  },
  {
   "cell_type": "code",
   "execution_count": 107,
   "metadata": {
    "tags": []
   },
   "outputs": [
    {
     "data": {
      "image/png": "[encoded data removed]",
      "text/plain": [
       "<Figure size 640x480 with 2 Axes>"
      ]
     },
     "metadata": {},
     "output_type": "display_data"
    }
   ],
   "source": [
    "sns.heatmap(confusion_matrix(y_pred=result[\"val_pred\"], y_true=result[\"val_true\"]), annot=True, fmt=\"d\")\n",
    "plt.xlabel(\"y pred\")\n",
    "plt.ylabel(\"y true\")\n",
    "plt.show()"
   ]
  },
  {
   "cell_type": "code",
   "execution_count": 116,
   "metadata": {
    "tags": []
   },
   "outputs": [
    {
     "data": {
      "text/html": [
       "<div>\n",
       "<style scoped>\n",
       "    .dataframe tbody tr th:only-of-type {\n",
       "        vertical-align: middle;\n",
       "    }\n",
       "\n",
       "    .dataframe tbody tr th {\n",
       "        vertical-align: top;\n",
       "    }\n",
       "\n",
       "    .dataframe thead th {\n",
       "        text-align: right;\n",
       "    }\n",
       "</style>\n",
       "<table border=\"1\" class=\"dataframe\">\n",
       "  <thead>\n",
       "    <tr style=\"text-align: right;\">\n",
       "      <th></th>\n",
       "      <th>nodeID</th>\n",
       "      <th>nodeLabel</th>\n",
       "      <th>nodeSymbol</th>\n",
       "      <th>scores</th>\n",
       "    </tr>\n",
       "  </thead>\n",
       "  <tbody>\n",
       "    <tr>\n",
       "      <th>3150</th>\n",
       "      <td>3150</td>\n",
       "      <td>113945</td>\n",
       "      <td>HIST2H2BE</td>\n",
       "      <td>0.008538</td>\n",
       "    </tr>\n",
       "    <tr>\n",
       "      <th>427</th>\n",
       "      <td>427</td>\n",
       "      <td>110969</td>\n",
       "      <td>NTRK1</td>\n",
       "      <td>0.006316</td>\n",
       "    </tr>\n",
       "    <tr>\n",
       "      <th>4073</th>\n",
       "      <td>4073</td>\n",
       "      <td>118815</td>\n",
       "      <td>HIPK2</td>\n",
       "      <td>0.005745</td>\n",
       "    </tr>\n",
       "    <tr>\n",
       "      <th>6560</th>\n",
       "      <td>6560</td>\n",
       "      <td>119685</td>\n",
       "      <td>NLK</td>\n",
       "      <td>0.005620</td>\n",
       "    </tr>\n",
       "    <tr>\n",
       "      <th>6432</th>\n",
       "      <td>6432</td>\n",
       "      <td>112936</td>\n",
       "      <td>NKX2-1</td>\n",
       "      <td>0.005295</td>\n",
       "    </tr>\n",
       "    <tr>\n",
       "      <th>8578</th>\n",
       "      <td>8578</td>\n",
       "      <td>123000</td>\n",
       "      <td>NANOG</td>\n",
       "      <td>0.004961</td>\n",
       "    </tr>\n",
       "    <tr>\n",
       "      <th>7588</th>\n",
       "      <td>7588</td>\n",
       "      <td>113946</td>\n",
       "      <td>HIST1H3A</td>\n",
       "      <td>0.004847</td>\n",
       "    </tr>\n",
       "    <tr>\n",
       "      <th>4710</th>\n",
       "      <td>4710</td>\n",
       "      <td>109269</td>\n",
       "      <td>H2AFZ</td>\n",
       "      <td>0.004704</td>\n",
       "    </tr>\n",
       "    <tr>\n",
       "      <th>6910</th>\n",
       "      <td>6910</td>\n",
       "      <td>118930</td>\n",
       "      <td>SENP1</td>\n",
       "      <td>0.004407</td>\n",
       "    </tr>\n",
       "    <tr>\n",
       "      <th>6535</th>\n",
       "      <td>6535</td>\n",
       "      <td>110368</td>\n",
       "      <td>MECP2</td>\n",
       "      <td>0.004232</td>\n",
       "    </tr>\n",
       "    <tr>\n",
       "      <th>3545</th>\n",
       "      <td>3545</td>\n",
       "      <td>107869</td>\n",
       "      <td>CTBP1</td>\n",
       "      <td>0.004076</td>\n",
       "    </tr>\n",
       "    <tr>\n",
       "      <th>3833</th>\n",
       "      <td>3833</td>\n",
       "      <td>110687</td>\n",
       "      <td>MYB</td>\n",
       "      <td>0.004012</td>\n",
       "    </tr>\n",
       "    <tr>\n",
       "      <th>9764</th>\n",
       "      <td>9764</td>\n",
       "      <td>113935</td>\n",
       "      <td>HIST1H2BG</td>\n",
       "      <td>0.003917</td>\n",
       "    </tr>\n",
       "    <tr>\n",
       "      <th>240</th>\n",
       "      <td>240</td>\n",
       "      <td>110501</td>\n",
       "      <td>MRE11A</td>\n",
       "      <td>0.003789</td>\n",
       "    </tr>\n",
       "    <tr>\n",
       "      <th>3534</th>\n",
       "      <td>3534</td>\n",
       "      <td>107876</td>\n",
       "      <td>CTNNA1</td>\n",
       "      <td>0.003599</td>\n",
       "    </tr>\n",
       "    <tr>\n",
       "      <th>296</th>\n",
       "      <td>296</td>\n",
       "      <td>112388</td>\n",
       "      <td>SKI</td>\n",
       "      <td>0.003566</td>\n",
       "    </tr>\n",
       "    <tr>\n",
       "      <th>445</th>\n",
       "      <td>445</td>\n",
       "      <td>107434</td>\n",
       "      <td>CDH1</td>\n",
       "      <td>0.003540</td>\n",
       "    </tr>\n",
       "    <tr>\n",
       "      <th>344</th>\n",
       "      <td>344</td>\n",
       "      <td>111580</td>\n",
       "      <td>MAPK1</td>\n",
       "      <td>0.003155</td>\n",
       "    </tr>\n",
       "    <tr>\n",
       "      <th>779</th>\n",
       "      <td>779</td>\n",
       "      <td>114105</td>\n",
       "      <td>CBX4</td>\n",
       "      <td>0.003151</td>\n",
       "    </tr>\n",
       "    <tr>\n",
       "      <th>2493</th>\n",
       "      <td>2493</td>\n",
       "      <td>111916</td>\n",
       "      <td>RFC4</td>\n",
       "      <td>0.003134</td>\n",
       "    </tr>\n",
       "  </tbody>\n",
       "</table>\n",
       "</div>"
      ],
      "text/plain": [
       "      nodeID nodeLabel nodeSymbol    scores\n",
       "3150    3150    113945  HIST2H2BE  0.008538\n",
       "427      427    110969      NTRK1  0.006316\n",
       "4073    4073    118815      HIPK2  0.005745\n",
       "6560    6560    119685        NLK  0.005620\n",
       "6432    6432    112936     NKX2-1  0.005295\n",
       "8578    8578    123000      NANOG  0.004961\n",
       "7588    7588    113946   HIST1H3A  0.004847\n",
       "4710    4710    109269      H2AFZ  0.004704\n",
       "6910    6910    118930      SENP1  0.004407\n",
       "6535    6535    110368      MECP2  0.004232\n",
       "3545    3545    107869      CTBP1  0.004076\n",
       "3833    3833    110687        MYB  0.004012\n",
       "9764    9764    113935  HIST1H2BG  0.003917\n",
       "240      240    110501     MRE11A  0.003789\n",
       "3534    3534    107876     CTNNA1  0.003599\n",
       "296      296    112388        SKI  0.003566\n",
       "445      445    107434       CDH1  0.003540\n",
       "344      344    111580      MAPK1  0.003155\n",
       "779      779    114105       CBX4  0.003151\n",
       "2493    2493    111916       RFC4  0.003134"
      ]
     },
     "execution_count": 116,
     "metadata": {},
     "output_type": "execute_result"
    }
   ],
   "source": [
    "scores_df = biostr_df.copy()\n",
    "scores_df[\"scores\"] = result[\"scores\"]\n",
    "scores_df.sort_values(\"scores\", ascending=False).head(20)"
   ]
  }
 ],
 "metadata": {
  "kernelspec": {
   "display_name": "base",
   "language": "python",
   "name": "base"
  },
  "language_info": {
   "codemirror_mode": {
    "name": "ipython",
    "version": 3
   },
   "file_extension": ".py",
   "mimetype": "text/x-python",
   "name": "python",
   "nbconvert_exporter": "python",
   "pygments_lexer": "ipython3",
   "version": "3.10.9"
  }
 },
 "nbformat": 4,
 "nbformat_minor": 4
}
