{
 "cells": [
  {
   "cell_type": "code",
   "execution_count": 2,
   "id": "59a54e17-de6b-4811-9713-1becf71dc77d",
   "metadata": {
    "tags": []
   },
   "outputs": [],
   "source": [
    "import sys\n",
    "sys.path.append('..')\n",
    "\n",
    "import numpy as np\n",
    "import pandas as pd\n",
    "import matplotlib.pyplot as plt\n",
    "import scipy as sp\n",
    "import MuxVizPy as mxp\n",
    "import graph_tool as gt\n",
    "from operator import itemgetter\n",
    "from tqdm import tqdm\n",
    "import os\n",
    "\n",
    "import optuna\n",
    "from optuna.samplers import TPESampler, RandomSampler"
   ]
  },
  {
   "cell_type": "code",
   "execution_count": 4,
   "id": "a916c94a-83ad-4459-8259-1f2a25952400",
   "metadata": {
    "tags": []
   },
   "outputs": [],
   "source": [
    "phi_data = pd.read_excel(\"../Data/data_PHISTO/phi_data.xls\")\n",
    "phi_data = phi_data[phi_data[\"Human Protein\"].notna()].reset_index()"
   ]
  },
  {
   "cell_type": "code",
   "execution_count": 5,
   "id": "d9cabe11-600d-45e9-a6f0-ecd71797a160",
   "metadata": {
    "tags": []
   },
   "outputs": [
    {
     "data": {
      "text/html": [
       "<div>\n",
       "<style scoped>\n",
       "    .dataframe tbody tr th:only-of-type {\n",
       "        vertical-align: middle;\n",
       "    }\n",
       "\n",
       "    .dataframe tbody tr th {\n",
       "        vertical-align: top;\n",
       "    }\n",
       "\n",
       "    .dataframe thead th {\n",
       "        text-align: right;\n",
       "    }\n",
       "</style>\n",
       "<table border=\"1\" class=\"dataframe\">\n",
       "  <thead>\n",
       "    <tr style=\"text-align: right;\">\n",
       "      <th></th>\n",
       "      <th>index</th>\n",
       "      <th>Pathogen</th>\n",
       "      <th>Taxonomy ID</th>\n",
       "      <th>Uniprot ID</th>\n",
       "      <th>Pathogen Protein</th>\n",
       "      <th>Uniprot ID.1</th>\n",
       "      <th>Human Protein</th>\n",
       "      <th>Experimental Method</th>\n",
       "      <th>Pubmed ID</th>\n",
       "    </tr>\n",
       "  </thead>\n",
       "  <tbody>\n",
       "    <tr>\n",
       "      <th>0</th>\n",
       "      <td>0</td>\n",
       "      <td>Human immunodeficiency virus 1 (HIV1)</td>\n",
       "      <td>11676</td>\n",
       "      <td>Q77YG1</td>\n",
       "      <td>Q77YG1_9HIV1</td>\n",
       "      <td>O15524</td>\n",
       "      <td>SOCS1_HUMAN</td>\n",
       "      <td>anti tag coimmunoprecipitation</td>\n",
       "      <td>18172216</td>\n",
       "    </tr>\n",
       "    <tr>\n",
       "      <th>1</th>\n",
       "      <td>1</td>\n",
       "      <td>Human immunodeficiency virus 1 (HIV1)</td>\n",
       "      <td>11676</td>\n",
       "      <td>Q77YG0</td>\n",
       "      <td>Q77YG0_9HIV1</td>\n",
       "      <td>Q9HC16</td>\n",
       "      <td>ABC3G_HUMAN</td>\n",
       "      <td>anti tag coimmunoprecipitation</td>\n",
       "      <td>18836454</td>\n",
       "    </tr>\n",
       "    <tr>\n",
       "      <th>2</th>\n",
       "      <td>2</td>\n",
       "      <td>Human immunodeficiency virus 1 (HIV1)</td>\n",
       "      <td>11676</td>\n",
       "      <td>O09528</td>\n",
       "      <td>O09528_9HIV1</td>\n",
       "      <td>Q9Y297</td>\n",
       "      <td>FBW1A_HUMAN</td>\n",
       "      <td>two hybrid</td>\n",
       "      <td>9660940</td>\n",
       "    </tr>\n",
       "    <tr>\n",
       "      <th>3</th>\n",
       "      <td>3</td>\n",
       "      <td>Human immunodeficiency virus 1 (HIV1)</td>\n",
       "      <td>11676</td>\n",
       "      <td>O09528</td>\n",
       "      <td>O09528_9HIV1</td>\n",
       "      <td>P01730</td>\n",
       "      <td>CD4_HUMAN</td>\n",
       "      <td>coimmunoprecipitation</td>\n",
       "      <td>9660940</td>\n",
       "    </tr>\n",
       "    <tr>\n",
       "      <th>4</th>\n",
       "      <td>4</td>\n",
       "      <td>Human immunodeficiency virus 1 (HIV1)</td>\n",
       "      <td>11676</td>\n",
       "      <td>Q90VU7</td>\n",
       "      <td>Q90VU7_9HIV1</td>\n",
       "      <td>P12931</td>\n",
       "      <td>SRC_HUMAN</td>\n",
       "      <td>filter binding</td>\n",
       "      <td>16374509</td>\n",
       "    </tr>\n",
       "    <tr>\n",
       "      <th>...</th>\n",
       "      <td>...</td>\n",
       "      <td>...</td>\n",
       "      <td>...</td>\n",
       "      <td>...</td>\n",
       "      <td>...</td>\n",
       "      <td>...</td>\n",
       "      <td>...</td>\n",
       "      <td>...</td>\n",
       "      <td>...</td>\n",
       "    </tr>\n",
       "    <tr>\n",
       "      <th>52960</th>\n",
       "      <td>52971</td>\n",
       "      <td>Simian immunodeficiency virus ISOLATE PBJ14 / ...</td>\n",
       "      <td>11738</td>\n",
       "      <td>P19508</td>\n",
       "      <td>NaN</td>\n",
       "      <td>Q9Y4B6</td>\n",
       "      <td>VPRBP_HUMAN</td>\n",
       "      <td>two hybrid</td>\n",
       "      <td>17314515</td>\n",
       "    </tr>\n",
       "    <tr>\n",
       "      <th>52961</th>\n",
       "      <td>52973</td>\n",
       "      <td>Rabies virus STRAIN vnukovo-32</td>\n",
       "      <td>45418</td>\n",
       "      <td>Q08089</td>\n",
       "      <td>NaN</td>\n",
       "      <td>Q14160</td>\n",
       "      <td>SCRIB_HUMAN</td>\n",
       "      <td>phage display</td>\n",
       "      <td>24550280</td>\n",
       "    </tr>\n",
       "    <tr>\n",
       "      <th>52962</th>\n",
       "      <td>52974</td>\n",
       "      <td>Rubella virus STRAIN RA27 / 3 VACCINE</td>\n",
       "      <td>11044</td>\n",
       "      <td>O40955</td>\n",
       "      <td>NaN</td>\n",
       "      <td>Q07021</td>\n",
       "      <td>C1QBP_HUMAN</td>\n",
       "      <td>pull down</td>\n",
       "      <td>22238231</td>\n",
       "    </tr>\n",
       "    <tr>\n",
       "      <th>52963</th>\n",
       "      <td>52975</td>\n",
       "      <td>Gallid herpesvirus 1 STRAIN MD5</td>\n",
       "      <td>10389</td>\n",
       "      <td>Q9DGW5</td>\n",
       "      <td>NaN</td>\n",
       "      <td>P35638</td>\n",
       "      <td>DDIT3_HUMAN</td>\n",
       "      <td>peptide array</td>\n",
       "      <td>20102225</td>\n",
       "    </tr>\n",
       "    <tr>\n",
       "      <th>52964</th>\n",
       "      <td>52976</td>\n",
       "      <td>Influenza A virus STRAIN A / REASSORTANT / IGY...</td>\n",
       "      <td>997563</td>\n",
       "      <td>F5CGM8</td>\n",
       "      <td>NaN</td>\n",
       "      <td>P15822</td>\n",
       "      <td>ZEP1_HUMAN</td>\n",
       "      <td>two hybrid</td>\n",
       "      <td>23853584</td>\n",
       "    </tr>\n",
       "  </tbody>\n",
       "</table>\n",
       "<p>52965 rows × 9 columns</p>\n",
       "</div>"
      ],
      "text/plain": [
       "       index                                           Pathogen  Taxonomy ID  \\\n",
       "0          0              Human immunodeficiency virus 1 (HIV1)        11676   \n",
       "1          1              Human immunodeficiency virus 1 (HIV1)        11676   \n",
       "2          2              Human immunodeficiency virus 1 (HIV1)        11676   \n",
       "3          3              Human immunodeficiency virus 1 (HIV1)        11676   \n",
       "4          4              Human immunodeficiency virus 1 (HIV1)        11676   \n",
       "...      ...                                                ...          ...   \n",
       "52960  52971  Simian immunodeficiency virus ISOLATE PBJ14 / ...        11738   \n",
       "52961  52973                     Rabies virus STRAIN vnukovo-32        45418   \n",
       "52962  52974              Rubella virus STRAIN RA27 / 3 VACCINE        11044   \n",
       "52963  52975                    Gallid herpesvirus 1 STRAIN MD5        10389   \n",
       "52964  52976  Influenza A virus STRAIN A / REASSORTANT / IGY...       997563   \n",
       "\n",
       "      Uniprot ID Pathogen Protein Uniprot ID.1 Human Protein  \\\n",
       "0         Q77YG1    Q77YG1_9HIV1        O15524  SOCS1_HUMAN    \n",
       "1         Q77YG0    Q77YG0_9HIV1        Q9HC16  ABC3G_HUMAN    \n",
       "2         O09528    O09528_9HIV1        Q9Y297  FBW1A_HUMAN    \n",
       "3         O09528    O09528_9HIV1        P01730    CD4_HUMAN    \n",
       "4         Q90VU7    Q90VU7_9HIV1        P12931    SRC_HUMAN    \n",
       "...          ...              ...          ...           ...   \n",
       "52960     P19508              NaN       Q9Y4B6  VPRBP_HUMAN    \n",
       "52961     Q08089              NaN       Q14160  SCRIB_HUMAN    \n",
       "52962     O40955              NaN       Q07021  C1QBP_HUMAN    \n",
       "52963     Q9DGW5              NaN       P35638  DDIT3_HUMAN    \n",
       "52964     F5CGM8              NaN       P15822   ZEP1_HUMAN    \n",
       "\n",
       "                  Experimental Method  Pubmed ID  \n",
       "0      anti tag coimmunoprecipitation   18172216  \n",
       "1      anti tag coimmunoprecipitation   18836454  \n",
       "2                          two hybrid    9660940  \n",
       "3               coimmunoprecipitation    9660940  \n",
       "4                      filter binding   16374509  \n",
       "...                               ...        ...  \n",
       "52960                      two hybrid   17314515  \n",
       "52961                   phage display   24550280  \n",
       "52962                       pull down   22238231  \n",
       "52963                   peptide array   20102225  \n",
       "52964                      two hybrid   23853584  \n",
       "\n",
       "[52965 rows x 9 columns]"
      ]
     },
     "execution_count": 5,
     "metadata": {},
     "output_type": "execute_result"
    }
   ],
   "source": [
    "phi_data"
   ]
  },
  {
   "cell_type": "code",
   "execution_count": 45,
   "id": "99d65a59-d6c3-4034-89b1-8e9a2ef4a07a",
   "metadata": {
    "tags": []
   },
   "outputs": [],
   "source": [
    "#np.savetxt(X= phi_data[\"Uniprot ID.1\"].unique(), fname =\"uniprot.txt\", fmt=\"%s\")"
   ]
  },
  {
   "cell_type": "code",
   "execution_count": 8,
   "id": "8b48769f-e634-4c63-bcbb-baa57017a3ab",
   "metadata": {
    "tags": []
   },
   "outputs": [],
   "source": [
    "unip_biog_df = pd.read_csv(\"phisto_uniprot_to_biogrid.tsv\", sep=\"\\t\")\n",
    "unip_biog_dict = dict(zip(unip_biog_df[\"From\"], unip_biog_df[\"To\"]))"
   ]
  },
  {
   "cell_type": "code",
   "execution_count": 10,
   "id": "75b0b585-52dd-48cb-a4cb-8b4bfdbb3690",
   "metadata": {
    "tags": []
   },
   "outputs": [],
   "source": [
    "biogrid_nodes = pd.read_csv(\"../data_BIOGRID/BIOGRID_homo_sapiens.nodes\", sep=\" \")"
   ]
  },
  {
   "cell_type": "code",
   "execution_count": 34,
   "id": "c8879ef9-784c-412f-b7cc-ed75ad269f34",
   "metadata": {
    "tags": []
   },
   "outputs": [],
   "source": [
    "is_hum_genom = np.where(unip_biog[\"To\"].astype(str).isin(biogrid_nodes[\"nodeLabel\"].unique()))[0]"
   ]
  },
  {
   "cell_type": "code",
   "execution_count": 43,
   "id": "04906c0d-a980-45cb-99d2-facf48f253b1",
   "metadata": {
    "tags": []
   },
   "outputs": [],
   "source": [
    "phi_data_filt = phi_data[phi_data[\"Uniprot ID.1\"].isin(unip_biog.loc[is_hum_genom][\"From\"])].reset_index()"
   ]
  },
  {
   "cell_type": "code",
   "execution_count": 12,
   "id": "eac597d1-fb3b-4248-880f-71d9de8255a8",
   "metadata": {
    "tags": []
   },
   "outputs": [
    {
     "data": {
      "text/plain": [
       "459"
      ]
     },
     "execution_count": 12,
     "metadata": {},
     "output_type": "execute_result"
    }
   ],
   "source": [
    "uniq_spec = phi_data[\"Pathogen\"].unique()\n",
    "len(uniq_spec)"
   ]
  },
  {
   "cell_type": "code",
   "execution_count": 13,
   "id": "797fae8b-103a-4efc-9cc5-d7b9093d27ad",
   "metadata": {
    "tags": []
   },
   "outputs": [
    {
     "data": {
      "text/html": [
       "<div>\n",
       "<style scoped>\n",
       "    .dataframe tbody tr th:only-of-type {\n",
       "        vertical-align: middle;\n",
       "    }\n",
       "\n",
       "    .dataframe tbody tr th {\n",
       "        vertical-align: top;\n",
       "    }\n",
       "\n",
       "    .dataframe thead th {\n",
       "        text-align: right;\n",
       "    }\n",
       "</style>\n",
       "<table border=\"1\" class=\"dataframe\">\n",
       "  <thead>\n",
       "    <tr style=\"text-align: right;\">\n",
       "      <th></th>\n",
       "      <th>Uniprot ID</th>\n",
       "      <th>Uniprot ID.1</th>\n",
       "    </tr>\n",
       "  </thead>\n",
       "  <tbody>\n",
       "    <tr>\n",
       "      <th>3405</th>\n",
       "      <td>P08807</td>\n",
       "      <td>Q96HA1</td>\n",
       "    </tr>\n",
       "    <tr>\n",
       "      <th>3406</th>\n",
       "      <td>P12511</td>\n",
       "      <td>O00267</td>\n",
       "    </tr>\n",
       "    <tr>\n",
       "      <th>3407</th>\n",
       "      <td>P05869</td>\n",
       "      <td>O15504</td>\n",
       "    </tr>\n",
       "    <tr>\n",
       "      <th>3408</th>\n",
       "      <td>P08807</td>\n",
       "      <td>O15504</td>\n",
       "    </tr>\n",
       "    <tr>\n",
       "      <th>3409</th>\n",
       "      <td>P12511</td>\n",
       "      <td>O15514</td>\n",
       "    </tr>\n",
       "    <tr>\n",
       "      <th>...</th>\n",
       "      <td>...</td>\n",
       "      <td>...</td>\n",
       "    </tr>\n",
       "    <tr>\n",
       "      <th>3568</th>\n",
       "      <td>P05869</td>\n",
       "      <td>Q9UKX7</td>\n",
       "    </tr>\n",
       "    <tr>\n",
       "      <th>3569</th>\n",
       "      <td>P08807</td>\n",
       "      <td>Q9UKX7</td>\n",
       "    </tr>\n",
       "    <tr>\n",
       "      <th>3570</th>\n",
       "      <td>P08807</td>\n",
       "      <td>Q9Y297</td>\n",
       "    </tr>\n",
       "    <tr>\n",
       "      <th>3571</th>\n",
       "      <td>P12511</td>\n",
       "      <td>Q9Y5B0</td>\n",
       "    </tr>\n",
       "    <tr>\n",
       "      <th>3572</th>\n",
       "      <td>P12481</td>\n",
       "      <td>Q9Y6Q5</td>\n",
       "    </tr>\n",
       "  </tbody>\n",
       "</table>\n",
       "<p>168 rows × 2 columns</p>\n",
       "</div>"
      ],
      "text/plain": [
       "     Uniprot ID Uniprot ID.1\n",
       "3405     P08807       Q96HA1\n",
       "3406     P12511       O00267\n",
       "3407     P05869       O15504\n",
       "3408     P08807       O15504\n",
       "3409     P12511       O15514\n",
       "...         ...          ...\n",
       "3568     P05869       Q9UKX7\n",
       "3569     P08807       Q9UKX7\n",
       "3570     P08807       Q9Y297\n",
       "3571     P12511       Q9Y5B0\n",
       "3572     P12481       Q9Y6Q5\n",
       "\n",
       "[168 rows x 2 columns]"
      ]
     },
     "execution_count": 13,
     "metadata": {},
     "output_type": "execute_result"
    }
   ],
   "source": [
    "phi_data[phi_data[\"Pathogen\"]==uniq_spec[4]][[\"Uniprot ID\", \"Uniprot ID.1\"]]"
   ]
  },
  {
   "cell_type": "code",
   "execution_count": 18,
   "id": "70a34a52-a9c7-4d12-bc73-9e7e3893d6fe",
   "metadata": {
    "tags": []
   },
   "outputs": [],
   "source": [
    "for us in uniq_spec:\n",
    "    us_chg = us.replace(\"/\",\"\")\n",
    "    us_chg = us_chg.replace(\" \", \"_\")\n",
    "    if not os.path.isdir(\"../Data/data_PHISTO/virus_PHISTO/\"+us_chg):\n",
    "        os.mkdir(\"../Data/data_PHISTO/virus_PHISTO/\"+us_chg)\n",
    "    phi_spec = phi_data[phi_data[\"Pathogen\"]==us]\n",
    "    type0_node = phi_spec[\"Uniprot ID\"].unique()\n",
    "    type1_node = phi_spec[\"Uniprot ID.1\"].unique()\n",
    "    np.savetxt(X=type0_node, fname=\"../Data/data_PHISTO/virus_PHISTO/\"+us_chg+\"/type0.txt\", fmt=\"%s\")\n",
    "    np.savetxt(X=type1_node, fname=\"../Data/data_PHISTO/virus_PHISTO/\"+us_chg+\"/type1.txt\", fmt=\"%s\")\n",
    "    phi_spec[[\"Uniprot ID\", \"Uniprot ID.1\"]].to_csv(\"../Data/data_PHISTO/virus_PHISTO/\"+us_chg+\"/edges_phi.csv\", index=False)"
   ]
  },
  {
   "cell_type": "code",
   "execution_count": 42,
   "id": "efe7d354-f690-44e7-a509-ac60046f1e46",
   "metadata": {
    "tags": []
   },
   "outputs": [],
   "source": [
    "virus_in_dir = np.array(os.listdir(\"../Data/data_PHISTO/virus_PHISTO\"))\n",
    "virus_in_dir = virus_in_dir[[not \".\" in v for v in virus_in_dir]]"
   ]
  },
  {
   "cell_type": "code",
   "execution_count": 43,
   "id": "e3099575-e373-4f65-b06a-809a436a5e31",
   "metadata": {
    "tags": []
   },
   "outputs": [],
   "source": [
    "nodes1 = []\n",
    "for vd in virus_in_dir:\n",
    "    n1 = np.loadtxt(\"../Data/data_PHISTO/virus_PHISTO/\"+vd+\"/type1.txt\", dtype=str)\n",
    "    nodes1.append(n1.size)"
   ]
  },
  {
   "cell_type": "code",
   "execution_count": 51,
   "id": "ab04e0e9-5c5f-4495-bc6a-3b2507f6e802",
   "metadata": {
    "tags": []
   },
   "outputs": [
    {
     "data": {
      "text/plain": [
       "142"
      ]
     },
     "execution_count": 51,
     "metadata": {},
     "output_type": "execute_result"
    }
   ],
   "source": [
    "(np.array(nodes1)>10).sum()"
   ]
  },
  {
   "cell_type": "code",
   "execution_count": 54,
   "id": "9dac75bc-7b43-428f-9fa3-88388f8bd32b",
   "metadata": {
    "tags": []
   },
   "outputs": [],
   "source": [
    "np.savetxt(X=virus_in_dir[(np.array(nodes1)>10)], fname=\"../Data/data_PHISTO/virus_list_grater10type1.txt\", fmt=\"%s\")"
   ]
  },
  {
   "cell_type": "code",
   "execution_count": 52,
   "id": "8471cf4a-9095-4a98-a2e5-4bcdeee6e1ab",
   "metadata": {
    "tags": []
   },
   "outputs": [
    {
     "data": {
      "image/png": "[encoded data removed]",
      "text/plain": [
       "<Figure size 700x700 with 1 Axes>"
      ]
     },
     "metadata": {},
     "output_type": "display_data"
    }
   ],
   "source": [
    "plt.figure(figsize=(7,7))\n",
    "plt.plot(nodes1, np.arange(len(nodes1)), \".\")\n",
    "plt.xscale(\"log\")\n",
    "#plt.yticks(np.arange(len(nodes1)))\n",
    "plt.grid(axis=\"x\", ls=\"--\", which=\"major\", lw=2)\n",
    "plt.grid(axis=\"x\", ls=\"--\", which=\"minor\", lw=0.5)\n",
    "plt.tight_layout()"
   ]
  },
  {
   "cell_type": "code",
   "execution_count": 67,
   "id": "06365874-693c-44bd-b9ee-699ee1ee92d8",
   "metadata": {
    "tags": []
   },
   "outputs": [],
   "source": [
    "hvi_data = pd.read_csv(\"HVIDB_PPIs.txt\", sep=\"\\t\")"
   ]
  },
  {
   "cell_type": "code",
   "execution_count": 73,
   "id": "f364e919-7f03-4069-89d4-7c8f1787f379",
   "metadata": {
    "tags": []
   },
   "outputs": [],
   "source": [
    "np.savetxt(X=hvi_data[\"Uniprot_human\"].unique(), fname=\"hvi_unip.txt\", fmt=\"%s\")"
   ]
  },
  {
   "cell_type": "code",
   "execution_count": 76,
   "id": "824fc16b-640a-4c36-ae75-7e6e50799f5a",
   "metadata": {
    "tags": []
   },
   "outputs": [],
   "source": [
    "\n",
    "hvvv = pd.read_csv(\"hvidb_uniprot_to_biogrid.tsv\", sep=\"\\t\")"
   ]
  },
  {
   "cell_type": "code",
   "execution_count": 81,
   "id": "abbfc119-c354-4ecf-a9e4-fcdd0b310d48",
   "metadata": {
    "tags": []
   },
   "outputs": [
    {
     "data": {
      "text/plain": [
       "112121"
      ]
     },
     "execution_count": 81,
     "metadata": {},
     "output_type": "execute_result"
    }
   ],
   "source": [
    "hvvv.iloc[0,1]"
   ]
  },
  {
   "cell_type": "code",
   "execution_count": 82,
   "id": "68c4867c-d23b-4892-8b39-fab28eee9714",
   "metadata": {
    "tags": []
   },
   "outputs": [
    {
     "data": {
      "text/plain": [
       "'P62277'"
      ]
     },
     "execution_count": 82,
     "metadata": {},
     "output_type": "execute_result"
    }
   ],
   "source": [
    "hvi_data[\"Uniprot_human\"][0]"
   ]
  },
  {
   "cell_type": "code",
   "execution_count": 87,
   "id": "9e1780a9-bb8c-43fc-86d5-a9a02aa2cc92",
   "metadata": {
    "tags": []
   },
   "outputs": [],
   "source": [
    "hvidb_filt = hvi_data[hvi_data[\"Uniprot_human\"].isin(hvvv[\"From\"])]"
   ]
  }
 ],
 "metadata": {
  "kernelspec": {
   "display_name": "base",
   "language": "python",
   "name": "base"
  },
  "language_info": {
   "codemirror_mode": {
    "name": "ipython",
    "version": 3
   },
   "file_extension": ".py",
   "mimetype": "text/x-python",
   "name": "python",
   "nbconvert_exporter": "python",
   "pygments_lexer": "ipython3",
   "version": "3.10.9"
  }
 },
 "nbformat": 4,
 "nbformat_minor": 5
}
