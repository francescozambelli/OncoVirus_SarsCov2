{
 "cells": [
  {
   "cell_type": "code",
   "execution_count": 1,
   "metadata": {
    "tags": []
   },
   "outputs": [],
   "source": [
    "import numpy as np\n",
    "from sklearn.ensemble import RandomForestClassifier\n",
    "from sklearn.metrics import f1_score, accuracy_score, confusion_matrix\n",
    "from sklearn.model_selection import train_test_split\n",
    "from sklearn.decomposition import PCA\n",
    "from scipy.stats import gaussian_kde\n",
    "import pandas as pd\n",
    "import seaborn as sns\n",
    "import matplotlib.pyplot as plt\n",
    "from operator import itemgetter\n",
    "import os\n",
    "\n",
    "from __future__ import print_function, division\n",
    "\n",
    "import torch\n",
    "import torch.nn as nn\n",
    "import torch.nn.functional as F\n",
    "import torch.optim as optim\n",
    "from torch.utils.data import Dataset, DataLoader, random_split\n",
    "\n",
    "import torchbearer\n",
    "from torchbearer import Trial, metrics, Metric\n",
    "from torchbearer.callbacks import Best, ModelCheckpoint\n",
    "\n",
    "import optuna\n",
    "from optuna.samplers import TPESampler, RandomSampler\n",
    "\n",
    "import ipywidgets\n",
    "from tqdm import tqdm\n",
    "\n",
    "import gseapy as gp\n",
    "\n",
    "import warnings\n",
    "warnings.filterwarnings(\"ignore\")"
   ]
  },
  {
   "cell_type": "code",
   "execution_count": 2,
   "metadata": {
    "tags": []
   },
   "outputs": [],
   "source": [
    "virus_metadata = pd.read_csv(\"../Data/Files/viruses_metadata.csv\", header=0, sep=\";\")\n",
    "\n",
    "virus_metadata_onco = virus_metadata[virus_metadata[\"isOncogenic\"] == True].reset_index()\n",
    "virus_metadata_nonco = virus_metadata[virus_metadata[\"isOncogenic\"] == False].reset_index()\n",
    "\n",
    "#dictionary containing a unquie mapping between name of the protein and a corresponding index\n",
    "node_map_df = pd.read_csv(\"../Data/Files/node_map.csv\")\n",
    "node_map_dict = {k:(v-1) for k,v in zip(node_map_df[\"Prot\"], node_map_df[\"Index\"])}\n",
    "\n",
    "biostr_df = pd.read_csv(\"../Data/data_BIOGRID/BIOGRID_homo_sapiens.nodes\", sep=\" \")\n",
    "biostr_map = dict(zip(biostr_df[\"nodeID\"], biostr_df[\"nodeSymbol\"]))"
   ]
  },
  {
   "cell_type": "code",
   "execution_count": 119,
   "metadata": {
    "tags": []
   },
   "outputs": [],
   "source": [
    "vm1 = virus_metadata[virus_metadata['neigh_order']==1]"
   ]
  },
  {
   "cell_type": "code",
   "execution_count": 130,
   "metadata": {
    "tags": []
   },
   "outputs": [],
   "source": [
    "mapper = dict(zip(np.unique(vm1['family']),vt))"
   ]
  },
  {
   "cell_type": "code",
   "execution_count": 127,
   "metadata": {
    "tags": []
   },
   "outputs": [],
   "source": [
    "vt = [\"dsDNA\",\"ssRNA+\",\"dsDNA\",\"ssRNA+\",\"ssRNA+\",\"ssRNA+\",\"ssRNA-\",\"ssRNA+\",\"ssDNA\",\"ssRNA\",\n",
    "     \"dsDNA\",\"ssRNA+\",\"dsDNA\",\"ssRNA-\",\"dsDNA\",\"ssRNA-\",\"ssDNA\",\"ssRNA-\",\"ssRNA+\",\"ssRNA-\",\"dsDNA\",\n",
    "     \"ssRNA+\",\"dsDNA\",\"dsRNA\",\"ssRNA(RT)\",\"ssRNA+\",\"ssRNA-0\",\"ssRNA+\",\"inc\"]"
   ]
  },
  {
   "cell_type": "code",
   "execution_count": 132,
   "metadata": {
    "tags": []
   },
   "outputs": [],
   "source": [
    "vm1['VT']=vm1['family'].map(mapper)"
   ]
  },
  {
   "cell_type": "code",
   "execution_count": 160,
   "metadata": {
    "tags": []
   },
   "outputs": [
    {
     "data": {
      "text/plain": [
       "(51,)"
      ]
     },
     "execution_count": 160,
     "metadata": {},
     "output_type": "execute_result"
    }
   ],
   "source": [
    "vm1[vm1['isOncogenic']==False][[\"RNA\" in v for v in vm1[vm1['isOncogenic']==False]['VT']]]['virus_short'].to_numpy().shape"
   ]
  },
  {
   "cell_type": "code",
   "execution_count": 129,
   "metadata": {
    "tags": []
   },
   "outputs": [
    {
     "name": "stdout",
     "output_type": "stream",
     "text": [
      "Adenoviridae dsDNA\n",
      "Arteriviridae ssRNA+\n",
      "Asfarviridae dsDNA\n",
      "Bromoviridae ssRNA+\n",
      "Caliciviridae ssRNA+\n",
      "Coronaviridae ssRNA+\n",
      "Filoviridae ssRNA-\n",
      "Flaviviridae ssRNA+\n",
      "Geminiviridae ssDNA\n",
      "Hantaviridae ssRNA\n",
      "Hepadnaviridae dsDNA\n",
      "Hepeviridae ssRNA+\n",
      "Herpesviridae dsDNA\n",
      "Orthomyxoviridae ssRNA-\n",
      "Papillomaviridae dsDNA\n",
      "Paramyxoviridae ssRNA-\n",
      "Parvoviridae ssDNA\n",
      "Phenuiviridae ssRNA-\n",
      "Picornaviridae ssRNA+\n",
      "Pneumoviridae ssRNA-\n",
      "Polyomaviridae dsDNA\n",
      "Potyviridae ssRNA+\n",
      "Poxviridae dsDNA\n",
      "Reoviridae dsRNA\n",
      "Retroviridae ssRNA(RT)\n",
      "Togaviridae ssRNA+\n",
      "Tospoviridae ssRNA-0\n",
      "Virgaviridae ssRNA+\n",
      "incertae sedis inc\n"
     ]
    }
   ],
   "source": [
    "for i in range(29):\n",
    "    print(np.unique(vm1['family'])[i],vt[i])"
   ]
  },
  {
   "cell_type": "markdown",
   "metadata": {},
   "source": [
    "# Dataset Loading"
   ]
  },
  {
   "cell_type": "code",
   "execution_count": 5,
   "metadata": {
    "tags": []
   },
   "outputs": [
    {
     "name": "stdout",
     "output_type": "stream",
     "text": [
      "['n' 'n1o' 'n2o' 'n3o' 'o' 'n1s' 'n1o1s' 'n2o1s' 'o1s']\n",
      "['n' 'n1o']\n",
      "['n1s']\n",
      "['n1yn']\n",
      "['n1yn']\n"
     ]
    }
   ],
   "source": [
    "# files where all oncogenic viruses are used\n",
    "top_dir = np.array(os.listdir(\"../Data/ClassificationDataALL_4vir/topology\"))\n",
    "print(top_dir)\n",
    "top_dir_train = top_dir[[0,1]]\n",
    "print(top_dir_train)\n",
    "top_dir_pred = np.array(os.listdir(\"../Data/ClassificationDataALL_4vir/topology\"))[[5]]\n",
    "print(top_dir_pred)\n",
    "top_dir_synt = [np.array(os.listdir(\"../Data/ClassificationData_4vir/Test_Synt_330Nonco\"))[0]]\n",
    "print(top_dir_synt)\n",
    "top_dir_syntbstr = [np.array(os.listdir(\"../Data/ClassificationDataALL_4vir/Test_Synt_DistrSars/\"))[0]]\n",
    "print(top_dir_syntbstr)"
   ]
  },
  {
   "cell_type": "code",
   "execution_count": 3,
   "metadata": {
    "tags": []
   },
   "outputs": [],
   "source": [
    "def normalize_fix_nEntr(Xi, nentr=2000):\n",
    "    for i in tqdm(range(len(Xi))):\n",
    "        empty_provv = np.zeros(len(Xi[0]))\n",
    "        empty_provv[np.argsort(Xi[i])[-nentr:]] = Xi[i][np.argsort(Xi[i])[-nentr:]]\n",
    "        n_nz = empty_provv.nonzero()[0].shape[0]\n",
    "        if n_nz==nentr:\n",
    "            Xi[i]=empty_provv/sum(empty_provv)\n",
    "        else:\n",
    "            ind_provv = np.random.choice(np.where(empty_provv==0)[0], nentr-n_nz, replace=False)\n",
    "            vals = np.random.rand(nentr-n_nz)\n",
    "            vals = vals/sum(vals)*0.1\n",
    "            Xi[i]=empty_provv/sum(empty_provv)*0.9\n",
    "            Xi[i][ind_provv] = vals\n",
    "    return Xi"
   ]
  },
  {
   "cell_type": "code",
   "execution_count": 6,
   "metadata": {
    "tags": []
   },
   "outputs": [
    {
     "name": "stdout",
     "output_type": "stream",
     "text": [
      "Loading Train and Val\n"
     ]
    },
    {
     "name": "stderr",
     "output_type": "stream",
     "text": [
      "100%|███████████████████████████████████████| 3000/3000 [01:38<00:00, 30.33it/s]\n",
      "100%|███████████████████████████████████████| 3000/3000 [01:39<00:00, 30.06it/s]\n"
     ]
    }
   ],
   "source": [
    "#training samples\n",
    "print(\"Loading Train and Val\")\n",
    "X = []\n",
    "for t in top_dir_train:\n",
    "    for i in tqdm(range(3000)):#os.listdir(\"../Data/ClassificationData_4vir/topology/\"+t):\n",
    "        X.append(np.loadtxt(\"../Data/ClassificationDataALL_4vir/topology_p/\"+t+\"/\"+str(i)+\".txt\"))\n",
    "X=np.array(X)\n",
    "\n",
    "#training samples labels\n",
    "label_dict = dict(zip(top_dir_train, [0,1]))\n",
    "\n",
    "y = []\n",
    "for t in top_dir_train:\n",
    "    y.append([label_dict[t]]*3000)#len(os.listdir(\"../Data/ClassificationData_4vir/topology/\"+t)))\n",
    "\n",
    "y = np.concatenate(y)\n",
    "\n"
   ]
  },
  {
   "cell_type": "code",
   "execution_count": 7,
   "metadata": {
    "tags": []
   },
   "outputs": [
    {
     "name": "stderr",
     "output_type": "stream",
     "text": [
      "100%|██████████████████████████████████████| 6000/6000 [00:28<00:00, 212.79it/s]\n"
     ]
    }
   ],
   "source": [
    "X = normalize_fix_nEntr(X, nentr=2000)"
   ]
  },
  {
   "cell_type": "code",
   "execution_count": 7,
   "metadata": {
    "tags": []
   },
   "outputs": [
    {
     "name": "stdout",
     "output_type": "stream",
     "text": [
      "Loading Test\n"
     ]
    },
    {
     "name": "stderr",
     "output_type": "stream",
     "text": [
      "100%|█████████████████████████████████████████| 100/100 [00:04<00:00, 23.89it/s]\n",
      "100%|████████████████████████████████████████| 100/100 [00:00<00:00, 222.42it/s]\n"
     ]
    },
    {
     "name": "stdout",
     "output_type": "stream",
     "text": [
      "(100, 19945)\n",
      "Loading Synt Test\n"
     ]
    },
    {
     "name": "stderr",
     "output_type": "stream",
     "text": [
      "100%|█████████████████████████████████████████| 100/100 [00:03<00:00, 27.57it/s]\n",
      "100%|████████████████████████████████████████| 100/100 [00:00<00:00, 216.83it/s]\n"
     ]
    },
    {
     "name": "stdout",
     "output_type": "stream",
     "text": [
      "(100, 19945)\n",
      "Loading SyntBSTR Test\n"
     ]
    },
    {
     "name": "stderr",
     "output_type": "stream",
     "text": [
      "100%|█████████████████████████████████████████| 100/100 [00:03<00:00, 29.02it/s]\n",
      "100%|████████████████████████████████████████| 100/100 [00:00<00:00, 287.94it/s]"
     ]
    },
    {
     "name": "stdout",
     "output_type": "stream",
     "text": [
      "(100, 19945)\n"
     ]
    },
    {
     "name": "stderr",
     "output_type": "stream",
     "text": [
      "\n"
     ]
    }
   ],
   "source": [
    "print(\"Loading Test\")\n",
    "# samples with sarscov2\n",
    "X_pred = []\n",
    "pred_len = []\n",
    "for t in top_dir_pred:\n",
    "    #plen = np.minimum(len(os.listdir(\"../Data/ClassificationData_4vir/topology/\"+t)),200)\n",
    "    #pred_len.append(plen)\n",
    "    for i in tqdm(range(100)):#os.listdir(\"../Data/ClassificationData_4vir/topology/\"+t):\n",
    "        X_pred.append(np.loadtxt(\"../Data/ClassificationDataALL_4vir/topology/\"+t+\"/\"+str(i)+\".txt\"))\n",
    "\n",
    "X_pred = np.array(X_pred)\n",
    "X_pred = normalize_fix_nEntr(X_pred)\n",
    "print(X_pred.shape)\n",
    "\n",
    "print(\"Loading Synt Test\")\n",
    "# samples with sarscov2\n",
    "X_synt = []\n",
    "synt_len = []\n",
    "for t in top_dir_synt:\n",
    "    #plen = np.minimum(len(os.listdir(\"../Data/ClassificationData_4vir/topology/\"+t)),200)\n",
    "    #pred_len.append(plen)\n",
    "    for i in tqdm(range(100)):#os.listdir(\"../Data/ClassificationData_4vir/topology/\"+t):\n",
    "        X_synt.append(np.loadtxt(\"../Data/ClassificationData_4vir/Test_Synt_330Nonco/\"+t+\"/\"+str(i)+\".txt\"))\n",
    "\n",
    "X_synt = np.array(X_synt)\n",
    "X_synt = normalize_fix_nEntr(X_synt)\n",
    "print(X_synt.shape)\n",
    "\n",
    "print(\"Loading SyntBSTR Test\")\n",
    "# samples with sarscov2\n",
    "X_syntbstr = []\n",
    "syntbstr_len = []\n",
    "for t in top_dir_syntbstr:\n",
    "    #plen = np.minimum(len(os.listdir(\"../Data/ClassificationData_4vir/topology/\"+t)),200)\n",
    "    #pred_len.append(plen)\n",
    "    for i in tqdm(range(100)):#os.listdir(\"../Data/ClassificationData_4vir/topology/\"+t):\n",
    "        X_syntbstr.append(np.loadtxt(\"../Data/ClassificationDataALL_4vir/Test_Synt_DistrSars/\"+t+\"/\"+str(i)+\".txt\"))\n",
    "\n",
    "X_syntbstr = np.array(X_syntbstr)\n",
    "X_syntbstr = normalize_fix_nEntr(X_syntbstr)\n",
    "print(X_syntbstr.shape)"
   ]
  },
  {
   "cell_type": "markdown",
   "metadata": {},
   "source": [
    "# PERCEPTRON"
   ]
  },
  {
   "cell_type": "markdown",
   "metadata": {},
   "source": [
    "## Dataset and Dataloaders Definition"
   ]
  },
  {
   "cell_type": "code",
   "execution_count": 8,
   "metadata": {
    "tags": []
   },
   "outputs": [],
   "source": [
    "class AdjacencyDataset(Dataset):\n",
    "    \"\"\"Apples Dataset\"\"\"\n",
    "\n",
    "    def __init__(self, X, y=None, test=False):\n",
    "        \"\"\"\n",
    "        Args:\n",
    "        \"\"\"\n",
    "        self.test = test\n",
    "        self.data = X\n",
    "        self.labels = y\n",
    "        \n",
    "    def __len__(self):\n",
    "        return len(self.data)\n",
    "\n",
    "    def __getitem__(self, idx):\n",
    "        dat = self.data[idx]#np.array([self.data[idx].nonzero()[0], self.data[idx][self.data[idx].nonzero()[0]]])\n",
    "        if self.test:\n",
    "            return torch.from_numpy(dat).type(torch.FloatTensor)\n",
    "        else:\n",
    "            return [torch.from_numpy(dat).type(torch.FloatTensor), int(self.labels[idx])]\n",
    "        "
   ]
  },
  {
   "cell_type": "code",
   "execution_count": 9,
   "metadata": {
    "tags": []
   },
   "outputs": [],
   "source": [
    "mydat_sars = AdjacencyDataset(X_pred, test=True)\n",
    "mydat_synt = AdjacencyDataset(X_synt, test=True)\n",
    "mydat_syntbstr = AdjacencyDataset(X_syntbstr, test=True)\n",
    "\n",
    "sars_dataloader = DataLoader(mydat_sars, batch_size=10, shuffle=False, num_workers=0)\n",
    "synt_dataloader = DataLoader(mydat_synt, batch_size=10, shuffle=False, num_workers=0)\n",
    "syntbstr_dataloader = DataLoader(mydat_syntbstr, batch_size=10, shuffle=False, num_workers=0)"
   ]
  },
  {
   "cell_type": "markdown",
   "metadata": {},
   "source": [
    "## Model"
   ]
  },
  {
   "cell_type": "code",
   "execution_count": 10,
   "metadata": {
    "tags": []
   },
   "outputs": [],
   "source": [
    "class Model(nn.Module):\n",
    "    def __init__(self):\n",
    "        super().__init__()\n",
    "        self.lin1 = nn.Linear(in_features=19945, out_features=2)\n",
    "        self.drop = nn.Dropout(p=0.3)\n",
    "        #self.lin2 = nn.Linear(in_features=200, out_features=50)\n",
    "        #self.lin3 = nn.Linear(in_features=50, out_features=8)\n",
    "\n",
    "    def forward(self, x):\n",
    "        #x = self.lin1(torch.flatten(x, start_dim=1))\n",
    "        x=self.lin1(x)\n",
    "        return x\n",
    "\n",
    "model1 = Model()\n",
    "model1=model1.cpu()\n"
   ]
  },
  {
   "cell_type": "code",
   "execution_count": 11,
   "metadata": {
    "tags": []
   },
   "outputs": [],
   "source": [
    "def set_up_trial(X, ind):\n",
    "    index_rem = np.loadtxt(\"../Data/MLRes/indexes/\"+str(ind)+\"_index.txt\", dtype=int)\n",
    "    index_rem = (index_rem[index_rem<(len(X)//2)])+(len(X)//2)\n",
    "\n",
    "    X_test = X[index_rem]\n",
    "    y_test = y[index_rem]\n",
    "    X_train, X_val, y_train, y_val = train_test_split(X[np.delete(np.arange(len(X)), index_rem)], y[np.delete(np.arange(len(X)), index_rem)], test_size=0.1, random_state=42)\n",
    "    \n",
    "    mydat_train = AdjacencyDataset(X_train, y_train)\n",
    "    mydat_val = AdjacencyDataset(X_val, y_val)\n",
    "    mydat_test = AdjacencyDataset(X_test, y_test)\n",
    "\n",
    "    train_dataloader = DataLoader(mydat_train, batch_size=20, shuffle=True, num_workers=0)\n",
    "    val_dataloader = DataLoader(mydat_val, batch_size=20, shuffle=False, num_workers=0)\n",
    "    test_dataloader = DataLoader(mydat_test, batch_size=20, shuffle=False, num_workers=0)\n",
    "     \n",
    "    check_last = ModelCheckpoint('checkpoints/check_last_'+str(i)+'.pth')\n",
    "    \n",
    "    model = Model()\n",
    "    model = model1.cpu()\n",
    "    \n",
    "    trial_now = Trial(model,\n",
    "                      optim.Adam(model1.parameters(), lr=5e-04), \n",
    "                      nn.CrossEntropyLoss(), \n",
    "                      metrics=[\"loss\", \"acc\"],\n",
    "                      callbacks=[check_last])\n",
    "    \n",
    "    trial_now = trial_now.load_state_dict(state_dict=torch.load(\"checkpoints/check_last_\"+str(ind)+\".pth\"))\n",
    "   \n",
    "    trial_now.with_generators(train_generator=train_dataloader, \n",
    "                              val_generator=val_dataloader, \n",
    "                              test_generator=test_dataloader)\n",
    "    \n",
    "    my_trial_now = trial_now.run(epochs=600, verbose=1)\n",
    "    \n",
    "    return trial_now, my_trial_now"
   ]
  },
  {
   "cell_type": "code",
   "execution_count": 12,
   "metadata": {
    "tags": []
   },
   "outputs": [
    {
     "data": {
      "application/vnd.jupyter.widget-view+json": {
       "model_id": "54d105e71c1f46f29b4f5fecc213c1e4",
       "version_major": 2,
       "version_minor": 0
      },
      "text/plain": [
       "100%|##########| 600/600 [00:00<?, ?it/s]"
      ]
     },
     "metadata": {},
     "output_type": "display_data"
    }
   ],
   "source": [
    "trial, mytrial = set_up_trial(X, 78)"
   ]
  },
  {
   "cell_type": "code",
   "execution_count": 13,
   "metadata": {
    "tags": []
   },
   "outputs": [
    {
     "data": {
      "application/vnd.jupyter.widget-view+json": {
       "model_id": "a67109e0f7c4404284f216aa50f50d98",
       "version_major": 2,
       "version_minor": 0
      },
      "text/plain": [
       "0/1(p):   0%|          | 0/19 [00:00<?, ?it/s]"
      ]
     },
     "metadata": {},
     "output_type": "display_data"
    }
   ],
   "source": [
    "trial.with_test_generator(sars_dataloader)\n",
    "sars_pred = np.argmax(trial.predict().detach().numpy(),axis=1)"
   ]
  },
  {
   "cell_type": "code",
   "execution_count": 485,
   "metadata": {
    "tags": []
   },
   "outputs": [
    {
     "data": {
      "text/plain": [
       "311"
      ]
     },
     "execution_count": 485,
     "metadata": {},
     "output_type": "execute_result"
    }
   ],
   "source": [
    "conf_mat[0].sum()"
   ]
  },
  {
   "cell_type": "code",
   "execution_count": 487,
   "metadata": {
    "tags": []
   },
   "outputs": [],
   "source": [
    "spec = conf_mat[0,0]/(conf_mat[0].sum())\n",
    "sens = conf_mat[1,1]/(conf_mat[1].sum())\n",
    "prior = 0.1"
   ]
  },
  {
   "cell_type": "code",
   "execution_count": 491,
   "metadata": {
    "tags": []
   },
   "outputs": [
    {
     "data": {
      "text/plain": [
       "1.0"
      ]
     },
     "execution_count": 491,
     "metadata": {},
     "output_type": "execute_result"
    }
   ],
   "source": [
    "tu = np.prod([sens]*sum(sars_pred)+[1-sens]*(len(sars_pred)-sum(sars_pred)))#*prior\n",
    "\n",
    "td = np.prod([1-spec]*sum(sars_pred)+[spec]*(len(sars_pred)-sum(sars_pred)))#*(1-prior)\n",
    "\n",
    "tu/(tu+td)"
   ]
  },
  {
   "cell_type": "code",
   "execution_count": 345,
   "metadata": {
    "tags": []
   },
   "outputs": [
    {
     "data": {
      "image/png": "[encoded data removed]",
      "text/plain": [
       "<Figure size 900x400 with 2 Axes>"
      ]
     },
     "metadata": {},
     "output_type": "display_data"
    }
   ],
   "source": [
    "__, ax = plt.subplots(1,2,figsize=(9,4))\n",
    "\n",
    "ax[0].semilogy([mt[\"loss\"] for mt in mt_now], label=\"Train loss\", color=\"C0\")\n",
    "ax[0].semilogy([mt[\"val_loss\"] for mt in mt_now], label=\"Val loss\", color=\"navy\")\n",
    "\n",
    "ax[1].plot([mt[\"acc\"] for mt in mt_now], label=\"Train Acc\", color=\"orange\")\n",
    "ax[1].plot([mt[\"val_acc\"] for mt in mt_now], label=\"Val Acc\", color=\"red\")\n",
    "\n",
    "[axi.set_xlabel(\"Epochs\") for axi in ax]\n",
    "[axi.legend() for axi in ax]\n",
    "[axi.grid(ls=\"--\") for axi in ax]\n",
    "ax[0].grid(which=\"minor\", ls=\":\")\n",
    "plt.tight_layout()"
   ]
  },
  {
   "cell_type": "code",
   "execution_count": 473,
   "metadata": {
    "tags": []
   },
   "outputs": [],
   "source": [
    "def plot_confusion_matrix(trial, which=\"val\"):\n",
    "    if which==\"val\":\n",
    "        val_pred=np.argmax(trial.predict(data_key=torchbearer.VALIDATION_DATA).detach().numpy(),axis=1)\n",
    "        val_true=[v[1] for v in trial.state.data[\"validation_generator\"].dataset]\n",
    "        title=\"VALIDATION CONFUSION MATRIX\"\n",
    "    elif which==\"test\":\n",
    "        val_pred=np.argmax(trial.predict(data_key=torchbearer.TEST_DATA).detach().numpy(),axis=1)\n",
    "        val_true=[v[1] for v in trial.state.data[\"test_generator\"].dataset]\n",
    "        title=\"TEST CONFUSION MATRIX\"\n",
    "    else:\n",
    "        raise ValueError(\"which should be either val or test\")\n",
    "    \n",
    "    confM_val = confusion_matrix(y_true = val_true, y_pred = val_pred, labels=np.arange(2))\n",
    "\n",
    "    plt.figure(figsize=(6,6))\n",
    "    sns.heatmap(confM_val, annot=True, fmt=\"g\", cbar=False, cmap=\"magma\")\n",
    "    plt.title(title, weight=\"bold\")\n",
    "    plt.ylabel(\"True labels\")\n",
    "    plt.xlabel(\"Predicted labels\")\n",
    "    plt.tight_layout()\n",
    "    \n",
    "    return confM_val"
   ]
  },
  {
   "cell_type": "code",
   "execution_count": 77,
   "metadata": {
    "tags": []
   },
   "outputs": [],
   "source": [
    "biostr_df = pd.read_csv(\"../Data/data_BIOGRID/BIOGRID_homo_sapiens.nodes\", sep=\" \")\n",
    "biostr_map = dict(zip(biostr_df[\"nodeID\"], biostr_df[\"nodeSymbol\"]))\n",
    "\n",
    "def plot_weights(trial, ref_df):\n",
    "    weights = trial.state[\"model\"].lin1.weight.data.detach().numpy()\n",
    "    weights = np.array([weights[i]/max(weights[i]) for i in range(len(weights))])\n",
    "    \n",
    "    weigh_df = ref_df.copy()\n",
    "\n",
    "    for i in range(2):\n",
    "        weigh_df[\"W\"+str(i)] = weights[i]\n",
    "    weigh_df[\"std\"] = np.abs(weigh_df[\"W0\"]-weigh_df[\"W1\"])\n",
    "    \n",
    "    plt.figure(figsize=(16,3))\n",
    "    sns.heatmap(weights)\n",
    "    plt.title(\"PERCEPTRON WEIGHTS HEATMAP\", fontweight=\"bold\")\n",
    "    plt.xlabel(\"Node ID\")\n",
    "    plt.ylabel(\"Label\")\n",
    "    plt.tight_layout()\n",
    "    \n",
    "    return weigh_df"
   ]
  },
  {
   "cell_type": "code",
   "execution_count": 73,
   "metadata": {
    "tags": []
   },
   "outputs": [],
   "source": [
    "def plot_weights_heatmap(weigh_df):\n",
    "    gauss = gaussian_kde(weigh_df[[\"nodeID\",\"W1\"]].T.to_numpy())\n",
    "    kde = gaussian_kde(weigh_df[[\"nodeID\",\"W1\"]].T.to_numpy())\n",
    "    density_1 = kde(weigh_df[[\"nodeID\",\"W1\"]].T.to_numpy())\n",
    "    gauss = gaussian_kde(weigh_df[[\"nodeID\",\"W0\"]].T.to_numpy())\n",
    "    kde = gaussian_kde(weigh_df[[\"nodeID\",\"W0\"]].T.to_numpy())\n",
    "    density_0 = kde(weigh_df[[\"nodeID\",\"W0\"]].T.to_numpy())\n",
    "\n",
    "    _, ax = plt.subplots(1,2, figsize=(12,4))\n",
    "\n",
    "    ax[0].scatter(weigh_df[\"nodeID\"], weights[0], c=density, cmap='viridis', s=0.1)\n",
    "    ax[0].set_title(\"WEIGHTS LABEL 0\", fontweight=\"bold\")\n",
    "    ax[0].set_xlabel(\"Entry position\")\n",
    "    ax[0].set_ylabel(\"Weight value\")\n",
    "    ax[1].scatter(weigh_df[\"nodeID\"], weights[1], c=density, cmap='viridis', s=0.1)\n",
    "    ax[1].set_title(\"WEIGHTS LABEL 1\", fontweight=\"bold\")\n",
    "    ax[1].set_xlabel(\"Entry position\")\n",
    "    ax[1].set_ylabel(\"Weight value\")\n",
    "    plt.tight_layout()"
   ]
  },
  {
   "cell_type": "code",
   "execution_count": 474,
   "metadata": {
    "tags": []
   },
   "outputs": [
    {
     "data": {
      "application/vnd.jupyter.widget-view+json": {
       "model_id": "3fc7d39caa624096832fd22fac0e588b",
       "version_major": 2,
       "version_minor": 0
      },
      "text/plain": [
       "0/1(p):   0%|          | 0/29 [00:00<?, ?it/s]"
      ]
     },
     "metadata": {},
     "output_type": "display_data"
    },
    {
     "data": {
      "image/png": "[encoded data removed]",
      "text/plain": [
       "<Figure size 600x600 with 1 Axes>"
      ]
     },
     "metadata": {},
     "output_type": "display_data"
    }
   ],
   "source": [
    "conf_mat = plot_confusion_matrix(trial, \"val\")"
   ]
  },
  {
   "cell_type": "code",
   "execution_count": 78,
   "metadata": {
    "tags": []
   },
   "outputs": [
    {
     "data": {
      "image/png": "[encoded data removed]",
      "text/plain": [
       "<Figure size 1600x300 with 2 Axes>"
      ]
     },
     "metadata": {},
     "output_type": "display_data"
    }
   ],
   "source": [
    "weigh_df = plot_weights(trial, ref_df=biostr_df)"
   ]
  },
  {
   "cell_type": "code",
   "execution_count": 89,
   "metadata": {
    "tags": []
   },
   "outputs": [
    {
     "data": {
      "application/vnd.jupyter.widget-view+json": {
       "model_id": "ab60c8e4fbad4d509c80a24f9fb0b3cb",
       "version_major": 2,
       "version_minor": 0
      },
      "text/plain": [
       "0/1(p):   0%|          | 0/20 [00:00<?, ?it/s]"
      ]
     },
     "metadata": {},
     "output_type": "display_data"
    },
    {
     "data": {
      "application/vnd.jupyter.widget-view+json": {
       "model_id": "e6c3bab66896458da84eb887383b9672",
       "version_major": 2,
       "version_minor": 0
      },
      "text/plain": [
       "0/1(p):   0%|          | 0/20 [00:00<?, ?it/s]"
      ]
     },
     "metadata": {},
     "output_type": "display_data"
    },
    {
     "data": {
      "application/vnd.jupyter.widget-view+json": {
       "model_id": "16822b0aeb024bf095921be1d1482072",
       "version_major": 2,
       "version_minor": 0
      },
      "text/plain": [
       "0/1(p):   0%|          | 0/20 [00:00<?, ?it/s]"
      ]
     },
     "metadata": {},
     "output_type": "display_data"
    },
    {
     "data": {
      "application/vnd.jupyter.widget-view+json": {
       "model_id": "e39971e4e3574170a4e41a5fa3a431d2",
       "version_major": 2,
       "version_minor": 0
      },
      "text/plain": [
       "0/1(p):   0%|          | 0/20 [00:00<?, ?it/s]"
      ]
     },
     "metadata": {},
     "output_type": "display_data"
    }
   ],
   "source": [
    "trial_2.with_test_generator(synt_dataloader)\n",
    "synt_pred = np.argmax(trial_2.predict().detach().numpy(),axis=1)\n",
    "\n",
    "trial_2.with_test_generator(syntbstr_dataloader)\n",
    "syntbstr_pred = np.argmax(trial_2.predict().detach().numpy(),axis=1)\n",
    "\n",
    "trial_2.with_test_generator(test_dataloader)\n",
    "test_pred = np.argmax(trial_2.predict().detach().numpy(),axis=1)\n",
    "\n",
    "trial_2.with_test_generator(sars_dataloader)\n",
    "sars_pred = np.argmax(trial_2.predict().detach().numpy(),axis=1)"
   ]
  },
  {
   "cell_type": "code",
   "execution_count": 93,
   "metadata": {
    "tags": []
   },
   "outputs": [
    {
     "data": {
      "text/plain": [
       "0.7461139896373057"
      ]
     },
     "execution_count": 93,
     "metadata": {},
     "output_type": "execute_result"
    }
   ],
   "source": [
    "accuracy_score(test_pred, y_test)"
   ]
  },
  {
   "cell_type": "markdown",
   "metadata": {},
   "source": [
    "## Intersection analysis"
   ]
  },
  {
   "cell_type": "code",
   "execution_count": 12,
   "metadata": {
    "tags": []
   },
   "outputs": [],
   "source": [
    "def custom_intersection(arr):\n",
    "    inters = np.intersect1d(arr[0],arr[1])\n",
    "    for i in range(2,len(arr)):\n",
    "        inters = np.intersect1d(inters, arr[i])\n",
    "    return inters"
   ]
  },
  {
   "cell_type": "code",
   "execution_count": 80,
   "metadata": {
    "tags": []
   },
   "outputs": [],
   "source": [
    "top_50=[]\n",
    "w0_50=[]\n",
    "w1_50=[]\n",
    "for a in [28,43,44,67,75,77,78,90]:\n",
    "    top_50.append(pd.read_csv(\"../Data/MLRes/to_50_\"+str(a)+\".csv\").to_numpy())\n",
    "    w0_50.append(pd.read_csv(\"../Data/MLRes/w0_50_\"+str(a)+\".csv\").to_numpy())\n",
    "    w1_50.append(pd.read_csv(\"../Data/MLRes/w1_50_\"+str(a)+\".csv\").to_numpy())"
   ]
  },
  {
   "cell_type": "code",
   "execution_count": 81,
   "metadata": {
    "tags": []
   },
   "outputs": [
    {
     "data": {
      "text/plain": [
       "(18,)"
      ]
     },
     "execution_count": 81,
     "metadata": {},
     "output_type": "execute_result"
    }
   ],
   "source": [
    "custom_intersection([w0_50[i] for i in [0,1,2,3,4,5,7]]).shape"
   ]
  },
  {
   "cell_type": "code",
   "execution_count": 82,
   "metadata": {
    "tags": []
   },
   "outputs": [
    {
     "name": "stdout",
     "output_type": "stream",
     "text": [
      "CBX3, CTBP1, DYRK1B, FBXO3, GATA4, HIPK2, HIST1H2BG, HIST2H3A, LZTS2, MECP2, MYB, MYBL1, NCK2, NKX2-1, NKX2-5, NLK, NPPA, NPSR1, PPM1D, RASSF5, RGMA, SENP1, SENP2, SKI, SP100, TP53INP1, TRIM29, ZBTB4\n"
     ]
    }
   ],
   "source": [
    "print((\", \").join(custom_intersection([top_50[i] for i in [0,1,2,3,4,5,7]])))"
   ]
  },
  {
   "cell_type": "markdown",
   "metadata": {},
   "source": [
    "## Top 50 production"
   ]
  },
  {
   "cell_type": "code",
   "execution_count": 38,
   "metadata": {
    "tags": []
   },
   "outputs": [
    {
     "data": {
      "application/vnd.jupyter.widget-view+json": {
       "model_id": "2d77ce059aae463ca670c07bf947e486",
       "version_major": 2,
       "version_minor": 0
      },
      "text/plain": [
       "100%|##########| 600/600 [00:00<?, ?it/s]"
      ]
     },
     "metadata": {},
     "output_type": "display_data"
    },
    {
     "data": {
      "application/vnd.jupyter.widget-view+json": {
       "model_id": "0245e7abff2e40a48a9a6cfbc44e83f2",
       "version_major": 2,
       "version_minor": 0
      },
      "text/plain": [
       "100%|##########| 600/600 [00:00<?, ?it/s]"
      ]
     },
     "metadata": {},
     "output_type": "display_data"
    }
   ],
   "source": [
    "for i in [67,75]:\n",
    "    tr_now, mt_now = set_up_trial(X, i)\n",
    "    weights = tr_now.state[\"model\"].lin1.weight.detach().numpy()\n",
    "    weights = np.array([weights[i]/max(weights[i]) for i in range(len(weights))])\n",
    "\n",
    "    weigh_df = biostr_df.copy()\n",
    "\n",
    "    for j in range(2):\n",
    "        weigh_df[\"W\"+str(j)] = weights[j]\n",
    "    weigh_df[\"std\"] = np.abs(weigh_df[\"W0\"]-weigh_df[\"W1\"])\n",
    "\n",
    "    weigh_df.sort_values(\"W1\", ascending=False).head(50)[\"nodeSymbol\"].to_csv(\"../Data/MLRes/w1_50_\"+str(i)+\".csv\", index=False)"
   ]
  },
  {
   "cell_type": "markdown",
   "metadata": {},
   "source": [
    "## Trials production"
   ]
  },
  {
   "cell_type": "code",
   "execution_count": null,
   "metadata": {
    "tags": []
   },
   "outputs": [],
   "source": [
    "biostr_df = pd.read_csv(\"../Data/data_BIOGRID/BIOGRID_homo_sapiens.nodes\", sep=\" \")\n",
    "biostr_map = dict(zip(biostr_df[\"nodeID\"], biostr_df[\"nodeSymbol\"]))\n",
    "\n",
    "synt_pred_list, syntbstr_pred_list, test_pred_list, sars_pred_list = [],[],[],[]\n",
    "top_50 = []\n",
    "\n",
    "for i in [75,77,78,90]:\n",
    "    index_rem = np.loadtxt(\"../Data/MLRes/indexes/\"+str(i)+\"_index.txt\", dtype=int)\n",
    "    index_rem = (index_rem[index_rem<(len(X)//2)])+(len(X)//2)\n",
    "\n",
    "    X_test = X[index_rem]\n",
    "    y_test = y[index_rem]\n",
    "    print(X_test.shape)\n",
    "    print(np.mean(y_test)==1)\n",
    "\n",
    "    X_train, X_val, y_train, y_val = train_test_split(X[np.delete(np.arange(len(X)), index_rem)], y[np.delete(np.arange(len(X)), index_rem)], test_size=0.1, random_state=42)\n",
    "\n",
    "    print(X_train.shape)\n",
    "    print(X_val.shape)\n",
    "    \n",
    "    mydat_train = AdjacencyDataset(X_train, y_train)\n",
    "    mydat_val = AdjacencyDataset(X_val, y_val)\n",
    "    mydat_test = AdjacencyDataset(X_test, y_test)\n",
    "\n",
    "    train_dataloader = DataLoader(mydat_train, batch_size=20, shuffle=True, num_workers=0)\n",
    "    val_dataloader = DataLoader(mydat_val, batch_size=20, shuffle=False, num_workers=0)\n",
    "    test_dataloader = DataLoader(mydat_test, batch_size=20, shuffle=False, num_workers=0)\n",
    "    \n",
    "    model1 = Model()\n",
    "    model1 = model1.cpu()\n",
    "    \n",
    "    check_last = ModelCheckpoint('checkpoints/check_last_'+str(i)+'.pth')\n",
    "\n",
    "    trial_2 = Trial(model1,\n",
    "                     optim.Adam(model1.parameters(), lr=5e-04), \n",
    "                     nn.CrossEntropyLoss(), \n",
    "                     metrics=[\"loss\", \"acc\"],\n",
    "                     callbacks=[check_last])\n",
    "\n",
    "    trial_2.with_generators(train_generator=train_dataloader, \n",
    "                      val_generator=val_dataloader, \n",
    "                      test_generator=test_dataloader)#val67_dataloader)\n",
    "\n",
    "    mytrial = trial_2.run(epochs=600, verbose=1)\n",
    "    \n",
    "    \n",
    "    weights = model1.lin1.weight.data.detach().numpy()\n",
    "    weights = np.array([weights[i]/max(weights[i]) for i in range(len(weights))])\n",
    "    \n",
    "    weigh_df = biostr_df.copy()\n",
    "\n",
    "    for j in range(2):\n",
    "        weigh_df[\"W\"+str(j)] = weights[j]\n",
    "    weigh_df[\"std\"] = np.abs(weigh_df[\"W0\"]-weigh_df[\"W1\"])\n",
    "    \n",
    "    weigh_df.sort_values(\"std\", ascending=False).head(50)[\"nodeSymbol\"].to_csv(\"to_50_\"+str(i)+\".csv\", index=False)"
   ]
  },
  {
   "cell_type": "markdown",
   "metadata": {},
   "source": [
    "## Combinations analysis"
   ]
  },
  {
   "cell_type": "code",
   "execution_count": 81,
   "metadata": {
    "tags": []
   },
   "outputs": [
    {
     "name": "stdout",
     "output_type": "stream",
     "text": [
      "(0, 1, 2, 3, 4, 5, 6) 24.457142857142856\n",
      "(0, 1, 2, 3, 4, 5, 7) 34.285714285714285\n",
      "(0, 1, 2, 3, 4, 6, 7) 26.82857142857143\n",
      "(0, 1, 2, 3, 5, 6, 7) 22.62857142857143\n",
      "(0, 1, 2, 4, 5, 6, 7) 22.571428571428573\n",
      "(0, 1, 3, 4, 5, 6, 7) 22.37142857142857\n",
      "(0, 2, 3, 4, 5, 6, 7) 22.857142857142858\n",
      "(1, 2, 3, 4, 5, 6, 7) 22.4\n"
     ]
    }
   ],
   "source": [
    "leen=[]\n",
    "for cc in combinations(np.arange(8), 7):\n",
    "    inter_len=[]\n",
    "    for c in list(combinations(cc, 4)):\n",
    "        inter_len.append(custom_intersection([top_50[i] for i in c]).shape[0])\n",
    "    print(cc, np.mean(inter_len))\n",
    "    leen.append(np.mean(inter_len))"
   ]
  },
  {
   "cell_type": "code",
   "execution_count": 74,
   "metadata": {
    "tags": []
   },
   "outputs": [],
   "source": [
    "inters_df=pd.DataFrame()"
   ]
  },
  {
   "cell_type": "code",
   "execution_count": 82,
   "metadata": {
    "tags": []
   },
   "outputs": [],
   "source": [
    "inters_df[\"4 elements\"]=leen"
   ]
  },
  {
   "cell_type": "code",
   "execution_count": 83,
   "metadata": {
    "tags": []
   },
   "outputs": [
    {
     "data": {
      "text/html": [
       "<div>\n",
       "<style scoped>\n",
       "    .dataframe tbody tr th:only-of-type {\n",
       "        vertical-align: middle;\n",
       "    }\n",
       "\n",
       "    .dataframe tbody tr th {\n",
       "        vertical-align: top;\n",
       "    }\n",
       "\n",
       "    .dataframe thead th {\n",
       "        text-align: right;\n",
       "    }\n",
       "</style>\n",
       "<table border=\"1\" class=\"dataframe\">\n",
       "  <thead>\n",
       "    <tr style=\"text-align: right;\">\n",
       "      <th></th>\n",
       "      <th>6 elements</th>\n",
       "      <th>5 elements</th>\n",
       "      <th>4 elements</th>\n",
       "    </tr>\n",
       "  </thead>\n",
       "  <tbody>\n",
       "    <tr>\n",
       "      <th>0</th>\n",
       "      <td>15.142857</td>\n",
       "      <td>19.571429</td>\n",
       "      <td>24.457143</td>\n",
       "    </tr>\n",
       "    <tr>\n",
       "      <th>1</th>\n",
       "      <td>29.857143</td>\n",
       "      <td>31.904762</td>\n",
       "      <td>34.285714</td>\n",
       "    </tr>\n",
       "    <tr>\n",
       "      <th>2</th>\n",
       "      <td>18.000000</td>\n",
       "      <td>22.238095</td>\n",
       "      <td>26.828571</td>\n",
       "    </tr>\n",
       "    <tr>\n",
       "      <th>3</th>\n",
       "      <td>12.000000</td>\n",
       "      <td>17.142857</td>\n",
       "      <td>22.628571</td>\n",
       "    </tr>\n",
       "    <tr>\n",
       "      <th>4</th>\n",
       "      <td>11.857143</td>\n",
       "      <td>17.000000</td>\n",
       "      <td>22.571429</td>\n",
       "    </tr>\n",
       "    <tr>\n",
       "      <th>5</th>\n",
       "      <td>11.857143</td>\n",
       "      <td>16.904762</td>\n",
       "      <td>22.371429</td>\n",
       "    </tr>\n",
       "    <tr>\n",
       "      <th>6</th>\n",
       "      <td>12.571429</td>\n",
       "      <td>17.476190</td>\n",
       "      <td>22.857143</td>\n",
       "    </tr>\n",
       "    <tr>\n",
       "      <th>7</th>\n",
       "      <td>11.857143</td>\n",
       "      <td>16.904762</td>\n",
       "      <td>22.400000</td>\n",
       "    </tr>\n",
       "  </tbody>\n",
       "</table>\n",
       "</div>"
      ],
      "text/plain": [
       "   6 elements  5 elements  4 elements\n",
       "0   15.142857   19.571429   24.457143\n",
       "1   29.857143   31.904762   34.285714\n",
       "2   18.000000   22.238095   26.828571\n",
       "3   12.000000   17.142857   22.628571\n",
       "4   11.857143   17.000000   22.571429\n",
       "5   11.857143   16.904762   22.371429\n",
       "6   12.571429   17.476190   22.857143\n",
       "7   11.857143   16.904762   22.400000"
      ]
     },
     "execution_count": 83,
     "metadata": {},
     "output_type": "execute_result"
    }
   ],
   "source": [
    "inters_df"
   ]
  },
  {
   "cell_type": "code",
   "execution_count": 84,
   "metadata": {
    "tags": []
   },
   "outputs": [],
   "source": [
    "_len=[]\n",
    "for cl in [4,5,6]:\n",
    "    inter_len=[]\n",
    "    for c in list(combinations(np.arange(8), cl)):\n",
    "        #print(c, custom_intersection([top_50[i] for i in c]).shape)\n",
    "        inter_len.append(custom_intersection([top_50[i] for i in c]).shape[0])\n",
    "    _len.append(np.mean(inter_len))"
   ]
  },
  {
   "cell_type": "code",
   "execution_count": 90,
   "metadata": {
    "tags": []
   },
   "outputs": [],
   "source": [
    "inters_df.loc[8] = _len "
   ]
  },
  {
   "cell_type": "code",
   "execution_count": 103,
   "metadata": {
    "tags": []
   },
   "outputs": [],
   "source": [
    "inters_df.index = [\"EB\",\"HBC\",\"HC1\",\"HV8P\",\"PV16\",\"PV18\",\"PV5\",\"TL1\"][::-1]+[\"None\"]"
   ]
  },
  {
   "cell_type": "code",
   "execution_count": 102,
   "metadata": {
    "tags": []
   },
   "outputs": [
    {
     "data": {
      "text/plain": [
       "['TL1', 'PV5', 'PV18', 'PV16', 'HV8P', 'HC1', 'HBC', 'EB', 'None']"
      ]
     },
     "execution_count": 102,
     "metadata": {},
     "output_type": "execute_result"
    }
   ],
   "source": [
    "[\"EB\",\"HBC\",\"HC1\",\"HV8P\",\"PV16\",\"PV18\",\"PV5\",\"TL1\"][::-1]+[\"None\"]"
   ]
  },
  {
   "cell_type": "code",
   "execution_count": 106,
   "metadata": {
    "tags": []
   },
   "outputs": [
    {
     "name": "stdout",
     "output_type": "stream",
     "text": [
      "\\begin{tabular}{lrrrrrrrrr}\n",
      "\\toprule\n",
      "{} &  TL1 &  PV5 &  PV18 &  PV16 &  HV8P &  HC1 &  HBC &   EB &  None \\\\\n",
      "\\midrule\n",
      "6 elements & 15.1 & 29.9 &  18.0 &  12.0 &  11.9 & 11.9 & 12.6 & 11.9 &  24.8 \\\\\n",
      "5 elements & 19.6 & 31.9 &  22.2 &  17.1 &  17.0 & 16.9 & 17.5 & 16.9 &  19.9 \\\\\n",
      "4 elements & 24.5 & 34.3 &  26.8 &  22.6 &  22.6 & 22.4 & 22.9 & 22.4 &  15.4 \\\\\n",
      "\\bottomrule\n",
      "\\end{tabular}\n",
      "\n"
     ]
    }
   ],
   "source": [
    "print(inters_df.T.to_latex(float_format=\"%.1f\" ))"
   ]
  },
  {
   "cell_type": "markdown",
   "metadata": {},
   "source": [
    "# Random Forest"
   ]
  },
  {
   "cell_type": "code",
   "execution_count": 8,
   "metadata": {
    "tags": []
   },
   "outputs": [],
   "source": [
    "def random_tree_MINE(X, ind, max_depth, n_estimators, min_samples_split, min_samples_leaf, max_features, criterion, what_return=\"score\"):\n",
    "    num_features = X.shape[1]\n",
    "    \n",
    "    index_rem = np.loadtxt(\"../Data/MLRes/indexes/\"+str(ind)+\"_index.txt\", dtype=int)\n",
    "    index_rem = (index_rem[index_rem<(len(X)//2)])+(len(X)//2)\n",
    "\n",
    "    X_test = X[index_rem]\n",
    "    y_test = y[index_rem]\n",
    "    \n",
    "    X_train, X_val, y_train, y_val = train_test_split(X[np.delete(np.arange(len(X)), index_rem)], y[np.delete(np.arange(len(X)), index_rem)], test_size=0.1, random_state=42)\n",
    "\n",
    "    # Create a Random Forest classifier\n",
    "    rf_classifier = RandomForestClassifier(n_estimators=n_estimators,\n",
    "                                           max_depth=max_depth, \n",
    "                                           min_samples_leaf=min_samples_leaf, \n",
    "                                           min_samples_split=min_samples_split,\n",
    "                                           max_features=max_features,\n",
    "                                           criterion=criterion\n",
    "    )\n",
    "\n",
    "    # Fit the classifier to the input data\n",
    "    rf_classifier.fit(X_train, y_train)\n",
    "\n",
    "    y_val_pred = rf_classifier.predict(X_val)\n",
    "    y_train_pred = rf_classifier.predict(X_train)\n",
    "    if what_return==\"score\":\n",
    "        return accuracy_score(y_val, y_val_pred)\n",
    "    else:\n",
    "        \n",
    "        # Calculate the accuracy of the model on the training data\n",
    "        train_accuracy = accuracy_score(y_train, y_train_pred)\n",
    "        val_accuracy = accuracy_score(y_val, y_val_pred)\n",
    "        # Classify the new sample\n",
    "        predicted_class = rf_classifier.predict(X_test)\n",
    "        \n",
    "        importance_scores = rf_classifier.feature_importances_\n",
    "\n",
    "        return {\"Model\": rf_classifier,\n",
    "                \"train_pred\": y_train_pred,\n",
    "                \"train_true\": y_train,\n",
    "                \"train_accuracy\": train_accuracy,\n",
    "                \"val_pred\": y_val_pred,\n",
    "                \"val_true\": y_val,\n",
    "                \"val_accuracy\": val_accuracy,\n",
    "                \"test_pred\": predicted_class,\n",
    "                \"scores\": importance_scores}"
   ]
  },
  {
   "cell_type": "code",
   "execution_count": 10,
   "metadata": {
    "tags": []
   },
   "outputs": [
    {
     "name": "stdout",
     "output_type": "stream",
     "text": [
      "Random forest for 28\n",
      "Random forest for 43\n",
      "Random forest for 44\n",
      "Random forest for 67\n",
      "Random forest for 75\n",
      "Random forest for 77\n",
      "Random forest for 78\n",
      "Random forest for 90\n"
     ]
    }
   ],
   "source": [
    "scores_list = []\n",
    "\n",
    "for i in [28,43,44,67,75,77,78,90]:\n",
    "    print(\"Random forest for\", i)\n",
    "    result = random_tree_MINE(X=X,\n",
    "                              ind=i,\n",
    "                              n_estimators=100,\n",
    "                              max_depth=None, \n",
    "                              min_samples_split=2, \n",
    "                              min_samples_leaf=1,\n",
    "                              max_features=\"sqrt\",\n",
    "                              criterion=\"entropy\",\n",
    "                              what_return=\"all\")\n",
    "    #sars_pred = result['Model'].predict(X_pred)\n",
    "    #synt_pred = result['Model'].predict(X_synt)\n",
    "    scores_list.append(biostr_df[\"nodeSymbol\"][result['scores'].argsort()[::-1]][:50].to_numpy())\n",
    "    #print(\"%.3f & %.3f & %.3f & %.3f & %.3f\" %(result['train_accuracy'], result['val_accuracy'], result['test_pred'].mean(), sars_pred.mean(), synt_pred.mean()))"
   ]
  },
  {
   "cell_type": "code",
   "execution_count": 15,
   "metadata": {
    "tags": []
   },
   "outputs": [
    {
     "name": "stdout",
     "output_type": "stream",
     "text": [
      "CBX3, CBX4, CTBP1, DYRK1B, HIPK2, HIST1H2BG, HIST1H3A, HIST2H2BE, MECP2, MYB, NKX2-1, NLK, NTRK1, SENP1, SP100, SUMO2\n"
     ]
    }
   ],
   "source": [
    "print((\", \").join(custom_intersection([scores_list[i] for i in [0,1,2,3,4,5,7]])))"
   ]
  },
  {
   "cell_type": "code",
   "execution_count": 97,
   "metadata": {
    "tags": []
   },
   "outputs": [],
   "source": [
    "np.savetxt(X=custom_intersection([scores_list[i] for i in [0,1,2,3,4,5,7]]), fname=\"../Data/ClassificationData_4vir/RF_inters.txt\", fmt=\"%s\")"
   ]
  },
  {
   "cell_type": "code",
   "execution_count": 87,
   "metadata": {
    "tags": []
   },
   "outputs": [
    {
     "name": "stdout",
     "output_type": "stream",
     "text": [
      "CDH1, CTBP1, DYRK1B, HIPK2, HIST1H2AC, HIST1H2BG, HIST1H3A, HIST2H2BE, MECP2, MYB, NLK, NTRK1, SENP1, SUMO2\n"
     ]
    }
   ],
   "source": [
    "scores_df = pd.DataFrame(np.unique(np.concatenate(scores_list), return_counts=True)).T\n",
    "print((\", \").join(scores_df[scores_df[1]>6][0].to_numpy()))"
   ]
  },
  {
   "cell_type": "code",
   "execution_count": 102,
   "metadata": {
    "tags": []
   },
   "outputs": [],
   "source": [
    "result = random_tree_MINE(X=X,\n",
    "                          ind=43,\n",
    "                          n_estimators=100,\n",
    "                          max_depth=None, \n",
    "                          min_samples_split=2, \n",
    "                          min_samples_leaf=1,\n",
    "                          max_features=\"sqrt\",\n",
    "                          criterion=\"entropy\",\n",
    "                          what_return=\"all\")"
   ]
  },
  {
   "cell_type": "code",
   "execution_count": 103,
   "metadata": {
    "tags": []
   },
   "outputs": [],
   "source": [
    "y_val_pred = result[\"val_pred\"]\n",
    "y_test_pred = result[\"test_pred\"]"
   ]
  },
  {
   "cell_type": "code",
   "execution_count": 107,
   "metadata": {
    "tags": []
   },
   "outputs": [
    {
     "data": {
      "image/png": "[encoded data removed]",
      "text/plain": [
       "<Figure size 640x480 with 2 Axes>"
      ]
     },
     "metadata": {},
     "output_type": "display_data"
    }
   ],
   "source": [
    "sns.heatmap(confusion_matrix(y_pred=result[\"val_pred\"], y_true=result[\"val_true\"]), annot=True, fmt=\"d\")\n",
    "plt.xlabel(\"y pred\")\n",
    "plt.ylabel(\"y true\")\n",
    "plt.show()"
   ]
  },
  {
   "cell_type": "code",
   "execution_count": 116,
   "metadata": {
    "tags": []
   },
   "outputs": [
    {
     "data": {
      "text/html": [
       "<div>\n",
       "<style scoped>\n",
       "    .dataframe tbody tr th:only-of-type {\n",
       "        vertical-align: middle;\n",
       "    }\n",
       "\n",
       "    .dataframe tbody tr th {\n",
       "        vertical-align: top;\n",
       "    }\n",
       "\n",
       "    .dataframe thead th {\n",
       "        text-align: right;\n",
       "    }\n",
       "</style>\n",
       "<table border=\"1\" class=\"dataframe\">\n",
       "  <thead>\n",
       "    <tr style=\"text-align: right;\">\n",
       "      <th></th>\n",
       "      <th>nodeID</th>\n",
       "      <th>nodeLabel</th>\n",
       "      <th>nodeSymbol</th>\n",
       "      <th>scores</th>\n",
       "    </tr>\n",
       "  </thead>\n",
       "  <tbody>\n",
       "    <tr>\n",
       "      <th>3150</th>\n",
       "      <td>3150</td>\n",
       "      <td>113945</td>\n",
       "      <td>HIST2H2BE</td>\n",
       "      <td>0.008538</td>\n",
       "    </tr>\n",
       "    <tr>\n",
       "      <th>427</th>\n",
       "      <td>427</td>\n",
       "      <td>110969</td>\n",
       "      <td>NTRK1</td>\n",
       "      <td>0.006316</td>\n",
       "    </tr>\n",
       "    <tr>\n",
       "      <th>4073</th>\n",
       "      <td>4073</td>\n",
       "      <td>118815</td>\n",
       "      <td>HIPK2</td>\n",
       "      <td>0.005745</td>\n",
       "    </tr>\n",
       "    <tr>\n",
       "      <th>6560</th>\n",
       "      <td>6560</td>\n",
       "      <td>119685</td>\n",
       "      <td>NLK</td>\n",
       "      <td>0.005620</td>\n",
       "    </tr>\n",
       "    <tr>\n",
       "      <th>6432</th>\n",
       "      <td>6432</td>\n",
       "      <td>112936</td>\n",
       "      <td>NKX2-1</td>\n",
       "      <td>0.005295</td>\n",
       "    </tr>\n",
       "    <tr>\n",
       "      <th>8578</th>\n",
       "      <td>8578</td>\n",
       "      <td>123000</td>\n",
       "      <td>NANOG</td>\n",
       "      <td>0.004961</td>\n",
       "    </tr>\n",
       "    <tr>\n",
       "      <th>7588</th>\n",
       "      <td>7588</td>\n",
       "      <td>113946</td>\n",
       "      <td>HIST1H3A</td>\n",
       "      <td>0.004847</td>\n",
       "    </tr>\n",
       "    <tr>\n",
       "      <th>4710</th>\n",
       "      <td>4710</td>\n",
       "      <td>109269</td>\n",
       "      <td>H2AFZ</td>\n",
       "      <td>0.004704</td>\n",
       "    </tr>\n",
       "    <tr>\n",
       "      <th>6910</th>\n",
       "      <td>6910</td>\n",
       "      <td>118930</td>\n",
       "      <td>SENP1</td>\n",
       "      <td>0.004407</td>\n",
       "    </tr>\n",
       "    <tr>\n",
       "      <th>6535</th>\n",
       "      <td>6535</td>\n",
       "      <td>110368</td>\n",
       "      <td>MECP2</td>\n",
       "      <td>0.004232</td>\n",
       "    </tr>\n",
       "    <tr>\n",
       "      <th>3545</th>\n",
       "      <td>3545</td>\n",
       "      <td>107869</td>\n",
       "      <td>CTBP1</td>\n",
       "      <td>0.004076</td>\n",
       "    </tr>\n",
       "    <tr>\n",
       "      <th>3833</th>\n",
       "      <td>3833</td>\n",
       "      <td>110687</td>\n",
       "      <td>MYB</td>\n",
       "      <td>0.004012</td>\n",
       "    </tr>\n",
       "    <tr>\n",
       "      <th>9764</th>\n",
       "      <td>9764</td>\n",
       "      <td>113935</td>\n",
       "      <td>HIST1H2BG</td>\n",
       "      <td>0.003917</td>\n",
       "    </tr>\n",
       "    <tr>\n",
       "      <th>240</th>\n",
       "      <td>240</td>\n",
       "      <td>110501</td>\n",
       "      <td>MRE11A</td>\n",
       "      <td>0.003789</td>\n",
       "    </tr>\n",
       "    <tr>\n",
       "      <th>3534</th>\n",
       "      <td>3534</td>\n",
       "      <td>107876</td>\n",
       "      <td>CTNNA1</td>\n",
       "      <td>0.003599</td>\n",
       "    </tr>\n",
       "    <tr>\n",
       "      <th>296</th>\n",
       "      <td>296</td>\n",
       "      <td>112388</td>\n",
       "      <td>SKI</td>\n",
       "      <td>0.003566</td>\n",
       "    </tr>\n",
       "    <tr>\n",
       "      <th>445</th>\n",
       "      <td>445</td>\n",
       "      <td>107434</td>\n",
       "      <td>CDH1</td>\n",
       "      <td>0.003540</td>\n",
       "    </tr>\n",
       "    <tr>\n",
       "      <th>344</th>\n",
       "      <td>344</td>\n",
       "      <td>111580</td>\n",
       "      <td>MAPK1</td>\n",
       "      <td>0.003155</td>\n",
       "    </tr>\n",
       "    <tr>\n",
       "      <th>779</th>\n",
       "      <td>779</td>\n",
       "      <td>114105</td>\n",
       "      <td>CBX4</td>\n",
       "      <td>0.003151</td>\n",
       "    </tr>\n",
       "    <tr>\n",
       "      <th>2493</th>\n",
       "      <td>2493</td>\n",
       "      <td>111916</td>\n",
       "      <td>RFC4</td>\n",
       "      <td>0.003134</td>\n",
       "    </tr>\n",
       "  </tbody>\n",
       "</table>\n",
       "</div>"
      ],
      "text/plain": [
       "      nodeID nodeLabel nodeSymbol    scores\n",
       "3150    3150    113945  HIST2H2BE  0.008538\n",
       "427      427    110969      NTRK1  0.006316\n",
       "4073    4073    118815      HIPK2  0.005745\n",
       "6560    6560    119685        NLK  0.005620\n",
       "6432    6432    112936     NKX2-1  0.005295\n",
       "8578    8578    123000      NANOG  0.004961\n",
       "7588    7588    113946   HIST1H3A  0.004847\n",
       "4710    4710    109269      H2AFZ  0.004704\n",
       "6910    6910    118930      SENP1  0.004407\n",
       "6535    6535    110368      MECP2  0.004232\n",
       "3545    3545    107869      CTBP1  0.004076\n",
       "3833    3833    110687        MYB  0.004012\n",
       "9764    9764    113935  HIST1H2BG  0.003917\n",
       "240      240    110501     MRE11A  0.003789\n",
       "3534    3534    107876     CTNNA1  0.003599\n",
       "296      296    112388        SKI  0.003566\n",
       "445      445    107434       CDH1  0.003540\n",
       "344      344    111580      MAPK1  0.003155\n",
       "779      779    114105       CBX4  0.003151\n",
       "2493    2493    111916       RFC4  0.003134"
      ]
     },
     "execution_count": 116,
     "metadata": {},
     "output_type": "execute_result"
    }
   ],
   "source": [
    "scores_df = biostr_df.copy()\n",
    "scores_df[\"scores\"] = result[\"scores\"]\n",
    "scores_df.sort_values(\"scores\", ascending=False).head(20)"
   ]
  },
  {
   "cell_type": "code",
   "execution_count": 54,
   "metadata": {
    "tags": []
   },
   "outputs": [
    {
     "data": {
      "text/plain": [
       "array(['CTBP1', 'AXIN1', 'MYC', 'HIPK2', 'NTRK1', 'HIST1H2BN',\n",
       "       'HIST1H2BK', 'CDH1', 'HIST1H3A', 'MECP2', 'HIST1H2BG', 'HIST2H2BE',\n",
       "       'DAXX', 'NLK', 'DYRK1B', 'PIAS1', 'CREB1', 'H2BFS', 'TP73', 'RPN2',\n",
       "       'SENP1', 'CBX4', 'KAT5', 'H2AFZ', 'H2AFY', 'NKX2-1', 'RBBP5',\n",
       "       'CDH2', 'HMGA1', 'PML', 'MAPK1', 'TMEM17', 'HIST1H2BH', 'RBPJ',\n",
       "       'SKI', 'SUMO2', 'SP100', 'UBE2I', 'RPS5', 'HDAC8', 'MLH1',\n",
       "       'H2AFB1', 'SMARCA5', 'UBE2G2', 'HIST1H2BD', 'TP53INP1', 'POLR2L',\n",
       "       'MYB', 'HIST2H3PS2', 'TPT1'], dtype=object)"
      ]
     },
     "execution_count": 54,
     "metadata": {},
     "output_type": "execute_result"
    }
   ],
   "source": [
    "most_imp_RF"
   ]
  },
  {
   "cell_type": "code",
   "execution_count": 179,
   "metadata": {
    "tags": []
   },
   "outputs": [],
   "source": [
    "np.savetxt(X=np.intersect1d(most_imp_PERC, most_imp_RF), fname=\"../Data/ClassificationData_4vir/inters.txt\", fmt=\"%s\")"
   ]
  },
  {
   "cell_type": "code",
   "execution_count": 180,
   "metadata": {
    "tags": []
   },
   "outputs": [],
   "source": [
    "np.savetxt(X=most_imp_PERC, fname=\"../Data/ClassificationData_4vir/PERC.txt\", fmt=\"%s\")"
   ]
  },
  {
   "cell_type": "code",
   "execution_count": 184,
   "metadata": {
    "tags": []
   },
   "outputs": [],
   "source": [
    "enr_inters = gp.enrichr(gene_list=\"../Data/ClassificationData_4vir/RF.txt\", # or \"./tests/data/gene_list.txt\",\n",
    "                          gene_sets=['KEGG_2021_Human'],\n",
    "                          organism='human', # don't forget to set organism to the one you desired! e.g. Yeast\n",
    "                          outdir=None # don't write to disk\n",
    "                          )"
   ]
  },
  {
   "cell_type": "code",
   "execution_count": null,
   "metadata": {
    "tags": []
   },
   "outputs": [],
   "source": [
    "enr_inters.results.sort_values(\"Adjusted P-value\")"
   ]
  },
  {
   "cell_type": "code",
   "execution_count": 160,
   "metadata": {
    "tags": []
   },
   "outputs": [
    {
     "name": "stderr",
     "output_type": "stream",
     "text": [
      "\u001b[32m[I 2023-06-05 15:18:03,019]\u001b[0m A new study created in memory with name: random tree\u001b[0m\n",
      "\u001b[32m[I 2023-06-05 15:18:06,862]\u001b[0m Trial 0 finished with value: 0.9411764705882353 and parameters: {'max_depth': 93, 'min_samples_split': 4, 'min_samples_leaf': 2, 'max_features': 'log2', 'criterion': 'entropy'}. Best is trial 0 with value: 0.9411764705882353.\u001b[0m\n",
      "\u001b[32m[I 2023-06-05 15:18:10,717]\u001b[0m Trial 1 finished with value: 0.946524064171123 and parameters: {'max_depth': 75, 'min_samples_split': 7, 'min_samples_leaf': 8, 'max_features': 'sqrt', 'criterion': 'log_loss'}. Best is trial 1 with value: 0.946524064171123.\u001b[0m\n",
      "\u001b[32m[I 2023-06-05 15:18:14,532]\u001b[0m Trial 2 finished with value: 0.9429590017825312 and parameters: {'max_depth': 81, 'min_samples_split': 9, 'min_samples_leaf': 10, 'max_features': 'sqrt', 'criterion': 'gini'}. Best is trial 1 with value: 0.946524064171123.\u001b[0m\n",
      "\u001b[32m[I 2023-06-05 15:18:18,339]\u001b[0m Trial 3 finished with value: 0.9358288770053476 and parameters: {'max_depth': 44, 'min_samples_split': 8, 'min_samples_leaf': 10, 'max_features': 'log2', 'criterion': 'log_loss'}. Best is trial 1 with value: 0.946524064171123.\u001b[0m\n",
      "\u001b[32m[I 2023-06-05 15:18:22,215]\u001b[0m Trial 4 finished with value: 0.948306595365419 and parameters: {'max_depth': 91, 'min_samples_split': 2, 'min_samples_leaf': 5, 'max_features': 'log2', 'criterion': 'entropy'}. Best is trial 4 with value: 0.948306595365419.\u001b[0m\n",
      "\u001b[32m[I 2023-06-05 15:18:26,133]\u001b[0m Trial 5 finished with value: 0.9572192513368984 and parameters: {'max_depth': 82, 'min_samples_split': 6, 'min_samples_leaf': 9, 'max_features': 'log2', 'criterion': 'entropy'}. Best is trial 5 with value: 0.9572192513368984.\u001b[0m\n",
      "\u001b[32m[I 2023-06-05 15:18:29,971]\u001b[0m Trial 6 finished with value: 0.946524064171123 and parameters: {'max_depth': 71, 'min_samples_split': 3, 'min_samples_leaf': 6, 'max_features': 'log2', 'criterion': 'gini'}. Best is trial 5 with value: 0.9572192513368984.\u001b[0m\n",
      "\u001b[32m[I 2023-06-05 15:18:33,783]\u001b[0m Trial 7 finished with value: 0.9411764705882353 and parameters: {'max_depth': 49, 'min_samples_split': 5, 'min_samples_leaf': 9, 'max_features': 'sqrt', 'criterion': 'entropy'}. Best is trial 5 with value: 0.9572192513368984.\u001b[0m\n",
      "\u001b[32m[I 2023-06-05 15:18:37,709]\u001b[0m Trial 8 finished with value: 0.9340463458110517 and parameters: {'max_depth': 13, 'min_samples_split': 8, 'min_samples_leaf': 8, 'max_features': 'log2', 'criterion': 'entropy'}. Best is trial 5 with value: 0.9572192513368984.\u001b[0m\n",
      "\u001b[32m[I 2023-06-05 15:18:41,573]\u001b[0m Trial 9 finished with value: 0.9376114081996435 and parameters: {'max_depth': 36, 'min_samples_split': 8, 'min_samples_leaf': 6, 'max_features': 'log2', 'criterion': 'log_loss'}. Best is trial 5 with value: 0.9572192513368984.\u001b[0m\n"
     ]
    },
    {
     "name": "stdout",
     "output_type": "stream",
     "text": [
      "Number of finished trials: 10\n",
      "Best trial:\n",
      "   Max IoU: 0.9572192513368984\n",
      "   Params: \n",
      "    max_depth: 82\n",
      "    min_samples_split: 6\n",
      "    min_samples_leaf: 9\n",
      "    max_features: log2\n",
      "    criterion: entropy\n"
     ]
    }
   ],
   "source": [
    "def objective(trial):\n",
    "\n",
    "    # set the range of the transformations to apply to the image\n",
    "    hyperparameters = [\n",
    "        #trial.suggest_int(\"n_estimators\", 50,150),\n",
    "        trial.suggest_int(\"max_depth\", 1, 100),\n",
    "        trial.suggest_int(\"min_samples_split\", 2,10),\n",
    "        trial.suggest_int(\"min_samples_leaf\", 1,10),\n",
    "        trial.suggest_categorical(\"max_features\", [\"sqrt\", \"log2\"]),\n",
    "        trial.suggest_categorical(\"criterion\", [\"gini\", \"entropy\", \"log_loss\"])\n",
    "    ]\n",
    "    \n",
    "    return random_tree_MINE(X=X,\n",
    "                            ind=77,\n",
    "                            n_estimators = 100,\n",
    "                            max_depth=hyperparameters[0], \n",
    "                            min_samples_split=hyperparameters[1], \n",
    "                            min_samples_leaf=hyperparameters[2],\n",
    "                            max_features=hyperparameters[3],\n",
    "                            criterion = hyperparameters[4])\n",
    "\n",
    "pruner: optuna.pruners.BasePruner = optuna.pruners.NopPruner()\n",
    "sampler = TPESampler(seed=12345)\n",
    "study = optuna.create_study(study_name=\"random tree\", direction=\"maximize\", pruner=pruner, sampler=sampler)\n",
    "optuna.logging.set_verbosity(optuna.logging.INFO)\n",
    "study.optimize(objective, n_trials=10)\n",
    "\n",
    "\n",
    "print(\"Number of finished trials: {}\".format(len(study.trials)))\n",
    "\n",
    "print(\"Best trial:\")\n",
    "trial = study.best_trial\n",
    "\n",
    "print(\"   Max IoU: {}\".format(trial.value))\n",
    "\n",
    "print(\"   Params: \")\n",
    "for key, value in trial.params.items():\n",
    "    print(\"    {}: {}\".format(key, value))"
   ]
  },
  {
   "cell_type": "code",
   "execution_count": 38,
   "metadata": {},
   "outputs": [
    {
     "data": {
      "text/html": [
       "<div>\n",
       "<style scoped>\n",
       "    .dataframe tbody tr th:only-of-type {\n",
       "        vertical-align: middle;\n",
       "    }\n",
       "\n",
       "    .dataframe tbody tr th {\n",
       "        vertical-align: top;\n",
       "    }\n",
       "\n",
       "    .dataframe thead th {\n",
       "        text-align: right;\n",
       "    }\n",
       "</style>\n",
       "<table border=\"1\" class=\"dataframe\">\n",
       "  <thead>\n",
       "    <tr style=\"text-align: right;\">\n",
       "      <th></th>\n",
       "      <th>Prot</th>\n",
       "      <th>Score</th>\n",
       "    </tr>\n",
       "  </thead>\n",
       "  <tbody>\n",
       "    <tr>\n",
       "      <th>9317</th>\n",
       "      <td>CDH6</td>\n",
       "      <td>0.002634</td>\n",
       "    </tr>\n",
       "    <tr>\n",
       "      <th>2194</th>\n",
       "      <td>ATRX</td>\n",
       "      <td>0.002410</td>\n",
       "    </tr>\n",
       "    <tr>\n",
       "      <th>9010</th>\n",
       "      <td>APC2</td>\n",
       "      <td>0.002408</td>\n",
       "    </tr>\n",
       "    <tr>\n",
       "      <th>9318</th>\n",
       "      <td>CDH9</td>\n",
       "      <td>0.002311</td>\n",
       "    </tr>\n",
       "    <tr>\n",
       "      <th>8946</th>\n",
       "      <td>FAM171B</td>\n",
       "      <td>0.002292</td>\n",
       "    </tr>\n",
       "    <tr>\n",
       "      <th>...</th>\n",
       "      <td>...</td>\n",
       "      <td>...</td>\n",
       "    </tr>\n",
       "    <tr>\n",
       "      <th>7950</th>\n",
       "      <td>SCEL</td>\n",
       "      <td>0.001016</td>\n",
       "    </tr>\n",
       "    <tr>\n",
       "      <th>8658</th>\n",
       "      <td>SBSN</td>\n",
       "      <td>0.001010</td>\n",
       "    </tr>\n",
       "    <tr>\n",
       "      <th>8767</th>\n",
       "      <td>EPS8L1</td>\n",
       "      <td>0.001008</td>\n",
       "    </tr>\n",
       "    <tr>\n",
       "      <th>1206</th>\n",
       "      <td>HIST2H3PS2</td>\n",
       "      <td>0.001004</td>\n",
       "    </tr>\n",
       "    <tr>\n",
       "      <th>9454</th>\n",
       "      <td>KIAA1462</td>\n",
       "      <td>0.001001</td>\n",
       "    </tr>\n",
       "  </tbody>\n",
       "</table>\n",
       "<p>73 rows × 2 columns</p>\n",
       "</div>"
      ],
      "text/plain": [
       "            Prot     Score\n",
       "9317        CDH6  0.002634\n",
       "2194        ATRX  0.002410\n",
       "9010        APC2  0.002408\n",
       "9318        CDH9  0.002311\n",
       "8946     FAM171B  0.002292\n",
       "...          ...       ...\n",
       "7950        SCEL  0.001016\n",
       "8658        SBSN  0.001010\n",
       "8767      EPS8L1  0.001008\n",
       "1206  HIST2H3PS2  0.001004\n",
       "9454    KIAA1462  0.001001\n",
       "\n",
       "[73 rows x 2 columns]"
      ]
     },
     "execution_count": 38,
     "metadata": {},
     "output_type": "execute_result"
    }
   ],
   "source": [
    "res_df = pd.DataFrame({\"Prot\": node_map_df.loc[sorted_indices][\"Prot\"], \"Score\": np.sort(importance_scores)[::-1]})\n",
    "res_df[res_df[\"Score\"]>1e-3]"
   ]
  },
  {
   "cell_type": "code",
   "execution_count": 39,
   "metadata": {},
   "outputs": [
    {
     "data": {
      "image/png": "[encoded data removed]",
      "text/plain": [
       "<Figure size 1000x700 with 1 Axes>"
      ]
     },
     "metadata": {},
     "output_type": "display_data"
    }
   ],
   "source": [
    "plt.figure(figsize=(10,7))\n",
    "sns.scatterplot(data=res_df[res_df[\"Score\"]>1e-3], x=\"Prot\", y=\"Score\")\n",
    "plt.xticks(rotation=90)\n",
    "plt.tight_layout()"
   ]
  },
  {
   "cell_type": "markdown",
   "metadata": {},
   "source": [
    "# Enrichment"
   ]
  },
  {
   "cell_type": "code",
   "execution_count": 103,
   "metadata": {
    "scrolled": true,
    "tags": []
   },
   "outputs": [
    {
     "data": {
      "text/plain": [
       "['ARCHS4_Cell-lines',\n",
       " 'ARCHS4_IDG_Coexp',\n",
       " 'ARCHS4_Kinases_Coexp',\n",
       " 'ARCHS4_TFs_Coexp',\n",
       " 'ARCHS4_Tissues',\n",
       " 'Achilles_fitness_decrease',\n",
       " 'Achilles_fitness_increase',\n",
       " 'Aging_Perturbations_from_GEO_down',\n",
       " 'Aging_Perturbations_from_GEO_up',\n",
       " 'Allen_Brain_Atlas_10x_scRNA_2021',\n",
       " 'Allen_Brain_Atlas_down',\n",
       " 'Allen_Brain_Atlas_up',\n",
       " 'Azimuth_Cell_Types_2021',\n",
       " 'BioCarta_2013',\n",
       " 'BioCarta_2015',\n",
       " 'BioCarta_2016',\n",
       " 'BioPlanet_2019',\n",
       " 'BioPlex_2017',\n",
       " 'CCLE_Proteomics_2020',\n",
       " 'CORUM',\n",
       " 'COVID-19_Related_Gene_Sets',\n",
       " 'COVID-19_Related_Gene_Sets_2021',\n",
       " 'Cancer_Cell_Line_Encyclopedia',\n",
       " 'CellMarker_Augmented_2021',\n",
       " 'ChEA_2013',\n",
       " 'ChEA_2015',\n",
       " 'ChEA_2016',\n",
       " 'ChEA_2022',\n",
       " 'Chromosome_Location',\n",
       " 'Chromosome_Location_hg19',\n",
       " 'ClinVar_2019',\n",
       " 'DSigDB',\n",
       " 'Data_Acquisition_Method_Most_Popular_Genes',\n",
       " 'DepMap_WG_CRISPR_Screens_Broad_CellLines_2019',\n",
       " 'DepMap_WG_CRISPR_Screens_Sanger_CellLines_2019',\n",
       " 'Descartes_Cell_Types_and_Tissue_2021',\n",
       " 'Diabetes_Perturbations_GEO_2022',\n",
       " 'DisGeNET',\n",
       " 'Disease_Perturbations_from_GEO_down',\n",
       " 'Disease_Perturbations_from_GEO_up',\n",
       " 'Disease_Signatures_from_GEO_down_2014',\n",
       " 'Disease_Signatures_from_GEO_up_2014',\n",
       " 'DrugMatrix',\n",
       " 'Drug_Perturbations_from_GEO_2014',\n",
       " 'Drug_Perturbations_from_GEO_down',\n",
       " 'Drug_Perturbations_from_GEO_up',\n",
       " 'ENCODE_Histone_Modifications_2013',\n",
       " 'ENCODE_Histone_Modifications_2015',\n",
       " 'ENCODE_TF_ChIP-seq_2014',\n",
       " 'ENCODE_TF_ChIP-seq_2015',\n",
       " 'ENCODE_and_ChEA_Consensus_TFs_from_ChIP-X',\n",
       " 'ESCAPE',\n",
       " 'Elsevier_Pathway_Collection',\n",
       " 'Enrichr_Libraries_Most_Popular_Genes',\n",
       " 'Enrichr_Submissions_TF-Gene_Coocurrence',\n",
       " 'Enrichr_Users_Contributed_Lists_2020',\n",
       " 'Epigenomics_Roadmap_HM_ChIP-seq',\n",
       " 'FANTOM6_lncRNA_KD_DEGs',\n",
       " 'GO_Biological_Process_2013',\n",
       " 'GO_Biological_Process_2015',\n",
       " 'GO_Biological_Process_2017',\n",
       " 'GO_Biological_Process_2017b',\n",
       " 'GO_Biological_Process_2018',\n",
       " 'GO_Biological_Process_2021',\n",
       " 'GO_Biological_Process_2023',\n",
       " 'GO_Cellular_Component_2013',\n",
       " 'GO_Cellular_Component_2015',\n",
       " 'GO_Cellular_Component_2017',\n",
       " 'GO_Cellular_Component_2017b',\n",
       " 'GO_Cellular_Component_2018',\n",
       " 'GO_Cellular_Component_2021',\n",
       " 'GO_Cellular_Component_2023',\n",
       " 'GO_Molecular_Function_2013',\n",
       " 'GO_Molecular_Function_2015',\n",
       " 'GO_Molecular_Function_2017',\n",
       " 'GO_Molecular_Function_2017b',\n",
       " 'GO_Molecular_Function_2018',\n",
       " 'GO_Molecular_Function_2021',\n",
       " 'GO_Molecular_Function_2023',\n",
       " 'GTEx_Aging_Signatures_2021',\n",
       " 'GTEx_Tissue_Expression_Down',\n",
       " 'GTEx_Tissue_Expression_Up',\n",
       " 'GTEx_Tissues_V8_2023',\n",
       " 'GWAS_Catalog_2019',\n",
       " 'GWAS_Catalog_2023',\n",
       " 'GeDiPNet_2023',\n",
       " 'GeneSigDB',\n",
       " 'Gene_Perturbations_from_GEO_down',\n",
       " 'Gene_Perturbations_from_GEO_up',\n",
       " 'Genes_Associated_with_NIH_Grants',\n",
       " 'Genome_Browser_PWMs',\n",
       " 'GlyGen_Glycosylated_Proteins_2022',\n",
       " 'HDSigDB_Human_2021',\n",
       " 'HDSigDB_Mouse_2021',\n",
       " 'HMDB_Metabolites',\n",
       " 'HMS_LINCS_KinomeScan',\n",
       " 'HomoloGene',\n",
       " 'HuBMAP_ASCT_plus_B_augmented_w_RNAseq_Coexpression',\n",
       " 'HuBMAP_ASCTplusB_augmented_2022',\n",
       " 'HumanCyc_2015',\n",
       " 'HumanCyc_2016',\n",
       " 'Human_Gene_Atlas',\n",
       " 'Human_Phenotype_Ontology',\n",
       " 'IDG_Drug_Targets_2022',\n",
       " 'InterPro_Domains_2019',\n",
       " 'Jensen_COMPARTMENTS',\n",
       " 'Jensen_DISEASES',\n",
       " 'Jensen_TISSUES',\n",
       " 'KEA_2013',\n",
       " 'KEA_2015',\n",
       " 'KEGG_2013',\n",
       " 'KEGG_2015',\n",
       " 'KEGG_2016',\n",
       " 'KEGG_2019_Human',\n",
       " 'KEGG_2019_Mouse',\n",
       " 'KEGG_2021_Human',\n",
       " 'KOMP2_Mouse_Phenotypes_2022',\n",
       " 'Kinase_Perturbations_from_GEO_down',\n",
       " 'Kinase_Perturbations_from_GEO_up',\n",
       " 'L1000_Kinase_and_GPCR_Perturbations_down',\n",
       " 'L1000_Kinase_and_GPCR_Perturbations_up',\n",
       " 'LINCS_L1000_CRISPR_KO_Consensus_Sigs',\n",
       " 'LINCS_L1000_Chem_Pert_Consensus_Sigs',\n",
       " 'LINCS_L1000_Chem_Pert_down',\n",
       " 'LINCS_L1000_Chem_Pert_up',\n",
       " 'LINCS_L1000_Ligand_Perturbations_down',\n",
       " 'LINCS_L1000_Ligand_Perturbations_up',\n",
       " 'Ligand_Perturbations_from_GEO_down',\n",
       " 'Ligand_Perturbations_from_GEO_up',\n",
       " 'MAGMA_Drugs_and_Diseases',\n",
       " 'MAGNET_2023',\n",
       " 'MCF7_Perturbations_from_GEO_down',\n",
       " 'MCF7_Perturbations_from_GEO_up',\n",
       " 'MGI_Mammalian_Phenotype_2013',\n",
       " 'MGI_Mammalian_Phenotype_2017',\n",
       " 'MGI_Mammalian_Phenotype_Level_3',\n",
       " 'MGI_Mammalian_Phenotype_Level_4',\n",
       " 'MGI_Mammalian_Phenotype_Level_4_2019',\n",
       " 'MGI_Mammalian_Phenotype_Level_4_2021',\n",
       " 'MSigDB_Computational',\n",
       " 'MSigDB_Hallmark_2020',\n",
       " 'MSigDB_Oncogenic_Signatures',\n",
       " 'Metabolomics_Workbench_Metabolites_2022',\n",
       " 'Microbe_Perturbations_from_GEO_down',\n",
       " 'Microbe_Perturbations_from_GEO_up',\n",
       " 'Mouse_Gene_Atlas',\n",
       " 'NCI-60_Cancer_Cell_Lines',\n",
       " 'NCI-Nature_2015',\n",
       " 'NCI-Nature_2016',\n",
       " 'NIH_Funded_PIs_2017_AutoRIF_ARCHS4_Predictions',\n",
       " 'NIH_Funded_PIs_2017_GeneRIF_ARCHS4_Predictions',\n",
       " 'NIH_Funded_PIs_2017_Human_AutoRIF',\n",
       " 'NIH_Funded_PIs_2017_Human_GeneRIF',\n",
       " 'NURSA_Human_Endogenous_Complexome',\n",
       " 'OMIM_Disease',\n",
       " 'OMIM_Expanded',\n",
       " 'Old_CMAP_down',\n",
       " 'Old_CMAP_up',\n",
       " 'Orphanet_Augmented_2021',\n",
       " 'PFOCR_Pathways',\n",
       " 'PFOCR_Pathways_2023',\n",
       " 'PPI_Hub_Proteins',\n",
       " 'PanglaoDB_Augmented_2021',\n",
       " 'Panther_2015',\n",
       " 'Panther_2016',\n",
       " 'Pfam_Domains_2019',\n",
       " 'Pfam_InterPro_Domains',\n",
       " 'PheWeb_2019',\n",
       " 'PhenGenI_Association_2021',\n",
       " 'Phosphatase_Substrates_from_DEPOD',\n",
       " 'ProteomicsDB_2020',\n",
       " 'Proteomics_Drug_Atlas_2023',\n",
       " 'RNA-Seq_Disease_Gene_and_Drug_Signatures_from_GEO',\n",
       " 'RNAseq_Automatic_GEO_Signatures_Human_Down',\n",
       " 'RNAseq_Automatic_GEO_Signatures_Human_Up',\n",
       " 'RNAseq_Automatic_GEO_Signatures_Mouse_Down',\n",
       " 'RNAseq_Automatic_GEO_Signatures_Mouse_Up',\n",
       " 'Rare_Diseases_AutoRIF_ARCHS4_Predictions',\n",
       " 'Rare_Diseases_AutoRIF_Gene_Lists',\n",
       " 'Rare_Diseases_GeneRIF_ARCHS4_Predictions',\n",
       " 'Rare_Diseases_GeneRIF_Gene_Lists',\n",
       " 'Reactome_2013',\n",
       " 'Reactome_2015',\n",
       " 'Reactome_2016',\n",
       " 'Reactome_2022',\n",
       " 'SILAC_Phosphoproteomics',\n",
       " 'SubCell_BarCode',\n",
       " 'SynGO_2022',\n",
       " 'SysMyo_Muscle_Gene_Sets',\n",
       " 'TF-LOF_Expression_from_GEO',\n",
       " 'TF_Perturbations_Followed_by_Expression',\n",
       " 'TG_GATES_2020',\n",
       " 'TRANSFAC_and_JASPAR_PWMs',\n",
       " 'TRRUST_Transcription_Factors_2019',\n",
       " 'Table_Mining_of_CRISPR_Studies',\n",
       " 'Tabula_Muris',\n",
       " 'Tabula_Sapiens',\n",
       " 'TargetScan_microRNA',\n",
       " 'TargetScan_microRNA_2017',\n",
       " 'The_Kinase_Library_2023',\n",
       " 'Tissue_Protein_Expression_from_Human_Proteome_Map',\n",
       " 'Tissue_Protein_Expression_from_ProteomicsDB',\n",
       " 'Transcription_Factor_PPIs',\n",
       " 'UK_Biobank_GWAS_v1',\n",
       " 'Virus-Host_PPI_P-HIPSTer_2020',\n",
       " 'VirusMINT',\n",
       " 'Virus_Perturbations_from_GEO_down',\n",
       " 'Virus_Perturbations_from_GEO_up',\n",
       " 'WikiPathway_2021_Human',\n",
       " 'WikiPathways_2013',\n",
       " 'WikiPathways_2015',\n",
       " 'WikiPathways_2016',\n",
       " 'WikiPathways_2019_Human',\n",
       " 'WikiPathways_2019_Mouse',\n",
       " 'dbGaP',\n",
       " 'huMAP',\n",
       " 'lncHUB_lncRNA_Co-Expression',\n",
       " 'miRTarBase_2017']"
      ]
     },
     "execution_count": 103,
     "metadata": {},
     "output_type": "execute_result"
    }
   ],
   "source": [
    "gp.get_library_name()"
   ]
  },
  {
   "cell_type": "code",
   "execution_count": 104,
   "metadata": {
    "tags": []
   },
   "outputs": [],
   "source": [
    "enr_inters = gp.enrichr(gene_list=\"../Data/ClassificationData_4vir/RF_inters.txt\", # or \"./tests/data/gene_list.txt\",\n",
    "                          gene_sets=['KEGG_2021_Human','GO_Molecular_Function_2023',],\n",
    "                          organism='human', # don't forget to set organism to the one you desired! e.g. Yeast\n",
    "                          outdir=None # don't write to disk\n",
    "                          )"
   ]
  },
  {
   "cell_type": "code",
   "execution_count": 116,
   "metadata": {
    "tags": []
   },
   "outputs": [
    {
     "data": {
      "text/plain": [
       "<gseapy.enrichr.Enrichr at 0x7f0551f667d0>"
      ]
     },
     "execution_count": 116,
     "metadata": {},
     "output_type": "execute_result"
    }
   ],
   "source": [
    "enr_inters"
   ]
  },
  {
   "cell_type": "code",
   "execution_count": 105,
   "metadata": {
    "tags": []
   },
   "outputs": [
    {
     "data": {
      "text/html": [
       "<div>\n",
       "<style scoped>\n",
       "    .dataframe tbody tr th:only-of-type {\n",
       "        vertical-align: middle;\n",
       "    }\n",
       "\n",
       "    .dataframe tbody tr th {\n",
       "        vertical-align: top;\n",
       "    }\n",
       "\n",
       "    .dataframe thead th {\n",
       "        text-align: right;\n",
       "    }\n",
       "</style>\n",
       "<table border=\"1\" class=\"dataframe\">\n",
       "  <thead>\n",
       "    <tr style=\"text-align: right;\">\n",
       "      <th></th>\n",
       "      <th>Gene_set</th>\n",
       "      <th>Term</th>\n",
       "      <th>Overlap</th>\n",
       "      <th>P-value</th>\n",
       "      <th>Adjusted P-value</th>\n",
       "      <th>Old P-value</th>\n",
       "      <th>Old Adjusted P-value</th>\n",
       "      <th>Odds Ratio</th>\n",
       "      <th>Combined Score</th>\n",
       "      <th>Genes</th>\n",
       "    </tr>\n",
       "  </thead>\n",
       "  <tbody>\n",
       "    <tr>\n",
       "      <th>19</th>\n",
       "      <td>GO_Molecular_Function_2023</td>\n",
       "      <td>Double-Stranded Methylated DNA Binding (GO:001...</td>\n",
       "      <td>1/5</td>\n",
       "      <td>0.002997</td>\n",
       "      <td>0.025971</td>\n",
       "      <td>0</td>\n",
       "      <td>0</td>\n",
       "      <td>454.181818</td>\n",
       "      <td>2638.914119</td>\n",
       "      <td>MECP2</td>\n",
       "    </tr>\n",
       "    <tr>\n",
       "      <th>18</th>\n",
       "      <td>GO_Molecular_Function_2023</td>\n",
       "      <td>deSUMOylase Activity (GO:0016929)</td>\n",
       "      <td>1/5</td>\n",
       "      <td>0.002997</td>\n",
       "      <td>0.025971</td>\n",
       "      <td>0</td>\n",
       "      <td>0</td>\n",
       "      <td>454.181818</td>\n",
       "      <td>2638.914119</td>\n",
       "      <td>SENP1</td>\n",
       "    </tr>\n",
       "    <tr>\n",
       "      <th>17</th>\n",
       "      <td>GO_Molecular_Function_2023</td>\n",
       "      <td>Protein Tyrosine Kinase Activity (GO:0004713)</td>\n",
       "      <td>2/99</td>\n",
       "      <td>0.001550</td>\n",
       "      <td>0.025971</td>\n",
       "      <td>0</td>\n",
       "      <td>0</td>\n",
       "      <td>41.012371</td>\n",
       "      <td>265.331124</td>\n",
       "      <td>NTRK1;HIPK2</td>\n",
       "    </tr>\n",
       "    <tr>\n",
       "      <th>20</th>\n",
       "      <td>GO_Molecular_Function_2023</td>\n",
       "      <td>Neurotrophin Binding (GO:0043121)</td>\n",
       "      <td>1/7</td>\n",
       "      <td>0.004193</td>\n",
       "      <td>0.027255</td>\n",
       "      <td>0</td>\n",
       "      <td>0</td>\n",
       "      <td>302.757576</td>\n",
       "      <td>1657.396457</td>\n",
       "      <td>NTRK1</td>\n",
       "    </tr>\n",
       "    <tr>\n",
       "      <th>21</th>\n",
       "      <td>GO_Molecular_Function_2023</td>\n",
       "      <td>DNA-binding Transcription Factor Binding (GO:0...</td>\n",
       "      <td>2/282</td>\n",
       "      <td>0.011911</td>\n",
       "      <td>0.049496</td>\n",
       "      <td>0</td>\n",
       "      <td>0</td>\n",
       "      <td>14.077143</td>\n",
       "      <td>62.366161</td>\n",
       "      <td>CTBP1;HIPK2</td>\n",
       "    </tr>\n",
       "    <tr>\n",
       "      <th>26</th>\n",
       "      <td>GO_Molecular_Function_2023</td>\n",
       "      <td>Ubiquitin-Like Protein Peptidase Activity (GO:...</td>\n",
       "      <td>1/32</td>\n",
       "      <td>0.019037</td>\n",
       "      <td>0.049496</td>\n",
       "      <td>0</td>\n",
       "      <td>0</td>\n",
       "      <td>58.524927</td>\n",
       "      <td>231.838999</td>\n",
       "      <td>SENP1</td>\n",
       "    </tr>\n",
       "    <tr>\n",
       "      <th>25</th>\n",
       "      <td>GO_Molecular_Function_2023</td>\n",
       "      <td>Adenyl Nucleotide Binding (GO:0030554)</td>\n",
       "      <td>1/31</td>\n",
       "      <td>0.018447</td>\n",
       "      <td>0.049496</td>\n",
       "      <td>0</td>\n",
       "      <td>0</td>\n",
       "      <td>60.478788</td>\n",
       "      <td>241.482494</td>\n",
       "      <td>CTBP1</td>\n",
       "    </tr>\n",
       "    <tr>\n",
       "      <th>24</th>\n",
       "      <td>GO_Molecular_Function_2023</td>\n",
       "      <td>methyl-CpG Binding (GO:0008327)</td>\n",
       "      <td>1/29</td>\n",
       "      <td>0.017266</td>\n",
       "      <td>0.049496</td>\n",
       "      <td>0</td>\n",
       "      <td>0</td>\n",
       "      <td>64.805195</td>\n",
       "      <td>263.043544</td>\n",
       "      <td>MECP2</td>\n",
       "    </tr>\n",
       "    <tr>\n",
       "      <th>23</th>\n",
       "      <td>GO_Molecular_Function_2023</td>\n",
       "      <td>Protein Serine/Threonine Kinase Activity (GO:0...</td>\n",
       "      <td>2/342</td>\n",
       "      <td>0.017183</td>\n",
       "      <td>0.049496</td>\n",
       "      <td>0</td>\n",
       "      <td>0</td>\n",
       "      <td>11.557647</td>\n",
       "      <td>46.968582</td>\n",
       "      <td>DYRK1B;HIPK2</td>\n",
       "    </tr>\n",
       "    <tr>\n",
       "      <th>22</th>\n",
       "      <td>GO_Molecular_Function_2023</td>\n",
       "      <td>NAD Binding (GO:0051287)</td>\n",
       "      <td>1/26</td>\n",
       "      <td>0.015493</td>\n",
       "      <td>0.049496</td>\n",
       "      <td>0</td>\n",
       "      <td>0</td>\n",
       "      <td>72.592727</td>\n",
       "      <td>302.520344</td>\n",
       "      <td>CTBP1</td>\n",
       "    </tr>\n",
       "  </tbody>\n",
       "</table>\n",
       "</div>"
      ],
      "text/plain": [
       "                      Gene_set  \\\n",
       "19  GO_Molecular_Function_2023   \n",
       "18  GO_Molecular_Function_2023   \n",
       "17  GO_Molecular_Function_2023   \n",
       "20  GO_Molecular_Function_2023   \n",
       "21  GO_Molecular_Function_2023   \n",
       "26  GO_Molecular_Function_2023   \n",
       "25  GO_Molecular_Function_2023   \n",
       "24  GO_Molecular_Function_2023   \n",
       "23  GO_Molecular_Function_2023   \n",
       "22  GO_Molecular_Function_2023   \n",
       "\n",
       "                                                 Term Overlap   P-value  \\\n",
       "19  Double-Stranded Methylated DNA Binding (GO:001...     1/5  0.002997   \n",
       "18                  deSUMOylase Activity (GO:0016929)     1/5  0.002997   \n",
       "17      Protein Tyrosine Kinase Activity (GO:0004713)    2/99  0.001550   \n",
       "20                  Neurotrophin Binding (GO:0043121)     1/7  0.004193   \n",
       "21  DNA-binding Transcription Factor Binding (GO:0...   2/282  0.011911   \n",
       "26  Ubiquitin-Like Protein Peptidase Activity (GO:...    1/32  0.019037   \n",
       "25             Adenyl Nucleotide Binding (GO:0030554)    1/31  0.018447   \n",
       "24                    methyl-CpG Binding (GO:0008327)    1/29  0.017266   \n",
       "23  Protein Serine/Threonine Kinase Activity (GO:0...   2/342  0.017183   \n",
       "22                           NAD Binding (GO:0051287)    1/26  0.015493   \n",
       "\n",
       "    Adjusted P-value  Old P-value  Old Adjusted P-value  Odds Ratio  \\\n",
       "19          0.025971            0                     0  454.181818   \n",
       "18          0.025971            0                     0  454.181818   \n",
       "17          0.025971            0                     0   41.012371   \n",
       "20          0.027255            0                     0  302.757576   \n",
       "21          0.049496            0                     0   14.077143   \n",
       "26          0.049496            0                     0   58.524927   \n",
       "25          0.049496            0                     0   60.478788   \n",
       "24          0.049496            0                     0   64.805195   \n",
       "23          0.049496            0                     0   11.557647   \n",
       "22          0.049496            0                     0   72.592727   \n",
       "\n",
       "    Combined Score         Genes  \n",
       "19     2638.914119         MECP2  \n",
       "18     2638.914119         SENP1  \n",
       "17      265.331124   NTRK1;HIPK2  \n",
       "20     1657.396457         NTRK1  \n",
       "21       62.366161   CTBP1;HIPK2  \n",
       "26      231.838999         SENP1  \n",
       "25      241.482494         CTBP1  \n",
       "24      263.043544         MECP2  \n",
       "23       46.968582  DYRK1B;HIPK2  \n",
       "22      302.520344         CTBP1  "
      ]
     },
     "execution_count": 105,
     "metadata": {},
     "output_type": "execute_result"
    }
   ],
   "source": [
    "enr_inters.results.sort_values(\"Adjusted P-value\").head(10)"
   ]
  },
  {
   "cell_type": "code",
   "execution_count": 113,
   "metadata": {},
   "outputs": [
    {
     "data": {
      "image/png": "[encoded data removed]",
      "text/plain": [
       "<Figure size 1000x1000 with 1 Axes>"
      ]
     },
     "metadata": {},
     "output_type": "display_data"
    }
   ],
   "source": [
    "from sklearn import tree\n",
    "# Extract the individual decision tree\n",
    "decision_tree = rf_classifier.estimators_[0]\n",
    "\n",
    "# Create a figure and axis for plotting\n",
    "fig, ax = plt.subplots(figsize=(10, 10))\n",
    "\n",
    "# Plot the decision tree\n",
    "tree.plot_tree(decision_tree, ax=ax)\n",
    "\n",
    "# Show the plot\n",
    "plt.show()"
   ]
  }
 ],
 "metadata": {
  "kernelspec": {
   "display_name": "base",
   "language": "python",
   "name": "base"
  },
  "language_info": {
   "codemirror_mode": {
    "name": "ipython",
    "version": 3
   },
   "file_extension": ".py",
   "mimetype": "text/x-python",
   "name": "python",
   "nbconvert_exporter": "python",
   "pygments_lexer": "ipython3",
   "version": "3.10.9"
  }
 },
 "nbformat": 4,
 "nbformat_minor": 4
}
