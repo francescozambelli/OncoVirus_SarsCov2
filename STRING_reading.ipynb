{
 "cells": [
  {
   "cell_type": "code",
   "execution_count": 1,
   "id": "fea59ec0-1804-46a2-8eb6-d7d4b0b25b3c",
   "metadata": {
    "tags": []
   },
   "outputs": [],
   "source": [
    "import numpy as np\n",
    "import pandas as pd\n",
    "import matplotlib.pyplot as plt\n",
    "import scipy as sp\n",
    "import MuxVizPy as mxp\n",
    "import graph_tool as gt\n",
    "from operator import itemgetter\n",
    "from tqdm import tqdm\n",
    "import os\n",
    "\n",
    "import optuna\n",
    "from optuna.samplers import TPESampler, RandomSampler"
   ]
  },
  {
   "cell_type": "markdown",
   "id": "5631f2e5-213c-4847-b436-08cb86f8c819",
   "metadata": {},
   "source": [
    "# From STRING.viruses dataset exctract human proteins directly targeted by viruses and uniform names to NCBI"
   ]
  },
  {
   "cell_type": "code",
   "execution_count": 3,
   "id": "b07e1f18-9fff-4d65-986f-fd5b29aad895",
   "metadata": {
    "tags": []
   },
   "outputs": [],
   "source": [
    "#dataset with all links from Virus STRING\n",
    "full_links = pd.read_csv(\"data_STRING/9606.protein.links.full.v10.5.txt\", sep=\" \")\n",
    "#only interactions between virus and human\n",
    "links = full_links[(full_links[\"protein2\"].map(lambda x: not(\"9606\"in x)))]\n",
    "links = links.reset_index(drop=True)\n",
    "viruses_code = np.unique(links[\"protein2\"].map(lambda x: x.split(\".\")[0]).to_numpy())"
   ]
  },
  {
   "cell_type": "code",
   "execution_count": 13,
   "id": "f562add2-fd45-4ecb-a663-6e11b66be1fa",
   "metadata": {
    "tags": []
   },
   "outputs": [
    {
     "data": {
      "text/html": [
       "<div>\n",
       "<style scoped>\n",
       "    .dataframe tbody tr th:only-of-type {\n",
       "        vertical-align: middle;\n",
       "    }\n",
       "\n",
       "    .dataframe tbody tr th {\n",
       "        vertical-align: top;\n",
       "    }\n",
       "\n",
       "    .dataframe thead th {\n",
       "        text-align: right;\n",
       "    }\n",
       "</style>\n",
       "<table border=\"1\" class=\"dataframe\">\n",
       "  <thead>\n",
       "    <tr style=\"text-align: right;\">\n",
       "      <th></th>\n",
       "      <th>protein1</th>\n",
       "      <th>protein2</th>\n",
       "      <th>neighborhood</th>\n",
       "      <th>neighborhood_transferred</th>\n",
       "      <th>fusion</th>\n",
       "      <th>cooccurence</th>\n",
       "      <th>homology</th>\n",
       "      <th>coexpression</th>\n",
       "      <th>coexpression_transferred</th>\n",
       "      <th>experiments</th>\n",
       "      <th>experiments_transferred</th>\n",
       "      <th>database</th>\n",
       "      <th>database_transferred</th>\n",
       "      <th>textmining</th>\n",
       "      <th>textmining_transferred</th>\n",
       "      <th>combined_score</th>\n",
       "    </tr>\n",
       "  </thead>\n",
       "  <tbody>\n",
       "    <tr>\n",
       "      <th>0</th>\n",
       "      <td>9606.ENSP00000000233</td>\n",
       "      <td>10258.Q6TVW1_ORFSA</td>\n",
       "      <td>0</td>\n",
       "      <td>0</td>\n",
       "      <td>0</td>\n",
       "      <td>0</td>\n",
       "      <td>0</td>\n",
       "      <td>0</td>\n",
       "      <td>0</td>\n",
       "      <td>0</td>\n",
       "      <td>0</td>\n",
       "      <td>0</td>\n",
       "      <td>0</td>\n",
       "      <td>0</td>\n",
       "      <td>188</td>\n",
       "      <td>188</td>\n",
       "    </tr>\n",
       "    <tr>\n",
       "      <th>1</th>\n",
       "      <td>9606.ENSP00000000233</td>\n",
       "      <td>10279.Q98187_MCV1</td>\n",
       "      <td>0</td>\n",
       "      <td>0</td>\n",
       "      <td>0</td>\n",
       "      <td>0</td>\n",
       "      <td>0</td>\n",
       "      <td>0</td>\n",
       "      <td>0</td>\n",
       "      <td>0</td>\n",
       "      <td>0</td>\n",
       "      <td>0</td>\n",
       "      <td>0</td>\n",
       "      <td>0</td>\n",
       "      <td>188</td>\n",
       "      <td>188</td>\n",
       "    </tr>\n",
       "    <tr>\n",
       "      <th>2</th>\n",
       "      <td>9606.ENSP00000000233</td>\n",
       "      <td>10298.GM_HHV11</td>\n",
       "      <td>0</td>\n",
       "      <td>0</td>\n",
       "      <td>0</td>\n",
       "      <td>0</td>\n",
       "      <td>0</td>\n",
       "      <td>0</td>\n",
       "      <td>0</td>\n",
       "      <td>0</td>\n",
       "      <td>0</td>\n",
       "      <td>0</td>\n",
       "      <td>0</td>\n",
       "      <td>17</td>\n",
       "      <td>336</td>\n",
       "      <td>336</td>\n",
       "    </tr>\n",
       "    <tr>\n",
       "      <th>3</th>\n",
       "      <td>9606.ENSP00000000233</td>\n",
       "      <td>37296.ORF4_HHV8P</td>\n",
       "      <td>0</td>\n",
       "      <td>0</td>\n",
       "      <td>0</td>\n",
       "      <td>0</td>\n",
       "      <td>0</td>\n",
       "      <td>0</td>\n",
       "      <td>0</td>\n",
       "      <td>0</td>\n",
       "      <td>0</td>\n",
       "      <td>0</td>\n",
       "      <td>0</td>\n",
       "      <td>91</td>\n",
       "      <td>109</td>\n",
       "      <td>155</td>\n",
       "    </tr>\n",
       "    <tr>\n",
       "      <th>4</th>\n",
       "      <td>9606.ENSP00000000233</td>\n",
       "      <td>195054.PRO_0000039759</td>\n",
       "      <td>0</td>\n",
       "      <td>0</td>\n",
       "      <td>0</td>\n",
       "      <td>0</td>\n",
       "      <td>0</td>\n",
       "      <td>0</td>\n",
       "      <td>0</td>\n",
       "      <td>0</td>\n",
       "      <td>0</td>\n",
       "      <td>0</td>\n",
       "      <td>0</td>\n",
       "      <td>0</td>\n",
       "      <td>329</td>\n",
       "      <td>329</td>\n",
       "    </tr>\n",
       "    <tr>\n",
       "      <th>...</th>\n",
       "      <td>...</td>\n",
       "      <td>...</td>\n",
       "      <td>...</td>\n",
       "      <td>...</td>\n",
       "      <td>...</td>\n",
       "      <td>...</td>\n",
       "      <td>...</td>\n",
       "      <td>...</td>\n",
       "      <td>...</td>\n",
       "      <td>...</td>\n",
       "      <td>...</td>\n",
       "      <td>...</td>\n",
       "      <td>...</td>\n",
       "      <td>...</td>\n",
       "      <td>...</td>\n",
       "      <td>...</td>\n",
       "    </tr>\n",
       "    <tr>\n",
       "      <th>84004</th>\n",
       "      <td>9606.ENSP00000473243</td>\n",
       "      <td>10310.GB_HHV2H</td>\n",
       "      <td>0</td>\n",
       "      <td>0</td>\n",
       "      <td>0</td>\n",
       "      <td>0</td>\n",
       "      <td>0</td>\n",
       "      <td>0</td>\n",
       "      <td>0</td>\n",
       "      <td>0</td>\n",
       "      <td>0</td>\n",
       "      <td>0</td>\n",
       "      <td>0</td>\n",
       "      <td>0</td>\n",
       "      <td>227</td>\n",
       "      <td>227</td>\n",
       "    </tr>\n",
       "    <tr>\n",
       "      <th>84005</th>\n",
       "      <td>9606.ENSP00000473243</td>\n",
       "      <td>10298.GB_HHV11</td>\n",
       "      <td>0</td>\n",
       "      <td>0</td>\n",
       "      <td>0</td>\n",
       "      <td>0</td>\n",
       "      <td>0</td>\n",
       "      <td>0</td>\n",
       "      <td>0</td>\n",
       "      <td>0</td>\n",
       "      <td>0</td>\n",
       "      <td>0</td>\n",
       "      <td>0</td>\n",
       "      <td>0</td>\n",
       "      <td>227</td>\n",
       "      <td>227</td>\n",
       "    </tr>\n",
       "    <tr>\n",
       "      <th>84006</th>\n",
       "      <td>9606.ENSP00000473243</td>\n",
       "      <td>10335.GB_VZVD</td>\n",
       "      <td>0</td>\n",
       "      <td>0</td>\n",
       "      <td>0</td>\n",
       "      <td>0</td>\n",
       "      <td>0</td>\n",
       "      <td>0</td>\n",
       "      <td>0</td>\n",
       "      <td>0</td>\n",
       "      <td>0</td>\n",
       "      <td>0</td>\n",
       "      <td>0</td>\n",
       "      <td>0</td>\n",
       "      <td>227</td>\n",
       "      <td>227</td>\n",
       "    </tr>\n",
       "    <tr>\n",
       "      <th>84007</th>\n",
       "      <td>9606.ENSP00000473243</td>\n",
       "      <td>10359.GB_HCMVM</td>\n",
       "      <td>0</td>\n",
       "      <td>0</td>\n",
       "      <td>0</td>\n",
       "      <td>0</td>\n",
       "      <td>0</td>\n",
       "      <td>0</td>\n",
       "      <td>0</td>\n",
       "      <td>0</td>\n",
       "      <td>0</td>\n",
       "      <td>0</td>\n",
       "      <td>0</td>\n",
       "      <td>0</td>\n",
       "      <td>227</td>\n",
       "      <td>227</td>\n",
       "    </tr>\n",
       "    <tr>\n",
       "      <th>84008</th>\n",
       "      <td>9606.ENSP00000473243</td>\n",
       "      <td>10376.GB_EBVB9</td>\n",
       "      <td>0</td>\n",
       "      <td>0</td>\n",
       "      <td>0</td>\n",
       "      <td>0</td>\n",
       "      <td>0</td>\n",
       "      <td>0</td>\n",
       "      <td>0</td>\n",
       "      <td>0</td>\n",
       "      <td>0</td>\n",
       "      <td>0</td>\n",
       "      <td>0</td>\n",
       "      <td>0</td>\n",
       "      <td>227</td>\n",
       "      <td>227</td>\n",
       "    </tr>\n",
       "  </tbody>\n",
       "</table>\n",
       "<p>84009 rows × 16 columns</p>\n",
       "</div>"
      ],
      "text/plain": [
       "                   protein1               protein2  neighborhood  \\\n",
       "0      9606.ENSP00000000233     10258.Q6TVW1_ORFSA             0   \n",
       "1      9606.ENSP00000000233      10279.Q98187_MCV1             0   \n",
       "2      9606.ENSP00000000233         10298.GM_HHV11             0   \n",
       "3      9606.ENSP00000000233       37296.ORF4_HHV8P             0   \n",
       "4      9606.ENSP00000000233  195054.PRO_0000039759             0   \n",
       "...                     ...                    ...           ...   \n",
       "84004  9606.ENSP00000473243         10310.GB_HHV2H             0   \n",
       "84005  9606.ENSP00000473243         10298.GB_HHV11             0   \n",
       "84006  9606.ENSP00000473243          10335.GB_VZVD             0   \n",
       "84007  9606.ENSP00000473243         10359.GB_HCMVM             0   \n",
       "84008  9606.ENSP00000473243         10376.GB_EBVB9             0   \n",
       "\n",
       "       neighborhood_transferred  fusion  cooccurence  homology  coexpression  \\\n",
       "0                             0       0            0         0             0   \n",
       "1                             0       0            0         0             0   \n",
       "2                             0       0            0         0             0   \n",
       "3                             0       0            0         0             0   \n",
       "4                             0       0            0         0             0   \n",
       "...                         ...     ...          ...       ...           ...   \n",
       "84004                         0       0            0         0             0   \n",
       "84005                         0       0            0         0             0   \n",
       "84006                         0       0            0         0             0   \n",
       "84007                         0       0            0         0             0   \n",
       "84008                         0       0            0         0             0   \n",
       "\n",
       "       coexpression_transferred  experiments  experiments_transferred  \\\n",
       "0                             0            0                        0   \n",
       "1                             0            0                        0   \n",
       "2                             0            0                        0   \n",
       "3                             0            0                        0   \n",
       "4                             0            0                        0   \n",
       "...                         ...          ...                      ...   \n",
       "84004                         0            0                        0   \n",
       "84005                         0            0                        0   \n",
       "84006                         0            0                        0   \n",
       "84007                         0            0                        0   \n",
       "84008                         0            0                        0   \n",
       "\n",
       "       database  database_transferred  textmining  textmining_transferred  \\\n",
       "0             0                     0           0                     188   \n",
       "1             0                     0           0                     188   \n",
       "2             0                     0          17                     336   \n",
       "3             0                     0          91                     109   \n",
       "4             0                     0           0                     329   \n",
       "...         ...                   ...         ...                     ...   \n",
       "84004         0                     0           0                     227   \n",
       "84005         0                     0           0                     227   \n",
       "84006         0                     0           0                     227   \n",
       "84007         0                     0           0                     227   \n",
       "84008         0                     0           0                     227   \n",
       "\n",
       "       combined_score  \n",
       "0                 188  \n",
       "1                 188  \n",
       "2                 336  \n",
       "3                 155  \n",
       "4                 329  \n",
       "...               ...  \n",
       "84004             227  \n",
       "84005             227  \n",
       "84006             227  \n",
       "84007             227  \n",
       "84008             227  \n",
       "\n",
       "[84009 rows x 16 columns]"
      ]
     },
     "execution_count": 13,
     "metadata": {},
     "output_type": "execute_result"
    }
   ],
   "source": [
    "links"
   ]
  },
  {
   "cell_type": "code",
   "execution_count": 11,
   "id": "b311ccd6-8453-4347-a8d7-026b55e74cac",
   "metadata": {
    "tags": []
   },
   "outputs": [],
   "source": [
    "np.savetxt(X=links[\"protein1\"].unique(), fname=\"string_prot.txt\", fmt=\"%s\")"
   ]
  },
  {
   "cell_type": "code",
   "execution_count": 15,
   "id": "b949cc90-c7b5-4ec5-834c-2235a5c7c66d",
   "metadata": {
    "tags": []
   },
   "outputs": [],
   "source": [
    "#correspondance between name of virus and taxonomic code\n",
    "codevir = pd.read_csv(\"data_STRING/viruses_codes.txt\", sep=\"\\t\")\n",
    "\n",
    "virus_name = []\n",
    "virus_name_len = []\n",
    "for s in viruses_code:\n",
    "    if len(codevir[codevir[\"## taxon_id\"]==int(s)][\"official_name_NCBI\"].to_list())==0:\n",
    "        virus_name.append(\"\")\n",
    "        virus_name_len.append(0)\n",
    "    else:\n",
    "        virus_name.append(codevir[codevir[\"## taxon_id\"]==int(s)][\"official_name_NCBI\"].to_list()[0])\n",
    "        virus_name_len.append(1)\n",
    "\n",
    "virus_names_df = pd.DataFrame({\"name\": virus_name, \"ID\": viruses_code})\n",
    "virus_names_dict = dict(zip(viruses_code, virus_name))\n",
    "ID_nonzeronames = np.array(virus_names_df[virus_names_df[\"name\"]!=\"\"].ID)"
   ]
  },
  {
   "cell_type": "code",
   "execution_count": 21,
   "id": "5c427c5c-5385-44a3-8383-92e7f28905d1",
   "metadata": {
    "tags": []
   },
   "outputs": [],
   "source": [
    "#filter only links with protein2 corresponding to known virus\n",
    "links_pul = links[(links[\"protein2\"].map(lambda x: np.any(x.split(\".\")[0] in ID_nonzeronames)))].reset_index(drop=True)\n",
    "\n",
    "#links_pul[\"protein1\"]=links_pul[\"protein1\"].map(lambda x: x.split(\".\")[1])\n",
    "links_pul[\"virus\"]=links_pul[\"protein2\"].map(lambda x: x.split(\".\")[0])\n",
    "#links_pul[\"protein2\"]=links_pul[\"protein2\"].map(lambda x: x.split(\".\")[1])\n",
    "links_pul[\"virus_name\"]=itemgetter(*links_pul[\"virus\"].to_list())(virus_names_dict)"
   ]
  },
  {
   "cell_type": "code",
   "execution_count": 22,
   "id": "cbc52116-3765-4e28-b76c-bcd7cf97f679",
   "metadata": {
    "tags": []
   },
   "outputs": [
    {
     "data": {
      "text/html": [
       "<div>\n",
       "<style scoped>\n",
       "    .dataframe tbody tr th:only-of-type {\n",
       "        vertical-align: middle;\n",
       "    }\n",
       "\n",
       "    .dataframe tbody tr th {\n",
       "        vertical-align: top;\n",
       "    }\n",
       "\n",
       "    .dataframe thead th {\n",
       "        text-align: right;\n",
       "    }\n",
       "</style>\n",
       "<table border=\"1\" class=\"dataframe\">\n",
       "  <thead>\n",
       "    <tr style=\"text-align: right;\">\n",
       "      <th></th>\n",
       "      <th>protein1</th>\n",
       "      <th>protein2</th>\n",
       "      <th>neighborhood</th>\n",
       "      <th>neighborhood_transferred</th>\n",
       "      <th>fusion</th>\n",
       "      <th>cooccurence</th>\n",
       "      <th>homology</th>\n",
       "      <th>coexpression</th>\n",
       "      <th>coexpression_transferred</th>\n",
       "      <th>experiments</th>\n",
       "      <th>experiments_transferred</th>\n",
       "      <th>database</th>\n",
       "      <th>database_transferred</th>\n",
       "      <th>textmining</th>\n",
       "      <th>textmining_transferred</th>\n",
       "      <th>combined_score</th>\n",
       "      <th>virus</th>\n",
       "      <th>virus_name</th>\n",
       "    </tr>\n",
       "  </thead>\n",
       "  <tbody>\n",
       "    <tr>\n",
       "      <th>0</th>\n",
       "      <td>9606.ENSP00000000233</td>\n",
       "      <td>10258.Q6TVW1_ORFSA</td>\n",
       "      <td>0</td>\n",
       "      <td>0</td>\n",
       "      <td>0</td>\n",
       "      <td>0</td>\n",
       "      <td>0</td>\n",
       "      <td>0</td>\n",
       "      <td>0</td>\n",
       "      <td>0</td>\n",
       "      <td>0</td>\n",
       "      <td>0</td>\n",
       "      <td>0</td>\n",
       "      <td>0</td>\n",
       "      <td>188</td>\n",
       "      <td>188</td>\n",
       "      <td>10258</td>\n",
       "      <td>Orf virus (strain Goat/Texas/SA00/2000)</td>\n",
       "    </tr>\n",
       "    <tr>\n",
       "      <th>1</th>\n",
       "      <td>9606.ENSP00000000233</td>\n",
       "      <td>10279.Q98187_MCV1</td>\n",
       "      <td>0</td>\n",
       "      <td>0</td>\n",
       "      <td>0</td>\n",
       "      <td>0</td>\n",
       "      <td>0</td>\n",
       "      <td>0</td>\n",
       "      <td>0</td>\n",
       "      <td>0</td>\n",
       "      <td>0</td>\n",
       "      <td>0</td>\n",
       "      <td>0</td>\n",
       "      <td>0</td>\n",
       "      <td>188</td>\n",
       "      <td>188</td>\n",
       "      <td>10279</td>\n",
       "      <td>Molluscum contagiosum virus subtype 1</td>\n",
       "    </tr>\n",
       "    <tr>\n",
       "      <th>2</th>\n",
       "      <td>9606.ENSP00000000233</td>\n",
       "      <td>10298.GM_HHV11</td>\n",
       "      <td>0</td>\n",
       "      <td>0</td>\n",
       "      <td>0</td>\n",
       "      <td>0</td>\n",
       "      <td>0</td>\n",
       "      <td>0</td>\n",
       "      <td>0</td>\n",
       "      <td>0</td>\n",
       "      <td>0</td>\n",
       "      <td>0</td>\n",
       "      <td>0</td>\n",
       "      <td>17</td>\n",
       "      <td>336</td>\n",
       "      <td>336</td>\n",
       "      <td>10298</td>\n",
       "      <td>Human herpesvirus 1 (strain 17)</td>\n",
       "    </tr>\n",
       "    <tr>\n",
       "      <th>3</th>\n",
       "      <td>9606.ENSP00000000233</td>\n",
       "      <td>37296.ORF4_HHV8P</td>\n",
       "      <td>0</td>\n",
       "      <td>0</td>\n",
       "      <td>0</td>\n",
       "      <td>0</td>\n",
       "      <td>0</td>\n",
       "      <td>0</td>\n",
       "      <td>0</td>\n",
       "      <td>0</td>\n",
       "      <td>0</td>\n",
       "      <td>0</td>\n",
       "      <td>0</td>\n",
       "      <td>91</td>\n",
       "      <td>109</td>\n",
       "      <td>155</td>\n",
       "      <td>37296</td>\n",
       "      <td>Human herpesvirus 8 type P (isolate GK18)</td>\n",
       "    </tr>\n",
       "    <tr>\n",
       "      <th>4</th>\n",
       "      <td>9606.ENSP00000000233</td>\n",
       "      <td>195054.PRO_0000039759</td>\n",
       "      <td>0</td>\n",
       "      <td>0</td>\n",
       "      <td>0</td>\n",
       "      <td>0</td>\n",
       "      <td>0</td>\n",
       "      <td>0</td>\n",
       "      <td>0</td>\n",
       "      <td>0</td>\n",
       "      <td>0</td>\n",
       "      <td>0</td>\n",
       "      <td>0</td>\n",
       "      <td>0</td>\n",
       "      <td>329</td>\n",
       "      <td>329</td>\n",
       "      <td>195054</td>\n",
       "      <td>Human parechovirus 2 (strain Williamson)</td>\n",
       "    </tr>\n",
       "    <tr>\n",
       "      <th>...</th>\n",
       "      <td>...</td>\n",
       "      <td>...</td>\n",
       "      <td>...</td>\n",
       "      <td>...</td>\n",
       "      <td>...</td>\n",
       "      <td>...</td>\n",
       "      <td>...</td>\n",
       "      <td>...</td>\n",
       "      <td>...</td>\n",
       "      <td>...</td>\n",
       "      <td>...</td>\n",
       "      <td>...</td>\n",
       "      <td>...</td>\n",
       "      <td>...</td>\n",
       "      <td>...</td>\n",
       "      <td>...</td>\n",
       "      <td>...</td>\n",
       "      <td>...</td>\n",
       "    </tr>\n",
       "    <tr>\n",
       "      <th>80770</th>\n",
       "      <td>9606.ENSP00000473243</td>\n",
       "      <td>10310.GB_HHV2H</td>\n",
       "      <td>0</td>\n",
       "      <td>0</td>\n",
       "      <td>0</td>\n",
       "      <td>0</td>\n",
       "      <td>0</td>\n",
       "      <td>0</td>\n",
       "      <td>0</td>\n",
       "      <td>0</td>\n",
       "      <td>0</td>\n",
       "      <td>0</td>\n",
       "      <td>0</td>\n",
       "      <td>0</td>\n",
       "      <td>227</td>\n",
       "      <td>227</td>\n",
       "      <td>10310</td>\n",
       "      <td>Human herpesvirus 2 (strain HG52)</td>\n",
       "    </tr>\n",
       "    <tr>\n",
       "      <th>80771</th>\n",
       "      <td>9606.ENSP00000473243</td>\n",
       "      <td>10298.GB_HHV11</td>\n",
       "      <td>0</td>\n",
       "      <td>0</td>\n",
       "      <td>0</td>\n",
       "      <td>0</td>\n",
       "      <td>0</td>\n",
       "      <td>0</td>\n",
       "      <td>0</td>\n",
       "      <td>0</td>\n",
       "      <td>0</td>\n",
       "      <td>0</td>\n",
       "      <td>0</td>\n",
       "      <td>0</td>\n",
       "      <td>227</td>\n",
       "      <td>227</td>\n",
       "      <td>10298</td>\n",
       "      <td>Human herpesvirus 1 (strain 17)</td>\n",
       "    </tr>\n",
       "    <tr>\n",
       "      <th>80772</th>\n",
       "      <td>9606.ENSP00000473243</td>\n",
       "      <td>10335.GB_VZVD</td>\n",
       "      <td>0</td>\n",
       "      <td>0</td>\n",
       "      <td>0</td>\n",
       "      <td>0</td>\n",
       "      <td>0</td>\n",
       "      <td>0</td>\n",
       "      <td>0</td>\n",
       "      <td>0</td>\n",
       "      <td>0</td>\n",
       "      <td>0</td>\n",
       "      <td>0</td>\n",
       "      <td>0</td>\n",
       "      <td>227</td>\n",
       "      <td>227</td>\n",
       "      <td>10335</td>\n",
       "      <td>Varicella-zoster virus (strain Dumas)</td>\n",
       "    </tr>\n",
       "    <tr>\n",
       "      <th>80773</th>\n",
       "      <td>9606.ENSP00000473243</td>\n",
       "      <td>10359.GB_HCMVM</td>\n",
       "      <td>0</td>\n",
       "      <td>0</td>\n",
       "      <td>0</td>\n",
       "      <td>0</td>\n",
       "      <td>0</td>\n",
       "      <td>0</td>\n",
       "      <td>0</td>\n",
       "      <td>0</td>\n",
       "      <td>0</td>\n",
       "      <td>0</td>\n",
       "      <td>0</td>\n",
       "      <td>0</td>\n",
       "      <td>227</td>\n",
       "      <td>227</td>\n",
       "      <td>10359</td>\n",
       "      <td>Human cytomegalovirus (strain Merlin)</td>\n",
       "    </tr>\n",
       "    <tr>\n",
       "      <th>80774</th>\n",
       "      <td>9606.ENSP00000473243</td>\n",
       "      <td>10376.GB_EBVB9</td>\n",
       "      <td>0</td>\n",
       "      <td>0</td>\n",
       "      <td>0</td>\n",
       "      <td>0</td>\n",
       "      <td>0</td>\n",
       "      <td>0</td>\n",
       "      <td>0</td>\n",
       "      <td>0</td>\n",
       "      <td>0</td>\n",
       "      <td>0</td>\n",
       "      <td>0</td>\n",
       "      <td>0</td>\n",
       "      <td>227</td>\n",
       "      <td>227</td>\n",
       "      <td>10376</td>\n",
       "      <td>Epstein-Barr virus (strain B95-8)</td>\n",
       "    </tr>\n",
       "  </tbody>\n",
       "</table>\n",
       "<p>80775 rows × 18 columns</p>\n",
       "</div>"
      ],
      "text/plain": [
       "                   protein1               protein2  neighborhood  \\\n",
       "0      9606.ENSP00000000233     10258.Q6TVW1_ORFSA             0   \n",
       "1      9606.ENSP00000000233      10279.Q98187_MCV1             0   \n",
       "2      9606.ENSP00000000233         10298.GM_HHV11             0   \n",
       "3      9606.ENSP00000000233       37296.ORF4_HHV8P             0   \n",
       "4      9606.ENSP00000000233  195054.PRO_0000039759             0   \n",
       "...                     ...                    ...           ...   \n",
       "80770  9606.ENSP00000473243         10310.GB_HHV2H             0   \n",
       "80771  9606.ENSP00000473243         10298.GB_HHV11             0   \n",
       "80772  9606.ENSP00000473243          10335.GB_VZVD             0   \n",
       "80773  9606.ENSP00000473243         10359.GB_HCMVM             0   \n",
       "80774  9606.ENSP00000473243         10376.GB_EBVB9             0   \n",
       "\n",
       "       neighborhood_transferred  fusion  cooccurence  homology  coexpression  \\\n",
       "0                             0       0            0         0             0   \n",
       "1                             0       0            0         0             0   \n",
       "2                             0       0            0         0             0   \n",
       "3                             0       0            0         0             0   \n",
       "4                             0       0            0         0             0   \n",
       "...                         ...     ...          ...       ...           ...   \n",
       "80770                         0       0            0         0             0   \n",
       "80771                         0       0            0         0             0   \n",
       "80772                         0       0            0         0             0   \n",
       "80773                         0       0            0         0             0   \n",
       "80774                         0       0            0         0             0   \n",
       "\n",
       "       coexpression_transferred  experiments  experiments_transferred  \\\n",
       "0                             0            0                        0   \n",
       "1                             0            0                        0   \n",
       "2                             0            0                        0   \n",
       "3                             0            0                        0   \n",
       "4                             0            0                        0   \n",
       "...                         ...          ...                      ...   \n",
       "80770                         0            0                        0   \n",
       "80771                         0            0                        0   \n",
       "80772                         0            0                        0   \n",
       "80773                         0            0                        0   \n",
       "80774                         0            0                        0   \n",
       "\n",
       "       database  database_transferred  textmining  textmining_transferred  \\\n",
       "0             0                     0           0                     188   \n",
       "1             0                     0           0                     188   \n",
       "2             0                     0          17                     336   \n",
       "3             0                     0          91                     109   \n",
       "4             0                     0           0                     329   \n",
       "...         ...                   ...         ...                     ...   \n",
       "80770         0                     0           0                     227   \n",
       "80771         0                     0           0                     227   \n",
       "80772         0                     0           0                     227   \n",
       "80773         0                     0           0                     227   \n",
       "80774         0                     0           0                     227   \n",
       "\n",
       "       combined_score   virus                                 virus_name  \n",
       "0                 188   10258    Orf virus (strain Goat/Texas/SA00/2000)  \n",
       "1                 188   10279      Molluscum contagiosum virus subtype 1  \n",
       "2                 336   10298            Human herpesvirus 1 (strain 17)  \n",
       "3                 155   37296  Human herpesvirus 8 type P (isolate GK18)  \n",
       "4                 329  195054   Human parechovirus 2 (strain Williamson)  \n",
       "...               ...     ...                                        ...  \n",
       "80770             227   10310          Human herpesvirus 2 (strain HG52)  \n",
       "80771             227   10298            Human herpesvirus 1 (strain 17)  \n",
       "80772             227   10335      Varicella-zoster virus (strain Dumas)  \n",
       "80773             227   10359      Human cytomegalovirus (strain Merlin)  \n",
       "80774             227   10376          Epstein-Barr virus (strain B95-8)  \n",
       "\n",
       "[80775 rows x 18 columns]"
      ]
     },
     "execution_count": 22,
     "metadata": {},
     "output_type": "execute_result"
    }
   ],
   "source": [
    "links_pul"
   ]
  },
  {
   "cell_type": "code",
   "execution_count": 19,
   "id": "f707719f-2630-496c-999b-b5123a10ac1f",
   "metadata": {
    "tags": []
   },
   "outputs": [],
   "source": [
    "#mapping between node ID and name\n",
    "mapper = pd.read_csv(\"data_STRING/9606.protein.info.v11.5.txt\", sep=\"\\t\")\n",
    "mapper[\"ID\"] = mapper[\"#string_protein_id\"].map(lambda x: x.split(\".\")[1])\n",
    "mapper_dict = dict(zip(mapper[\"ID\"], mapper[\"preferred_name\"]))"
   ]
  },
  {
   "cell_type": "code",
   "execution_count": 29,
   "id": "e30efa3b-4438-45e4-8595-035d36964758",
   "metadata": {
    "tags": []
   },
   "outputs": [
    {
     "data": {
      "text/html": [
       "<div>\n",
       "<style scoped>\n",
       "    .dataframe tbody tr th:only-of-type {\n",
       "        vertical-align: middle;\n",
       "    }\n",
       "\n",
       "    .dataframe tbody tr th {\n",
       "        vertical-align: top;\n",
       "    }\n",
       "\n",
       "    .dataframe thead th {\n",
       "        text-align: right;\n",
       "    }\n",
       "</style>\n",
       "<table border=\"1\" class=\"dataframe\">\n",
       "  <thead>\n",
       "    <tr style=\"text-align: right;\">\n",
       "      <th></th>\n",
       "      <th>#string_protein_id</th>\n",
       "      <th>preferred_name</th>\n",
       "      <th>protein_size</th>\n",
       "      <th>annotation</th>\n",
       "      <th>ID</th>\n",
       "    </tr>\n",
       "  </thead>\n",
       "  <tbody>\n",
       "    <tr>\n",
       "      <th>0</th>\n",
       "      <td>9606.ENSP00000000233</td>\n",
       "      <td>ARF5</td>\n",
       "      <td>180</td>\n",
       "      <td>ADP-ribosylation factor 5; GTP-binding protein...</td>\n",
       "      <td>ENSP00000000233</td>\n",
       "    </tr>\n",
       "    <tr>\n",
       "      <th>1</th>\n",
       "      <td>9606.ENSP00000000412</td>\n",
       "      <td>M6PR</td>\n",
       "      <td>277</td>\n",
       "      <td>Cation-dependent mannose-6-phosphate receptor;...</td>\n",
       "      <td>ENSP00000000412</td>\n",
       "    </tr>\n",
       "    <tr>\n",
       "      <th>2</th>\n",
       "      <td>9606.ENSP00000001008</td>\n",
       "      <td>FKBP4</td>\n",
       "      <td>459</td>\n",
       "      <td>Peptidyl-prolyl cis-trans isomerase FKBP4; Imm...</td>\n",
       "      <td>ENSP00000001008</td>\n",
       "    </tr>\n",
       "    <tr>\n",
       "      <th>3</th>\n",
       "      <td>9606.ENSP00000001146</td>\n",
       "      <td>CYP26B1</td>\n",
       "      <td>512</td>\n",
       "      <td>Cytochrome P450 26B1; Involved in the metaboli...</td>\n",
       "      <td>ENSP00000001146</td>\n",
       "    </tr>\n",
       "    <tr>\n",
       "      <th>4</th>\n",
       "      <td>9606.ENSP00000002125</td>\n",
       "      <td>NDUFAF7</td>\n",
       "      <td>441</td>\n",
       "      <td>Protein arginine methyltransferase NDUFAF7, mi...</td>\n",
       "      <td>ENSP00000002125</td>\n",
       "    </tr>\n",
       "    <tr>\n",
       "      <th>...</th>\n",
       "      <td>...</td>\n",
       "      <td>...</td>\n",
       "      <td>...</td>\n",
       "      <td>...</td>\n",
       "      <td>...</td>\n",
       "    </tr>\n",
       "    <tr>\n",
       "      <th>19561</th>\n",
       "      <td>9606.ENSP00000485671</td>\n",
       "      <td>ENSG00000280273</td>\n",
       "      <td>120</td>\n",
       "      <td>HCG1991042</td>\n",
       "      <td>ENSP00000485671</td>\n",
       "    </tr>\n",
       "    <tr>\n",
       "      <th>19562</th>\n",
       "      <td>9606.ENSP00000485672</td>\n",
       "      <td>ENSG00000279458</td>\n",
       "      <td>86</td>\n",
       "      <td>annotation not available</td>\n",
       "      <td>ENSP00000485672</td>\n",
       "    </tr>\n",
       "    <tr>\n",
       "      <th>19563</th>\n",
       "      <td>9606.ENSP00000485673</td>\n",
       "      <td>ENSG00000279988</td>\n",
       "      <td>243</td>\n",
       "      <td>annotation not available</td>\n",
       "      <td>ENSP00000485673</td>\n",
       "    </tr>\n",
       "    <tr>\n",
       "      <th>19564</th>\n",
       "      <td>9606.ENSP00000485675</td>\n",
       "      <td>ENSG00000280116</td>\n",
       "      <td>84</td>\n",
       "      <td>annotation not available</td>\n",
       "      <td>ENSP00000485675</td>\n",
       "    </tr>\n",
       "    <tr>\n",
       "      <th>19565</th>\n",
       "      <td>9606.ENSP00000485678</td>\n",
       "      <td>OR6Q1</td>\n",
       "      <td>317</td>\n",
       "      <td>Olfactory receptor 6Q1; Odorant receptor; Olfa...</td>\n",
       "      <td>ENSP00000485678</td>\n",
       "    </tr>\n",
       "  </tbody>\n",
       "</table>\n",
       "<p>19566 rows × 5 columns</p>\n",
       "</div>"
      ],
      "text/plain": [
       "         #string_protein_id   preferred_name  protein_size  \\\n",
       "0      9606.ENSP00000000233             ARF5           180   \n",
       "1      9606.ENSP00000000412             M6PR           277   \n",
       "2      9606.ENSP00000001008            FKBP4           459   \n",
       "3      9606.ENSP00000001146          CYP26B1           512   \n",
       "4      9606.ENSP00000002125          NDUFAF7           441   \n",
       "...                     ...              ...           ...   \n",
       "19561  9606.ENSP00000485671  ENSG00000280273           120   \n",
       "19562  9606.ENSP00000485672  ENSG00000279458            86   \n",
       "19563  9606.ENSP00000485673  ENSG00000279988           243   \n",
       "19564  9606.ENSP00000485675  ENSG00000280116            84   \n",
       "19565  9606.ENSP00000485678            OR6Q1           317   \n",
       "\n",
       "                                              annotation               ID  \n",
       "0      ADP-ribosylation factor 5; GTP-binding protein...  ENSP00000000233  \n",
       "1      Cation-dependent mannose-6-phosphate receptor;...  ENSP00000000412  \n",
       "2      Peptidyl-prolyl cis-trans isomerase FKBP4; Imm...  ENSP00000001008  \n",
       "3      Cytochrome P450 26B1; Involved in the metaboli...  ENSP00000001146  \n",
       "4      Protein arginine methyltransferase NDUFAF7, mi...  ENSP00000002125  \n",
       "...                                                  ...              ...  \n",
       "19561                                        HCG1991042   ENSP00000485671  \n",
       "19562                           annotation not available  ENSP00000485672  \n",
       "19563                           annotation not available  ENSP00000485673  \n",
       "19564                           annotation not available  ENSP00000485675  \n",
       "19565  Olfactory receptor 6Q1; Odorant receptor; Olfa...  ENSP00000485678  \n",
       "\n",
       "[19566 rows x 5 columns]"
      ]
     },
     "execution_count": 29,
     "metadata": {},
     "output_type": "execute_result"
    }
   ],
   "source": [
    "mapper"
   ]
  },
  {
   "cell_type": "code",
   "execution_count": 25,
   "id": "67c65fa9-413d-46f3-9789-258835c2974c",
   "metadata": {
    "tags": []
   },
   "outputs": [],
   "source": [
    "uga=np.isin(links_pul[\"protein1\"].unique(),mapper[\"#string_protein_id\"])"
   ]
  },
  {
   "cell_type": "code",
   "execution_count": 28,
   "id": "5e21ce70-335b-4c98-80d9-d8c2becbc1d6",
   "metadata": {
    "tags": []
   },
   "outputs": [
    {
     "data": {
      "text/plain": [
       "(8575,)"
      ]
     },
     "execution_count": 28,
     "metadata": {},
     "output_type": "execute_result"
    }
   ],
   "source": [
    "links_pul[\"protein1\"].unique().shape"
   ]
  },
  {
   "cell_type": "code",
   "execution_count": 66,
   "id": "bd88eb0b-0015-4fd8-83ba-941afb257d9f",
   "metadata": {
    "tags": []
   },
   "outputs": [],
   "source": [
    "#filter again with proteins1 which code is mapped to a name\n",
    "links_res = links_pul[links_pul[\"protein1\"].isin(mapper[\"ID\"])]\n",
    "links_res[\"protein1_name\"]=itemgetter(*links_res[\"protein1\"].to_list())(mapper_dict)"
   ]
  },
  {
   "cell_type": "code",
   "execution_count": 74,
   "id": "96ce51ac-2326-4361-8cdb-17bb2cf5032e",
   "metadata": {
    "tags": []
   },
   "outputs": [],
   "source": [
    "#list of unique viruses names\n",
    "unique_viruses = links_res[\"virus_name\"].unique()"
   ]
  },
  {
   "cell_type": "code",
   "execution_count": 251,
   "id": "818433b1-44b9-43a1-b6e1-edf6f59e5c1b",
   "metadata": {
    "tags": []
   },
   "outputs": [],
   "source": [
    "#proteins for each virus which are in a link with text mining of high confidence \n",
    "##r experiment with mean confidence\n",
    "type0_list = []\n",
    "type1_list = []\n",
    "\n",
    "for un in unique_viruses:\n",
    "    provv_link = links_res[links_res[\"virus_name\"]==un]\n",
    "    type0_list.append(provv_link[\"protein2\"].unique())\n",
    "    type1_list.append(provv_link[(provv_link[\"textmining\"]>700) | (provv_link[\"experiments\"]>400)][\"protein1_name\"].unique())\n",
    "\n",
    "res_df = pd.DataFrame({\"name\":unique_viruses, \n",
    "                       \"len_vir\":[len(l) for l in type0_list],\n",
    "                       \"len_hum\":[len(l) for l in type1_list], \n",
    "                       \"virus\": type0_list, \n",
    "                       \"human\": type1_list})\n",
    "res_df[\"name\"] = res_df[\"name\"].map(lambda x: x.replace(\"(\", \"\"))\n",
    "res_df[\"name\"] = res_df[\"name\"].map(lambda x: x.replace(\")\", \"\"))\n",
    "res_df[\"name\"] = res_df[\"name\"].map(lambda x: x.replace(\"/\", \"_\"))\n",
    "res_df[\"name\"] = res_df[\"name\"].map(lambda x: x.replace(\" \", \"_\"))"
   ]
  },
  {
   "cell_type": "code",
   "execution_count": 121,
   "id": "21d0eeb2-80dc-4bd4-ab3a-ab9d4cad973d",
   "metadata": {
    "tags": []
   },
   "outputs": [],
   "source": [
    "#load ncbi database\n",
    "ncbi = pd.read_csv(\"BIOGRID_data/Homo_sapiens.gene_info\", sep=\"\\t\")\n",
    "symbols = ncbi[\"Symbol\"]\n",
    "synonyms = [ncbi[\"Synonyms\"][i].split(\"|\") for i in range(len(ncbi))]\n",
    "unique_synonims = np.unique(np.concatenate(synonyms))\n",
    "\n"
   ]
  },
  {
   "cell_type": "code",
   "execution_count": 252,
   "id": "62b210ae-6925-4394-b9ac-9694476dad44",
   "metadata": {
    "tags": []
   },
   "outputs": [],
   "source": [
    "resss = res_df[res_df[\"len_hum\"]>0].sort_values(\"name\").reset_index(drop=True)"
   ]
  },
  {
   "cell_type": "code",
   "execution_count": 255,
   "id": "9675ddf7-c9e2-4df8-986f-f741d6608eb5",
   "metadata": {
    "tags": []
   },
   "outputs": [
    {
     "data": {
      "text/plain": [
       "True"
      ]
     },
     "execution_count": 255,
     "metadata": {},
     "output_type": "execute_result"
    }
   ],
   "source": [
    "np.any(np.isin(resss.loc[18,\"human\"], symbols))"
   ]
  },
  {
   "cell_type": "code",
   "execution_count": 257,
   "id": "b182841d-9e2b-42bb-ac5b-c05f8a93f1d3",
   "metadata": {},
   "outputs": [
    {
     "name": "stdout",
     "output_type": "stream",
     "text": [
      "0/83\n",
      "1/83\n",
      "2/83\n",
      "3/83\n",
      "4/83\n",
      "5/83\n",
      "6/83\n",
      "7/83\n",
      "8/83\n",
      "9/83\n",
      "10/83\n",
      "11/83\n",
      "12/83\n"
     ]
    },
    {
     "name": "stderr",
     "output_type": "stream",
     "text": [
      "100%|█████████████████████████████████████████████| 1/1 [00:02<00:00,  2.16s/it]\n"
     ]
    },
    {
     "name": "stdout",
     "output_type": "stream",
     "text": [
      "13/83\n",
      "14/83\n",
      "15/83\n",
      "16/83\n",
      "17/83\n",
      "18/83\n"
     ]
    },
    {
     "name": "stderr",
     "output_type": "stream",
     "text": [
      "100%|███████████████████████████████████████████| 48/48 [01:37<00:00,  2.04s/it]\n"
     ]
    },
    {
     "name": "stdout",
     "output_type": "stream",
     "text": [
      "19/83\n",
      "20/83\n",
      "21/83\n",
      "22/83\n",
      "23/83\n",
      "24/83\n",
      "25/83\n"
     ]
    },
    {
     "name": "stderr",
     "output_type": "stream",
     "text": [
      "100%|███████████████████████████████████████████| 15/15 [00:30<00:00,  2.04s/it]\n"
     ]
    },
    {
     "name": "stdout",
     "output_type": "stream",
     "text": [
      "26/83\n"
     ]
    },
    {
     "name": "stderr",
     "output_type": "stream",
     "text": [
      "100%|█████████████████████████████████████████████| 1/1 [00:02<00:00,  2.09s/it]\n"
     ]
    },
    {
     "name": "stdout",
     "output_type": "stream",
     "text": [
      "27/83\n"
     ]
    },
    {
     "name": "stderr",
     "output_type": "stream",
     "text": [
      "100%|█████████████████████████████████████████████| 1/1 [00:02<00:00,  2.06s/it]\n"
     ]
    },
    {
     "name": "stdout",
     "output_type": "stream",
     "text": [
      "28/83\n",
      "29/83\n",
      "30/83\n",
      "31/83\n"
     ]
    },
    {
     "name": "stderr",
     "output_type": "stream",
     "text": [
      "100%|█████████████████████████████████████████████| 2/2 [00:04<00:00,  2.13s/it]\n"
     ]
    },
    {
     "name": "stdout",
     "output_type": "stream",
     "text": [
      "32/83\n"
     ]
    },
    {
     "name": "stderr",
     "output_type": "stream",
     "text": [
      "100%|█████████████████████████████████████████████| 6/6 [00:12<00:00,  2.12s/it]\n"
     ]
    },
    {
     "name": "stdout",
     "output_type": "stream",
     "text": [
      "33/83\n"
     ]
    },
    {
     "name": "stderr",
     "output_type": "stream",
     "text": [
      "100%|█████████████████████████████████████████████| 3/3 [00:06<00:00,  2.12s/it]\n"
     ]
    },
    {
     "name": "stdout",
     "output_type": "stream",
     "text": [
      "34/83\n"
     ]
    },
    {
     "name": "stderr",
     "output_type": "stream",
     "text": [
      "100%|███████████████████████████████████████████| 26/26 [00:54<00:00,  2.10s/it]\n"
     ]
    },
    {
     "name": "stdout",
     "output_type": "stream",
     "text": [
      "35/83\n",
      "36/83\n",
      "37/83\n"
     ]
    },
    {
     "name": "stderr",
     "output_type": "stream",
     "text": [
      "100%|█████████████████████████████████████████████| 5/5 [00:10<00:00,  2.11s/it]\n"
     ]
    },
    {
     "name": "stdout",
     "output_type": "stream",
     "text": [
      "38/83\n"
     ]
    },
    {
     "name": "stderr",
     "output_type": "stream",
     "text": [
      "100%|███████████████████████████████████████████| 48/48 [01:33<00:00,  1.96s/it]\n"
     ]
    },
    {
     "name": "stdout",
     "output_type": "stream",
     "text": [
      "39/83\n"
     ]
    },
    {
     "name": "stderr",
     "output_type": "stream",
     "text": [
      "100%|█████████████████████████████████████████████| 1/1 [00:01<00:00,  2.00s/it]\n"
     ]
    },
    {
     "name": "stdout",
     "output_type": "stream",
     "text": [
      "40/83\n",
      "41/83\n"
     ]
    },
    {
     "name": "stderr",
     "output_type": "stream",
     "text": [
      "100%|███████████████████████████████████████████| 16/16 [00:29<00:00,  1.85s/it]\n"
     ]
    },
    {
     "name": "stdout",
     "output_type": "stream",
     "text": [
      "42/83\n"
     ]
    },
    {
     "name": "stderr",
     "output_type": "stream",
     "text": [
      "100%|███████████████████████████████████████████| 20/20 [00:40<00:00,  2.00s/it]\n"
     ]
    },
    {
     "name": "stdout",
     "output_type": "stream",
     "text": [
      "43/83\n"
     ]
    },
    {
     "name": "stderr",
     "output_type": "stream",
     "text": [
      "100%|█████████████████████████████████████████████| 9/9 [00:19<00:00,  2.12s/it]\n"
     ]
    },
    {
     "name": "stdout",
     "output_type": "stream",
     "text": [
      "44/83\n"
     ]
    },
    {
     "name": "stderr",
     "output_type": "stream",
     "text": [
      "100%|███████████████████████████████████████████| 11/11 [00:23<00:00,  2.13s/it]\n"
     ]
    },
    {
     "name": "stdout",
     "output_type": "stream",
     "text": [
      "45/83\n"
     ]
    },
    {
     "name": "stderr",
     "output_type": "stream",
     "text": [
      "100%|███████████████████████████████████████████| 26/26 [00:52<00:00,  2.03s/it]\n"
     ]
    },
    {
     "name": "stdout",
     "output_type": "stream",
     "text": [
      "46/83\n",
      "47/83\n",
      "48/83\n"
     ]
    },
    {
     "name": "stderr",
     "output_type": "stream",
     "text": [
      "100%|█████████████████████████████████████████████| 4/4 [00:07<00:00,  1.96s/it]\n"
     ]
    },
    {
     "name": "stdout",
     "output_type": "stream",
     "text": [
      "49/83\n"
     ]
    },
    {
     "name": "stderr",
     "output_type": "stream",
     "text": [
      "100%|███████████████████████████████████████████| 29/29 [00:54<00:00,  1.89s/it]\n"
     ]
    },
    {
     "name": "stdout",
     "output_type": "stream",
     "text": [
      "50/83\n",
      "51/83\n",
      "52/83\n",
      "53/83\n",
      "54/83\n",
      "55/83\n",
      "56/83\n"
     ]
    },
    {
     "name": "stderr",
     "output_type": "stream",
     "text": [
      "100%|█████████████████████████████████████████████| 2/2 [00:04<00:00,  2.01s/it]\n"
     ]
    },
    {
     "name": "stdout",
     "output_type": "stream",
     "text": [
      "57/83\n",
      "58/83\n",
      "59/83\n",
      "60/83\n",
      "61/83\n",
      "62/83\n",
      "63/83\n",
      "64/83\n",
      "65/83\n",
      "66/83\n"
     ]
    },
    {
     "name": "stderr",
     "output_type": "stream",
     "text": [
      "100%|███████████████████████████████████████████| 1/1 [00:00<00:00, 6721.64it/s]\n"
     ]
    },
    {
     "name": "stdout",
     "output_type": "stream",
     "text": [
      "67/83\n",
      "68/83\n"
     ]
    },
    {
     "name": "stderr",
     "output_type": "stream",
     "text": [
      "100%|█████████████████████████████████████████████| 8/8 [00:16<00:00,  2.06s/it]\n"
     ]
    },
    {
     "name": "stdout",
     "output_type": "stream",
     "text": [
      "69/83\n",
      "70/83\n",
      "71/83\n"
     ]
    },
    {
     "name": "stderr",
     "output_type": "stream",
     "text": [
      "100%|█████████████████████████████████████████████| 1/1 [00:02<00:00,  2.08s/it]\n"
     ]
    },
    {
     "name": "stdout",
     "output_type": "stream",
     "text": [
      "72/83\n"
     ]
    },
    {
     "name": "stderr",
     "output_type": "stream",
     "text": [
      "100%|█████████████████████████████████████████████| 1/1 [00:02<00:00,  2.12s/it]\n"
     ]
    },
    {
     "name": "stdout",
     "output_type": "stream",
     "text": [
      "73/83\n",
      "74/83\n",
      "75/83\n",
      "76/83\n"
     ]
    },
    {
     "name": "stderr",
     "output_type": "stream",
     "text": [
      "100%|███████████████████████████████████████████| 21/21 [00:43<00:00,  2.08s/it]\n"
     ]
    },
    {
     "name": "stdout",
     "output_type": "stream",
     "text": [
      "77/83\n",
      "78/83\n",
      "79/83\n",
      "80/83\n",
      "81/83\n",
      "82/83\n"
     ]
    },
    {
     "name": "stderr",
     "output_type": "stream",
     "text": [
      "100%|███████████████████████████████████████████| 25/25 [00:52<00:00,  2.11s/it]\n"
     ]
    }
   ],
   "source": [
    "new_list_human = []\n",
    "for j in range(len(resss)):\n",
    "    print(f\"{j}/{len(resss)}\")\n",
    "    if not np.all(np.isin(resss.loc[j,\"human\"], symbols)):\n",
    "        chg_idx = np.where(np.logical_not(np.isin(resss.loc[j,\"human\"], symbols)))[0]\n",
    "        but_synon = np.isin(resss.loc[j,\"human\"][chg_idx], unique_synonims)\n",
    "\n",
    "        new_names = []\n",
    "        for i in tqdm(range(len(chg_idx))):\n",
    "            if but_synon[i]:\n",
    "                new_names.append(symbols[([resss.loc[j,\"human\"][chg_idx[i]] in s for s in synonyms])].values[0])\n",
    "            else:\n",
    "                new_names.append(resss.loc[j,\"human\"][chg_idx[i]])\n",
    "\n",
    "        new_list_human.append(np.delete(resss.loc[j,\"human\"], chg_idx[np.where(np.logical_not(but_synon))[0]]))\n",
    "    else:\n",
    "        new_list_human.append(resss.loc[j,\"human\"])"
   ]
  },
  {
   "cell_type": "code",
   "execution_count": 264,
   "id": "40780108-38af-46ed-af8f-781f0881da64",
   "metadata": {
    "tags": []
   },
   "outputs": [],
   "source": [
    "resss[\"human_new\"] = new_list_human"
   ]
  },
  {
   "cell_type": "code",
   "execution_count": 285,
   "id": "295c9bab-e33e-4fa2-860c-439bff3b02bf",
   "metadata": {
    "tags": []
   },
   "outputs": [],
   "source": [
    "for i in range(len(resss)):\n",
    "    if not os.path.isdir(os.path.isdir(\"STRING_data/STRING_to_VIRPROT/\"+resss.loc[i,\"name\"])):\n",
    "        os.mkdir(\"STRING_data/STRING_to_VIRPROT/\"+resss.loc[i,\"name\"])\n",
    "    np.savetxt(X=resss.loc[i,\"human_new\"], fname=\"STRING_data/STRING_to_VIRPROT/\"+resss.loc[i,\"name\"]+\"/type1.txt\", fmt=\"%s\")\n",
    "    np.savetxt(X=resss.loc[i,\"virus\"], fname=\"STRING_data/STRING_to_VIRPROT/\"+resss.loc[i,\"name\"]+\"/type0.txt\", fmt=\"%s\")"
   ]
  }
 ],
 "metadata": {
  "kernelspec": {
   "display_name": "base",
   "language": "python",
   "name": "base"
  },
  "language_info": {
   "codemirror_mode": {
    "name": "ipython",
    "version": 3
   },
   "file_extension": ".py",
   "mimetype": "text/x-python",
   "name": "python",
   "nbconvert_exporter": "python",
   "pygments_lexer": "ipython3",
   "version": "3.10.9"
  }
 },
 "nbformat": 4,
 "nbformat_minor": 5
}
