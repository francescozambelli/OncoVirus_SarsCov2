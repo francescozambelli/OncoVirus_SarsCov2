{
 "cells": [
  {
   "cell_type": "code",
   "execution_count": 2,
   "id": "fea59ec0-1804-46a2-8eb6-d7d4b0b25b3c",
   "metadata": {
    "tags": []
   },
   "outputs": [],
   "source": [
    "import sys\n",
    "sys.path.append('..')\n",
    "\n",
    "import numpy as np\n",
    "import pandas as pd\n",
    "import matplotlib.pyplot as plt\n",
    "import scipy as sp\n",
    "import MuxVizPy as mxp\n",
    "import graph_tool as gt\n",
    "from operator import itemgetter\n",
    "from tqdm import tqdm\n",
    "import os\n",
    "\n",
    "import optuna\n",
    "from optuna.samplers import TPESampler, RandomSampler"
   ]
  },
  {
   "cell_type": "code",
   "execution_count": null,
   "id": "ff67f0f2-5a4d-441c-a36d-c5117eb2b7e8",
   "metadata": {
    "tags": []
   },
   "outputs": [],
   "source": [
    "#dataset with all links from Virus STRING\n",
    "full_links = pd.read_csv(\"../Data/data_STRING/9606.protein.links.full.v10.5.txt\", sep=\" \")"
   ]
  },
  {
   "cell_type": "markdown",
   "id": "eed59706-5a32-46f1-b793-394e8df6d2f3",
   "metadata": {},
   "source": [
    "# HUMAN PPI"
   ]
  },
  {
   "cell_type": "code",
   "execution_count": 3,
   "id": "23d28203-5fe6-474e-94a0-f1730108c1a5",
   "metadata": {
    "tags": []
   },
   "outputs": [
    {
     "name": "stdout",
     "output_type": "stream",
     "text": [
      "Human net edges: 11353056\n",
      "Human net nodes: 19576\n"
     ]
    }
   ],
   "source": [
    "full_links = full_links[(full_links[\"protein2\"].map(lambda x: \"9606\"in x))]\n",
    "print(\"Human net edges:\", len(full_links))\n",
    "print(\"Human net nodes:\", np.unique(np.concatenate([full_links[\"protein1\"].unique(), full_links[\"protein2\"].unique()])).shape[0])"
   ]
  },
  {
   "cell_type": "code",
   "execution_count": null,
   "id": "959b41b8-4c06-446e-b4e5-7e70a1dc152d",
   "metadata": {
    "tags": []
   },
   "outputs": [],
   "source": [
    "np.savetxt(X=np.unique(np.concatenate([hum_links[\"protein1\"].unique(), hum_links[\"protein2\"].unique()])),\n",
    "           fname=\"../Data/data_STRING/human_prots.txt\",\n",
    "           fmt=\"%s\")"
   ]
  },
  {
   "cell_type": "code",
   "execution_count": 16,
   "id": "0a57a1aa-7e0c-4d18-b9fe-9095e5ccc27b",
   "metadata": {
    "tags": []
   },
   "outputs": [
    {
     "data": {
      "text/plain": [
       "11353056"
      ]
     },
     "execution_count": 16,
     "metadata": {},
     "output_type": "execute_result"
    }
   ],
   "source": [
    "len(full_links)"
   ]
  },
  {
   "cell_type": "code",
   "execution_count": 17,
   "id": "1d351f28-62ff-4fac-8758-318a725c0765",
   "metadata": {
    "tags": []
   },
   "outputs": [
    {
     "data": {
      "text/plain": [
       "319892"
      ]
     },
     "execution_count": 17,
     "metadata": {},
     "output_type": "execute_result"
    }
   ],
   "source": [
    "np.any([full_links[\"coexpression\"]>400, \n",
    "        full_links[\"coexpression_transferred\"]>400,\n",
    "        full_links[\"cooccurence\"]>400,\n",
    "        full_links[\"experiments\"]>400,\n",
    "        full_links[\"experiments_transferred\"]>400], axis=0).sum()"
   ]
  },
  {
   "cell_type": "code",
   "execution_count": 4,
   "id": "f6652fd2-5f17-4e44-93d7-11ddd59e7cc8",
   "metadata": {
    "tags": []
   },
   "outputs": [
    {
     "name": "stdout",
     "output_type": "stream",
     "text": [
      "Coexpression net edges: 319892\n",
      "Coexpression net nodes: 12984\n"
     ]
    }
   ],
   "source": [
    "coexpr_hum_links = full_links[np.any([full_links[\"coexpression\"]>400, \n",
    "        full_links[\"coexpression_transferred\"]>400,\n",
    "        full_links[\"cooccurence\"]>400,\n",
    "        full_links[\"experiments\"]>400,\n",
    "        full_links[\"experiments_transferred\"]>400], axis=0)]\n",
    "print(\"Coexpression net edges:\", len(coexpr_hum_links))\n",
    "print(\"Coexpression net nodes:\", np.unique(np.concatenate([coexpr_hum_links[\"protein1\"], coexpr_hum_links[\"protein2\"]])).shape[0])"
   ]
  },
  {
   "cell_type": "code",
   "execution_count": 6,
   "id": "720d1063-bc57-4685-96f5-a8d43fd0bf2d",
   "metadata": {
    "tags": []
   },
   "outputs": [
    {
     "data": {
      "text/plain": [
       "0.028176730564880504"
      ]
     },
     "execution_count": 6,
     "metadata": {},
     "output_type": "execute_result"
    }
   ],
   "source": [
    "319892/11353056"
   ]
  },
  {
   "cell_type": "code",
   "execution_count": 28,
   "id": "613c9428-174a-41eb-93aa-3e0fb0f9f737",
   "metadata": {
    "tags": []
   },
   "outputs": [],
   "source": [
    "unnodes = np.unique(np.concatenate([coexpr_hum_links[\"protein1\"], coexpr_hum_links[\"protein2\"]]))\n",
    "coexnodes = pd.DataFrame({\"ID\": np.arange(len(unnodes)), \"Prot\":unnodes})"
   ]
  },
  {
   "cell_type": "code",
   "execution_count": 29,
   "id": "47ae53f6-0705-4595-9713-0bb08fd59989",
   "metadata": {
    "tags": []
   },
   "outputs": [],
   "source": [
    "coexnodes.to_csv(\"../Data/data_STRING/coexpr.nodes\", index=False, sep=\" \")\n"
   ]
  },
  {
   "cell_type": "code",
   "execution_count": 30,
   "id": "22b4a408-772f-454f-9fba-641b3393d0be",
   "metadata": {
    "tags": []
   },
   "outputs": [],
   "source": [
    "coexmap = dict(zip(coexnodes[\"Prot\"], coexnodes[\"ID\"]))"
   ]
  },
  {
   "cell_type": "code",
   "execution_count": 31,
   "id": "0b7ff867-7751-42ff-863a-4200e522592a",
   "metadata": {
    "tags": []
   },
   "outputs": [],
   "source": [
    "coexpr_hum_links[\"p1\"] = coexpr_hum_links[\"protein1\"].map(coexmap)\n",
    "coexpr_hum_links[\"p2\"] = coexpr_hum_links[\"protein2\"].map(coexmap)"
   ]
  },
  {
   "cell_type": "code",
   "execution_count": 32,
   "id": "398f0567-5e18-4268-8c5c-dde07cd2b66c",
   "metadata": {
    "tags": []
   },
   "outputs": [],
   "source": [
    "coexpr_hum_links[[\"p1\",\"p2\"]].to_csv(\"../Data/data_STRING/coexpr.edges\", sep=\" \", index=False)"
   ]
  },
  {
   "cell_type": "code",
   "execution_count": 13,
   "id": "17876024-a368-4943-8b77-e5e7b01366ac",
   "metadata": {
    "tags": []
   },
   "outputs": [],
   "source": [
    "np.savetxt(X=np.unique(np.concatenate([coexpr_hum_links[\"protein1\"], coexpr_hum_links[\"protein2\"]])), fname=\"../Data/data_STRING/coexp.nodes\", fmt=\"%s\")"
   ]
  },
  {
   "cell_type": "code",
   "execution_count": 10,
   "id": "c4421e57-6582-4382-ac13-f0315234fcdd",
   "metadata": {
    "tags": []
   },
   "outputs": [],
   "source": [
    "coexpr_hum_links[[\"protein1\",\"protein2\"]].to_csv(\"../Data/data_STRING/coexpr.edges\", sep=\" \", index=False)"
   ]
  },
  {
   "cell_type": "code",
   "execution_count": 4,
   "id": "5b795188-2554-4e85-9d47-26d6cf3d474d",
   "metadata": {
    "tags": []
   },
   "outputs": [
    {
     "name": "stdout",
     "output_type": "stream",
     "text": [
      "HighConfidence links net edges: 719552\n",
      "HighConfidence links net nodes: 15131\n"
     ]
    }
   ],
   "source": [
    "highConf_hum_links = hum_links[hum_links[\"combined_score\"]>700]\n",
    "print(\"HighConfidence links net edges:\", len(highConf_hum_links))\n",
    "print(\"HighConfidence links net nodes:\", np.unique(np.concatenate([highConf_hum_links[\"protein1\"], highConf_hum_links[\"protein2\"]])).shape[0])"
   ]
  },
  {
   "cell_type": "code",
   "execution_count": 11,
   "id": "a5e9f912-78c0-40ea-8134-334d37b8c4eb",
   "metadata": {
    "tags": []
   },
   "outputs": [
    {
     "data": {
      "text/html": [
       "<div>\n",
       "<style scoped>\n",
       "    .dataframe tbody tr th:only-of-type {\n",
       "        vertical-align: middle;\n",
       "    }\n",
       "\n",
       "    .dataframe tbody tr th {\n",
       "        vertical-align: top;\n",
       "    }\n",
       "\n",
       "    .dataframe thead th {\n",
       "        text-align: right;\n",
       "    }\n",
       "</style>\n",
       "<table border=\"1\" class=\"dataframe\">\n",
       "  <thead>\n",
       "    <tr style=\"text-align: right;\">\n",
       "      <th></th>\n",
       "      <th>protein1</th>\n",
       "      <th>protein2</th>\n",
       "      <th>neighborhood_x</th>\n",
       "      <th>neighborhood_transferred_x</th>\n",
       "      <th>fusion_x</th>\n",
       "      <th>cooccurence_x</th>\n",
       "      <th>homology_x</th>\n",
       "      <th>coexpression_x</th>\n",
       "      <th>coexpression_transferred_x</th>\n",
       "      <th>experiments_x</th>\n",
       "      <th>...</th>\n",
       "      <th>homology_y</th>\n",
       "      <th>coexpression_y</th>\n",
       "      <th>coexpression_transferred_y</th>\n",
       "      <th>experiments_y</th>\n",
       "      <th>experiments_transferred_y</th>\n",
       "      <th>database_y</th>\n",
       "      <th>database_transferred_y</th>\n",
       "      <th>textmining_y</th>\n",
       "      <th>textmining_transferred_y</th>\n",
       "      <th>combined_score_y</th>\n",
       "    </tr>\n",
       "  </thead>\n",
       "  <tbody>\n",
       "    <tr>\n",
       "      <th>0</th>\n",
       "      <td>9606.ENSP00000003100</td>\n",
       "      <td>9606.ENSP00000261507</td>\n",
       "      <td>0</td>\n",
       "      <td>0</td>\n",
       "      <td>0</td>\n",
       "      <td>0</td>\n",
       "      <td>0</td>\n",
       "      <td>331</td>\n",
       "      <td>729</td>\n",
       "      <td>0</td>\n",
       "      <td>...</td>\n",
       "      <td>0</td>\n",
       "      <td>331</td>\n",
       "      <td>729</td>\n",
       "      <td>0</td>\n",
       "      <td>717</td>\n",
       "      <td>0</td>\n",
       "      <td>0</td>\n",
       "      <td>493</td>\n",
       "      <td>503</td>\n",
       "      <td>984</td>\n",
       "    </tr>\n",
       "    <tr>\n",
       "      <th>1</th>\n",
       "      <td>9606.ENSP00000003100</td>\n",
       "      <td>9606.ENSP00000322706</td>\n",
       "      <td>0</td>\n",
       "      <td>0</td>\n",
       "      <td>0</td>\n",
       "      <td>0</td>\n",
       "      <td>0</td>\n",
       "      <td>174</td>\n",
       "      <td>464</td>\n",
       "      <td>0</td>\n",
       "      <td>...</td>\n",
       "      <td>0</td>\n",
       "      <td>174</td>\n",
       "      <td>464</td>\n",
       "      <td>0</td>\n",
       "      <td>99</td>\n",
       "      <td>0</td>\n",
       "      <td>0</td>\n",
       "      <td>439</td>\n",
       "      <td>287</td>\n",
       "      <td>811</td>\n",
       "    </tr>\n",
       "    <tr>\n",
       "      <th>2</th>\n",
       "      <td>9606.ENSP00000003100</td>\n",
       "      <td>9606.ENSP00000320604</td>\n",
       "      <td>0</td>\n",
       "      <td>0</td>\n",
       "      <td>0</td>\n",
       "      <td>0</td>\n",
       "      <td>0</td>\n",
       "      <td>0</td>\n",
       "      <td>417</td>\n",
       "      <td>0</td>\n",
       "      <td>...</td>\n",
       "      <td>0</td>\n",
       "      <td>0</td>\n",
       "      <td>417</td>\n",
       "      <td>0</td>\n",
       "      <td>507</td>\n",
       "      <td>0</td>\n",
       "      <td>0</td>\n",
       "      <td>0</td>\n",
       "      <td>469</td>\n",
       "      <td>834</td>\n",
       "    </tr>\n",
       "    <tr>\n",
       "      <th>3</th>\n",
       "      <td>9606.ENSP00000003100</td>\n",
       "      <td>9606.ENSP00000265896</td>\n",
       "      <td>0</td>\n",
       "      <td>0</td>\n",
       "      <td>0</td>\n",
       "      <td>0</td>\n",
       "      <td>0</td>\n",
       "      <td>172</td>\n",
       "      <td>918</td>\n",
       "      <td>0</td>\n",
       "      <td>...</td>\n",
       "      <td>0</td>\n",
       "      <td>172</td>\n",
       "      <td>918</td>\n",
       "      <td>0</td>\n",
       "      <td>276</td>\n",
       "      <td>0</td>\n",
       "      <td>0</td>\n",
       "      <td>504</td>\n",
       "      <td>504</td>\n",
       "      <td>985</td>\n",
       "    </tr>\n",
       "    <tr>\n",
       "      <th>4</th>\n",
       "      <td>9606.ENSP00000003100</td>\n",
       "      <td>9606.ENSP00000360918</td>\n",
       "      <td>0</td>\n",
       "      <td>0</td>\n",
       "      <td>0</td>\n",
       "      <td>0</td>\n",
       "      <td>0</td>\n",
       "      <td>0</td>\n",
       "      <td>417</td>\n",
       "      <td>0</td>\n",
       "      <td>...</td>\n",
       "      <td>0</td>\n",
       "      <td>0</td>\n",
       "      <td>417</td>\n",
       "      <td>0</td>\n",
       "      <td>507</td>\n",
       "      <td>0</td>\n",
       "      <td>0</td>\n",
       "      <td>112</td>\n",
       "      <td>469</td>\n",
       "      <td>846</td>\n",
       "    </tr>\n",
       "    <tr>\n",
       "      <th>...</th>\n",
       "      <td>...</td>\n",
       "      <td>...</td>\n",
       "      <td>...</td>\n",
       "      <td>...</td>\n",
       "      <td>...</td>\n",
       "      <td>...</td>\n",
       "      <td>...</td>\n",
       "      <td>...</td>\n",
       "      <td>...</td>\n",
       "      <td>...</td>\n",
       "      <td>...</td>\n",
       "      <td>...</td>\n",
       "      <td>...</td>\n",
       "      <td>...</td>\n",
       "      <td>...</td>\n",
       "      <td>...</td>\n",
       "      <td>...</td>\n",
       "      <td>...</td>\n",
       "      <td>...</td>\n",
       "      <td>...</td>\n",
       "      <td>...</td>\n",
       "    </tr>\n",
       "    <tr>\n",
       "      <th>61769</th>\n",
       "      <td>9606.ENSP00000473233</td>\n",
       "      <td>9606.ENSP00000262105</td>\n",
       "      <td>0</td>\n",
       "      <td>0</td>\n",
       "      <td>0</td>\n",
       "      <td>0</td>\n",
       "      <td>0</td>\n",
       "      <td>0</td>\n",
       "      <td>720</td>\n",
       "      <td>0</td>\n",
       "      <td>...</td>\n",
       "      <td>0</td>\n",
       "      <td>0</td>\n",
       "      <td>720</td>\n",
       "      <td>0</td>\n",
       "      <td>0</td>\n",
       "      <td>0</td>\n",
       "      <td>0</td>\n",
       "      <td>0</td>\n",
       "      <td>504</td>\n",
       "      <td>855</td>\n",
       "    </tr>\n",
       "    <tr>\n",
       "      <th>61770</th>\n",
       "      <td>9606.ENSP00000473233</td>\n",
       "      <td>9606.ENSP00000229854</td>\n",
       "      <td>0</td>\n",
       "      <td>0</td>\n",
       "      <td>0</td>\n",
       "      <td>0</td>\n",
       "      <td>0</td>\n",
       "      <td>0</td>\n",
       "      <td>667</td>\n",
       "      <td>0</td>\n",
       "      <td>...</td>\n",
       "      <td>0</td>\n",
       "      <td>0</td>\n",
       "      <td>667</td>\n",
       "      <td>0</td>\n",
       "      <td>0</td>\n",
       "      <td>0</td>\n",
       "      <td>0</td>\n",
       "      <td>0</td>\n",
       "      <td>498</td>\n",
       "      <td>825</td>\n",
       "    </tr>\n",
       "    <tr>\n",
       "      <th>61771</th>\n",
       "      <td>9606.ENSP00000473233</td>\n",
       "      <td>9606.ENSP00000307288</td>\n",
       "      <td>0</td>\n",
       "      <td>0</td>\n",
       "      <td>0</td>\n",
       "      <td>0</td>\n",
       "      <td>0</td>\n",
       "      <td>0</td>\n",
       "      <td>667</td>\n",
       "      <td>0</td>\n",
       "      <td>...</td>\n",
       "      <td>0</td>\n",
       "      <td>0</td>\n",
       "      <td>667</td>\n",
       "      <td>0</td>\n",
       "      <td>53</td>\n",
       "      <td>0</td>\n",
       "      <td>0</td>\n",
       "      <td>0</td>\n",
       "      <td>503</td>\n",
       "      <td>829</td>\n",
       "    </tr>\n",
       "    <tr>\n",
       "      <th>61772</th>\n",
       "      <td>9606.ENSP00000473233</td>\n",
       "      <td>9606.ENSP00000233146</td>\n",
       "      <td>0</td>\n",
       "      <td>0</td>\n",
       "      <td>0</td>\n",
       "      <td>0</td>\n",
       "      <td>0</td>\n",
       "      <td>0</td>\n",
       "      <td>595</td>\n",
       "      <td>0</td>\n",
       "      <td>...</td>\n",
       "      <td>0</td>\n",
       "      <td>0</td>\n",
       "      <td>595</td>\n",
       "      <td>0</td>\n",
       "      <td>295</td>\n",
       "      <td>0</td>\n",
       "      <td>0</td>\n",
       "      <td>0</td>\n",
       "      <td>321</td>\n",
       "      <td>789</td>\n",
       "    </tr>\n",
       "    <tr>\n",
       "      <th>61773</th>\n",
       "      <td>9606.ENSP00000473233</td>\n",
       "      <td>9606.ENSP00000322570</td>\n",
       "      <td>0</td>\n",
       "      <td>0</td>\n",
       "      <td>0</td>\n",
       "      <td>0</td>\n",
       "      <td>0</td>\n",
       "      <td>0</td>\n",
       "      <td>733</td>\n",
       "      <td>0</td>\n",
       "      <td>...</td>\n",
       "      <td>0</td>\n",
       "      <td>0</td>\n",
       "      <td>733</td>\n",
       "      <td>0</td>\n",
       "      <td>672</td>\n",
       "      <td>0</td>\n",
       "      <td>0</td>\n",
       "      <td>0</td>\n",
       "      <td>539</td>\n",
       "      <td>956</td>\n",
       "    </tr>\n",
       "  </tbody>\n",
       "</table>\n",
       "<p>61774 rows × 30 columns</p>\n",
       "</div>"
      ],
      "text/plain": [
       "                   protein1              protein2  neighborhood_x  \\\n",
       "0      9606.ENSP00000003100  9606.ENSP00000261507               0   \n",
       "1      9606.ENSP00000003100  9606.ENSP00000322706               0   \n",
       "2      9606.ENSP00000003100  9606.ENSP00000320604               0   \n",
       "3      9606.ENSP00000003100  9606.ENSP00000265896               0   \n",
       "4      9606.ENSP00000003100  9606.ENSP00000360918               0   \n",
       "...                     ...                   ...             ...   \n",
       "61769  9606.ENSP00000473233  9606.ENSP00000262105               0   \n",
       "61770  9606.ENSP00000473233  9606.ENSP00000229854               0   \n",
       "61771  9606.ENSP00000473233  9606.ENSP00000307288               0   \n",
       "61772  9606.ENSP00000473233  9606.ENSP00000233146               0   \n",
       "61773  9606.ENSP00000473233  9606.ENSP00000322570               0   \n",
       "\n",
       "       neighborhood_transferred_x  fusion_x  cooccurence_x  homology_x  \\\n",
       "0                               0         0              0           0   \n",
       "1                               0         0              0           0   \n",
       "2                               0         0              0           0   \n",
       "3                               0         0              0           0   \n",
       "4                               0         0              0           0   \n",
       "...                           ...       ...            ...         ...   \n",
       "61769                           0         0              0           0   \n",
       "61770                           0         0              0           0   \n",
       "61771                           0         0              0           0   \n",
       "61772                           0         0              0           0   \n",
       "61773                           0         0              0           0   \n",
       "\n",
       "       coexpression_x  coexpression_transferred_x  experiments_x  ...  \\\n",
       "0                 331                         729              0  ...   \n",
       "1                 174                         464              0  ...   \n",
       "2                   0                         417              0  ...   \n",
       "3                 172                         918              0  ...   \n",
       "4                   0                         417              0  ...   \n",
       "...               ...                         ...            ...  ...   \n",
       "61769               0                         720              0  ...   \n",
       "61770               0                         667              0  ...   \n",
       "61771               0                         667              0  ...   \n",
       "61772               0                         595              0  ...   \n",
       "61773               0                         733              0  ...   \n",
       "\n",
       "       homology_y  coexpression_y  coexpression_transferred_y  experiments_y  \\\n",
       "0               0             331                         729              0   \n",
       "1               0             174                         464              0   \n",
       "2               0               0                         417              0   \n",
       "3               0             172                         918              0   \n",
       "4               0               0                         417              0   \n",
       "...           ...             ...                         ...            ...   \n",
       "61769           0               0                         720              0   \n",
       "61770           0               0                         667              0   \n",
       "61771           0               0                         667              0   \n",
       "61772           0               0                         595              0   \n",
       "61773           0               0                         733              0   \n",
       "\n",
       "       experiments_transferred_y  database_y  database_transferred_y  \\\n",
       "0                            717           0                       0   \n",
       "1                             99           0                       0   \n",
       "2                            507           0                       0   \n",
       "3                            276           0                       0   \n",
       "4                            507           0                       0   \n",
       "...                          ...         ...                     ...   \n",
       "61769                          0           0                       0   \n",
       "61770                          0           0                       0   \n",
       "61771                         53           0                       0   \n",
       "61772                        295           0                       0   \n",
       "61773                        672           0                       0   \n",
       "\n",
       "       textmining_y  textmining_transferred_y  combined_score_y  \n",
       "0               493                       503               984  \n",
       "1               439                       287               811  \n",
       "2                 0                       469               834  \n",
       "3               504                       504               985  \n",
       "4               112                       469               846  \n",
       "...             ...                       ...               ...  \n",
       "61769             0                       504               855  \n",
       "61770             0                       498               825  \n",
       "61771             0                       503               829  \n",
       "61772             0                       321               789  \n",
       "61773             0                       539               956  \n",
       "\n",
       "[61774 rows x 30 columns]"
      ]
     },
     "execution_count": 11,
     "metadata": {},
     "output_type": "execute_result"
    }
   ],
   "source": [
    "pd.merge(coexpr_hum_links, highConf_hum_links, how='inner', on=['protein1', 'protein2'])"
   ]
  },
  {
   "cell_type": "code",
   "execution_count": 7,
   "id": "fa51d0a4-b142-4223-aac2-7bf1d2336752",
   "metadata": {
    "tags": []
   },
   "outputs": [],
   "source": [
    "def create_human_g(filt_df, mapper_pos):\n",
    "    un_p = np.unique(np.concatenate([filt_df[\"protein1\"].to_numpy(), \n",
    "                                     filt_df[\"protein2\"].to_numpy()]))\n",
    "    pd.DataFrame({\"ProgNumber\": np.arange(len(un_p)), \"Prot\": un_p}).to_csv(\"../Data/data_STRING/\"+mapper_pos, index=False)\n",
    "    number_mapper = pd.read_csv(\"../Data/data_STRING/\"+mapper_pos)\n",
    "    number_dict = dict(zip(number_mapper[\"Prot\"], number_mapper[\"ProgNumber\"]))\n",
    "    edge_df = pd.DataFrame({\"source\": filt_df[\"protein1\"].map(number_dict).values, \n",
    "                            \"target\": filt_df[\"protein2\"].map(number_dict).values})\n",
    "    human_g = gt.Graph(directed=False)\n",
    "    human_g.add_edge_list(edge_df.values)\n",
    "    \n",
    "    return human_g"
   ]
  },
  {
   "cell_type": "code",
   "execution_count": 118,
   "id": "6e550c80-4aa2-41e3-b8fe-1dbb1e58385c",
   "metadata": {
    "tags": []
   },
   "outputs": [],
   "source": [
    "def node_mapper(df):\n",
    "    #mapping between node ID and name\n",
    "    mapper = pd.read_csv(\"../Data/data_STRING/9606.protein.info.v11.5.txt\", sep=\"\\t\")\n",
    "    mapper_dict = dict(zip(mapper[\"#string_protein_id\"], mapper[\"preferred_name\"]))\n",
    "\n",
    "    #load ncbi database\n",
    "    ncbi = pd.read_csv(\"../Data/data_BIOGRID/Homo_sapiens.gene_info\", sep=\"\\t\")\n",
    "    symbols = ncbi[\"Symbol\"]\n",
    "    synonyms = [ncbi[\"Synonyms\"][i].split(\"|\") for i in range(len(ncbi))]\n",
    "    unique_synonims = np.unique(np.concatenate(synonyms))\n",
    "\n",
    "    df[\"p1name\"] = df[\"protein1\"].map(mapper_dict)\n",
    "    df[\"p2name\"] = df[\"protein2\"].map(mapper_dict)\n",
    "\n",
    "    df_conv1 = df[[\"p1name\", \"p2name\"]].dropna().reset_index(drop=True)\n",
    "    df_conv1_nodes = np.unique(df_conv1.to_numpy()) #pd.concat([df_conv1[\"p1name\"], df_conv1[\"p2name\"]]).unique()\n",
    "\n",
    "    chg_idx = np.where(np.logical_not(np.isin(df_conv1_nodes, symbols)))[0]\n",
    "    but_synon = np.isin(df_conv1_nodes[chg_idx], unique_synonims)\n",
    "\n",
    "    new_names = []\n",
    "    for i in tqdm(range(len(chg_idx))):\n",
    "        if but_synon[i]:\n",
    "            new_names.append(symbols[([df_conv1_nodes[chg_idx[i]] in s for s in synonyms])].values[0])\n",
    "        else:\n",
    "            new_names.append(df_conv1_nodes[chg_idx[i]])\n",
    "\n",
    "    df_conv2_nodes = np.copy(df_conv1_nodes)\n",
    "    df_conv2_nodes[chg_idx] = new_names\n",
    "    df_conv2_nodes[chg_idx[np.logical_not(but_synon)]] = np.nan\n",
    "\n",
    "    mapper2_dict= dict(zip(df_conv1_nodes, df_conv2_nodes))\n",
    "\n",
    "    df_conv2 = df_conv1.copy()\n",
    "    df_conv2[\"p1name\"] = df_conv2[\"p1name\"].map(mapper2_dict)\n",
    "    df_conv2[\"p2name\"] = df_conv2[\"p2name\"].map(mapper2_dict)\n",
    "    df_conv2 = df_conv2.dropna().reset_index(drop=True)\n",
    "\n",
    "    df_conv2_nodes = np.unique(df_conv1.to_numpy())\n",
    "    \n",
    "    return {\"mapping_1\": [df_conv1, df_conv1_nodes, mapper_dict], \"mapping_2\": [df_conv2, df_conv2_nodes, mapper2_dict]}"
   ]
  },
  {
   "cell_type": "code",
   "execution_count": 119,
   "id": "866def9a-dc54-4d3f-82d2-397c40808254",
   "metadata": {
    "tags": []
   },
   "outputs": [
    {
     "name": "stderr",
     "output_type": "stream",
     "text": [
      "100%|█████████████████████████████████████████| 240/240 [00:10<00:00, 22.58it/s]\n"
     ]
    }
   ],
   "source": [
    "maps = node_mapper(coexpr_hum_links)"
   ]
  },
  {
   "cell_type": "code",
   "execution_count": 122,
   "id": "0e332ce9-bad8-47ef-86b2-93e9a745ff61",
   "metadata": {
    "tags": []
   },
   "outputs": [
    {
     "data": {
      "text/html": [
       "<div>\n",
       "<style scoped>\n",
       "    .dataframe tbody tr th:only-of-type {\n",
       "        vertical-align: middle;\n",
       "    }\n",
       "\n",
       "    .dataframe tbody tr th {\n",
       "        vertical-align: top;\n",
       "    }\n",
       "\n",
       "    .dataframe thead th {\n",
       "        text-align: right;\n",
       "    }\n",
       "</style>\n",
       "<table border=\"1\" class=\"dataframe\">\n",
       "  <thead>\n",
       "    <tr style=\"text-align: right;\">\n",
       "      <th></th>\n",
       "      <th>p1name</th>\n",
       "      <th>p2name</th>\n",
       "    </tr>\n",
       "  </thead>\n",
       "  <tbody>\n",
       "    <tr>\n",
       "      <th>0</th>\n",
       "      <td>FKBP4</td>\n",
       "      <td>RRP1</td>\n",
       "    </tr>\n",
       "    <tr>\n",
       "      <th>1</th>\n",
       "      <td>FKBP4</td>\n",
       "      <td>PES1</td>\n",
       "    </tr>\n",
       "    <tr>\n",
       "      <th>2</th>\n",
       "      <td>FKBP4</td>\n",
       "      <td>GMPS</td>\n",
       "    </tr>\n",
       "    <tr>\n",
       "      <th>3</th>\n",
       "      <td>FKBP4</td>\n",
       "      <td>RRS1</td>\n",
       "    </tr>\n",
       "    <tr>\n",
       "      <th>4</th>\n",
       "      <td>FKBP4</td>\n",
       "      <td>RRP1B</td>\n",
       "    </tr>\n",
       "    <tr>\n",
       "      <th>...</th>\n",
       "      <td>...</td>\n",
       "      <td>...</td>\n",
       "    </tr>\n",
       "    <tr>\n",
       "      <th>73565</th>\n",
       "      <td>ENSG00000142539</td>\n",
       "      <td>TTK</td>\n",
       "    </tr>\n",
       "    <tr>\n",
       "      <th>73566</th>\n",
       "      <td>ENSG00000142539</td>\n",
       "      <td>MCM7</td>\n",
       "    </tr>\n",
       "    <tr>\n",
       "      <th>73567</th>\n",
       "      <td>ENSG00000142539</td>\n",
       "      <td>MSH2</td>\n",
       "    </tr>\n",
       "    <tr>\n",
       "      <th>73568</th>\n",
       "      <td>ENSG00000142539</td>\n",
       "      <td>TUBGCP6</td>\n",
       "    </tr>\n",
       "    <tr>\n",
       "      <th>73569</th>\n",
       "      <td>ENSG00000142539</td>\n",
       "      <td>POLE</td>\n",
       "    </tr>\n",
       "  </tbody>\n",
       "</table>\n",
       "<p>73570 rows × 2 columns</p>\n",
       "</div>"
      ],
      "text/plain": [
       "                p1name   p2name\n",
       "0                FKBP4     RRP1\n",
       "1                FKBP4     PES1\n",
       "2                FKBP4     GMPS\n",
       "3                FKBP4     RRS1\n",
       "4                FKBP4    RRP1B\n",
       "...                ...      ...\n",
       "73565  ENSG00000142539      TTK\n",
       "73566  ENSG00000142539     MCM7\n",
       "73567  ENSG00000142539     MSH2\n",
       "73568  ENSG00000142539  TUBGCP6\n",
       "73569  ENSG00000142539     POLE\n",
       "\n",
       "[73570 rows x 2 columns]"
      ]
     },
     "execution_count": 122,
     "metadata": {},
     "output_type": "execute_result"
    }
   ],
   "source": [
    "maps[\"mapping_1\"][0]"
   ]
  },
  {
   "cell_type": "code",
   "execution_count": 5,
   "id": "9ed42be5-d75b-4f35-979e-62ac897104eb",
   "metadata": {
    "tags": []
   },
   "outputs": [],
   "source": [
    "unip_su = pd.read_csv(\"../Data/data_STRING/uniprot_string_to_uniprot.tsv\", sep=\"\\t\")"
   ]
  },
  {
   "cell_type": "code",
   "execution_count": 7,
   "id": "48ab2af3-d4d3-4068-805a-53e4c74c831b",
   "metadata": {
    "tags": []
   },
   "outputs": [],
   "source": [
    "unip_su_dict = dict(zip(unip_su[\"From\"], unip_su[\"Entry\"]))"
   ]
  },
  {
   "cell_type": "code",
   "execution_count": 10,
   "id": "77c81763-459f-402b-8548-304e50feb09f",
   "metadata": {
    "tags": []
   },
   "outputs": [],
   "source": [
    "full_links[\"p1\"] = full_links[\"protein1\"].map(unip_su_dict)\n",
    "full_links[\"p2\"] = full_links[\"protein2\"].map(unip_su_dict)"
   ]
  },
  {
   "cell_type": "code",
   "execution_count": 14,
   "id": "d2ef9532-1bc9-44e4-bc79-9dbfe562d21e",
   "metadata": {
    "tags": []
   },
   "outputs": [
    {
     "data": {
      "text/plain": [
       "(15245,)"
      ]
     },
     "execution_count": 14,
     "metadata": {},
     "output_type": "execute_result"
    }
   ],
   "source": [
    "np.unique(full_links.dropna()[[\"p1\",\"p2\"]].to_numpy()).shape"
   ]
  },
  {
   "cell_type": "code",
   "execution_count": 16,
   "id": "5edd2a01-8a19-4ba6-8ee6-50b02ffbbc0f",
   "metadata": {
    "tags": []
   },
   "outputs": [
    {
     "data": {
      "text/plain": [
       "0.6218190062658019"
      ]
     },
     "execution_count": 16,
     "metadata": {},
     "output_type": "execute_result"
    }
   ],
   "source": [
    "7059546/11353056"
   ]
  },
  {
   "cell_type": "code",
   "execution_count": 60,
   "id": "9f24d05e-fd35-4a75-b15d-457701e75cd6",
   "metadata": {
    "tags": []
   },
   "outputs": [
    {
     "data": {
      "text/plain": [
       "<Graph object, undirected, with 4499 vertices and 112776 edges, at 0x7ff442b4e050>"
      ]
     },
     "execution_count": 60,
     "metadata": {},
     "output_type": "execute_result"
    }
   ],
   "source": [
    "human_g_coex = create_human_g(filt_df=coexpr_hum_links, mapper_pos=\"unique_prot_coex.csv\")\n",
    "human_g_coex"
   ]
  },
  {
   "cell_type": "code",
   "execution_count": 8,
   "id": "a392385d-14b8-433c-bebc-a19d07bfbd4a",
   "metadata": {
    "tags": []
   },
   "outputs": [
    {
     "data": {
      "text/plain": [
       "<Graph object, undirected, with 15131 vertices and 719552 edges, at 0x7fb2cf95bee0>"
      ]
     },
     "execution_count": 8,
     "metadata": {},
     "output_type": "execute_result"
    }
   ],
   "source": [
    "human_highConf = create_human_g(filt_df=highConf_hum_links, mapper_pos=\"unique_prot_highConf.csv\")\n",
    "human_highConf"
   ]
  },
  {
   "cell_type": "code",
   "execution_count": null,
   "id": "d8c430ed-643f-4ed5-991a-4c28b1653b83",
   "metadata": {},
   "outputs": [],
   "source": [
    "#mapping between node ID and name\n",
    "mapper = pd.read_csv(\"../Data/data_STRING/9606.protein.info.v11.5.txt\", sep=\"\\t\")\n",
    "mapper_dict = dict(zip(mapper[\"#string_protein_id\"], mapper[\"preferred_name\"]))\n",
    "\n",
    "co_res = coexpr_hum_links[(coexpr_hum_links[\"protein1\"].isin(mapper[\"#string_protein_id\"])) & coexpr_hum_links[\"protein2\"].isin(mapper[\"#string_protein_id\"])]\n",
    "co_res[\"protein1_name\"]=itemgetter(*co_res[\"protein1\"].to_list())(mapper_dict)\n",
    "co_res[\"protein2_name\"]=itemgetter(*co_res[\"protein2\"].to_list())(mapper_dict)"
   ]
  },
  {
   "cell_type": "markdown",
   "id": "5631f2e5-213c-4847-b436-08cb86f8c819",
   "metadata": {},
   "source": [
    "# From STRING.viruses dataset exctract human proteins directly targeted by viruses and uniform names to NCBI"
   ]
  },
  {
   "cell_type": "code",
   "execution_count": 3,
   "id": "b07e1f18-9fff-4d65-986f-fd5b29aad895",
   "metadata": {
    "tags": []
   },
   "outputs": [],
   "source": [
    "#only interactions between virus and human\n",
    "links = pd.read_csv(\"../Data/data_STRING/9606.protein.links.full.v10.5.txt\", sep=\" \")\n"
   ]
  },
  {
   "cell_type": "code",
   "execution_count": 4,
   "id": "f562add2-fd45-4ecb-a663-6e11b66be1fa",
   "metadata": {
    "tags": []
   },
   "outputs": [],
   "source": [
    "links = links[(links[\"protein2\"].map(lambda x: not(\"9606\"in x)))]\n",
    "links = links.reset_index(drop=True)\n",
    "viruses_code = np.unique(links[\"protein2\"].map(lambda x: x.split(\".\")[0]).to_numpy())"
   ]
  },
  {
   "cell_type": "code",
   "execution_count": null,
   "id": "c05dec40-719f-4ba1-8ced-9ed734c24a35",
   "metadata": {
    "tags": []
   },
   "outputs": [],
   "source": [
    "links"
   ]
  },
  {
   "cell_type": "code",
   "execution_count": 19,
   "id": "b311ccd6-8453-4347-a8d7-026b55e74cac",
   "metadata": {
    "tags": []
   },
   "outputs": [],
   "source": [
    "np.savetxt(X=links[\"protein1\"].unique(), fname=\"string_prot.txt\", fmt=\"%s\")"
   ]
  },
  {
   "cell_type": "code",
   "execution_count": 6,
   "id": "c951606e-516b-4b59-a36c-734b2552c35b",
   "metadata": {
    "tags": []
   },
   "outputs": [],
   "source": [
    "viruses_code = np.unique(links[\"protein2\"].map(lambda x: x.split(\".\")[0]).to_numpy())"
   ]
  },
  {
   "cell_type": "code",
   "execution_count": 7,
   "id": "dc0deebc-538f-4575-a169-50b233e4f23a",
   "metadata": {
    "tags": []
   },
   "outputs": [
    {
     "data": {
      "text/plain": [
       "array(['10245', '10255', '10258', '10273', '10276', '10279', '10298',\n",
       "       '10310', '10335', '10359', '10366', '10376', '10381', '10390',\n",
       "       '10407', '10497', '10506', '10561', '10567', '10623', '10633',\n",
       "       '10658', '10677', '10678', '10710', '10754', '10760', '10840',\n",
       "       '10855', '10991', '11033', '11034', '11041', '11047', '11053',\n",
       "       '11060', '11069', '11070', '11072', '11082', '11089', '11099',\n",
       "       '11103', '11137', '11161', '11176', '11191', '11234', '11250',\n",
       "       '11269', '11277', '11292', '11320', '11520', '11552', '11569',\n",
       "       '11588', '11591', '11593', '11599', '11613', '11620', '11623',\n",
       "       '11631', '11676', '11709', '11723', '11786', '11886', '11976',\n",
       "       '11983', '12092', '12104', '12110', '12216', '12305', '1239565',\n",
       "       '12455', '12461', '12475', '12618', '12657', '129951', '1330524',\n",
       "       '138950', '147711', '1511891', '1511900', '1511908', '162145',\n",
       "       '186538', '190061', '194440', '194441', '194443', '195054',\n",
       "       '220340', '28875', '307456', '32603', '32604', '333926', '334203',\n",
       "       '334205', '337041', '337042', '337051', '348604', '351073',\n",
       "       '35304', '35305', '36427', '36772', '37124', '37128', '37296',\n",
       "       '38804', '39720', '40051', '47740', '63330', '687340', '687369',\n",
       "       '687379', '694005', '694009', '694014', '74501', '95342', '99182'],\n",
       "      dtype=object)"
      ]
     },
     "execution_count": 7,
     "metadata": {},
     "output_type": "execute_result"
    }
   ],
   "source": [
    "viruses_code"
   ]
  },
  {
   "cell_type": "code",
   "execution_count": 8,
   "id": "b949cc90-c7b5-4ec5-834c-2235a5c7c66d",
   "metadata": {
    "tags": []
   },
   "outputs": [],
   "source": [
    "#correspondance between name of virus and taxonomic code\n",
    "codevir = pd.read_csv(\"../Data/data_STRING/viruses_codes.txt\", sep=\"\\t\")\n",
    "\n",
    "virus_name = []\n",
    "virus_name_len = []\n",
    "for s in viruses_code:\n",
    "    if len(codevir[codevir[\"## taxon_id\"]==int(s)][\"official_name_NCBI\"].to_list())==0:\n",
    "        virus_name.append(\"\")\n",
    "        virus_name_len.append(0)\n",
    "    else:\n",
    "        virus_name.append(codevir[codevir[\"## taxon_id\"]==int(s)][\"official_name_NCBI\"].to_list()[0])\n",
    "        virus_name_len.append(1)\n",
    "\n",
    "virus_names_df = pd.DataFrame({\"name\": virus_name, \"ID\": viruses_code})\n",
    "virus_names_dict = dict(zip(viruses_code, virus_name))\n",
    "ID_nonzeronames = np.array(virus_names_df[virus_names_df[\"name\"]!=\"\"].ID)"
   ]
  },
  {
   "cell_type": "code",
   "execution_count": 9,
   "id": "9909b179-91ae-4cde-9e50-33e4fe181a60",
   "metadata": {
    "tags": []
   },
   "outputs": [
    {
     "data": {
      "text/html": [
       "<div>\n",
       "<style scoped>\n",
       "    .dataframe tbody tr th:only-of-type {\n",
       "        vertical-align: middle;\n",
       "    }\n",
       "\n",
       "    .dataframe tbody tr th {\n",
       "        vertical-align: top;\n",
       "    }\n",
       "\n",
       "    .dataframe thead th {\n",
       "        text-align: right;\n",
       "    }\n",
       "</style>\n",
       "<table border=\"1\" class=\"dataframe\">\n",
       "  <thead>\n",
       "    <tr style=\"text-align: right;\">\n",
       "      <th></th>\n",
       "      <th>name</th>\n",
       "      <th>ID</th>\n",
       "    </tr>\n",
       "  </thead>\n",
       "  <tbody>\n",
       "    <tr>\n",
       "      <th>0</th>\n",
       "      <td>Vaccinia virus (strain Western Reserve)</td>\n",
       "      <td>10245</td>\n",
       "    </tr>\n",
       "    <tr>\n",
       "      <th>1</th>\n",
       "      <td>Variola virus (isolate Human/India/Ind3/1967)</td>\n",
       "      <td>10255</td>\n",
       "    </tr>\n",
       "    <tr>\n",
       "      <th>2</th>\n",
       "      <td>Orf virus (strain Goat/Texas/SA00/2000)</td>\n",
       "      <td>10258</td>\n",
       "    </tr>\n",
       "    <tr>\n",
       "      <th>3</th>\n",
       "      <td>Myxoma virus (strain Lausanne)</td>\n",
       "      <td>10273</td>\n",
       "    </tr>\n",
       "    <tr>\n",
       "      <th>4</th>\n",
       "      <td>Swinepox virus (strain Swine/Nebraska/17077-99...</td>\n",
       "      <td>10276</td>\n",
       "    </tr>\n",
       "    <tr>\n",
       "      <th>...</th>\n",
       "      <td>...</td>\n",
       "      <td>...</td>\n",
       "    </tr>\n",
       "    <tr>\n",
       "      <th>125</th>\n",
       "      <td>Human SARS coronavirus</td>\n",
       "      <td>694009</td>\n",
       "    </tr>\n",
       "    <tr>\n",
       "      <th>126</th>\n",
       "      <td>Avian infectious bronchitis virus (strain Beau...</td>\n",
       "      <td>694014</td>\n",
       "    </tr>\n",
       "    <tr>\n",
       "      <th>127</th>\n",
       "      <td></td>\n",
       "      <td>74501</td>\n",
       "    </tr>\n",
       "    <tr>\n",
       "      <th>128</th>\n",
       "      <td></td>\n",
       "      <td>95342</td>\n",
       "    </tr>\n",
       "    <tr>\n",
       "      <th>129</th>\n",
       "      <td></td>\n",
       "      <td>99182</td>\n",
       "    </tr>\n",
       "  </tbody>\n",
       "</table>\n",
       "<p>130 rows × 2 columns</p>\n",
       "</div>"
      ],
      "text/plain": [
       "                                                  name      ID\n",
       "0              Vaccinia virus (strain Western Reserve)   10245\n",
       "1        Variola virus (isolate Human/India/Ind3/1967)   10255\n",
       "2              Orf virus (strain Goat/Texas/SA00/2000)   10258\n",
       "3                       Myxoma virus (strain Lausanne)   10273\n",
       "4    Swinepox virus (strain Swine/Nebraska/17077-99...   10276\n",
       "..                                                 ...     ...\n",
       "125                             Human SARS coronavirus  694009\n",
       "126  Avian infectious bronchitis virus (strain Beau...  694014\n",
       "127                                                      74501\n",
       "128                                                      95342\n",
       "129                                                      99182\n",
       "\n",
       "[130 rows x 2 columns]"
      ]
     },
     "execution_count": 9,
     "metadata": {},
     "output_type": "execute_result"
    }
   ],
   "source": [
    "virus_names_df"
   ]
  },
  {
   "cell_type": "code",
   "execution_count": 10,
   "id": "5c427c5c-5385-44a3-8383-92e7f28905d1",
   "metadata": {
    "tags": []
   },
   "outputs": [],
   "source": [
    "#filter only links with protein2 corresponding to known virus\n",
    "links_pul = links[(links[\"protein2\"].map(lambda x: np.any(x.split(\".\")[0] in ID_nonzeronames)))].reset_index(drop=True)\n",
    "\n",
    "#links_pul[\"protein1\"]=links_pul[\"protein1\"].map(lambda x: x.split(\".\")[1])\n",
    "links_pul[\"virus\"]=links_pul[\"protein2\"].map(lambda x: x.split(\".\")[0])\n",
    "#links_pul[\"protein2\"]=links_pul[\"protein2\"].map(lambda x: x.split(\".\")[1])\n",
    "links_pul[\"virus_name\"]=itemgetter(*links_pul[\"virus\"].to_list())(virus_names_dict)"
   ]
  },
  {
   "cell_type": "code",
   "execution_count": 11,
   "id": "cbc52116-3765-4e28-b76c-bcd7cf97f679",
   "metadata": {
    "tags": []
   },
   "outputs": [
    {
     "data": {
      "text/html": [
       "<div>\n",
       "<style scoped>\n",
       "    .dataframe tbody tr th:only-of-type {\n",
       "        vertical-align: middle;\n",
       "    }\n",
       "\n",
       "    .dataframe tbody tr th {\n",
       "        vertical-align: top;\n",
       "    }\n",
       "\n",
       "    .dataframe thead th {\n",
       "        text-align: right;\n",
       "    }\n",
       "</style>\n",
       "<table border=\"1\" class=\"dataframe\">\n",
       "  <thead>\n",
       "    <tr style=\"text-align: right;\">\n",
       "      <th></th>\n",
       "      <th>protein1</th>\n",
       "      <th>protein2</th>\n",
       "      <th>neighborhood</th>\n",
       "      <th>neighborhood_transferred</th>\n",
       "      <th>fusion</th>\n",
       "      <th>cooccurence</th>\n",
       "      <th>homology</th>\n",
       "      <th>coexpression</th>\n",
       "      <th>coexpression_transferred</th>\n",
       "      <th>experiments</th>\n",
       "      <th>experiments_transferred</th>\n",
       "      <th>database</th>\n",
       "      <th>database_transferred</th>\n",
       "      <th>textmining</th>\n",
       "      <th>textmining_transferred</th>\n",
       "      <th>combined_score</th>\n",
       "      <th>virus</th>\n",
       "      <th>virus_name</th>\n",
       "    </tr>\n",
       "  </thead>\n",
       "  <tbody>\n",
       "    <tr>\n",
       "      <th>0</th>\n",
       "      <td>9606.ENSP00000000233</td>\n",
       "      <td>10258.Q6TVW1_ORFSA</td>\n",
       "      <td>0</td>\n",
       "      <td>0</td>\n",
       "      <td>0</td>\n",
       "      <td>0</td>\n",
       "      <td>0</td>\n",
       "      <td>0</td>\n",
       "      <td>0</td>\n",
       "      <td>0</td>\n",
       "      <td>0</td>\n",
       "      <td>0</td>\n",
       "      <td>0</td>\n",
       "      <td>0</td>\n",
       "      <td>188</td>\n",
       "      <td>188</td>\n",
       "      <td>10258</td>\n",
       "      <td>Orf virus (strain Goat/Texas/SA00/2000)</td>\n",
       "    </tr>\n",
       "    <tr>\n",
       "      <th>1</th>\n",
       "      <td>9606.ENSP00000000233</td>\n",
       "      <td>10279.Q98187_MCV1</td>\n",
       "      <td>0</td>\n",
       "      <td>0</td>\n",
       "      <td>0</td>\n",
       "      <td>0</td>\n",
       "      <td>0</td>\n",
       "      <td>0</td>\n",
       "      <td>0</td>\n",
       "      <td>0</td>\n",
       "      <td>0</td>\n",
       "      <td>0</td>\n",
       "      <td>0</td>\n",
       "      <td>0</td>\n",
       "      <td>188</td>\n",
       "      <td>188</td>\n",
       "      <td>10279</td>\n",
       "      <td>Molluscum contagiosum virus subtype 1</td>\n",
       "    </tr>\n",
       "    <tr>\n",
       "      <th>2</th>\n",
       "      <td>9606.ENSP00000000233</td>\n",
       "      <td>10298.GM_HHV11</td>\n",
       "      <td>0</td>\n",
       "      <td>0</td>\n",
       "      <td>0</td>\n",
       "      <td>0</td>\n",
       "      <td>0</td>\n",
       "      <td>0</td>\n",
       "      <td>0</td>\n",
       "      <td>0</td>\n",
       "      <td>0</td>\n",
       "      <td>0</td>\n",
       "      <td>0</td>\n",
       "      <td>17</td>\n",
       "      <td>336</td>\n",
       "      <td>336</td>\n",
       "      <td>10298</td>\n",
       "      <td>Human herpesvirus 1 (strain 17)</td>\n",
       "    </tr>\n",
       "    <tr>\n",
       "      <th>3</th>\n",
       "      <td>9606.ENSP00000000233</td>\n",
       "      <td>37296.ORF4_HHV8P</td>\n",
       "      <td>0</td>\n",
       "      <td>0</td>\n",
       "      <td>0</td>\n",
       "      <td>0</td>\n",
       "      <td>0</td>\n",
       "      <td>0</td>\n",
       "      <td>0</td>\n",
       "      <td>0</td>\n",
       "      <td>0</td>\n",
       "      <td>0</td>\n",
       "      <td>0</td>\n",
       "      <td>91</td>\n",
       "      <td>109</td>\n",
       "      <td>155</td>\n",
       "      <td>37296</td>\n",
       "      <td>Human herpesvirus 8 type P (isolate GK18)</td>\n",
       "    </tr>\n",
       "    <tr>\n",
       "      <th>4</th>\n",
       "      <td>9606.ENSP00000000233</td>\n",
       "      <td>195054.PRO_0000039759</td>\n",
       "      <td>0</td>\n",
       "      <td>0</td>\n",
       "      <td>0</td>\n",
       "      <td>0</td>\n",
       "      <td>0</td>\n",
       "      <td>0</td>\n",
       "      <td>0</td>\n",
       "      <td>0</td>\n",
       "      <td>0</td>\n",
       "      <td>0</td>\n",
       "      <td>0</td>\n",
       "      <td>0</td>\n",
       "      <td>329</td>\n",
       "      <td>329</td>\n",
       "      <td>195054</td>\n",
       "      <td>Human parechovirus 2 (strain Williamson)</td>\n",
       "    </tr>\n",
       "    <tr>\n",
       "      <th>...</th>\n",
       "      <td>...</td>\n",
       "      <td>...</td>\n",
       "      <td>...</td>\n",
       "      <td>...</td>\n",
       "      <td>...</td>\n",
       "      <td>...</td>\n",
       "      <td>...</td>\n",
       "      <td>...</td>\n",
       "      <td>...</td>\n",
       "      <td>...</td>\n",
       "      <td>...</td>\n",
       "      <td>...</td>\n",
       "      <td>...</td>\n",
       "      <td>...</td>\n",
       "      <td>...</td>\n",
       "      <td>...</td>\n",
       "      <td>...</td>\n",
       "      <td>...</td>\n",
       "    </tr>\n",
       "    <tr>\n",
       "      <th>80770</th>\n",
       "      <td>9606.ENSP00000473243</td>\n",
       "      <td>10310.GB_HHV2H</td>\n",
       "      <td>0</td>\n",
       "      <td>0</td>\n",
       "      <td>0</td>\n",
       "      <td>0</td>\n",
       "      <td>0</td>\n",
       "      <td>0</td>\n",
       "      <td>0</td>\n",
       "      <td>0</td>\n",
       "      <td>0</td>\n",
       "      <td>0</td>\n",
       "      <td>0</td>\n",
       "      <td>0</td>\n",
       "      <td>227</td>\n",
       "      <td>227</td>\n",
       "      <td>10310</td>\n",
       "      <td>Human herpesvirus 2 (strain HG52)</td>\n",
       "    </tr>\n",
       "    <tr>\n",
       "      <th>80771</th>\n",
       "      <td>9606.ENSP00000473243</td>\n",
       "      <td>10298.GB_HHV11</td>\n",
       "      <td>0</td>\n",
       "      <td>0</td>\n",
       "      <td>0</td>\n",
       "      <td>0</td>\n",
       "      <td>0</td>\n",
       "      <td>0</td>\n",
       "      <td>0</td>\n",
       "      <td>0</td>\n",
       "      <td>0</td>\n",
       "      <td>0</td>\n",
       "      <td>0</td>\n",
       "      <td>0</td>\n",
       "      <td>227</td>\n",
       "      <td>227</td>\n",
       "      <td>10298</td>\n",
       "      <td>Human herpesvirus 1 (strain 17)</td>\n",
       "    </tr>\n",
       "    <tr>\n",
       "      <th>80772</th>\n",
       "      <td>9606.ENSP00000473243</td>\n",
       "      <td>10335.GB_VZVD</td>\n",
       "      <td>0</td>\n",
       "      <td>0</td>\n",
       "      <td>0</td>\n",
       "      <td>0</td>\n",
       "      <td>0</td>\n",
       "      <td>0</td>\n",
       "      <td>0</td>\n",
       "      <td>0</td>\n",
       "      <td>0</td>\n",
       "      <td>0</td>\n",
       "      <td>0</td>\n",
       "      <td>0</td>\n",
       "      <td>227</td>\n",
       "      <td>227</td>\n",
       "      <td>10335</td>\n",
       "      <td>Varicella-zoster virus (strain Dumas)</td>\n",
       "    </tr>\n",
       "    <tr>\n",
       "      <th>80773</th>\n",
       "      <td>9606.ENSP00000473243</td>\n",
       "      <td>10359.GB_HCMVM</td>\n",
       "      <td>0</td>\n",
       "      <td>0</td>\n",
       "      <td>0</td>\n",
       "      <td>0</td>\n",
       "      <td>0</td>\n",
       "      <td>0</td>\n",
       "      <td>0</td>\n",
       "      <td>0</td>\n",
       "      <td>0</td>\n",
       "      <td>0</td>\n",
       "      <td>0</td>\n",
       "      <td>0</td>\n",
       "      <td>227</td>\n",
       "      <td>227</td>\n",
       "      <td>10359</td>\n",
       "      <td>Human cytomegalovirus (strain Merlin)</td>\n",
       "    </tr>\n",
       "    <tr>\n",
       "      <th>80774</th>\n",
       "      <td>9606.ENSP00000473243</td>\n",
       "      <td>10376.GB_EBVB9</td>\n",
       "      <td>0</td>\n",
       "      <td>0</td>\n",
       "      <td>0</td>\n",
       "      <td>0</td>\n",
       "      <td>0</td>\n",
       "      <td>0</td>\n",
       "      <td>0</td>\n",
       "      <td>0</td>\n",
       "      <td>0</td>\n",
       "      <td>0</td>\n",
       "      <td>0</td>\n",
       "      <td>0</td>\n",
       "      <td>227</td>\n",
       "      <td>227</td>\n",
       "      <td>10376</td>\n",
       "      <td>Epstein-Barr virus (strain B95-8)</td>\n",
       "    </tr>\n",
       "  </tbody>\n",
       "</table>\n",
       "<p>80775 rows × 18 columns</p>\n",
       "</div>"
      ],
      "text/plain": [
       "                   protein1               protein2  neighborhood  \\\n",
       "0      9606.ENSP00000000233     10258.Q6TVW1_ORFSA             0   \n",
       "1      9606.ENSP00000000233      10279.Q98187_MCV1             0   \n",
       "2      9606.ENSP00000000233         10298.GM_HHV11             0   \n",
       "3      9606.ENSP00000000233       37296.ORF4_HHV8P             0   \n",
       "4      9606.ENSP00000000233  195054.PRO_0000039759             0   \n",
       "...                     ...                    ...           ...   \n",
       "80770  9606.ENSP00000473243         10310.GB_HHV2H             0   \n",
       "80771  9606.ENSP00000473243         10298.GB_HHV11             0   \n",
       "80772  9606.ENSP00000473243          10335.GB_VZVD             0   \n",
       "80773  9606.ENSP00000473243         10359.GB_HCMVM             0   \n",
       "80774  9606.ENSP00000473243         10376.GB_EBVB9             0   \n",
       "\n",
       "       neighborhood_transferred  fusion  cooccurence  homology  coexpression  \\\n",
       "0                             0       0            0         0             0   \n",
       "1                             0       0            0         0             0   \n",
       "2                             0       0            0         0             0   \n",
       "3                             0       0            0         0             0   \n",
       "4                             0       0            0         0             0   \n",
       "...                         ...     ...          ...       ...           ...   \n",
       "80770                         0       0            0         0             0   \n",
       "80771                         0       0            0         0             0   \n",
       "80772                         0       0            0         0             0   \n",
       "80773                         0       0            0         0             0   \n",
       "80774                         0       0            0         0             0   \n",
       "\n",
       "       coexpression_transferred  experiments  experiments_transferred  \\\n",
       "0                             0            0                        0   \n",
       "1                             0            0                        0   \n",
       "2                             0            0                        0   \n",
       "3                             0            0                        0   \n",
       "4                             0            0                        0   \n",
       "...                         ...          ...                      ...   \n",
       "80770                         0            0                        0   \n",
       "80771                         0            0                        0   \n",
       "80772                         0            0                        0   \n",
       "80773                         0            0                        0   \n",
       "80774                         0            0                        0   \n",
       "\n",
       "       database  database_transferred  textmining  textmining_transferred  \\\n",
       "0             0                     0           0                     188   \n",
       "1             0                     0           0                     188   \n",
       "2             0                     0          17                     336   \n",
       "3             0                     0          91                     109   \n",
       "4             0                     0           0                     329   \n",
       "...         ...                   ...         ...                     ...   \n",
       "80770         0                     0           0                     227   \n",
       "80771         0                     0           0                     227   \n",
       "80772         0                     0           0                     227   \n",
       "80773         0                     0           0                     227   \n",
       "80774         0                     0           0                     227   \n",
       "\n",
       "       combined_score   virus                                 virus_name  \n",
       "0                 188   10258    Orf virus (strain Goat/Texas/SA00/2000)  \n",
       "1                 188   10279      Molluscum contagiosum virus subtype 1  \n",
       "2                 336   10298            Human herpesvirus 1 (strain 17)  \n",
       "3                 155   37296  Human herpesvirus 8 type P (isolate GK18)  \n",
       "4                 329  195054   Human parechovirus 2 (strain Williamson)  \n",
       "...               ...     ...                                        ...  \n",
       "80770             227   10310          Human herpesvirus 2 (strain HG52)  \n",
       "80771             227   10298            Human herpesvirus 1 (strain 17)  \n",
       "80772             227   10335      Varicella-zoster virus (strain Dumas)  \n",
       "80773             227   10359      Human cytomegalovirus (strain Merlin)  \n",
       "80774             227   10376          Epstein-Barr virus (strain B95-8)  \n",
       "\n",
       "[80775 rows x 18 columns]"
      ]
     },
     "execution_count": 11,
     "metadata": {},
     "output_type": "execute_result"
    }
   ],
   "source": [
    "links_pul"
   ]
  },
  {
   "cell_type": "code",
   "execution_count": 12,
   "id": "26c9a8d2-4937-45c0-9261-04a731b0062d",
   "metadata": {
    "tags": []
   },
   "outputs": [],
   "source": [
    "links_pul = links.copy()\n",
    "\n",
    "links_pul[\"virus\"]=links_pul[\"protein2\"].map(lambda x: x.split(\".\")[0])\n",
    "#links_pul[\"protein2\"]=links_pul[\"protein2\"].map(lambda x: x.split(\".\")[1])\n",
    "links_pul[\"virus_name\"]=itemgetter(*links_pul[\"virus\"].to_list())(virus_names_dict)"
   ]
  },
  {
   "cell_type": "code",
   "execution_count": 13,
   "id": "b643cd15-d6c4-4b94-bcbc-ad7195355e54",
   "metadata": {
    "tags": []
   },
   "outputs": [],
   "source": [
    "#list of unique viruses names\n",
    "unique_viruses_df = links_pul[\"virus_name\"].unique()\n",
    "unique_viruses = pd.Series(links_pul[\"virus_name\"].unique())\n",
    "\n",
    "unique_viruses = unique_viruses.map(lambda x: x.replace(\"(\", \"\"))\n",
    "unique_viruses = unique_viruses.map(lambda x: x.replace(\")\", \"\"))\n",
    "unique_viruses = unique_viruses.map(lambda x: x.replace(\"/\", \"_\"))\n",
    "unique_viruses = unique_viruses.map(lambda x: x.replace(\" \", \"_\"))\n",
    "\n",
    "unique_viruses = unique_viruses.to_numpy()"
   ]
  },
  {
   "cell_type": "code",
   "execution_count": 14,
   "id": "beade446-308e-47db-856a-a9d1dffd53e6",
   "metadata": {
    "tags": []
   },
   "outputs": [
    {
     "data": {
      "text/plain": [
       "array(['Orf_virus_strain_Goat_Texas_SA00_2000',\n",
       "       'Molluscum_contagiosum_virus_subtype_1',\n",
       "       'Human_herpesvirus_1_strain_17',\n",
       "       'Human_herpesvirus_8_type_P_isolate_GK18',\n",
       "       'Human_parechovirus_2_strain_Williamson',\n",
       "       'Varicella-zoster_virus_strain_Dumas',\n",
       "       'Poliovirus_type_1_strain_Mahoney',\n",
       "       'Human_hepatitis_A_virus_genotype_IB_isolate_HM175',\n",
       "       'Chikungunya_virus_strain_S27-African_prototype',\n",
       "       'Variola_virus_isolate_Human_India_Ind3_1967',\n",
       "       'Human_herpesvirus_2_strain_HG52',\n",
       "       'Encephalomyocarditis_virus_strain_Rueckert', 'Sindbis_virus',\n",
       "       'Human_rhinovirus_A_serotype_89_strain_41467-Gallo',\n",
       "       'Salivirus_A_isolate_Human_Nigeria_NG-J1_2007',\n",
       "       'Epstein-Barr_virus_strain_B95-8', 'Semliki_forest_virus',\n",
       "       'Human_herpesvirus_6A_strain_Uganda-1102',\n",
       "       'Human_cytomegalovirus_strain_Merlin',\n",
       "       'Human_herpesvirus_6B_strain_Z29', '',\n",
       "       'Human_immunodeficiency_virus_type_1_group_M_subtype_B_isolate_HXB2',\n",
       "       'Measles_virus_strain_Ichinose-B95a',\n",
       "       'Influenza_A_virus_strain_A_Puerto_Rico_8_1934_H1N1',\n",
       "       'Hepatitis_C_virus_genotype_1a_isolate_H',\n",
       "       'Mumps_virus_strain_Miyahara_vaccine',\n",
       "       'Lymphocytic_choriomeningitis_virus_strain_Armstrong',\n",
       "       'Human_respiratory_syncytial_virus_B_strain_B1',\n",
       "       'Human_papillomavirus_type_5',\n",
       "       'Human_T-cell_leukemia_virus_1_isolate_Caribbea_HS-35_subtype_A',\n",
       "       'Yaba_monkey_tumor_virus_strain_VR587', 'Human_SARS_coronavirus',\n",
       "       'Human_coronavirus_229E', 'Human_adenovirus_C_serotype_2',\n",
       "       'Hendra_virus_isolate_Horse_Autralia_Hendra_1994',\n",
       "       'Human_metapneumovirus_strain_CAN97-83',\n",
       "       'Human_papillomavirus_type_18', 'Human_papillomavirus_type_16',\n",
       "       'Hepatitis_B_virus_genotype_C_subtype_ayr_isolate_Human_Japan_Okamoto_-',\n",
       "       'Zaire_ebolavirus_strain_Mayinga-76',\n",
       "       'Rabies_virus_strain_Pasteur_vaccins___PV', 'West_Nile_virus',\n",
       "       'Human_immunodeficiency_virus_type_2_subtype_A_isolate_BEN',\n",
       "       'Dengue_virus_type_4_strain_Dominica_814669_1981',\n",
       "       'Yellow_fever_virus_strain_17D_vaccine',\n",
       "       'Hantaan_virus_strain_76-118',\n",
       "       'Gallid_herpesvirus_2_strain_Chicken_Md5_ATCC_VR-987',\n",
       "       'Japanese_encephalitis_virus_strain_SAv',\n",
       "       'Dengue_virus_type_2_strain_Jamaica_1409_1983',\n",
       "       'Dengue_virus_type_1_strain_Nauru_West_Pac_1974',\n",
       "       'Dengue_virus_type_3_strain_Philippines_H87_1956',\n",
       "       'Cucumber_mosaic_virus_strain_FNY',\n",
       "       'Marburg_virus_strain_Kenya_Musoke_1980',\n",
       "       'Norwalk_virus_strain_GI_Human_United_States_Norwalk_1968',\n",
       "       'Bunyavirus_La_Crosse_isolate_Human_United_States_L78_1978',\n",
       "       'Bunyamwera_virus',\n",
       "       'Lassa_virus_strain_Mouse_Sierra_Leone_Josiah_1976',\n",
       "       'Enterobacteria_phage_T7', 'Influenza_B_virus_strain_B_Lee_1940',\n",
       "       'Equine_arteritis_virus_strain_Bucyrus',\n",
       "       'Murid_herpesvirus_1_strain_Smith',\n",
       "       'Bovine_viral_diarrhea_virus_isolate_NADL',\n",
       "       'Vaccinia_virus_strain_Western_Reserve', 'Simian_virus_40',\n",
       "       'Hepatitis_delta_virus_genotype_I_isolate_D380',\n",
       "       'Bluetongue_virus_10_isolate_USA',\n",
       "       'Bean_golden_yellow_mosaic_virus_isolate_Puerto_Rico-Japan',\n",
       "       'Vesicular_stomatitis_Indiana_virus_strain_San_Juan',\n",
       "       'Human_parvovirus_B19_strain_HV',\n",
       "       'Rift_valley_fever_virus_strain_ZH-548_M12',\n",
       "       'Avian_infectious_bronchitis_virus_strain_Beaudette',\n",
       "       'Hepatitis_E_virus_genotype_1_isolate_Human_China_HeBei_1987',\n",
       "       'Reovirus_type_1_strain_Lang',\n",
       "       'Newcastle_disease_virus_strain_Chicken_United_States_B1_48',\n",
       "       'Cottontail_rabbit_papillomavirus_strain_Kansas',\n",
       "       'African_swine_fever_virus_strain_Badajoz_1971_Vero-adapted',\n",
       "       'Rotavirus_C_isolate_Human_United_Kingdom_Bristol_1989',\n",
       "       'Rotavirus_A_isolate_Monkey_South_Africa_SA11-H96_1958_G3-P5B[2]-I2-R2-C5-M5-A5-N5-T5-E2-H5_RV-A',\n",
       "       'Simian_immunodeficiency_virus_isolate_Mm142-83',\n",
       "       'Sendai_virus_strain_Ohita', 'Enterobacteria_phage_P1',\n",
       "       'Potato_mop-top_virus_isolate_Potato_Sweden_Sw',\n",
       "       'Foot-and-mouth_disease_virus_isolate_Swine_Taiwan_OTai_1997_serotype_O',\n",
       "       'Enterobacteria_phage_lambda',\n",
       "       'Saimiriine_herpesvirus_2_strain_11',\n",
       "       'Tomato_spotted_wilt_virus_strain_Brazilian_Br-01',\n",
       "       'Myxoma_virus_strain_Lausanne',\n",
       "       'Murine_minute_virus_strain_MVM_prototype',\n",
       "       'Swinepox_virus_strain_Swine_Nebraska_17077-99_1999',\n",
       "       'Enterobacteria_phage_P22', 'Enterobacteria_phage_T4',\n",
       "       'Enterobacteria_phage_Mu',\n",
       "       'Fowl_adenovirus_A_serotype_1_strain_CELO___Phelps',\n",
       "       'Enterobacteria_phage_PRD1',\n",
       "       'Moloney_murine_leukemia_virus_isolate_Shinnick',\n",
       "       'Paramecium_bursaria_Chlorella_virus_1',\n",
       "       'Murine_coronavirus_strain_A59',\n",
       "       'Equine_herpesvirus_2_strain_86_87', 'Potato_virus_Y_strain_N',\n",
       "       'Avian_leukosis_virus_RSA', 'Borna_disease_virus_strain_V',\n",
       "       'Rachiplusia_ou_multiple_nucleopolyhedrovirus_strain_R1',\n",
       "       'Rabbit_hemorrhagic_disease_virus_strain_Rabbit_Germany_FRG_1989'],\n",
       "      dtype=object)"
      ]
     },
     "execution_count": 14,
     "metadata": {},
     "output_type": "execute_result"
    }
   ],
   "source": [
    "unique_viruses"
   ]
  },
  {
   "cell_type": "code",
   "execution_count": 37,
   "id": "db7ae585-b9bd-4cce-a79b-36c89b35d2f4",
   "metadata": {
    "tags": []
   },
   "outputs": [
    {
     "name": "stdout",
     "output_type": "stream",
     "text": [
      "Homo_sapiens\n"
     ]
    }
   ],
   "source": [
    "#proteins for each virus which are in a link with text mining of high confidence \n",
    "##r experiment with mean confidence\n",
    "type0_list = []\n",
    "type1_list = []\n",
    "\n",
    "for nv, un in zip(unique_viruses, unique_viruses_df):\n",
    "    print(nv)\n",
    "    if not os.path.isdir(\"../Data/data_STRING/STRING_to_VIRPROT/\"+nv):\n",
    "        os.mkdir(\"../Data/data_STRING/STRING_to_VIRPROT/\"+nv)\n",
    "    provv_link = links_pul[links_pul[\"virus_name\"]==un]\n",
    "    type0_list.append(provv_link[\"protein2\"].unique())\n",
    "    type1_list.append(provv_link[(provv_link[\"textmining\"]>700) | (provv_link[\"experiments\"]>400)][\"protein1\"].unique())\n",
    "    np.savetxt(X=type0_list[-1], fname=\"../Data/data_STRING/STRING_to_VIRPROT/\"+nv+\"/type0_bio.txt\", fmt=\"%s\")\n",
    "    np.savetxt(X=type1_list[-1], fname=\"../Data/data_STRING/STRING_to_VIRPROT/\"+nv+\"/type1_bio.txt\", fmt=\"%s\")\n",
    "    provv_link[[\"protein1\",\"protein2\"]].to_csv(\"../Data/data_STRING/STRING_to_VIRPROT/\"+nv+\"/edges_bio.txt\", index=False)\n",
    "res_df = pd.DataFrame({\"name\":unique_viruses, \n",
    "                       \"len_vir\":[len(l) for l in type0_list],\n",
    "                       \"len_hum\":[len(l) for l in type1_list], \n",
    "                       \"virus\": type0_list, \n",
    "                       \"human\": type1_list})"
   ]
  },
  {
   "cell_type": "code",
   "execution_count": null,
   "id": "20c2e655-fed8-4785-b044-0774378235f1",
   "metadata": {},
   "outputs": [],
   "source": []
  },
  {
   "cell_type": "code",
   "execution_count": 34,
   "id": "51359e02-dcad-4a89-b6e2-56920352c518",
   "metadata": {
    "tags": []
   },
   "outputs": [
    {
     "data": {
      "text/html": [
       "<div>\n",
       "<style scoped>\n",
       "    .dataframe tbody tr th:only-of-type {\n",
       "        vertical-align: middle;\n",
       "    }\n",
       "\n",
       "    .dataframe tbody tr th {\n",
       "        vertical-align: top;\n",
       "    }\n",
       "\n",
       "    .dataframe thead th {\n",
       "        text-align: right;\n",
       "    }\n",
       "</style>\n",
       "<table border=\"1\" class=\"dataframe\">\n",
       "  <thead>\n",
       "    <tr style=\"text-align: right;\">\n",
       "      <th></th>\n",
       "      <th>name</th>\n",
       "      <th>len_vir</th>\n",
       "      <th>len_hum</th>\n",
       "      <th>virus</th>\n",
       "      <th>human</th>\n",
       "    </tr>\n",
       "  </thead>\n",
       "  <tbody>\n",
       "    <tr>\n",
       "      <th>0</th>\n",
       "      <td>Homo_sapiens</td>\n",
       "      <td>4499</td>\n",
       "      <td>1449</td>\n",
       "      <td>[9606.ENSP00000417464, 9606.ENSP00000346725, 9...</td>\n",
       "      <td>[9606.ENSP00000004103, 9606.ENSP00000007516, 9...</td>\n",
       "    </tr>\n",
       "  </tbody>\n",
       "</table>\n",
       "</div>"
      ],
      "text/plain": [
       "           name  len_vir  len_hum  \\\n",
       "0  Homo_sapiens     4499     1449   \n",
       "\n",
       "                                               virus  \\\n",
       "0  [9606.ENSP00000417464, 9606.ENSP00000346725, 9...   \n",
       "\n",
       "                                               human  \n",
       "0  [9606.ENSP00000004103, 9606.ENSP00000007516, 9...  "
      ]
     },
     "execution_count": 34,
     "metadata": {},
     "output_type": "execute_result"
    }
   ],
   "source": [
    "res_df[res_df[\"len_hum\"]>10]"
   ]
  },
  {
   "cell_type": "code",
   "execution_count": 19,
   "id": "f707719f-2630-496c-999b-b5123a10ac1f",
   "metadata": {
    "tags": []
   },
   "outputs": [],
   "source": [
    "#mapping between node ID and name\n",
    "mapper = pd.read_csv(\"data_STRING/9606.protein.info.v11.5.txt\", sep=\"\\t\")\n",
    "mapper[\"ID\"] = mapper[\"#string_protein_id\"].map(lambda x: x.split(\".\")[1])\n",
    "mapper_dict = dict(zip(mapper[\"ID\"], mapper[\"preferred_name\"]))"
   ]
  },
  {
   "cell_type": "code",
   "execution_count": 29,
   "id": "e30efa3b-4438-45e4-8595-035d36964758",
   "metadata": {
    "tags": []
   },
   "outputs": [
    {
     "data": {
      "text/html": [
       "<div>\n",
       "<style scoped>\n",
       "    .dataframe tbody tr th:only-of-type {\n",
       "        vertical-align: middle;\n",
       "    }\n",
       "\n",
       "    .dataframe tbody tr th {\n",
       "        vertical-align: top;\n",
       "    }\n",
       "\n",
       "    .dataframe thead th {\n",
       "        text-align: right;\n",
       "    }\n",
       "</style>\n",
       "<table border=\"1\" class=\"dataframe\">\n",
       "  <thead>\n",
       "    <tr style=\"text-align: right;\">\n",
       "      <th></th>\n",
       "      <th>#string_protein_id</th>\n",
       "      <th>preferred_name</th>\n",
       "      <th>protein_size</th>\n",
       "      <th>annotation</th>\n",
       "      <th>ID</th>\n",
       "    </tr>\n",
       "  </thead>\n",
       "  <tbody>\n",
       "    <tr>\n",
       "      <th>0</th>\n",
       "      <td>9606.ENSP00000000233</td>\n",
       "      <td>ARF5</td>\n",
       "      <td>180</td>\n",
       "      <td>ADP-ribosylation factor 5; GTP-binding protein...</td>\n",
       "      <td>ENSP00000000233</td>\n",
       "    </tr>\n",
       "    <tr>\n",
       "      <th>1</th>\n",
       "      <td>9606.ENSP00000000412</td>\n",
       "      <td>M6PR</td>\n",
       "      <td>277</td>\n",
       "      <td>Cation-dependent mannose-6-phosphate receptor;...</td>\n",
       "      <td>ENSP00000000412</td>\n",
       "    </tr>\n",
       "    <tr>\n",
       "      <th>2</th>\n",
       "      <td>9606.ENSP00000001008</td>\n",
       "      <td>FKBP4</td>\n",
       "      <td>459</td>\n",
       "      <td>Peptidyl-prolyl cis-trans isomerase FKBP4; Imm...</td>\n",
       "      <td>ENSP00000001008</td>\n",
       "    </tr>\n",
       "    <tr>\n",
       "      <th>3</th>\n",
       "      <td>9606.ENSP00000001146</td>\n",
       "      <td>CYP26B1</td>\n",
       "      <td>512</td>\n",
       "      <td>Cytochrome P450 26B1; Involved in the metaboli...</td>\n",
       "      <td>ENSP00000001146</td>\n",
       "    </tr>\n",
       "    <tr>\n",
       "      <th>4</th>\n",
       "      <td>9606.ENSP00000002125</td>\n",
       "      <td>NDUFAF7</td>\n",
       "      <td>441</td>\n",
       "      <td>Protein arginine methyltransferase NDUFAF7, mi...</td>\n",
       "      <td>ENSP00000002125</td>\n",
       "    </tr>\n",
       "    <tr>\n",
       "      <th>...</th>\n",
       "      <td>...</td>\n",
       "      <td>...</td>\n",
       "      <td>...</td>\n",
       "      <td>...</td>\n",
       "      <td>...</td>\n",
       "    </tr>\n",
       "    <tr>\n",
       "      <th>19561</th>\n",
       "      <td>9606.ENSP00000485671</td>\n",
       "      <td>ENSG00000280273</td>\n",
       "      <td>120</td>\n",
       "      <td>HCG1991042</td>\n",
       "      <td>ENSP00000485671</td>\n",
       "    </tr>\n",
       "    <tr>\n",
       "      <th>19562</th>\n",
       "      <td>9606.ENSP00000485672</td>\n",
       "      <td>ENSG00000279458</td>\n",
       "      <td>86</td>\n",
       "      <td>annotation not available</td>\n",
       "      <td>ENSP00000485672</td>\n",
       "    </tr>\n",
       "    <tr>\n",
       "      <th>19563</th>\n",
       "      <td>9606.ENSP00000485673</td>\n",
       "      <td>ENSG00000279988</td>\n",
       "      <td>243</td>\n",
       "      <td>annotation not available</td>\n",
       "      <td>ENSP00000485673</td>\n",
       "    </tr>\n",
       "    <tr>\n",
       "      <th>19564</th>\n",
       "      <td>9606.ENSP00000485675</td>\n",
       "      <td>ENSG00000280116</td>\n",
       "      <td>84</td>\n",
       "      <td>annotation not available</td>\n",
       "      <td>ENSP00000485675</td>\n",
       "    </tr>\n",
       "    <tr>\n",
       "      <th>19565</th>\n",
       "      <td>9606.ENSP00000485678</td>\n",
       "      <td>OR6Q1</td>\n",
       "      <td>317</td>\n",
       "      <td>Olfactory receptor 6Q1; Odorant receptor; Olfa...</td>\n",
       "      <td>ENSP00000485678</td>\n",
       "    </tr>\n",
       "  </tbody>\n",
       "</table>\n",
       "<p>19566 rows × 5 columns</p>\n",
       "</div>"
      ],
      "text/plain": [
       "         #string_protein_id   preferred_name  protein_size  \\\n",
       "0      9606.ENSP00000000233             ARF5           180   \n",
       "1      9606.ENSP00000000412             M6PR           277   \n",
       "2      9606.ENSP00000001008            FKBP4           459   \n",
       "3      9606.ENSP00000001146          CYP26B1           512   \n",
       "4      9606.ENSP00000002125          NDUFAF7           441   \n",
       "...                     ...              ...           ...   \n",
       "19561  9606.ENSP00000485671  ENSG00000280273           120   \n",
       "19562  9606.ENSP00000485672  ENSG00000279458            86   \n",
       "19563  9606.ENSP00000485673  ENSG00000279988           243   \n",
       "19564  9606.ENSP00000485675  ENSG00000280116            84   \n",
       "19565  9606.ENSP00000485678            OR6Q1           317   \n",
       "\n",
       "                                              annotation               ID  \n",
       "0      ADP-ribosylation factor 5; GTP-binding protein...  ENSP00000000233  \n",
       "1      Cation-dependent mannose-6-phosphate receptor;...  ENSP00000000412  \n",
       "2      Peptidyl-prolyl cis-trans isomerase FKBP4; Imm...  ENSP00000001008  \n",
       "3      Cytochrome P450 26B1; Involved in the metaboli...  ENSP00000001146  \n",
       "4      Protein arginine methyltransferase NDUFAF7, mi...  ENSP00000002125  \n",
       "...                                                  ...              ...  \n",
       "19561                                        HCG1991042   ENSP00000485671  \n",
       "19562                           annotation not available  ENSP00000485672  \n",
       "19563                           annotation not available  ENSP00000485673  \n",
       "19564                           annotation not available  ENSP00000485675  \n",
       "19565  Olfactory receptor 6Q1; Odorant receptor; Olfa...  ENSP00000485678  \n",
       "\n",
       "[19566 rows x 5 columns]"
      ]
     },
     "execution_count": 29,
     "metadata": {},
     "output_type": "execute_result"
    }
   ],
   "source": [
    "mapper"
   ]
  },
  {
   "cell_type": "code",
   "execution_count": 25,
   "id": "67c65fa9-413d-46f3-9789-258835c2974c",
   "metadata": {
    "tags": []
   },
   "outputs": [],
   "source": [
    "uga=np.isin(links_pul[\"protein1\"].unique(),mapper[\"#string_protein_id\"])"
   ]
  },
  {
   "cell_type": "code",
   "execution_count": 28,
   "id": "5e21ce70-335b-4c98-80d9-d8c2becbc1d6",
   "metadata": {
    "tags": []
   },
   "outputs": [
    {
     "data": {
      "text/plain": [
       "(8575,)"
      ]
     },
     "execution_count": 28,
     "metadata": {},
     "output_type": "execute_result"
    }
   ],
   "source": [
    "links_pul[\"protein1\"].unique().shape"
   ]
  },
  {
   "cell_type": "code",
   "execution_count": 66,
   "id": "bd88eb0b-0015-4fd8-83ba-941afb257d9f",
   "metadata": {
    "tags": []
   },
   "outputs": [],
   "source": [
    "#filter again with proteins1 which code is mapped to a name\n",
    "links_res = links_pul[links_pul[\"protein1\"].isin(mapper[\"ID\"])]\n",
    "links_res[\"protein1_name\"]=itemgetter(*links_res[\"protein1\"].to_list())(mapper_dict)"
   ]
  },
  {
   "cell_type": "code",
   "execution_count": 74,
   "id": "96ce51ac-2326-4361-8cdb-17bb2cf5032e",
   "metadata": {
    "tags": []
   },
   "outputs": [],
   "source": [
    "#list of unique viruses names\n",
    "unique_viruses = links_res[\"virus_name\"].unique()"
   ]
  },
  {
   "cell_type": "code",
   "execution_count": 251,
   "id": "818433b1-44b9-43a1-b6e1-edf6f59e5c1b",
   "metadata": {
    "tags": []
   },
   "outputs": [],
   "source": [
    "#proteins for each virus which are in a link with text mining of high confidence \n",
    "##r experiment with mean confidence\n",
    "type0_list = []\n",
    "type1_list = []\n",
    "\n",
    "for un in unique_viruses:\n",
    "    provv_link = links_res[links_res[\"virus_name\"]==un]\n",
    "    type0_list.append(provv_link[\"protein2\"].unique())\n",
    "    type1_list.append(provv_link[(provv_link[\"textmining\"]>700) | (provv_link[\"experiments\"]>400)][\"protein1_name\"].unique())\n",
    "\n",
    "res_df = pd.DataFrame({\"name\":unique_viruses, \n",
    "                       \"len_vir\":[len(l) for l in type0_list],\n",
    "                       \"len_hum\":[len(l) for l in type1_list], \n",
    "                       \"virus\": type0_list, \n",
    "                       \"human\": type1_list})\n",
    "res_df[\"name\"] = res_df[\"name\"].map(lambda x: x.replace(\"(\", \"\"))\n",
    "res_df[\"name\"] = res_df[\"name\"].map(lambda x: x.replace(\")\", \"\"))\n",
    "res_df[\"name\"] = res_df[\"name\"].map(lambda x: x.replace(\"/\", \"_\"))\n",
    "res_df[\"name\"] = res_df[\"name\"].map(lambda x: x.replace(\" \", \"_\"))"
   ]
  },
  {
   "cell_type": "code",
   "execution_count": 121,
   "id": "21d0eeb2-80dc-4bd4-ab3a-ab9d4cad973d",
   "metadata": {
    "tags": []
   },
   "outputs": [],
   "source": [
    "#load ncbi database\n",
    "ncbi = pd.read_csv(\"BIOGRID_data/Homo_sapiens.gene_info\", sep=\"\\t\")\n",
    "symbols = ncbi[\"Symbol\"]\n",
    "synonyms = [ncbi[\"Synonyms\"][i].split(\"|\") for i in range(len(ncbi))]\n",
    "unique_synonims = np.unique(np.concatenate(synonyms))\n",
    "\n"
   ]
  },
  {
   "cell_type": "code",
   "execution_count": 252,
   "id": "62b210ae-6925-4394-b9ac-9694476dad44",
   "metadata": {
    "tags": []
   },
   "outputs": [],
   "source": [
    "resss = res_df[res_df[\"len_hum\"]>0].sort_values(\"name\").reset_index(drop=True)"
   ]
  },
  {
   "cell_type": "code",
   "execution_count": 255,
   "id": "9675ddf7-c9e2-4df8-986f-f741d6608eb5",
   "metadata": {
    "tags": []
   },
   "outputs": [
    {
     "data": {
      "text/plain": [
       "True"
      ]
     },
     "execution_count": 255,
     "metadata": {},
     "output_type": "execute_result"
    }
   ],
   "source": [
    "np.any(np.isin(resss.loc[18,\"human\"], symbols))"
   ]
  },
  {
   "cell_type": "code",
   "execution_count": 257,
   "id": "b182841d-9e2b-42bb-ac5b-c05f8a93f1d3",
   "metadata": {},
   "outputs": [
    {
     "name": "stdout",
     "output_type": "stream",
     "text": [
      "0/83\n",
      "1/83\n",
      "2/83\n",
      "3/83\n",
      "4/83\n",
      "5/83\n",
      "6/83\n",
      "7/83\n",
      "8/83\n",
      "9/83\n",
      "10/83\n",
      "11/83\n",
      "12/83\n"
     ]
    },
    {
     "name": "stderr",
     "output_type": "stream",
     "text": [
      "100%|█████████████████████████████████████████████| 1/1 [00:02<00:00,  2.16s/it]\n"
     ]
    },
    {
     "name": "stdout",
     "output_type": "stream",
     "text": [
      "13/83\n",
      "14/83\n",
      "15/83\n",
      "16/83\n",
      "17/83\n",
      "18/83\n"
     ]
    },
    {
     "name": "stderr",
     "output_type": "stream",
     "text": [
      "100%|███████████████████████████████████████████| 48/48 [01:37<00:00,  2.04s/it]\n"
     ]
    },
    {
     "name": "stdout",
     "output_type": "stream",
     "text": [
      "19/83\n",
      "20/83\n",
      "21/83\n",
      "22/83\n",
      "23/83\n",
      "24/83\n",
      "25/83\n"
     ]
    },
    {
     "name": "stderr",
     "output_type": "stream",
     "text": [
      "100%|███████████████████████████████████████████| 15/15 [00:30<00:00,  2.04s/it]\n"
     ]
    },
    {
     "name": "stdout",
     "output_type": "stream",
     "text": [
      "26/83\n"
     ]
    },
    {
     "name": "stderr",
     "output_type": "stream",
     "text": [
      "100%|█████████████████████████████████████████████| 1/1 [00:02<00:00,  2.09s/it]\n"
     ]
    },
    {
     "name": "stdout",
     "output_type": "stream",
     "text": [
      "27/83\n"
     ]
    },
    {
     "name": "stderr",
     "output_type": "stream",
     "text": [
      "100%|█████████████████████████████████████████████| 1/1 [00:02<00:00,  2.06s/it]\n"
     ]
    },
    {
     "name": "stdout",
     "output_type": "stream",
     "text": [
      "28/83\n",
      "29/83\n",
      "30/83\n",
      "31/83\n"
     ]
    },
    {
     "name": "stderr",
     "output_type": "stream",
     "text": [
      "100%|█████████████████████████████████████████████| 2/2 [00:04<00:00,  2.13s/it]\n"
     ]
    },
    {
     "name": "stdout",
     "output_type": "stream",
     "text": [
      "32/83\n"
     ]
    },
    {
     "name": "stderr",
     "output_type": "stream",
     "text": [
      "100%|█████████████████████████████████████████████| 6/6 [00:12<00:00,  2.12s/it]\n"
     ]
    },
    {
     "name": "stdout",
     "output_type": "stream",
     "text": [
      "33/83\n"
     ]
    },
    {
     "name": "stderr",
     "output_type": "stream",
     "text": [
      "100%|█████████████████████████████████████████████| 3/3 [00:06<00:00,  2.12s/it]\n"
     ]
    },
    {
     "name": "stdout",
     "output_type": "stream",
     "text": [
      "34/83\n"
     ]
    },
    {
     "name": "stderr",
     "output_type": "stream",
     "text": [
      "100%|███████████████████████████████████████████| 26/26 [00:54<00:00,  2.10s/it]\n"
     ]
    },
    {
     "name": "stdout",
     "output_type": "stream",
     "text": [
      "35/83\n",
      "36/83\n",
      "37/83\n"
     ]
    },
    {
     "name": "stderr",
     "output_type": "stream",
     "text": [
      "100%|█████████████████████████████████████████████| 5/5 [00:10<00:00,  2.11s/it]\n"
     ]
    },
    {
     "name": "stdout",
     "output_type": "stream",
     "text": [
      "38/83\n"
     ]
    },
    {
     "name": "stderr",
     "output_type": "stream",
     "text": [
      "100%|███████████████████████████████████████████| 48/48 [01:33<00:00,  1.96s/it]\n"
     ]
    },
    {
     "name": "stdout",
     "output_type": "stream",
     "text": [
      "39/83\n"
     ]
    },
    {
     "name": "stderr",
     "output_type": "stream",
     "text": [
      "100%|█████████████████████████████████████████████| 1/1 [00:01<00:00,  2.00s/it]\n"
     ]
    },
    {
     "name": "stdout",
     "output_type": "stream",
     "text": [
      "40/83\n",
      "41/83\n"
     ]
    },
    {
     "name": "stderr",
     "output_type": "stream",
     "text": [
      "100%|███████████████████████████████████████████| 16/16 [00:29<00:00,  1.85s/it]\n"
     ]
    },
    {
     "name": "stdout",
     "output_type": "stream",
     "text": [
      "42/83\n"
     ]
    },
    {
     "name": "stderr",
     "output_type": "stream",
     "text": [
      "100%|███████████████████████████████████████████| 20/20 [00:40<00:00,  2.00s/it]\n"
     ]
    },
    {
     "name": "stdout",
     "output_type": "stream",
     "text": [
      "43/83\n"
     ]
    },
    {
     "name": "stderr",
     "output_type": "stream",
     "text": [
      "100%|█████████████████████████████████████████████| 9/9 [00:19<00:00,  2.12s/it]\n"
     ]
    },
    {
     "name": "stdout",
     "output_type": "stream",
     "text": [
      "44/83\n"
     ]
    },
    {
     "name": "stderr",
     "output_type": "stream",
     "text": [
      "100%|███████████████████████████████████████████| 11/11 [00:23<00:00,  2.13s/it]\n"
     ]
    },
    {
     "name": "stdout",
     "output_type": "stream",
     "text": [
      "45/83\n"
     ]
    },
    {
     "name": "stderr",
     "output_type": "stream",
     "text": [
      "100%|███████████████████████████████████████████| 26/26 [00:52<00:00,  2.03s/it]\n"
     ]
    },
    {
     "name": "stdout",
     "output_type": "stream",
     "text": [
      "46/83\n",
      "47/83\n",
      "48/83\n"
     ]
    },
    {
     "name": "stderr",
     "output_type": "stream",
     "text": [
      "100%|█████████████████████████████████████████████| 4/4 [00:07<00:00,  1.96s/it]\n"
     ]
    },
    {
     "name": "stdout",
     "output_type": "stream",
     "text": [
      "49/83\n"
     ]
    },
    {
     "name": "stderr",
     "output_type": "stream",
     "text": [
      "100%|███████████████████████████████████████████| 29/29 [00:54<00:00,  1.89s/it]\n"
     ]
    },
    {
     "name": "stdout",
     "output_type": "stream",
     "text": [
      "50/83\n",
      "51/83\n",
      "52/83\n",
      "53/83\n",
      "54/83\n",
      "55/83\n",
      "56/83\n"
     ]
    },
    {
     "name": "stderr",
     "output_type": "stream",
     "text": [
      "100%|█████████████████████████████████████████████| 2/2 [00:04<00:00,  2.01s/it]\n"
     ]
    },
    {
     "name": "stdout",
     "output_type": "stream",
     "text": [
      "57/83\n",
      "58/83\n",
      "59/83\n",
      "60/83\n",
      "61/83\n",
      "62/83\n",
      "63/83\n",
      "64/83\n",
      "65/83\n",
      "66/83\n"
     ]
    },
    {
     "name": "stderr",
     "output_type": "stream",
     "text": [
      "100%|███████████████████████████████████████████| 1/1 [00:00<00:00, 6721.64it/s]\n"
     ]
    },
    {
     "name": "stdout",
     "output_type": "stream",
     "text": [
      "67/83\n",
      "68/83\n"
     ]
    },
    {
     "name": "stderr",
     "output_type": "stream",
     "text": [
      "100%|█████████████████████████████████████████████| 8/8 [00:16<00:00,  2.06s/it]\n"
     ]
    },
    {
     "name": "stdout",
     "output_type": "stream",
     "text": [
      "69/83\n",
      "70/83\n",
      "71/83\n"
     ]
    },
    {
     "name": "stderr",
     "output_type": "stream",
     "text": [
      "100%|█████████████████████████████████████████████| 1/1 [00:02<00:00,  2.08s/it]\n"
     ]
    },
    {
     "name": "stdout",
     "output_type": "stream",
     "text": [
      "72/83\n"
     ]
    },
    {
     "name": "stderr",
     "output_type": "stream",
     "text": [
      "100%|█████████████████████████████████████████████| 1/1 [00:02<00:00,  2.12s/it]\n"
     ]
    },
    {
     "name": "stdout",
     "output_type": "stream",
     "text": [
      "73/83\n",
      "74/83\n",
      "75/83\n",
      "76/83\n"
     ]
    },
    {
     "name": "stderr",
     "output_type": "stream",
     "text": [
      "100%|███████████████████████████████████████████| 21/21 [00:43<00:00,  2.08s/it]\n"
     ]
    },
    {
     "name": "stdout",
     "output_type": "stream",
     "text": [
      "77/83\n",
      "78/83\n",
      "79/83\n",
      "80/83\n",
      "81/83\n",
      "82/83\n"
     ]
    },
    {
     "name": "stderr",
     "output_type": "stream",
     "text": [
      "100%|███████████████████████████████████████████| 25/25 [00:52<00:00,  2.11s/it]\n"
     ]
    }
   ],
   "source": [
    "new_list_human = []\n",
    "for j in range(len(resss)):\n",
    "    print(f\"{j}/{len(resss)}\")\n",
    "    if not np.all(np.isin(resss.loc[j,\"human\"], symbols)):\n",
    "        chg_idx = np.where(np.logical_not(np.isin(resss.loc[j,\"human\"], symbols)))[0]\n",
    "        but_synon = np.isin(resss.loc[j,\"human\"][chg_idx], unique_synonims)\n",
    "\n",
    "        new_names = []\n",
    "        for i in tqdm(range(len(chg_idx))):\n",
    "            if but_synon[i]:\n",
    "                new_names.append(symbols[([resss.loc[j,\"human\"][chg_idx[i]] in s for s in synonyms])].values[0])\n",
    "            else:\n",
    "                new_names.append(resss.loc[j,\"human\"][chg_idx[i]])\n",
    "\n",
    "        new_list_human.append(np.delete(resss.loc[j,\"human\"], chg_idx[np.where(np.logical_not(but_synon))[0]]))\n",
    "    else:\n",
    "        new_list_human.append(resss.loc[j,\"human\"])"
   ]
  },
  {
   "cell_type": "code",
   "execution_count": 264,
   "id": "40780108-38af-46ed-af8f-781f0881da64",
   "metadata": {
    "tags": []
   },
   "outputs": [],
   "source": [
    "resss[\"human_new\"] = new_list_human"
   ]
  },
  {
   "cell_type": "code",
   "execution_count": 285,
   "id": "295c9bab-e33e-4fa2-860c-439bff3b02bf",
   "metadata": {
    "tags": []
   },
   "outputs": [],
   "source": [
    "for i in range(len(resss)):\n",
    "    if not os.path.isdir(os.path.isdir(\"STRING_data/STRING_to_VIRPROT/\"+resss.loc[i,\"name\"])):\n",
    "        os.mkdir(\"STRING_data/STRING_to_VIRPROT/\"+resss.loc[i,\"name\"])\n",
    "    np.savetxt(X=resss.loc[i,\"human_new\"], fname=\"STRING_data/STRING_to_VIRPROT/\"+resss.loc[i,\"name\"]+\"/type1.txt\", fmt=\"%s\")\n",
    "    np.savetxt(X=resss.loc[i,\"virus\"], fname=\"STRING_data/STRING_to_VIRPROT/\"+resss.loc[i,\"name\"]+\"/type0.txt\", fmt=\"%s\")"
   ]
  },
  {
   "cell_type": "markdown",
   "id": "97c30059-f445-42d0-8843-19d723eaa551",
   "metadata": {},
   "source": [
    "## Oringal virus Coex creation starting from STRING_VIRPORT typ1 bio"
   ]
  },
  {
   "cell_type": "code",
   "execution_count": 104,
   "id": "71384aae-8b18-4959-83be-76e20a41aa1b",
   "metadata": {
    "tags": []
   },
   "outputs": [],
   "source": [
    "dirlist = os.listdir(\"../Data/data_STRING/exp_vir/nonco/\")"
   ]
  },
  {
   "cell_type": "code",
   "execution_count": 105,
   "id": "5b0c7fe6-0dd5-423e-b2a6-68163159f7ad",
   "metadata": {
    "tags": []
   },
   "outputs": [
    {
     "name": "stderr",
     "output_type": "stream",
     "text": [
      "100%|███████████████████████████████████████████| 77/77 [00:16<00:00,  4.59it/s]\n"
     ]
    }
   ],
   "source": [
    "\n",
    "human_ppi = pd.read_csv(\"../Data/data_STRING/exp.edges\", sep=\" \")\n",
    "#human PPI connections with respective identificative index\n",
    "human_nodes = pd.read_csv(\"../Data/data_STRING/exp.nodes\", sep=\" \")\n",
    "\n",
    "human_g = gt.Graph(directed=False)\n",
    "human_g.add_edge_list(human_ppi.values)\n",
    "\n",
    "human_map = dict(zip(human_nodes[\"Prot\"], human_nodes[\"ID\"]))\n",
    "edge_mapper = dict(zip(human_nodes[\"ID\"],human_nodes[\"Prot\"]))\n",
    "\n",
    "for i in tqdm(range(len(dirlist))):\n",
    "    vir_prot = np.loadtxt(\"../Data/data_STRING/STRING_to_VIRPROT/\"+dirlist[i]+\"/type1_bio.txt\", dtype=str).tolist()\n",
    "    if vir_prot!=[]:\n",
    "        first_neigh_nodes_rep = []\n",
    "        if isinstance(vir_prot,str):\n",
    "            vir_prot=[vir_prot]\n",
    "        virus_targeted_proteins = itemgetter(*np.array(vir_prot)[np.isin(vir_prot, human_nodes[\"Prot\"])])(human_map)\n",
    "        if isinstance(virus_targeted_proteins,int):\n",
    "            virus_targeted_proteins=[virus_targeted_proteins]\n",
    "        for vi in virus_targeted_proteins:\n",
    "            first_neigh_nodes_rep.append(human_g.get_all_neighbors(vi))\n",
    "        first_neigh_nodes=np.unique(np.concatenate([virus_targeted_proteins,np.concatenate([virus_targeted_proteins, np.concatenate(first_neigh_nodes_rep)])]))\n",
    "\n",
    "        # create edge property\n",
    "        neighbors_mask = np.isin(np.arange(len(human_nodes)), first_neigh_nodes)\n",
    "\n",
    "        # create vertex property map to remeber which node corresponds to which protein\n",
    "        labels = human_g.new_vertex_property(\"int\", np.arange(len(human_nodes)))\n",
    "        human_g.vertex_properties[\"labels\"]=labels\n",
    "\n",
    "        # create a view of a graph and hide all the vertices not in the mask\n",
    "        gw = gt.GraphView(human_g, vfilt=neighbors_mask)\n",
    "        # then create a new graph in which the hidden nodes are pruned\n",
    "        gf = gt.Graph(gw, prune=True)\n",
    "        #by doing these you can retrive the original names\n",
    "        original_index_nodes = gf.vp[\"labels\"].get_array()\n",
    "        #np.savetxt(\"../Data/data_STRING/coexpr_vir/nonco/\"+dirlist[i]+\"/nodes.txt\")\n",
    "        edge_df = pd.DataFrame(gf.get_edges())\n",
    "        edge_df[\"source\"]=edge_df[0].map(edge_mapper)\n",
    "        edge_df[\"target\"]=edge_df[1].map(edge_mapper)\n",
    "        edge_df[[\"source\",\"target\"]].to_csv(\"../Data/data_STRING/exp_vir/nonco/\"+dirlist[i]+\"/edges.csv\", index=False)"
   ]
  }
 ],
 "metadata": {
  "kernelspec": {
   "display_name": "base",
   "language": "python",
   "name": "base"
  },
  "language_info": {
   "codemirror_mode": {
    "name": "ipython",
    "version": 3
   },
   "file_extension": ".py",
   "mimetype": "text/x-python",
   "name": "python",
   "nbconvert_exporter": "python",
   "pygments_lexer": "ipython3",
   "version": "3.10.9"
  }
 },
 "nbformat": 4,
 "nbformat_minor": 5
}
