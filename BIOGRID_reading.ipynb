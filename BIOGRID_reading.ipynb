{
 "cells": [
  {
   "cell_type": "code",
   "execution_count": 1,
   "metadata": {
    "tags": []
   },
   "outputs": [],
   "source": [
    "import numpy as np \n",
    "import pandas as pd\n",
    "import os\n",
    "from tqdm import tqdm\n",
    "import graph_tool as gt\n",
    "import scipy as sp"
   ]
  },
  {
   "cell_type": "markdown",
   "metadata": {},
   "source": [
    "In BIOGRID_data/VIRUS_from_BIOGRID I have all the viruses interaction data downloaded from BIOGRID. With this script I wanto to create a list of file in which from each of this files, I exctract the human proteins directly targeted by the viruses and unifrom the nomenclature with the NCBI one.\n",
    "I will save all this file in the BIOGRID_to_VIRPROT."
   ]
  },
  {
   "cell_type": "markdown",
   "metadata": {},
   "source": [
    "# From BIOGRID interaction file for human viruses, exctract list of human proteins directly targeted by the viruses"
   ]
  },
  {
   "cell_type": "code",
   "execution_count": 8,
   "metadata": {
    "tags": []
   },
   "outputs": [
    {
     "data": {
      "text/plain": [
       "['BIOGRID-ORGANISM-Human_papillomavirus_6b-4.4.220.mitab.txt',\n",
       " 'BIOGRID-ORGANISM-Human_papillomavirus_9-4.4.220.mitab.txt',\n",
       " 'BIOGRID-ORGANISM-Human_Herpesvirus_6B-4.4.220.mitab.txt',\n",
       " 'BIOGRID-ORGANISM-Human_Herpesvirus_5-4.4.220.mitab.txt',\n",
       " 'BIOGRID-ORGANISM-Human_papillomavirus_32-4.4.220.mitab.txt',\n",
       " 'BIOGRID-ORGANISM-Severe_acute_respiratory_syndrome_coronavirus_2-4.4.220.mitab.txt',\n",
       " 'BIOGRID-ORGANISM-Human_Immunodeficiency_Virus_2-4.4.220.mitab.txt',\n",
       " 'BIOGRID-ORGANISM-Vaccinia_Virus-4.4.220.mitab.txt',\n",
       " 'BIOGRID-ORGANISM-Human_Herpesvirus_4-4.4.220.mitab.txt',\n",
       " 'BIOGRID-ORGANISM-Severe_acute_respiratory_syndrome_coronavirus-4.4.220.mitab.txt',\n",
       " 'BIOGRID-ORGANISM-Human_Herpesvirus_2-4.4.220.mitab.txt',\n",
       " 'BIOGRID-ORGANISM-Human_Immunodeficiency_Virus_1-4.4.220.mitab.txt',\n",
       " 'BIOGRID-ORGANISM-Human_Herpesvirus_3-4.4.220.mitab.txt',\n",
       " 'BIOGRID-ORGANISM-Human_papillomavirus_10-4.4.220.mitab.txt',\n",
       " 'BIOGRID-ORGANISM-Human_papillomavirus_7-4.4.220.mitab.txt',\n",
       " 'BIOGRID-ORGANISM-Human_Herpesvirus_1-4.4.220.mitab.txt',\n",
       " 'BIOGRID-ORGANISM-Human_papillomavirus_5-4.4.220.mitab.txt',\n",
       " 'BIOGRID-ORGANISM-Hepatitus_C_Virus-4.4.220.mitab.txt',\n",
       " 'BIOGRID-ORGANISM-Human_Herpesvirus_8-4.4.220.mitab.txt',\n",
       " 'BIOGRID-ORGANISM-Human_papillomavirus_16-4.4.220.mitab.txt',\n",
       " 'BIOGRID-ORGANISM-Human_Herpesvirus_6A-4.4.220.mitab.txt',\n",
       " 'BIOGRID-ORGANISM-Human_Herpesvirus_7-4.4.220.mitab.txt',\n",
       " 'BIOGRID-ORGANISM-Simian_Virus_40-4.4.220.mitab.txt']"
      ]
     },
     "execution_count": 8,
     "metadata": {},
     "output_type": "execute_result"
    }
   ],
   "source": [
    "dir_list = os.listdir(\"data_BIOGRID/VIRUS_from_BIOGRID\")\n",
    "dir_list"
   ]
  },
  {
   "cell_type": "code",
   "execution_count": 9,
   "metadata": {
    "tags": []
   },
   "outputs": [
    {
     "name": "stderr",
     "output_type": "stream",
     "text": [
      "100%|███████████████████████████████████████████| 23/23 [03:51<00:00, 10.07s/it]\n"
     ]
    }
   ],
   "source": [
    "\n",
    "for vn in tqdm(dir_list):\n",
    "    #load all the annotations on interactions between virus and human\n",
    "    if not os.path.isdir(\"data_BIOGRID/BIOGRID_to_VIRPROT/\"+vn[17:-18]):\n",
    "        os.mkdir(\"data_BIOGRID/BIOGRID_to_VIRPROT/\"+vn[17:-18])\n",
    "    \n",
    "    virus_ppi_all = pd.read_csv(\"data_BIOGRID/VIRUS_from_BIOGRID/\"+vn, sep=\"\\t\")\n",
    "\n",
    "    #create processed edge list\n",
    "    virus_ppi = pd.DataFrame()\n",
    "    virus_ppi[\"source\"] = [virus_ppi_all.iloc[i,2].split(\"|\")[1][22:] for i in range(len(virus_ppi_all))]\n",
    "    virus_ppi[\"target\"] = [virus_ppi_all.iloc[i,3].split(\"|\")[1][22:] for i in range(len(virus_ppi_all))]\n",
    "    virus_ppi[\"source ishum\"] = virus_ppi_all[\"Taxid Interactor A\"]==\"taxid:9606\"\n",
    "    virus_ppi[\"target ishum\"] = virus_ppi_all[\"Taxid Interactor B\"]==\"taxid:9606\"\n",
    "    virus_ppi[\"type\"] = virus_ppi_all[\"Interaction Types\"]\n",
    "\n",
    "    #select human proteins only which appear at leat once\n",
    "    human_prot_in_vir = np.unique(np.concatenate([virus_ppi[virus_ppi[\"source ishum\"]][\"source\"], virus_ppi[virus_ppi[\"target ishum\"]][\"target\"]]))\n",
    "\n",
    "    #load ncbi database\n",
    "    ncbi = pd.read_csv(\"data_BIOGRID/Homo_sapiens.gene_info\", sep=\"\\t\")\n",
    "    symbols = ncbi[\"Symbol\"]\n",
    "    synonyms = [ncbi[\"Synonyms\"][i].split(\"|\") for i in range(len(ncbi))]\n",
    "    unique_synonims = np.unique(np.concatenate(synonyms))\n",
    "\n",
    "    #select proteins that are in ncbi index, and check if the others are related to some synonim, if true, pick the standard name\n",
    "    ncbi_prots = human_prot_in_vir[np.isin(human_prot_in_vir, symbols)]\n",
    "    not_ncbi_prots = human_prot_in_vir[np.logical_not(np.isin(human_prot_in_vir, symbols))]\n",
    "    but_synon = np.isin(human_prot_in_vir[np.logical_not(np.isin(human_prot_in_vir, symbols))], unique_synonims)\n",
    "\n",
    "    new_names = []\n",
    "    for i in range(len(not_ncbi_prots)):\n",
    "        if but_synon[i]:\n",
    "            new_names.append(symbols[([not_ncbi_prots[i] in s for s in synonyms])].values[0])\n",
    "\n",
    "    def_names = np.concatenate([ncbi_prots, new_names])\n",
    "    np.savetxt(X=def_names, fname = \"data_BIOGRID/BIOGRID_to_VIRPROT/\"+vn[17:-18]+\"/nodes.txt\", fmt=\"%s\")"
   ]
  },
  {
   "cell_type": "markdown",
   "metadata": {},
   "source": [
    "# Take data from the Covid19 project of BIOGRID, in which I have PPI for Sars-Cov, Sars-Cov2, MERS"
   ]
  },
  {
   "cell_type": "code",
   "execution_count": 196,
   "metadata": {},
   "outputs": [
    {
     "data": {
      "text/plain": [
       "Index(['#BIOGRID ID', 'ENTREZ GENE ID', 'SYSTEMATIC NAME', 'OFFICIAL SYMBOL',\n",
       "       'SYNONYMS', 'ORGANISM ID', 'ORGANISM NAME', 'INTERACTION COUNT',\n",
       "       'PTM COUNT', 'CHEMICAL INTERACTION COUNT', 'SOURCE', 'VIRUS VALUES',\n",
       "       'VIRUS IDS', 'VIRUS TAGS', 'VIRUS EVIDENCE VALUES',\n",
       "       'VIRUS EVIDENCE IDS', 'VIRUS EVIDENCE CLASSES',\n",
       "       'VIRUS EVIDENCE METHODS'],\n",
       "      dtype='object')"
      ]
     },
     "execution_count": 196,
     "metadata": {},
     "output_type": "execute_result"
    }
   ],
   "source": [
    "nodes_covid = pd.read_csv(\"data_BIOGRID/Covid_project/BIOGRID-PROJECT-covid19_coronavirus_project-GENES-4.4.220.projectindex.txt\", sep=\"\\t\")\n",
    "nodes_covid.columns"
   ]
  },
  {
   "cell_type": "code",
   "execution_count": 197,
   "metadata": {},
   "outputs": [
    {
     "data": {
      "text/plain": [
       "Index(['#BioGRID Interaction ID', 'Entrez Gene Interactor A',\n",
       "       'Entrez Gene Interactor B', 'BioGRID ID Interactor A',\n",
       "       'BioGRID ID Interactor B', 'Systematic Name Interactor A',\n",
       "       'Systematic Name Interactor B', 'Official Symbol Interactor A',\n",
       "       'Official Symbol Interactor B', 'Synonyms Interactor A',\n",
       "       'Synonyms Interactor B', 'Experimental System',\n",
       "       'Experimental System Type', 'Author', 'Publication Source',\n",
       "       'Organism ID Interactor A', 'Organism ID Interactor B', 'Throughput',\n",
       "       'Score', 'Modification', 'Qualifications', 'Tags', 'Source Database',\n",
       "       'SWISS-PROT Accessions Interactor A', 'TREMBL Accessions Interactor A',\n",
       "       'REFSEQ Accessions Interactor A', 'SWISS-PROT Accessions Interactor B',\n",
       "       'TREMBL Accessions Interactor B', 'REFSEQ Accessions Interactor B',\n",
       "       'Ontology Term IDs', 'Ontology Term Names', 'Ontology Term Categories',\n",
       "       'Ontology Term Qualifier IDs', 'Ontology Term Qualifier Names',\n",
       "       'Ontology Term Types', 'Organism Name Interactor A',\n",
       "       'Organism Name Interactor B'],\n",
       "      dtype='object')"
      ]
     },
     "execution_count": 197,
     "metadata": {},
     "output_type": "execute_result"
    }
   ],
   "source": [
    "interactions_covid = pd.read_csv(\"data_BIOGRID/Covid_project/BIOGRID-PROJECT-covid19_coronavirus_project-INTERACTIONS-4.4.220.tab3.txt\", sep=\"\\t\")\n",
    "interactions_covid.columns"
   ]
  },
  {
   "cell_type": "code",
   "execution_count": 32,
   "metadata": {},
   "outputs": [],
   "source": [
    "interactions_sarscov2 = interactions_covid[(interactions_covid[\"Organism ID Interactor A\"]==2697049)|(interactions_covid[\"Organism ID Interactor B\"]==2697049)]\n",
    "interactions_sarscov = interactions_covid[(interactions_covid[\"Organism ID Interactor A\"]==694009)|(interactions_covid[\"Organism ID Interactor B\"]==694009)]\n",
    "interactions_mers = interactions_covid[(interactions_covid[\"Organism ID Interactor A\"]==1335626)|(interactions_covid[\"Organism ID Interactor B\"]==1335626)]"
   ]
  },
  {
   "cell_type": "code",
   "execution_count": 200,
   "metadata": {},
   "outputs": [],
   "source": [
    "virus_ppi.to_csv(\"data_BIOGRID/Covid_project/sarscov2net.txt\", sep=\" \", index=False)"
   ]
  },
  {
   "cell_type": "code",
   "execution_count": 198,
   "metadata": {},
   "outputs": [],
   "source": [
    "#do the same things for sarscov2, sarscov and mers\n",
    "\n",
    "virus_ppi = pd.DataFrame()\n",
    "virus_ppi[\"source\"] = interactions_sarscov2[\"Official Symbol Interactor A\"]\n",
    "virus_ppi[\"target\"] = interactions_sarscov2[\"Official Symbol Interactor B\"]\n",
    "virus_ppi[\"source ishum\"] = interactions_sarscov2[\"Organism ID Interactor A\"]==9606\n",
    "virus_ppi[\"target ishum\"] = interactions_sarscov2[\"Organism ID Interactor B\"]==9606\n",
    "\n",
    "#select human proteins only which appear at leat once\n",
    "human_prot_in_vir = np.unique(np.concatenate([virus_ppi[virus_ppi[\"source ishum\"]][\"source\"], virus_ppi[virus_ppi[\"target ishum\"]][\"target\"]]))\n",
    "\n",
    "#load ncbi database\n",
    "ncbi = pd.read_csv(\"data_BIOGRID/Homo_sapiens.gene_info\", sep=\"\\t\")\n",
    "symbols = ncbi[\"Symbol\"]\n",
    "synonyms = [ncbi[\"Synonyms\"][i].split(\"|\") for i in range(len(ncbi))]\n",
    "unique_synonims = np.unique(np.concatenate(synonyms))\n",
    "\n",
    "#select proteins that are in ncbi index, and check if the others are related to some synonim, if true, pick the standard name\n",
    "ncbi_prots = human_prot_in_vir[np.isin(human_prot_in_vir, symbols)]\n",
    "not_ncbi_prots = human_prot_in_vir[np.logical_not(np.isin(human_prot_in_vir, symbols))]\n",
    "but_synon = np.isin(human_prot_in_vir[np.logical_not(np.isin(human_prot_in_vir, symbols))], unique_synonims)\n",
    "\n",
    "new_names = []\n",
    "for i in range(len(not_ncbi_prots)):\n",
    "    if but_synon[i]:\n",
    "        new_names.append(symbols[([not_ncbi_prots[i] in s for s in synonyms])].values[0])\n",
    "\n",
    "def_names = np.concatenate([ncbi_prots, new_names])\n",
    "#np.savetxt(X=def_names, fname=\"BIOGRID_data/Covid_project/mers_humanprots.txt\", fmt=\"%s\")"
   ]
  },
  {
   "cell_type": "markdown",
   "metadata": {},
   "source": [
    "# Create human PPI from data in BIOGRID"
   ]
  },
  {
   "cell_type": "code",
   "execution_count": 57,
   "metadata": {},
   "outputs": [],
   "source": [
    "human_ppi_all = pd.read_csv(\"Files/BIOGRID-ORGANISM-Homo_sapiens-4.4.220.mitab.txt\", sep=\"\\t\")"
   ]
  },
  {
   "cell_type": "code",
   "execution_count": 65,
   "metadata": {},
   "outputs": [
    {
     "data": {
      "text/plain": [
       "psi-mi:\"MI:0004\"(affinity chromatography technology)       719963\n",
       "psi-mi:\"MI:1313\"(bioid)                                    144978\n",
       "psi-mi:\"MI:0018\"(two hybrid)                               117747\n",
       "psi-mi:\"MI:0401\"(biochemical)                               72858\n",
       "psi-mi:\"MI:0096\"(pull down)                                 42338\n",
       "psi-mi:\"MI:0254\"(genetic interference)                      16776\n",
       "psi-mi:\"MI:0415\"(enzymatic study)                           14266\n",
       "psi-mi:\"MI:0686\"(unspecified method)                        10737\n",
       "psi-mi:\"MI:0428\"(imaging technique)                          4648\n",
       "psi-mi:\"MI:0055\"(fluorescent resonance energy transfer)      2316\n",
       "psi-mi:\"MI:0114\"(x-ray crystallography)                      2119\n",
       "psi-mi:\"MI:0090\"(protein complementation assay)              1751\n",
       "psi-mi:\"MI:0047\"(far western blotting)                        872\n",
       "Name: Interaction Detection Method, dtype: int64"
      ]
     },
     "execution_count": 65,
     "metadata": {},
     "output_type": "execute_result"
    }
   ],
   "source": [
    "human_ppi_all[\"Interaction Detection Method\"].value_counts()"
   ]
  },
  {
   "cell_type": "code",
   "execution_count": 110,
   "metadata": {},
   "outputs": [],
   "source": [
    "human_ppi = pd.DataFrame()\n",
    "#take gene IDs\n",
    "human_ppi[\"source\"] = [human_ppi_all.iloc[i,0][22:] for i in range(len(human_ppi_all))]\n",
    "human_ppi[\"target\"] = [human_ppi_all.iloc[i,1][22:] for i in range(len(human_ppi_all))]\n",
    "\n",
    "#take only values for which the gene ID is a number\n",
    "human_ppi = human_ppi[human_ppi[\"source\"].map(lambda x: x.isnumeric()) & human_ppi[\"target\"].map(lambda x: x.isnumeric())]\n",
    "human_ppi = human_ppi.astype(int)"
   ]
  },
  {
   "cell_type": "code",
   "execution_count": 141,
   "metadata": {},
   "outputs": [],
   "source": [
    "hnodes = np.unique(np.concatenate([human_ppi[\"source\"], human_ppi[\"target\"]]))\n",
    "\n",
    "#check if there are the same connections but with source and target switched to see if links are directed\n",
    "hm = np.isin([str(h[0])+str(h[1]) for h in human_ppi.to_numpy()[:,[1,0]]], [h[0]+h[1] for h in human_ppi.to_numpy()])\n",
    "hm.sum() < len(hm)"
   ]
  },
  {
   "cell_type": "code",
   "execution_count": 154,
   "metadata": {},
   "outputs": [],
   "source": [
    "#map gene ID to the index which will be used in the graph\n",
    "nodeMap = dict(zip(hnodes, np.arange(len(hnodes))))"
   ]
  },
  {
   "cell_type": "code",
   "execution_count": 83,
   "metadata": {},
   "outputs": [],
   "source": [
    "human_g = gt.Graph(directed=True)\n",
    "human_net = human_ppi\n",
    "human_net[\"target\"] =human_net[\"target\"].map(lambda x: nodeMap[x])\n",
    "human_net[\"source\"] =human_net[\"source\"].map(lambda x: nodeMap[x])\n",
    "human_g.add_edge_list(human_net.values)\n",
    "nm = human_g.new_vertex_property(\"int\", np.array(list(nodeMap.keys())))\n",
    "human_g.vp[\"nodemap\"] = nm"
   ]
  },
  {
   "cell_type": "code",
   "execution_count": 227,
   "metadata": {},
   "outputs": [
    {
     "data": {
      "text/plain": [
       "<Graph object, directed, with 27887 vertices and 1148242 edges, 1 internal vertex property, at 0x7f3a4d292860>"
      ]
     },
     "execution_count": 227,
     "metadata": {},
     "output_type": "execute_result"
    }
   ],
   "source": [
    "human_g"
   ]
  },
  {
   "cell_type": "markdown",
   "metadata": {},
   "source": [
    "# Form the node and edges files I created, create new one with only proteins in NCBI"
   ]
  },
  {
   "cell_type": "code",
   "execution_count": 4,
   "metadata": {
    "tags": []
   },
   "outputs": [],
   "source": [
    "ncbi = pd.read_csv(\"data_BIOGRID/Homo_sapiens.gene_info\", sep=\"\\t\")\n",
    "symbols = ncbi[\"Symbol\"]\n",
    "synonyms = [ncbi[\"Synonyms\"][i].split(\"|\") for i in range(len(ncbi))]\n",
    "unique_synonims = np.unique(np.concatenate(synonyms))"
   ]
  },
  {
   "cell_type": "code",
   "execution_count": 15,
   "metadata": {
    "tags": []
   },
   "outputs": [],
   "source": [
    "not_ncbi = np.where(np.logical_not(np.isin(human_nodes[\"nodeSymbol\"], symbols)))[0]"
   ]
  },
  {
   "cell_type": "code",
   "execution_count": 22,
   "metadata": {
    "tags": []
   },
   "outputs": [],
   "source": [
    "isnotin_syn = np.where(np.logical_not(np.isin(human_nodes[\"nodeSymbol\"][not_ncbi], unique_synonims)))[0]\n",
    "isin_syn = np.where(np.isin(human_nodes[\"nodeSymbol\"][not_ncbi], unique_synonims))[0]"
   ]
  },
  {
   "cell_type": "code",
   "execution_count": 24,
   "metadata": {
    "tags": []
   },
   "outputs": [
    {
     "name": "stderr",
     "output_type": "stream",
     "text": [
      "100%|███████████████████████████████████████| 1201/1201 [00:22<00:00, 52.59it/s]\n"
     ]
    }
   ],
   "source": [
    "new_names = []\n",
    "for n in tqdm(human_nodes[\"nodeSymbol\"][not_ncbi[isin_syn]]):\n",
    "    new_names.append(symbols[([n in s for s in synonyms])].values[0])"
   ]
  },
  {
   "cell_type": "code",
   "execution_count": 39,
   "metadata": {
    "tags": []
   },
   "outputs": [],
   "source": [
    "human_nodes_symb = human_nodes[\"nodeSymbol\"].to_numpy()\n",
    "human_nodes_label = human_nodes[\"nodeLabel\"].to_numpy()"
   ]
  },
  {
   "cell_type": "code",
   "execution_count": 40,
   "metadata": {
    "tags": []
   },
   "outputs": [],
   "source": [
    "human_nodes_symb[not_ncbi[isin_syn]] = new_names"
   ]
  },
  {
   "cell_type": "code",
   "execution_count": 41,
   "metadata": {
    "tags": []
   },
   "outputs": [],
   "source": [
    "human_nodes_symb = np.delete(human_nodes_symb, not_ncbi[isnotin_syn])\n",
    "human_nodes_label = np.delete(human_nodes_label, not_ncbi[isnotin_syn])"
   ]
  },
  {
   "cell_type": "code",
   "execution_count": 43,
   "metadata": {
    "tags": []
   },
   "outputs": [],
   "source": [
    "pd.DataFrame({\"nodeSymbol\": human_nodes_symb, \"nodeCode\": human_nodes_label}).to_csv(\"data_BIOGRID/BIOGRID_homo_sapiens_ncbi.nodes\")"
   ]
  },
  {
   "cell_type": "code",
   "execution_count": 78,
   "metadata": {
    "tags": []
   },
   "outputs": [],
   "source": [
    "map_node_dict = dict(zip(np.delete(np.arange(len(human_nodes)), not_ncbi[isnotin_syn]), np.arange(len(human_nodes_symb))))"
   ]
  },
  {
   "cell_type": "code",
   "execution_count": 112,
   "metadata": {
    "tags": []
   },
   "outputs": [],
   "source": [
    "pul_ppi = human_ppi[np.logical_not(human_ppi[\"source\"].isin(not_ncbi[isnotin_syn]))]\n",
    "pul_ppi = pul_ppi[np.logical_not(pul_ppi[\"target\"].isin(not_ncbi[isnotin_syn]))]"
   ]
  },
  {
   "cell_type": "code",
   "execution_count": 125,
   "metadata": {
    "tags": []
   },
   "outputs": [],
   "source": [
    "pul_ppi_new = pd.DataFrame()\n",
    "pul_ppi_new[\"source\"]= pul_ppi[\"source\"].map(map_node_dict)\n",
    "pul_ppi_new[\"target\"]= pul_ppi[\"target\"].map(map_node_dict)"
   ]
  },
  {
   "cell_type": "code",
   "execution_count": 127,
   "metadata": {
    "tags": []
   },
   "outputs": [],
   "source": [
    "pul_ppi_new.to_csv(\"data_BIOGRID/BIOGRID_homo_sapiens_ncbi.edges\")"
   ]
  }
 ],
 "metadata": {
  "kernelspec": {
   "display_name": "Python 3 (ipykernel)",
   "language": "python",
   "name": "python3"
  },
  "language_info": {
   "codemirror_mode": {
    "name": "ipython",
    "version": 3
   },
   "file_extension": ".py",
   "mimetype": "text/x-python",
   "name": "python",
   "nbconvert_exporter": "python",
   "pygments_lexer": "ipython3",
   "version": "3.10.9"
  }
 },
 "nbformat": 4,
 "nbformat_minor": 4
}
