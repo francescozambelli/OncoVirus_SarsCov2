{
 "cells": [
  {
   "cell_type": "code",
   "execution_count": 3,
   "id": "b127f072-a4e4-420e-9015-303dcbd6ec89",
   "metadata": {
    "tags": []
   },
   "outputs": [],
   "source": [
    "import numpy as np\n",
    "import networkx as nx\n",
    "import matplotlib.pyplot as plt\n",
    "import seaborn as sns\n",
    "import scipy as sp\n",
    "import pandas as pd\n",
    "import graph_tool as gt\n",
    "from tqdm import tqdm\n",
    "from operator import itemgetter\n",
    "from functools import reduce\n",
    "import itertools\n",
    "import os\n",
    "#from pymnet import *\n",
    "\n",
    "import MuxVizPy as mxp\n",
    "\n",
    "import gseapy"
   ]
  },
  {
   "cell_type": "code",
   "execution_count": 59,
   "id": "3f2b45d2-045a-4255-9fd3-165e91dec8e6",
   "metadata": {
    "tags": []
   },
   "outputs": [],
   "source": [
    "folder = \"Virus_data_Enriched_0.7_Neigh_0/\"\n",
    "files = np.array(os.listdir(folder))\n",
    "files = files[np.logical_not([\".txt\" in f for f in files])]\n",
    "files = files[[not files[i].startswith(\".\") for i in range(len(files))]]"
   ]
  },
  {
   "cell_type": "code",
   "execution_count": 63,
   "id": "2b529ba8-2c87-48d3-a2a5-9bc6cbbd9e30",
   "metadata": {
    "tags": []
   },
   "outputs": [
    {
     "name": "stdout",
     "output_type": "stream",
     "text": [
      "8\n",
      "2\n",
      "1\n",
      "1\n",
      "21\n",
      "1\n",
      "12\n",
      "21\n",
      "11\n",
      "79\n",
      "5\n",
      "91\n",
      "9\n",
      "3\n",
      "1\n",
      "6\n",
      "52\n",
      "3\n",
      "7\n",
      "2\n",
      "2\n",
      "4\n",
      "60\n",
      "16\n",
      "1\n",
      "1\n",
      "15\n",
      "57\n",
      "43\n",
      "21\n",
      "1\n",
      "6\n",
      "1\n",
      "40\n",
      "1\n",
      "1\n",
      "5\n",
      "22\n",
      "1\n",
      "2\n",
      "1\n",
      "7\n",
      "10\n",
      "6\n",
      "7\n",
      "1\n",
      "1\n",
      "6\n",
      "1\n",
      "1\n",
      "2\n",
      "2\n",
      "6\n",
      "33\n",
      "124\n",
      "137\n",
      "4\n",
      "2\n",
      "10\n",
      "5\n",
      "330\n",
      "26\n",
      "8\n",
      "3\n",
      "97\n",
      "18\n",
      "24\n",
      "3\n",
      "4\n",
      "1\n",
      "2\n",
      "1\n",
      "1\n",
      "4\n",
      "9\n",
      "3\n",
      "1\n",
      "36\n",
      "2\n",
      "1\n"
     ]
    }
   ],
   "source": [
    "for i in range(len(files)):\n",
    "    node1 = np.loadtxt(folder+files[i]+\"/type1nodes.txt\", dtype=str)\n",
    "    print(node1.size)"
   ]
  },
  {
   "cell_type": "code",
   "execution_count": null,
   "id": "cc8b981e-dc4c-4025-a1ff-e206beb56482",
   "metadata": {},
   "outputs": [],
   "source": [
    "\n"
   ]
  }
 ],
 "metadata": {
  "kernelspec": {
   "display_name": "base",
   "language": "python",
   "name": "base"
  },
  "language_info": {
   "codemirror_mode": {
    "name": "ipython",
    "version": 3
   },
   "file_extension": ".py",
   "mimetype": "text/x-python",
   "name": "python",
   "nbconvert_exporter": "python",
   "pygments_lexer": "ipython3",
   "version": "3.10.9"
  }
 },
 "nbformat": 4,
 "nbformat_minor": 5
}
