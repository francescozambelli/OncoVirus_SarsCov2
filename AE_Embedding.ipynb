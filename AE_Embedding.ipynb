{
 "cells": [
  {
   "cell_type": "code",
   "execution_count": 1,
   "id": "4e7d177e-ba95-4b20-ba7f-68e19a0f637d",
   "metadata": {
    "tags": []
   },
   "outputs": [],
   "source": [
    "import sys\n",
    "sys.path.append('..')\n",
    "\n",
    "import numpy as np\n",
    "from sklearn.ensemble import RandomForestClassifier\n",
    "from sklearn.metrics import f1_score, accuracy_score, confusion_matrix\n",
    "from sklearn.model_selection import train_test_split\n",
    "from sklearn.decomposition import PCA\n",
    "from scipy.stats import gaussian_kde\n",
    "import pandas as pd\n",
    "import seaborn as sns\n",
    "import matplotlib.pyplot as plt\n",
    "from operator import itemgetter\n",
    "import os\n",
    "import graph_tool as gt\n",
    "\n",
    "import MuxVizPy as mxp\n",
    "\n",
    "from __future__ import print_function, division\n",
    "\n",
    "import torch\n",
    "import torch.nn as nn\n",
    "import torch.nn.functional as F\n",
    "import torch.optim as optim\n",
    "from torch.utils.data import Dataset, DataLoader, random_split\n",
    "\n",
    "from torchsummary import summary\n",
    "\n",
    "import torchbearer\n",
    "from torchbearer import Trial, metrics, Metric\n",
    "from torchbearer.callbacks import Best, ModelCheckpoint\n",
    "\n",
    "import optuna\n",
    "from optuna.samplers import TPESampler, RandomSampler\n",
    "\n",
    "import ipywidgets\n",
    "from tqdm import tqdm\n",
    "\n",
    "import gseapy as gp"
   ]
  },
  {
   "cell_type": "code",
   "execution_count": 2,
   "id": "7ef6e0c6-1458-4994-96a8-1fbe684d9a28",
   "metadata": {
    "tags": []
   },
   "outputs": [],
   "source": [
    "class RandomNetworksDataset(Dataset):\n",
    "    \"\"\"Apples Dataset\"\"\"\n",
    "\n",
    "    def __init__(self, D_len=6000, rand_seed=1234):\n",
    "        \"\"\"\n",
    "        Args:\n",
    "        \"\"\"\n",
    "        self.rand_seed = rand_seed\n",
    "        np.random.seed(rand_seed)\n",
    "        #human PPI edges\n",
    "        self.human_ppi = pd.read_csv(\"../Data/data_STRING/coexpr.edges\", sep=\" \")\n",
    "        #human PPI connections with respective identificative index\n",
    "        self.human_nodes = pd.read_csv(\"../Data/data_STRING/coexpr.nodes\", sep=\" \")\n",
    "        \n",
    "        self.human_g = gt.Graph(directed=False)\n",
    "        self.human_g.add_edge_list(self.human_ppi.values)\n",
    "        \n",
    "        self.samp_len = abs(np.random.normal(30,10,D_len).astype(int))+1\n",
    "        self.dir_targ_prot = [np.random.choice(self.human_nodes[\"ID\"], N, replace=False) for N in self.samp_len]\n",
    "        \n",
    "    def __len__(self):\n",
    "        return len(self.samp_len)\n",
    "\n",
    "    def __getitem__(self, idx):\n",
    "        # find all the first nearest neighbors of the targeted proteins\n",
    "        first_neigh_nodes_rep = []\n",
    "        virus_targeted_proteins = self.dir_targ_prot[idx]\n",
    "        for vi in virus_targeted_proteins:\n",
    "            first_neigh_nodes_rep.append(self.human_g.get_all_neighbors(vi))\n",
    "        first_neigh_nodes=np.unique(np.concatenate([virus_targeted_proteins, np.concatenate(first_neigh_nodes_rep)]))\n",
    "\n",
    "        # create edge property\n",
    "        eprop = self.human_g.new_edge_property(\"bool\")\n",
    "        eprop.a = np.any([np.isin(self.human_g.get_edges()[:,0], first_neigh_nodes),np.isin(self.human_g.get_edges()[:,1], first_neigh_nodes)], axis=0)\n",
    "\n",
    "        # create a view of a graph and hide all the vertices not in the mask\n",
    "        gw = gt.GraphView(self.human_g, efilt=eprop)\n",
    "        # then create a new graph in which the hidden nodes are pruned\n",
    "        gf = gt.Graph(gw, prune=True)\n",
    "        \n",
    "        return [torch.from_numpy(gt.spectral.adjacency(gf).toarray()).type(torch.FloatTensor).unsqueeze(0),\n",
    "                torch.from_numpy(gt.spectral.adjacency(gf).toarray()).type(torch.FloatTensor).unsqueeze(0)]\n",
    "        "
   ]
  },
  {
   "cell_type": "code",
   "execution_count": 3,
   "id": "c86f89cf-b057-459b-b54d-f6790613f531",
   "metadata": {
    "tags": []
   },
   "outputs": [],
   "source": [
    "import torch.nn as nn\n",
    "\n",
    "class Autoencoder(nn.Module):\n",
    "    def __init__(self, latent_dim=20, nonlin=nn.ReLU()):\n",
    "        super().__init__()\n",
    "\n",
    "        self.latent_dim = latent_dim\n",
    "\n",
    "        self.encoder = nn.Sequential(\n",
    "            nn.Conv2d(in_channels=1, out_channels=5, kernel_size=20, stride=10),\n",
    "            nn.BatchNorm2d(num_features=5),\n",
    "            nonlin,\n",
    "            nn.Conv2d(in_channels=5, out_channels=7, kernel_size=10, stride=5),\n",
    "            nn.BatchNorm2d(num_features=7),\n",
    "            nonlin,\n",
    "            #nn.MaxPool2d(kernel_size=10,stride=8),\n",
    "            nn.Conv2d(in_channels=7, out_channels=10, kernel_size=5, stride=3),\n",
    "            nn.BatchNorm2d(num_features=10),\n",
    "            nonlin,\n",
    "            #nn.MaxPool2d(kernel_size=5,stride=3),\n",
    "            nn.Flatten(),\n",
    "            nn.Linear(in_features=7840, out_features=self.latent_dim)\n",
    "        )\n",
    "\n",
    "        self.decoder = nn.Sequential(\n",
    "            nn.Linear(in_features=self.latent_dim, out_features=7840),\n",
    "            nonlin,\n",
    "            nn.Unflatten(dim=1, unflattened_size=(10, 28, 28)),\n",
    "            nn.ConvTranspose2d(in_channels=10, out_channels=7, kernel_size=5, stride=3, output_padding=2),\n",
    "            nonlin,\n",
    "            nn.ConvTranspose2d(in_channels=7, out_channels=5, kernel_size=10, stride=5, output_padding=3),\n",
    "            nonlin,\n",
    "            nn.ConvTranspose2d(in_channels=5, out_channels=1, kernel_size=20, stride=10, output_padding=9),\n",
    "            nonlin,\n",
    "        )\n",
    "\n",
    "    def forward(self, x):\n",
    "        z = self.encoder(x)\n",
    "        x_out = self.decoder(z)\n",
    "        return x_out"
   ]
  },
  {
   "cell_type": "code",
   "execution_count": 4,
   "id": "b281fc97-614d-4fb6-bb2e-4746b70a6f5f",
   "metadata": {
    "tags": []
   },
   "outputs": [],
   "source": [
    "model = Autoencoder()"
   ]
  },
  {
   "cell_type": "code",
   "execution_count": 5,
   "id": "93fe2de2-17b0-46bf-a0e7-3be64ff16183",
   "metadata": {
    "tags": []
   },
   "outputs": [
    {
     "name": "stdout",
     "output_type": "stream",
     "text": [
      "=================================================================\n",
      "Layer (type:depth-idx)                   Param #\n",
      "=================================================================\n",
      "├─Sequential: 1-1                        --\n",
      "|    └─Conv2d: 2-1                       2,005\n",
      "|    └─BatchNorm2d: 2-2                  10\n",
      "|    └─ReLU: 2-3                         --\n",
      "|    └─Conv2d: 2-4                       3,507\n",
      "|    └─BatchNorm2d: 2-5                  14\n",
      "|    └─Conv2d: 2-6                       1,760\n",
      "|    └─BatchNorm2d: 2-7                  20\n",
      "|    └─Flatten: 2-8                      --\n",
      "|    └─Linear: 2-9                       156,820\n",
      "├─Sequential: 1-2                        --\n",
      "|    └─Linear: 2-10                      164,640\n",
      "|    └─ReLU: 2-11                        --\n",
      "|    └─Unflatten: 2-12                   --\n",
      "|    └─ConvTranspose2d: 2-13             1,757\n",
      "|    └─ConvTranspose2d: 2-14             3,505\n",
      "|    └─ConvTranspose2d: 2-15             2,001\n",
      "=================================================================\n",
      "Total params: 336,039\n",
      "Trainable params: 336,039\n",
      "Non-trainable params: 0\n",
      "=================================================================\n"
     ]
    },
    {
     "data": {
      "text/plain": [
       "=================================================================\n",
       "Layer (type:depth-idx)                   Param #\n",
       "=================================================================\n",
       "├─Sequential: 1-1                        --\n",
       "|    └─Conv2d: 2-1                       2,005\n",
       "|    └─BatchNorm2d: 2-2                  10\n",
       "|    └─ReLU: 2-3                         --\n",
       "|    └─Conv2d: 2-4                       3,507\n",
       "|    └─BatchNorm2d: 2-5                  14\n",
       "|    └─Conv2d: 2-6                       1,760\n",
       "|    └─BatchNorm2d: 2-7                  20\n",
       "|    └─Flatten: 2-8                      --\n",
       "|    └─Linear: 2-9                       156,820\n",
       "├─Sequential: 1-2                        --\n",
       "|    └─Linear: 2-10                      164,640\n",
       "|    └─ReLU: 2-11                        --\n",
       "|    └─Unflatten: 2-12                   --\n",
       "|    └─ConvTranspose2d: 2-13             1,757\n",
       "|    └─ConvTranspose2d: 2-14             3,505\n",
       "|    └─ConvTranspose2d: 2-15             2,001\n",
       "=================================================================\n",
       "Total params: 336,039\n",
       "Trainable params: 336,039\n",
       "Non-trainable params: 0\n",
       "================================================================="
      ]
     },
     "execution_count": 5,
     "metadata": {},
     "output_type": "execute_result"
    }
   ],
   "source": [
    "summary(model)"
   ]
  },
  {
   "cell_type": "code",
   "execution_count": 6,
   "id": "eaffdbab-80df-4237-af8a-4a8ff1ddbb44",
   "metadata": {
    "tags": []
   },
   "outputs": [],
   "source": [
    "mydat_train = RandomNetworksDataset(D_len=2000, rand_seed=252)\n",
    "mydat_val = RandomNetworksDataset(D_len=100, rand_seed=7898)\n",
    "mydat_test = RandomNetworksDataset(D_len=20, rand_seed=8891)\n",
    "\n",
    "train_dataloader = DataLoader(mydat_train, batch_size=5, shuffle=True, num_workers=0)\n",
    "val_dataloader = DataLoader(mydat_val, batch_size=2, shuffle=False, num_workers=0)\n",
    "test_dataloader = DataLoader(mydat_test, batch_size=2, shuffle=False, num_workers=0)"
   ]
  },
  {
   "cell_type": "code",
   "execution_count": 7,
   "id": "4e6a1ba2-71cf-4255-8034-249f98c54948",
   "metadata": {
    "tags": []
   },
   "outputs": [
    {
     "data": {
      "application/vnd.jupyter.widget-view+json": {
       "model_id": "ba7926d9f13c45a6953a16daf5328755",
       "version_major": 2,
       "version_minor": 0
      },
      "text/plain": [
       "100%|##########| 3/3 [00:00<?, ?it/s]"
      ]
     },
     "metadata": {},
     "output_type": "display_data"
    }
   ],
   "source": [
    "check_last = ModelCheckpoint('checkpoints/check_last_AE_pw.pth')\n",
    "    \n",
    "trial_now = Trial(model,\n",
    "                  optim.Adam(model.parameters(), lr=5e-04), \n",
    "                  nn.BCEWithLogitsLoss(),#pos_weight=torch.Tensor([1/0.0025])),\n",
    "                  callbacks=[check_last],\n",
    "                 metrics=[\"loss\",\"accuracy\"])\n",
    "\n",
    "trial_now.with_generators(train_generator=train_dataloader, \n",
    "                          val_generator=val_dataloader, \n",
    "                          test_generator=test_dataloader)\n",
    "\n",
    "trial_now.load_state_dict(torch.load(\"checkpoints/check_last_AE_no_pw.pth\"))\n",
    "#print(\"net loaded\")\n",
    "\n",
    "my_trial_now = trial_now.run(epochs=3, verbose=1)"
   ]
  },
  {
   "cell_type": "code",
   "execution_count": 8,
   "id": "a05f4711-d225-4fdb-be96-8e64e1eb3bfe",
   "metadata": {
    "tags": []
   },
   "outputs": [
    {
     "data": {
      "text/plain": [
       "[<matplotlib.lines.Line2D at 0x7f45fa352950>]"
      ]
     },
     "execution_count": 8,
     "metadata": {},
     "output_type": "execute_result"
    },
    {
     "data": {
      "image/png": "[encoded data removed]",
      "text/plain": [
       "<Figure size 640x480 with 1 Axes>"
      ]
     },
     "metadata": {},
     "output_type": "display_data"
    }
   ],
   "source": [
    "plt.plot([mt[\"loss\"] for mt in my_trial_now], label=\"Train loss\", color=\"C0\")\n",
    "plt.plot([mt[\"val_loss\"] for mt in my_trial_now], label=\"Val loss\", color=\"navy\")"
   ]
  },
  {
   "cell_type": "code",
   "execution_count": 9,
   "id": "97be3a57-579a-458c-948b-751523f8aba4",
   "metadata": {
    "tags": []
   },
   "outputs": [
    {
     "name": "stderr",
     "output_type": "stream",
     "text": [
      "100%|█████████████████████████████████████████████| 8/8 [00:02<00:00,  3.11it/s]\n"
     ]
    }
   ],
   "source": [
    "onco_adj = []\n",
    "onco_dir = [\"../Data/data_STRING/coexpr_vir/onco/\"+v for v in os.listdir(\"../Data/data_STRING/coexpr_vir/onco/\")]\n",
    "\n",
    "for od in tqdm(onco_dir):\n",
    "    nodes = np.unique(np.concatenate([pd.read_csv(od+\"/edges.csv\")[\"source\"],pd.read_csv(od+\"/edges.csv\")[\"target\"]]))\n",
    "    \n",
    "    human_ppi = pd.read_csv(\"../Data/data_STRING/coexpr.edges\", sep=\" \")\n",
    "    #human PPI connections with respective identificative index\n",
    "    human_nodes = pd.read_csv(\"../Data/data_STRING/coexpr.nodes\", sep=\" \")\n",
    "\n",
    "    human_g = gt.Graph(directed=False)\n",
    "    human_g.add_edge_list(human_ppi.values)\n",
    "    \n",
    "    human_map = dict(zip(human_nodes['Prot'], human_nodes['ID']))\n",
    "\n",
    "    first_neigh_nodes = np.array(itemgetter(*nodes)(human_map))\n",
    "\n",
    "    # create edge property\n",
    "    eprop = human_g.new_edge_property(\"bool\")\n",
    "    eprop.a = np.any([np.isin(human_g.get_edges()[:,0], first_neigh_nodes),np.isin(human_g.get_edges()[:,1], first_neigh_nodes)], axis=0)\n",
    "\n",
    "    # create a view of a graph and hide all the vertices not in the mask\n",
    "    gw = gt.GraphView(human_g, efilt=eprop)\n",
    "    # then create a new graph in which the hidden nodes are pruned\n",
    "    gf = gt.Graph(gw, prune=True)\n",
    "\n",
    "    onco_adj.append(torch.from_numpy(gt.spectral.adjacency(gf).toarray()).type(torch.FloatTensor).unsqueeze(0))"
   ]
  },
  {
   "cell_type": "code",
   "execution_count": 10,
   "id": "523e68c1-92b7-4d4e-900a-3a976d57918d",
   "metadata": {
    "tags": []
   },
   "outputs": [
    {
     "name": "stderr",
     "output_type": "stream",
     "text": [
      "100%|███████████████████████████████████████████| 62/62 [00:09<00:00,  6.45it/s]\n"
     ]
    }
   ],
   "source": [
    "nonco_adj = []\n",
    "nonco_dir = [\"../Data/data_STRING/coexpr_vir/nonco/\"+v for v in os.listdir(\"../Data/data_STRING/coexpr_vir/nonco/\")]\n",
    "\n",
    "for od in tqdm(nonco_dir):\n",
    "    nodes = np.unique(np.concatenate([pd.read_csv(od+\"/edges.csv\")[\"source\"],pd.read_csv(od+\"/edges.csv\")[\"target\"]]))\n",
    "    if len(nodes)>0:\n",
    "        human_ppi = pd.read_csv(\"../Data/data_STRING/coexpr.edges\", sep=\" \")\n",
    "        #human PPI connections with respective identificative index\n",
    "        human_nodes = pd.read_csv(\"../Data/data_STRING/coexpr.nodes\", sep=\" \")\n",
    "\n",
    "        human_g = gt.Graph(directed=False)\n",
    "        human_g.add_edge_list(human_ppi.values)\n",
    "\n",
    "        human_map = dict(zip(human_nodes['Prot'], human_nodes['ID']))\n",
    "\n",
    "        first_neigh_nodes = np.array(itemgetter(*nodes)(human_map))\n",
    "\n",
    "        # create edge property\n",
    "        eprop = human_g.new_edge_property(\"bool\")\n",
    "        eprop.a = np.any([np.isin(human_g.get_edges()[:,0], first_neigh_nodes),np.isin(human_g.get_edges()[:,1], first_neigh_nodes)], axis=0)\n",
    "\n",
    "        # create a view of a graph and hide all the vertices not in the mask\n",
    "        gw = gt.GraphView(human_g, efilt=eprop)\n",
    "        # then create a new graph in which the hidden nodes are pruned\n",
    "        gf = gt.Graph(gw, prune=True)\n",
    "\n",
    "        nonco_adj.append(torch.from_numpy(gt.spectral.adjacency(gf).toarray()).type(torch.FloatTensor).unsqueeze(0))"
   ]
  },
  {
   "cell_type": "code",
   "execution_count": 11,
   "id": "5126b154-a2b2-45f8-bfb9-f06003bfd48f",
   "metadata": {
    "tags": []
   },
   "outputs": [
    {
     "data": {
      "text/plain": [
       "0.0013104446"
      ]
     },
     "execution_count": 11,
     "metadata": {},
     "output_type": "execute_result"
    }
   ],
   "source": [
    "np.mean([np.mean(na.numpy()) for na in nonco_adj])"
   ]
  },
  {
   "cell_type": "code",
   "execution_count": 12,
   "id": "9713025f-7ba3-477c-b421-8a8736f078f7",
   "metadata": {},
   "outputs": [],
   "source": [
    "onco_res = []\n",
    "for i in range(len(onco_adj)):\n",
    "    with torch.no_grad():\n",
    "        onco_res.append(trial_now.state[\"model\"].encoder.forward(onco_adj[i].unsqueeze(0))[0].detach().numpy())"
   ]
  },
  {
   "cell_type": "code",
   "execution_count": 13,
   "id": "afe940f4-b9ef-4ac2-b22c-d259d7b2c50f",
   "metadata": {},
   "outputs": [],
   "source": [
    "nonco_res = []\n",
    "for i in range(len(nonco_adj)):\n",
    "    with torch.no_grad():\n",
    "        nonco_res.append(trial_now.state[\"model\"].encoder.forward(nonco_adj[i].unsqueeze(0))[0].detach().numpy())"
   ]
  },
  {
   "cell_type": "code",
   "execution_count": 14,
   "id": "8a23fe35-ddaa-41ee-b0ad-b9cfb9ed6f6b",
   "metadata": {
    "tags": []
   },
   "outputs": [],
   "source": [
    "import umap"
   ]
  },
  {
   "cell_type": "code",
   "execution_count": 32,
   "id": "65502ad8-0a57-4ff6-8bc5-092ba83a9104",
   "metadata": {
    "tags": []
   },
   "outputs": [],
   "source": [
    "reducer = umap.UMAP(random_state=47)\n",
    "data_all = np.concatenate([nonco_res, onco_res])\n",
    "embedding = reducer.fit_transform(data_all)\n"
   ]
  },
  {
   "cell_type": "code",
   "execution_count": 33,
   "id": "7b872c42-597b-476f-8a54-96c8bc9555a2",
   "metadata": {
    "tags": []
   },
   "outputs": [
    {
     "data": {
      "text/plain": [
       "8"
      ]
     },
     "execution_count": 33,
     "metadata": {},
     "output_type": "execute_result"
    }
   ],
   "source": [
    "len(onco_res)"
   ]
  },
  {
   "cell_type": "code",
   "execution_count": 34,
   "id": "23e4d66d-ca28-4c5f-9fec-10e90dcb4708",
   "metadata": {
    "tags": []
   },
   "outputs": [],
   "source": [
    "colors = ([\"red\"]*len(nonco_res))+([\"navy\"]*len(onco_res))"
   ]
  },
  {
   "cell_type": "code",
   "execution_count": 35,
   "id": "bb1b17e3-dbb5-4c72-a475-f7d6a850e24b",
   "metadata": {
    "tags": []
   },
   "outputs": [
    {
     "data": {
      "text/plain": [
       "(array([ 0,  2,  4, 14, 16, 20, 24, 25, 26, 30, 31, 33, 34, 36, 37, 39, 41,\n",
       "        42, 44, 47, 50, 52, 54, 55, 57, 60, 62, 63, 64, 65, 66, 67, 68, 69]),)"
      ]
     },
     "execution_count": 35,
     "metadata": {},
     "output_type": "execute_result"
    }
   ],
   "source": [
    "np.where(embedding[:,1]<0)"
   ]
  },
  {
   "cell_type": "code",
   "execution_count": 36,
   "id": "35cdda00-eb82-42cc-bdfc-c504124dac8f",
   "metadata": {
    "tags": []
   },
   "outputs": [],
   "source": [
    "labels = np.concatenate([os.listdir(\"../Data/data_STRING/coexpr_vir/nonco/\"),os.listdir(\"../Data/data_STRING/coexpr_vir/onco/\")])"
   ]
  },
  {
   "cell_type": "code",
   "execution_count": 37,
   "id": "d7678fa2-6b0f-434f-b170-d9d60d45e75e",
   "metadata": {
    "tags": []
   },
   "outputs": [
    {
     "data": {
      "text/plain": [
       "<matplotlib.collections.PathCollection at 0x7f45e9d33520>"
      ]
     },
     "execution_count": 37,
     "metadata": {},
     "output_type": "execute_result"
    },
    {
     "data": {
      "image/png": "[encoded data removed]",
      "text/plain": [
       "<Figure size 640x480 with 1 Axes>"
      ]
     },
     "metadata": {},
     "output_type": "display_data"
    }
   ],
   "source": [
    "plt.scatter(embedding[:,0],embedding[:,1], color=colors)"
   ]
  },
  {
   "cell_type": "code",
   "execution_count": 26,
   "id": "170eb7bf-2812-4a97-87c5-9cd6b75c9c98",
   "metadata": {
    "tags": []
   },
   "outputs": [],
   "source": [
    "import scipy as sp"
   ]
  },
  {
   "cell_type": "code",
   "execution_count": 31,
   "id": "4cd905fa-34d3-4361-b5f5-480ea05c38ff",
   "metadata": {
    "tags": []
   },
   "outputs": [
    {
     "data": {
      "image/png": "[encoded data removed]",
      "text/plain": [
       "<Figure size 1200x700 with 1 Axes>"
      ]
     },
     "metadata": {},
     "output_type": "display_data"
    }
   ],
   "source": [
    "plt.figure(figsize=(12,7))\n",
    "Z=sp.cluster.hierarchy.linkage(data_all)\n",
    "dend = sp.cluster.hierarchy.dendrogram(Z)\n",
    "plt.tick_params(axis=\"x\", color=\"r\")\n",
    "plt.show()"
   ]
  },
  {
   "cell_type": "code",
   "execution_count": 42,
   "id": "4f27d31b-c1a0-4c11-a3e4-cd61d84eacbf",
   "metadata": {},
   "outputs": [
    {
     "ename": "AttributeError",
     "evalue": "QuadMesh.set() got an unexpected keyword argument 'set_ytick'",
     "output_type": "error",
     "traceback": [
      "\u001b[0;31m---------------------------------------------------------------------------\u001b[0m",
      "\u001b[0;31mAttributeError\u001b[0m                            Traceback (most recent call last)",
      "Cell \u001b[0;32mIn[42], line 1\u001b[0m\n\u001b[0;32m----> 1\u001b[0m \u001b[43msns\u001b[49m\u001b[38;5;241;43m.\u001b[39;49m\u001b[43mclustermap\u001b[49m\u001b[43m(\u001b[49m\u001b[43mdata_all\u001b[49m\u001b[43m,\u001b[49m\u001b[43m \u001b[49m\u001b[43mset_ytick\u001b[49m\u001b[38;5;241;43m=\u001b[39;49m\u001b[43mnp\u001b[49m\u001b[38;5;241;43m.\u001b[39;49m\u001b[43marange\u001b[49m\u001b[43m(\u001b[49m\u001b[38;5;28;43mlen\u001b[39;49m\u001b[43m(\u001b[49m\u001b[43mdata_all\u001b[49m\u001b[43m)\u001b[49m\u001b[43m)\u001b[49m\u001b[43m)\u001b[49m\n\u001b[1;32m      2\u001b[0m \u001b[38;5;66;03m#plt.yticks()\u001b[39;00m\n\u001b[1;32m      3\u001b[0m plt\u001b[38;5;241m.\u001b[39mshow()\n",
      "File \u001b[0;32m~/miniconda3/lib/python3.10/site-packages/seaborn/matrix.py:1258\u001b[0m, in \u001b[0;36mclustermap\u001b[0;34m(data, pivot_kws, method, metric, z_score, standard_scale, figsize, cbar_kws, row_cluster, col_cluster, row_linkage, col_linkage, row_colors, col_colors, mask, dendrogram_ratio, colors_ratio, cbar_pos, tree_kws, **kwargs)\u001b[0m\n\u001b[1;32m   1250\u001b[0m     \u001b[38;5;28;01mraise\u001b[39;00m \u001b[38;5;167;01mRuntimeError\u001b[39;00m(\u001b[38;5;124m\"\u001b[39m\u001b[38;5;124mclustermap requires scipy to be available\u001b[39m\u001b[38;5;124m\"\u001b[39m)\n\u001b[1;32m   1252\u001b[0m plotter \u001b[38;5;241m=\u001b[39m ClusterGrid(data, pivot_kws\u001b[38;5;241m=\u001b[39mpivot_kws, figsize\u001b[38;5;241m=\u001b[39mfigsize,\n\u001b[1;32m   1253\u001b[0m                       row_colors\u001b[38;5;241m=\u001b[39mrow_colors, col_colors\u001b[38;5;241m=\u001b[39mcol_colors,\n\u001b[1;32m   1254\u001b[0m                       z_score\u001b[38;5;241m=\u001b[39mz_score, standard_scale\u001b[38;5;241m=\u001b[39mstandard_scale,\n\u001b[1;32m   1255\u001b[0m                       mask\u001b[38;5;241m=\u001b[39mmask, dendrogram_ratio\u001b[38;5;241m=\u001b[39mdendrogram_ratio,\n\u001b[1;32m   1256\u001b[0m                       colors_ratio\u001b[38;5;241m=\u001b[39mcolors_ratio, cbar_pos\u001b[38;5;241m=\u001b[39mcbar_pos)\n\u001b[0;32m-> 1258\u001b[0m \u001b[38;5;28;01mreturn\u001b[39;00m \u001b[43mplotter\u001b[49m\u001b[38;5;241;43m.\u001b[39;49m\u001b[43mplot\u001b[49m\u001b[43m(\u001b[49m\u001b[43mmetric\u001b[49m\u001b[38;5;241;43m=\u001b[39;49m\u001b[43mmetric\u001b[49m\u001b[43m,\u001b[49m\u001b[43m \u001b[49m\u001b[43mmethod\u001b[49m\u001b[38;5;241;43m=\u001b[39;49m\u001b[43mmethod\u001b[49m\u001b[43m,\u001b[49m\n\u001b[1;32m   1259\u001b[0m \u001b[43m                    \u001b[49m\u001b[43mcolorbar_kws\u001b[49m\u001b[38;5;241;43m=\u001b[39;49m\u001b[43mcbar_kws\u001b[49m\u001b[43m,\u001b[49m\n\u001b[1;32m   1260\u001b[0m \u001b[43m                    \u001b[49m\u001b[43mrow_cluster\u001b[49m\u001b[38;5;241;43m=\u001b[39;49m\u001b[43mrow_cluster\u001b[49m\u001b[43m,\u001b[49m\u001b[43m \u001b[49m\u001b[43mcol_cluster\u001b[49m\u001b[38;5;241;43m=\u001b[39;49m\u001b[43mcol_cluster\u001b[49m\u001b[43m,\u001b[49m\n\u001b[1;32m   1261\u001b[0m \u001b[43m                    \u001b[49m\u001b[43mrow_linkage\u001b[49m\u001b[38;5;241;43m=\u001b[39;49m\u001b[43mrow_linkage\u001b[49m\u001b[43m,\u001b[49m\u001b[43m \u001b[49m\u001b[43mcol_linkage\u001b[49m\u001b[38;5;241;43m=\u001b[39;49m\u001b[43mcol_linkage\u001b[49m\u001b[43m,\u001b[49m\n\u001b[1;32m   1262\u001b[0m \u001b[43m                    \u001b[49m\u001b[43mtree_kws\u001b[49m\u001b[38;5;241;43m=\u001b[39;49m\u001b[43mtree_kws\u001b[49m\u001b[43m,\u001b[49m\u001b[43m \u001b[49m\u001b[38;5;241;43m*\u001b[39;49m\u001b[38;5;241;43m*\u001b[39;49m\u001b[43mkwargs\u001b[49m\u001b[43m)\u001b[49m\n",
      "File \u001b[0;32m~/miniconda3/lib/python3.10/site-packages/seaborn/matrix.py:1142\u001b[0m, in \u001b[0;36mClusterGrid.plot\u001b[0;34m(self, metric, method, colorbar_kws, row_cluster, col_cluster, row_linkage, col_linkage, tree_kws, **kws)\u001b[0m\n\u001b[1;32m   1139\u001b[0m     yind \u001b[38;5;241m=\u001b[39m np\u001b[38;5;241m.\u001b[39marange(\u001b[38;5;28mself\u001b[39m\u001b[38;5;241m.\u001b[39mdata2d\u001b[38;5;241m.\u001b[39mshape[\u001b[38;5;241m0\u001b[39m])\n\u001b[1;32m   1141\u001b[0m \u001b[38;5;28mself\u001b[39m\u001b[38;5;241m.\u001b[39mplot_colors(xind, yind, \u001b[38;5;241m*\u001b[39m\u001b[38;5;241m*\u001b[39mkws)\n\u001b[0;32m-> 1142\u001b[0m \u001b[38;5;28;43mself\u001b[39;49m\u001b[38;5;241;43m.\u001b[39;49m\u001b[43mplot_matrix\u001b[49m\u001b[43m(\u001b[49m\u001b[43mcolorbar_kws\u001b[49m\u001b[43m,\u001b[49m\u001b[43m \u001b[49m\u001b[43mxind\u001b[49m\u001b[43m,\u001b[49m\u001b[43m \u001b[49m\u001b[43myind\u001b[49m\u001b[43m,\u001b[49m\u001b[43m \u001b[49m\u001b[38;5;241;43m*\u001b[39;49m\u001b[38;5;241;43m*\u001b[39;49m\u001b[43mkws\u001b[49m\u001b[43m)\u001b[49m\n\u001b[1;32m   1143\u001b[0m \u001b[38;5;28;01mreturn\u001b[39;00m \u001b[38;5;28mself\u001b[39m\n",
      "File \u001b[0;32m~/miniconda3/lib/python3.10/site-packages/seaborn/matrix.py:1093\u001b[0m, in \u001b[0;36mClusterGrid.plot_matrix\u001b[0;34m(self, colorbar_kws, xind, yind, **kws)\u001b[0m\n\u001b[1;32m   1091\u001b[0m \u001b[38;5;66;03m# Setting ax_cbar=None in clustermap call implies no colorbar\u001b[39;00m\n\u001b[1;32m   1092\u001b[0m kws\u001b[38;5;241m.\u001b[39msetdefault(\u001b[38;5;124m\"\u001b[39m\u001b[38;5;124mcbar\u001b[39m\u001b[38;5;124m\"\u001b[39m, \u001b[38;5;28mself\u001b[39m\u001b[38;5;241m.\u001b[39max_cbar \u001b[38;5;129;01mis\u001b[39;00m \u001b[38;5;129;01mnot\u001b[39;00m \u001b[38;5;28;01mNone\u001b[39;00m)\n\u001b[0;32m-> 1093\u001b[0m \u001b[43mheatmap\u001b[49m\u001b[43m(\u001b[49m\u001b[38;5;28;43mself\u001b[39;49m\u001b[38;5;241;43m.\u001b[39;49m\u001b[43mdata2d\u001b[49m\u001b[43m,\u001b[49m\u001b[43m \u001b[49m\u001b[43max\u001b[49m\u001b[38;5;241;43m=\u001b[39;49m\u001b[38;5;28;43mself\u001b[39;49m\u001b[38;5;241;43m.\u001b[39;49m\u001b[43max_heatmap\u001b[49m\u001b[43m,\u001b[49m\u001b[43m \u001b[49m\u001b[43mcbar_ax\u001b[49m\u001b[38;5;241;43m=\u001b[39;49m\u001b[38;5;28;43mself\u001b[39;49m\u001b[38;5;241;43m.\u001b[39;49m\u001b[43max_cbar\u001b[49m\u001b[43m,\u001b[49m\n\u001b[1;32m   1094\u001b[0m \u001b[43m        \u001b[49m\u001b[43mcbar_kws\u001b[49m\u001b[38;5;241;43m=\u001b[39;49m\u001b[43mcolorbar_kws\u001b[49m\u001b[43m,\u001b[49m\u001b[43m \u001b[49m\u001b[43mmask\u001b[49m\u001b[38;5;241;43m=\u001b[39;49m\u001b[38;5;28;43mself\u001b[39;49m\u001b[38;5;241;43m.\u001b[39;49m\u001b[43mmask\u001b[49m\u001b[43m,\u001b[49m\n\u001b[1;32m   1095\u001b[0m \u001b[43m        \u001b[49m\u001b[43mxticklabels\u001b[49m\u001b[38;5;241;43m=\u001b[39;49m\u001b[43mxtl\u001b[49m\u001b[43m,\u001b[49m\u001b[43m \u001b[49m\u001b[43myticklabels\u001b[49m\u001b[38;5;241;43m=\u001b[39;49m\u001b[43mytl\u001b[49m\u001b[43m,\u001b[49m\u001b[43m \u001b[49m\u001b[43mannot\u001b[49m\u001b[38;5;241;43m=\u001b[39;49m\u001b[43mannot\u001b[49m\u001b[43m,\u001b[49m\u001b[43m \u001b[49m\u001b[38;5;241;43m*\u001b[39;49m\u001b[38;5;241;43m*\u001b[39;49m\u001b[43mkws\u001b[49m\u001b[43m)\u001b[49m\n\u001b[1;32m   1097\u001b[0m ytl \u001b[38;5;241m=\u001b[39m \u001b[38;5;28mself\u001b[39m\u001b[38;5;241m.\u001b[39max_heatmap\u001b[38;5;241m.\u001b[39mget_yticklabels()\n\u001b[1;32m   1098\u001b[0m ytl_rot \u001b[38;5;241m=\u001b[39m \u001b[38;5;28;01mNone\u001b[39;00m \u001b[38;5;28;01mif\u001b[39;00m \u001b[38;5;129;01mnot\u001b[39;00m ytl \u001b[38;5;28;01melse\u001b[39;00m ytl[\u001b[38;5;241m0\u001b[39m]\u001b[38;5;241m.\u001b[39mget_rotation()\n",
      "File \u001b[0;32m~/miniconda3/lib/python3.10/site-packages/seaborn/matrix.py:459\u001b[0m, in \u001b[0;36mheatmap\u001b[0;34m(data, vmin, vmax, cmap, center, robust, annot, fmt, annot_kws, linewidths, linecolor, cbar, cbar_kws, cbar_ax, square, xticklabels, yticklabels, mask, ax, **kwargs)\u001b[0m\n\u001b[1;32m    457\u001b[0m \u001b[38;5;28;01mif\u001b[39;00m square:\n\u001b[1;32m    458\u001b[0m     ax\u001b[38;5;241m.\u001b[39mset_aspect(\u001b[38;5;124m\"\u001b[39m\u001b[38;5;124mequal\u001b[39m\u001b[38;5;124m\"\u001b[39m)\n\u001b[0;32m--> 459\u001b[0m \u001b[43mplotter\u001b[49m\u001b[38;5;241;43m.\u001b[39;49m\u001b[43mplot\u001b[49m\u001b[43m(\u001b[49m\u001b[43max\u001b[49m\u001b[43m,\u001b[49m\u001b[43m \u001b[49m\u001b[43mcbar_ax\u001b[49m\u001b[43m,\u001b[49m\u001b[43m \u001b[49m\u001b[43mkwargs\u001b[49m\u001b[43m)\u001b[49m\n\u001b[1;32m    460\u001b[0m \u001b[38;5;28;01mreturn\u001b[39;00m ax\n",
      "File \u001b[0;32m~/miniconda3/lib/python3.10/site-packages/seaborn/matrix.py:306\u001b[0m, in \u001b[0;36m_HeatMapper.plot\u001b[0;34m(self, ax, cax, kws)\u001b[0m\n\u001b[1;32m    303\u001b[0m     kws\u001b[38;5;241m.\u001b[39msetdefault(\u001b[38;5;124m\"\u001b[39m\u001b[38;5;124mvmax\u001b[39m\u001b[38;5;124m\"\u001b[39m, \u001b[38;5;28mself\u001b[39m\u001b[38;5;241m.\u001b[39mvmax)\n\u001b[1;32m    305\u001b[0m \u001b[38;5;66;03m# Draw the heatmap\u001b[39;00m\n\u001b[0;32m--> 306\u001b[0m mesh \u001b[38;5;241m=\u001b[39m \u001b[43max\u001b[49m\u001b[38;5;241;43m.\u001b[39;49m\u001b[43mpcolormesh\u001b[49m\u001b[43m(\u001b[49m\u001b[38;5;28;43mself\u001b[39;49m\u001b[38;5;241;43m.\u001b[39;49m\u001b[43mplot_data\u001b[49m\u001b[43m,\u001b[49m\u001b[43m \u001b[49m\u001b[43mcmap\u001b[49m\u001b[38;5;241;43m=\u001b[39;49m\u001b[38;5;28;43mself\u001b[39;49m\u001b[38;5;241;43m.\u001b[39;49m\u001b[43mcmap\u001b[49m\u001b[43m,\u001b[49m\u001b[43m \u001b[49m\u001b[38;5;241;43m*\u001b[39;49m\u001b[38;5;241;43m*\u001b[39;49m\u001b[43mkws\u001b[49m\u001b[43m)\u001b[49m\n\u001b[1;32m    308\u001b[0m \u001b[38;5;66;03m# Set the axis limits\u001b[39;00m\n\u001b[1;32m    309\u001b[0m ax\u001b[38;5;241m.\u001b[39mset(xlim\u001b[38;5;241m=\u001b[39m(\u001b[38;5;241m0\u001b[39m, \u001b[38;5;28mself\u001b[39m\u001b[38;5;241m.\u001b[39mdata\u001b[38;5;241m.\u001b[39mshape[\u001b[38;5;241m1\u001b[39m]), ylim\u001b[38;5;241m=\u001b[39m(\u001b[38;5;241m0\u001b[39m, \u001b[38;5;28mself\u001b[39m\u001b[38;5;241m.\u001b[39mdata\u001b[38;5;241m.\u001b[39mshape[\u001b[38;5;241m0\u001b[39m]))\n",
      "File \u001b[0;32m~/miniconda3/lib/python3.10/site-packages/matplotlib/__init__.py:1433\u001b[0m, in \u001b[0;36m_preprocess_data.<locals>.inner\u001b[0;34m(ax, data, *args, **kwargs)\u001b[0m\n\u001b[1;32m   1430\u001b[0m \u001b[38;5;129m@functools\u001b[39m\u001b[38;5;241m.\u001b[39mwraps(func)\n\u001b[1;32m   1431\u001b[0m \u001b[38;5;28;01mdef\u001b[39;00m \u001b[38;5;21minner\u001b[39m(ax, \u001b[38;5;241m*\u001b[39margs, data\u001b[38;5;241m=\u001b[39m\u001b[38;5;28;01mNone\u001b[39;00m, \u001b[38;5;241m*\u001b[39m\u001b[38;5;241m*\u001b[39mkwargs):\n\u001b[1;32m   1432\u001b[0m     \u001b[38;5;28;01mif\u001b[39;00m data \u001b[38;5;129;01mis\u001b[39;00m \u001b[38;5;28;01mNone\u001b[39;00m:\n\u001b[0;32m-> 1433\u001b[0m         \u001b[38;5;28;01mreturn\u001b[39;00m \u001b[43mfunc\u001b[49m\u001b[43m(\u001b[49m\u001b[43max\u001b[49m\u001b[43m,\u001b[49m\u001b[43m \u001b[49m\u001b[38;5;241;43m*\u001b[39;49m\u001b[38;5;28;43mmap\u001b[39;49m\u001b[43m(\u001b[49m\u001b[43msanitize_sequence\u001b[49m\u001b[43m,\u001b[49m\u001b[43m \u001b[49m\u001b[43margs\u001b[49m\u001b[43m)\u001b[49m\u001b[43m,\u001b[49m\u001b[43m \u001b[49m\u001b[38;5;241;43m*\u001b[39;49m\u001b[38;5;241;43m*\u001b[39;49m\u001b[43mkwargs\u001b[49m\u001b[43m)\u001b[49m\n\u001b[1;32m   1435\u001b[0m     bound \u001b[38;5;241m=\u001b[39m new_sig\u001b[38;5;241m.\u001b[39mbind(ax, \u001b[38;5;241m*\u001b[39margs, \u001b[38;5;241m*\u001b[39m\u001b[38;5;241m*\u001b[39mkwargs)\n\u001b[1;32m   1436\u001b[0m     auto_label \u001b[38;5;241m=\u001b[39m (bound\u001b[38;5;241m.\u001b[39marguments\u001b[38;5;241m.\u001b[39mget(label_namer)\n\u001b[1;32m   1437\u001b[0m                   \u001b[38;5;129;01mor\u001b[39;00m bound\u001b[38;5;241m.\u001b[39mkwargs\u001b[38;5;241m.\u001b[39mget(label_namer))\n",
      "File \u001b[0;32m~/miniconda3/lib/python3.10/site-packages/matplotlib/axes/_axes.py:6177\u001b[0m, in \u001b[0;36mAxes.pcolormesh\u001b[0;34m(self, alpha, norm, cmap, vmin, vmax, shading, antialiased, *args, **kwargs)\u001b[0m\n\u001b[1;32m   6173\u001b[0m C \u001b[38;5;241m=\u001b[39m C\u001b[38;5;241m.\u001b[39mravel()\n\u001b[1;32m   6175\u001b[0m kwargs\u001b[38;5;241m.\u001b[39msetdefault(\u001b[38;5;124m'\u001b[39m\u001b[38;5;124msnap\u001b[39m\u001b[38;5;124m'\u001b[39m, mpl\u001b[38;5;241m.\u001b[39mrcParams[\u001b[38;5;124m'\u001b[39m\u001b[38;5;124mpcolormesh.snap\u001b[39m\u001b[38;5;124m'\u001b[39m])\n\u001b[0;32m-> 6177\u001b[0m collection \u001b[38;5;241m=\u001b[39m \u001b[43mmcoll\u001b[49m\u001b[38;5;241;43m.\u001b[39;49m\u001b[43mQuadMesh\u001b[49m\u001b[43m(\u001b[49m\n\u001b[1;32m   6178\u001b[0m \u001b[43m    \u001b[49m\u001b[43mcoords\u001b[49m\u001b[43m,\u001b[49m\u001b[43m \u001b[49m\u001b[43mantialiased\u001b[49m\u001b[38;5;241;43m=\u001b[39;49m\u001b[43mantialiased\u001b[49m\u001b[43m,\u001b[49m\u001b[43m \u001b[49m\u001b[43mshading\u001b[49m\u001b[38;5;241;43m=\u001b[39;49m\u001b[43mshading\u001b[49m\u001b[43m,\u001b[49m\n\u001b[1;32m   6179\u001b[0m \u001b[43m    \u001b[49m\u001b[43marray\u001b[49m\u001b[38;5;241;43m=\u001b[39;49m\u001b[43mC\u001b[49m\u001b[43m,\u001b[49m\u001b[43m \u001b[49m\u001b[43mcmap\u001b[49m\u001b[38;5;241;43m=\u001b[39;49m\u001b[43mcmap\u001b[49m\u001b[43m,\u001b[49m\u001b[43m \u001b[49m\u001b[43mnorm\u001b[49m\u001b[38;5;241;43m=\u001b[39;49m\u001b[43mnorm\u001b[49m\u001b[43m,\u001b[49m\u001b[43m \u001b[49m\u001b[43malpha\u001b[49m\u001b[38;5;241;43m=\u001b[39;49m\u001b[43malpha\u001b[49m\u001b[43m,\u001b[49m\u001b[43m \u001b[49m\u001b[38;5;241;43m*\u001b[39;49m\u001b[38;5;241;43m*\u001b[39;49m\u001b[43mkwargs\u001b[49m\u001b[43m)\u001b[49m\n\u001b[1;32m   6180\u001b[0m collection\u001b[38;5;241m.\u001b[39m_scale_norm(norm, vmin, vmax)\n\u001b[1;32m   6181\u001b[0m \u001b[38;5;28mself\u001b[39m\u001b[38;5;241m.\u001b[39m_pcolor_grid_deprecation_helper()\n",
      "File \u001b[0;32m~/miniconda3/lib/python3.10/site-packages/matplotlib/collections.py:1988\u001b[0m, in \u001b[0;36mQuadMesh.__init__\u001b[0;34m(self, *args, **kwargs)\u001b[0m\n\u001b[1;32m   1985\u001b[0m \u001b[38;5;28mself\u001b[39m\u001b[38;5;241m.\u001b[39m_bbox\u001b[38;5;241m.\u001b[39mupdate_from_data_xy(\u001b[38;5;28mself\u001b[39m\u001b[38;5;241m.\u001b[39m_coordinates\u001b[38;5;241m.\u001b[39mreshape(\u001b[38;5;241m-\u001b[39m\u001b[38;5;241m1\u001b[39m, \u001b[38;5;241m2\u001b[39m))\n\u001b[1;32m   1986\u001b[0m \u001b[38;5;66;03m# super init delayed after own init because array kwarg requires\u001b[39;00m\n\u001b[1;32m   1987\u001b[0m \u001b[38;5;66;03m# self._coordinates and self._shading\u001b[39;00m\n\u001b[0;32m-> 1988\u001b[0m \u001b[38;5;28;43msuper\u001b[39;49m\u001b[43m(\u001b[49m\u001b[43m)\u001b[49m\u001b[38;5;241;43m.\u001b[39;49m\u001b[38;5;21;43m__init__\u001b[39;49m\u001b[43m(\u001b[49m\u001b[38;5;241;43m*\u001b[39;49m\u001b[38;5;241;43m*\u001b[39;49m\u001b[43mkwargs\u001b[49m\u001b[43m)\u001b[49m\n\u001b[1;32m   1989\u001b[0m \u001b[38;5;28mself\u001b[39m\u001b[38;5;241m.\u001b[39mset_mouseover(\u001b[38;5;28;01mFalse\u001b[39;00m)\n",
      "File \u001b[0;32m~/miniconda3/lib/python3.10/site-packages/matplotlib/_api/deprecation.py:454\u001b[0m, in \u001b[0;36mmake_keyword_only.<locals>.wrapper\u001b[0;34m(*args, **kwargs)\u001b[0m\n\u001b[1;32m    448\u001b[0m \u001b[38;5;28;01mif\u001b[39;00m \u001b[38;5;28mlen\u001b[39m(args) \u001b[38;5;241m>\u001b[39m name_idx:\n\u001b[1;32m    449\u001b[0m     warn_deprecated(\n\u001b[1;32m    450\u001b[0m         since, message\u001b[38;5;241m=\u001b[39m\u001b[38;5;124m\"\u001b[39m\u001b[38;5;124mPassing the \u001b[39m\u001b[38;5;132;01m%(name)s\u001b[39;00m\u001b[38;5;124m \u001b[39m\u001b[38;5;132;01m%(obj_type)s\u001b[39;00m\u001b[38;5;124m \u001b[39m\u001b[38;5;124m\"\u001b[39m\n\u001b[1;32m    451\u001b[0m         \u001b[38;5;124m\"\u001b[39m\u001b[38;5;124mpositionally is deprecated since Matplotlib \u001b[39m\u001b[38;5;132;01m%(since)s\u001b[39;00m\u001b[38;5;124m; the \u001b[39m\u001b[38;5;124m\"\u001b[39m\n\u001b[1;32m    452\u001b[0m         \u001b[38;5;124m\"\u001b[39m\u001b[38;5;124mparameter will become keyword-only \u001b[39m\u001b[38;5;132;01m%(removal)s\u001b[39;00m\u001b[38;5;124m.\u001b[39m\u001b[38;5;124m\"\u001b[39m,\n\u001b[1;32m    453\u001b[0m         name\u001b[38;5;241m=\u001b[39mname, obj_type\u001b[38;5;241m=\u001b[39m\u001b[38;5;124mf\u001b[39m\u001b[38;5;124m\"\u001b[39m\u001b[38;5;124mparameter of \u001b[39m\u001b[38;5;132;01m{\u001b[39;00mfunc\u001b[38;5;241m.\u001b[39m\u001b[38;5;18m__name__\u001b[39m\u001b[38;5;132;01m}\u001b[39;00m\u001b[38;5;124m()\u001b[39m\u001b[38;5;124m\"\u001b[39m)\n\u001b[0;32m--> 454\u001b[0m \u001b[38;5;28;01mreturn\u001b[39;00m \u001b[43mfunc\u001b[49m\u001b[43m(\u001b[49m\u001b[38;5;241;43m*\u001b[39;49m\u001b[43margs\u001b[49m\u001b[43m,\u001b[49m\u001b[43m \u001b[49m\u001b[38;5;241;43m*\u001b[39;49m\u001b[38;5;241;43m*\u001b[39;49m\u001b[43mkwargs\u001b[49m\u001b[43m)\u001b[49m\n",
      "File \u001b[0;32m~/miniconda3/lib/python3.10/site-packages/matplotlib/collections.py:202\u001b[0m, in \u001b[0;36mCollection.__init__\u001b[0;34m(self, edgecolors, facecolors, linewidths, linestyles, capstyle, joinstyle, antialiaseds, offsets, offset_transform, norm, cmap, pickradius, hatch, urls, zorder, **kwargs)\u001b[0m\n\u001b[1;32m    199\u001b[0m \u001b[38;5;28mself\u001b[39m\u001b[38;5;241m.\u001b[39m_offset_transform \u001b[38;5;241m=\u001b[39m offset_transform\n\u001b[1;32m    201\u001b[0m \u001b[38;5;28mself\u001b[39m\u001b[38;5;241m.\u001b[39m_path_effects \u001b[38;5;241m=\u001b[39m \u001b[38;5;28;01mNone\u001b[39;00m\n\u001b[0;32m--> 202\u001b[0m \u001b[38;5;28;43mself\u001b[39;49m\u001b[38;5;241;43m.\u001b[39;49m\u001b[43m_internal_update\u001b[49m\u001b[43m(\u001b[49m\u001b[43mkwargs\u001b[49m\u001b[43m)\u001b[49m\n\u001b[1;32m    203\u001b[0m \u001b[38;5;28mself\u001b[39m\u001b[38;5;241m.\u001b[39m_paths \u001b[38;5;241m=\u001b[39m \u001b[38;5;28;01mNone\u001b[39;00m\n",
      "File \u001b[0;32m~/miniconda3/lib/python3.10/site-packages/matplotlib/artist.py:1186\u001b[0m, in \u001b[0;36mArtist._internal_update\u001b[0;34m(self, kwargs)\u001b[0m\n\u001b[1;32m   1179\u001b[0m \u001b[38;5;28;01mdef\u001b[39;00m \u001b[38;5;21m_internal_update\u001b[39m(\u001b[38;5;28mself\u001b[39m, kwargs):\n\u001b[1;32m   1180\u001b[0m \u001b[38;5;250m    \u001b[39m\u001b[38;5;124;03m\"\"\"\u001b[39;00m\n\u001b[1;32m   1181\u001b[0m \u001b[38;5;124;03m    Update artist properties without prenormalizing them, but generating\u001b[39;00m\n\u001b[1;32m   1182\u001b[0m \u001b[38;5;124;03m    errors as if calling `set`.\u001b[39;00m\n\u001b[1;32m   1183\u001b[0m \n\u001b[1;32m   1184\u001b[0m \u001b[38;5;124;03m    The lack of prenormalization is to maintain backcompatibility.\u001b[39;00m\n\u001b[1;32m   1185\u001b[0m \u001b[38;5;124;03m    \"\"\"\u001b[39;00m\n\u001b[0;32m-> 1186\u001b[0m     \u001b[38;5;28;01mreturn\u001b[39;00m \u001b[38;5;28;43mself\u001b[39;49m\u001b[38;5;241;43m.\u001b[39;49m\u001b[43m_update_props\u001b[49m\u001b[43m(\u001b[49m\n\u001b[1;32m   1187\u001b[0m \u001b[43m        \u001b[49m\u001b[43mkwargs\u001b[49m\u001b[43m,\u001b[49m\u001b[43m \u001b[49m\u001b[38;5;124;43m\"\u001b[39;49m\u001b[38;5;132;43;01m{cls.__name__}\u001b[39;49;00m\u001b[38;5;124;43m.set() got an unexpected keyword argument \u001b[39;49m\u001b[38;5;124;43m\"\u001b[39;49m\n\u001b[1;32m   1188\u001b[0m \u001b[43m        \u001b[49m\u001b[38;5;124;43m\"\u001b[39;49m\u001b[38;5;132;43;01m{prop_name!r}\u001b[39;49;00m\u001b[38;5;124;43m\"\u001b[39;49m\u001b[43m)\u001b[49m\n",
      "File \u001b[0;32m~/miniconda3/lib/python3.10/site-packages/matplotlib/artist.py:1160\u001b[0m, in \u001b[0;36mArtist._update_props\u001b[0;34m(self, props, errfmt)\u001b[0m\n\u001b[1;32m   1158\u001b[0m             func \u001b[38;5;241m=\u001b[39m \u001b[38;5;28mgetattr\u001b[39m(\u001b[38;5;28mself\u001b[39m, \u001b[38;5;124mf\u001b[39m\u001b[38;5;124m\"\u001b[39m\u001b[38;5;124mset_\u001b[39m\u001b[38;5;132;01m{\u001b[39;00mk\u001b[38;5;132;01m}\u001b[39;00m\u001b[38;5;124m\"\u001b[39m, \u001b[38;5;28;01mNone\u001b[39;00m)\n\u001b[1;32m   1159\u001b[0m             \u001b[38;5;28;01mif\u001b[39;00m \u001b[38;5;129;01mnot\u001b[39;00m callable(func):\n\u001b[0;32m-> 1160\u001b[0m                 \u001b[38;5;28;01mraise\u001b[39;00m \u001b[38;5;167;01mAttributeError\u001b[39;00m(\n\u001b[1;32m   1161\u001b[0m                     errfmt\u001b[38;5;241m.\u001b[39mformat(\u001b[38;5;28mcls\u001b[39m\u001b[38;5;241m=\u001b[39m\u001b[38;5;28mtype\u001b[39m(\u001b[38;5;28mself\u001b[39m), prop_name\u001b[38;5;241m=\u001b[39mk))\n\u001b[1;32m   1162\u001b[0m             ret\u001b[38;5;241m.\u001b[39mappend(func(v))\n\u001b[1;32m   1163\u001b[0m \u001b[38;5;28;01mif\u001b[39;00m ret:\n",
      "\u001b[0;31mAttributeError\u001b[0m: QuadMesh.set() got an unexpected keyword argument 'set_ytick'"
     ]
    },
    {
     "data": {
      "image/png": "[encoded data removed]",
      "text/plain": [
       "<Figure size 1000x1000 with 4 Axes>"
      ]
     },
     "metadata": {},
     "output_type": "display_data"
    }
   ],
   "source": [
    "sns.clustermap(data_all, set_ytick=np.arange(len(data_all)))\n",
    "#plt.yticks()\n",
    "plt.show()"
   ]
  }
 ],
 "metadata": {
  "kernelspec": {
   "display_name": "base",
   "language": "python",
   "name": "base"
  },
  "language_info": {
   "codemirror_mode": {
    "name": "ipython",
    "version": 3
   },
   "file_extension": ".py",
   "mimetype": "text/x-python",
   "name": "python",
   "nbconvert_exporter": "python",
   "pygments_lexer": "ipython3",
   "version": "3.10.9"
  }
 },
 "nbformat": 4,
 "nbformat_minor": 5
}
